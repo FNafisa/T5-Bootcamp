{
 "cells": [
  {
   "cell_type": "markdown",
   "metadata": {},
   "source": [
    "# CLT and LLN"
   ]
  },
  {
   "cell_type": "markdown",
   "metadata": {},
   "source": [
    "__Purpose:__ The purpose of this lecture is to understand Central Limit Theorem and Law of Large Numbers.\n",
    "\n",
    "__At the end of this lecture you will be able to:__\n",
    "> 1. Define the Central Limit Theoreom and Law of Large Numbers "
   ]
  },
  {
   "cell_type": "markdown",
   "metadata": {},
   "source": [
    "### 1.1.1 Central Limit Theorem:"
   ]
  },
  {
   "cell_type": "markdown",
   "metadata": {},
   "source": [
    "__Overview:__ \n",
    "- __[Central Limit Theorem](https://en.wikipedia.org/wiki/Central_limit_theorem):__ The Central Limit Theorem is a fundamental concept in Statistics and states that regardless of the original Probability Distribution, if you repeatedly sample from this distribution with sample size n (as n approaches infinity) and then plot the distribution of these sample means, your distribution will approach a Normal Distribution \n",
    "> - You can also take the sample sums and then plot the sample sums and the sampling distribution will approach a Normal Distribution\n",
    "> - As the sample size (n) grows, the distribution of the sample means will approach a more \"perfect\" Normal Distribution \n",
    "\n",
    "__Helpful Points:__\n",
    "1. We actually observed the Central Limit Theorem in the previous examples where the original distriution was Uniform and after plotting the sample means of 10,000 samples, the distribution looks very normal. This fact is true for any original distribution \n",
    "2. Although technically the \"perfect\" Normal Distribution is only achieved as n approaches infinity, it is sufficient to have a sample size of 5, 10, 25, etc. to achieve an \"almost perfect\" Normal Distribution \n",
    "\n",
    "__Practice:__ Examples of Central Limit Theorem "
   ]
  },
  {
   "cell_type": "code",
   "execution_count": null,
   "metadata": {},
   "outputs": [],
   "source": [
    "import numpy as np\n",
    "import pandas as pd\n",
    "from scipy import stats\n",
    "import seaborn as sns\n",
    "import math \n",
    "import random\n",
    "import matplotlib.pyplot as plt\n",
    "%matplotlib inline"
   ]
  },
  {
   "cell_type": "markdown",
   "metadata": {},
   "source": [
    "### Example 1 (Central Limit Theorem - from Exponential Distribution):"
   ]
  },
  {
   "cell_type": "code",
   "execution_count": null,
   "metadata": {},
   "outputs": [],
   "source": [
    "# simulate exponential distribution \n",
    "beta = 2\n",
    "num_samples = 100000\n",
    "exp_data = np.random.exponential(scale = beta, size = num_samples)\n",
    "exp_data[:10]"
   ]
  },
  {
   "cell_type": "code",
   "execution_count": null,
   "metadata": {},
   "outputs": [],
   "source": [
    "# make the data into a dataframe to use Pandas sample function \n",
    "exponential_data_df = pd.DataFrame(exp_data)\n",
    "exponential_data_df.columns = [\"Population Values\"]\n",
    "exponential_data_df.head(10)"
   ]
  },
  {
   "cell_type": "code",
   "execution_count": null,
   "metadata": {},
   "outputs": [],
   "source": [
    "exp_data.mean() # mu = beta = 2"
   ]
  },
  {
   "cell_type": "code",
   "execution_count": null,
   "metadata": {
    "scrolled": true
   },
   "outputs": [],
   "source": [
    "exp_data.var() # var = beta^2 = 4"
   ]
  },
  {
   "cell_type": "code",
   "execution_count": null,
   "metadata": {
    "scrolled": false
   },
   "outputs": [],
   "source": [
    "# plot the probability distribution \n",
    "sns.distplot(exp_data)"
   ]
  },
  {
   "cell_type": "code",
   "execution_count": null,
   "metadata": {},
   "outputs": [],
   "source": [
    "# re-initialize the function, but add in the sum and also allow any data to be passed in \n",
    "def sample_distr(n, num_iter, typ, dat):\n",
    "    sample_stats = []\n",
    "    for i in range(num_iter):\n",
    "        sample_i = dat.sample(n, replace = True)\n",
    "        if typ == \"mean\":\n",
    "            sample_i_stat = sample_i.mean()\n",
    "        elif typ == \"range\":\n",
    "            sample_i_stat = sample_i.max() - sample_i.min()\n",
    "        elif typ == \"median\":\n",
    "            sample_i_stat = sample_i.median()\n",
    "        elif typ == \"sum\":\n",
    "            sample_i_stat = sample_i.sum()\n",
    "        sample_stats.append(sample_i_stat)\n",
    "    return sample_stats"
   ]
  },
  {
   "cell_type": "markdown",
   "metadata": {},
   "source": [
    "### Example 1.1 (Sample size of 5, 10000 iterations):"
   ]
  },
  {
   "cell_type": "code",
   "execution_count": null,
   "metadata": {},
   "outputs": [],
   "source": [
    "distr_mean = sample_distr(5, 10000, \"mean\", exponential_data_df) # for mean"
   ]
  },
  {
   "cell_type": "code",
   "execution_count": null,
   "metadata": {
    "scrolled": true
   },
   "outputs": [],
   "source": [
    "sns.distplot(distr_mean) # sampling distribution of the sample mean "
   ]
  },
  {
   "cell_type": "markdown",
   "metadata": {},
   "source": [
    "We see that a sample size of 5 is not large enough to achieve a Normal Distribution of the Sample Means"
   ]
  },
  {
   "cell_type": "markdown",
   "metadata": {},
   "source": [
    "### Example 1.2 (Sample size of 15, 10000 iterations):"
   ]
  },
  {
   "cell_type": "code",
   "execution_count": null,
   "metadata": {},
   "outputs": [],
   "source": [
    "distr_mean = sample_distr(15, 10000, \"mean\", exponential_data_df) # for mean"
   ]
  },
  {
   "cell_type": "code",
   "execution_count": null,
   "metadata": {
    "scrolled": false
   },
   "outputs": [],
   "source": [
    "sns.distplot(distr_mean) # sampling distribution of the sample mean "
   ]
  },
  {
   "cell_type": "markdown",
   "metadata": {},
   "source": [
    "We see that the distribution is approaching a Normal Distribution, but still quite not there"
   ]
  },
  {
   "cell_type": "markdown",
   "metadata": {},
   "source": [
    "### Example 1.3 (Sample size of 30, 10000 iterations):"
   ]
  },
  {
   "cell_type": "code",
   "execution_count": null,
   "metadata": {},
   "outputs": [],
   "source": [
    "distr_mean = sample_distr(30, 10000, \"mean\", exponential_data_df) # for mean"
   ]
  },
  {
   "cell_type": "code",
   "execution_count": null,
   "metadata": {
    "scrolled": false
   },
   "outputs": [],
   "source": [
    "sns.distplot(distr_mean) # sampling distribution of the sample mean "
   ]
  },
  {
   "cell_type": "markdown",
   "metadata": {},
   "source": [
    "We see that the distribution is pretty close to a Normal Distribution"
   ]
  },
  {
   "cell_type": "markdown",
   "metadata": {},
   "source": [
    "### Example 1.3 (Sample size of 100, 10000 iterations):"
   ]
  },
  {
   "cell_type": "code",
   "execution_count": null,
   "metadata": {},
   "outputs": [],
   "source": [
    "distr_mean = sample_distr(100, 10000, \"mean\", exponential_data_df) # for mean"
   ]
  },
  {
   "cell_type": "code",
   "execution_count": null,
   "metadata": {
    "scrolled": false
   },
   "outputs": [],
   "source": [
    "sns.distplot(distr_mean) # sampling distribution of the sample mean "
   ]
  },
  {
   "cell_type": "markdown",
   "metadata": {},
   "source": [
    "We see that the distribution is now almost a \"perfect\" Normal Distribution"
   ]
  },
  {
   "cell_type": "code",
   "execution_count": null,
   "metadata": {},
   "outputs": [],
   "source": [
    "distr_sum = sample_distr(100, 10000, \"sum\", exponential_data_df) # for sum"
   ]
  },
  {
   "cell_type": "code",
   "execution_count": null,
   "metadata": {
    "scrolled": true
   },
   "outputs": [],
   "source": [
    "sns.distplot(distr_sum) # sampling distribution of the sample sum"
   ]
  },
  {
   "cell_type": "markdown",
   "metadata": {},
   "source": [
    "This property clearly works for the sample sum as well. This probability distribution shows the sampling distribution of the sample sums. "
   ]
  },
  {
   "cell_type": "markdown",
   "metadata": {},
   "source": [
    "### 1.1.2 Law of Large Numbers:"
   ]
  },
  {
   "cell_type": "markdown",
   "metadata": {},
   "source": [
    "__Overview:__ \n",
    "- __[Law of Large Numbers](https://en.wikipedia.org/wiki/Law_of_large_numbers):__ The Law of Large Numbers states that if you perform an experiment many, many times, the average of these results will approach the expected value of the distribution that was being sampled from or the population parameter \n",
    "> - For example, if you roll a die 5 times (n = 5) and average the numbers shown, record this number, then roll the die 10 times (n = 10) and average the numbers shown, record this number, etc. you will find that as you roll the die more times, the average of the numbers shown (as n approaches infinity), will approach the expected value (3.5 for a 6-sided die)\n",
    "\n",
    "__Helpful Points:__\n",
    "1. We can formulate the Law of Large Numbers in mathematical notation:\n",
    "If $X$ is a Random Variable with Expected Value $E[X]$, we can sample from its probability distribution with size n and average the values obtained: \n",
    "\n",
    "<center> $\\bar X_n = \\frac{x_1 + x_2 + ... + x_n}{n}$ </center> \n",
    "<center> $\\bar X_n \\Rightarrow E[X]$ (the sample mean will approach the Expected Value) </center>\n",
    "<center> $\\bar X_n \\Rightarrow \\mu$ (the sample mean will approach the Population Mean) </center>\n",
    "\n",
    "2. It should be intuitive that if the number of trials is large enough, you should obtain the expected value or population mean \n",
    "\n",
    "__Practice:__ Examples of the Law of Large Numbers in Python "
   ]
  },
  {
   "cell_type": "markdown",
   "metadata": {},
   "source": [
    "### Example 1 (Coin Toss):"
   ]
  },
  {
   "cell_type": "markdown",
   "metadata": {},
   "source": [
    "Let X be a Random Variable that denotes the number of tails after 1000 coin tosses, where the probability of tossing a tails is equal to 0.5. Therefore, the Expected Value is\n",
    "\n",
    "<center> $E[x] = np = (1000)(0.5) = 500$ </center>"
   ]
  },
  {
   "cell_type": "code",
   "execution_count": null,
   "metadata": {
    "scrolled": true
   },
   "outputs": [],
   "source": [
    "# function to perform an experiment n times, where each iteration involves tossing a coin 'num_tosses' number of times\n",
    "def coin_toss(n, num_tosses):\n",
    "    num_tails = []\n",
    "    for i in range(n):\n",
    "        flips = []\n",
    "        for j in range(num_tosses):\n",
    "            flip = random.randint(0, 1)\n",
    "            flips.append(flip)\n",
    "        num_tails.append(np.sum(flips))\n",
    "    \n",
    "    sample_mean = np.mean(num_tails)\n",
    "    return(sample_mean)"
   ]
  },
  {
   "cell_type": "code",
   "execution_count": null,
   "metadata": {},
   "outputs": [],
   "source": [
    "coin_toss(10, 1000)"
   ]
  },
  {
   "cell_type": "markdown",
   "metadata": {},
   "source": [
    "Performing the experiment 10 times gets us close to the expected value, but not quite"
   ]
  },
  {
   "cell_type": "code",
   "execution_count": null,
   "metadata": {},
   "outputs": [],
   "source": [
    "# note: will take a long time to run. Try with a smaller value of n (i.e. 100)\n",
    "res = []\n",
    "# collect the sample means for all number of trials from 1 to 1000\n",
    "for i in range(1,500):\n",
    "    res.append(coin_toss(i, 100))"
   ]
  },
  {
   "cell_type": "code",
   "execution_count": null,
   "metadata": {
    "scrolled": true
   },
   "outputs": [],
   "source": [
    "plt.plot(res)\n",
    "plt.xlabel(\"Number of trials\")\n",
    "plt.ylabel(\"Average\")"
   ]
  },
  {
   "cell_type": "markdown",
   "metadata": {},
   "source": [
    "We can see that as the number of trials increase, the sample average approaches the expected value."
   ]
  },
  {
   "cell_type": "markdown",
   "metadata": {},
   "source": [
    "### Example 2 (Die Roll):"
   ]
  },
  {
   "cell_type": "markdown",
   "metadata": {},
   "source": [
    "Let X be a Random Variable that denotes the value of a die roll after 1 toss, where the probability of tossing any given number is equal to 1/6. Therefore, the Expected Value is\n",
    "\n",
    "<center> $E[x] = (1)(1/6) + (2)(1/6) + (3)(1/6) + (4)(1/6) + (5)(1/6) + (6)(1/6) = 3.5$ </center>"
   ]
  },
  {
   "cell_type": "code",
   "execution_count": null,
   "metadata": {
    "scrolled": true
   },
   "outputs": [],
   "source": [
    "# function to perform an experiment n times, where each iteration involves rolling a die 1 time \n",
    "def die_roll(n, output = False):\n",
    "    rolls = []\n",
    "    for i in range(n):\n",
    "        roll = random.randint(1, 6)\n",
    "        rolls.append(roll)\n",
    "    \n",
    "    if output:\n",
    "        print(rolls)\n",
    "        \n",
    "    sample_mean = np.mean(rolls)\n",
    "    return(sample_mean)"
   ]
  },
  {
   "cell_type": "code",
   "execution_count": null,
   "metadata": {},
   "outputs": [],
   "source": [
    "die_roll(10, output = True)"
   ]
  },
  {
   "cell_type": "markdown",
   "metadata": {},
   "source": [
    "Performing the experiment 10 times gets us close to the expected value, but not quite"
   ]
  },
  {
   "cell_type": "code",
   "execution_count": null,
   "metadata": {},
   "outputs": [],
   "source": [
    "res = []\n",
    "# collect the sample means for all number of trials from 1 to 10000\n",
    "for i in range(1,1000):\n",
    "    res.append(die_roll(i))"
   ]
  },
  {
   "cell_type": "code",
   "execution_count": null,
   "metadata": {
    "scrolled": true
   },
   "outputs": [],
   "source": [
    "plt.plot(res)\n",
    "plt.xlabel(\"Number of trials\")\n",
    "plt.ylabel(\"Average\")"
   ]
  },
  {
   "cell_type": "markdown",
   "metadata": {},
   "source": [
    "We can see that as the number of trials increase, the sample average approaches the expected value."
   ]
  },
  {
   "cell_type": "markdown",
   "metadata": {},
   "source": [
    "NOTE: \n",
    "\n",
    "- Beware of the __[Gambler's Fallacy](https://en.wikipedia.org/wiki/Gambler%27s_fallacy):__ which is the mistaken belief that if something happens more frequently at a certain time, then it is bound to happen less frequently in the future \n",
    "- It may be easy to think that the Law of Large Numbers is true because in the beginning of the coin tosses if there are many instances of heads, for example, then the later coin tosses will inevitable be tails, making the overall result approach the Expected Value. This is not the case!  "
   ]
  }
 ],
 "metadata": {
  "kernelspec": {
   "display_name": "Python 3",
   "language": "python",
   "name": "python3"
  },
  "language_info": {
   "codemirror_mode": {
    "name": "ipython",
    "version": 3
   },
   "file_extension": ".py",
   "mimetype": "text/x-python",
   "name": "python",
   "nbconvert_exporter": "python",
   "pygments_lexer": "ipython3",
   "version": "3.8.6"
  },
  "toc": {
   "base_numbering": 1,
   "nav_menu": {},
   "number_sections": false,
   "sideBar": true,
   "skip_h1_title": false,
   "title_cell": "Table of Contents",
   "title_sidebar": "Contents",
   "toc_cell": false,
   "toc_position": {},
   "toc_section_display": true,
   "toc_window_display": true
  }
 },
 "nbformat": 4,
 "nbformat_minor": 2
}
