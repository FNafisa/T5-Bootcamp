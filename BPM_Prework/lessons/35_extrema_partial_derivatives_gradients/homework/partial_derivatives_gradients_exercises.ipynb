{
 "cells": [
  {
   "cell_type": "markdown",
   "metadata": {},
   "source": [
    "### Problem 1:\n",
    "\n",
    "Calculate the partial derivative ($\\frac{\\partial f(x,y)}{\\partial x}$ and $\\frac{\\partial f(x,y)}{\\partial y}$) and gradient for\n",
    "\n",
    "a) $f(x,y) = y^3x^2$\n",
    "\n",
    "b) $f(x,y) = x^2+2xy+y^2$\n",
    "\n",
    "c) $f(x,y) = xy^3 + x^2y^2$\n",
    "\n",
    "d) $f(x,y) = x^3y+e^x$\n",
    "\n",
    "e) $f(x,y) = x^2sin(y)+y^2cos(x)$"
   ]
  },
  {
   "cell_type": "code",
   "execution_count": null,
   "metadata": {},
   "outputs": [],
   "source": []
  }
 ],
 "metadata": {
  "kernelspec": {
   "display_name": "Python 3",
   "language": "python",
   "name": "python3"
  },
  "language_info": {
   "codemirror_mode": {
    "name": "ipython",
    "version": 3
   },
   "file_extension": ".py",
   "mimetype": "text/x-python",
   "name": "python",
   "nbconvert_exporter": "python",
   "pygments_lexer": "ipython3",
   "version": "3.7.3"
  }
 },
 "nbformat": 4,
 "nbformat_minor": 2
}
