{
 "cells": [
  {
   "cell_type": "code",
   "execution_count": 1,
   "metadata": {
    "ExecuteTime": {
     "end_time": "2019-10-11T19:24:47.862317Z",
     "start_time": "2019-10-11T19:24:44.660269Z"
    }
   },
   "outputs": [],
   "source": [
    "import matplotlib.pyplot as plt\n",
    "import numpy as np\n",
    "import pandas as pd\n",
    "\n",
    "# this statement allows the visuals to render within your Jupyter Notebook\n",
    "%matplotlib inline "
   ]
  },
  {
   "cell_type": "markdown",
   "metadata": {},
   "source": [
    "# Problem 1\n",
    "\n",
    "Create a dataset that contains the values from 0 to 10 in increments of 0.01 for the $x$ value, and $sin(2*pi*x)$ for the $y$ value.\n",
    "\n",
    "**Hint:** Look at numpy for the function sin()"
   ]
  },
  {
   "cell_type": "code",
   "execution_count": 11,
   "metadata": {
    "ExecuteTime": {
     "end_time": "2019-10-11T19:24:53.804172Z",
     "start_time": "2019-10-11T19:24:53.791133Z"
    }
   },
   "outputs": [],
   "source": [
    "### Write the code here\n",
    "\n",
    "\n"
   ]
  },
  {
   "cell_type": "markdown",
   "metadata": {},
   "source": [
    "# Problem 2\n",
    "Using the same dataset from the previous problem, create a line chart displaying $x$ versus $y$.  Include a title and labels for the $x$ and $y$ axis.  Play with the format of the text."
   ]
  },
  {
   "cell_type": "code",
   "execution_count": 12,
   "metadata": {
    "ExecuteTime": {
     "end_time": "2019-10-11T19:24:53.871178Z",
     "start_time": "2019-10-11T19:24:53.808698Z"
    }
   },
   "outputs": [],
   "source": [
    "### Write the code here\n",
    "\n",
    "\n"
   ]
  },
  {
   "cell_type": "markdown",
   "metadata": {},
   "source": [
    "# Problem 3\n",
    "Using the sine wave data set from the previous problem, create a line chart that contains grids.  In the $x$-axis we want 6 ticks at intervals of 2, i.e. 0, 2, 4 ..., 10.  On the $y$-axis we want two ticks, one at +1 and the other at -1 with the labels \"Peak\" and \"Valley\", respectively."
   ]
  },
  {
   "cell_type": "code",
   "execution_count": 16,
   "metadata": {
    "ExecuteTime": {
     "end_time": "2019-10-11T19:24:55.100764Z",
     "start_time": "2019-10-11T19:24:55.090988Z"
    }
   },
   "outputs": [],
   "source": [
    "### Write the code here\n",
    "\n",
    "\n"
   ]
  },
  {
   "cell_type": "markdown",
   "metadata": {},
   "source": [
    "# Problem 4\n",
    "Create a dataset that contains $2*cos(pi*x)$ for the $y2$ value.  Plot $x$ versus the $y$ and $y2$ values on the same chart.  Assign unique linewidth, color, and style to each line.  Make sure to include a legend."
   ]
  },
  {
   "cell_type": "code",
   "execution_count": 27,
   "metadata": {
    "ExecuteTime": {
     "end_time": "2019-10-11T19:25:00.695241Z",
     "start_time": "2019-10-11T19:25:00.681218Z"
    }
   },
   "outputs": [],
   "source": [
    "### Write the code here\n",
    "\n",
    "\n"
   ]
  },
  {
   "cell_type": "markdown",
   "metadata": {},
   "source": [
    "# Problem 5\n",
    "Using the same dataset from the previous problem, create a histogram of variable $y$, and use 15 bins."
   ]
  },
  {
   "cell_type": "code",
   "execution_count": 38,
   "metadata": {
    "ExecuteTime": {
     "end_time": "2019-10-11T19:25:05.050974Z",
     "start_time": "2019-10-11T19:25:05.048058Z"
    }
   },
   "outputs": [],
   "source": [
    "### Write the code here\n",
    "\n",
    "\n"
   ]
  },
  {
   "cell_type": "markdown",
   "metadata": {},
   "source": [
    "# Problem 6\n",
    "Create a scatter plot of $y2$ versus $y$.  Modify the figure size, the marker type and size, and the transparency."
   ]
  },
  {
   "cell_type": "code",
   "execution_count": 39,
   "metadata": {
    "ExecuteTime": {
     "end_time": "2019-10-11T19:25:05.081889Z",
     "start_time": "2019-10-11T19:25:05.055187Z"
    }
   },
   "outputs": [],
   "source": [
    "### Write the code here\n",
    "\n",
    "\n"
   ]
  },
  {
   "cell_type": "markdown",
   "metadata": {},
   "source": [
    "# Problem 7\n",
    "Create a set of 4 plots in 2 rows and 2 columns.  The plots should contain:\n",
    "\n",
    "1) Top Left: Line Plot of $x$ versus $y$. Make the axis range from -3 to 13 in the x-axis, and -3 to 3 in the y-axis.\n",
    "\n",
    "2) Top Right: Plot of $y2$ using a dashed line.\n",
    "\n",
    "3) Bottom Left: Scatter Plot of $y$ versus $y^2$. With a title of 'y-squared'.\n",
    "\n",
    "4) Bottom Right: Scatter Plot of $y$ versus $y^2$ using log scale on the y-axis."
   ]
  },
  {
   "cell_type": "code",
   "execution_count": 48,
   "metadata": {
    "ExecuteTime": {
     "end_time": "2019-10-11T19:25:11.935666Z",
     "start_time": "2019-10-11T19:25:11.926905Z"
    }
   },
   "outputs": [],
   "source": [
    "### Write the code here\n",
    "\n",
    "\n"
   ]
  },
  {
   "cell_type": "markdown",
   "metadata": {},
   "source": [
    "# Problem 8\n",
    "Plot the $x$ versus $y$ sine wave. \n",
    "\n",
    "1) Make an annotation on the first peak, \n",
    "\n",
    "3) Add a text somewhere in the middle of the image\n",
    "\n",
    "Make sure to format the text, colors, etc."
   ]
  },
  {
   "cell_type": "code",
   "execution_count": 55,
   "metadata": {
    "ExecuteTime": {
     "end_time": "2019-10-11T19:25:14.740411Z",
     "start_time": "2019-10-11T19:25:14.722996Z"
    }
   },
   "outputs": [],
   "source": [
    "### Write the code here\n",
    "\n",
    "\n"
   ]
  }
 ],
 "metadata": {
  "kernelspec": {
   "display_name": "Python 3",
   "language": "python",
   "name": "python3"
  },
  "language_info": {
   "codemirror_mode": {
    "name": "ipython",
    "version": 3
   },
   "file_extension": ".py",
   "mimetype": "text/x-python",
   "name": "python",
   "nbconvert_exporter": "python",
   "pygments_lexer": "ipython3",
   "version": "3.6.8"
  },
  "toc": {
   "base_numbering": 1,
   "nav_menu": {},
   "number_sections": true,
   "sideBar": true,
   "skip_h1_title": false,
   "title_cell": "Table of Contents",
   "title_sidebar": "Contents",
   "toc_cell": false,
   "toc_position": {
    "height": "calc(100% - 180px)",
    "left": "10px",
    "top": "150px",
    "width": "449px"
   },
   "toc_section_display": true,
   "toc_window_display": true
  }
 },
 "nbformat": 4,
 "nbformat_minor": 2
}
