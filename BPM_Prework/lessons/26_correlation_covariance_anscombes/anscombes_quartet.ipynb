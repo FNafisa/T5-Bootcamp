{
 "cells": [
  {
   "cell_type": "markdown",
   "metadata": {},
   "source": [
    "# Anscombe's quartet"
   ]
  },
  {
   "cell_type": "markdown",
   "metadata": {},
   "source": [
    "__Purpose:__ The purpose of this lecture is to introduce a limitation of summary statistics known as Anscombe's quartet. \n",
    "\n",
    "__At the end of this lecture you will be able to:__ \n",
    "> 1. Understand the limitations of summary statistics."
   ]
  },
  {
   "cell_type": "markdown",
   "metadata": {},
   "source": [
    "### 1.1.1 Anscombe's Quartet:"
   ]
  },
  {
   "cell_type": "markdown",
   "metadata": {},
   "source": [
    "__Overview:__\n",
    "- The first stage of any Statistical Analysis should be graphing the data to visualize the properties of the Bivariate Data\n",
    "- Without graphing data and relying solely on the numerical statistics, you may encounter errors that are best summarized in Anscombe's Quartet\n",
    "- __[Anscombe's Quartet](https://en.wikipedia.org/wiki/Anscombe%27s_quartet):__ Ancombe's Quartet comprises of 4 datasets, each bivariate data (X and Y) and each containing 10 data points. It can easily be shown that each dataset has virtually identical numerical statistics but look drastically different when graphed \n",
    "\n",
    "__Helpful Points:__\n",
    "1. The 4 datasets were first developed by [Francis Anscombe](https://en.wikipedia.org/wiki/Frank_Anscombe) and it is not known exactly how they were created, although similar datasets have also been developed \n",
    "\n",
    "__Practice:__ Examples of Ancombe's Quarter in Python "
   ]
  },
  {
   "cell_type": "code",
   "execution_count": null,
   "metadata": {},
   "outputs": [],
   "source": [
    "import numpy as np\n",
    "import pandas as pd\n",
    "from scipy import stats\n",
    "import seaborn as sns\n",
    "import math \n",
    "import random\n",
    "import matplotlib.pyplot as plt\n",
    "%matplotlib inline"
   ]
  },
  {
   "cell_type": "code",
   "execution_count": null,
   "metadata": {},
   "outputs": [],
   "source": [
    "# read in data to analyze \n",
    "anc_quart = pd.read_csv(\"ancombes_quartet.csv\")\n",
    "anc_quart"
   ]
  },
  {
   "cell_type": "markdown",
   "metadata": {},
   "source": [
    "### Example 1 (Mean of X and Y):"
   ]
  },
  {
   "cell_type": "code",
   "execution_count": null,
   "metadata": {},
   "outputs": [],
   "source": [
    "# mean of x\n",
    "anc_quart.loc[:, [\"x_1\", \"x_2\", \"x_3\", \"x_4\"]].mean()"
   ]
  },
  {
   "cell_type": "code",
   "execution_count": null,
   "metadata": {},
   "outputs": [],
   "source": [
    "# mean of y\n",
    "anc_quart.loc[:, [\"y_1\", \"y_2\", \"y_3\", \"y_4\"]].mean()"
   ]
  },
  {
   "cell_type": "markdown",
   "metadata": {},
   "source": [
    "### Example 2 (Variance of X and Y):"
   ]
  },
  {
   "cell_type": "code",
   "execution_count": null,
   "metadata": {},
   "outputs": [],
   "source": [
    "# variance of x\n",
    "anc_quart.loc[:, [\"x_1\", \"x_2\", \"x_3\", \"x_4\"]].var()"
   ]
  },
  {
   "cell_type": "code",
   "execution_count": null,
   "metadata": {},
   "outputs": [],
   "source": [
    "# variance of y\n",
    "anc_quart.loc[:, [\"y_1\", \"y_2\", \"y_3\", \"y_4\"]].var()"
   ]
  },
  {
   "cell_type": "markdown",
   "metadata": {},
   "source": [
    "### Example 3 (Correlation between X and Y):"
   ]
  },
  {
   "cell_type": "code",
   "execution_count": null,
   "metadata": {},
   "outputs": [],
   "source": [
    "np.corrcoef(anc_quart.loc[:, [\"x_1\", \"y_1\"]].T)"
   ]
  },
  {
   "cell_type": "code",
   "execution_count": null,
   "metadata": {},
   "outputs": [],
   "source": [
    "np.corrcoef(anc_quart.loc[:, [\"x_2\", \"y_2\"]].T)"
   ]
  },
  {
   "cell_type": "code",
   "execution_count": null,
   "metadata": {},
   "outputs": [],
   "source": [
    "np.corrcoef(anc_quart.loc[:, [\"x_3\", \"y_3\"]].T)"
   ]
  },
  {
   "cell_type": "code",
   "execution_count": null,
   "metadata": {},
   "outputs": [],
   "source": [
    "np.corrcoef(anc_quart.loc[:, [\"x_4\", \"y_4\"]].T)"
   ]
  },
  {
   "cell_type": "markdown",
   "metadata": {},
   "source": [
    "If you looked at these numerical statistics alone and stopped here, would you conclude they are all the same data? Probably!!"
   ]
  },
  {
   "cell_type": "markdown",
   "metadata": {},
   "source": [
    "### Example 4 (Plotting):"
   ]
  },
  {
   "cell_type": "code",
   "execution_count": null,
   "metadata": {},
   "outputs": [],
   "source": [
    "plt.figure(figsize=[15,5])\n",
    "\n",
    "plt.suptitle('Ancombes Quartert',fontsize = 16)\n",
    "\n",
    "plt.subplot(2,2,1) \n",
    "plt.scatter(anc_quart.x_1,anc_quart.y_1)\n",
    "plt.title('Dataset 1')\n",
    "plt.subplot(2,2,2) \n",
    "plt.scatter(anc_quart.x_2,anc_quart.y_2)\n",
    "plt.title('Dataset 2')\n",
    "plt.subplot(2,2,3) \n",
    "plt.scatter(anc_quart.x_3,anc_quart.y_3)\n",
    "plt.title('Dataset 3')\n",
    "plt.subplot(2,2,4) \n",
    "plt.scatter(anc_quart.x_4,anc_quart.y_4)\n",
    "plt.title('Dataset 4')"
   ]
  },
  {
   "cell_type": "code",
   "execution_count": null,
   "metadata": {},
   "outputs": [],
   "source": []
  }
 ],
 "metadata": {
  "kernelspec": {
   "display_name": "Python 3",
   "language": "python",
   "name": "python3"
  },
  "language_info": {
   "codemirror_mode": {
    "name": "ipython",
    "version": 3
   },
   "file_extension": ".py",
   "mimetype": "text/x-python",
   "name": "python",
   "nbconvert_exporter": "python",
   "pygments_lexer": "ipython3",
   "version": "3.8.6"
  },
  "toc": {
   "base_numbering": 1,
   "nav_menu": {},
   "number_sections": false,
   "sideBar": true,
   "skip_h1_title": false,
   "title_cell": "Table of Contents",
   "title_sidebar": "Contents",
   "toc_cell": false,
   "toc_position": {},
   "toc_section_display": true,
   "toc_window_display": true
  }
 },
 "nbformat": 4,
 "nbformat_minor": 2
}
