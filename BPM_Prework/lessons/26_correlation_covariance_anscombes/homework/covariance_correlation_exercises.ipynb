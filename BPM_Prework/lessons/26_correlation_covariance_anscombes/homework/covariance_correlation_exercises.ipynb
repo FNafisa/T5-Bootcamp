{
 "cells": [
  {
   "cell_type": "markdown",
   "metadata": {},
   "source": [
    "### Problem 1:\n",
    "\n",
    "Find the covariance and correlation for the Temperature and Number of Customers:\n",
    "\n",
    "|Temperature   |Number of Customers   |\n",
    "|---|---|\n",
    "| 98  | 15  |\n",
    "| 87  | 12  |\n",
    "| 90  | 10  |\n",
    "| 85  | 10  |\n",
    "| 95  | 16  |\n",
    "| 75  |  7 |"
   ]
  },
  {
   "cell_type": "code",
   "execution_count": null,
   "metadata": {},
   "outputs": [],
   "source": []
  }
 ],
 "metadata": {
  "kernelspec": {
   "display_name": "Python 3",
   "language": "python",
   "name": "python3"
  },
  "language_info": {
   "codemirror_mode": {
    "name": "ipython",
    "version": 3
   },
   "file_extension": ".py",
   "mimetype": "text/x-python",
   "name": "python",
   "nbconvert_exporter": "python",
   "pygments_lexer": "ipython3",
   "version": "3.7.3"
  }
 },
 "nbformat": 4,
 "nbformat_minor": 2
}
