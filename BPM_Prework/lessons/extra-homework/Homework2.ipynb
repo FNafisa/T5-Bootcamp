{
 "cells": [
  {
   "cell_type": "markdown",
   "metadata": {},
   "source": [
    "# Extra Homework Set 2"
   ]
  },
  {
   "cell_type": "markdown",
   "metadata": {},
   "source": [
    "#### 1. Create a dictionary that contains the following items: bananas: 3, apples: 2, pears: 5, oranges: 0\n",
    "\n",
    "With the help of `if` statements, write functions or notebook cells that perform the following:\n",
    "\n",
    "A) If there are 3 or more bananas, print __Three or more bananas__; otherwise, print __Less than three bananas__.\n",
    "\n",
    "B) If there are more than five fruits in total, print __More than five fruits__; otherwise, print __No more than five fruits__\n",
    "\n",
    "C) If there are more than 3 apples, check if there are 2 or more pears and print __True__; otherwise, print __False__"
   ]
  },
  {
   "cell_type": "markdown",
   "metadata": {},
   "source": [
    "#### 2. For the list [3, 5, 7, 9, 2, 8]\n",
    "\n",
    "A) Using `for` loops, write code that calculates the product of each element with its index and adds it together.  For example, $3*0 + 5*1 + 7*2 ... = 94$\n",
    "\n",
    "B) Using a `while` loop, keep looping through the list until it finds the element that squared is equal to 81.\n",
    "\n",
    "C) Repeat B using `for` loops.\n",
    "\n",
    "D) Use a `for` loop to create a new list that adds 2 to every element in the original list.  It should produce a new list with [5, 7, 9, 11, 4, 10]"
   ]
  },
  {
   "cell_type": "markdown",
   "metadata": {},
   "source": [
    "#### 3. Write a Python function to get a string made of the first 2 and the last 2 chars from a given a string (Assume string is longer than 2 chars). \n",
    "\n",
    "Sample String : 'burger'  \n",
    "Expected Result : 'buer'  \n",
    "Sample String : 'in'  \n",
    "Expected Result : 'inin'"
   ]
  },
  {
   "cell_type": "markdown",
   "metadata": {},
   "source": [
    "#### 4. Write a Python function that checks whether a word is a palindrome without using any loops.  \n",
    "\n",
    "Note: A palindrome is a word that reads the same backward as forward.  \n",
    "Example: level  \n",
    "\n",
    "Hint: Remember that strings also behave like a list in Python, so you can perform list operations on strings."
   ]
  },
  {
   "cell_type": "markdown",
   "metadata": {},
   "source": [
    "#### 5. Given a dictionary, write a Python program to create a list for all the keys, and another list for all the values of the dictionary.\n",
    "\n",
    "Example: my_dict = {\"a\":1, \"b\":2, \"c\":3}  \n",
    "Expected Result: l1 = [\"a\", \"b\", \"c\"], l2 = [1, 2, 3]"
   ]
  },
  {
   "cell_type": "markdown",
   "metadata": {},
   "source": [
    "#### 6. Given a list of numbers, write a program to compute the sum of the first and last numbers of the list."
   ]
  },
  {
   "cell_type": "markdown",
   "metadata": {},
   "source": [
    "#### 7. Write a Python program to print out a set containing all the colors from color_list_1 which are not present in color_list_2.\n",
    "\n",
    "Test Data :  \n",
    "color_list_1 = set([\"White\", \"Black\", \"Red\"])   \n",
    "color_list_2 = set([\"Red\", \"Green\"])  \n",
    "Expected Output :  \n",
    "{'Black', 'White'}"
   ]
  },
  {
   "cell_type": "markdown",
   "metadata": {},
   "source": [
    "#### 8. Write a function that receives a number (x) and returns all the multiples of 7 between x and x+100 (inclusive)."
   ]
  },
  {
   "cell_type": "markdown",
   "metadata": {},
   "source": [
    "#### 9. Write a function that receives two strings.  Return True if the second string can be written with the letters from the first string.  Otherwise return False.\n",
    "\n",
    "Test Data :  \n",
    "string1 = 'rxedeitnp'   \n",
    "string2 = 'peter'  \n",
    "Expected Output :  \n",
    "True\n",
    "\n",
    "Test Data :  \n",
    "string1 = 'rxedeitn'   \n",
    "string2 = 'peter'  \n",
    "Expected Output :  \n",
    "False"
   ]
  },
  {
   "cell_type": "markdown",
   "metadata": {},
   "source": [
    "#### 10. Write a function that takes in a list as input and returns a new list with only the even integers from that list.\n",
    "\n",
    "Sample input: [1,4,5,11,12,15]  \n",
    "Expected output: [4,12]"
   ]
  },
  {
   "cell_type": "markdown",
   "metadata": {},
   "source": [
    "#### 11. You are given a dictionary that has the count of the number of each fruit in a basket. Write a function that takes in the dictionary and outputs the total number of fruits in the basket.\n",
    "\n",
    "Sample input: fruits = {\"oranges\": 5, \"apples\": 2, \"blueberries\": 12}\n",
    "Expected output: 19"
   ]
  },
  {
   "cell_type": "markdown",
   "metadata": {},
   "source": [
    "#### 12. Write a Python program that accepts a string and calculate the number of digits and letters. \n",
    "\n",
    "Input String : \"Python 3.2\"  \n",
    "\n",
    "Expected Output :  \n",
    "Letters 6  \n",
    "Digits 2  \n",
    "\n",
    "Hint: Make use of Python string's inherent isdigit() method and isalpha() method. For example, \"a\".isdigit() returns False, while \"a\".isalpha() returns True."
   ]
  },
  {
   "cell_type": "markdown",
   "metadata": {},
   "source": [
    "#### 13. Write a Python program to check the validity of a password.\n",
    "\n",
    "Validation :  \n",
    "At least 1 character from [$#@].  \n",
    "Minimum length 6 characters.  \n",
    "Maximum length 16 characters.  "
   ]
  },
  {
   "cell_type": "markdown",
   "metadata": {},
   "source": [
    "#### 14. Fix the following codes:"
   ]
  },
  {
   "cell_type": "code",
   "execution_count": 43,
   "metadata": {},
   "outputs": [
    {
     "ename": "SyntaxError",
     "evalue": "invalid syntax (<ipython-input-43-55bc115d274a>, line 2)",
     "output_type": "error",
     "traceback": [
      "\u001b[0;36m  File \u001b[0;32m\"<ipython-input-43-55bc115d274a>\"\u001b[0;36m, line \u001b[0;32m2\u001b[0m\n\u001b[0;31m    for i in range(5)\u001b[0m\n\u001b[0m                     ^\u001b[0m\n\u001b[0;31mSyntaxError\u001b[0m\u001b[0;31m:\u001b[0m invalid syntax\n"
     ]
    }
   ],
   "source": [
    "#### A - creates all pairs of combinations for the numbers 0 thru 4.  i.e. (0,1),(0,2),(0,3),(0,4),(1,2)...\n",
    "for i in range(5)\n",
    "    for j in range(i+1,5)\n",
    "        print((i,j))"
   ]
  },
  {
   "cell_type": "code",
   "execution_count": 44,
   "metadata": {},
   "outputs": [
    {
     "ename": "TypeError",
     "evalue": "unsupported operand type(s) for +=: 'int' and 'str'",
     "output_type": "error",
     "traceback": [
      "\u001b[0;31m---------------------------------------------------------------------------\u001b[0m",
      "\u001b[0;31mTypeError\u001b[0m                                 Traceback (most recent call last)",
      "\u001b[0;32m<ipython-input-44-eed8a323695b>\u001b[0m in \u001b[0;36m<module>\u001b[0;34m\u001b[0m\n\u001b[1;32m      4\u001b[0m \u001b[0;34m\u001b[0m\u001b[0m\n\u001b[1;32m      5\u001b[0m \u001b[0;32mfor\u001b[0m \u001b[0mi\u001b[0m \u001b[0;32min\u001b[0m \u001b[0mmy_list\u001b[0m\u001b[0;34m:\u001b[0m\u001b[0;34m\u001b[0m\u001b[0;34m\u001b[0m\u001b[0m\n\u001b[0;32m----> 6\u001b[0;31m     \u001b[0mtemp\u001b[0m \u001b[0;34m+=\u001b[0m \u001b[0mi\u001b[0m\u001b[0;34m\u001b[0m\u001b[0;34m\u001b[0m\u001b[0m\n\u001b[0m\u001b[1;32m      7\u001b[0m \u001b[0;34m\u001b[0m\u001b[0m\n\u001b[1;32m      8\u001b[0m \u001b[0mprint\u001b[0m\u001b[0;34m(\u001b[0m\u001b[0mtemp\u001b[0m\u001b[0;34m)\u001b[0m\u001b[0;34m\u001b[0m\u001b[0;34m\u001b[0m\u001b[0m\n",
      "\u001b[0;31mTypeError\u001b[0m: unsupported operand type(s) for +=: 'int' and 'str'"
     ]
    }
   ],
   "source": [
    "#### B - add all the elements in the list and prints out the total (in this example it prints 6)\n",
    "my_list = ['1','2','3']\n",
    "temp = 0\n",
    "\n",
    "for i in my_list:\n",
    "    temp += i\n",
    "\n",
    "print(temp)"
   ]
  },
  {
   "cell_type": "code",
   "execution_count": null,
   "metadata": {},
   "outputs": [],
   "source": []
  }
 ],
 "metadata": {
  "kernelspec": {
   "display_name": "Python 3",
   "language": "python",
   "name": "python3"
  },
  "language_info": {
   "codemirror_mode": {
    "name": "ipython",
    "version": 3
   },
   "file_extension": ".py",
   "mimetype": "text/x-python",
   "name": "python",
   "nbconvert_exporter": "python",
   "pygments_lexer": "ipython3",
   "version": "3.7.3"
  },
  "toc": {
   "base_numbering": 1,
   "nav_menu": {},
   "number_sections": true,
   "sideBar": true,
   "skip_h1_title": false,
   "title_cell": "Table of Contents",
   "title_sidebar": "Contents",
   "toc_cell": false,
   "toc_position": {},
   "toc_section_display": true,
   "toc_window_display": false
  }
 },
 "nbformat": 4,
 "nbformat_minor": 2
}
