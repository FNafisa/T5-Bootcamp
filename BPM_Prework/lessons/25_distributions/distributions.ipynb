{
 "cells": [
  {
   "cell_type": "markdown",
   "metadata": {},
   "source": [
    "# Distributions"
   ]
  },
  {
   "cell_type": "markdown",
   "metadata": {},
   "source": [
    "__Purpose:__ The purpose of this lecture is to offer a brief overview of distributions. \n",
    "\n",
    "__At the end of this lecture you will be able to:__\n",
    "> 1. Understand the characteristics of some common distributions such as Normal, Binomial, Uniform, and Exponential "
   ]
  },
  {
   "cell_type": "code",
   "execution_count": null,
   "metadata": {},
   "outputs": [],
   "source": [
    "import numpy as np\n",
    "import pandas as pd\n",
    "from scipy import stats\n",
    "import seaborn as sns\n",
    "import math \n",
    "import random\n",
    "import matplotlib.pyplot as plt\n",
    "%matplotlib inline"
   ]
  },
  {
   "cell_type": "markdown",
   "metadata": {},
   "source": [
    "### 1.1.1 Theoretical vs. Empirical Probability Distributions:"
   ]
  },
  {
   "cell_type": "markdown",
   "metadata": {},
   "source": [
    "__Overview:__ \n",
    "-  Using the NBA data, we were able to plot Probability Distributions. These distributions are known as __Empirical Distributions__ since they are observed empirically through a Random Experiment \n",
    "- We can contrast __Empirical Distributions__ with __Theoretical Distributions__ which are \"special\" cases of Probability Distributions that have defined characteristics including: \n",
    "> 1. Parameters that define the Probability Density Function \n",
    "> 1. Formula for Probability Density Function \n",
    "> 2. Formula for Expected Value (Central Tendency) \n",
    "> 3. Formula for Variance (Dispersion) \n",
    "- One of the primary goals of Statistics is to characterize/assume a given set of univariate data follows one of the many Theoretical Probability Distributions. There are many consequences of assuming data fits one of the Probability Distributions (for example, assuming data fits a Theoretical Normal Distribution allows us to perform Linear Regression with the data) \n",
    "\n",
    "__Helpful Points:__\n",
    "1. In the real world, data does not fit the Theoretical Probability Distributions exactly, but they will be \"close enough.\" There are tests that you can use to test whether a series of data fits a specific Probability Distribution with some level of certainty "
   ]
  },
  {
   "cell_type": "markdown",
   "metadata": {},
   "source": [
    "### 1.1.2 Common Theoretical Probability Distributions:"
   ]
  },
  {
   "cell_type": "markdown",
   "metadata": {},
   "source": [
    "__Overview:__ \n",
    "- There are many Probability Distributions that are used commonly in Statistical Analysis. However, we will highlight the four most common Distributions here: \n",
    "> 1. __[Normal Distribution](https://en.wikipedia.org/wiki/Normal_distribution):__ Normal Distribution (Gaussian Distribution) is the most common Probability Distribution and many sets of real world data follows this type of distribution. Another interesting fact about the Normal Distribution is that as data becomes larger and larger, their Probability Distribution will look more like the Normal Distribution. The characteristics of a Normal Distribution include: \n",
    ">> a. __Type:__ Normal Distribution is Continuous <br> \n",
    ">> b. __Parameters:__ Normal Distribution is characterized by two parameters: (1) Mean ($\\mu$) and (2) Variance ($\\sigma^2$)<br>\n",
    ">> c. __Probability Density Function:__ The PDF of a Normal Distribution is: <br> \n",
    "<center> $f(x \\mid \\mu, \\sigma^2) = \\frac{1}{\\sqrt{2\\pi\\sigma^2}} e^-{\\frac{(x - \\mu)^2}{2\\sigma^2}}$ </center> \n",
    "\n",
    ">> d. __Expected Value:__ $E[X] = \\mu$<br>\n",
    ">> e. __Variance:__ $V[X] = \\sigma^2$<br>\n",
    ">> f. __Examples:__ Height of men in the United States \n",
    "\n",
    "> 2. __[Binomial Distribution](https://en.wikipedia.org/wiki/Binomial_distribution):__ Binomial Distribution describes data that comes from repeated __[Bernoulli Trials](https://en.wikipedia.org/wiki/Bernoulli_trial)__ which are just experiments that can only take on a \"1\" or \"0\". In total, the Binomial Distribution describes the number of trials ($n$) where each trial has $p$ Probability of success. The characteristics of a Binomial Distribution include: \n",
    ">> a. __Type:__ Binomial Distribution is Discrete <br> \n",
    ">> b. __Parameters:__ Binomial Distribution is characterized by two parameters: (1) Number of Trials ($n$) and (2) Probability of Success ($p$)<br>\n",
    ">> c. __Probability Density Function:__ The PMF of a Binomial Distribution is: <br> \n",
    "<center> $n \\choose k$$p^k(1 - p)^{n-k}$ </center> \n",
    "\n",
    ">> d. __Expected Value:__ $E[X] = np$<br>\n",
    ">> e. __Variance:__ $V[X] = np(1 - p)$<br>\n",
    ">> f. __Examples:__ Tossing a coin 10 ($n$) times, where each coin toss is a Bernoulli trial and the coin has probability $p$ of landing on heads. \n",
    "\n",
    "> 3. __[Uniform Distribution](https://en.wikipedia.org/wiki/Uniform_distribution_(continuous)):__ Uniform Distribution describes data where each possible value has the same probability of occurring. The characteristics of a Uniform Distribution include: \n",
    ">> a. __Type:__ Uniform Distribution is Continuous <br> \n",
    ">> b. __Parameters:__ Uniform Distribution is characterized by two parameters: (1) Left Bound ($a$) and (2) Right Bound ($b$)<br>\n",
    ">> c. __Probability Density Function:__ The PDF of a Uniform Distribution is: <br> \n",
    "<center> $\\frac{1}{(b - a)}$ for $x \\in [a, b]$ and 0, otherwise</center>\n",
    "\n",
    ">> d. __Expected Value:__ $E[X] = \\frac{1}{2}(a + b)$<br>\n",
    ">> e. __Variance:__ $V[X] = \\frac{1}{12}(b - a)^2$<br>\n",
    ">> f. __Examples:__ Random sampling from a data set, where each data point as the same chance of being selected  \n",
    "\n",
    "> 4. __[Exponential Distribution](https://en.wikipedia.org/wiki/Exponential_distribution):__ Exponential Distribution typically describes the time in between events occurring. Exponential Distribution is considered \"memoryless\" and therefore the history of the distribution has no bearing on predicting what will happen next. The characteristics of an Exponential Distribution include: \n",
    ">> a. __Type:__ Exponential Distribution is Continuous <br> \n",
    ">> b. __Parameters:__ Exponential Distribution is characterized by one parameter: Rate ($\\lambda$)<br>\n",
    ">> c. __Probability Density Function:__ The PDF of an Exponential Distribution is: <br> \n",
    "<center> $\\lambda e^{-\\lambda x}$</center>\n",
    "\n",
    ">> d. __Expected Value:__ $E[X] = \\lambda^{-1}$<br>\n",
    ">> e. __Variance:__ $V[X] = \\lambda^{-2}$<br>\n",
    ">> f. __Examples:__ Time between visits to the Emergency Room in a hospital can be described by an Exponential Distribution. People may arrive to the Emergency Room according to a Poisson Process (not covered here), but the time between these patient arrivals is Exponentially Distributed. Moreover, if the average time between patients is 30 minutes and patients have come in during the morning hours at 9:00 am, 9:25 am, 9:26 am, 10:00 am, the next patient will still be expected to come in after 30 minutes since the distribution has no \"memory\" of the past. \n",
    "\n",
    "__Helpful Points:__ \n",
    "1. We can simulate a Random Variable based on any distribution which just means for any values of x, we plug into the probability density/mass function and observe the resulting probability \n",
    "2. Each of the Probability Distributions above have corresponding Cumulative Distribution Functions with associated properties, but these are not shown \n",
    "3. Each of the Theoretical Probability Distributions will be shown below \n",
    "\n",
    "__Practice:__ Examples of Common Theoretical Probability Distributions in Python "
   ]
  },
  {
   "cell_type": "markdown",
   "metadata": {},
   "source": [
    "### Part 1 (Normal Distribution):"
   ]
  },
  {
   "cell_type": "markdown",
   "metadata": {},
   "source": [
    "### Example 1.1 (Probability Density Function - mean = 0 and var = 1):"
   ]
  },
  {
   "cell_type": "code",
   "execution_count": null,
   "metadata": {},
   "outputs": [],
   "source": [
    "# define the parameters of the distribution \n",
    "mu = 0 \n",
    "sigma = 1\n",
    "# define the number of samples \n",
    "num_samples = 100000"
   ]
  },
  {
   "cell_type": "code",
   "execution_count": null,
   "metadata": {},
   "outputs": [],
   "source": [
    "# simulate normal distribution \n",
    "norm_data = np.random.normal(mu, sigma, num_samples)\n",
    "norm_data[:10]"
   ]
  },
  {
   "cell_type": "markdown",
   "metadata": {},
   "source": [
    "The `np.random.normal()` function generates random numbers from a Normal Distribution with parameters equal to $\\mu = 0$ and $\\sigma = 1$"
   ]
  },
  {
   "cell_type": "code",
   "execution_count": null,
   "metadata": {},
   "outputs": [],
   "source": [
    "norm_data.mean() # almost 0 "
   ]
  },
  {
   "cell_type": "code",
   "execution_count": null,
   "metadata": {},
   "outputs": [],
   "source": [
    "norm_data.var() # almost 1 "
   ]
  },
  {
   "cell_type": "code",
   "execution_count": null,
   "metadata": {},
   "outputs": [],
   "source": [
    "# plot the probability distribution \n",
    "sns.distplot(norm_data)"
   ]
  },
  {
   "cell_type": "markdown",
   "metadata": {},
   "source": [
    "This is a special case of a Normal Distribution called a __Standard Normal Distribution__ since it is centered at 0 with a dispersion of 1. "
   ]
  },
  {
   "cell_type": "markdown",
   "metadata": {},
   "source": [
    "### Example 1.2 (Probability Density Function - mean = -2,0,2 and var = 1):"
   ]
  },
  {
   "cell_type": "code",
   "execution_count": null,
   "metadata": {},
   "outputs": [],
   "source": [
    "# define the parameters of the distribution \n",
    "mu_1 = 0\n",
    "mu_2 = -2\n",
    "mu_3 = 2\n",
    "sigma = 1\n",
    "# define the number of samples \n",
    "num_samples = 100000"
   ]
  },
  {
   "cell_type": "code",
   "execution_count": null,
   "metadata": {},
   "outputs": [],
   "source": [
    "# simulate normal distribution \n",
    "norm_data_1 = np.random.normal(mu_1, sigma, num_samples)\n",
    "norm_data_2 = np.random.normal(mu_2, sigma, num_samples)\n",
    "norm_data_3 = np.random.normal(mu_3, sigma, num_samples)"
   ]
  },
  {
   "cell_type": "code",
   "execution_count": null,
   "metadata": {},
   "outputs": [],
   "source": [
    "# plot the probability distributions \n",
    "sns.distplot(norm_data_1)\n",
    "sns.distplot(norm_data_2)\n",
    "sns.distplot(norm_data_3)"
   ]
  },
  {
   "cell_type": "markdown",
   "metadata": {},
   "source": [
    "We can see that by adjusting the mean of the distribution and keeping the variance constant, we are simply shifting the distribution right and left. "
   ]
  },
  {
   "cell_type": "markdown",
   "metadata": {},
   "source": [
    "### Example 1.3 (Probability Density Function - mean = 0 and var = 0.5, 1, 4):"
   ]
  },
  {
   "cell_type": "code",
   "execution_count": null,
   "metadata": {},
   "outputs": [],
   "source": [
    "# define the parameters of the distribution \n",
    "mu = 0\n",
    "sigma_1 = 0.5\n",
    "sigma_2 = 1\n",
    "sigma_3 = 4\n",
    "# define the number of samples \n",
    "num_samples = 100000"
   ]
  },
  {
   "cell_type": "code",
   "execution_count": null,
   "metadata": {},
   "outputs": [],
   "source": [
    "# simulate normal distribution \n",
    "norm_data_1 = np.random.normal(mu, sigma_1, num_samples)\n",
    "norm_data_2 = np.random.normal(mu, sigma_2, num_samples)\n",
    "norm_data_3 = np.random.normal(mu, sigma_3, num_samples)"
   ]
  },
  {
   "cell_type": "code",
   "execution_count": null,
   "metadata": {},
   "outputs": [],
   "source": [
    "# plot the probability distributions \n",
    "sns.distplot(norm_data_1)\n",
    "sns.distplot(norm_data_2)\n",
    "sns.distplot(norm_data_3)"
   ]
  },
  {
   "cell_type": "markdown",
   "metadata": {},
   "source": [
    "We can see that by adjusting the variance of the distribution and keeping the mean constant, we are simply shrinking and expanding the distribution. "
   ]
  },
  {
   "cell_type": "markdown",
   "metadata": {},
   "source": [
    "### Example 1.4 (Cumulative Distribution  Function - mean = 0 and var = 1):"
   ]
  },
  {
   "cell_type": "code",
   "execution_count": null,
   "metadata": {},
   "outputs": [],
   "source": [
    "# define the parameters of the distribution \n",
    "mu = 0 \n",
    "sigma = 1\n",
    "# define the number of samples \n",
    "num_samples = 100000"
   ]
  },
  {
   "cell_type": "code",
   "execution_count": null,
   "metadata": {},
   "outputs": [],
   "source": [
    "# simulate normal distribution \n",
    "norm_data = np.random.normal(mu, sigma, num_samples)\n",
    "norm_data[:10]"
   ]
  },
  {
   "cell_type": "code",
   "execution_count": null,
   "metadata": {
    "scrolled": false
   },
   "outputs": [],
   "source": [
    "sns.distplot(norm_data, hist_kws={\"cumulative\":True},kde_kws={\"cumulative\":True})"
   ]
  },
  {
   "cell_type": "markdown",
   "metadata": {},
   "source": [
    "### Part 2 (Binomial Distribution):"
   ]
  },
  {
   "cell_type": "markdown",
   "metadata": {},
   "source": [
    "### Example 2.1 (Probability Mass Function - n = 100000 and p = 0.5):"
   ]
  },
  {
   "cell_type": "code",
   "execution_count": null,
   "metadata": {},
   "outputs": [],
   "source": [
    "# define the parameters of the distribution \n",
    "n = 100000 \n",
    "p = 0.5\n",
    "# define the number of samples \n",
    "num_samples = 200000"
   ]
  },
  {
   "cell_type": "code",
   "execution_count": null,
   "metadata": {},
   "outputs": [],
   "source": [
    "# simulate binomial distribution \n",
    "binom_data = np.random.binomial(n, p, num_samples)\n",
    "binom_data[:10]"
   ]
  },
  {
   "cell_type": "markdown",
   "metadata": {},
   "source": [
    "The `np.random.binomial()` function generates random numbers from a Binomial Distribution with parameters equal to $n = 100000$ and $p = 0.5$"
   ]
  },
  {
   "cell_type": "code",
   "execution_count": null,
   "metadata": {},
   "outputs": [],
   "source": [
    "binom_data.mean() # np = (100000)(0.5) = 50000"
   ]
  },
  {
   "cell_type": "code",
   "execution_count": null,
   "metadata": {},
   "outputs": [],
   "source": [
    "binom_data.var() # np(1-p) = ((100000)(0.5))(1 - 0.5) = roughly 25000"
   ]
  },
  {
   "cell_type": "code",
   "execution_count": null,
   "metadata": {},
   "outputs": [],
   "source": [
    "# plot the probability distribution \n",
    "sns.distplot(binom_data)"
   ]
  },
  {
   "cell_type": "markdown",
   "metadata": {},
   "source": [
    "Notice how it practically looks normal. This is because we had a large number of trials and as the data becomes larger and larger, the distribution approaches normal. "
   ]
  },
  {
   "cell_type": "markdown",
   "metadata": {},
   "source": [
    "### Example 2.2 (Cumulative Distribution  Function - n = 100000 and p = 0.5):"
   ]
  },
  {
   "cell_type": "code",
   "execution_count": null,
   "metadata": {
    "scrolled": false
   },
   "outputs": [],
   "source": [
    "sns.distplot(binom_data, hist_kws={\"cumulative\":True},kde_kws={\"cumulative\":True})"
   ]
  },
  {
   "cell_type": "markdown",
   "metadata": {},
   "source": [
    "### Part 3 (Uniform Distribution):"
   ]
  },
  {
   "cell_type": "markdown",
   "metadata": {},
   "source": [
    "### Example 3.1 (Probability Density Function - a = 0 and b = 1):"
   ]
  },
  {
   "cell_type": "code",
   "execution_count": null,
   "metadata": {},
   "outputs": [],
   "source": [
    "# define the parameters of the distribution \n",
    "a = 0 \n",
    "b = 1\n",
    "# define the number of samples \n",
    "num_samples = 100000"
   ]
  },
  {
   "cell_type": "code",
   "execution_count": null,
   "metadata": {},
   "outputs": [],
   "source": [
    "# simulate uniform distribution \n",
    "uniform_data = np.random.uniform(a, b, num_samples)\n",
    "uniform_data[:10]"
   ]
  },
  {
   "cell_type": "markdown",
   "metadata": {},
   "source": [
    "The `np.random.uniform()` function generates random numbers from a Uniform Distribution with parameters equal to $a = 0$ and $b = 1$"
   ]
  },
  {
   "cell_type": "code",
   "execution_count": null,
   "metadata": {},
   "outputs": [],
   "source": [
    "uniform_data.mean() # (a + b)/2 = (0 + 1)/2"
   ]
  },
  {
   "cell_type": "code",
   "execution_count": null,
   "metadata": {},
   "outputs": [],
   "source": [
    "uniform_data.var() # (b - a)^2/12 = (1 - 0)^2/12"
   ]
  },
  {
   "cell_type": "code",
   "execution_count": null,
   "metadata": {},
   "outputs": [],
   "source": [
    "# plot the probability distribution \n",
    "sns.distplot(uniform_data)"
   ]
  },
  {
   "cell_type": "markdown",
   "metadata": {},
   "source": [
    "### Example 3.2 (Cumulative Distribution  Function - a = 0 and b = 1):"
   ]
  },
  {
   "cell_type": "code",
   "execution_count": null,
   "metadata": {
    "scrolled": false
   },
   "outputs": [],
   "source": [
    "sns.distplot(uniform_data, hist_kws={\"cumulative\":True},kde_kws={\"cumulative\":True})"
   ]
  },
  {
   "cell_type": "markdown",
   "metadata": {},
   "source": [
    "### Part 4 (Exponential Distribution):"
   ]
  },
  {
   "cell_type": "markdown",
   "metadata": {},
   "source": [
    "### Example 4.1 (Probability Density Function - beta = 1/2 OR lambda = 2):"
   ]
  },
  {
   "cell_type": "code",
   "execution_count": null,
   "metadata": {},
   "outputs": [],
   "source": [
    "# define the parameters of the distribution \n",
    "beta = 0.5 \n",
    "# define the number of samples \n",
    "num_samples = 100000"
   ]
  },
  {
   "cell_type": "code",
   "execution_count": null,
   "metadata": {},
   "outputs": [],
   "source": [
    "# simulate exponential distribution \n",
    "exp_data = np.random.exponential(scale = beta, size = num_samples)\n",
    "exp_data[:10]"
   ]
  },
  {
   "cell_type": "markdown",
   "metadata": {},
   "source": [
    "The `np.random.exponential()` function generates random numbers from an Exponential Distribution with parameters equal to $\\beta = 0.5$ OR $\\lambda = 2$"
   ]
  },
  {
   "cell_type": "code",
   "execution_count": null,
   "metadata": {},
   "outputs": [],
   "source": [
    "exp_data.mean() # mu = beta = 0.5"
   ]
  },
  {
   "cell_type": "code",
   "execution_count": null,
   "metadata": {
    "scrolled": true
   },
   "outputs": [],
   "source": [
    "exp_data.var() # var = beta^2 = 0.25 "
   ]
  },
  {
   "cell_type": "code",
   "execution_count": null,
   "metadata": {},
   "outputs": [],
   "source": [
    "# plot the probability distribution \n",
    "sns.distplot(exp_data)"
   ]
  },
  {
   "cell_type": "markdown",
   "metadata": {},
   "source": [
    "### Example 4.2 (Probability Density Function - beta = 0.5,3,5 OR lambda = 2, 1/3, 1/5):"
   ]
  },
  {
   "cell_type": "code",
   "execution_count": null,
   "metadata": {},
   "outputs": [],
   "source": [
    "# define the parameters of the distribution \n",
    "beta_1 = 3\n",
    "beta_2 = 5\n",
    "# define the number of samples \n",
    "num_samples = 100000"
   ]
  },
  {
   "cell_type": "code",
   "execution_count": null,
   "metadata": {},
   "outputs": [],
   "source": [
    "# simulate exponential distribution \n",
    "exp_data_1 = np.random.exponential(scale = beta_1, size = num_samples)\n",
    "exp_data_2 = np.random.exponential(scale = beta_2, size = num_samples)"
   ]
  },
  {
   "cell_type": "code",
   "execution_count": null,
   "metadata": {},
   "outputs": [],
   "source": [
    "# plot the probability distributions \n",
    "sns.distplot(exp_data_1)\n",
    "sns.distplot(exp_data_2)"
   ]
  },
  {
   "cell_type": "markdown",
   "metadata": {},
   "source": [
    "### Example 4.3 (Cumulative Distribution  Function - beta = 0.5 OR lambda = 2):"
   ]
  },
  {
   "cell_type": "code",
   "execution_count": null,
   "metadata": {},
   "outputs": [],
   "source": [
    "# define the parameters of the distribution \n",
    "beta = 0.5 \n",
    "# define the number of samples \n",
    "num_samples = 100000"
   ]
  },
  {
   "cell_type": "code",
   "execution_count": null,
   "metadata": {},
   "outputs": [],
   "source": [
    "# simulate exponential distribution \n",
    "exp_data = np.random.exponential(scale = beta, size = num_samples)\n",
    "exp_data[:10]"
   ]
  },
  {
   "cell_type": "code",
   "execution_count": null,
   "metadata": {
    "scrolled": false
   },
   "outputs": [],
   "source": [
    "sns.distplot(exp_data, hist_kws={\"cumulative\":True},kde_kws={\"cumulative\":True})"
   ]
  },
  {
   "cell_type": "markdown",
   "metadata": {},
   "source": [
    "## 1.2 Bivariate Data:"
   ]
  },
  {
   "cell_type": "markdown",
   "metadata": {},
   "source": [
    "### 1.2.1 What is Bivariate Data? "
   ]
  },
  {
   "cell_type": "markdown",
   "metadata": {},
   "source": [
    "__Overview:__ \n",
    "- So far, all of the examples have been using __Univariate Data__ which is simply one series (i.e. depicting one variable) \n",
    "- However, it is more common to have multiple series of data that we are interested in the relationship between \n",
    "- __Bivariate Data:__ Bivariate Data consists of data from two variables and each value from each variable is paired up with the other variable\n",
    "> - The goal of Bivariate Data is to investigate the association or the relationship between the two variables. This can be accomplished by simply looking at a graph of the two variables or using statistics that are designed to measure the association (see next section) \n",
    "> - Examples of Bivariate Data from the NBA data set include Team's Field Goal Attempts and Team's Steals. We may be interested in knowing whether a team's steals is associated with the number of shots they attempts (i.e. steal the ball in their defensive end and go back the other way and make a shot) \n",
    "\n",
    "__Helpful Points:__\n",
    "1. In some cases, we name each of the two variables as:\n",
    "> __[Dependent Variable](https://en.wikipedia.org/wiki/Dependent_and_independent_variables#Statistics):__ The Dependent Variable represents the outcome or the variable that is being studied <br>\n",
    "> __[Independent Variable](https://en.wikipedia.org/wiki/Dependent_and_independent_variables#Statistics):__ The Independent Variable represents the inputs or potential reasons for the outcome\n",
    "2. The characterization of Bivariate Data into Dependent and Independent Variables is especially useful for Regression Analysis (not covered here) \n",
    "\n",
    "__Practice:__ Examples of Graphing Bivariate Data in Python "
   ]
  },
  {
   "cell_type": "code",
   "execution_count": null,
   "metadata": {},
   "outputs": [],
   "source": [
    "# read in data to analyze \n",
    "nba_df = pd.read_csv(\"NBA_GameLog_2010_2017.csv\")\n",
    "tor_2016_2017 = nba_df.loc[(nba_df.loc[:, \"Season\"] == 2017) & (nba_df.loc[:, \"Team\"] == \"TOR\"), ]\n",
    "tor_2016_2017_home = tor_2016_2017.loc[(tor_2016_2017.loc[:, \"Home\"] == 1), ]"
   ]
  },
  {
   "cell_type": "markdown",
   "metadata": {},
   "source": [
    "### Example 1 (Graphing FG Attempts vs. Steals):"
   ]
  },
  {
   "cell_type": "code",
   "execution_count": null,
   "metadata": {},
   "outputs": [],
   "source": [
    "nba_df.columns"
   ]
  },
  {
   "cell_type": "code",
   "execution_count": null,
   "metadata": {
    "scrolled": true
   },
   "outputs": [],
   "source": [
    "# scatter plot of the FGM % and steals \n",
    "plt.scatter(nba_df.loc[:, \"Tm.FGM\"], nba_df.loc[:, \"Tm.STL\"],alpha = 0.05)\n",
    "plt.xlabel(\"Tm.FGM (%)\")\n",
    "plt.ylabel(\"Tm.STL\")"
   ]
  },
  {
   "cell_type": "markdown",
   "metadata": {},
   "source": [
    "### Example 2 (Graphing Tm Points vs. Attendance):"
   ]
  },
  {
   "cell_type": "code",
   "execution_count": null,
   "metadata": {
    "scrolled": true
   },
   "outputs": [],
   "source": [
    "# scatter plot of the TM Points and Attendance \n",
    "plt.scatter(tor_2016_2017_home.loc[:, \"Tm.Pts\"], tor_2016_2017_home.loc[:, \"Home.Attendance\"])\n",
    "plt.xlabel(\"Tm.Pts\")\n",
    "plt.ylabel(\"Home.Attendance\")"
   ]
  },
  {
   "cell_type": "code",
   "execution_count": null,
   "metadata": {},
   "outputs": [],
   "source": []
  }
 ],
 "metadata": {
  "kernelspec": {
   "display_name": "Python 3",
   "language": "python",
   "name": "python3"
  },
  "language_info": {
   "codemirror_mode": {
    "name": "ipython",
    "version": 3
   },
   "file_extension": ".py",
   "mimetype": "text/x-python",
   "name": "python",
   "nbconvert_exporter": "python",
   "pygments_lexer": "ipython3",
   "version": "3.8.6"
  },
  "toc": {
   "base_numbering": 1,
   "nav_menu": {},
   "number_sections": false,
   "sideBar": true,
   "skip_h1_title": false,
   "title_cell": "Table of Contents",
   "title_sidebar": "Contents",
   "toc_cell": false,
   "toc_position": {},
   "toc_section_display": true,
   "toc_window_display": true
  }
 },
 "nbformat": 4,
 "nbformat_minor": 2
}
