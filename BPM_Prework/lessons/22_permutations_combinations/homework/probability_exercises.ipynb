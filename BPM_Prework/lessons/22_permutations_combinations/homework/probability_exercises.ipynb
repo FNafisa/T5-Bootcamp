{
 "cells": [
  {
   "cell_type": "markdown",
   "metadata": {},
   "source": [
    "### Problem 1:\n",
    "\n",
    "If we toss a fair coin 999 times and we get Heads on every toss. What is the probability we get a hear on the 1000th toss?"
   ]
  },
  {
   "cell_type": "markdown",
   "metadata": {},
   "source": [
    "### Problem 2:\n",
    "\n",
    "If the probability that $A$ will be alive in 10 years is 0.7, and the probability that $B$ will be alive in 10 years is 0.55, then:\n",
    "\n",
    "a) What is the probability that both $A$ and $B$ are alive in 10 years?\n",
    "\n",
    "b) What is the probability that $A$ is alive in 10 years, but not $B$?\n",
    "\n",
    "c) What is the probability that $B$ is alive in 10 years, but not $A$?\n",
    "\n",
    "d) What is the probability that neither $A$ nor $B$ are alive in 10 years?\n"
   ]
  },
  {
   "cell_type": "markdown",
   "metadata": {},
   "source": [
    "### Problem 3:\n",
    "\n",
    "A box contains 3 white balls and 2 black balls.  What is the probability of the first and second ball being black, if the balls are (a) replaced and (b) not replaced?"
   ]
  },
  {
   "cell_type": "markdown",
   "metadata": {},
   "source": [
    "### Problem 4:\n",
    "\n",
    "If we have a deck of 52 cards, what is the probability of:\n",
    "\n",
    "a) Drawing an Ace or a King?\n",
    "\n",
    "b) Drawing an Ace or a Spade?"
   ]
  },
  {
   "cell_type": "markdown",
   "metadata": {},
   "source": [
    "### Problem 5:\n",
    "\n",
    "What is the number of permutations of the letters $a$, $b$ and $c$ taken two at a time?"
   ]
  },
  {
   "cell_type": "markdown",
   "metadata": {},
   "source": [
    "### Problem 6:\n",
    "\n",
    "Determine the probabilities for the each of the following:\n",
    "\n",
    "a) An odd number appears on a single toss of a fair die\n",
    "\n",
    "b) At least one head appears in two tosses of a fair coin\n",
    "\n",
    "c) An ace, 10 of diamonds or 2 of spades appear in drawing a single card from a deck of 52 cards\n",
    "\n",
    "d) The sum of 7 appears in a single toss of a pair of fair dice"
   ]
  },
  {
   "cell_type": "markdown",
   "metadata": {},
   "source": [
    "### Problem 7:\n",
    "\n",
    "A ball is drawn at random from a box containing 6 red ball, 4 white balls and 5 blue balls.  Determine the probabilities that the balls drawn is:\n",
    "\n",
    "a) Red\n",
    "\n",
    "b) White\n",
    "\n",
    "c) Blue\n",
    "\n",
    "d) Not Red\n",
    "\n",
    "e) Red or White"
   ]
  },
  {
   "cell_type": "markdown",
   "metadata": {},
   "source": [
    "### Problem 8:\n",
    "\n",
    "A fair dies is tossed twice.  Find the probability of getting a 4, 5 or 6 on the first toss and a 1, 2, 3 or 4 on the second toss."
   ]
  },
  {
   "cell_type": "markdown",
   "metadata": {},
   "source": [
    "### Problem 9:\n",
    "\n",
    "A ball is drawn at random from a box containing 6 red ball, 4 white balls and 5 blue balls.  Three balls are drawn one at a time.  Determine the probabilities that the order drawn is red, white and blue if the balls (a) are replaced, and (b) are not replaced.\n"
   ]
  },
  {
   "cell_type": "markdown",
   "metadata": {},
   "source": [
    "### Problem 10:\n",
    "\n",
    "Find the probability of a 4 turning up at least once in two tosses of a fair die."
   ]
  },
  {
   "cell_type": "markdown",
   "metadata": {},
   "source": [
    "### Problem 11:\n",
    "\n",
    "A and B play 12 games of chess, of which A wins 6 games, B wins 4 games, and 2 games end in a draw.  They agree to play a match consisting of 3 games.  Find the probability that: \n",
    "\n",
    "a) A wins all 3 games, \n",
    "\n",
    "b) 2 games end in a draw, \n",
    "\n",
    "c) A and B win alternately,\n",
    "\n",
    "d) B wins at least 1 game."
   ]
  },
  {
   "cell_type": "markdown",
   "metadata": {},
   "source": [
    "### Problem 12:\n",
    "\n",
    "Assuming that the probability of a boy or girl being born is 0.5, calculate the following probabilities in a family of 3:\n",
    "\n",
    "a) The probability of 3 boys\n",
    "\n",
    "b) The probability of 3 girls\n",
    "\n",
    "c) The probability of 2 boys and 1 girl\n",
    "\n",
    "d) The probability of 2 girls and 1 boy"
   ]
  },
  {
   "cell_type": "code",
   "execution_count": null,
   "metadata": {},
   "outputs": [],
   "source": []
  }
 ],
 "metadata": {
  "kernelspec": {
   "display_name": "Python 3",
   "language": "python",
   "name": "python3"
  },
  "language_info": {
   "codemirror_mode": {
    "name": "ipython",
    "version": 3
   },
   "file_extension": ".py",
   "mimetype": "text/x-python",
   "name": "python",
   "nbconvert_exporter": "python",
   "pygments_lexer": "ipython3",
   "version": "3.7.3"
  }
 },
 "nbformat": 4,
 "nbformat_minor": 2
}
