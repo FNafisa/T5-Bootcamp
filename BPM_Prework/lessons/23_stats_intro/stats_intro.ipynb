{
 "cells": [
  {
   "cell_type": "markdown",
   "metadata": {},
   "source": [
    "# Introduction to Statistics"
   ]
  },
  {
   "cell_type": "markdown",
   "metadata": {},
   "source": [
    "__Purpose:__ The purpose of this lecture is to offer a brief overview of the field of Statistics which is paramount to performing Data Science. We will cover the most important introductory topics of Statistics starting with the type of statistics. \n",
    "\n",
    "__At the end of this lecture you will be able to:__\n",
    "> 1. Understand and define Statistics as well as differentiate between Descriptive and Inferential Statistics "
   ]
  },
  {
   "cell_type": "markdown",
   "metadata": {},
   "source": [
    "## 1.1 Introduction to Statistics "
   ]
  },
  {
   "cell_type": "markdown",
   "metadata": {},
   "source": [
    "### 1.1.1 What is Statistics? "
   ]
  },
  {
   "cell_type": "markdown",
   "metadata": {},
   "source": [
    "__Overview:__ \n",
    "\n",
    "- __[Statistics](https://en.wikipedia.org/wiki/Statistics):__ Statistics is a branch of Mathematics that deals with collecting, organizing, and interpreting data \n",
    "- Statistics is used in many fields from Social Science, Finance, Healthcare, and Sports. \n",
    "- The goal of Statistics is to study a population and observe their characteristics. However, it is often difficult to obtain an entire population. Instead, we deal with a subset of the population known as a sample.\n",
    "- Examples of areas you encounter in your day-to-day life which Statistics play a large role in: \n",
    "> 1. Census Data \n",
    "> 2. Sports Boxscores \n",
    "> 3. Weather Forecasts \n",
    "> 4. Political Campaigning \n",
    "> 5. Stock Market "
   ]
  },
  {
   "cell_type": "markdown",
   "metadata": {},
   "source": [
    "### 1.1.2 How is Statistics used in Data Science? "
   ]
  },
  {
   "cell_type": "markdown",
   "metadata": {},
   "source": [
    "__Overview:__ \n",
    "- Statistics is one of the main disciplines that make up the field of Data Science\n",
    "- Statistics provides tools for Data Scientists such as: \n",
    "> 1. Determining how much of your result can be attributed to \"Signal\" and how much can be attributed to \"Noise\"\n",
    "> 2. Analyzing the efficacy of a data set and its collection methods before analysis is performed on the data\n",
    "> 3. Summarizing a data set in terms of descriptive statistics as well as plots and other metrics \n",
    "> 4. Testing a hypothesis one may have about the data (i.e. one variable influences the other, two groups are identical, etc.) \n",
    "> 5. Characterize data into one of the common distributions and then use this for prediction "
   ]
  },
  {
   "cell_type": "markdown",
   "metadata": {},
   "source": [
    "### 1.1.3 Statistics in Python: "
   ]
  },
  {
   "cell_type": "markdown",
   "metadata": {},
   "source": [
    "__Overview:__ \n",
    "- Python has a wide range of useful functions to perform Statistical routines. These functions are found in the following two Modules: \n",
    "> 1. __[`scipy.stats`](https://docs.scipy.org/doc/scipy-0.18.1/reference/stats.html):__ The `stats` module in the SciPy Package offers many Statistical functions such as mean, zscore, correlation as well as other sub-modules for Continuous Distributions, Multivariate Distributions, and Discrete Distributions\n",
    "> 2. __[`numpy`](https://docs.scipy.org/doc/numpy-1.14.0/reference/routines.statistics.html):__ The `numpy` package itself offers many Statistical Functions such as Order Statistics, Averages and Variances, Correlating, and Histograms\n",
    "\n",
    "__Helpful Points:__\n",
    "1. It is not necessary to access a sub-package within the `numpy` package like we did with `numpy.linalg`. Instead, we can simply execute the function directly from NumPy: `np.func_name`\n",
    "\n",
    "__Practice:__ Import the Statistics Modules in Python "
   ]
  },
  {
   "cell_type": "markdown",
   "metadata": {},
   "source": [
    "### Example 1 (Importing Statistics Packages):"
   ]
  },
  {
   "cell_type": "code",
   "execution_count": null,
   "metadata": {},
   "outputs": [],
   "source": [
    "import numpy as np\n",
    "import pandas as pd\n",
    "from scipy import stats\n",
    "import seaborn as sns\n",
    "import math \n",
    "import random\n",
    "import matplotlib.pyplot as plt\n",
    "%matplotlib inline"
   ]
  },
  {
   "cell_type": "code",
   "execution_count": null,
   "metadata": {},
   "outputs": [],
   "source": [
    "%whos"
   ]
  },
  {
   "cell_type": "markdown",
   "metadata": {},
   "source": [
    "### Example 2 (Testing Statistics Packages):"
   ]
  },
  {
   "cell_type": "code",
   "execution_count": null,
   "metadata": {},
   "outputs": [],
   "source": [
    "stats.describe([1,2,3,4,5]) # using scipy"
   ]
  },
  {
   "cell_type": "code",
   "execution_count": null,
   "metadata": {},
   "outputs": [],
   "source": [
    "np.mean([1,2,3,4,5]) # using numpy "
   ]
  },
  {
   "cell_type": "markdown",
   "metadata": {},
   "source": [
    "### 1.1.3 Types of Statistics:"
   ]
  },
  {
   "cell_type": "markdown",
   "metadata": {},
   "source": [
    "__Overview:__ \n",
    "- There are two different types of statistics: \n",
    "> 1. __[Descriptive Statistics](https://en.wikipedia.org/wiki/Descriptive_statistics):__ The purpose of Descriptive Statistics is to provide a summary of the data and its properties \n",
    ">> - Descriptive Statistics can take the form of simple metrics known as summary statistics (i.e. number of observations, minimum value, maximum value, mean, variance, etc.) or they can take the form of visualizations (i.e. histograms, scatterplots, pie charts, box plots, etc.) \n",
    ">> - Examples of Descriptive Statistics:<br>\n",
    ">> >__a.__ 75th percentile of height of men in the United States<br> \n",
    ">> >__b.__ Mean Field Goal Percentage of a professional baskebtall player in the NBA<br> \n",
    ">> >__c.__ Median salary of Data Scientistis across every major metropolitan area in the United States <br>\n",
    "> 2. __[Inferential Statistics](https://en.wikipedia.org/wiki/Statistical_inference):__ The purpose of Inferential Statistics is to make inferences about a population using a subset of the population known as a sample \n",
    ">> - Inferential Statistics begin with a hypothesis about the population and then the sample is used to prove or disprove the hypoothesis, effectively inferring something about the population\n",
    ">> - Examples of Inferential Statistics: <br>\n",
    ">> >__a.__ Survey is sent out to 1000 residents in Chicago asking them about their political views. The survey designers are interested in knowing if Chicago residents in different areas have more or less conservative views. <br>\n",
    ">> >__b.__ A clinician develops a new drug to help patients relieve anxiety. The clinician collects a sample of individuals and gives half of them the new drug and the other half are given a placebo drug. \n",
    "\n",
    "__Helpful Points:__ \n",
    "1. It is important to understand that the purpose of Descriptive Statistics is to simply collect and record metrics and nothing more. It does NOT involve any generalization beyond the summary statistics \n",
    "2. In an experiment it is common to use both Descriptive AND Inferential Statistics "
   ]
  }
 ],
 "metadata": {
  "kernelspec": {
   "display_name": "Python 3",
   "language": "python",
   "name": "python3"
  },
  "language_info": {
   "codemirror_mode": {
    "name": "ipython",
    "version": 3
   },
   "file_extension": ".py",
   "mimetype": "text/x-python",
   "name": "python",
   "nbconvert_exporter": "python",
   "pygments_lexer": "ipython3",
   "version": "3.7.3"
  },
  "toc": {
   "base_numbering": 1,
   "nav_menu": {},
   "number_sections": false,
   "sideBar": true,
   "skip_h1_title": false,
   "title_cell": "Table of Contents",
   "title_sidebar": "Contents",
   "toc_cell": false,
   "toc_position": {},
   "toc_section_display": true,
   "toc_window_display": true
  }
 },
 "nbformat": 4,
 "nbformat_minor": 2
}
