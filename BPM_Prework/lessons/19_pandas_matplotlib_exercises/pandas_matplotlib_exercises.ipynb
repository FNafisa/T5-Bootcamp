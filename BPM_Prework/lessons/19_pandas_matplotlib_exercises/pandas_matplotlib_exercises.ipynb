{
 "cells": [
  {
   "cell_type": "markdown",
   "metadata": {},
   "source": [
    "#  Challenge : Exploratory Data Analysis w/ Pandas and Matplotlib\n"
   ]
  },
  {
   "cell_type": "markdown",
   "metadata": {},
   "source": [
    "Let's switch gear and work with a real data set from homes being sold in the Seattle area.\n",
    "\n",
    "Let's start by reading and exploring the data."
   ]
  },
  {
   "cell_type": "code",
   "execution_count": 1,
   "metadata": {
    "collapsed": true
   },
   "outputs": [],
   "source": [
    "import matplotlib.pyplot as plt\n",
    "import numpy as np\n",
    "import pandas as pd\n",
    "\n",
    "# this statement allows the visuals to render within your Jupyter Notebook\n",
    "%matplotlib inline "
   ]
  },
  {
   "cell_type": "code",
   "execution_count": 2,
   "metadata": {
    "collapsed": true
   },
   "outputs": [],
   "source": [
    "data = pd.read_csv('data/SeattleHomePrices.csv')"
   ]
  },
  {
   "cell_type": "code",
   "execution_count": 9,
   "metadata": {},
   "outputs": [
    {
     "data": {
      "text/html": [
       "<div>\n",
       "<style scoped>\n",
       "    .dataframe tbody tr th:only-of-type {\n",
       "        vertical-align: middle;\n",
       "    }\n",
       "\n",
       "    .dataframe tbody tr th {\n",
       "        vertical-align: top;\n",
       "    }\n",
       "\n",
       "    .dataframe thead th {\n",
       "        text-align: right;\n",
       "    }\n",
       "</style>\n",
       "<table border=\"1\" class=\"dataframe\">\n",
       "  <thead>\n",
       "    <tr style=\"text-align: right;\">\n",
       "      <th></th>\n",
       "      <th>SALE TYPE</th>\n",
       "      <th>SOLD DATE</th>\n",
       "      <th>PROPERTY TYPE</th>\n",
       "      <th>ADDRESS</th>\n",
       "      <th>CITY</th>\n",
       "      <th>STATE</th>\n",
       "      <th>ZIP</th>\n",
       "      <th>PRICE</th>\n",
       "      <th>BEDS</th>\n",
       "      <th>BATHS</th>\n",
       "      <th>...</th>\n",
       "      <th>STATUS</th>\n",
       "      <th>NEXT OPEN HOUSE START TIME</th>\n",
       "      <th>NEXT OPEN HOUSE END TIME</th>\n",
       "      <th>URL (SEE http://www.redfin.com/buy-a-home/comparative-market-analysis FOR INFO ON PRICING)</th>\n",
       "      <th>SOURCE</th>\n",
       "      <th>MLS#</th>\n",
       "      <th>FAVORITE</th>\n",
       "      <th>INTERESTED</th>\n",
       "      <th>LATITUDE</th>\n",
       "      <th>LONGITUDE</th>\n",
       "    </tr>\n",
       "  </thead>\n",
       "  <tbody>\n",
       "    <tr>\n",
       "      <th>0</th>\n",
       "      <td>MLS Listing</td>\n",
       "      <td>NaN</td>\n",
       "      <td>Condo/Co-op</td>\n",
       "      <td>510 Lee St #7</td>\n",
       "      <td>Seattle</td>\n",
       "      <td>WA</td>\n",
       "      <td>98109</td>\n",
       "      <td>459000</td>\n",
       "      <td>2</td>\n",
       "      <td>1.00</td>\n",
       "      <td>...</td>\n",
       "      <td>Active</td>\n",
       "      <td>February-3-2018 11:00 AM</td>\n",
       "      <td>February-3-2018 01:00 PM</td>\n",
       "      <td>http://www.redfin.com/WA/Seattle/510-Lee-St-98...</td>\n",
       "      <td>NWMLS</td>\n",
       "      <td>1237585</td>\n",
       "      <td>N</td>\n",
       "      <td>Y</td>\n",
       "      <td>47.631632</td>\n",
       "      <td>-122.347049</td>\n",
       "    </tr>\n",
       "    <tr>\n",
       "      <th>1</th>\n",
       "      <td>MLS Listing</td>\n",
       "      <td>NaN</td>\n",
       "      <td>Single Family Residential</td>\n",
       "      <td>352 NE 53rd St</td>\n",
       "      <td>Seattle</td>\n",
       "      <td>WA</td>\n",
       "      <td>98105</td>\n",
       "      <td>648000</td>\n",
       "      <td>3</td>\n",
       "      <td>1.75</td>\n",
       "      <td>...</td>\n",
       "      <td>Active</td>\n",
       "      <td>February-1-2018 05:00 PM</td>\n",
       "      <td>February-1-2018 07:00 PM</td>\n",
       "      <td>http://www.redfin.com/WA/Seattle/352-NE-53rd-S...</td>\n",
       "      <td>NWMLS</td>\n",
       "      <td>1239016</td>\n",
       "      <td>N</td>\n",
       "      <td>Y</td>\n",
       "      <td>47.667321</td>\n",
       "      <td>-122.323260</td>\n",
       "    </tr>\n",
       "    <tr>\n",
       "      <th>2</th>\n",
       "      <td>MLS Listing</td>\n",
       "      <td>NaN</td>\n",
       "      <td>Single Family Residential</td>\n",
       "      <td>11025 21st Ave SW</td>\n",
       "      <td>Seattle</td>\n",
       "      <td>WA</td>\n",
       "      <td>98146</td>\n",
       "      <td>440000</td>\n",
       "      <td>3</td>\n",
       "      <td>1.75</td>\n",
       "      <td>...</td>\n",
       "      <td>Active</td>\n",
       "      <td>February-3-2018 02:00 PM</td>\n",
       "      <td>February-3-2018 04:00 PM</td>\n",
       "      <td>http://www.redfin.com/WA/Seattle/11025-21st-Av...</td>\n",
       "      <td>NWMLS</td>\n",
       "      <td>1238951</td>\n",
       "      <td>N</td>\n",
       "      <td>Y</td>\n",
       "      <td>47.504199</td>\n",
       "      <td>-122.360753</td>\n",
       "    </tr>\n",
       "    <tr>\n",
       "      <th>3</th>\n",
       "      <td>MLS Listing</td>\n",
       "      <td>NaN</td>\n",
       "      <td>Single Family Residential</td>\n",
       "      <td>6846 24th Ave NE</td>\n",
       "      <td>Seattle</td>\n",
       "      <td>WA</td>\n",
       "      <td>98115</td>\n",
       "      <td>715000</td>\n",
       "      <td>3</td>\n",
       "      <td>1.00</td>\n",
       "      <td>...</td>\n",
       "      <td>Active</td>\n",
       "      <td>January-31-2018 11:00 AM</td>\n",
       "      <td>January-31-2018 01:00 PM</td>\n",
       "      <td>http://www.redfin.com/WA/Seattle/6846-24th-Ave...</td>\n",
       "      <td>NWMLS</td>\n",
       "      <td>1235253</td>\n",
       "      <td>N</td>\n",
       "      <td>Y</td>\n",
       "      <td>47.679050</td>\n",
       "      <td>-122.301420</td>\n",
       "    </tr>\n",
       "    <tr>\n",
       "      <th>4</th>\n",
       "      <td>MLS Listing</td>\n",
       "      <td>NaN</td>\n",
       "      <td>Condo/Co-op</td>\n",
       "      <td>401 9th Ave N #618</td>\n",
       "      <td>Seattle</td>\n",
       "      <td>WA</td>\n",
       "      <td>98109</td>\n",
       "      <td>749900</td>\n",
       "      <td>1</td>\n",
       "      <td>1.50</td>\n",
       "      <td>...</td>\n",
       "      <td>Active</td>\n",
       "      <td>NaN</td>\n",
       "      <td>NaN</td>\n",
       "      <td>http://www.redfin.com/WA/Seattle/401-9th-Ave-N...</td>\n",
       "      <td>NWMLS</td>\n",
       "      <td>1238328</td>\n",
       "      <td>N</td>\n",
       "      <td>Y</td>\n",
       "      <td>47.622291</td>\n",
       "      <td>-122.339972</td>\n",
       "    </tr>\n",
       "  </tbody>\n",
       "</table>\n",
       "<p>5 rows × 27 columns</p>\n",
       "</div>"
      ],
      "text/plain": [
       "     SALE TYPE  SOLD DATE              PROPERTY TYPE             ADDRESS  \\\n",
       "0  MLS Listing        NaN                Condo/Co-op       510 Lee St #7   \n",
       "1  MLS Listing        NaN  Single Family Residential      352 NE 53rd St   \n",
       "2  MLS Listing        NaN  Single Family Residential   11025 21st Ave SW   \n",
       "3  MLS Listing        NaN  Single Family Residential    6846 24th Ave NE   \n",
       "4  MLS Listing        NaN                Condo/Co-op  401 9th Ave N #618   \n",
       "\n",
       "      CITY STATE    ZIP   PRICE  BEDS  BATHS  ...  STATUS  \\\n",
       "0  Seattle    WA  98109  459000     2   1.00  ...  Active   \n",
       "1  Seattle    WA  98105  648000     3   1.75  ...  Active   \n",
       "2  Seattle    WA  98146  440000     3   1.75  ...  Active   \n",
       "3  Seattle    WA  98115  715000     3   1.00  ...  Active   \n",
       "4  Seattle    WA  98109  749900     1   1.50  ...  Active   \n",
       "\n",
       "   NEXT OPEN HOUSE START TIME  NEXT OPEN HOUSE END TIME  \\\n",
       "0    February-3-2018 11:00 AM  February-3-2018 01:00 PM   \n",
       "1    February-1-2018 05:00 PM  February-1-2018 07:00 PM   \n",
       "2    February-3-2018 02:00 PM  February-3-2018 04:00 PM   \n",
       "3    January-31-2018 11:00 AM  January-31-2018 01:00 PM   \n",
       "4                         NaN                       NaN   \n",
       "\n",
       "   URL (SEE http://www.redfin.com/buy-a-home/comparative-market-analysis FOR INFO ON PRICING)  \\\n",
       "0  http://www.redfin.com/WA/Seattle/510-Lee-St-98...                                            \n",
       "1  http://www.redfin.com/WA/Seattle/352-NE-53rd-S...                                            \n",
       "2  http://www.redfin.com/WA/Seattle/11025-21st-Av...                                            \n",
       "3  http://www.redfin.com/WA/Seattle/6846-24th-Ave...                                            \n",
       "4  http://www.redfin.com/WA/Seattle/401-9th-Ave-N...                                            \n",
       "\n",
       "   SOURCE     MLS#  FAVORITE INTERESTED   LATITUDE   LONGITUDE  \n",
       "0   NWMLS  1237585         N          Y  47.631632 -122.347049  \n",
       "1   NWMLS  1239016         N          Y  47.667321 -122.323260  \n",
       "2   NWMLS  1238951         N          Y  47.504199 -122.360753  \n",
       "3   NWMLS  1235253         N          Y  47.679050 -122.301420  \n",
       "4   NWMLS  1238328         N          Y  47.622291 -122.339972  \n",
       "\n",
       "[5 rows x 27 columns]"
      ]
     },
     "execution_count": 9,
     "metadata": {},
     "output_type": "execute_result"
    }
   ],
   "source": [
    "data.head()"
   ]
  },
  {
   "cell_type": "markdown",
   "metadata": {},
   "source": [
    "## Problem 1\n",
    "Let's use a subset of the data set that only contains the following columns: PROPERTY TYPE, ZIP, PRICE, BEDS, BATHS, SQUARE FEET, DAYS ON MARKET. Save it in a Pandas Dataframe named small_data."
   ]
  },
  {
   "cell_type": "code",
   "execution_count": 24,
   "metadata": {
    "collapsed": true
   },
   "outputs": [
    {
     "data": {
      "text/html": [
       "<div>\n",
       "<style scoped>\n",
       "    .dataframe tbody tr th:only-of-type {\n",
       "        vertical-align: middle;\n",
       "    }\n",
       "\n",
       "    .dataframe tbody tr th {\n",
       "        vertical-align: top;\n",
       "    }\n",
       "\n",
       "    .dataframe thead th {\n",
       "        text-align: right;\n",
       "    }\n",
       "</style>\n",
       "<table border=\"1\" class=\"dataframe\">\n",
       "  <thead>\n",
       "    <tr style=\"text-align: right;\">\n",
       "      <th></th>\n",
       "      <th>PROPERTY TYPE</th>\n",
       "      <th>ZIP</th>\n",
       "      <th>PRICE</th>\n",
       "      <th>BEDS</th>\n",
       "      <th>BATHS</th>\n",
       "      <th>SQUARE FEET</th>\n",
       "      <th>DAYS ON MARKET</th>\n",
       "    </tr>\n",
       "  </thead>\n",
       "  <tbody>\n",
       "    <tr>\n",
       "      <th>0</th>\n",
       "      <td>Condo/Co-op</td>\n",
       "      <td>98109</td>\n",
       "      <td>459000</td>\n",
       "      <td>2</td>\n",
       "      <td>1.00</td>\n",
       "      <td>760.0</td>\n",
       "      <td>1</td>\n",
       "    </tr>\n",
       "    <tr>\n",
       "      <th>1</th>\n",
       "      <td>Single Family Residential</td>\n",
       "      <td>98105</td>\n",
       "      <td>648000</td>\n",
       "      <td>3</td>\n",
       "      <td>1.75</td>\n",
       "      <td>1170.0</td>\n",
       "      <td>1</td>\n",
       "    </tr>\n",
       "    <tr>\n",
       "      <th>2</th>\n",
       "      <td>Single Family Residential</td>\n",
       "      <td>98146</td>\n",
       "      <td>440000</td>\n",
       "      <td>3</td>\n",
       "      <td>1.75</td>\n",
       "      <td>1510.0</td>\n",
       "      <td>1</td>\n",
       "    </tr>\n",
       "    <tr>\n",
       "      <th>3</th>\n",
       "      <td>Single Family Residential</td>\n",
       "      <td>98115</td>\n",
       "      <td>715000</td>\n",
       "      <td>3</td>\n",
       "      <td>1.00</td>\n",
       "      <td>1820.0</td>\n",
       "      <td>1</td>\n",
       "    </tr>\n",
       "    <tr>\n",
       "      <th>4</th>\n",
       "      <td>Condo/Co-op</td>\n",
       "      <td>98109</td>\n",
       "      <td>749900</td>\n",
       "      <td>1</td>\n",
       "      <td>1.50</td>\n",
       "      <td>1013.0</td>\n",
       "      <td>5</td>\n",
       "    </tr>\n",
       "    <tr>\n",
       "      <th>...</th>\n",
       "      <td>...</td>\n",
       "      <td>...</td>\n",
       "      <td>...</td>\n",
       "      <td>...</td>\n",
       "      <td>...</td>\n",
       "      <td>...</td>\n",
       "      <td>...</td>\n",
       "    </tr>\n",
       "    <tr>\n",
       "      <th>345</th>\n",
       "      <td>Condo/Co-op</td>\n",
       "      <td>98119</td>\n",
       "      <td>450000</td>\n",
       "      <td>1</td>\n",
       "      <td>1.00</td>\n",
       "      <td>501.0</td>\n",
       "      <td>83</td>\n",
       "    </tr>\n",
       "    <tr>\n",
       "      <th>346</th>\n",
       "      <td>Vacant Land</td>\n",
       "      <td>98178</td>\n",
       "      <td>120000</td>\n",
       "      <td>0</td>\n",
       "      <td>NaN</td>\n",
       "      <td>NaN</td>\n",
       "      <td>84</td>\n",
       "    </tr>\n",
       "    <tr>\n",
       "      <th>347</th>\n",
       "      <td>Single Family Residential</td>\n",
       "      <td>98106</td>\n",
       "      <td>488900</td>\n",
       "      <td>3</td>\n",
       "      <td>2.00</td>\n",
       "      <td>1610.0</td>\n",
       "      <td>85</td>\n",
       "    </tr>\n",
       "    <tr>\n",
       "      <th>348</th>\n",
       "      <td>Condo/Co-op</td>\n",
       "      <td>98102</td>\n",
       "      <td>779000</td>\n",
       "      <td>3</td>\n",
       "      <td>3.00</td>\n",
       "      <td>1833.0</td>\n",
       "      <td>85</td>\n",
       "    </tr>\n",
       "    <tr>\n",
       "      <th>349</th>\n",
       "      <td>Single Family Residential</td>\n",
       "      <td>98112</td>\n",
       "      <td>5295000</td>\n",
       "      <td>4</td>\n",
       "      <td>4.25</td>\n",
       "      <td>6040.0</td>\n",
       "      <td>85</td>\n",
       "    </tr>\n",
       "  </tbody>\n",
       "</table>\n",
       "<p>350 rows × 7 columns</p>\n",
       "</div>"
      ],
      "text/plain": [
       "                 PROPERTY TYPE    ZIP    PRICE  BEDS  BATHS  SQUARE FEET  \\\n",
       "0                  Condo/Co-op  98109   459000     2   1.00        760.0   \n",
       "1    Single Family Residential  98105   648000     3   1.75       1170.0   \n",
       "2    Single Family Residential  98146   440000     3   1.75       1510.0   \n",
       "3    Single Family Residential  98115   715000     3   1.00       1820.0   \n",
       "4                  Condo/Co-op  98109   749900     1   1.50       1013.0   \n",
       "..                         ...    ...      ...   ...    ...          ...   \n",
       "345                Condo/Co-op  98119   450000     1   1.00        501.0   \n",
       "346                Vacant Land  98178   120000     0    NaN          NaN   \n",
       "347  Single Family Residential  98106   488900     3   2.00       1610.0   \n",
       "348                Condo/Co-op  98102   779000     3   3.00       1833.0   \n",
       "349  Single Family Residential  98112  5295000     4   4.25       6040.0   \n",
       "\n",
       "     DAYS ON MARKET  \n",
       "0                 1  \n",
       "1                 1  \n",
       "2                 1  \n",
       "3                 1  \n",
       "4                 5  \n",
       "..              ...  \n",
       "345              83  \n",
       "346              84  \n",
       "347              85  \n",
       "348              85  \n",
       "349              85  \n",
       "\n",
       "[350 rows x 7 columns]"
      ]
     },
     "execution_count": 24,
     "metadata": {},
     "output_type": "execute_result"
    }
   ],
   "source": [
    "### Write the code here\n",
    "small_data= data.loc[:,[\"PROPERTY TYPE\",\"ZIP\",\"PRICE\",\"BEDS\",\"BATHS\",\"SQUARE FEET\",\"DAYS ON MARKET\"]]\n",
    "\n",
    "small_data"
   ]
  },
  {
   "cell_type": "markdown",
   "metadata": {},
   "source": [
    "## Problem 2\n",
    "\n",
    "    *Show a sample of 5 houses\n",
    "    *Get a summary of the numerical values"
   ]
  },
  {
   "cell_type": "code",
   "execution_count": 31,
   "metadata": {
    "collapsed": true
   },
   "outputs": [
    {
     "name": "stdout",
     "output_type": "stream",
     "text": [
      "                 PROPERTY TYPE    ZIP    PRICE  BEDS  BATHS  SQUARE FEET  \\\n",
      "20                   Townhouse  98126   425000     2   2.25       1138.0   \n",
      "221                  Townhouse  98109   995950     2   2.00       1398.0   \n",
      "326                Condo/Co-op  98168   164950     2   1.00        945.0   \n",
      "286  Single Family Residential  98119   835000     1   1.00       1210.0   \n",
      "199  Single Family Residential  98133  1495000     4   3.50       3710.0   \n",
      "\n",
      "     DAYS ON MARKET  \n",
      "20                1  \n",
      "221              14  \n",
      "326              68  \n",
      "286              42  \n",
      "199              12   \n",
      "++++++++++++++++++++++++++++++++++++++++++++++++++++\n",
      "                 ZIP         PRICE        BEDS       BATHS   SQUARE FEET  \\\n",
      "count    350.000000  3.500000e+02  350.000000  324.000000    327.000000   \n",
      "mean   98125.342857  9.730178e+05    2.888571    2.219907   2039.064220   \n",
      "std       25.070723  9.797377e+05    1.842397    1.208547   1572.550774   \n",
      "min    98101.000000  7.500000e+04    0.000000    0.750000    240.000000   \n",
      "25%    98107.000000  5.121750e+05    2.000000    1.500000   1090.000000   \n",
      "50%    98118.000000  7.294440e+05    3.000000    2.000000   1640.000000   \n",
      "75%    98126.000000  1.095000e+06    4.000000    2.750000   2565.000000   \n",
      "max    98199.000000  1.000000e+07   11.000000   11.000000  17011.000000   \n",
      "\n",
      "       DAYS ON MARKET  \n",
      "count      350.000000  \n",
      "mean        19.880000  \n",
      "std         23.239069  \n",
      "min          1.000000  \n",
      "25%          5.000000  \n",
      "50%          8.000000  \n",
      "75%         26.000000  \n",
      "max        114.000000  \n"
     ]
    }
   ],
   "source": [
    "### Write code here\n",
    "\n",
    "print(\n",
    "    small_data.sample(5), \"\\n++++++++++++++++++++++++++++++++++++++++++++++++++++\\n\"\n",
    "    ,small_data.describe()\n",
    "    )\n"
   ]
  },
  {
   "cell_type": "code",
   "execution_count": 32,
   "metadata": {},
   "outputs": [
    {
     "name": "stdout",
     "output_type": "stream",
     "text": [
      "<class 'pandas.core.frame.DataFrame'>\n",
      "RangeIndex: 350 entries, 0 to 349\n",
      "Data columns (total 7 columns):\n",
      " #   Column          Non-Null Count  Dtype  \n",
      "---  ------          --------------  -----  \n",
      " 0   PROPERTY TYPE   350 non-null    object \n",
      " 1   ZIP             350 non-null    int64  \n",
      " 2   PRICE           350 non-null    int64  \n",
      " 3   BEDS            350 non-null    int64  \n",
      " 4   BATHS           324 non-null    float64\n",
      " 5   SQUARE FEET     327 non-null    float64\n",
      " 6   DAYS ON MARKET  350 non-null    int64  \n",
      "dtypes: float64(2), int64(4), object(1)\n",
      "memory usage: 19.3+ KB\n"
     ]
    }
   ],
   "source": [
    "small_data.info()"
   ]
  },
  {
   "cell_type": "markdown",
   "metadata": {},
   "source": [
    "## Problem 3\n",
    "Our data set contains 350 houses.  However, there are some NULL values in SQUARE FEET and BATHS.  Let's drop the houses with at least 1 NULL value in any of the columns of the dataset.\n",
    "\n",
    "**Hint:** Pandas dropna"
   ]
  },
  {
   "cell_type": "code",
   "execution_count": 37,
   "metadata": {
    "collapsed": true
   },
   "outputs": [],
   "source": [
    "### Write the code here\n",
    "\n",
    "small_data.dropna(inplace=True)\n"
   ]
  },
  {
   "cell_type": "code",
   "execution_count": 38,
   "metadata": {
    "collapsed": true
   },
   "outputs": [
    {
     "name": "stdout",
     "output_type": "stream",
     "text": [
      "<class 'pandas.core.frame.DataFrame'>\n",
      "Int64Index: 324 entries, 0 to 349\n",
      "Data columns (total 7 columns):\n",
      " #   Column          Non-Null Count  Dtype  \n",
      "---  ------          --------------  -----  \n",
      " 0   PROPERTY TYPE   324 non-null    object \n",
      " 1   ZIP             324 non-null    int64  \n",
      " 2   PRICE           324 non-null    int64  \n",
      " 3   BEDS            324 non-null    int64  \n",
      " 4   BATHS           324 non-null    float64\n",
      " 5   SQUARE FEET     324 non-null    float64\n",
      " 6   DAYS ON MARKET  324 non-null    int64  \n",
      "dtypes: float64(2), int64(4), object(1)\n",
      "memory usage: 20.2+ KB\n"
     ]
    }
   ],
   "source": [
    "small_data.info()"
   ]
  },
  {
   "cell_type": "markdown",
   "metadata": {},
   "source": [
    "## Problem 4\n",
    "Create a histograms that shows the distribution of the number of BEDS"
   ]
  },
  {
   "cell_type": "code",
   "execution_count": 52,
   "metadata": {
    "collapsed": true
   },
   "outputs": [
    {
     "data": {
      "image/png": "[encoded data removed]",
      "text/plain": [
       "<Figure size 576x576 with 2 Axes>"
      ]
     },
     "metadata": {
      "needs_background": "light"
     },
     "output_type": "display_data"
    }
   ],
   "source": [
    "### Write the code here\n",
    "(\n",
    "    plt.figure(figsize=[8,8])\n",
    "\n",
    "    ,plt.subplot(2,2,1)\n",
    "    ,plt.title(\"Number of Beds Destribution\")\n",
    "    ,plt.hist(small_data[\"BEDS\"])\n",
    "\n",
    "    ,plt.subplot(2,2,2)\n",
    "    ,plt.title(\"Number of Beds Destribution with MAX\")\n",
    "    ,plt.hist(small_data[\"BEDS\"], small_data[\"BEDS\"].max())\n",
    ");\n",
    "\n"
   ]
  },
  {
   "cell_type": "markdown",
   "metadata": {},
   "source": [
    "Which is the most common number of bedrooms?"
   ]
  },
  {
   "cell_type": "markdown",
   "metadata": {},
   "source": [
    "## Problem 5\n",
    "\n",
    "Create a pie chart that shows the percenatge of houses with more than 2 bathrooms, compared to 2 or less bathrooms."
   ]
  },
  {
   "cell_type": "code",
   "execution_count": 72,
   "metadata": {
    "collapsed": true
   },
   "outputs": [
    {
     "data": {
      "image/png": "[encoded data removed]",
      "text/plain": [
       "<Figure size 432x288 with 1 Axes>"
      ]
     },
     "metadata": {},
     "output_type": "display_data"
    },
    {
     "data": {
      "image/png": "[encoded data removed]",
      "text/plain": [
       "<Figure size 360x360 with 1 Axes>"
      ]
     },
     "metadata": {},
     "output_type": "display_data"
    }
   ],
   "source": [
    "### Write the code here\n",
    "\n",
    "greater = len(small_data[small_data['BATHS']>2])\n",
    "lessthan = len(small_data[small_data['BATHS']<=2])\n",
    "\n",
    "\n",
    "plt.pie(\n",
    "    [len(small_data[small_data[\"BATHS\"]>2]),len(small_data[small_data[\"BATHS\"]<=2])],labels=['Greater','Less Than']\n",
    "    # [greater,lessthan],labels=['Greater','Less Than']\n",
    ");\n",
    "\n",
    "\n",
    "plt.figure(figsize=[5,5])\n",
    "plt.pie(\n",
    "    [greater,lessthan],labels=['Greater','Less Than']\n",
    "    );"
   ]
  },
  {
   "cell_type": "markdown",
   "metadata": {},
   "source": [
    "## Problem 6\n",
    "\n",
    "Create two scatter plots that shows the PRICE in the $y$ axis and the SQUARE FEET in the $x$-axis.\n",
    "\n",
    "1) One scatter plot should be in a normal scale.\n",
    "\n",
    "2) The other scatter plot should have a log-log scale."
   ]
  },
  {
   "cell_type": "code",
   "execution_count": 87,
   "metadata": {
    "collapsed": true
   },
   "outputs": [
    {
     "data": {
      "image/png": "[encoded data removed]",
      "text/plain": [
       "<Figure size 720x360 with 2 Axes>"
      ]
     },
     "metadata": {
      "needs_background": "light"
     },
     "output_type": "display_data"
    },
    {
     "data": {
      "image/png": "[encoded data removed]",
      "text/plain": [
       "<Figure size 720x360 with 2 Axes>"
      ]
     },
     "metadata": {
      "needs_background": "light"
     },
     "output_type": "display_data"
    }
   ],
   "source": [
    "### Write the code here\n",
    "plt.figure(figsize=(10,5))\n",
    "(\n",
    "    plt.subplot(1,2,1)\n",
    "    ,plt.scatter(small_data[\"SQUARE FEET\"],small_data[\"PRICE\"],alpha = 0.5,s=10)\n",
    "\n",
    "    ,plt.subplot(1,2,2)\n",
    "    ,plt.loglog(small_data[\"SQUARE FEET\"],small_data[\"PRICE\"],'r-',alpha = 0.5)\n",
    ");\n",
    "\n",
    "plt.figure(figsize=(10,5))\n",
    "plt.subplot(1,2,1)\n",
    "plt.scatter(small_data['SQUARE FEET'],small_data['PRICE'],alpha = 0.5,s=10);\n",
    "\n",
    "plt.subplot(1,2,2)\n",
    "plt.loglog(small_data['SQUARE FEET'],small_data['PRICE'],'r.',alpha = 0.5);"
   ]
  },
  {
   "cell_type": "markdown",
   "metadata": {},
   "source": [
    "## Problem 7 (Challenge)\n",
    "\n",
    "Create a bar chart that shows the different PROPERTY TYPEs in the $x$-axis, and the average days on the market on the $y$-axis."
   ]
  },
  {
   "cell_type": "code",
   "execution_count": null,
   "metadata": {
    "collapsed": true
   },
   "outputs": [],
   "source": [
    "### Write the code here\n",
    "\n",
    "\n"
   ]
  },
  {
   "cell_type": "markdown",
   "metadata": {},
   "source": [
    "Which PROPERTY TYPE spends the most amount of days in the market?"
   ]
  },
  {
   "cell_type": "code",
   "execution_count": null,
   "metadata": {
    "collapsed": true
   },
   "outputs": [],
   "source": []
  }
 ],
 "metadata": {
  "kernelspec": {
   "display_name": "Python 3",
   "language": "python",
   "name": "python3"
  },
  "language_info": {
   "codemirror_mode": {
    "name": "ipython",
    "version": 3
   },
   "file_extension": ".py",
   "mimetype": "text/x-python",
   "name": "python",
   "nbconvert_exporter": "python",
   "pygments_lexer": "ipython3",
   "version": "3.9.7"
  },
  "toc": {
   "base_numbering": 1,
   "nav_menu": {},
   "number_sections": true,
   "sideBar": true,
   "skip_h1_title": false,
   "title_cell": "Table of Contents",
   "title_sidebar": "Contents",
   "toc_cell": false,
   "toc_position": {},
   "toc_section_display": true,
   "toc_window_display": true
  }
 },
 "nbformat": 4,
 "nbformat_minor": 2
}
