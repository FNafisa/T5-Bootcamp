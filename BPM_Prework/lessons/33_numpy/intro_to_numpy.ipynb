{
 "cells": [
  {
   "cell_type": "markdown",
   "metadata": {},
   "source": [
    "# Introduction to Numpy"
   ]
  },
  {
   "cell_type": "markdown",
   "metadata": {},
   "source": [
    "__Purpose:__ The purpose of this lecture is to cover the basics of what Numpy is and its capabilities as well creating arrays, accessing elements in arrays, manipulating arrays and some basic operations with Numpy arrays. \n",
    "\n",
    "__At the end of this lecture you will be able to:__\n",
    "> 1. Understand what the Numpy Package is and what it can be used for \n",
    "> 2. Understand the concept of a Numpy Array and they can be created, accessed, and manipulated\n",
    "> 3. Perform basic operations on Numpy Arrays "
   ]
  },
  {
   "cell_type": "markdown",
   "metadata": {},
   "source": [
    "## 1.1 NumPy"
   ]
  },
  {
   "cell_type": "markdown",
   "metadata": {},
   "source": [
    "### 1.1.1 What is NumPy?"
   ]
  },
  {
   "cell_type": "markdown",
   "metadata": {},
   "source": [
    "__Overview:__\n",
    "- __[NumPy](http://www.numpy.org/):__ NumPy, which stands for \"Numerical Python\", is the fundamental package for performing \"scientific computation\" in Python \n",
    "- Python's original intention was NOT for [Numerical Computing](https://en.wikipedia.org/wiki/Numerical_analysis) and therefore required additional tools to do this type of analysis \n",
    "- In recent years, the NumPy Package has become a staple in the Data Scientist's toolbox for some of the following reasons:\n",
    "> 1. NumPy is the foundation on which all higher-level tools used by Data Scientists are built on such as [`pandas`](http://pandas.pydata.org/) and [`scikit-learn`](http://scikit-learn.org/stable/)\n",
    "> 2. The NumPy Array is also the fundamental building block on top of which Tensor objects are built in [`TensorFlow`](https://www.tensorflow.org/) which is a popular package for [Machine Learning](https://en.wikipedia.org/wiki/Machine_learning) in Python \n",
    "> 3. As a Data Scientist, it is common to deal with large arrays that have many rows and columns as well as third dimensions (i.e. think about the pixels of an image). NumPy Arrays allow you store these large arrays in an efficient manner \n",
    "> 4. As a Data Scientist, it is a common task to perform operations on an entire array. NumPy Arrays allow you to do this without the use of `for` loops\n",
    "> 5. Linear Algebra is a core mathematical concept that is absolutely essential to becoming a Data Scientist and the NumPy Package has many internal functions for performing beginner to advanced routines in Linear Alebgra\n",
    "\n",
    "- Now you understand why Data Scientists use the NumPy Package, but what is it about the NumPy Package that allow us, as users of the NumPy Package, to realize these benefits? \n",
    "> 1. NumPy's main object is the Multi-Dimensional [Array](https://en.wikipedia.org/wiki/Array_data_type#Multi-dimensional_arrays) which is extremely fast and convenient for working with data sets \n",
    "> 2. NumPy's arrays allow us to perform [vectorized](https://en.wikipedia.org/wiki/Vectorization) operations on entire arrays which means the same operation is applied all at once rather than to each individual elements one at a time (like `for` loops)\n",
    "> 3. The NumPy Package has hundred's of functions grouped into about 30 categories which can be found [here](https://docs.scipy.org/doc/numpy-1.13.0/reference/routines.html). Some of the most important functions for Data Scientists can be found in the following groups:\n",
    ">> a. __[Mathematical Functions](https://docs.scipy.org/doc/numpy-1.13.0/reference/routines.math.html):__ Mathematical Functions include trigonemtric functions, hyperbolic functions, sums/products/differences, exponents and logarithms, etc.<br>\n",
    ">> b. __[Statistics](https://docs.scipy.org/doc/numpy-1.13.0/reference/routines.statistics.html):__ Statistics Functions including averages, variances, correlation, histograms, etc.<br> \n",
    ">> c. __[Linear Algebra](https://docs.scipy.org/doc/numpy-1.13.0/reference/routines.linalg.html):__ Matrix and Vector Products, Decompositions, Solving Equations, etc. "
   ]
  },
  {
   "cell_type": "markdown",
   "metadata": {},
   "source": [
    "### 1.1.2 NumPy Basics:"
   ]
  },
  {
   "cell_type": "markdown",
   "metadata": {},
   "source": [
    "### 1.1.2.1 NumPy Array Definitions: "
   ]
  },
  {
   "cell_type": "markdown",
   "metadata": {},
   "source": [
    "__Overview:__ \n",
    "- The cornerstone of the NumPy Package is the \"homogenous multi-dimensional array\" known as the NumPy Array \n",
    "- To understand NumPy's main object, we have to understand the concept of an __Array__ which can be thought of as a table of elements (usually numbers), all of the same type (i.e. all of type `int`)\n",
    "- We have already seen what a List looks like (i.e. `[1,2,3]`), well, this can also be though of as an array of rank 1 and length 3 (more on definitions below) \n",
    " \n",
    "__Helpful Points:__\n",
    "1. A few key definitions will be important to understand before we start working with arrays. In NumPy:\n",
    ">> a. __Axis__: An array's axis refers to the number of __[Dimensions](https://en.wikipedia.org/wiki/Dimension)__ in the array (i.e. a one-dimensional array such as `[1,2,3]` has 1 axis)<br>\n",
    ">> b. __Rank__: Rank of an array refers to the number of axes in the array (i.e. a two-dimensional array such as:\n",
    ">> > `[[1,2,3],`<br>\n",
    ">> >  `[4,5,6]]` has rank 2 because it has 2 axes (and it has 2 axes, because it has 2 dimensions - one along the rows and one along the columns)\n",
    "\n",
    "In summary, NumPy considers __Dimensions__, __Axes__, and __Rank__ to mean the same thing\n",
    ">> c. __Length__: Length of an array refers to the number of elements in each axis (i.e. a two-dimensional array such as:<br>\n",
    ">> > `[[1,0,0],`<br>\n",
    ">> >  `[0,1,2]]` has length 2 in its first axis (rows) and length 3 in its second axis (columns) )"
   ]
  },
  {
   "cell_type": "markdown",
   "metadata": {},
   "source": [
    "### 1.1.2.2 NumPy Array Attributes:"
   ]
  },
  {
   "cell_type": "markdown",
   "metadata": {},
   "source": [
    "__Overview:__\n",
    "- When we create arrays, they are made as an `ndarray` object, also known as just an `array` object\n",
    "- All `ndarray` objects have the following characteristics:\n",
    "> 1. __Dimension:__ Dimension of an array can be accessed by `ndarray.ndim`\n",
    "> 2. __Shape:__ Shape of an array can be accessed by `ndarray.shape`. Shape provides a tuple of integers indicating the length of the array in each dimension. For example, shape is (n, m) for an array with n rows and m columns\n",
    "> 3. __Size:__ Size of an array can be accessed by `ndarray.size`. SIze refers to the total number of elements of the array (product of the elements of `shape`)\n",
    "> 4. __Type:__ The type of elements in the array can be accessed by `ndarray.dtype`. Array types can either be the standard Python types or NumPy specific types: `numpy.int32`, `numpy.int16`, and `numpy.float64`\n",
    "> 5. __[Row-Major Ordering](https://en.wikipedia.org/wiki/Row-_and_column-major_order):__ NumPy arrays are \"filled\" by rows. For example in an array of size (2, 2), the cells would be filled in the following order: (1,1), (1,2), (2,1), (2,2), rather than Column-Major Ordering which is filled in this order: (1,1), (2, 1), (1, 2), (2, 2)\n",
    "\n",
    "__Helpful Points:__\n",
    "1. When you create a NumPy array, you can find out what the dimension, shape, size, and type is by envoking the commands mentioned above (i.e. `my_array.ndim` will tell you the dimensions of `my_array`)\n",
    "2. See below to see how these characteristics are examined in NumPy arrays \n",
    "3. It is useful to note that Python also has an `array` object, but it only supports one-dimensional arrays and has much less functionality compared to NumPy. To access the Python `array` object, you must use import the `array` module. You can read about it [here](https://docs.python.org/3/library/array.html)\n",
    "4. The only \"special value\" in NumPy is `NaN`, not `None` like in base Python. You can access this by `np.nan` "
   ]
  },
  {
   "cell_type": "markdown",
   "metadata": {},
   "source": [
    "As stated above, you can import the `array` module to create an array object without using the `NumPy` package:"
   ]
  },
  {
   "cell_type": "code",
   "execution_count": null,
   "metadata": {},
   "outputs": [],
   "source": [
    "from array import array"
   ]
  },
  {
   "cell_type": "code",
   "execution_count": null,
   "metadata": {},
   "outputs": [],
   "source": [
    "# initialize an array of type int (see link above for the possible initialization parameters)\n",
    "intarray = array(\"i\")"
   ]
  },
  {
   "cell_type": "code",
   "execution_count": null,
   "metadata": {},
   "outputs": [],
   "source": [
    "intarray.append(1) # an array object has a number of methods (see link for full list)"
   ]
  },
  {
   "cell_type": "code",
   "execution_count": null,
   "metadata": {
    "scrolled": true
   },
   "outputs": [],
   "source": [
    "intarray"
   ]
  },
  {
   "cell_type": "markdown",
   "metadata": {},
   "source": [
    "This explanation was purely for comparison and it is unlikely you will find yourself using this module since the base Python `list` data type and/or the `ndarray` data type will satisfy 99.99% of your needs. "
   ]
  },
  {
   "cell_type": "markdown",
   "metadata": {},
   "source": [
    "### 1.1.2.3 NumPy Array Functions and Capabilities:"
   ]
  },
  {
   "cell_type": "markdown",
   "metadata": {},
   "source": [
    "__Overview:__\n",
    "- The NumPy Package supports hundreds of useful functions and capabilities for Data Scientsits and the entire list, grouped by category, can be found [here](https://docs.scipy.org/doc/numpy-1.13.0/reference/routines.html)\n",
    "- We will explore the following groups of functions and capabilities in great detail throughout this lecture and the rest of the course:\n",
    "> 1. __[Array Creation Routines](https://docs.scipy.org/doc/numpy-1.13.0/reference/routines.array-creation.html):__ These functions will allow us to create many different types of NumPy arrays such as ones and zeros, arrays from existing data, arrays from numerical ranges, etc.\n",
    "> 2. __[Array Indexing and Slicing](https://docs.scipy.org/doc/numpy/reference/arrays.indexing.html):__ NumPy supports indexing and slicing similar to Python's Sequence Types (i.e. `list`, `str`, `tuple`, and `range`). A helpful resource is [here](https://docs.scipy.org/doc/numpy-dev/user/quickstart.html#indexing-slicing-and-iterating) \n",
    "> 3. __[Array Manipulation Routines](https://docs.scipy.org/doc/numpy-1.13.0/reference/routines.array-manipulation.html):__ These functions will allows us to change array shapes, number of dimensions, and kind of array as well as joining, splitting, and adding/removing elements of arrays \n",
    "> 4. __[Array Iteration Routines](https://docs.scipy.org/doc/numpy/reference/arrays.nditer.html):__ This capability allows you to iterate over multidimensional arrays and simply visit each element or perform an operation on each element\n",
    "> 5. __[Basic Operations](https://docs.scipy.org/doc/numpy-1.13.0/reference/routines.char.html):__ These functions will allow us to perform basic operations on NumPy arrays such as arithmetic operations and we will see the difference between element-wise operations and vectorized operations\n",
    "> 6. __[Linear Algebra](https://docs.scipy.org/doc/numpy-1.13.0/reference/routines.linalg.html)__\n",
    "> 7. __[Mathematical Functions](https://docs.scipy.org/doc/numpy-1.13.0/reference/routines.math.html)__\n",
    "> 8. __[Random Sampling](https://docs.scipy.org/doc/numpy-1.13.0/reference/routines.random.html)__\n",
    "> 9. __[Statistics](https://docs.scipy.org/doc/numpy-1.13.0/reference/routines.statistics.html)__\n",
    "\n",
    "__Helpful Points:__\n",
    "1. This lecture will cover groups 1 - 5 \n",
    "2. The functions that belong to the groups above can be used in either of the following 2 ways:\n",
    "> a. Accessing a function from within NumPy's collection of modules (`numpy.copy(array_name)` where `copy` is the function and `numpy` is the module name). Note that `array_name` does not have to be an `ndarray` object type<br>\n",
    "> b. Accessing a method from within an NumPy `ndarray` object type (`array_name.copy()`) where `copy` is the method that `ndarray` objects are \"capable\" of. Note that `array_name` DOES have to be an `ndarray` object type  "
   ]
  },
  {
   "cell_type": "markdown",
   "metadata": {},
   "source": [
    "### 1.1.2.4 Printing Arrays:"
   ]
  },
  {
   "cell_type": "markdown",
   "metadata": {},
   "source": [
    "__Overview:__ \n",
    "- Before we start creating NumPy arrays and viewing their outputs, we have to understand how NumPy displays arrays when using the `print()` function so we can interpret the results\n",
    "- NumPy generally prints arrays in a similar way to nested lists, but with the following rules:\n",
    "> 1. __Rule 1:__ The last axis (see above for definition) is printed from left to right \n",
    "> 2. __Rule 2:__ The second-to-last axis is printed from top to bottom\n",
    "> 3. __Rule 3:__ The remaining axes are also printed from top to bottom \n",
    "\n",
    "__Helpful Points:__\n",
    "1. Each slice/layer is separated from the next by an empty line\n",
    "2. The printing conventions used by NumPy will be clear once we start looking at some NumPy arrays \n",
    "3. If the array is too large to be printed, NumPy will automatically skip the central part of the array and only print the corners"
   ]
  },
  {
   "cell_type": "markdown",
   "metadata": {},
   "source": [
    "### 1.1.3 Group 1: NumPy Array Creation Routines:"
   ]
  },
  {
   "cell_type": "markdown",
   "metadata": {},
   "source": [
    "__Overview:__\n",
    "- There are 3 main ways of creating NumPy arrays in Python:\n",
    "> 1. __Ones and Zeros:__ These are arrays filled with ones or zeros and are mostly used for initializing NumPy arrays \n",
    "> 2. __From Existing Data:__ It is possible to create an array from a regular Python list or tuple and the type of the array is deduced from the type of the elements in the sequences \n",
    "> 3. __Numerical Ranges:__ These are arrays filled with numbers from a range (similar to the `range()` function in Python)\n",
    "\n",
    "__Helpful Points:__\n",
    "1. Examples below will review each method of creating NumPy arrays\n",
    "2. Before you start creating and using NumPy arrays, we have to import the NumPy Package using `import numpy as np` which uses an alias for the package name\n",
    "\n",
    "__Practice:__ Examples of Creating NumPy arrays in Python"
   ]
  },
  {
   "cell_type": "code",
   "execution_count": null,
   "metadata": {},
   "outputs": [],
   "source": [
    "# remove all variables so we can just see numpy in our environment"
   ]
  },
  {
   "cell_type": "code",
   "execution_count": null,
   "metadata": {},
   "outputs": [],
   "source": [
    "%reset "
   ]
  },
  {
   "cell_type": "code",
   "execution_count": null,
   "metadata": {},
   "outputs": [],
   "source": [
    "import numpy as np"
   ]
  },
  {
   "cell_type": "code",
   "execution_count": null,
   "metadata": {},
   "outputs": [],
   "source": [
    "%whos"
   ]
  },
  {
   "cell_type": "markdown",
   "metadata": {},
   "source": [
    "`NumPy` is imported as a package/module so we have access to ALL the functions contained in all possible sub-packages of `NumPy`. Remember that if we import packages/modules as a whole, we need to reference the name of the package/module when we call a function. For example `np.zeros()` instead of just `zeros()`. Had we have imported only the zeros function from the `NumPy` package, then we would observe only this function in our environment and we can call it directly, instead of adding the package name first. "
   ]
  },
  {
   "cell_type": "markdown",
   "metadata": {},
   "source": [
    "### Part 1: Ones and Zeros"
   ]
  },
  {
   "cell_type": "markdown",
   "metadata": {},
   "source": [
    "### Example 1.1 Creating a NumPy array of Zeros:\n",
    "\n",
    "The [`numpy.zeros()`](https://docs.scipy.org/doc/numpy-1.13.0/reference/generated/numpy.zeros.html#numpy.zeros) returns a new array of a given shape and type, filled with zeros"
   ]
  },
  {
   "cell_type": "code",
   "execution_count": null,
   "metadata": {
    "scrolled": false
   },
   "outputs": [],
   "source": [
    "# one-dimensional array\n",
    "zero = np.zeros((4,))\n",
    "zero"
   ]
  },
  {
   "cell_type": "code",
   "execution_count": null,
   "metadata": {},
   "outputs": [],
   "source": [
    "print(zero)"
   ]
  },
  {
   "cell_type": "markdown",
   "metadata": {},
   "source": [
    "Recall the printing rules above:\n",
    "\n",
    "1. __Rule 1:__ The last axis (4) is printed from left to right  \n",
    "2. __Rule 2:__ Not valid\n",
    "3. __Rule 3:__ Not valid"
   ]
  },
  {
   "cell_type": "markdown",
   "metadata": {},
   "source": [
    "Note: The shape we set as `(4,)` which is the same as `(4)` is NOT the same as the shape `(4,1)`. The former indicates one dimension (rank 1) and the second indicates two dimensions (rank 2). "
   ]
  },
  {
   "cell_type": "code",
   "execution_count": null,
   "metadata": {},
   "outputs": [],
   "source": [
    "type(zero)"
   ]
  },
  {
   "cell_type": "code",
   "execution_count": null,
   "metadata": {},
   "outputs": [],
   "source": [
    "zero.shape"
   ]
  },
  {
   "cell_type": "markdown",
   "metadata": {},
   "source": [
    "Since the array is one-dimensional, there is only one axis which has elements and the number of elements is 4. Consider this picture here, but ignore the numbers inside the boxes as they are just random values: <img src=\"img/img25.png\">"
   ]
  },
  {
   "cell_type": "code",
   "execution_count": null,
   "metadata": {},
   "outputs": [],
   "source": [
    "zero.ndim"
   ]
  },
  {
   "cell_type": "markdown",
   "metadata": {},
   "source": [
    "The dimension is 1 since there is 1 axis"
   ]
  },
  {
   "cell_type": "code",
   "execution_count": null,
   "metadata": {},
   "outputs": [],
   "source": [
    "zero.size"
   ]
  },
  {
   "cell_type": "markdown",
   "metadata": {},
   "source": [
    "The size is 4 since there are 4 elements"
   ]
  },
  {
   "cell_type": "code",
   "execution_count": null,
   "metadata": {},
   "outputs": [],
   "source": [
    "zero.dtype"
   ]
  },
  {
   "cell_type": "markdown",
   "metadata": {},
   "source": [
    "The default `dtype` of the `np.zeros()` function is `float64`. You can override this parameter by entering in another type into the `dtype` parameter (see below example)"
   ]
  },
  {
   "cell_type": "markdown",
   "metadata": {},
   "source": [
    "### Example 1.2 Creating a NumPy array of Ones:\n",
    "\n",
    "The [`numpy.ones()`](https://docs.scipy.org/doc/numpy-1.13.0/reference/generated/numpy.ones.html#numpy.ones) returns a new array of a given shape and type, filled with ones"
   ]
  },
  {
   "cell_type": "code",
   "execution_count": null,
   "metadata": {
    "scrolled": true
   },
   "outputs": [],
   "source": [
    "# two-dimensional array\n",
    "one = np.ones((2,3), dtype = np.int)\n",
    "one"
   ]
  },
  {
   "cell_type": "code",
   "execution_count": null,
   "metadata": {},
   "outputs": [],
   "source": [
    "print(one)"
   ]
  },
  {
   "cell_type": "markdown",
   "metadata": {},
   "source": [
    "Recall the printing rules above:\n",
    "\n",
    "1. __Rule 1:__ The last axis (3) is printed from left to right\n",
    "2. __Rule 2:__ The second-to-last axis (2) is printed from top to bottom\n",
    "3. __Rule 3:__ Not valid "
   ]
  },
  {
   "cell_type": "code",
   "execution_count": null,
   "metadata": {},
   "outputs": [],
   "source": [
    "one.shape"
   ]
  },
  {
   "cell_type": "markdown",
   "metadata": {},
   "source": [
    "The shape is in the format of `(n,m)` where `n` is the number of rows and `m` is the number of columns. There are 2 rows in this array and 3 columns. Consider this picture here, but ignore the numbers inside the boxes as they are just random values: <img src=\"img/img24.png\">"
   ]
  },
  {
   "cell_type": "code",
   "execution_count": null,
   "metadata": {},
   "outputs": [],
   "source": [
    "one.ndim"
   ]
  },
  {
   "cell_type": "markdown",
   "metadata": {},
   "source": [
    "The dimension is 2 since there are 2 axes (rows and columns)"
   ]
  },
  {
   "cell_type": "code",
   "execution_count": null,
   "metadata": {},
   "outputs": [],
   "source": [
    "one.size"
   ]
  },
  {
   "cell_type": "markdown",
   "metadata": {},
   "source": [
    "The size is 6 since there are 6 elements"
   ]
  },
  {
   "cell_type": "code",
   "execution_count": null,
   "metadata": {
    "scrolled": true
   },
   "outputs": [],
   "source": [
    "one.dtype"
   ]
  },
  {
   "cell_type": "markdown",
   "metadata": {},
   "source": [
    "### Example 1.3 Creating a NumPy array of New Values:\n",
    "\n",
    "The [`numpy.full()`](https://docs.scipy.org/doc/numpy-1.13.0/reference/generated/numpy.ones.html#numpy.full) returns a new array of a given shape and type, filled with `fill_value`"
   ]
  },
  {
   "cell_type": "code",
   "execution_count": null,
   "metadata": {
    "scrolled": true
   },
   "outputs": [],
   "source": [
    "# three-dimensional array\n",
    "full = np.full((4,3,2), 10)\n",
    "full"
   ]
  },
  {
   "cell_type": "code",
   "execution_count": null,
   "metadata": {},
   "outputs": [],
   "source": [
    "print(full)"
   ]
  },
  {
   "cell_type": "markdown",
   "metadata": {},
   "source": [
    "Recall the printing rules above:\n",
    "\n",
    "1. __Rule 1:__ The last axis (2) is printed from left to right\n",
    "2. __Rule 2:__ The second-to-last axis (3) is printed from top to bottom\n",
    "3. __Rule 3:__ The remaining axes (4) are also printed from top to bottom "
   ]
  },
  {
   "cell_type": "code",
   "execution_count": null,
   "metadata": {},
   "outputs": [],
   "source": [
    "full.shape"
   ]
  },
  {
   "cell_type": "markdown",
   "metadata": {},
   "source": [
    "The shape is in the format of `(n,m,p)` `n` is the number of rows, `m` is the number of columns and `p` is the depth. There are 4 rows, 3 columns, and depth of 2. This may be a bit confusing to reconcile the result with the interpretation of the shape. Remember you are always looking at the array from an aerial view and you should think of the result as \"layers\", where each layer has dimension `(3,2)` and are shown from top to bottom. Consider this picture here, but ignore the numbers inside the boxes as they are just random values: <img src=\"img/img23.png\">"
   ]
  },
  {
   "cell_type": "code",
   "execution_count": null,
   "metadata": {},
   "outputs": [],
   "source": [
    "full.ndim"
   ]
  },
  {
   "cell_type": "markdown",
   "metadata": {},
   "source": [
    "The dimension is 3 since there are 3 axes (rows, columns, and depth)"
   ]
  },
  {
   "cell_type": "code",
   "execution_count": null,
   "metadata": {},
   "outputs": [],
   "source": [
    "full.size"
   ]
  },
  {
   "cell_type": "markdown",
   "metadata": {},
   "source": [
    "The size is 24 since there are 24 elements"
   ]
  },
  {
   "cell_type": "code",
   "execution_count": null,
   "metadata": {
    "scrolled": false
   },
   "outputs": [],
   "source": [
    "full.dtype"
   ]
  },
  {
   "cell_type": "markdown",
   "metadata": {},
   "source": [
    "### Example 1.4 Creating an Empty NumPy Array:\n",
    "\n",
    "The [`np.empty()`](https://docs.scipy.org/doc/numpy-1.13.0/reference/generated/numpy.empty.html#numpy.empty) function returns a new array of a given shape and type, without initializing entries "
   ]
  },
  {
   "cell_type": "code",
   "execution_count": null,
   "metadata": {},
   "outputs": [],
   "source": [
    "# two-dimensional array \n",
    "empty = np.empty((2,2))\n",
    "print(empty)"
   ]
  },
  {
   "cell_type": "markdown",
   "metadata": {},
   "source": [
    "Be careful when using the `np.empty()` function because, unlike `np.zeros()`, this function does not actually populate the entries with numbers. As the user, you are required to set each value manually in the array. "
   ]
  },
  {
   "cell_type": "markdown",
   "metadata": {},
   "source": [
    "### Part 2: From Existing Data "
   ]
  },
  {
   "cell_type": "markdown",
   "metadata": {},
   "source": [
    "### Example 2.1 Creating a NumPy Array from a List:\n",
    "\n",
    "The [`np.array()`](https://docs.scipy.org/doc/numpy-1.13.0/reference/generated/numpy.array.html#numpy.array) creates an array from another object "
   ]
  },
  {
   "cell_type": "code",
   "execution_count": null,
   "metadata": {},
   "outputs": [],
   "source": [
    "# one-dimensional array \n",
    "list_one = [1, 2, 3, 4, 5]\n",
    "array_one = np.array(list_one)\n",
    "array_one"
   ]
  },
  {
   "cell_type": "code",
   "execution_count": null,
   "metadata": {},
   "outputs": [],
   "source": [
    "# two-dimensional array\n",
    "list_two = [[1,2,3], [4,5,6]]\n",
    "array_two = np.array(list_two, dtype = np.float64)\n",
    "array_two"
   ]
  },
  {
   "cell_type": "markdown",
   "metadata": {},
   "source": [
    "Notes: \n",
    "- We can see that the function `np.array()` transforms a sequence of sequences (i.e. list of lists) into two-dimensional arrays \n",
    "- We can also see the \"row-major ordering\" come into play here as the Python fills the array row by row "
   ]
  },
  {
   "cell_type": "markdown",
   "metadata": {},
   "source": [
    "### Example 2.2 Creating a NumPy Array from a Tuple:"
   ]
  },
  {
   "cell_type": "code",
   "execution_count": null,
   "metadata": {},
   "outputs": [],
   "source": [
    "# one-dimensional array\n",
    "tuple_one = (1.0, 2.0, 3.0, 4.0, 4.5)\n",
    "array_one_1 = np.array(tuple_one)\n",
    "array_one_1"
   ]
  },
  {
   "cell_type": "code",
   "execution_count": null,
   "metadata": {},
   "outputs": [],
   "source": [
    "# two-dimensional array\n",
    "tuple_two = ((1,2,3), (4,5,6))\n",
    "array_two = np.array(tuple_two, dtype = np.float64)\n",
    "array_two"
   ]
  },
  {
   "cell_type": "markdown",
   "metadata": {},
   "source": [
    "### Example 2.3 Creating a NumPy Array as a Copy:\n",
    "\n",
    "The [`np.copy()`](https://docs.scipy.org/doc/numpy-1.13.0/reference/generated/numpy.copy.html#numpy.copy) returns an array copy of the given object"
   ]
  },
  {
   "cell_type": "code",
   "execution_count": null,
   "metadata": {},
   "outputs": [],
   "source": [
    "# one-dimensional array\n",
    "array_1 = np.array([1,2,3])\n",
    "array_2 = array_1 # reference to array_1 \n",
    "array_3 = np.copy(array_1) # copy of array_2"
   ]
  },
  {
   "cell_type": "code",
   "execution_count": null,
   "metadata": {},
   "outputs": [],
   "source": [
    "array_1"
   ]
  },
  {
   "cell_type": "code",
   "execution_count": null,
   "metadata": {
    "scrolled": true
   },
   "outputs": [],
   "source": [
    "array_2"
   ]
  },
  {
   "cell_type": "code",
   "execution_count": null,
   "metadata": {},
   "outputs": [],
   "source": [
    "array_3"
   ]
  },
  {
   "cell_type": "code",
   "execution_count": null,
   "metadata": {},
   "outputs": [],
   "source": [
    "# change array_1 to see which arrays changed\n",
    "array_1[0] = 2"
   ]
  },
  {
   "cell_type": "code",
   "execution_count": null,
   "metadata": {},
   "outputs": [],
   "source": [
    "array_1"
   ]
  },
  {
   "cell_type": "code",
   "execution_count": null,
   "metadata": {},
   "outputs": [],
   "source": [
    "array_2 # changes since it references array_1"
   ]
  },
  {
   "cell_type": "code",
   "execution_count": null,
   "metadata": {},
   "outputs": [],
   "source": [
    "array_3 # does not change since it is a deep copy of array_1 (i.e. does not reference it)"
   ]
  },
  {
   "cell_type": "markdown",
   "metadata": {},
   "source": [
    "When assigning `array_1` to `array_2`, `array_2` is referencing `array_` (recall the definition of views). This explains why if `array_1` is changed, `array_2` is also changed. However, when using the `copy()` function, we are creating a Deep Copy of `array_1` and assigning it to `array_3`. This explains why if `array_1` is changed, `array_3` is not changed. "
   ]
  },
  {
   "cell_type": "markdown",
   "metadata": {},
   "source": [
    "### Part 3: Numerical Ranges"
   ]
  },
  {
   "cell_type": "markdown",
   "metadata": {},
   "source": [
    "### Example 3.1 Return an Array with `arange()`:\n",
    "\n",
    "The [`arange()`](https://docs.scipy.org/doc/numpy-1.13.0/reference/generated/numpy.arange.html#numpy.arange) function returns evenly spaced values within a given interval. If integer values are passed into the `start`, `stop`, and `step`, then this function is equivalent to Python's `range()` function but returns an object of type `ndarray` rather than an object of type `list`. \n",
    "\n",
    "Notes:\n",
    "1. The `arange()` function will always return a one-dimensional array and if you would like to get a two-dimensional array from this, you must use the `reshape()` function which is explained later on this lecture in Array Manipulation Routines\n",
    "2. Similar to the `range()` function, the `arange()` function can also have ommitted arguments and also works with the infamous \"half-open interval\" `[start, stop)`,"
   ]
  },
  {
   "cell_type": "code",
   "execution_count": null,
   "metadata": {},
   "outputs": [],
   "source": [
    "# start = 0, stop = 3, step = 1\n",
    "arange_1 = np.arange(3) # one-dimensional array with values from 0 to 2 \n",
    "arange_1"
   ]
  },
  {
   "cell_type": "code",
   "execution_count": null,
   "metadata": {},
   "outputs": [],
   "source": [
    "# start = 1, stop = 22, step = 2\n",
    "arange_2 = np.arange(1, 22, 2) # one-dimensional array with valyes from 1 to 21, by 2 (all odd numbers)\n",
    "arange_2"
   ]
  },
  {
   "cell_type": "markdown",
   "metadata": {},
   "source": [
    "### Example 3.2 Return an Array with `linspace()`:"
   ]
  },
  {
   "cell_type": "markdown",
   "metadata": {},
   "source": [
    "The [`linspace()`](https://docs.scipy.org/doc/numpy-1.13.0/reference/generated/numpy.linspace.html#numpy.linspace) function returns a pre-specified number of values evenly spaced, calculated over the interval `[start,stop]`. \n",
    "\n",
    "Notes:\n",
    "1. The `linspace()` function, similar to `arange()` will also return a one-dimensional array \n",
    "2. Unlike `arange()`, the `linspace()` function does not specify a step size, but specifies the number of samples\n",
    "2. Unlike `arange()`, the `linspace()` function has \"both-closed interval\" `[start,stop]`. You can control whether the last value is printed out using the `endpoint` argument (If `True`, `stop` is the last sample, otherwise, it is not included. Default value is `True`)"
   ]
  },
  {
   "cell_type": "code",
   "execution_count": null,
   "metadata": {},
   "outputs": [],
   "source": [
    "# start = 3, stop = 10, num = 50 (default) and endpoint included \n",
    "linspace_1 = np.linspace(3, 10)\n",
    "linspace_1"
   ]
  },
  {
   "cell_type": "code",
   "execution_count": null,
   "metadata": {},
   "outputs": [],
   "source": [
    "linspace_1.size # number of elements in the array "
   ]
  },
  {
   "cell_type": "markdown",
   "metadata": {},
   "source": [
    "By default, the `num` argument is 50, so the `linspace` function will output 50 evenly space numbers between the start and stop values (inclusive)"
   ]
  },
  {
   "cell_type": "code",
   "execution_count": null,
   "metadata": {},
   "outputs": [],
   "source": [
    "# start = 2, stop = 20, num = 10 and endpoint not included \n",
    "linspace_2 = np.linspace(2, 20, num = 10, endpoint = False)\n",
    "linspace_2"
   ]
  },
  {
   "cell_type": "markdown",
   "metadata": {},
   "source": [
    "Note: If you are using floating point numbers (`float`), you should use the `linspace` function and NOT the `arange` function since it is generally not possible with `arange` function to predict the number of elements obtained due to the floating point precision "
   ]
  },
  {
   "cell_type": "markdown",
   "metadata": {},
   "source": [
    "### 1.1.4 Group 2: NumPy Array Indexing and Slicing:"
   ]
  },
  {
   "cell_type": "markdown",
   "metadata": {},
   "source": [
    "### 1.1.4.1 NumPy Array Indexing and Slicing (Method 1: Basic Slicing and Indexing):"
   ]
  },
  {
   "cell_type": "markdown",
   "metadata": {},
   "source": [
    "__Overview:__\n",
    "- The first way of indexing and slicing a NumPy Array is through basic slicing and indexing \n",
    "- __[Basic Slicing and Indexing](https://docs.scipy.org/doc/numpy/reference/arrays.indexing.html#basic-slicing-and-indexing)__  Basic slicing replicates the same style of slicing sequences, but in N dimensions. Basic Slicing occurs if any of the following take the place of the `obj` in the general form of an index: `array_name[obj]`:\n",
    "> 1. __Object 1:__ `obj` is a `slice` object in the form of `start:stop:step` inside brackets `[` and `]` or `slice()`<br>\n",
    "> 2. __Object 2:__ `obj` is an integer<br>\n",
    "> 3. __Object 3:__ `obj` is a tuple of `slice` objects AND integers<br> \n",
    "> 4. __Object 4:__ `obj` is an `Ellipsis` object or `...`<br> \n",
    "> 5. __object 5:__ `obj` is the [`newaxis`](https://docs.scipy.org/doc/numpy/reference/arrays.indexing.html#numpy.newaxis) object<br> \n",
    "> 6. __Object 6:__ `obj` is any non-ndarray sequence (such as `list`) which contains any of `slice` objects, the `Elipsis` object, and/or the `newaxis` object  \n",
    "\n",
    "In general, the `obj` can be any of the above or any combination of any of the above in the form of a tuple: `array_name[(obj_1, obj_2, obj_3, obj_4, obj_5, obj_6)]`, which is equivalent to `array_name[obj_1, obj_2, obj_3, obj_4, obj_5, obj_6]`. The latter is the format typically used.\n",
    "\n",
    "__Helpful Points:__\n",
    "1. When indexing a NumPy array, the result is usually an array with type `ndarray` (with some exceptions, see below)\n",
    "2. As in Python, all the indices are zero-based \n",
    "3. All arrays generated by basic slicing and indexing are always views of the original array \n",
    "4. There are some \"Indexing __[Nota Bene](https://en.wikipedia.org/wiki/Nota_bene)__\" which are highlighted in the examples below by \"NB.1\", \"NB.2\", etc.\n",
    "\n",
    "__Practice:__ Examples of NumPy Array Basic Slicing and Indexing in Python "
   ]
  },
  {
   "cell_type": "markdown",
   "metadata": {},
   "source": [
    "### Part 1 (Basic Slicing and Indexing with Object 1 - `obj` is a Slice Object):"
   ]
  },
  {
   "cell_type": "markdown",
   "metadata": {},
   "source": [
    "### Example 1.1 (Examples with One-Dimensional Arrays):"
   ]
  },
  {
   "cell_type": "code",
   "execution_count": null,
   "metadata": {},
   "outputs": [],
   "source": [
    "my_array = np.arange(0, 13) # one-dimensional array with numbers same as indices\n",
    "print(my_array)"
   ]
  },
  {
   "cell_type": "code",
   "execution_count": null,
   "metadata": {},
   "outputs": [],
   "source": [
    "# start = 0, stop = 3, step = 1\n",
    "my_array[0:3] # elements 0,1,2"
   ]
  },
  {
   "cell_type": "code",
   "execution_count": null,
   "metadata": {},
   "outputs": [],
   "source": [
    "# start = 0, stop = 6, step = 2\n",
    "my_array[0:6:2] # elements 0,2,4"
   ]
  },
  {
   "cell_type": "code",
   "execution_count": null,
   "metadata": {},
   "outputs": [],
   "source": [
    "# start = -6, stop = -2, step = 1\n",
    "my_array[-6:-2] # elements -6, -5, -4, -3 (from the right)"
   ]
  },
  {
   "cell_type": "code",
   "execution_count": null,
   "metadata": {},
   "outputs": [],
   "source": [
    "# start = 3, stop = 6, step = -1\n",
    "my_array[6:3:-1] # elements 6, 5, 4"
   ]
  },
  {
   "cell_type": "code",
   "execution_count": null,
   "metadata": {},
   "outputs": [],
   "source": [
    "my_array[slice(6, 3, -1)] # same as above"
   ]
  },
  {
   "cell_type": "markdown",
   "metadata": {},
   "source": [
    "### Example 1.2 (Examples with Multi-Dimensional Arrays):\n",
    "\n",
    "To index multi-dimensional arrays, each dimension is separated by a comma `,` and within each dimension, the slicing rules apply `start:stop:step` (i.e. for a two-dimensional array called `array_name`, `array_name[start:stop:step, start:stop:step]`)"
   ]
  },
  {
   "cell_type": "code",
   "execution_count": null,
   "metadata": {
    "scrolled": true
   },
   "outputs": [],
   "source": [
    "my_array_1 = np.array([[0,1,2,3,4,5], [0,1,2,3,4,5]]) # two dimensional array with numbers same as indices \n",
    "print(my_array_1)"
   ]
  },
  {
   "cell_type": "code",
   "execution_count": null,
   "metadata": {},
   "outputs": [],
   "source": [
    "my_array_1.shape"
   ]
  },
  {
   "cell_type": "code",
   "execution_count": null,
   "metadata": {},
   "outputs": [],
   "source": [
    "my_array_1[1:2] # second row (same as my_array_1[1:2, :])"
   ]
  },
  {
   "cell_type": "markdown",
   "metadata": {},
   "source": [
    "__Indexing NB.1:__ If fewer indices are provided than the number of axes, the missing indices are considered complete slices `:`. This is why `my_array_1[1:2]` which only provides one index, but the array has 2 axes, has a missing slice of `:`."
   ]
  },
  {
   "cell_type": "code",
   "execution_count": null,
   "metadata": {},
   "outputs": [],
   "source": [
    "my_array_1[:, 1:3] # all rows, second and third column"
   ]
  },
  {
   "cell_type": "code",
   "execution_count": null,
   "metadata": {},
   "outputs": [],
   "source": [
    "my_array_1[1:2, 3::2] # second row, fourth to sixth column with step 2 "
   ]
  },
  {
   "cell_type": "code",
   "execution_count": null,
   "metadata": {
    "scrolled": true
   },
   "outputs": [],
   "source": [
    "my_array_1[:, -5:-2] # all rows, second to fourth columns"
   ]
  },
  {
   "cell_type": "code",
   "execution_count": null,
   "metadata": {},
   "outputs": [],
   "source": [
    "my_array_1[slice(None,None), slice(-5,-2)] # same as my_array_1[:, -5:-2]"
   ]
  },
  {
   "cell_type": "markdown",
   "metadata": {},
   "source": [
    "### Part 2 (Basic Slicing and Indexing with Object 2 - `obj` is an Integer):"
   ]
  },
  {
   "cell_type": "markdown",
   "metadata": {},
   "source": [
    "### Example 2.1  (Examples with One-Dimensional Arrays):"
   ]
  },
  {
   "cell_type": "code",
   "execution_count": null,
   "metadata": {},
   "outputs": [],
   "source": [
    "my_array = np.arange(0, 13) # one-dimensional array with numbers same as indices\n",
    "print(my_array)"
   ]
  },
  {
   "cell_type": "code",
   "execution_count": null,
   "metadata": {},
   "outputs": [],
   "source": [
    "my_array[2] # 3rd element"
   ]
  },
  {
   "cell_type": "code",
   "execution_count": null,
   "metadata": {},
   "outputs": [],
   "source": [
    "type(my_array[2])"
   ]
  },
  {
   "cell_type": "code",
   "execution_count": null,
   "metadata": {},
   "outputs": [],
   "source": [
    "my_array[2:3] # same as above, but with slicing (compare the format of the result to the example above)"
   ]
  },
  {
   "cell_type": "code",
   "execution_count": null,
   "metadata": {
    "scrolled": true
   },
   "outputs": [],
   "source": [
    "type(my_array[2:3])"
   ]
  },
  {
   "cell_type": "markdown",
   "metadata": {},
   "source": [
    "__Indexing NB.2:__ If an array is indexed by one or more elements that is equal to the number of axes and each element is an integer, the result of the index will be a scalar and NOT an array. This is why we see a difference in the output when indexing by an integer `my_array[2]` vs. slicing `my_array[2:3]`. Since `my_array` has one axis and we index by one element which is also an integer, the former returns a scalar object and the latter returns an array object. "
   ]
  },
  {
   "cell_type": "markdown",
   "metadata": {},
   "source": [
    "### Example 2.2 (Examples with Two-Dimensional Arrays):"
   ]
  },
  {
   "cell_type": "code",
   "execution_count": null,
   "metadata": {},
   "outputs": [],
   "source": [
    "my_array_1 = np.array([[0,1,2,3,4,5], [0,1,2,3,4,5]]) # two dimensional array with numbers same as indices \n",
    "print(my_array_1)"
   ]
  },
  {
   "cell_type": "code",
   "execution_count": null,
   "metadata": {},
   "outputs": [],
   "source": [
    "my_array_1[1, 2] # second row, third column"
   ]
  },
  {
   "cell_type": "code",
   "execution_count": null,
   "metadata": {},
   "outputs": [],
   "source": [
    "type(my_array_1[1, 2])"
   ]
  },
  {
   "cell_type": "code",
   "execution_count": null,
   "metadata": {},
   "outputs": [],
   "source": [
    "my_array_1[1:2, 2:3] # same as above, but with slicing "
   ]
  },
  {
   "cell_type": "code",
   "execution_count": null,
   "metadata": {
    "scrolled": true
   },
   "outputs": [],
   "source": [
    "type(my_array_1[1:2, 2:3])"
   ]
  },
  {
   "cell_type": "markdown",
   "metadata": {},
   "source": [
    "__Indexing NB.2:__ This is why we see a difference in the output when indexing by 2 integers `my_array_1[1,2]` vs. slicing `my_array[1:2, 2:3]`. Since `my_array_1` has 2 axes and we index by two elements which are also integers, the former returns a scalar object and the latter returns an array object. "
   ]
  },
  {
   "cell_type": "markdown",
   "metadata": {},
   "source": [
    "### Part 3 (Basic Slicing and Indexing with Object 3 - `obj` is a Tuple of Slice and Integer):"
   ]
  },
  {
   "cell_type": "markdown",
   "metadata": {},
   "source": [
    "### Example 3.1 (Examples with Two-Dimensional Arrays):"
   ]
  },
  {
   "cell_type": "code",
   "execution_count": null,
   "metadata": {},
   "outputs": [],
   "source": [
    "my_array_1 = np.array([[0,1,2,3,4,5], [0,1,2,3,4,5]]) # two dimensional array with numbers same as indices \n",
    "print(my_array_1)"
   ]
  },
  {
   "cell_type": "code",
   "execution_count": null,
   "metadata": {},
   "outputs": [],
   "source": [
    "index_1 = my_array_1[1, 3:6] # second row and third, fourth, and fifth columns \n",
    "index_1"
   ]
  },
  {
   "cell_type": "code",
   "execution_count": null,
   "metadata": {},
   "outputs": [],
   "source": [
    "index_1.ndim"
   ]
  },
  {
   "cell_type": "code",
   "execution_count": null,
   "metadata": {},
   "outputs": [],
   "source": [
    "index_2 = my_array_1[1:2, 3:6] # same as above, but with slicing \n",
    "index_2"
   ]
  },
  {
   "cell_type": "code",
   "execution_count": null,
   "metadata": {},
   "outputs": [],
   "source": [
    "index_2.ndim"
   ]
  },
  {
   "cell_type": "markdown",
   "metadata": {},
   "source": [
    "__Indexing NB.3:__ The dimension of the index is equal to the number of non-integer elements in the index. This is why the dimension of `index_1` is 1 since it only has one non-integer element as an index (the `1` element is ignored as this is an integer element). Conversely, the dimension of `index_2` is 2 since it has two non-integer elements as indices. "
   ]
  },
  {
   "cell_type": "code",
   "execution_count": null,
   "metadata": {},
   "outputs": [],
   "source": [
    "# check if index is a copy or a view by changing my_array_1\n",
    "my_array_1[1, 3] = 10"
   ]
  },
  {
   "cell_type": "code",
   "execution_count": null,
   "metadata": {},
   "outputs": [],
   "source": [
    "print(my_array_1)"
   ]
  },
  {
   "cell_type": "code",
   "execution_count": null,
   "metadata": {},
   "outputs": [],
   "source": [
    "print(index_1)"
   ]
  },
  {
   "cell_type": "markdown",
   "metadata": {},
   "source": [
    "__Indexing NB.4:__ When we perform NumPy Array indexing through basic slicing and indexing and save this result to a variable, this variable is a view NOT a copy of the original variable. This is the key difference between Basic and Advanced Slicing/Indexing. Therefore, you can see that if we change `my_array_1`, the index variable `index_1` also changes as it merely references that variable. "
   ]
  },
  {
   "cell_type": "markdown",
   "metadata": {},
   "source": [
    "### Part 4 (Basic Slicing and Indexing with Object 4 - `obj` is an Elipsis Object):"
   ]
  },
  {
   "cell_type": "markdown",
   "metadata": {},
   "source": [
    "### Example 4.1 (Examples with Two-Dimensional Arrays):"
   ]
  },
  {
   "cell_type": "code",
   "execution_count": null,
   "metadata": {},
   "outputs": [],
   "source": [
    "my_array_1 = np.array([[0,1,2,3,4,5], [0,1,2,3,4,5]]) # two dimensional array with numbers same as indices \n",
    "print(my_array_1)"
   ]
  },
  {
   "cell_type": "code",
   "execution_count": null,
   "metadata": {},
   "outputs": [],
   "source": [
    "my_array_1.ndim"
   ]
  },
  {
   "cell_type": "code",
   "execution_count": null,
   "metadata": {},
   "outputs": [],
   "source": [
    "my_array_1[..., 0] # 1st column, all rows"
   ]
  },
  {
   "cell_type": "markdown",
   "metadata": {},
   "source": [
    "We can see in the above example that `my_array_` has 2 dimensions so the elipsis takes the position of the first axis (\":\"). In general, the use of the Elipsis is to take the position of as many of `:` that are needed to make a selection tuple of the same length as the dimension of the array."
   ]
  },
  {
   "cell_type": "code",
   "execution_count": null,
   "metadata": {},
   "outputs": [],
   "source": [
    "my_array_1[0, ...] # first row, all columns"
   ]
  },
  {
   "cell_type": "markdown",
   "metadata": {},
   "source": [
    "### Example 4.2 (Examples with Three-Dimensional Arrays):"
   ]
  },
  {
   "cell_type": "code",
   "execution_count": null,
   "metadata": {
    "scrolled": false
   },
   "outputs": [],
   "source": [
    "my_array_2 = np.full((3,2,2), 5) # three dimensional array \n",
    "print(my_array_2)"
   ]
  },
  {
   "cell_type": "code",
   "execution_count": null,
   "metadata": {},
   "outputs": [],
   "source": [
    "my_array_2.shape"
   ]
  },
  {
   "cell_type": "markdown",
   "metadata": {},
   "source": [
    "Recall how we interpret this printed array: \n",
    "\n",
    "- The last axis (2) is printed from left to right\n",
    "- The second to last axis (2) is printed from top to bottom\n",
    "- The next axis (3) is printed from top to bottom"
   ]
  },
  {
   "cell_type": "code",
   "execution_count": null,
   "metadata": {},
   "outputs": [],
   "source": [
    "my_array_2.ndim"
   ]
  },
  {
   "cell_type": "code",
   "execution_count": null,
   "metadata": {},
   "outputs": [],
   "source": [
    "my_array_2[1, 1, ...] # 2nd row, 2nd column, all depth (equivalent to my_array_2[1, 1, :])"
   ]
  },
  {
   "cell_type": "code",
   "execution_count": null,
   "metadata": {},
   "outputs": [],
   "source": [
    "my_array_2[2, ...] # 3rd row, all columns, all depth (equivalent to my_array_2[2, :, :])"
   ]
  },
  {
   "cell_type": "code",
   "execution_count": null,
   "metadata": {
    "scrolled": true
   },
   "outputs": [],
   "source": [
    "my_array_2[..., 0] # all rows, all columns, depth layer 1 (equivalent to my_array_2[:, :, 0])"
   ]
  },
  {
   "cell_type": "markdown",
   "metadata": {},
   "source": [
    "### Part 5 (Basic Slicing and Indexing with Object 5 - `obj` is a Newaxis Object):"
   ]
  },
  {
   "cell_type": "markdown",
   "metadata": {},
   "source": [
    "### Example 5.1 (Examples with One-Dimensional Arrays):"
   ]
  },
  {
   "cell_type": "code",
   "execution_count": null,
   "metadata": {},
   "outputs": [],
   "source": [
    "my_array = np.arange(0, 13) # one-dimensional array with numbers same as indices\n",
    "print(my_array)"
   ]
  },
  {
   "cell_type": "code",
   "execution_count": null,
   "metadata": {},
   "outputs": [],
   "source": [
    "my_array.shape"
   ]
  },
  {
   "cell_type": "code",
   "execution_count": null,
   "metadata": {},
   "outputs": [],
   "source": [
    "print(my_array[:, np.newaxis]) # adds a new axis in the axis 1 position of length 1 "
   ]
  },
  {
   "cell_type": "code",
   "execution_count": null,
   "metadata": {},
   "outputs": [],
   "source": [
    "my_array[:, np.newaxis].shape"
   ]
  },
  {
   "cell_type": "markdown",
   "metadata": {},
   "source": [
    "We can see that the `np.newaxis` in axis 1 position has added a new axis such that the dimension of `my_array` is now 2. When the new axis was made, a length of 1 is by default added, such that there is 1 column and 13 rows in this case.  "
   ]
  },
  {
   "cell_type": "code",
   "execution_count": null,
   "metadata": {},
   "outputs": [],
   "source": [
    "print(my_array[np.newaxis, :]) # adds a new axis in the axis 0 position of length 1"
   ]
  },
  {
   "cell_type": "code",
   "execution_count": null,
   "metadata": {},
   "outputs": [],
   "source": [
    "my_array[np.newaxis, :].shape"
   ]
  },
  {
   "cell_type": "markdown",
   "metadata": {},
   "source": [
    "We can see that the `np.newaxis` in axis 0 position has added a new axis such that the dimension of `my_array` is now 2. When the new axis was made, a length of 1 is by default added, such that there is 1 row in this case and 13 columns. "
   ]
  },
  {
   "cell_type": "markdown",
   "metadata": {},
   "source": [
    "### Example 5.2 (Examples with Two-Dimensional Arrays):"
   ]
  },
  {
   "cell_type": "code",
   "execution_count": null,
   "metadata": {},
   "outputs": [],
   "source": [
    "my_array_1 = np.array([[0,1,2,3,4,5], [0,1,2,3,4,5]]) # two dimensional array with numbers same as indices \n",
    "print(my_array_1)"
   ]
  },
  {
   "cell_type": "code",
   "execution_count": null,
   "metadata": {},
   "outputs": [],
   "source": [
    "my_array_1.shape"
   ]
  },
  {
   "cell_type": "code",
   "execution_count": null,
   "metadata": {
    "scrolled": true
   },
   "outputs": [],
   "source": [
    "print(my_array_1[:, :, np.newaxis]) # adds a new axis in the axis 2 position of length 1 "
   ]
  },
  {
   "cell_type": "code",
   "execution_count": null,
   "metadata": {},
   "outputs": [],
   "source": [
    "my_array_1[:, :, np.newaxis].shape # shape of above array "
   ]
  },
  {
   "cell_type": "code",
   "execution_count": null,
   "metadata": {
    "scrolled": true
   },
   "outputs": [],
   "source": [
    "print(my_array_1[:, np.newaxis, :])"
   ]
  },
  {
   "cell_type": "code",
   "execution_count": null,
   "metadata": {},
   "outputs": [],
   "source": [
    "my_array_1[:, np.newaxis, :].shape"
   ]
  },
  {
   "cell_type": "markdown",
   "metadata": {},
   "source": [
    "We can see that the `np.newaxis` in axis 2 position has added a new axis such that the dimension of `my_array` is now 3. When the new axis was made, a length of 1 is by default added, such that there is 2 rows, 1 column and a depth of 6."
   ]
  },
  {
   "cell_type": "markdown",
   "metadata": {},
   "source": [
    "### Part 6 (Basic Slicing and Indexing with Object 6 - `obj` is a non-ndarray Object):"
   ]
  },
  {
   "cell_type": "markdown",
   "metadata": {},
   "source": [
    "### Example 6.1 (Examples with Two-Dimensional Arrays):"
   ]
  },
  {
   "cell_type": "code",
   "execution_count": null,
   "metadata": {},
   "outputs": [],
   "source": [
    "my_array_1 = np.array([[0,1,2,3,4,5], [0,1,2,3,4,5]]) # two dimensional array with numbers same as indices \n",
    "print(my_array_1)"
   ]
  },
  {
   "cell_type": "code",
   "execution_count": null,
   "metadata": {},
   "outputs": [],
   "source": [
    "my_array_1.shape"
   ]
  },
  {
   "cell_type": "code",
   "execution_count": null,
   "metadata": {},
   "outputs": [],
   "source": [
    "print(my_array_1[[..., slice(3,6)]]) # all rows, columns 4,5, and 6"
   ]
  },
  {
   "cell_type": "code",
   "execution_count": null,
   "metadata": {},
   "outputs": [],
   "source": [
    "print(my_array_1[[slice(0,1), np.newaxis, ...]]) # first row, all columns (which turns into depth) with additional axis of length 1 "
   ]
  },
  {
   "cell_type": "code",
   "execution_count": null,
   "metadata": {},
   "outputs": [],
   "source": [
    "my_array_1[[slice(0,1), np.newaxis, ...]].shape"
   ]
  },
  {
   "cell_type": "markdown",
   "metadata": {},
   "source": [
    "We can see in the example above that we can use a non-ndarray sequence such as a `list` to combine `slice` object, the `Elipsis`, object, and/or the `newaxis`."
   ]
  },
  {
   "cell_type": "markdown",
   "metadata": {},
   "source": [
    "### 1.1.4.2 NumPy Array Indexing and Slicing (Method 2: Advanced Indexing):"
   ]
  },
  {
   "cell_type": "markdown",
   "metadata": {},
   "source": [
    "__Overview:__\n",
    "- The second way of indexing and slicing a NumPy Array is through advanced indexing \n",
    "- __[Advanced Indexing](https://docs.scipy.org/doc/numpy/reference/arrays.indexing.html#advanced-indexing)__  Advanced Indexing occurs in two different types:\n",
    "\n",
    "> 1. __[Integer Advanced Indexing](https://docs.scipy.org/doc/numpy/reference/arrays.indexing.html#integer-array-indexing):__ Integer Advanced Indexing occurs if any of the following take the place of the `obj` in the general form of an index: `array_name[obj]`:\n",
    ">> a. __Object 1:__ `obj` is a non-tuple sequence object (i.e. a `list`) <br>\n",
    ">> b. __Object 2:__ `obj` is an `ndarray` object of data type `int` or `bool`<br>\n",
    ">> c. __Object 3:__ `obj` is a tuple with at least one sequence object (object 1) or ndarray (object 2)<br>\n",
    "> 2. __[Booleaan Array Indexing](https://docs.scipy.org/doc/numpy/reference/arrays.indexing.html#boolean-array-indexing):__ Boolean Advanced Indexing occurs if any of the following take the place of the `obj` in the general form of an index: `array_name[obj]`:\n",
    ">> a. __Object 1:__ `obj` is an array object of Boolean type, such as may be returned from comparison operators (i.e. `>`, `<=`, etc.)\n",
    "\n",
    "__Helpful Points:__\n",
    "1. All arrays generated by advanced indexing are always copies of the original array \n",
    "2. There are some additional \"Indexing Nota Bene\" which are highlighted in the examples below by \"NB.5\", \"NB.6\", etc.\n",
    "\n",
    "__Practice:__ Examples of NumPy Array Advanced Indexing in Python "
   ]
  },
  {
   "cell_type": "markdown",
   "metadata": {},
   "source": [
    "### Part 1 Integer Advanced Indexing "
   ]
  },
  {
   "cell_type": "markdown",
   "metadata": {},
   "source": [
    "### Example 1.1 (Advanced Indexing with Object 1 - `obj` is a Non-Tuple Sequence Object):"
   ]
  },
  {
   "cell_type": "code",
   "execution_count": null,
   "metadata": {},
   "outputs": [],
   "source": [
    "my_array_1 = np.array([[0,1,2,3,4,5], [6,7,8,9,10,11]]) # two dimensional array with numbers same as indices \n",
    "print(my_array_1)"
   ]
  },
  {
   "cell_type": "code",
   "execution_count": null,
   "metadata": {
    "scrolled": true
   },
   "outputs": [],
   "source": [
    "my_array_1[[0,1],[2,5]] # get element 2 from the first row and element 5 from the second row"
   ]
  },
  {
   "cell_type": "markdown",
   "metadata": {},
   "source": [
    "The pairing of indices is represented in the following way: \n",
    "\n",
    "- (0, 2) -> first row and third column \n",
    "- (1, 5) -> second row and sixth column"
   ]
  },
  {
   "cell_type": "markdown",
   "metadata": {},
   "source": [
    "We can see that with Advanced Indexing with Object 1, we can use a list of 2 lists to access very specific elements of the NumPy Array. In the example above, we can interpret the indexes in the following way: The first list `[0,1]` stipulates the rows in the array that we want to access and the second list `[2,5]` stipulates the columns in the array that we want to access. Moreover, the second list indicates the elements of each row that we want to access (i.e. the 2nd element from row 0 and the 5th element from row 2)."
   ]
  },
  {
   "cell_type": "code",
   "execution_count": null,
   "metadata": {},
   "outputs": [],
   "source": [
    "index_1 = my_array_1[[0,1], [1,4]] # get element 1 from the first row and element 4 from the second row\n",
    "print(index_1)"
   ]
  },
  {
   "cell_type": "code",
   "execution_count": null,
   "metadata": {},
   "outputs": [],
   "source": [
    "print(my_array_1) # array before changing the element "
   ]
  },
  {
   "cell_type": "code",
   "execution_count": null,
   "metadata": {},
   "outputs": [],
   "source": [
    "# change my_array_1 \n",
    "my_array_1[0, 1] = 100\n",
    "print(my_array_1) # array after changing the element "
   ]
  },
  {
   "cell_type": "code",
   "execution_count": null,
   "metadata": {},
   "outputs": [],
   "source": [
    "# check index_1\n",
    "print(index_1)"
   ]
  },
  {
   "cell_type": "markdown",
   "metadata": {},
   "source": [
    "__Indexing NB.5:__ When we perform NumPy Array indexing through advancing indexing and save this result to a variable, this variable is a copy NOT a view of the original variable, unlike basic slicing and indexing. Therefore, you can see that if we change `my_array_1`, the index variable `index_1` does not change since it is a new object. "
   ]
  },
  {
   "cell_type": "markdown",
   "metadata": {},
   "source": [
    "### Example 1.2 (Advanced Indexing with Object 2 - `obj` is an ndarray Object):"
   ]
  },
  {
   "cell_type": "code",
   "execution_count": null,
   "metadata": {},
   "outputs": [],
   "source": [
    "my_array_2 = np.array([[0,1,2], [3,4,5], [6,7,8]]) # two dimensional array \n",
    "print(my_array_2)"
   ]
  },
  {
   "cell_type": "code",
   "execution_count": null,
   "metadata": {},
   "outputs": [],
   "source": [
    "# create indexes as separate variables and then pass them as individual indexes below\n",
    "rows = np.array([[0, 0], [2,2]], dtype = np.intp)\n",
    "columns = np.array([[0, 2], [0, 2]], dtype = np.intp)\n",
    "\n",
    "print(rows)\n",
    "print(columns)"
   ]
  },
  {
   "cell_type": "code",
   "execution_count": null,
   "metadata": {},
   "outputs": [],
   "source": [
    "my_array_2[rows, columns] # gives us the 4 corners of the array"
   ]
  },
  {
   "cell_type": "markdown",
   "metadata": {},
   "source": [
    "We can see that with Advanced Indexing with object 2, we can use two arrays to access the 4 corners of a NumPy Array. In the example above, we can interpret the indexes in the following way: The first array `[[0,0], [2,2]]` stipulates the rows in the array that we want to access and the second array `[[0,2], [0,2]]]`. This translates into the following:\n",
    "\n",
    "> 1. The first value (top left corner) is in the 0th row and the 0th column which appear as the first elements in the index arrays (0, 0)\n",
    "> 2. The second value (top right corner) is in the 0th row and 2nd column which appear as the second elements in the index arrays (0, 2)\n",
    "> 3. The third value (bottom left corner) is in the 2nd row and 0th column which appear as the third elements in the index arrays (2, 0)\n",
    "> 4. The fourth value (bottom right corner) is in the 2nd row and 2nd column which appear as the fourth elements in the index arrays (2, 2)"
   ]
  },
  {
   "cell_type": "code",
   "execution_count": null,
   "metadata": {},
   "outputs": [],
   "source": [
    "my_array_2[np.ix_([0,2], [0,2])] # get the same result using the np.ix_ function "
   ]
  },
  {
   "cell_type": "code",
   "execution_count": null,
   "metadata": {
    "scrolled": true
   },
   "outputs": [],
   "source": [
    "my_array_2[([0,0,2,2], [0,2,0,2])] # without the np.ix_ function, only the diagonal elements are accessed "
   ]
  },
  {
   "cell_type": "code",
   "execution_count": null,
   "metadata": {},
   "outputs": [],
   "source": [
    "np.diagonal(my_array_2) # full diagonal using built-in numpy function "
   ]
  },
  {
   "cell_type": "markdown",
   "metadata": {},
   "source": [
    "We can see that using the `np.ix_` function, we are able to get the same 4 diagonals of the array. However, notice how the row and column indexes are now lists (`[0,2]` and `[0,2]`, respectively), compared to the array row and columns indexes above when `np.ix_` was not used. There is some \"deep\" stuff happening behind the scenes here based on a concept called __Broadcasting__ that will be explained later. At this point, it is okay to think about the `np.ix_` function as making the process of accessing elements more efficient as it achieves it with less arguments. See below for some insight into what is happening with `np.ix_`"
   ]
  },
  {
   "cell_type": "code",
   "execution_count": null,
   "metadata": {},
   "outputs": [],
   "source": [
    "# replicate the np.ix_ function\n",
    "rows = np.array([0,2], dtype = np.intp)\n",
    "columns = np.array([0,2], dtype = np.intp)"
   ]
  },
  {
   "cell_type": "code",
   "execution_count": null,
   "metadata": {},
   "outputs": [],
   "source": [
    "# increase dimension of rows with length 1 \n",
    "rows[:, np.newaxis]"
   ]
  },
  {
   "cell_type": "code",
   "execution_count": null,
   "metadata": {},
   "outputs": [],
   "source": [
    "rows[:, np.newaxis].shape"
   ]
  },
  {
   "cell_type": "code",
   "execution_count": null,
   "metadata": {},
   "outputs": [],
   "source": [
    "columns.shape"
   ]
  },
  {
   "cell_type": "code",
   "execution_count": null,
   "metadata": {},
   "outputs": [],
   "source": [
    "my_array_2[rows[:, np.newaxis], columns] # same result as above "
   ]
  },
  {
   "cell_type": "code",
   "execution_count": null,
   "metadata": {},
   "outputs": [],
   "source": [
    "my_array_2[rows[:, np.newaxis], columns].shape"
   ]
  },
  {
   "cell_type": "markdown",
   "metadata": {},
   "source": [
    "__Indexing NB.6:__ When we perform NumPy Array indexing through Advanced Indexing, the result shape is related to the broadcast indexing array shapes. This is why the shape of `my_array_2[rows[:, np.newaxis], columns]` is `(2,2)` since the 1d array `columns` (shape `(2,)`) is \"broadcast\" across the 2d array `rows[:, np.newaxis]` (shape `(2,1)`) to form a new array of shape `(2,2)`. More on broadcasting later, but important to note the concept at play here. "
   ]
  },
  {
   "cell_type": "markdown",
   "metadata": {},
   "source": [
    "### Part 2: Boolean Array Indexing:"
   ]
  },
  {
   "cell_type": "markdown",
   "metadata": {},
   "source": [
    "### Example 2.1 (Boolean Array Indexing with Object 1 - `obj` is an Array Object of Boolean Type):"
   ]
  },
  {
   "cell_type": "code",
   "execution_count": null,
   "metadata": {},
   "outputs": [],
   "source": [
    "my_array_3 = np.array([[1, 2], [np.nan, 3], [np.nan, np.nan]])\n",
    "print(my_array_3)"
   ]
  },
  {
   "cell_type": "code",
   "execution_count": null,
   "metadata": {},
   "outputs": [],
   "source": [
    "my_array_3.ndim"
   ]
  },
  {
   "cell_type": "code",
   "execution_count": null,
   "metadata": {},
   "outputs": [],
   "source": [
    "# check which elements of the array are NaN\n",
    "np.isnan(my_array_3) # returns a boolean array, therefore we can use it for boolean array indexing "
   ]
  },
  {
   "cell_type": "code",
   "execution_count": null,
   "metadata": {},
   "outputs": [],
   "source": [
    "np.isnan(my_array_3).ndim"
   ]
  },
  {
   "cell_type": "code",
   "execution_count": null,
   "metadata": {},
   "outputs": [],
   "source": [
    "my_array_3[~ np.isnan(my_array_3)] # find all entries from an array which are not NaN (use tilda ~ operator for not)"
   ]
  },
  {
   "cell_type": "code",
   "execution_count": null,
   "metadata": {},
   "outputs": [],
   "source": [
    "my_array_3[~ np.isnan(my_array_3)].ndim"
   ]
  },
  {
   "cell_type": "markdown",
   "metadata": {},
   "source": [
    "__Indexing NB.7:__ When we peform NumPy Array Indexing through Boolean Array Indexing and the dimension of the index object has the same dimension of the array itself, the result is a 1-dimensional array filled with the elements of the original array corresponding to the `True` values of the index object. This is why we see that the dimension of the result (`my_array_3[~ np.isnan(my_array_3)]`) is 1 because the dimension of both the original array (`my_array_3`) and the index object (`np.isnan(my_array_3)`) have dimension 2. "
   ]
  },
  {
   "cell_type": "markdown",
   "metadata": {},
   "source": [
    "### Example 2.2 (Boolean Array Indexing with Object 1 - `obj` is an Array Object of Boolean Type):"
   ]
  },
  {
   "cell_type": "code",
   "execution_count": null,
   "metadata": {},
   "outputs": [],
   "source": [
    "my_array_2 = np.array([[0,1,2], [3,4,5], [6,7,8]]) # two dimensional array \n",
    "print(my_array_2)"
   ]
  },
  {
   "cell_type": "code",
   "execution_count": null,
   "metadata": {},
   "outputs": [],
   "source": [
    "# check which elements of the array are greater than 5\n",
    "my_array_2 > 5 # returns a boolean array, therefore we can use it for boolean array indexing"
   ]
  },
  {
   "cell_type": "code",
   "execution_count": null,
   "metadata": {},
   "outputs": [],
   "source": [
    "my_array_2[my_array_2 > 5]"
   ]
  },
  {
   "cell_type": "markdown",
   "metadata": {},
   "source": [
    "### 1.1.5 Group 3: NumPy Array Manipulation Routines:"
   ]
  },
  {
   "cell_type": "markdown",
   "metadata": {},
   "source": [
    "__Overview:__\n",
    "- There are many ways to manipulate arrays in NumPy which can be found [here](https://docs.scipy.org/doc/numpy/reference/routines.array-manipulation.html). These methods can (mostly) be organized into the following categories:\n",
    "> 1. __Group 1:__ Changing array shape (uses functions such as `ravel`, `reshape`, `flat`, etc.)\n",
    "> 2. __Group 2:__ Changing array dimensions (uses functions such as `squeeze`, etc.)\n",
    "> 3. __Group 3:__ Joining arrays (uses functions such as `dstack`, `stack`, `hstack`, `vstack`, etc.)\n",
    "> 4. __Group 4:__ Splitting arrays (uses functions such as `split`, `dsplit`, `hsplit`, etc.)\n",
    "> 5. __Group 5:__ Adding, modifying and removing elements (uses functions such as `delete`, `insert`, `resize`, etc.)\n",
    "\n",
    "__Helpful Points:__\n",
    "1. There are additional functions that perform manipulation routines but are used less commonly such as `tile`, `repeat`, etc.\n",
    "\n",
    "__Practice:__ Examples of NumPy Array Manipulation Routines in Python "
   ]
  },
  {
   "cell_type": "markdown",
   "metadata": {},
   "source": [
    "### Part 1: Changing Array Shape "
   ]
  },
  {
   "cell_type": "markdown",
   "metadata": {},
   "source": [
    "### Example 1.1 (Changing array shape with `reshape`):\n",
    "\n",
    "The `reshape` function gives a new shape to an array object without changing its data"
   ]
  },
  {
   "cell_type": "code",
   "execution_count": null,
   "metadata": {},
   "outputs": [],
   "source": [
    "np.arange(12) # recall this provides a range of numbers from 0 to 11"
   ]
  },
  {
   "cell_type": "code",
   "execution_count": null,
   "metadata": {},
   "outputs": [],
   "source": [
    "np.arange(12).shape"
   ]
  },
  {
   "cell_type": "code",
   "execution_count": null,
   "metadata": {},
   "outputs": [],
   "source": [
    "my_array = np.arange(12).reshape(3,4) # reshape the (12,1) array to an array of shape (3,4)\n",
    "print(my_array)"
   ]
  },
  {
   "cell_type": "markdown",
   "metadata": {},
   "source": [
    "Notice that the `reshape` function requires a shape that is compatible with the original shape of the array. Since the product of the new shape (3,4) is equal to the shape of the original array, it is considered compatible).\n",
    "\n",
    "NOTE: Since NumPy performs operation in \"row-major ordering\", the rows get filled first and then the columns vs. \"column-major ordering\" where the columns get filled first and then the rows. "
   ]
  },
  {
   "cell_type": "code",
   "execution_count": null,
   "metadata": {},
   "outputs": [],
   "source": [
    "np.arange(12).reshape(3,5) # not compatible shape given shape of original array "
   ]
  },
  {
   "cell_type": "markdown",
   "metadata": {},
   "source": [
    "### Example 1.2 (Changing array shape with `ravel`):\n",
    "\n",
    "The `ravel` function returns a contiguous flattened array"
   ]
  },
  {
   "cell_type": "code",
   "execution_count": null,
   "metadata": {},
   "outputs": [],
   "source": [
    "my_array = np.arange(12).reshape(3,4) # reshape the (12,1) array to an array of shape (3,4)\n",
    "print(my_array)"
   ]
  },
  {
   "cell_type": "code",
   "execution_count": null,
   "metadata": {},
   "outputs": [],
   "source": [
    "a_ravel = my_array.ravel()\n",
    "print(a_ravel)"
   ]
  },
  {
   "cell_type": "code",
   "execution_count": null,
   "metadata": {
    "scrolled": true
   },
   "outputs": [],
   "source": [
    "my_array[0,3] = 100\n",
    "print(my_array)"
   ]
  },
  {
   "cell_type": "code",
   "execution_count": null,
   "metadata": {},
   "outputs": [],
   "source": [
    "print(a_ravel) # view not a copy so it is modified when original array is modified "
   ]
  },
  {
   "cell_type": "markdown",
   "metadata": {},
   "source": [
    "### Example 1.3 (Changing array shape with `flatten`):\n",
    "\n",
    "The `flatten` function returns a copy of the array collapsed into one dimension"
   ]
  },
  {
   "cell_type": "code",
   "execution_count": null,
   "metadata": {},
   "outputs": [],
   "source": [
    "my_array = np.arange(12).reshape(3,4) # reshape the (12,1) array to an array of shape (3,4)\n",
    "print(my_array)"
   ]
  },
  {
   "cell_type": "code",
   "execution_count": null,
   "metadata": {
    "scrolled": true
   },
   "outputs": [],
   "source": [
    "a_flatten = my_array.flatten()\n",
    "print(a_flatten)"
   ]
  },
  {
   "cell_type": "code",
   "execution_count": null,
   "metadata": {
    "scrolled": true
   },
   "outputs": [],
   "source": [
    "my_array[2,2] = 222\n",
    "print(my_array)"
   ]
  },
  {
   "cell_type": "code",
   "execution_count": null,
   "metadata": {},
   "outputs": [],
   "source": [
    "print(a_flatten) # copy not a view so it is not modified when original array is modified "
   ]
  },
  {
   "cell_type": "markdown",
   "metadata": {},
   "source": [
    "### Example 1.4 (Changing array shape with `flat`):\n",
    "\n",
    "The `flat` function returns a 1-d iterator over the array (helpful for loops)"
   ]
  },
  {
   "cell_type": "code",
   "execution_count": null,
   "metadata": {},
   "outputs": [],
   "source": [
    "my_array = np.arange(12).reshape(3,4) # reshape the (12,1) array to an array of shape (3,4)\n",
    "print(my_array)"
   ]
  },
  {
   "cell_type": "code",
   "execution_count": null,
   "metadata": {},
   "outputs": [],
   "source": [
    "a_flat = my_array.flat\n",
    "print(a_flat)"
   ]
  },
  {
   "cell_type": "markdown",
   "metadata": {},
   "source": [
    "### Part 2: Changing Array Dimensions:"
   ]
  },
  {
   "cell_type": "markdown",
   "metadata": {},
   "source": [
    "### Example 2.1 (Changing array dimensions with `squeeze`):\n",
    "\n",
    "The `squeeze` function remove single-dimensional entries from the shape of an array "
   ]
  },
  {
   "cell_type": "code",
   "execution_count": null,
   "metadata": {},
   "outputs": [],
   "source": [
    "my_array = np.arange(12).reshape(3,4,1)\n",
    "print(my_array)"
   ]
  },
  {
   "cell_type": "code",
   "execution_count": null,
   "metadata": {},
   "outputs": [],
   "source": [
    "my_array.shape"
   ]
  },
  {
   "cell_type": "code",
   "execution_count": null,
   "metadata": {
    "scrolled": true
   },
   "outputs": [],
   "source": [
    "np.squeeze(my_array).shape # removes the third dimensions since it is a single-dimension entry "
   ]
  },
  {
   "cell_type": "markdown",
   "metadata": {},
   "source": [
    "NOTE: See also `broadcast`, `expand_dims`, etc."
   ]
  },
  {
   "cell_type": "markdown",
   "metadata": {},
   "source": [
    "### Part 3: Joining Arrays:"
   ]
  },
  {
   "cell_type": "markdown",
   "metadata": {},
   "source": [
    "### Example 3.1 (Joining arrays with `vstack` and `hstack`):\n",
    "\n",
    "- The `vstack` function stacks arrays in sequence vertically (row wise)\n",
    "- The `hstack` function stacks arrays in sequence horiztonally (column wise)"
   ]
  },
  {
   "cell_type": "code",
   "execution_count": null,
   "metadata": {},
   "outputs": [],
   "source": [
    "array_1 = np.arange(10).reshape(2,5)\n",
    "array_2 = np.zeros((2,5))\n",
    "print(array_1)\n",
    "print(array_2)"
   ]
  },
  {
   "cell_type": "code",
   "execution_count": null,
   "metadata": {},
   "outputs": [],
   "source": [
    "np.vstack((array_1, array_2)) # stack sequences vertically "
   ]
  },
  {
   "cell_type": "code",
   "execution_count": null,
   "metadata": {},
   "outputs": [],
   "source": [
    "np.hstack((array_1, array_2)) # stack sequences horizontally"
   ]
  },
  {
   "cell_type": "markdown",
   "metadata": {},
   "source": [
    "### Example 3.2 (Joining arrays using `concatenate`, `r_` and `c_`):\n",
    "\n",
    "- The `concatenate` function joins a sequence of arrays along an existing axis \n",
    "- The `r_` function translates slice objects to concatenation along the first axis\n",
    "- The `c_` function translates slice objects to concatenation along the second axis "
   ]
  },
  {
   "cell_type": "code",
   "execution_count": null,
   "metadata": {},
   "outputs": [],
   "source": [
    "array_1 = np.arange(10).reshape(2,5)\n",
    "array_2 = np.zeros((2,5))\n",
    "print(array_1)\n",
    "print(array_2)"
   ]
  },
  {
   "cell_type": "code",
   "execution_count": null,
   "metadata": {},
   "outputs": [],
   "source": [
    "np.concatenate((array_1, array_2), axis = 0) # same as vstack"
   ]
  },
  {
   "cell_type": "code",
   "execution_count": null,
   "metadata": {},
   "outputs": [],
   "source": [
    "np.concatenate((array_1, array_2), axis = 1) # same as hstack"
   ]
  },
  {
   "cell_type": "code",
   "execution_count": null,
   "metadata": {},
   "outputs": [],
   "source": [
    "np.r_[array_1, array_2] # same as vstack "
   ]
  },
  {
   "cell_type": "code",
   "execution_count": null,
   "metadata": {},
   "outputs": [],
   "source": [
    "np.r_[np.array([1,2,3]), 0, 0, np.array([4,5,6])] "
   ]
  },
  {
   "cell_type": "code",
   "execution_count": null,
   "metadata": {},
   "outputs": [],
   "source": [
    "np.c_[array_1, array_2] # same as hstack "
   ]
  },
  {
   "cell_type": "code",
   "execution_count": null,
   "metadata": {},
   "outputs": [],
   "source": [
    "np.c_[np.array([[1,2,3]]), 0, 0, np.array([[4,5,6]])] "
   ]
  },
  {
   "cell_type": "markdown",
   "metadata": {},
   "source": [
    "NOTE: See also `stack`, `column_stack`, `block`, etc."
   ]
  },
  {
   "cell_type": "markdown",
   "metadata": {},
   "source": [
    "### Part 4: Splitting Arrays"
   ]
  },
  {
   "cell_type": "markdown",
   "metadata": {},
   "source": [
    "### Example 4.1 (Splitting arrays using `hsplit` and `vsplit`):\n",
    "\n",
    "- The `hsplit` function splits an array into multiple sub-arrays horizontally (column-wise)\n",
    "- The `vsplit` function splits an array into multiple sub-arrays vertically (row-wise)"
   ]
  },
  {
   "cell_type": "code",
   "execution_count": null,
   "metadata": {},
   "outputs": [],
   "source": [
    "my_array = np.arange(24).reshape(6, 4)\n",
    "print(my_array)"
   ]
  },
  {
   "cell_type": "code",
   "execution_count": null,
   "metadata": {},
   "outputs": [],
   "source": [
    "np.hsplit(my_array, 2) # split the array into 2 equal sub-arrays column-wise "
   ]
  },
  {
   "cell_type": "code",
   "execution_count": null,
   "metadata": {},
   "outputs": [],
   "source": [
    "np.vsplit(my_array, 3) # split the array into 3 equal sub-arrays row-wise "
   ]
  },
  {
   "cell_type": "markdown",
   "metadata": {},
   "source": [
    "NOTE: See also `split`, `dsplit`, etc."
   ]
  },
  {
   "cell_type": "markdown",
   "metadata": {},
   "source": [
    "### Part 5 (Adding, modifying and removing elements of arrays):"
   ]
  },
  {
   "cell_type": "markdown",
   "metadata": {},
   "source": [
    "### Example 5.1 (Adding, modifying and removing elements of arrays using `delete`):\n",
    "\n",
    "- The `delete` function returns a new array with sub-arrays along an axis deleted "
   ]
  },
  {
   "cell_type": "code",
   "execution_count": null,
   "metadata": {},
   "outputs": [],
   "source": [
    "my_array = np.arange(24).reshape(6, 4)\n",
    "print(my_array)"
   ]
  },
  {
   "cell_type": "code",
   "execution_count": null,
   "metadata": {},
   "outputs": [],
   "source": [
    "np.delete(my_array, 3, 0) # delete the 4th row which is in the 0 axis"
   ]
  },
  {
   "cell_type": "markdown",
   "metadata": {},
   "source": [
    "### Example 5.2 (Adding, modifying and removing elements of arrays using `resize`):\n",
    "\n",
    "- The `resize` function returns a new array with the specified shape "
   ]
  },
  {
   "cell_type": "code",
   "execution_count": null,
   "metadata": {},
   "outputs": [],
   "source": [
    "my_array = np.arange(24).reshape(6, 4)\n",
    "print(my_array)"
   ]
  },
  {
   "cell_type": "code",
   "execution_count": null,
   "metadata": {},
   "outputs": [],
   "source": [
    "np.resize(my_array, (7,3)) # can be smaller than original array (then deletes numbers)"
   ]
  },
  {
   "cell_type": "code",
   "execution_count": null,
   "metadata": {},
   "outputs": [],
   "source": [
    "np.resize(my_array, (8,5)) # can be larger than original array (then starts recycling numbers)"
   ]
  },
  {
   "cell_type": "markdown",
   "metadata": {},
   "source": [
    "### Example 5.3 (Adding, modifying and removing elements of arrays using `insert`):\n",
    "\n",
    "- The `insert` function inserts values along the given axis before the given indices"
   ]
  },
  {
   "cell_type": "code",
   "execution_count": null,
   "metadata": {},
   "outputs": [],
   "source": [
    "my_array_1 = np.arange(10).reshape(2,5)\n",
    "print(my_array_1)"
   ]
  },
  {
   "cell_type": "code",
   "execution_count": null,
   "metadata": {},
   "outputs": [],
   "source": [
    "np.insert(my_array_1, 1, 100, axis = 0) # insert 100 before the 1st index in axis 0"
   ]
  },
  {
   "cell_type": "markdown",
   "metadata": {},
   "source": [
    "NOTE: See also `append`, `trim_zeros`, etc."
   ]
  },
  {
   "cell_type": "markdown",
   "metadata": {},
   "source": [
    "### 4.4.6 Group 4: NumPy Array Iteration Routines:"
   ]
  },
  {
   "cell_type": "markdown",
   "metadata": {},
   "source": [
    "__Overview:__\n",
    "- It is possible to iterate over NumPy Arrays without the use of any additional function, but the capabilities are limited\n",
    "- Instead, iterating over NumPy Arrays in Python is better using the [`nditer`](https://docs.scipy.org/doc/numpy/reference/generated/numpy.nditer.html#numpy.nditer)\n",
    "- Iterating over arrays can range from the most basic (i.e. visiting every element in an array) to the most advanced (i.e. wrapping a loop in Cython)\n",
    "- In general, there are many ways to iterate over NumPy arrays and information about each method can be found [here](https://docs.scipy.org/doc/numpy/reference/arrays.nditer.html)\n",
    "\n",
    "__Helpful Points:__\n",
    "1. Recall in the introduction of NumPy that NumPy Array's advanced capabilities of __Broadcasting__, in some cases, reduce the need to write a for loop. We will see broadcasting in the next section \n",
    "\n",
    "__Practice:__ Examples of NumPy Array Iteration Routines in Python "
   ]
  },
  {
   "cell_type": "markdown",
   "metadata": {},
   "source": [
    "### Example 1 (Array Iteration without `nditer`):"
   ]
  },
  {
   "cell_type": "code",
   "execution_count": null,
   "metadata": {},
   "outputs": [],
   "source": [
    "my_array = np.arange(6).reshape(2,3)\n",
    "print(my_array)"
   ]
  },
  {
   "cell_type": "code",
   "execution_count": null,
   "metadata": {},
   "outputs": [],
   "source": [
    "for row in my_array: # iterates over rows \n",
    "    print(row)"
   ]
  },
  {
   "cell_type": "code",
   "execution_count": null,
   "metadata": {},
   "outputs": [],
   "source": [
    "my_array.flat # the flat function returns an iterator which we can iterate over "
   ]
  },
  {
   "cell_type": "code",
   "execution_count": null,
   "metadata": {},
   "outputs": [],
   "source": [
    "for element in my_array.flat: # iterates over every element in the array \n",
    "    print(element)"
   ]
  },
  {
   "cell_type": "markdown",
   "metadata": {},
   "source": [
    "### Example 2 (Array Iteration with `nditer`):"
   ]
  },
  {
   "cell_type": "code",
   "execution_count": null,
   "metadata": {},
   "outputs": [],
   "source": [
    "my_array = np.arange(6).reshape(2,3)\n",
    "print(my_array)"
   ]
  },
  {
   "cell_type": "code",
   "execution_count": null,
   "metadata": {},
   "outputs": [],
   "source": [
    "for elem in np.nditer(my_array): # loop through every element of the array (same as np.flat above)\n",
    "    print(elem)"
   ]
  },
  {
   "cell_type": "code",
   "execution_count": null,
   "metadata": {},
   "outputs": [],
   "source": [
    "print(my_array.T)# take the transpose of the array "
   ]
  },
  {
   "cell_type": "code",
   "execution_count": null,
   "metadata": {},
   "outputs": [],
   "source": [
    "for elem in np.nditer(my_array.T): # loop through every element of the array (same as np.flat above)\n",
    "    print(elem)"
   ]
  },
  {
   "cell_type": "markdown",
   "metadata": {},
   "source": [
    "You will notice that if we print every element of the array, then [transpose](https://en.wikipedia.org/wiki/Transpose) the array and print every element again, the same result is shown. This is because the `nditer` function iterates over elements in the order that they exist in memory, not necessarily in the order they are shown in the array. "
   ]
  },
  {
   "cell_type": "code",
   "execution_count": null,
   "metadata": {},
   "outputs": [],
   "source": [
    "for elem in np.nditer(my_array, order = \"C\"): # loop through every element of the array in contiguous order (by row)\n",
    "    print(elem)"
   ]
  },
  {
   "cell_type": "code",
   "execution_count": null,
   "metadata": {},
   "outputs": [],
   "source": [
    "for elem in np.nditer(my_array.T, order = \"C\"): # loop through every element of the array in contiguous order (by row)\n",
    "    print(elem)"
   ]
  },
  {
   "cell_type": "markdown",
   "metadata": {},
   "source": [
    "You will notice that now the two iterations print out different values. Therefore, the `nditer` iterator is iterating over elements as they appear in the array and not as they appaear in memory. To achieve this result, we had to specify the order as \"C\" for [contiguous](https://en.wikipedia.org/wiki/Contiguity#Computer_science)"
   ]
  },
  {
   "cell_type": "markdown",
   "metadata": {},
   "source": [
    "### Example 3 (Modifying array results):"
   ]
  },
  {
   "cell_type": "code",
   "execution_count": null,
   "metadata": {},
   "outputs": [],
   "source": [
    "my_array = np.arange(6).reshape(2,3)\n",
    "print(my_array)"
   ]
  },
  {
   "cell_type": "code",
   "execution_count": null,
   "metadata": {},
   "outputs": [],
   "source": [
    "for elem in np.nditer(my_array): # add 10 to every value in the array \n",
    "    elem[...] = elem + 10\n",
    "\n",
    "print(my_array)"
   ]
  },
  {
   "cell_type": "markdown",
   "metadata": {},
   "source": [
    "We can see that by default, the `nditer` function treats the input array as a read-only object so we can't modify the array elements. \n",
    "\n",
    "NOTE: We need the `Elipsis` object here because in variable assignment, Python changes a reference to the variable and does not modify the existing variable in place. Therefore, if we assigned the element of the array (`elem`) to a new value (i.e. `elem` = `elem` + 10), it would not change the variable `elem` in place. Instead, it would point the variable `elem` to reference a new value and no longer be an array element. To actually modify the element of the array in place, we need to use the `Elipsis` object. "
   ]
  },
  {
   "cell_type": "code",
   "execution_count": null,
   "metadata": {},
   "outputs": [],
   "source": [
    "for elem in np.nditer(my_array, op_flags=[\"readwrite\"]): # add 10 to every value in the array \n",
    "    elem[...] = elem + 10\n",
    "\n",
    "print(my_array)"
   ]
  },
  {
   "cell_type": "markdown",
   "metadata": {},
   "source": [
    "We can see that by using the `op_flags` argument, we can modify the array elements. "
   ]
  },
  {
   "cell_type": "markdown",
   "metadata": {},
   "source": [
    "### 1.1.7 Group 5: NumPy Array Basic Operations:"
   ]
  },
  {
   "cell_type": "markdown",
   "metadata": {},
   "source": [
    "### 1.1.7.1 Broadcasting:"
   ]
  },
  {
   "cell_type": "markdown",
   "metadata": {},
   "source": [
    "__Overview:__\n",
    "- Before we explore basic operations with NumPy, we have to understand Broadcasting which is a key concept that underlies most of NumPy's operation routines \n",
    "- __[Broadcasting](https://docs.scipy.org/doc/numpy/user/basics.broadcasting.html):__ Broadcasting in NumPy describes how arrays with different shapes are handled during arithmetic operations\n",
    "- In general, the smaller array is \"broadcast\" across the larger array so that they eventually have compatible shapes\n",
    "- Broadcasting occurs according to two rules:\n",
    "> 1. If all input arrays do not have the same number of dimensions, a \"1\" will be repeatedly prepended to the shapes of the smaller arrays until all the arrays have the same number of dimensions\n",
    "> 2. An array of size 1 along a particular dimension acts as if they had the size of the array with the largest shape along that dimension \n",
    "- Two arrays are evaluated for compatibility by starting at the trailing dimensions (first dimension on the right) and then working forward, one dimension at a time. At each dimension, the 2 arrays (in that dimension) are evaluated for compatibility. The two dimensions are compatible if: \n",
    "> 1. The two dimensions are equal, or\n",
    "> 2. One of the two dimensions is equal to 1 \n",
    "\n",
    "NOTE: If at any point in the comparison of dimensions that either of two conditions above fails, the 2 arrays are not compatible and an error will be raised. \n",
    "\n",
    "__Helpful Points:__\n",
    "1. Recall that Broadcasting is what allows us to perform vectorized operations on arrays which reduce the need for loops\n",
    "2. Recall when we were working with Advanced Indexing in NumPy arrays that broadcasting was at play. Now you should be able to go back to that section and re-work the examples with more appreciation \n",
    "\n",
    "__Practice:__ Examples of Broadcasting in NumPy"
   ]
  },
  {
   "cell_type": "markdown",
   "metadata": {},
   "source": [
    "### Part 1 (Broadcasting Rules):"
   ]
  },
  {
   "cell_type": "markdown",
   "metadata": {},
   "source": [
    "### Example 1.1 (Broadcasting Rules - 1):"
   ]
  },
  {
   "cell_type": "markdown",
   "metadata": {},
   "source": [
    "`A      (2d array):  5 x 4`<br>\n",
    "`B      (1d array):      1`<br>\n",
    "`Result (2d array):  5 x 4`<br>"
   ]
  },
  {
   "cell_type": "markdown",
   "metadata": {},
   "source": [
    "Array A and B are compared according to the principles outlined above. Specifically,\n",
    "\n",
    "- Firsly, Array A is 2d and Array B is 1d, so a \"1\" is prepended to Array B so that they can both be 2d arrays\n",
    "- Secondly, starting at the trailing dimension, the two elements are compared for compatbility:\n",
    "> a. Array B (1) vs. Array A (4). According to the compatibility principles, they are compatible since one of the 2 dimensions is equal to 1. The result in this dimension takes the size of Array B (4) since it was the largest of the 2.<br>\n",
    "> b. Array B (1) vs. Array A (5). According to the compatibility principles, they are compatible since one of the 2 dimensions is equal to 1. The result in this dimension takes the size of Array B (5) since it was the largest of the 2. "
   ]
  },
  {
   "cell_type": "markdown",
   "metadata": {},
   "source": [
    "### Example 1.2 (Broadcasting Rules - 2):"
   ]
  },
  {
   "cell_type": "markdown",
   "metadata": {},
   "source": [
    "`A      (3d array):  15 x 3 x 5`<br>\n",
    "`B      (2d array):       3 x 1`<br>\n",
    "`Result (3d array):  15 x 3 x 5`<br>"
   ]
  },
  {
   "cell_type": "markdown",
   "metadata": {},
   "source": [
    "Array A and B are compared according to the principles outlined above. Specifically,\n",
    "\n",
    "- Firsly, Array A is 3d and Array B is 2d, so a \"1\" is prepended to Array B so that they can both be 3d arrays\n",
    "- Secondly, starting at the trailing dimension, the two elements are compared for compatbility:\n",
    "> a. Array B (1) vs. Array A (5). According to the compatibility principles, they are compatible since one of the 2 dimensions is equal to 1. The result in this dimension takes the size of Array B (5) since it was the largest of the 2. <br>\n",
    "> b. Array B (3) vs. Array A (3). According to the compatibility principles, they are compatible since the 2 dimensions are equal. The result takes this dimension (3).<br>\n",
    "> c. Array B (1) vs. Array A (15). According to the compatibility principles, they are compatible since one of the 2 dimensions is equal to 1. The result in this dimension takes the size of Array B (15) since it was the largest of the 2. "
   ]
  },
  {
   "cell_type": "markdown",
   "metadata": {},
   "source": [
    "### Example 1.3 (Broadcasting Rules - 3):"
   ]
  },
  {
   "cell_type": "markdown",
   "metadata": {},
   "source": [
    "`A      (2d array):      2 x 1`<br>\n",
    "`B      (3d array):  8 x 4 x 3`<br>"
   ]
  },
  {
   "cell_type": "markdown",
   "metadata": {},
   "source": [
    "Array A and B are compared according to the principles outlined above. Specifically,\n",
    "\n",
    "- Firsly, Array A is 2d and Array B is 3d, so a \"1\" is prepended to Array A so that they can both be 3d arrays\n",
    "- Secondly, starting at the trailing dimension, the two elements are compared for compatbility:\n",
    "> a. Array B (3) vs. Array A (1). According to the compatibility principles, they are compatible since one of the 2 dimensions is equal to 1. The result in this dimension takes the size of Array B (3) since it was the largest of the 2. <br>\n",
    "> b. Array B (4) vs. Array A (2). According to the compatibility principles, they are not compatible since the 2 dimensions are neither equal nor is one of the 2 dimensions equal to 1.\n",
    "\n",
    "Therefore, we say that Array A and Array B are not \"broadcast-able\" with each other "
   ]
  },
  {
   "cell_type": "markdown",
   "metadata": {},
   "source": [
    "### Part 2 (Practical Examples):"
   ]
  },
  {
   "cell_type": "markdown",
   "metadata": {},
   "source": [
    "### Example 2.1 (Two Arrays with Same Shapes):"
   ]
  },
  {
   "cell_type": "code",
   "execution_count": null,
   "metadata": {},
   "outputs": [],
   "source": [
    "array_1 = np.arange(12).reshape(2,6)\n",
    "array_2 = np.ones((2,6))\n",
    "print(array_1)\n",
    "print(array_2)"
   ]
  },
  {
   "cell_type": "code",
   "execution_count": null,
   "metadata": {},
   "outputs": [],
   "source": [
    "array_1 + array_2 # add 2 arrays"
   ]
  },
  {
   "cell_type": "markdown",
   "metadata": {},
   "source": [
    "We see that addition here is performed element-wise which requires the 2 arrays to have exactly the same shape. But what if you want to add 2 arrays, that don't have the same shape? See below"
   ]
  },
  {
   "cell_type": "markdown",
   "metadata": {},
   "source": [
    "### Example 2.2 (Two Arrays with Different Shapes - 1):"
   ]
  },
  {
   "cell_type": "code",
   "execution_count": null,
   "metadata": {},
   "outputs": [],
   "source": [
    "array_1 = np.arange(1,4)\n",
    "scalar_1 = 2\n",
    "print(array_1)\n",
    "print(scalar_1)"
   ]
  },
  {
   "cell_type": "code",
   "execution_count": null,
   "metadata": {},
   "outputs": [],
   "source": [
    "array_1.shape"
   ]
  },
  {
   "cell_type": "code",
   "execution_count": null,
   "metadata": {},
   "outputs": [],
   "source": [
    "array_1 * scalar_1 # multiply every element in the array by 2"
   ]
  },
  {
   "cell_type": "markdown",
   "metadata": {},
   "source": [
    "In this case, `scalar_1` is being \"stretched\" during arithmetic operation into an array with the same shape as `array_1`. See below for a visualization of this example: <img src=\"img/img26.gif\">"
   ]
  },
  {
   "cell_type": "markdown",
   "metadata": {},
   "source": [
    "### Example 2.3 (Two Arrays with Different Shapes - 2):"
   ]
  },
  {
   "cell_type": "code",
   "execution_count": null,
   "metadata": {},
   "outputs": [],
   "source": [
    "a = np.array([[ 0.0, 0.0, 0.0],\n",
    "            [10.0,10.0,10.0],\n",
    "            [20.0,20.0,20.0],\n",
    "            [30.0,30.0,30.0]])\n",
    "b = np.array([0.0,1.0,2.0])\n",
    "print(a)\n",
    "print(b)"
   ]
  },
  {
   "cell_type": "code",
   "execution_count": null,
   "metadata": {},
   "outputs": [],
   "source": [
    "print(a.shape, a.ndim) \n",
    "print(b.shape, b.ndim)"
   ]
  },
  {
   "cell_type": "code",
   "execution_count": null,
   "metadata": {},
   "outputs": [],
   "source": [
    "a + b # add two arrays "
   ]
  },
  {
   "cell_type": "code",
   "execution_count": null,
   "metadata": {},
   "outputs": [],
   "source": [
    "print((a+b).shape)"
   ]
  },
  {
   "cell_type": "markdown",
   "metadata": {},
   "source": [
    "In this case, Array A is 2d and Array B is 1d. Array B has \"1\" prepended so that it matches the number of dimensions as Array A. Then, the two arrays are compared for compatibility from their trailing dimensions:\n",
    "\n",
    "> a. Array B (3) vs. Array A (3). According to the compatibility principles, they are compatible since the 2 dimensions are equal. The result is equal to this value. <br>\n",
    "> b. Array B (1) vs. Array A (4). According to the compatibility principles, they are compatible since one of the 2 dimensions is equal to 1. The result in this dimension takes the size of Array A (4) since it was the largest of the 2. <br>\n",
    "\n",
    "Therefore, the result is an array of shape `(4,3)` and this is exactly what we see when add the two arrays together. \n",
    "\n",
    "`b` is \"stretched\" down 4 times so that it can be compatible with `a`. See below for a visualization of this example: <img src=\"img/img27.gif\">"
   ]
  },
  {
   "cell_type": "markdown",
   "metadata": {},
   "source": [
    "### Example 2.4 (Two Arrays with Different Shapes - 3):"
   ]
  },
  {
   "cell_type": "code",
   "execution_count": null,
   "metadata": {},
   "outputs": [],
   "source": [
    "a = np.array([0.0,10.0,20.0,30.0])\n",
    "b = np.array([0.0,1.0,2.0])\n",
    "print(a)\n",
    "print(b)"
   ]
  },
  {
   "cell_type": "code",
   "execution_count": null,
   "metadata": {},
   "outputs": [],
   "source": [
    "print(a.shape, a.ndim) \n",
    "print(b.shape, b.ndim)"
   ]
  },
  {
   "cell_type": "code",
   "execution_count": null,
   "metadata": {
    "scrolled": true
   },
   "outputs": [],
   "source": [
    "a + b # add two arrays "
   ]
  },
  {
   "cell_type": "markdown",
   "metadata": {},
   "source": [
    "The arrays `a` and `b` can not be broadcasted together because their trailing dimension value (3 for `b` and 4 for `a`) is incompatible by definition. Instead, we have to modify one of the arrays to make them compatible. "
   ]
  },
  {
   "cell_type": "code",
   "execution_count": null,
   "metadata": {
    "scrolled": true
   },
   "outputs": [],
   "source": [
    "# add a new dimension to array a of length 1 \n",
    "a = a[:,np.newaxis]\n",
    "print(a)"
   ]
  },
  {
   "cell_type": "code",
   "execution_count": null,
   "metadata": {},
   "outputs": [],
   "source": [
    "print(a.shape, a.ndim)"
   ]
  },
  {
   "cell_type": "code",
   "execution_count": null,
   "metadata": {
    "scrolled": true
   },
   "outputs": [],
   "source": [
    "a + b # add two arrays again "
   ]
  },
  {
   "cell_type": "code",
   "execution_count": null,
   "metadata": {},
   "outputs": [],
   "source": [
    "print((a+b).shape)"
   ]
  },
  {
   "cell_type": "markdown",
   "metadata": {},
   "source": [
    "See below for a visualization of this example: <img src=\"img/img28.gif\">"
   ]
  },
  {
   "cell_type": "markdown",
   "metadata": {},
   "source": [
    "### 1.1.7.2 Basic Operations:"
   ]
  },
  {
   "cell_type": "markdown",
   "metadata": {},
   "source": [
    "__Overview:__\n",
    "- NumPy offers an extensive list of operations that can be performed on NumPy Arrays. These operations are most commonly separated based on how their routines are operated:\n",
    "> 1. Element-Wise Operators: These operators perform some operation on every element of the array, one at a time. Most of these operators are considered __[Universal Functions](https://docs.scipy.org/doc/numpy-1.14.0/reference/ufuncs.html#available-ufuncs)__ and are broken into the following categories:\n",
    ">> a. __Math Operations:__ Such as `add`, `subtract`, `absolute`, `log`, `exp`, `sqrt`, etc.<br> \n",
    ">> b. __Trigonemtric Functions:__ Such as `sin`, `cos`, etc. <br>\n",
    ">> c. __Comparison Functions:__ Such as `greater`, `less_equal`, `logical_and`, etc.\n",
    "> 2. Axis Operators: These operators perform operation on an axis level (i.e. all rows or all columns) and can be broken into the following categories: \n",
    ">> a. __Ordering:__ Such as `argmax`, `argmin`, `sort`, etc.<br> \n",
    ">> b. __Questions:__ Such as `all`, `any`, etc. <br>\n",
    ">> c. __Operations:__ Such as `cumsum`, `sum`, etc.\n",
    "\n",
    "__Helpful Points:__\n",
    "1. Information on Basic Operations in NumPy can be found [here](https://docs.scipy.org/doc/numpy-dev/user/quickstart.html#basic-operations) \n",
    "2. Both types of operations will be explored below\n",
    "\n",
    "__Practice:__ Examples of Basic Operations in NumPy Arrays in Python "
   ]
  },
  {
   "cell_type": "markdown",
   "metadata": {},
   "source": [
    "### Part 1 (Element-Wise Operators):"
   ]
  },
  {
   "cell_type": "code",
   "execution_count": null,
   "metadata": {},
   "outputs": [],
   "source": [
    "my_array_1 = np.arange(12).reshape(3,4)\n",
    "my_array_2 = np.arange(12,24).reshape(3,4)\n",
    "print(my_array_1)\n",
    "print(my_array_2)"
   ]
  },
  {
   "cell_type": "markdown",
   "metadata": {},
   "source": [
    "### Example 1.1 (Math Operations):\n",
    "\n",
    "See the whole list of functions [here](https://docs.scipy.org/doc/numpy-1.14.0/reference/ufuncs.html#math-operations)"
   ]
  },
  {
   "cell_type": "code",
   "execution_count": null,
   "metadata": {},
   "outputs": [],
   "source": [
    "np.add(my_array_1, my_array_2) # add"
   ]
  },
  {
   "cell_type": "code",
   "execution_count": null,
   "metadata": {},
   "outputs": [],
   "source": [
    "np.multiply(my_array_1, 5.0) # multiply"
   ]
  },
  {
   "cell_type": "code",
   "execution_count": null,
   "metadata": {},
   "outputs": [],
   "source": [
    "np.sqrt(my_array_2) # sqrt"
   ]
  },
  {
   "cell_type": "code",
   "execution_count": null,
   "metadata": {},
   "outputs": [],
   "source": [
    "np.square(my_array_1) # square"
   ]
  },
  {
   "cell_type": "code",
   "execution_count": null,
   "metadata": {},
   "outputs": [],
   "source": [
    "np.exp(my_array_2) # exp"
   ]
  },
  {
   "cell_type": "markdown",
   "metadata": {},
   "source": [
    "### Example 1.2 (Trigonemtric Functions):\n",
    "\n",
    "See the whole list of functions [here](https://docs.scipy.org/doc/numpy-1.14.0/reference/ufuncs.html#trigonometric-functions)"
   ]
  },
  {
   "cell_type": "code",
   "execution_count": null,
   "metadata": {},
   "outputs": [],
   "source": [
    "np.sin(my_array_1) # sin "
   ]
  },
  {
   "cell_type": "code",
   "execution_count": null,
   "metadata": {},
   "outputs": [],
   "source": [
    "np.tan(my_array_2) # tan "
   ]
  },
  {
   "cell_type": "markdown",
   "metadata": {},
   "source": [
    "### Example 1.3 (Comparison Functions):\n",
    "\n",
    "See the whole list of functions [here](https://docs.scipy.org/doc/numpy-1.14.0/reference/ufuncs.html#comparison-functions)"
   ]
  },
  {
   "cell_type": "code",
   "execution_count": null,
   "metadata": {},
   "outputs": [],
   "source": [
    "np.greater(my_array_1, my_array_2) # greater than every element "
   ]
  },
  {
   "cell_type": "code",
   "execution_count": null,
   "metadata": {},
   "outputs": [],
   "source": [
    "np.less_equal(my_array_1, my_array_2) # less than or equal to every element "
   ]
  },
  {
   "cell_type": "markdown",
   "metadata": {},
   "source": [
    "### Part 2 (Axis Operators)"
   ]
  },
  {
   "cell_type": "code",
   "execution_count": null,
   "metadata": {},
   "outputs": [],
   "source": [
    "my_array_1 = np.arange(12).reshape(3,4)\n",
    "my_array_2 = np.arange(12,24).reshape(3,4)\n",
    "print(my_array_1)\n",
    "print(my_array_2)"
   ]
  },
  {
   "cell_type": "markdown",
   "metadata": {},
   "source": [
    "### Example 2.1 (Ordering):"
   ]
  },
  {
   "cell_type": "code",
   "execution_count": null,
   "metadata": {},
   "outputs": [],
   "source": [
    "np.argmax(my_array_1) # maximum argument "
   ]
  },
  {
   "cell_type": "code",
   "execution_count": null,
   "metadata": {},
   "outputs": [],
   "source": [
    "np.argmax(my_array_1, axis = 0) # maximum argumnent of axis 0 "
   ]
  },
  {
   "cell_type": "code",
   "execution_count": null,
   "metadata": {},
   "outputs": [],
   "source": [
    "np.max(my_array_2) # max value "
   ]
  },
  {
   "cell_type": "code",
   "execution_count": null,
   "metadata": {},
   "outputs": [],
   "source": [
    "np.sort(my_array_1) # sort values "
   ]
  },
  {
   "cell_type": "markdown",
   "metadata": {},
   "source": [
    "### Example 2.2 (Questions):"
   ]
  },
  {
   "cell_type": "code",
   "execution_count": null,
   "metadata": {},
   "outputs": [],
   "source": [
    "np.all([[True,False],[True,True]]) # check if all are true "
   ]
  },
  {
   "cell_type": "code",
   "execution_count": null,
   "metadata": {},
   "outputs": [],
   "source": [
    "np.nonzero(my_array_1) # indices of elements that are non-zero "
   ]
  },
  {
   "cell_type": "markdown",
   "metadata": {},
   "source": [
    "### Example 2.3 (Operations):"
   ]
  },
  {
   "cell_type": "code",
   "execution_count": null,
   "metadata": {},
   "outputs": [],
   "source": [
    "my_array_1 = np.arange(12).reshape(3,4)\n",
    "my_array_2 = np.arange(12,24).reshape(3,4)\n",
    "print(my_array_1)\n",
    "print(my_array_2)"
   ]
  },
  {
   "cell_type": "code",
   "execution_count": null,
   "metadata": {},
   "outputs": [],
   "source": [
    "np.cumprod(my_array_2) # cumulative product by rows "
   ]
  },
  {
   "cell_type": "code",
   "execution_count": null,
   "metadata": {},
   "outputs": [],
   "source": [
    "np.cumsum(my_array_1) # cumulative sum by rows "
   ]
  },
  {
   "cell_type": "code",
   "execution_count": null,
   "metadata": {},
   "outputs": [],
   "source": [
    "np.sum(my_array_1) # sum of all values "
   ]
  },
  {
   "cell_type": "code",
   "execution_count": null,
   "metadata": {},
   "outputs": [],
   "source": [
    "np.sum(my_array_2, axis = 0) # sum of every column "
   ]
  },
  {
   "cell_type": "code",
   "execution_count": null,
   "metadata": {},
   "outputs": [],
   "source": []
  }
 ],
 "metadata": {
  "kernelspec": {
   "display_name": "Python 3",
   "language": "python",
   "name": "python3"
  },
  "language_info": {
   "codemirror_mode": {
    "name": "ipython",
    "version": 3
   },
   "file_extension": ".py",
   "mimetype": "text/x-python",
   "name": "python",
   "nbconvert_exporter": "python",
   "pygments_lexer": "ipython3",
   "version": "3.7.3"
  },
  "toc": {
   "base_numbering": 1,
   "nav_menu": {},
   "number_sections": true,
   "sideBar": true,
   "skip_h1_title": false,
   "title_cell": "Table of Contents",
   "title_sidebar": "Contents",
   "toc_cell": false,
   "toc_position": {},
   "toc_section_display": true,
   "toc_window_display": false
  }
 },
 "nbformat": 4,
 "nbformat_minor": 2
}
