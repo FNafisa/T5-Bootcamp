{
 "cells": [
  {
   "cell_type": "markdown",
   "metadata": {},
   "source": [
    "### Problem 1:\n",
    "\n",
    "If $\\pmb a = [1, 3]$ and $\\pmb b = [5, 2]$ and $c\\pmb = 3$, calculate:\n",
    "\n",
    "a) $\\pmb a + \\pmb b$ \n",
    "\n",
    "b) $c\\pmb a$ \n",
    "\n",
    "c) $c\\pmb b$\n",
    "\n",
    "d) $c (\\pmb a+ \\pmb b)$\n",
    "\n",
    "e) $c (\\pmb b- \\pmb a)$\n"
   ]
  },
  {
   "cell_type": "code",
   "execution_count": 16,
   "metadata": {},
   "outputs": [
    {
     "name": "stdout",
     "output_type": "stream",
     "text": [
      "[18, 15]\n"
     ]
    }
   ],
   "source": [
    "# a : (1+5 , 3+2)\n",
    "    # g1 : [1,3,4,5,7]\n",
    "    # g2 : [1,3,4,5,7]\n",
    "    # g3 : result\n",
    "# b: (3*1 , 3*3)\n",
    "    \n",
    "# c: (3*5 , 3*2)\n",
    "    \n",
    "# d: ((3*1 , 3*3)+(3*5 , 3*2))\n",
    "a, b, c= [1,3], [5,2], 3\n",
    "\n",
    "def add_funct(g1, g2):\n",
    "    g3=[]\n",
    "    for i in range(len(g1)):\n",
    "        g3.append(g1[i]+g2[i])\n",
    "    return g3\n",
    "\n",
    "def subt_funct(g1, g2):\n",
    "    g3=[]\n",
    "    for i in range(len(g1)):\n",
    "        g3.append(g1[i]+g2[i])\n",
    "    return g3\n",
    "\n",
    "\n",
    "def add_multip_funct(g1, g2, m):\n",
    "    for i in range(len(g1)):\n",
    "        g1[i] *= m\n",
    "        g2[i] *= m\n",
    "    g3=[]\n",
    "    for i in range(len(g1)):\n",
    "        g3.append(g1[i]+g2[i])\n",
    "    return g3\n",
    "\n",
    "def subt(g1, g2, m):\n",
    "    for i in range(len(g1)):\n",
    "        g1[i] *= m\n",
    "        g2[i] *= m\n",
    "    g3=[]\n",
    "    for i in range(len(g1)):\n",
    "        g3.append(g1[i]+g2[i])\n",
    "    return g3\n",
    "\n",
    "def multip_funct(g, m):\n",
    "    for i in range(len(g)):\n",
    "        g[i] *= m\n",
    "    return g\n",
    "\n",
    "\n",
    "# print(add_multip_funct(a,b,c))\n",
    "\n",
    "# print(multip_funct(a,c))"
   ]
  },
  {
   "cell_type": "code",
   "execution_count": null,
   "metadata": {},
   "outputs": [],
   "source": [
    "# using *args as an argument \n",
    "\n",
    "# def multip_funct(*args):\n",
    "#     for i in range(len(g)):\n",
    "#         a[i] *= c\n",
    "#     return a\n",
    "# print(add_funct(a,b))"
   ]
  },
  {
   "cell_type": "markdown",
   "metadata": {},
   "source": [
    "### Problem 2:\n",
    "\n",
    "What are the norm and unit vectors for:\n",
    "\n",
    "a) $[1, 3]$ \n",
    "\n",
    "b) $[2, 6]$ \n",
    "\n",
    "c) $[-1, -3]$ \n",
    "\n",
    "d) $[1, -3]$ \n",
    "\n",
    "e) $[1, 2, 3]$ \n",
    "\n",
    "f) $[1, 2, 3, 4]$ "
   ]
  },
  {
   "cell_type": "code",
   "execution_count": null,
   "metadata": {},
   "outputs": [],
   "source": [
    "\n"
   ]
  }
 ],
 "metadata": {
  "interpreter": {
   "hash": "64460278cf54f2db23a20d0ab8fa39296004f6e4c7228992e856f19dd3744f6d"
  },
  "kernelspec": {
   "display_name": "Python 3.9.7 64-bit",
   "name": "python3"
  },
  "language_info": {
   "codemirror_mode": {
    "name": "ipython",
    "version": 3
   },
   "file_extension": ".py",
   "mimetype": "text/x-python",
   "name": "python",
   "nbconvert_exporter": "python",
   "pygments_lexer": "ipython3",
   "version": "3.9.7"
  }
 },
 "nbformat": 4,
 "nbformat_minor": 2
}
