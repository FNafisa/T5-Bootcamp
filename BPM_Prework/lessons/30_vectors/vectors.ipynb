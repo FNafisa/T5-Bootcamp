{
 "cells": [
  {
   "cell_type": "markdown",
   "metadata": {},
   "source": [
    "# Vectors"
   ]
  },
  {
   "cell_type": "markdown",
   "metadata": {},
   "source": [
    "__Purpose:__ We will learn a basic and fundamental concept in Linear Algebra known as vector.\n",
    "\n",
    "__At the end of this lecture you will be able to:__\n",
    "> 1. Work with vectors\n",
    "> 2. Understand a coordinate space"
   ]
  },
  {
   "cell_type": "markdown",
   "metadata": {},
   "source": [
    "### 1.1.1 What is a Vector?"
   ]
  },
  {
   "cell_type": "markdown",
   "metadata": {},
   "source": [
    "__Overview:__\n",
    "- __[Vector](https://en.wikipedia.org/wiki/Vector_(mathematics_and_physics)):__ A vector is simply an array (or collection) of numbers (scalars)\n",
    "- The numbers contained in a vector are referred to as the vector elements and are usually numbered for easier access and reference\n",
    "- Vectors can be expressed in two ways: \n",
    "> 1. __Algebraically__: Vectors can be expressed in their algebraic form as either __Row Vectors__ or __Column Vectors__ (which are both explained below)\n",
    "> 2. __Geometrically__: Vectors can be expressed in their geometric form by denoting the elements of a vector in a space, where each element of the vector provides a coordinate on an axis \n",
    "\n",
    "__Helpful Points:__ \n",
    "1. In Python, vectors are considered one-dimensional arrays of `ndarray` type \n",
    "2. Remember that in NumPy Arrays, all the elements must be of the same type \n",
    "3. There are some \"special\" vector such as:\n",
    "> a. The __Zero Vector__ which is just the number zero repeated $n$ times<br>\n",
    "> b. The __One Vector__ which is just the number one repeated $n$ times<br>\n",
    "> c. The __Unit Vector__ which includes the vectors that have length 1 \n",
    "\n",
    "__Practice:__ Examples of Vectors in Python "
   ]
  },
  {
   "cell_type": "code",
   "execution_count": null,
   "metadata": {},
   "outputs": [],
   "source": [
    "import numpy as np \n",
    "from scipy import linalg \n",
    "import math "
   ]
  },
  {
   "cell_type": "markdown",
   "metadata": {},
   "source": [
    "### Example 1 (Initialize Row Vector):"
   ]
  },
  {
   "cell_type": "code",
   "execution_count": null,
   "metadata": {},
   "outputs": [],
   "source": [
    "my_vector = np.array(np.arange(12))\n",
    "print(\"{} is a row vector with {} elements and each element is a scalar\".format(my_vector, len(my_vector)))"
   ]
  },
  {
   "cell_type": "code",
   "execution_count": null,
   "metadata": {
    "scrolled": false
   },
   "outputs": [],
   "source": [
    "my_vector_1 = np.array([1.0, 2, 3.5])\n",
    "print(\"{} is a row vector with {} elements and each element is a scalar\".format(my_vector_1, len(my_vector_1)))"
   ]
  },
  {
   "cell_type": "markdown",
   "metadata": {},
   "source": [
    "Notice that the NumPy array can only contain one type, but the elements passed in were both type `int` and `float`, therefore the NumPy array had to \"coerce\" all elements into one type, which it intelligently chose as `float`"
   ]
  },
  {
   "cell_type": "markdown",
   "metadata": {},
   "source": [
    "### Example 2 (Initialize Column Vector):"
   ]
  },
  {
   "cell_type": "code",
   "execution_count": null,
   "metadata": {
    "scrolled": true
   },
   "outputs": [],
   "source": [
    "my_vector = np.array(np.arange(12).reshape(12,1))\n",
    "print(\"{} is a column vector with {} elements and each element is a scalar\".format(my_vector, len(my_vector)))"
   ]
  },
  {
   "cell_type": "code",
   "execution_count": null,
   "metadata": {
    "scrolled": true
   },
   "outputs": [],
   "source": [
    "my_vector_1 = np.array([[1.0, 2, 3.5]]).T # this is the transpose (will be covered later)\n",
    "print(\"{} is a column vector with {} elements and each element is a scalar\".format(my_vector_1, len(my_vector_1)))"
   ]
  },
  {
   "cell_type": "markdown",
   "metadata": {},
   "source": [
    "Technically, these are 2-dimensional arrays given NumPy's printing method. However, the intenion here is to illustrate the orientation of the vector and not so much the dimension. The vectors above are both meant to be in one dimension but oritented vertically to denote a column veector. "
   ]
  },
  {
   "cell_type": "markdown",
   "metadata": {},
   "source": [
    "### 1.1.2 Notating Vectors:"
   ]
  },
  {
   "cell_type": "markdown",
   "metadata": {},
   "source": [
    "__Overview:__\n",
    "- Again, it is useful to know how vectors are notated in mathematical notation \n",
    "- Here are some practices used when notating vectors:\n",
    "> 1. The vector name is usually lowercase (so $\\pmb x$ would be a vector and $\\pmb X$ would not be a vector)\n",
    "> 2. The vector name is usually boldfaced ($\\pmb x$)\n",
    "> 3. The elements within a vector are italicized and referenced with subscripts denoting their ordered position\n",
    "\n",
    "- As mentioned above, vectors can be represented in one of two forms: \n",
    "> \\1. __Algebraically__: Algebraically we can represent column and row vectors as such:<br>\n",
    "\n",
    ">> __a. Column Vector:__\n",
    "\n",
    "\\begin{equation}\n",
    "\\pmb x =\n",
    "\\begin{bmatrix}\n",
    "    x_{1}\\\\\n",
    "    x_{2}\\\\\n",
    "    x_{3}\n",
    "\\end{bmatrix}\n",
    "\\end{equation}\n",
    "\n",
    ">> __b. Row Vector:__\n",
    "\n",
    "\\begin{equation}\n",
    "\\pmb x =\n",
    "\\begin{bmatrix}\n",
    "    x_{1} x_{2} x_{3}\n",
    "\\end{bmatrix}\n",
    "\\end{equation}\n",
    "\n",
    "> \\2. __Geometrically__: Geometrically we can represent vectors in multi-dimensional space where each element is a coordinate on an axis:\n",
    "\n",
    ">> __a. Two-Dimensional Space (vector of 2 elements):__\n",
    "![](img33.PNG)\n",
    "\n",
    ">> __b. Three-Dimensional Space (vector of 3 elements):__ \n",
    "![](img34.PNG)\n",
    "\n",
    "__Helpful Points:__\n",
    "1. Vectors are most commonly represented as Column Vectors\n",
    "2. It should be clear now that the first element of a vector ($x_1$) refers to the coordinate on the x axis, the second element of a vector ($x_2$) refers to the coordinate on the y axis, and the third element of a vector, if applicable, ($x_3$) refers to the coordinate on the z axis \n",
    "3. Vectors do not have to begin at the origin as shown in the examples above (this is used commonly for illustration purposes), they can start at any point in the multi-dimensional space\n",
    "\n",
    "__Practice:__ Examples of Notating Vectors in Python "
   ]
  },
  {
   "cell_type": "code",
   "execution_count": null,
   "metadata": {},
   "outputs": [],
   "source": [
    "import matplotlib.pyplot as plt\n",
    "from mpl_toolkits.mplot3d import axes3d\n",
    "%matplotlib inline "
   ]
  },
  {
   "cell_type": "markdown",
   "metadata": {},
   "source": [
    "### Example 1 (2-Dimensional Vector from Origin):"
   ]
  },
  {
   "cell_type": "code",
   "execution_count": null,
   "metadata": {},
   "outputs": [],
   "source": [
    "# draw the vector [1, 2] starting at (0,0) which is known as the \"origin\" \n",
    "soa = np.array([[0, 0, 1, 2]]) # create two points (0,0) and (1,2) \n",
    "X, Y, U, V = zip(*soa)\n",
    "plt.figure()\n",
    "ax = plt.gca()\n",
    "ax.quiver(X, Y, U, V, angles='xy', scale_units='xy', scale=1) # connects the two points with an arrow at the end \n",
    "ax.set_xlim([0, 3])\n",
    "ax.set_ylim([0, 3])\n",
    "plt.title('2-D Vector [1,2]')\n",
    "plt.xlabel('$x_1$', fontsize = 20)\n",
    "plt.ylabel('$x_2$', fontsize = 20)\n",
    "plt.grid()\n",
    "plt.plot([0,2])\n",
    "plt.draw()"
   ]
  },
  {
   "cell_type": "markdown",
   "metadata": {},
   "source": [
    "Notes:\n",
    "\n",
    "1. We can see that the elements of the vector ($x_1$ and $x_2$) represent the coordinates on the x and y axis, respectively. To produce the geometric interpretation of this vector, we move 1 unit to the right on the x axis and 2 units up on the y axis\n",
    "2. The vector is essentially created by connecting two points (0,0) and (1,2). Since we wanted the vector to start at the origin, the \"tail\" of the vector is (0,0)\n",
    "3. We will use the `quiver` method to draw vectors in the MatplotLib Package and its documentation can be found [here](https://matplotlib.org/api/_as_gen/matplotlib.axes.Axes.quiver.html)"
   ]
  },
  {
   "cell_type": "markdown",
   "metadata": {},
   "source": [
    "### Example 2 (2-Dimensional Vector not from Origin):"
   ]
  },
  {
   "cell_type": "code",
   "execution_count": null,
   "metadata": {},
   "outputs": [],
   "source": [
    "# draw the vector [3, 5] starting at (1,1)\n",
    "soa = np.array([[1, 1, 3, 5]]) \n",
    "X, Y, U, V = zip(*soa)\n",
    "plt.figure()\n",
    "ax = plt.gca()\n",
    "ax.quiver(X, Y, U, V, angles='xy', scale_units='xy', scale=1) # connects the two points with an arrow at the end \n",
    "ax.set_xlim([0, 10])\n",
    "ax.set_ylim([0, 10])\n",
    "plt.title('2-D Vector [3,5]')\n",
    "plt.xlabel('$x_1$', fontsize = 20)\n",
    "plt.ylabel('$x_2$', fontsize = 20)\n",
    "plt.grid()"
   ]
  },
  {
   "cell_type": "markdown",
   "metadata": {},
   "source": [
    "Notes:\n",
    "\n",
    "1. We can see that the elements of the vector ($x_1$ and $x_2$) no longer represent the coordinates on the x and y axis since we did not start our vector at the origin. To produce the geometric interpretation of this vector, we must start from (1,1) and then we move 3 units to the right on the x axis and 5 units up on the y axis\n",
    "2. The vector is essentially created by connecting two points (1,1) and (4,6). Since we didn't want the vector to start at the origin, the \"tail\" of the vector is (1,1)"
   ]
  },
  {
   "cell_type": "markdown",
   "metadata": {},
   "source": [
    "### 1.1.3 Real Coordinate Spaces:"
   ]
  },
  {
   "cell_type": "markdown",
   "metadata": {},
   "source": [
    "__Overview:__\n",
    "- __[Real Coordinate Space](https://en.wikipedia.org/wiki/Real_coordinate_space):__ Real coordinate space is simply a space where real numbers collectively determine points (coordinates) according to a coordinate system\n",
    "- Each coordinate space can be classified by its __dimension__ which refers to the number of elements required to define a point in that space (i.e. in the examples above we needed 2 elements ($x_1$ and $x_2$) to define a point, therefore we were working in a two-dimensional coordinate space and since both $x_1 \\in \\mathbb R$ and $x_2 \\in \\mathbb R$, this was actually a two-dimensional _real_ coordinate space) \n",
    "- In general, we define real coordinate spaces by the notation $\\mathbb R^n$ where $n$ is the dimension of the space and $\\mathbb R$ refers to the set of all real numbers \n",
    "\n",
    "__Helpful Points:__\n",
    "1. $\\mathbb R^n$ refers to the set of all $n$-tuples of real numbers (which means if we were to plot all the possible n-tuples, we would completely fill the entire coordinate space) \n",
    "2. For example, in $\\mathbb R^2$, we can plot all the 2-tuples such as $(0,1), (1,1), (3,4), ..., $ and we would eventually fill the entire two-dimensional space   \n",
    "3. It makes sense that an $n$-dimensional vector belongs to $\\mathbb R^n$ space since if each element belongs to $\\mathbb R$, then the dimension of the space that the vector lies in is just the product of $\\mathbb R$, $n$ times. For example, for a vector with 3 elements ($\\pmb v = [v_1, v_2, v_3] \\in [\\mathbb R, \\mathbb R, \\mathbb R] = \\mathbb R^3$) \n",
    "\n",
    "__Practice:__ Examples of Real Coordinate Spaces in Python "
   ]
  },
  {
   "cell_type": "markdown",
   "metadata": {},
   "source": [
    "### Example 1 (2-Dimensional Real Coordinate Space - ScatterPlot):"
   ]
  },
  {
   "cell_type": "code",
   "execution_count": null,
   "metadata": {},
   "outputs": [],
   "source": [
    "_2_tuple_1 = [-1, 2]\n",
    "_2_tuple_2 = [2, -1] # different than above since order matters \n",
    "_2_tuple_3 = [3, 2]"
   ]
  },
  {
   "cell_type": "code",
   "execution_count": null,
   "metadata": {
    "scrolled": true
   },
   "outputs": [],
   "source": [
    "x, y = zip(*[_2_tuple_1, _2_tuple_2, _2_tuple_3])\n",
    "plt.scatter(x, y);"
   ]
  },
  {
   "cell_type": "markdown",
   "metadata": {},
   "source": [
    "We can continue plotting all the $2$-tuples in this 2-dimensional space "
   ]
  },
  {
   "cell_type": "markdown",
   "metadata": {},
   "source": [
    "### Example 2 (2-Dimensional Real Coordinate Space - Vectors):"
   ]
  },
  {
   "cell_type": "code",
   "execution_count": null,
   "metadata": {
    "scrolled": true
   },
   "outputs": [],
   "source": [
    "soa = np.array([[0, 0, -1, 2], [0, 0, 2, -1], [0, 0, 3, 2]])\n",
    "X, Y, U, V = zip(*soa)\n",
    "plt.figure()\n",
    "ax = plt.gca()\n",
    "ax.quiver(X, Y, U, V, angles='xy', scale_units='xy', scale=1)\n",
    "ax.set_xlim([-3, 3])\n",
    "ax.set_ylim([-3, 3])\n",
    "plt.title('Three 2-D Vectors ([-1,2], [2,-1], and [3,2]) in R^2')\n",
    "plt.xlabel('$x_1$', fontsize = 20)\n",
    "plt.ylabel('$x_2$', fontsize = 20)\n",
    "plt.grid()"
   ]
  },
  {
   "cell_type": "code",
   "execution_count": null,
   "metadata": {},
   "outputs": [],
   "source": []
  }
 ],
 "metadata": {
  "kernelspec": {
   "display_name": "Python 3",
   "language": "python",
   "name": "python3"
  },
  "language_info": {
   "codemirror_mode": {
    "name": "ipython",
    "version": 3
   },
   "file_extension": ".py",
   "mimetype": "text/x-python",
   "name": "python",
   "nbconvert_exporter": "python",
   "pygments_lexer": "ipython3",
   "version": "3.7.3"
  },
  "toc": {
   "base_numbering": 1,
   "nav_menu": {},
   "number_sections": false,
   "sideBar": true,
   "skip_h1_title": false,
   "title_cell": "Table of Contents",
   "title_sidebar": "Contents",
   "toc_cell": false,
   "toc_position": {},
   "toc_section_display": true,
   "toc_window_display": true
  }
 },
 "nbformat": 4,
 "nbformat_minor": 2
}
