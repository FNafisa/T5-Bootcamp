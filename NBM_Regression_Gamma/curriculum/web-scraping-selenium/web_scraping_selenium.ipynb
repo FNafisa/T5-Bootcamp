{
 "cells": [
  {
   "cell_type": "markdown",
   "metadata": {},
   "source": [
    "# Web Scraping: Selenium\n",
    "_Automate your browser._ <br>\n",
    "_Collect data from dynamically generated web pages or those requiring user interaction._\n",
    "\n",
    "### Docs\n",
    "\n",
    "- [Selenium homepage](https://www.seleniumhq.org/) \n",
    "- [Selenium documentation](https://selenium-python.readthedocs.io/) - unofficial, but helpful\n",
    "\n",
    "### Installation\n",
    "\n",
    "With conda:\n",
    "- `conda install -c conda-forge selenium`\n",
    "\n",
    "With pip:\n",
    "- `pip install -U selenium`\n",
    "\n",
    "#### ChromeDriver\n",
    "\n",
    "You will also need to install a web driver to use Selenium.  ChromeDriver is recommended but others are also available.\n",
    "\n",
    "1. Check your browser's version _(Chrome > About Google Chrome)_\n",
    "![Browser Version](images/browser_version.png) \n",
    "<br>\n",
    "2. Navigate to the [ChromeDriver downloads page](https://sites.google.com/a/chromium.org/chromedriver/downloads).\n",
    "<br><br>\n",
    "3. Download appropriately based on your browser's version and your OS.\n",
    "![Download ChromeDriver zip file](images/chromedriver_options.png)\n",
    "\n",
    "4. Unzip the driver.\n",
    "<br><br>\n",
    "5. Move to Applications folder (or wherever your Chrome application is)."
   ]
  },
  {
   "cell_type": "code",
   "execution_count": null,
   "metadata": {},
   "outputs": [],
   "source": [
    "from bs4 import BeautifulSoup\n",
    "import requests\n",
    "import time, os"
   ]
  },
  {
   "cell_type": "code",
   "execution_count": null,
   "metadata": {},
   "outputs": [],
   "source": [
    "from selenium import webdriver\n",
    "from selenium.webdriver.common.keys import Keys\n",
    "\n",
    "chromedriver = \"/Applications/chromedriver\" # path to the chromedriver executable\n",
    "os.environ[\"webdriver.chrome.driver\"] = chromedriver"
   ]
  },
  {
   "cell_type": "markdown",
   "metadata": {},
   "source": [
    "## Example 1 - YouTube\n",
    "\n",
    "### Dynamic Pages\n",
    "\n",
    "Some pages serve their content dynamically, which means they could look different each time they are loaded into the browser.  HTML that you see by inspecting elements in your browser might be missing from `requests` and `BeautifulSoup` because it is generated at access time."
   ]
  },
  {
   "cell_type": "code",
   "execution_count": null,
   "metadata": {},
   "outputs": [],
   "source": [
    "query = \"data science\"\n",
    "youtube_search = \"https://www.youtube.com/results?search_query=\"\n",
    "youtube_query = youtube_search + query.replace(' ', '+')"
   ]
  },
  {
   "cell_type": "code",
   "execution_count": null,
   "metadata": {},
   "outputs": [],
   "source": [
    "page = requests.get(youtube_query).text\n",
    "soup = BeautifulSoup(page, 'html5lib')"
   ]
  },
  {
   "cell_type": "code",
   "execution_count": null,
   "metadata": {},
   "outputs": [],
   "source": [
    "soup.find('div', id='contents')"
   ]
  },
  {
   "cell_type": "markdown",
   "metadata": {},
   "source": [
    "Uh oh.  The video links should be under the contents div, but it's missing from our request.\n",
    "\n",
    "> **QUESTION**: Why do you think this happened?"
   ]
  },
  {
   "cell_type": "markdown",
   "metadata": {},
   "source": [
    "One option is to first load the page with Selenium THEN parse the page's HTML with BeautifulSoup.\n",
    "\n",
    "First we launch the YouTube search page through our ChromeDrive.  A new browser should pop up.  **To continue using Selenium, keep this window open!**"
   ]
  },
  {
   "cell_type": "code",
   "execution_count": null,
   "metadata": {},
   "outputs": [],
   "source": [
    "driver = webdriver.Chrome(chromedriver)\n",
    "driver.get(youtube_query)"
   ]
  },
  {
   "cell_type": "markdown",
   "metadata": {},
   "source": [
    "We can access the page's HTML through the driver:"
   ]
  },
  {
   "cell_type": "code",
   "execution_count": null,
   "metadata": {},
   "outputs": [],
   "source": [
    "driver.page_source[:1000]"
   ]
  },
  {
   "cell_type": "markdown",
   "metadata": {},
   "source": [
    "Now we parse this with `BeautifulSoup` and the video information appears!"
   ]
  },
  {
   "cell_type": "code",
   "execution_count": null,
   "metadata": {},
   "outputs": [],
   "source": [
    "soup = BeautifulSoup(driver.page_source, 'html.parser')"
   ]
  },
  {
   "cell_type": "code",
   "execution_count": null,
   "metadata": {},
   "outputs": [],
   "source": [
    "soup.find('div', id='contents')"
   ]
  },
  {
   "cell_type": "code",
   "execution_count": null,
   "metadata": {},
   "outputs": [],
   "source": [
    "contents_div = soup.find('div', id='contents')\n",
    "\n",
    "for title in contents_div.find_all('a', id='video-title'):\n",
    "    print(title.text.strip())"
   ]
  },
  {
   "cell_type": "markdown",
   "metadata": {},
   "source": [
    "> **QUESTION**: We only got about 20 video titles -- surely there are more videos about data science.  What do you think is happening?"
   ]
  },
  {
   "cell_type": "markdown",
   "metadata": {},
   "source": [
    "### Interacting with Pages\n",
    "\n",
    "We can also interact with pages using Selenium.  For example, we can \n",
    "- click\n",
    "- type in input cells\n",
    "- scroll\n",
    "- drag and drop, etc.\n",
    "\n",
    "If we want more data science video titles, we need to scroll down to the bottom of the screen for more videos to populate."
   ]
  },
  {
   "cell_type": "code",
   "execution_count": null,
   "metadata": {},
   "outputs": [],
   "source": [
    "for i in range(5):\n",
    "    #Scroll\n",
    "    driver.execute_script(\n",
    "        \"window.scrollTo(0, document.documentElement.scrollHeight);\" #Alternatively, document.body.scrollHeight\n",
    "    )\n",
    "    \n",
    "    #Wait for page to load\n",
    "    time.sleep(1)"
   ]
  },
  {
   "cell_type": "code",
   "execution_count": null,
   "metadata": {},
   "outputs": [],
   "source": [
    "soup = BeautifulSoup(driver.page_source, 'html.parser')"
   ]
  },
  {
   "cell_type": "code",
   "execution_count": null,
   "metadata": {},
   "outputs": [],
   "source": [
    "contents_div = soup.find('div', id='contents')\n",
    "\n",
    "len(contents_div.find_all('a', id='video-title'))"
   ]
  },
  {
   "cell_type": "markdown",
   "metadata": {},
   "source": [
    "Awesome!  Now we have several more videos to analyze and we could continue scrolling if we wanted even more.\n",
    "\n",
    "What if we want to perform a new search for machine learning?"
   ]
  },
  {
   "cell_type": "code",
   "execution_count": null,
   "metadata": {},
   "outputs": [],
   "source": [
    "search_box = driver.find_element_by_xpath(\"//input[@id='search']\")\n",
    "\n",
    "#clear the current search\n",
    "search_box.clear()\n",
    "\n",
    "#input new search\n",
    "search_box.send_keys(\"machine learning\")\n",
    "\n",
    "#hit enter\n",
    "search_box.send_keys(Keys.RETURN)  \n",
    "\n",
    "time.sleep(1)"
   ]
  },
  {
   "cell_type": "markdown",
   "metadata": {},
   "source": [
    "And can we filter to short videos (< 4 minutes) only?"
   ]
  },
  {
   "cell_type": "code",
   "execution_count": null,
   "metadata": {},
   "outputs": [],
   "source": [
    "filter_button = driver.find_element_by_xpath(\n",
    "    '//a[contains(@class, \"ytd-toggle-button\")]'\n",
    ")\n",
    "filter_button.click()"
   ]
  },
  {
   "cell_type": "code",
   "execution_count": null,
   "metadata": {},
   "outputs": [],
   "source": [
    "short_link = driver.find_element_by_xpath(\n",
    "    '//div[contains(@title, \"Search for Short\")]'\n",
    ")\n",
    "short_link.click()"
   ]
  },
  {
   "cell_type": "markdown",
   "metadata": {},
   "source": [
    "Now we can either parse the page source with Beautiful Soup like before or pull text directly.  \n",
    "\n",
    "For example, the title of the first short ML video (that isn't an ad!) can be found with:"
   ]
  },
  {
   "cell_type": "code",
   "execution_count": null,
   "metadata": {},
   "outputs": [],
   "source": [
    "first_title = driver.find_element_by_xpath(\"//a[@id='video-title']\")\n",
    "first_title.text"
   ]
  },
  {
   "cell_type": "code",
   "execution_count": null,
   "metadata": {},
   "outputs": [],
   "source": [
    "first_author = driver.find_element_by_xpath(\n",
    "    \"//ytd-video-renderer//ytd-channel-name//a\"\n",
    ")\n",
    "first_author.text"
   ]
  },
  {
   "cell_type": "markdown",
   "metadata": {},
   "source": [
    "#### Notes\n",
    "\n",
    "- Check [here](https://www.w3schools.com/xml/xpath_syntax.asp) for additonal help writing xpath selectors.\n",
    "\n",
    "- To select multiple elements, just switch to `driver.find_elements_by_xpath(...)`, which will return a list of matching elements.\n",
    "\n",
    "- You can also access elements by id, name, etc.  Check [the docs](https://selenium-python.readthedocs.io/locating-elements.html) for more options."
   ]
  },
  {
   "cell_type": "markdown",
   "metadata": {},
   "source": [
    "Finally, when you are finished with the driver, be sure to close it."
   ]
  },
  {
   "cell_type": "code",
   "execution_count": null,
   "metadata": {},
   "outputs": [],
   "source": [
    "driver.close()"
   ]
  },
  {
   "cell_type": "markdown",
   "metadata": {},
   "source": [
    "## Example 2 - Open Table  _(Optional)_\n",
    "\n",
    "Let's try one more example: gathering information from Open Table about restaurants with available reservation slots."
   ]
  },
  {
   "cell_type": "code",
   "execution_count": null,
   "metadata": {},
   "outputs": [],
   "source": [
    "driver = webdriver.Chrome(chromedriver)\n",
    "driver.get('http://www.opentable.com/')\n",
    "time.sleep(1)  #pause to be sure page has loaded"
   ]
  },
  {
   "cell_type": "markdown",
   "metadata": {},
   "source": [
    "Inspecting this page, we see the **name** of the drop down for picking the number of people is `Select_1`. Let's set the reservation for 4 people:"
   ]
  },
  {
   "cell_type": "code",
   "execution_count": null,
   "metadata": {},
   "outputs": [],
   "source": [
    "people_dropdown = driver.find_element_by_xpath('//select[@aria-label=\"Party size selector\"]')\n",
    "people_dropdown.send_keys(\"4 people\")\n",
    "time.sleep(1)"
   ]
  },
  {
   "cell_type": "markdown",
   "metadata": {},
   "source": [
    "Now select the reservation date: 3 days from now."
   ]
  },
  {
   "cell_type": "code",
   "execution_count": null,
   "metadata": {},
   "outputs": [],
   "source": [
    "from datetime import datetime, timedelta"
   ]
  },
  {
   "cell_type": "code",
   "execution_count": null,
   "metadata": {},
   "outputs": [],
   "source": [
    "today = datetime.today()\n",
    "today_truncated = datetime(today.year, today.month, today.day)\n",
    "res_date = (today + timedelta(days=3)).strftime('%a, %b %d, %Y')\n",
    "res_date"
   ]
  },
  {
   "cell_type": "code",
   "execution_count": null,
   "metadata": {},
   "outputs": [],
   "source": [
    "#Expand the calendar\n",
    "date_picker = driver.find_element_by_xpath('//div[@aria-label=\"Date selector\"]')\n",
    "date_picker.click()\n",
    "time.sleep(1)"
   ]
  },
  {
   "cell_type": "code",
   "execution_count": null,
   "metadata": {},
   "outputs": [],
   "source": [
    "#Select the date three days from now\n",
    "date_element = driver.find_element_by_xpath(f'//div[@aria-label=\"{res_date}\"]')\n",
    "date_element.click()\n",
    "time.sleep(1)"
   ]
  },
  {
   "cell_type": "markdown",
   "metadata": {},
   "source": [
    "Set our reservation time for 8 PM."
   ]
  },
  {
   "cell_type": "code",
   "execution_count": null,
   "metadata": {},
   "outputs": [],
   "source": [
    "time_dropdown = driver.find_element_by_xpath('//select[@aria-label=\"Time selector\"]')\n",
    "time_dropdown.send_keys(\"8:00 PM\")\n",
    "time.sleep(1)"
   ]
  },
  {
   "cell_type": "markdown",
   "metadata": {},
   "source": [
    "And search!"
   ]
  },
  {
   "cell_type": "code",
   "execution_count": null,
   "metadata": {},
   "outputs": [],
   "source": [
    "search_button = driver.find_element_by_xpath(\"//*[contains(text(), 'Let’s go')]\")\n",
    "search_button.click()\n",
    "time.sleep(1)"
   ]
  },
  {
   "cell_type": "markdown",
   "metadata": {},
   "source": [
    "On this new page we find a long list of restaurants with available reservations for 4 people at roughly our desired day/time.  At this point we could grab the HTML (`driver.page_source`) and parse with BeautifulSoup.  "
   ]
  },
  {
   "cell_type": "code",
   "execution_count": null,
   "metadata": {},
   "outputs": [],
   "source": [
    "soup = BeautifulSoup(driver.page_source)"
   ]
  },
  {
   "cell_type": "code",
   "execution_count": null,
   "metadata": {},
   "outputs": [],
   "source": [
    "for rest in soup.find_all('div', class_='rest-row-header')[:20]:\n",
    "    print(rest.find('a').text)"
   ]
  },
  {
   "cell_type": "markdown",
   "metadata": {},
   "source": [
    "Or we could click into an individual restaurant to learn more."
   ]
  },
  {
   "cell_type": "code",
   "execution_count": null,
   "metadata": {},
   "outputs": [],
   "source": [
    "first_rest = driver.find_element_by_xpath('//div[@class=\"rest-row-header\"]//a')\n",
    "first_rest.click()"
   ]
  },
  {
   "cell_type": "code",
   "execution_count": null,
   "metadata": {},
   "outputs": [],
   "source": [
    "rest_soup = BeautifulSoup(driver.page_source)\n",
    "\n",
    "print(rest_soup.title.text)"
   ]
  },
  {
   "cell_type": "markdown",
   "metadata": {},
   "source": [
    "> **QUESTION**:  Why doesn't the title of this page match up with this individual restaurant?"
   ]
  },
  {
   "cell_type": "code",
   "execution_count": null,
   "metadata": {},
   "outputs": [],
   "source": [
    "#Switch windows!\n",
    "driver.switch_to.window(driver.window_handles[1])"
   ]
  },
  {
   "cell_type": "code",
   "execution_count": null,
   "metadata": {},
   "outputs": [],
   "source": [
    "rest_soup = BeautifulSoup(driver.page_source)\n",
    "\n",
    "print(rest_soup.title.text)"
   ]
  },
  {
   "cell_type": "markdown",
   "metadata": {},
   "source": [
    "As usual when working with Selenium, make sure to close your browser.  Since we have two windows up, we use `driver.quit()` to close the entire browser session."
   ]
  },
  {
   "cell_type": "code",
   "execution_count": null,
   "metadata": {},
   "outputs": [],
   "source": [
    "driver.quit()"
   ]
  }
 ],
 "metadata": {
  "kernelspec": {
   "display_name": "Python [conda env:metis_2] *",
   "language": "python",
   "name": "conda-env-metis_2-py"
  },
  "language_info": {
   "codemirror_mode": {
    "name": "ipython",
    "version": 3
   },
   "file_extension": ".py",
   "mimetype": "text/x-python",
   "name": "python",
   "nbconvert_exporter": "python",
   "pygments_lexer": "ipython3",
   "version": "3.8.5"
  }
 },
 "nbformat": 4,
 "nbformat_minor": 2
}
