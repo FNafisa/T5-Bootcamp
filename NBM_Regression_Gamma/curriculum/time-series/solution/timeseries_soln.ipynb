{
 "cells": [
  {
   "cell_type": "markdown",
   "metadata": {},
   "source": [
    "# Datetime"
   ]
  },
  {
   "cell_type": "code",
   "execution_count": null,
   "metadata": {
    "ExecuteTime": {
     "end_time": "2019-04-22T19:38:49.431677Z",
     "start_time": "2019-04-22T19:38:49.426717Z"
    }
   },
   "outputs": [],
   "source": [
    "from datetime import datetime, timedelta\n",
    "\n",
    "# Time this lesson plan was written\n",
    "lesson_date = datetime(2016, 4, 5, 23, 31, 1, 844089)"
   ]
  },
  {
   "cell_type": "markdown",
   "metadata": {},
   "source": [
    "Exercise 1: Write a function to print the day of the week the lesson plan was written."
   ]
  },
  {
   "cell_type": "code",
   "execution_count": null,
   "metadata": {
    "ExecuteTime": {
     "end_time": "2019-04-22T19:38:50.773188Z",
     "start_time": "2019-04-22T19:38:50.760794Z"
    }
   },
   "outputs": [],
   "source": [
    "def day_of_week(date):\n",
    "    days_of_week = {0: 'monday', 1: 'tuesday', 2: 'wednesday', 3: 'thursday', 4: 'friday', 5: 'saturday', 6: 'sunday'}\n",
    "    return days_of_week[date.weekday()]\n",
    "\n",
    "day_of_week(lesson_date)"
   ]
  },
  {
   "cell_type": "markdown",
   "metadata": {},
   "source": [
    "Exercise 2: How do I get an object with the current time?"
   ]
  },
  {
   "cell_type": "code",
   "execution_count": null,
   "metadata": {
    "ExecuteTime": {
     "end_time": "2019-04-22T19:38:51.688232Z",
     "start_time": "2019-04-22T19:38:51.679138Z"
    }
   },
   "outputs": [],
   "source": [
    "datetime.now().strftime(\"%A\")"
   ]
  },
  {
   "cell_type": "code",
   "execution_count": null,
   "metadata": {
    "ExecuteTime": {
     "end_time": "2019-04-22T19:38:52.172209Z",
     "start_time": "2019-04-22T19:38:52.161376Z"
    }
   },
   "outputs": [],
   "source": [
    "now = datetime.now()\n",
    "print(now.strftime(\"%A\"))"
   ]
  },
  {
   "cell_type": "markdown",
   "metadata": {},
   "source": [
    "Exercise 3: What is the Gregorian ordinal representation of the date? Using this value, how many days ago was this lesson plan written?"
   ]
  },
  {
   "cell_type": "code",
   "execution_count": null,
   "metadata": {
    "ExecuteTime": {
     "end_time": "2019-04-22T19:38:53.063860Z",
     "start_time": "2019-04-22T19:38:53.057465Z"
    }
   },
   "outputs": [],
   "source": [
    "datetime.now()"
   ]
  },
  {
   "cell_type": "code",
   "execution_count": null,
   "metadata": {
    "ExecuteTime": {
     "end_time": "2019-04-22T19:38:53.483601Z",
     "start_time": "2019-04-22T19:38:53.475381Z"
    }
   },
   "outputs": [],
   "source": [
    "datetime.now().toordinal() - lesson_date.toordinal()"
   ]
  },
  {
   "cell_type": "markdown",
   "metadata": {},
   "source": [
    "Exercise 4: Try using `timedelta` to shift our lesson date object by the following intervals:\n",
    "- 1 hour ahead\n",
    "- 3 days ago\n",
    "- 1 year, 3 days, 2 seconds ahead"
   ]
  },
  {
   "cell_type": "code",
   "execution_count": null,
   "metadata": {
    "ExecuteTime": {
     "end_time": "2019-04-22T19:38:55.314141Z",
     "start_time": "2019-04-22T19:38:55.306160Z"
    }
   },
   "outputs": [],
   "source": [
    "lesson_date + timedelta(hours=1)\n",
    "\n",
    "lesson_date - timedelta(days=3)\n",
    "# OR\n",
    "lesson_date + timedelta(days=-3)\n",
    "\n",
    "lesson_date + timedelta(days=368, seconds=2)"
   ]
  },
  {
   "cell_type": "markdown",
   "metadata": {},
   "source": [
    "# Timeseries Autocorrelation"
   ]
  },
  {
   "cell_type": "code",
   "execution_count": null,
   "metadata": {
    "ExecuteTime": {
     "end_time": "2019-04-22T19:52:46.187385Z",
     "start_time": "2019-04-22T19:52:32.143019Z"
    }
   },
   "outputs": [],
   "source": [
    "# import packages and data\n",
    "import pandas as pd, numpy as np\n",
    "import seaborn as sns\n",
    "import matplotlib.pyplot as plt\n",
    "%matplotlib inline\n",
    "\n",
    "data = pd.read_csv('https://s3.amazonaws.com/gamma-datasets/P2/rossmann.csv', skipinitialspace=True, low_memory=False)"
   ]
  },
  {
   "cell_type": "code",
   "execution_count": null,
   "metadata": {
    "ExecuteTime": {
     "end_time": "2019-04-22T19:53:39.180056Z",
     "start_time": "2019-04-22T19:53:38.167816Z"
    }
   },
   "outputs": [],
   "source": [
    "# we are most interested in `Date` column that contains date of sales per store; convert to `DateTime` and set as index\n",
    "# pull year and month as features\n",
    "data['Date'] = pd.to_datetime(data['Date'])\n",
    "data.set_index('Date', inplace=True)\n",
    "\n",
    "data['Year'] = data.index.year\n",
    "data['Month'] = data.index.month\n",
    "\n",
    "# sort dates to ascending and view\n",
    "data.sort_index(inplace=True)\n",
    "\n",
    "# subset data to open dates\n",
    "df = data[data.Open==1]\n",
    "\n",
    "# df of store 1 open day sales\n",
    "store1 = df[df.Store == 1]"
   ]
  },
  {
   "cell_type": "code",
   "execution_count": null,
   "metadata": {
    "ExecuteTime": {
     "end_time": "2019-04-22T19:53:41.419181Z",
     "start_time": "2019-04-22T19:53:40.495831Z"
    }
   },
   "outputs": [],
   "source": [
    "# plot the distribution of sales by month and compare the effect of promotions\n",
    "sns.catplot(\n",
    "    col='Open',\n",
    "    hue='Promo',\n",
    "    x='Month',\n",
    "    y='Sales',\n",
    "    data=store1, \n",
    "    kind='box');"
   ]
  },
  {
   "cell_type": "code",
   "execution_count": null,
   "metadata": {
    "ExecuteTime": {
     "end_time": "2019-04-22T19:53:44.328893Z",
     "start_time": "2019-04-22T19:53:44.213406Z"
    }
   },
   "outputs": [],
   "source": [
    "# Are sales more correlated with the prior day, day of week, last month, or last year?\n",
    "\n",
    "# remake \"daily_average_sales\" but include Open data\n",
    "average_daily_sales = df[['Sales', 'Open']].resample('D').mean()\n",
    "\n",
    "print('Correlation with last day: {}'.format(average_daily_sales['Sales'].autocorr(lag=1)))\n",
    "print('Correlation with last week: {}'.format(average_daily_sales['Sales'].autocorr(lag=7)))\n",
    "print('Correlation with last month: {}'.format(average_daily_sales['Sales'].autocorr(lag=30)))\n",
    "print('Correlation with last year: {}'.format(average_daily_sales['Sales'].autocorr(lag=365)))"
   ]
  },
  {
   "cell_type": "code",
   "execution_count": null,
   "metadata": {
    "ExecuteTime": {
     "end_time": "2019-04-22T19:53:45.837377Z",
     "start_time": "2019-04-22T19:53:45.392108Z"
    }
   },
   "outputs": [],
   "source": [
    "# plot the 15 day rolling mean of customers in the stores\n",
    "average_daily_sales.Sales.rolling(window=15).mean().plot(figsize=(18,6));"
   ]
  },
  {
   "cell_type": "code",
   "execution_count": null,
   "metadata": {
    "ExecuteTime": {
     "end_time": "2019-04-22T19:53:46.434137Z",
     "start_time": "2019-04-22T19:53:46.365280Z"
    }
   },
   "outputs": [],
   "source": [
    "# identify the date with largest drop in average sales from previous cycles: daily, weekly, etc.\n",
    "total_daily = df[['Sales', 'Open']].resample('D').sum()\n",
    "total_daily['Diff'] = total_daily.Sales.diff(periods=1)\n",
    "\n",
    "total_daily.sort_values(by='Diff').head()"
   ]
  },
  {
   "cell_type": "code",
   "execution_count": null,
   "metadata": {
    "ExecuteTime": {
     "end_time": "2019-04-22T19:53:47.260661Z",
     "start_time": "2019-04-22T19:53:47.213157Z"
    }
   },
   "outputs": [],
   "source": [
    "# compute the total sales up until Dec. 2014\n",
    "total_daily_sales = df.Sales.resample('D').sum()\n",
    "total_daily_sales.expanding().sum()['2014-12'].head()"
   ]
  },
  {
   "cell_type": "code",
   "execution_count": null,
   "metadata": {
    "ExecuteTime": {
     "end_time": "2019-04-22T19:53:47.826102Z",
     "start_time": "2019-04-22T19:53:47.817607Z"
    }
   },
   "outputs": [],
   "source": [
    "# When were the largest differences between 15-day moving/rolling averages?\n",
    "x = total_daily_sales.rolling(window=15).mean().diff(1)"
   ]
  },
  {
   "cell_type": "code",
   "execution_count": null,
   "metadata": {
    "ExecuteTime": {
     "end_time": "2019-04-22T19:53:48.791368Z",
     "start_time": "2019-04-22T19:53:48.779057Z"
    }
   },
   "outputs": [],
   "source": [
    "# sort values\n",
    "x.sort_values(ascending=True).head(10)\n",
    "\n",
    "# Unsurprisingly, they occur at the beginning of every year after the holiday season"
   ]
  },
  {
   "cell_type": "code",
   "execution_count": null,
   "metadata": {},
   "outputs": [],
   "source": []
  }
 ],
 "metadata": {
  "kernelspec": {
   "display_name": "metis",
   "language": "python",
   "name": "metis"
  },
  "language_info": {
   "codemirror_mode": {
    "name": "ipython",
    "version": 3
   },
   "file_extension": ".py",
   "mimetype": "text/x-python",
   "name": "python",
   "nbconvert_exporter": "python",
   "pygments_lexer": "ipython3",
   "version": "3.6.8"
  }
 },
 "nbformat": 4,
 "nbformat_minor": 2
}
