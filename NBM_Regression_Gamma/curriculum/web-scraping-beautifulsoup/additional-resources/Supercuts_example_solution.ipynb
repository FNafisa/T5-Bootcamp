{
 "cells": [
  {
   "cell_type": "markdown",
   "metadata": {},
   "source": [
    "# Scraping from SuperCuts\n",
    "\n",
    "Imagine you work for Great Clips. Congratulations. Now imagine your boss wants you to find the address for every Super Cuts currently in business, so you can see where they exist, for competition purposes. How could you do this with Beautiful Soup?"
   ]
  },
  {
   "cell_type": "code",
   "execution_count": null,
   "metadata": {},
   "outputs": [],
   "source": [
    "import requests\n",
    "from bs4 import BeautifulSoup\n",
    "\n",
    "source_code = requests.get('https://www.supercuts.com/salon-directory.html')\n",
    "\n",
    "soup = BeautifulSoup(source_code.text, 'html5lib')\n",
    "\n",
    "### Strip the links for each state\n",
    "\n",
    "links = []\n",
    "\n",
    "list_of_states = soup.find('ul', {'class': 'listOfStates'})\n",
    "\n",
    "for anchor in list_of_states.findAll('a', {'class': 'btn-primary'}):\n",
    "    links.append(anchor.attrs['href'])\n",
    "    message = f\"{anchor.text.strip():<15s} => {anchor.get('href')}\"\n",
    "    print(message)\n",
    "    \n",
    "### Get the addresses from each state's html file\n",
    "addr = []\n",
    "for link in links:    \n",
    "    source_code2 = requests.get(link)\n",
    "    soup2 = BeautifulSoup(source_code2.text, 'html5lib')\n",
    "    for row in soup2.find_all('td'):\n",
    "        addr.append(row.text)"
   ]
  },
  {
   "cell_type": "code",
   "execution_count": null,
   "metadata": {},
   "outputs": [],
   "source": [
    "print(len(addr))\n",
    "for add in addr[:50]:\n",
    "    print(add)\n",
    "    "
   ]
  },
  {
   "cell_type": "code",
   "execution_count": null,
   "metadata": {},
   "outputs": [],
   "source": [
    "# pretty print\n",
    "\n",
    "import pandas as pd\n",
    "print('Number of stores = ', len(addr))\n",
    "pd.DataFrame(addr, columns=[\"Addresses\"]).head(50)\n"
   ]
  },
  {
   "cell_type": "code",
   "execution_count": null,
   "metadata": {},
   "outputs": [],
   "source": []
  }
 ],
 "metadata": {
  "kernelspec": {
   "display_name": "metis",
   "language": "python",
   "name": "metis"
  },
  "language_info": {
   "codemirror_mode": {
    "name": "ipython",
    "version": 3
   },
   "file_extension": ".py",
   "mimetype": "text/x-python",
   "name": "python",
   "nbconvert_exporter": "python",
   "pygments_lexer": "ipython3",
   "version": "3.6.5"
  }
 },
 "nbformat": 4,
 "nbformat_minor": 2
}
