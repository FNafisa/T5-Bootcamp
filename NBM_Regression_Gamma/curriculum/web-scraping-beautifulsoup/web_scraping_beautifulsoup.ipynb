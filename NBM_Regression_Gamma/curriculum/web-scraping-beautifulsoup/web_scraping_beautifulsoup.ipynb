{
 "cells": [
  {
   "cell_type": "markdown",
   "metadata": {},
   "source": [
    "# Web Scraping: BeautifulSoup\n",
    "_Collecting data from the internet and parsing it into meaningful (often tabular) form._\n",
    "\n",
    "### Docs\n",
    "\n",
    "- [BeautifulSoup documentation](https://www.crummy.com/software/BeautifulSoup/bs4/doc/)\n",
    "\n",
    "### Installation\n",
    "\n",
    "If not using the Metis kernel, please install the following libraries\n",
    "\n",
    "With conda:\n",
    "- `conda install beautifulsoup4 requests lxml html5lib`\n",
    "\n",
    "With pip:\n",
    "- `pip install beautifulsoup4 requests lxml html5lib`\n",
    "\n",
    "If you have installed everything correctly, you should now be able to import these libraries. (You may need to shutdown and restart this notebook for BeautifulSoup to recognize the `lxml` and `html5lib` parsers.)"
   ]
  },
  {
   "cell_type": "code",
   "execution_count": 1,
   "metadata": {},
   "outputs": [],
   "source": [
    "from bs4 import BeautifulSoup\n",
    "import requests"
   ]
  },
  {
   "cell_type": "markdown",
   "metadata": {},
   "source": [
    "## What is BeautifulSoup?\n",
    "\n",
    "- Python library\n",
    "- **HTML parser**:  Interprets structure of HTML file \n",
    "- Does not actually get pages from the web.  Use `requests` library for that.\n",
    "\n",
    "<br>\n",
    "<img src=\"images/web_scraping_pipeline.png\" alt=\"Web Scraping Pipeline\" style=\"width: 650px;\"/>"
   ]
  },
  {
   "cell_type": "markdown",
   "metadata": {},
   "source": [
    "## Intro to HTML\n",
    "\n",
    "_Basic language used to create a webpage._\n",
    "\n",
    "- Tells browser what, where, and how to display text, images, and other media\n",
    "- Structured, hierarchical nature \n",
    "- Comprised of \"elements\" with properties"
   ]
  },
  {
   "cell_type": "markdown",
   "metadata": {},
   "source": [
    "Example HTML element\n",
    "```html\n",
    "<tag-name attr1=\"value of attr1\" attr2=\"value of attr2\" .... attrN=\"value of attrN\">\n",
    "    Inner text of the tag\n",
    "</tag-name>\n",
    "```"
   ]
  },
  {
   "cell_type": "markdown",
   "metadata": {},
   "source": [
    "### Tags,  `<tag-name>`\n",
    "\n",
    "- Elements are labeled with tags\n",
    "- Tells us what type of \"thing\" to render\n",
    "\n",
    "    \n",
    "| Tag | Use\n",
    "|---          | ---|\n",
    "|`h1`, `h2`, ..., `h6`| headers|\n",
    "|`p`| paragraphs |\n",
    "|`a`| anchors (e.g. links) |\n",
    "|`div`| divisions (or sections) of a page |\n",
    "|`img`| images |\n",
    "|`li` | list items |\n"
   ]
  },
  {
   "cell_type": "markdown",
   "metadata": {},
   "source": [
    "### Attributes, `attr1`\n",
    "\n",
    "- Special properties we want this tag to have\n",
    "- Typically appear as `attribute name = \"attribute value\"` pair\n",
    "\n",
    "| Attribute | Use | Notes\n",
    "|---   | ---       | ---|\n",
    "|`href` | hyperlink reference | Clicking this element directs user to value url|\n",
    "|`class`| style class | Many elements may have same class |\n",
    "|`id`| unique identifier | Only one element per id! |\n",
    "|`style`| extra element styling | Bad practice, use css instead |"
   ]
  },
  {
   "cell_type": "markdown",
   "metadata": {},
   "source": [
    "### Inner HTML Text\n",
    "\n",
    "- Text that appears between tags\n",
    "- Often the information we want to extract during web scraping"
   ]
  },
  {
   "cell_type": "markdown",
   "metadata": {},
   "source": [
    "### HTML Structure\n",
    "\n",
    "A full HTML document has a structure similar to this:\n",
    "\n",
    "```html\n",
    "<html> \n",
    "  <head> </head>\n",
    "  <body>\n",
    "     <h1>This is a header</h1>\n",
    "     <p style=\"color:red;\" id=\"learning_paragraph\">You are learning HTML</p>\n",
    "     <a href=\"www.google.com\">A link to Google</a>\n",
    "  </body>\n",
    "</html>\n",
    "```"
   ]
  },
  {
   "cell_type": "markdown",
   "metadata": {},
   "source": [
    "**QUESTIONS**\n",
    "> How many elements do we have within the HTML body?  What are their tags?"
   ]
  },
  {
   "cell_type": "code",
   "execution_count": 4,
   "metadata": {},
   "outputs": [
    {
     "name": "stdout",
     "output_type": "stream",
     "text": [
      "2, <head> </head> and <body> </body>\n"
     ]
    }
   ],
   "source": [
    "print(\"2, <head> </head> and <body> </body>\")"
   ]
  },
  {
   "cell_type": "markdown",
   "metadata": {},
   "source": [
    "> What is the inner HTML of the header element?"
   ]
  },
  {
   "cell_type": "code",
   "execution_count": 5,
   "metadata": {},
   "outputs": [
    {
     "name": "stdout",
     "output_type": "stream",
     "text": [
      "This is a header\n"
     ]
    }
   ],
   "source": [
    "print(\"This is a header\")"
   ]
  },
  {
   "cell_type": "markdown",
   "metadata": {},
   "source": [
    "> What attribute(s) does the paragraph have?  And the attribute value(s)?"
   ]
  },
  {
   "cell_type": "code",
   "execution_count": 8,
   "metadata": {},
   "outputs": [
    {
     "name": "stdout",
     "output_type": "stream",
     "text": [
      "The attributes are: style and id\n",
      "Thier values are: \"color : red\" and \"id: learning_paragraph\"\n"
     ]
    }
   ],
   "source": [
    "print(\"The attributes are: style and id\\nThier values are: \\\"color : red\\\" and \\\"id: learning_paragraph\\\"\")"
   ]
  },
  {
   "cell_type": "markdown",
   "metadata": {},
   "source": [
    "Saving this code as a .html file and opening it in a browser should yield:\n",
    "\n",
    "<br>\n",
    "<img src=\"images/example_html.png\" alt=\"Rendering of Example HTML\" style=\"width: 300px;\" align=\"left\"/>"
   ]
  },
  {
   "cell_type": "markdown",
   "metadata": {},
   "source": [
    "## Learn to Scrape with Dummy HTML\n",
    "\n",
    "Let's begin learning how to scrape by working with some dummy HTML, written below as a string."
   ]
  },
  {
   "cell_type": "code",
   "execution_count": 3,
   "metadata": {},
   "outputs": [],
   "source": [
    "my_html = \"\"\"\n",
    "<html>\n",
    "\n",
    "<head>\n",
    "</head>\n",
    "\n",
    "<body>\n",
    "    <div style=\"border: 5px dashed\">\n",
    "        List of to-do items. \n",
    "        <ul>\n",
    "          <li>Make coffee</li>\n",
    "          <li>Review the material</li>\n",
    "          <li>Watch a Star Wars movie</li>\n",
    "          <li>Write BeautifulSoup lecture</li>\n",
    "        </ul>\n",
    "    </div>\n",
    "</body>\n",
    "\n",
    "</html>\n",
    "\"\"\"\n",
    "# another_html= "
   ]
  },
  {
   "cell_type": "markdown",
   "metadata": {},
   "source": [
    "Let's take a look at this simple webpage."
   ]
  },
  {
   "cell_type": "code",
   "execution_count": 4,
   "metadata": {},
   "outputs": [
    {
     "data": {
      "text/html": [
       "[0, 1, 2, 3, 4]"
      ],
      "text/plain": [
       "<IPython.core.display.HTML object>"
      ]
     },
     "metadata": {},
     "output_type": "display_data"
    },
    {
     "data": {
      "text/html": [
       "\n",
       "<html>\n",
       "\n",
       "<head>\n",
       "</head>\n",
       "\n",
       "<body>\n",
       "    <div style=\"border: 5px dashed\">\n",
       "        List of to-do items. \n",
       "        <ul>\n",
       "          <li>Make coffee</li>\n",
       "          <li>Review the material</li>\n",
       "          <li>Watch a Star Wars movie</li>\n",
       "          <li>Write BeautifulSoup lecture</li>\n",
       "        </ul>\n",
       "    </div>\n",
       "</body>\n",
       "\n",
       "</html>\n"
      ],
      "text/plain": [
       "<IPython.core.display.HTML object>"
      ]
     },
     "metadata": {},
     "output_type": "display_data"
    }
   ],
   "source": [
    "# from IPython.core.display import display, HTML\n",
    "from IPython.core.display import display, HTML\n",
    "l=list(range(5))\n",
    "display(HTML(str(l)))  \n",
    "display(HTML(my_html))     # make sure Jupyter knows to display it as HTML"
   ]
  },
  {
   "cell_type": "markdown",
   "metadata": {},
   "source": [
    "If we want to grab the four items on our to-do list and analyze them, we can use Beautiful Soup!"
   ]
  },
  {
   "cell_type": "code",
   "execution_count": 5,
   "metadata": {},
   "outputs": [],
   "source": [
    "soup = BeautifulSoup(my_html, \"html5lib\")"
   ]
  },
  {
   "cell_type": "markdown",
   "metadata": {},
   "source": [
    "Simply looking at `soup` isn't very useful -- it's just our HTML repeated back to us."
   ]
  },
  {
   "cell_type": "code",
   "execution_count": 35,
   "metadata": {},
   "outputs": [
    {
     "data": {
      "text/plain": [
       "<html><head>\n",
       "</head>\n",
       "\n",
       "<body>\n",
       "    <div style=\"border: 5px dashed\">\n",
       "        List of to-do items. \n",
       "        <ul>\n",
       "          <li>Make coffee</li>\n",
       "          <li>Review the material</li>\n",
       "          <li>Watch a Star Wars movie</li>\n",
       "          <li>Write BeautifulSoup lecture</li>\n",
       "        </ul>\n",
       "    </div>\n",
       "\n",
       "\n",
       "\n",
       "</body></html>"
      ]
     },
     "execution_count": 35,
     "metadata": {},
     "output_type": "execute_result"
    }
   ],
   "source": [
    "soup"
   ]
  },
  {
   "cell_type": "markdown",
   "metadata": {},
   "source": [
    "### `.find()`\n",
    "\n",
    "But Beautiful Soup also knows how to navigate this HTML.  We can use the `find` command to get to a specific element."
   ]
  },
  {
   "cell_type": "code",
   "execution_count": 6,
   "metadata": {},
   "outputs": [
    {
     "data": {
      "text/plain": [
       "bs4.element.Tag"
      ]
     },
     "metadata": {},
     "output_type": "display_data"
    },
    {
     "data": {
      "text/plain": [
       "<li>Make coffee</li>"
      ]
     },
     "execution_count": 6,
     "metadata": {},
     "output_type": "execute_result"
    }
   ],
   "source": [
    "display(type(soup.find()))\n",
    "soup.find('li')  #Grabs the first element tagged as li"
   ]
  },
  {
   "cell_type": "code",
   "execution_count": 7,
   "metadata": {},
   "outputs": [
    {
     "data": {
      "text/plain": [
       "bs4.element.Tag"
      ]
     },
     "execution_count": 7,
     "metadata": {},
     "output_type": "execute_result"
    }
   ],
   "source": [
    "type(soup.find('li'))"
   ]
  },
  {
   "cell_type": "markdown",
   "metadata": {},
   "source": [
    "`find` returns a tagged element, but we can go further and just select this element's inner HTML text."
   ]
  },
  {
   "cell_type": "code",
   "execution_count": 8,
   "metadata": {},
   "outputs": [
    {
     "data": {
      "text/plain": [
       "'Make coffee'"
      ]
     },
     "execution_count": 8,
     "metadata": {},
     "output_type": "execute_result"
    }
   ],
   "source": [
    "soup.find('li').text"
   ]
  },
  {
   "cell_type": "code",
   "execution_count": 41,
   "metadata": {},
   "outputs": [
    {
     "data": {
      "text/plain": [
       "str"
      ]
     },
     "execution_count": 41,
     "metadata": {},
     "output_type": "execute_result"
    }
   ],
   "source": [
    "type(soup.find('li').text)"
   ]
  },
  {
   "cell_type": "markdown",
   "metadata": {},
   "source": [
    "### `.find_all()`\n",
    "\n",
    "Instead of selecting just one of our list items, we can get all of them by using `find_all`.  \n",
    "\n",
    "This method looks for all instances matching our criteria on the entire HTML and gives us back a list."
   ]
  },
  {
   "cell_type": "code",
   "execution_count": 12,
   "metadata": {},
   "outputs": [
    {
     "data": {
      "text/plain": [
       "'[<li>Make coffee</li>, <li>Review the material</li>, <li>Watch a Star Wars movie</li>, <li>Write BeautifulSoup lecture</li>]'"
      ]
     },
     "execution_count": 12,
     "metadata": {},
     "output_type": "execute_result"
    }
   ],
   "source": [
    "str(soup.find_all('li'))"
   ]
  },
  {
   "cell_type": "markdown",
   "metadata": {},
   "source": [
    "To analyze our to-do list, we probably just want the text from each tagged element.  How can we do that?\n",
    "\n",
    "One approach is to loop through the list and apply `.text` to each element:"
   ]
  },
  {
   "cell_type": "code",
   "execution_count": 10,
   "metadata": {},
   "outputs": [
    {
     "data": {
      "text/plain": [
       "'Make coffee'"
      ]
     },
     "metadata": {},
     "output_type": "display_data"
    },
    {
     "data": {
      "text/plain": [
       "'Review the material'"
      ]
     },
     "metadata": {},
     "output_type": "display_data"
    },
    {
     "data": {
      "text/plain": [
       "'Watch a Star Wars movie'"
      ]
     },
     "metadata": {},
     "output_type": "display_data"
    },
    {
     "data": {
      "text/plain": [
       "'Write BeautifulSoup lecture'"
      ]
     },
     "metadata": {},
     "output_type": "display_data"
    },
    {
     "name": "stdout",
     "output_type": "stream",
     "text": [
      "['Make coffee', 'Review the material', 'Watch a Star Wars movie', 'Write BeautifulSoup lecture']\n"
     ]
    }
   ],
   "source": [
    "todos=[]\n",
    "\n",
    "for element in soup.find_all('li'):\n",
    "    display(element.text)\n",
    "    todos.append(element.text)\n",
    "    \n",
    "print(todos)"
   ]
  },
  {
   "cell_type": "code",
   "execution_count": 13,
   "metadata": {},
   "outputs": [
    {
     "data": {
      "text/plain": [
       "['Make coffee',\n",
       " 'Review the material',\n",
       " 'Watch a Star Wars movie',\n",
       " 'Write BeautifulSoup lecture']"
      ]
     },
     "metadata": {},
     "output_type": "display_data"
    }
   ],
   "source": [
    "l = [e.text for e in soup.find_all(\"li\")]\n",
    "display(l)"
   ]
  },
  {
   "cell_type": "markdown",
   "metadata": {},
   "source": [
    "Or we could use a list comprehension:"
   ]
  },
  {
   "cell_type": "code",
   "execution_count": 55,
   "metadata": {},
   "outputs": [
    {
     "data": {
      "text/plain": [
       "['Make coffee',\n",
       " 'Review the material',\n",
       " 'Watch a Star Wars movie',\n",
       " 'Write BeautifulSoup lecture']"
      ]
     },
     "execution_count": 55,
     "metadata": {},
     "output_type": "execute_result"
    }
   ],
   "source": [
    "todos=[element.text for element in soup.find_all('li')]\n",
    "\n",
    "todos"
   ]
  },
  {
   "cell_type": "markdown",
   "metadata": {},
   "source": [
    "Now we have a clean list of strings, ready for analysis!"
   ]
  },
  {
   "cell_type": "markdown",
   "metadata": {},
   "source": [
    "## Scrape Select Items on a Test Webpage\n",
    "\n",
    "Now on to a more complicated example.  Take a look at `test_webpage/page.html`.  Let's try to grab all of the article links, like the ones for Starbucks and Bitcoin.\n",
    "\n",
    "First get the HTML and then parse it with BeautifulSoup."
   ]
  },
  {
   "cell_type": "code",
   "execution_count": 18,
   "metadata": {},
   "outputs": [
    {
     "data": {
      "text/plain": [
       "['unicorn frappaccino  ---> http://starbucks.com/drinks/unicorn.html',\n",
       " 'Bitcoin              ---> https://finance.yahoo.com/quote/BTC-USD/',\n",
       " 'cryptocurrency       ---> https://en.wikipedia.org/wiki/Cryptocurrency',\n",
       " 'negative             ---> negative.html']"
      ]
     },
     "metadata": {},
     "output_type": "display_data"
    }
   ],
   "source": [
    "page= open(\"test_webpage/page.html\")\n",
    "soup= BeautifulSoup(page, \"html5lib\")\n",
    "articles= soup.find_all(\"div\", class_=\"article\")\n",
    "articles= BeautifulSoup(str(articles))\n",
    "articles= articles.find_all(\"a\")\n",
    "list_of_article_links= [f'{article.text:20s} ---> {article.get(\"href\")}' for article in articles]\n",
    "display(list_of_article_links)"
   ]
  },
  {
   "cell_type": "code",
   "execution_count": 102,
   "metadata": {},
   "outputs": [
    {
     "data": {
      "text/plain": [
       "<html>\n",
       "<head>\n",
       "<link href=\"style.css\" rel=\"stylesheet\"/>\n",
       "</head>\n",
       "<body>\n",
       "<div class=\"sidebar\">\n",
       "<ul>\n",
       "<li><a href=\"sports.html\">Sports</a></li>\n",
       "<li><a href=\"entertainment.html\">Entertainment</a></li>\n",
       "<li><a href=\"technology.html\">Technology</a></li>\n",
       "</ul>\n",
       "</div>\n",
       "<div class=\"content\">\n",
       "<h1>Today's News</h1>\n",
       "<div class=\"article\">\n",
       "<div class=\"title\">New drink released today</div>\n",
       "<div class=\"summary\">\n",
       "        Starbucks is releasing a new drink today called the <a href=\"http://starbucks.com/drinks/unicorn.html\">unicorn frappaccino</a>.\n",
       "      </div>\n",
       "</div>\n",
       "<div class=\"article\">\n",
       "<div class=\"title\">Bitcoin crashes</div>\n",
       "<div class=\"summary\">\n",
       "<a href=\"https://finance.yahoo.com/quote/BTC-USD/\">Bitcoin</a> dropped 200% today becoming the first <a href=\"https://en.wikipedia.org/wiki/Cryptocurrency\">cryptocurrency</a> with <a href=\"negative.html\">negative</a> value!\n",
       "      </div>\n",
       "</div>\n",
       "<div class=\"disclaimer\">\n",
       "<div class=\"title\">Disclaimer</div>\n",
       "      These stories are all <a href=\"https://en.wikipedia.org/wiki/Fake_news\">\"fake news\"</a>. If you want real news, go to a real website.\n",
       "    </div>\n",
       "</div></body>\n",
       "</html>"
      ]
     },
     "metadata": {},
     "output_type": "display_data"
    }
   ],
   "source": [
    "with open('test_webpage/page.html') as page:\n",
    "    test_html = page.read()\n",
    "soup = BeautifulSoup(test_html, 'lxml')\n",
    "display(soup)"
   ]
  },
  {
   "cell_type": "markdown",
   "metadata": {},
   "source": [
    "Links show up as `a` tags.  Let's just try to grab all of them."
   ]
  },
  {
   "cell_type": "code",
   "execution_count": 103,
   "metadata": {},
   "outputs": [
    {
     "data": {
      "text/plain": [
       "[<a href=\"sports.html\">Sports</a>,\n",
       " <a href=\"entertainment.html\">Entertainment</a>,\n",
       " <a href=\"technology.html\">Technology</a>,\n",
       " <a href=\"http://starbucks.com/drinks/unicorn.html\">unicorn frappaccino</a>,\n",
       " <a href=\"https://finance.yahoo.com/quote/BTC-USD/\">Bitcoin</a>,\n",
       " <a href=\"https://en.wikipedia.org/wiki/Cryptocurrency\">cryptocurrency</a>,\n",
       " <a href=\"negative.html\">negative</a>,\n",
       " <a href=\"https://en.wikipedia.org/wiki/Fake_news\">\"fake news\"</a>]"
      ]
     },
     "execution_count": 103,
     "metadata": {},
     "output_type": "execute_result"
    }
   ],
   "source": [
    "soup.find_all('a')"
   ]
  },
  {
   "cell_type": "markdown",
   "metadata": {},
   "source": [
    "Uh oh!  Looks like there are some links on the sidebar and in the footer, too.  We want only the ones in the articles so we'll need a better strategy.\n",
    "\n",
    "Digging into the source code, it turns out that each of the articles live within a `div` labeled with the class `article`.  Let's try to get those.\n",
    "\n",
    "### `class_` and `id_` \n",
    "The `find` and `find_all` methods take optional attribute arguments so you can filter down to elements with specific attributes like classes and ids."
   ]
  },
  {
   "cell_type": "code",
   "execution_count": 104,
   "metadata": {},
   "outputs": [
    {
     "data": {
      "text/plain": [
       "[<div class=\"article\">\n",
       " <div class=\"title\">New drink released today</div>\n",
       " <div class=\"summary\">\n",
       "         Starbucks is releasing a new drink today called the <a href=\"http://starbucks.com/drinks/unicorn.html\">unicorn frappaccino</a>.\n",
       "       </div>\n",
       " </div>,\n",
       " <div class=\"article\">\n",
       " <div class=\"title\">Bitcoin crashes</div>\n",
       " <div class=\"summary\">\n",
       " <a href=\"https://finance.yahoo.com/quote/BTC-USD/\">Bitcoin</a> dropped 200% today becoming the first <a href=\"https://en.wikipedia.org/wiki/Cryptocurrency\">cryptocurrency</a> with <a href=\"negative.html\">negative</a> value!\n",
       "       </div>\n",
       " </div>]"
      ]
     },
     "execution_count": 104,
     "metadata": {},
     "output_type": "execute_result"
    }
   ],
   "source": [
    "soup.find_all('div', class_='article')"
   ]
  },
  {
   "cell_type": "markdown",
   "metadata": {},
   "source": [
    "There are our articles!  \n",
    "\n",
    "Each of these `div` elements are also soup objects, so we can now query these `div`s to drill down further to just the links."
   ]
  },
  {
   "cell_type": "code",
   "execution_count": 146,
   "metadata": {},
   "outputs": [],
   "source": [
    "for div in soup.find_all('div', class_='article'):\n",
    "    for link in div.find_all('a'):\n",
    "        print(link)"
   ]
  },
  {
   "cell_type": "markdown",
   "metadata": {},
   "source": [
    "Excellent!  What if we want to print out the link text and the url it points to?\n",
    "\n",
    "\n",
    "### `.get()`\n",
    "The `get` method allows you access to any attribute of the element."
   ]
  },
  {
   "cell_type": "code",
   "execution_count": 108,
   "metadata": {},
   "outputs": [
    {
     "name": "stdout",
     "output_type": "stream",
     "text": [
      "unicorn frappaccino  ---> http://starbucks.com/drinks/unicorn.html\n",
      "Bitcoin              ---> https://finance.yahoo.com/quote/BTC-USD/\n",
      "cryptocurrency       ---> https://en.wikipedia.org/wiki/Cryptocurrency\n",
      "negative             ---> negative.html\n"
     ]
    }
   ],
   "source": [
    "for div in soup.find_all('div', class_='article'):\n",
    "    for link in div.find_all('a'):\n",
    "        print(f'{link.text:20s} ---> {link.get(\"href\")}')"
   ]
  },
  {
   "cell_type": "markdown",
   "metadata": {},
   "source": [
    "## Scrape the Web\n",
    "\n",
    "So far we've used BeautifulSoup to parse our own HTML strings and files.  Now let's scrape Box Office Mojo.\n",
    "\n",
    "First let's take a look at some source code for _The Big Lebowski_.\n",
    "\n",
    "- Navigate to https://www.boxofficemojo.com/title/tt0118715/ in your browser, preferably Chrome\n",
    "- Right click and select \"Inspect\"\n",
    "- Alternatively, you can \"View Page Source\"\n",
    "\n",
    "To retrieve the HTML for this webpage, we will use `requests`.\n",
    "\n",
    "### `requests`\n",
    "\n",
    "The `requests` library allows us to grab information from the web.  There are two common types of requests:\n",
    "- `get` -- simply requests information, akin to putting a url in your browser\n",
    "- `post` -- sends information to the website, for example, writing an email\n",
    "\n",
    "We will be using `get` to retrieve a page's HTML."
   ]
  },
  {
   "cell_type": "code",
   "execution_count": 26,
   "metadata": {},
   "outputs": [
    {
     "data": {
      "text/plain": [
       "[<a class=\"a-link-normal\" href=\"/?ref_=bo_nb_tt_mojologo\"></a>,\n",
       " <a class=\"a-popover-trigger a-declarative\" href=\"javascript:void(0)\" role=\"button\"><span class=\"mobile-menu-popover-trigger\"></span>\n",
       "                 <i class=\"a-icon a-icon-popover\"></i></a>,\n",
       " <a class=\"a-link-normal mojo-rollover-image\" href=\"https://pro.imdb.com/login/ap?u=%2Flogin%2Flwa&amp;imdbPageAction=signUp&amp;ref_=mojo_nb_tt_rollover&amp;rf=mojo_nb_tt_rollover\"><img alt=\"\" src=\"https://m.media-amazon.com/images/G/01/IMDbPro/images/dropbox/MI_NB_011321_NYNY2021_mojo.png\"/></a>,\n",
       " <a class=\"a-popover-trigger a-declarative\" href=\"javascript:void(0)\" role=\"button\"><span class=\"imdb-pro-logo\"></span><i class=\"a-icon a-icon-popover\"></i></a>,\n",
       " <a class=\"a-link-normal mojo-fb-logo\" href=\"https://www.facebook.com/BoxOfficeMojo/\" rel=\"noopener\" target=\"_blank\"></a>,\n",
       " <a class=\"a-link-normal mojo-tw-logo\" href=\"https://twitter.com/boxofficemojo\" rel=\"noopener\" target=\"_blank\"></a>,\n",
       " <a class=\"a-size-medium a-link-normal mojo-navigation-tab\" href=\"/date/?ref_=bo_nb_tt_tab\">Domestic</a>,\n",
       " <a class=\"a-size-medium a-link-normal mojo-navigation-tab\" href=\"/intl/?ref_=bo_nb_tt_tab\">International</a>,\n",
       " <a class=\"a-size-medium a-link-normal mojo-navigation-tab\" href=\"/year/world/?ref_=bo_nb_tt_tab\">Worldwide</a>,\n",
       " <a class=\"a-size-medium a-link-normal mojo-navigation-tab\" href=\"/calendar/?ref_=bo_nb_tt_tab\">Calendar</a>,\n",
       " <a class=\"a-size-medium a-link-normal mojo-navigation-tab\" href=\"/charts/overall/?ref_=bo_nb_tt_tab\">All Time</a>,\n",
       " <a class=\"a-size-medium a-link-normal mojo-navigation-tab\" href=\"/showdown/?ref_=bo_nb_tt_tab\">Showdowns</a>,\n",
       " <a class=\"a-size-medium a-link-normal mojo-navigation-tab\" href=\"/brand/?ref_=bo_nb_tt_tab\">Indices</a>,\n",
       " <a class=\"a-link-normal\" href=\"https://pro.imdb.com/title/tt0118715/cast?ref_=mojo_tt_cta_cast&amp;rf=mojo_tt_cta_cast\" rel=\"noopener\" target=\"_blank\">Cast information</a>,\n",
       " <a class=\"a-link-normal\" href=\"https://pro.imdb.com/title/tt0118715/filmmakers?ref_=mojo_tt_cta_crew&amp;rf=mojo_tt_cta_crew\" rel=\"noopener\" target=\"_blank\">Crew information</a>,\n",
       " <a class=\"a-link-normal\" href=\"https://pro.imdb.com/title/tt0118715/companycredits?ref_=mojo_tt_cta_co&amp;rf=mojo_tt_cta_co\" rel=\"noopener\" target=\"_blank\">Company information</a>,\n",
       " <a class=\"a-link-normal\" href=\"https://pro.imdb.com/title/tt0118715/news?ref_=mojo_tt_cta_news&amp;rf=mojo_tt_cta_news\" rel=\"noopener\" target=\"_blank\">News</a>,\n",
       " <a class=\"a-link-normal\" href=\"https://pro.imdb.com/title/tt0118715/boxoffice?ref_=mojo_tt_cta_bo&amp;rf=mojo_tt_cta_bo\" rel=\"noopener\" target=\"_blank\">Box office</a>,\n",
       " <a class=\"a-link-normal\" href=\"https://pro.imdb.com/boxoffice/genre/sg3739152641?ref_=mojo_tt_cta_genre&amp;rf=mojo_tt_cta_genre\" rel=\"noopener\" target=\"_blank\">Slacker</a>,\n",
       " <a class=\"a-link-normal\" href=\"https://pro.imdb.com/boxoffice/genre/sg2178806017?ref_=mojo_tt_cta_genre&amp;rf=mojo_tt_cta_genre\" rel=\"noopener\" target=\"_blank\">Black Comedy</a>,\n",
       " <a class=\"a-popover-trigger a-declarative\" href=\"javascript:void(0)\" role=\"button\">\n",
       "                         <span>\n",
       "                             Genre keyword rankings\n",
       "                         </span>\n",
       "                     <i class=\"a-icon a-icon-popover\"></i></a>,\n",
       " <a class=\"a-link-normal mojo-title-link refiner-display-highlight\" href=\"/title/tt0118715/?ref_=bo_tt_ti\"><img height=\"18\" src=\"https://m.media-amazon.com/images/G/01/boxofficemojo/ic_summary_m._CB485936930_.png\" width=\"21\"/><span class=\"mojo-hidden-from-mobile\"> Title Summary</span></a>,\n",
       " <a class=\"a-link-normal\" href=\"https://pro.imdb.com/title/tt0118715/cast?ref_=mojo_tt_cta_cast&amp;rf=mojo_tt_cta_cast\" rel=\"noopener\" target=\"_blank\">Cast information</a>,\n",
       " <a class=\"a-link-normal\" href=\"https://pro.imdb.com/title/tt0118715/filmmakers?ref_=mojo_tt_cta_crew&amp;rf=mojo_tt_cta_crew\" rel=\"noopener\" target=\"_blank\">Crew information</a>,\n",
       " <a class=\"a-link-normal\" href=\"https://pro.imdb.com/title/tt0118715/companycredits?ref_=mojo_tt_cta_co&amp;rf=mojo_tt_cta_co\" rel=\"noopener\" target=\"_blank\">Company information</a>,\n",
       " <a class=\"a-link-normal\" href=\"https://pro.imdb.com/title/tt0118715/news?ref_=mojo_tt_cta_news&amp;rf=mojo_tt_cta_news\" rel=\"noopener\" target=\"_blank\">News</a>,\n",
       " <a class=\"a-link-normal\" href=\"https://pro.imdb.com/title/tt0118715/boxoffice?ref_=mojo_tt_cta_bo&amp;rf=mojo_tt_cta_bo\" rel=\"noopener\" target=\"_blank\">Box office</a>,\n",
       " <a class=\"a-link-normal\" href=\"https://pro.imdb.com/boxoffice/genre/sg3739152641?ref_=mojo_tt_cta_genre&amp;rf=mojo_tt_cta_genre\" rel=\"noopener\" target=\"_blank\">Slacker</a>,\n",
       " <a class=\"a-link-normal\" href=\"https://pro.imdb.com/boxoffice/genre/sg2178806017?ref_=mojo_tt_cta_genre&amp;rf=mojo_tt_cta_genre\" rel=\"noopener\" target=\"_blank\">Black Comedy</a>,\n",
       " <a class=\"a-popover-trigger a-declarative\" href=\"javascript:void(0)\" role=\"button\">\n",
       "                         <span>\n",
       "                             Genre keyword rankings\n",
       "                         </span>\n",
       "                     <i class=\"a-icon a-icon-popover\"></i></a>,\n",
       " <a class=\"a-size-small a-link-normal\" href=\"https://pro.imdb.com/company/co0018555/boxoffice/?ref_=mojo_tt_su&amp;rf=mojo_tt_su\" rel=\"noopener\" target=\"_blank\">See full company information<svg class=\"mojo-new-window-svg\" viewBox=\"0 0 32 32\" xmlns=\"http://www.w3.org/2000/svg\">\n",
       "         <path d=\"M24,15.57251l3,3V23.5A3.50424,3.50424,0,0,1,23.5,27H8.5A3.50424,3.50424,0,0,1,5,23.5V8.5A3.50424,3.50424,0,0,1,8.5,5h4.92755l3,3H8.5a.50641.50641,0,0,0-.5.5v15a.50641.50641,0,0,0,.5.5h15a.50641.50641,0,0,0,.5-.5ZM19.81952,8.56372,12.8844,17.75a.49989.49989,0,0,0,.04547.65479l.66534.66528a.49983.49983,0,0,0,.65479.04553l9.18628-6.93518,2.12579,2.12585a.5.5,0,0,0,.84741-.27526l1.48273-9.35108a.50006.50006,0,0,0-.57214-.57214L17.969,5.59058a.5.5,0,0,0-.27526.84741Z\"></path>\n",
       "     </svg></a>,\n",
       " <a class=\"a-link-normal\" href=\"/release/rl239568385/weekend?ref_=bo_tt_gr#table\"><span class=\"money\">$5,533,844</span></a>,\n",
       " <a class=\"a-link-normal\" href=\"https://pro.imdb.com/title/tt0118715?ref_=mojo_tt_summary&amp;rf=mojo_tt_summary\" rel=\"noopener\" target=\"_blank\">See more details at IMDbPro<svg class=\"mojo-new-window-svg\" viewBox=\"0 0 32 32\" xmlns=\"http://www.w3.org/2000/svg\">\n",
       "         <path d=\"M24,15.57251l3,3V23.5A3.50424,3.50424,0,0,1,23.5,27H8.5A3.50424,3.50424,0,0,1,5,23.5V8.5A3.50424,3.50424,0,0,1,8.5,5h4.92755l3,3H8.5a.50641.50641,0,0,0-.5.5v15a.50641.50641,0,0,0,.5.5h15a.50641.50641,0,0,0,.5-.5ZM19.81952,8.56372,12.8844,17.75a.49989.49989,0,0,0,.04547.65479l.66534.66528a.49983.49983,0,0,0,.65479.04553l9.18628-6.93518,2.12579,2.12585a.5.5,0,0,0,.84741-.27526l1.48273-9.35108a.50006.50006,0,0,0-.57214-.57214L17.969,5.59058a.5.5,0,0,0-.27526.84741Z\"></path>\n",
       "     </svg></a>,\n",
       " <a class=\"a-size-base a-link-normal mojo-navigation-tab mojo-navigation-tab-active\" href=\"/title/tt0118715/?ref_=bo_tt_tab#tabs\">Performance</a>,\n",
       " <a class=\"a-size-base a-link-normal mojo-navigation-tab\" href=\"/title/tt0118715/credits/?ref_=bo_tt_tab#tabs\">Cast and Crew</a>,\n",
       " <a class=\"a-size-base a-link-normal mojo-navigation-tab\" href=\"/title/tt0118715/news/?ref_=bo_tt_tab#tabs\">Related Stories</a>,\n",
       " <a class=\"a-size-base a-link-normal mojo-navigation-tab\" href=\"/title/tt0118715/similar/?ref_=bo_tt_tab#tabs\">Similar Movies</a>,\n",
       " <a class=\"a-link-normal\" href=\"/releasegroup/gr3312079365/?ref_=bo_tt_gr_1\">Original Release</a>,\n",
       " <a class=\"a-link-normal\" href=\"/release/rl239568385/?ref_=bo_tt_gr_1\">Domestic</a>,\n",
       " <a class=\"a-link-normal\" href=\"/releasegroup/gr3664400901/?ref_=bo_tt_gr_2\">2018 Re-release</a>,\n",
       " <a class=\"a-link-normal\" href=\"/releasegroup/gr3664400901/?ref_=bo_tt_gr_2\">Domestic, EMEA</a>,\n",
       " <a class=\"a-link-normal\" href=\"/releasegroup/gr2561102341/?ref_=bo_tt_gr_3\">2020 Re-release</a>,\n",
       " <a class=\"a-link-normal\" href=\"/releasegroup/gr2561102341/?ref_=bo_tt_gr_3\">APAC</a>,\n",
       " <a class=\"a-link-normal imdb-pro-logo\" href=\"https://pro.imdb.com/?ref_=mojo_ft_tt_prologo&amp;rf=mojo_ft_tt_prologo\"></a>,\n",
       " <a class=\"a-link-normal\" href=\"/news/?ref_=bo_ft_tt_news\">News</a>,\n",
       " <a class=\"a-link-normal\" href=\"/daily/?ref_=bo_ft_tt_daily\">Daily</a>,\n",
       " <a class=\"a-link-normal\" href=\"/weekend/?ref_=bo_ft_tt_weekend\">Weekend</a>,\n",
       " <a class=\"a-link-normal\" href=\"/charts/?ref_=bo_ft_tt_charts\">All Time</a>,\n",
       " <a class=\"a-link-normal\" href=\"/intl/?ref_=bo_ft_tt_intl\">International</a>,\n",
       " <a class=\"a-link-normal\" href=\"/showdown/?ref_=bo_ft_tt_showdown\">Showdowns</a>,\n",
       " <a class=\"a-link-normal\" href=\"https://help.imdb.com/article/imdbpro/industry-research/box-office-by-imdbpro-glossary/GN8HA87MT4597FSW?ref_=mojo_ftr_glossary\" rel=\"noopener\" target=\"_blank\">Glossary</a>,\n",
       " <a class=\"a-link-normal\" href=\"https://help.imdb.com/article/imdbpro/industry-research/box-office-mojo-by-imdbpro-user-guide/GUHKUZRL7MQ5T5AZ?ref_=mojo_ftr_guide\" rel=\"noopener\" target=\"_blank\">User Guide</a>,\n",
       " <a class=\"a-link-normal\" href=\"https://help.imdb.com/article/imdbpro/industry-research/box-office-mojo-by-imdbpro-faq/GCWTV4MQKGWRAUAP?ref_=mojo_ftr_help\" rel=\"noopener\" target=\"_blank\">Help</a>,\n",
       " <a class=\"a-link-normal\" href=\"http://www.imdb.com/\" rel=\"noopener\" target=\"_blank\">IMDb</a>,\n",
       " <a class=\"a-link-normal\" href=\"/conditions/?ref_=bo_ft_tt_conditions\">Conditions of Use</a>,\n",
       " <a class=\"a-link-normal\" href=\"/privacy/?ref_=bo_ft_tt_privacy\">Privacy Policy</a>]"
      ]
     },
     "metadata": {},
     "output_type": "display_data"
    }
   ],
   "source": [
    "url = 'https://www.boxofficemojo.com/title/tt0118715/' \n",
    "response = requests.get(url)\n",
    "# display(response.text)\n",
    "page= response.text\n",
    "\n",
    "soup= BeautifulSoup(page,\"html5lib\")\n",
    "\n",
    "links= soup.find_all(\"a\")\n",
    "# links= BeautifulSoup(str(links), \"html5lib\")\n",
    "# links= links.find_all(\"a\")\n",
    "links= [link for link in links]\n",
    "\n",
    "display(links)\n",
    "\n"
   ]
  },
  {
   "cell_type": "code",
   "execution_count": 27,
   "metadata": {},
   "outputs": [],
   "source": [
    "url = 'https://www.boxofficemojo.com/title/tt0118715/' \n",
    "\n",
    "response = requests.get(url)"
   ]
  },
  {
   "cell_type": "markdown",
   "metadata": {},
   "source": [
    "The response we got back is an object that gives us access to:\n",
    "- `response.text` -- the returned HTML (if any)\n",
    "- `response.json` -- the returned JSON (if any), typical for APIs\n",
    "- `response.status_code` -- a [code](https://en.wikipedia.org/wiki/List_of_HTTP_status_codes) to tell you if your request was successful or if an error occurred, 2XX indicates success while 404 means not found"
   ]
  },
  {
   "cell_type": "code",
   "execution_count": 28,
   "metadata": {},
   "outputs": [
    {
     "data": {
      "text/plain": [
       "200"
      ]
     },
     "execution_count": 28,
     "metadata": {},
     "output_type": "execute_result"
    }
   ],
   "source": [
    "response.status_code  #200 = success!"
   ]
  },
  {
   "cell_type": "code",
   "execution_count": 29,
   "metadata": {},
   "outputs": [
    {
     "data": {
      "text/plain": [
       "'<!doctype html><html class=\"a-no-js\" data-19ax5a9jf=\"dingo\"><head><script>var aPageStart = (new Date()).getTime();</script><meta charset=\"utf-8\"/><meta name=\"viewport\" content=\"width=device-width, initial-scale=1.0\" />\\n                <meta charset=\"utf-8\" />\\n            <title dir=\"ltr\">The Big Lebowski - Box Office Mojo</title><meta content=\"The Big Lebowski\" name=\"title\" />\\n            <meta content=\"Box Office Mojo\" property=\"og:site_name\" />\\n            <meta content=\"https://m.media-amazon.com/images/M/MV5BMTQ0NjUzMDMyOF5BMl5BanBnXkFtZTgwODA1OTU0MDE@._V1_SL1024_.jpg\" property=\"og:image\"/>\\n            <meta name=\"format-detection\" content=\"telephone=no\" />\\n            <link href=\"https://m.media-amazon.com/images/G/01/boxofficemojo/v2/favicon._CB448965889_.ico\" type=\"image/x-icon\" rel=\"icon\" />\\n            <link rel=\"canonical\" href=\"https://www.boxofficemojo.com/title/tt0118715/\" />\\n            <link rel=\"stylesheet\" href=\"https://images-na.ssl-images-amazon.com/images/I/11EIQ5IG'"
      ]
     },
     "execution_count": 29,
     "metadata": {},
     "output_type": "execute_result"
    }
   ],
   "source": [
    "response.text[:1000]  #First 1000 characters of the HTML"
   ]
  },
  {
   "cell_type": "code",
   "execution_count": 30,
   "metadata": {},
   "outputs": [],
   "source": [
    "page = response.text"
   ]
  },
  {
   "cell_type": "markdown",
   "metadata": {},
   "source": [
    "### `BeautifulSoup` Basics\n",
    "\n",
    "Now that we have the HTML, let's learn its structure by parsing with BeautifulSoup."
   ]
  },
  {
   "cell_type": "code",
   "execution_count": 31,
   "metadata": {},
   "outputs": [],
   "source": [
    "soup = BeautifulSoup(page, \"lxml\")"
   ]
  },
  {
   "cell_type": "code",
   "execution_count": 32,
   "metadata": {},
   "outputs": [
    {
     "name": "stdout",
     "output_type": "stream",
     "text": [
      "<!DOCTYPE html>\n",
      "<html class=\"a-no-js\" data-19ax5a9jf=\"dingo\"><head><script>var aPageStart = (new Date()).getTime();</script><meta charset=\"utf-8\"/><meta content=\"width=device-width, initial-scale=1.0\" name=\"viewport\"/>\n",
      "<meta charset=\"utf-8\"/>\n",
      "<title dir=\"ltr\">The Big Lebowski - Box Office Mojo</title><meta content=\"The Big Lebowski\" name=\"title\"/>\n",
      "<meta content=\"Box Office Mojo\" property=\"og:site_name\"/>\n",
      "<meta content=\"https://m.media-amazon.com/images/M/MV5BMTQ0NjUzMDMyOF5BMl5BanBnXkFtZTgwODA1OTU0MDE@._V1_SL1024_.jpg\" property=\"og:image\"/>\n",
      "<meta content=\"telephone=no\" name=\"format-detection\"/>\n",
      "<link href=\"https://m.media-amazon.com/images/G/01/boxofficemojo/v2/favicon._CB448965889_.ico\" rel=\"icon\" type=\"image/x-icon\"/>\n",
      "<link href=\"https://www.boxofficemojo.com/title/tt0118715/\" rel=\"canonical\"/>\n",
      "<link href=\"https://images-na.ssl-images-amazon.com/images/I/11EIQ5IGqaL._RC|01ZTHTZObnL.css,41JZEtDv4tL.css,31Y8m1dzTdL.css,013z33uKh2L.css,017DsKjNQJL.css,0131vqwP5UL.css,41EWOOlBJ9L.css,11TIuySqr6L.css,01ElnPiDxWL.css,11bGSgD5pDL.css,01Dm5eKVxwL.css,01IdKcBuAdL.css,01y-XAlI+2L.css,21N4kUH7pxL.css,01oDR3IULNL.css,41CYNGpGlrL.css,01XPHJk60-L.css,114y0SIP+yL.css,21aPhFy+riL.css,11gneA3MtJL.css,21fecG8pUzL.css,01ulGzBW88L.css,01CFUgsA-YL.css,31C80IiXalL.css,11qour3ND0L.css,11gKCCKQV+L.css,11061HxnEvL.css,11oHt2HYxnL.css,013RDhw9hoL.css,11JQtnL-6eL.css,116v6uYvN6L.css,11jtXRmppwL.css,01QrWuRrZ-L.css,21zuRztKjtL.css,11QyqG8yiqL.css,11K24eOJg4L.css,11F2+OBzLyL.css,11Y05DTEL6L.css,01cbS3UK11L.css,21F85am0yFL.css,01giMEP+djL.css_.css?AUIClients/AmazonUI#us.not-trident\" rel=\"stylesheet\"/>\n",
      "<link href=\"https://images-na.ssl-images-amazon.com/images/I/51srj5W8PZL.css?AUIClients/IMDbMojoSiteAssets\" rel=\"stylesheet\"/>\n",
      "<script>\n",
      "(function(f,h,Q,E){function F(a){u&&u.tag&&u.tag(q(\":\",\"aui\",a))}function v(a,b){u&&u.count&&u.count(\"aui:\"+a,0===b?0:b||(u.count(\"aui:\"+a)||0)+1)}function m(a){try{return a.test(navigator.userAgent)}catch(b){return!1}}function x(a,b,c){a.addEventListener?a.addEventListener(b,c,!1):a.attachEvent&&a.attachEvent(\"on\"+b,c)}function q(a,b,c,e){b=b&&c?b+a+c:b||c;return e?q(a,b,e):b}function G(a,b,c){try{Object.defineProperty(a,b,{value:c,writable:!1})}catch(e){a[b]=c}return c}function ua(a,b,c){var e=\n",
      "c=a.length,g=function(){e--||(R.push(b),S||(setTimeout(ca,0),S=!0))};for(g();c--;)da[a[c]]?g():(z[a[c]]=z[a[c]]||[]).push(g)}function va(a,b,c,e,g){var d=h.createElement(a?\"script\":\"link\");x(d,\"error\",e);g&&x(d,\"load\",g);a?(d.type=\"text/javascript\",d.async=!0,c&&/AUIClients|images[/]I/.test(b)&&d.setAttribute(\"crossorigin\",\"anonymous\"),d.src=b):(d.rel=\"stylesheet\",d.href=b);h.getElementsByTagName(\"head\")[0].appendChild(d)}function ea(a,b){return function(c,e){function g(){va(b,c,d,function(b){T?v(\"resource_unload\"):\n",
      "d?(d=!1,v(\"resource_retry\"),g()):(v(\"resource_error\"),a.log(\"Asset failed to load: \"+c));b&&b.stopPropagation?b.stopPropagation():f.event&&(f.event.cancelBubble=!0)},e)}if(fa[c])return!1;fa[c]=!0;v(\"resource_count\");var d=!0;return!g()}}function wa(a,b,c){for(var e={name:a,guard:function(c){return b.guardFatal(a,c)},guardTime:function(a){return b.guardTime(a)},logError:function(c,d,e){b.logError(c,d,e,a)}},g=[],d=0;d<c.length;d++)H.hasOwnProperty(c[d])&&(g[d]=U.hasOwnProperty(c[d])?U[c[d]](H[c[d]],\n",
      "e):H[c[d]]);return g}function A(a,b,c,e,g){return function(d,h){function n(){var a=null;e?a=h:\"function\"===typeof h&&(p.start=w(),a=h.apply(f,wa(d,k,l)),p.end=w());if(b){H[d]=a;a=d;for(da[a]=!0;(z[a]||[]).length;)z[a].shift()();delete z[a]}p.done=!0}var k=g||this;\"function\"===typeof d&&(h=d,d=E);b&&(d=d?d.replace(ha,\"\"):\"__NONAME__\",V.hasOwnProperty(d)&&k.error(q(\", reregistered by \",q(\" by \",d+\" already registered\",V[d]),k.attribution),d),V[d]=k.attribution);for(var l=[],m=0;m<a.length;m++)l[m]=\n",
      "a[m].replace(ha,\"\");var p=B[d||\"anon\"+ ++xa]={depend:l,registered:w(),namespace:k.namespace};d&&ya.hasOwnProperty(d);c?n():ua(l,k.guardFatal(d,n),d);return{decorate:function(a){U[d]=k.guardFatal(d,a)}}}}function ia(a){return function(){var b=Array.prototype.slice.call(arguments);return{execute:A(b,!1,a,!1,this),register:A(b,!0,a,!1,this)}}}function W(a,b){return function(c,e){e||(e=c,c=E);var g=this.attribution;return function(){t.push(b||{attribution:g,name:c,logLevel:a});var d=e.apply(this,arguments);\n",
      "t.pop();return d}}}function I(a,b){this.load={js:ea(this,!0),css:ea(this)};G(this,\"namespace\",b);G(this,\"attribution\",a)}function ja(){h.body?r.trigger(\"a-bodyBegin\"):setTimeout(ja,20)}function C(a,b){a.className=X(a,b)+\" \"+b}function X(a,b){return(\" \"+a.className+\" \").split(\" \"+b+\" \").join(\" \").replace(/^ | $/g,\"\")}function ka(a){try{return a()}catch(b){return!1}}function J(){if(K){var a={w:f.innerWidth||n.clientWidth,h:f.innerHeight||n.clientHeight};5<Math.abs(a.w-Y.w)||50<a.h-Y.h?(Y=a,L=4,(a=k.mobile||\n",
      "k.tablet?450<a.w&&a.w>a.h:1250<=a.w)?C(n,\"a-ws\"):n.className=X(n,\"a-ws\")):0<L&&(L--,la=setTimeout(J,16))}}function za(a){(K=a===E?!K:!!a)&&J()}function Aa(){return K}function ma(){D.forEach(function(a){F(a)})}function na(a,b,c){if(b){a=m(/Chrome/i)&&!m(/Edge/i)&&!m(/OPR/i)&&!a.capabilities.isAmazonApp&&!m(new RegExp(Z+\"bwv\"+Z+\"b\"));var e=\"sw:browser:\"+c+\":\";b.browser&&a&&(D.push(e+\"supported\"),b.browser.action(e,c));!a&&b.browser&&D.push(e+\"unsupported\")}}\"use strict\";var M=Q.now=Q.now||function(){return+new Q},\n",
      "w=function(a){return a&&a.now?a.now.bind(a):M}(f.performance),N=w(),ya={},p=f.AmazonUIPageJS||f.P;if(p&&p.when&&p.register){N=[];for(var l=h.currentScript;l;l=l.parentElement)l.id&&N.push(l.id);return p.log(\"A copy of P has already been loaded on this page.\",\"FATAL\",N.join(\" \"))}var u=f.ue;F();F(\"aui_build_date:3.21.8-2021-11-07\");var R=[],Ba=[],S=!1;var ca=function(){for(var a=setTimeout(ca,0),b=M();Ba.length||R.length;)if(R.shift()(),50<M()-b)return;clearTimeout(a);S=!1};var da={},z={},fa={},T=\n",
      "!1;x(f,\"beforeunload\",function(){T=!0;setTimeout(function(){T=!1},1E4)});var ha=/^prv:/,V={},H={},U={},B={},xa=0,Z=String.fromCharCode(92),t=[],oa=!0,pa=f.onerror;f.onerror=function(a,b,c,e,g){g&&\"object\"===typeof g||(g=Error(a,b,c),g.columnNumber=e,g.stack=b||c||e?q(Z,g.message,\"at \"+q(\":\",b,c,e)):E);var d=t.pop()||{};g.attribution=q(\":\",g.attribution||d.attribution,d.name);g.logLevel=d.logLevel;g.attribution&&console&&console.log&&console.log([g.logLevel||\"ERROR\",a,\"thrown by\",g.attribution].join(\" \"));\n",
      "t=[];pa&&(d=[].slice.call(arguments),d[4]=g,pa.apply(f,d))};I.prototype={logError:function(a,b,c,e){b={message:b,logLevel:c||\"ERROR\",attribution:q(\":\",this.attribution,e)};if(f.ueLogError)return f.ueLogError(a||b,a?b:null),!0;console&&console.error&&(console.log(b),console.error(a));return!1},error:function(a,b,c,e){a=Error(q(\":\",e,a,c));a.attribution=q(\":\",this.attribution,b);throw a;},guardError:W(),guardFatal:W(\"FATAL\"),guardCurrent:function(a){var b=t[t.length-1];return b?W(b.logLevel,b).call(this,\n",
      "a):a},guardTime:function(a){var b=t[t.length-1],c=b&&b.name;return c&&c in B?function(){var b=w(),g=a.apply(this,arguments);B[c].async=(B[c].async||0)+w()-b;return g}:a},log:function(a,b,c){return this.logError(null,a,b,c)},declare:A([],!0,!0,!0),register:A([],!0),execute:A([]),AUI_BUILD_DATE:\"3.21.8-2021-11-07\",when:ia(),now:ia(!0),trigger:function(a,b,c){var e=M();this.declare(a,{data:b,pageElapsedTime:e-(f.aPageStart||NaN),triggerTime:e});c&&c.instrument&&O.when(\"prv:a-logTrigger\").execute(function(b){b(a)})},\n",
      "handleTriggers:function(){this.log(\"handleTriggers deprecated\")},attributeErrors:function(a){return new I(a)},_namespace:function(a,b){return new I(a,b)},setPriority:function(a){oa?oa=!1:this.log(\"setPriority only accept the first call.\")}};var r=G(f,\"AmazonUIPageJS\",new I);var O=r._namespace(\"PageJS\",\"AmazonUI\");O.declare(\"prv:p-debug\",B);r.declare(\"p-recorder-events\",[]);r.declare(\"p-recorder-stop\",function(){});G(f,\"P\",r);ja();if(h.addEventListener){var qa;h.addEventListener(\"DOMContentLoaded\",\n",
      "qa=function(){r.trigger(\"a-domready\");h.removeEventListener(\"DOMContentLoaded\",qa,!1)},!1)}var n=h.documentElement,aa=function(){var a=[\"O\",\"ms\",\"Moz\",\"Webkit\"],b=h.createElement(\"div\");return{testGradients:function(){return!0},test:function(c){var e=c.charAt(0).toUpperCase()+c.substr(1);c=(a.join(e+\" \")+e+\" \"+c).split(\" \");for(e=c.length;e--;)if(\"\"===b.style[c[e]])return!0;return!1},testTransform3d:function(){return!0}}}();p=n.className;var ra=/(^| )a-mobile( |$)/.test(p),sa=/(^| )a-tablet( |$)/.test(p),\n",
      "k={audio:function(){return!!h.createElement(\"audio\").canPlayType},video:function(){return!!h.createElement(\"video\").canPlayType},canvas:function(){return!!h.createElement(\"canvas\").getContext},svg:function(){return!!h.createElementNS&&!!h.createElementNS(\"http://www.w3.org/2000/svg\",\"svg\").createSVGRect},offline:function(){return navigator.hasOwnProperty&&navigator.hasOwnProperty(\"onLine\")&&navigator.onLine},dragDrop:function(){return\"draggable\"in h.createElement(\"span\")},geolocation:function(){return!!navigator.geolocation},\n",
      "history:function(){return!(!f.history||!f.history.pushState)},webworker:function(){return!!f.Worker},autofocus:function(){return\"autofocus\"in h.createElement(\"input\")},inputPlaceholder:function(){return\"placeholder\"in h.createElement(\"input\")},textareaPlaceholder:function(){return\"placeholder\"in h.createElement(\"textarea\")},localStorage:function(){return\"localStorage\"in f&&null!==f.localStorage},orientation:function(){return\"orientation\"in f},touch:function(){return\"ontouchend\"in h},gradients:function(){return aa.testGradients()},\n",
      "hires:function(){var a=f.devicePixelRatio&&1.5<=f.devicePixelRatio||f.matchMedia&&f.matchMedia(\"(min-resolution:144dpi)\").matches;v(\"hiRes\"+(ra?\"Mobile\":sa?\"Tablet\":\"Desktop\"),a?1:0);return a},transform3d:function(){return aa.testTransform3d()},touchScrolling:function(){return m(/Windowshop|android|OS ([5-9]|[1-9][0-9]+)(_[0-9]{1,2})+ like Mac OS X|SOFTWARE=([5-9]|[1-9][0-9]+)(.[0-9]{1,2})+.*DEVICE=iPhone|Chrome|Silk|Firefox|Trident.+?; Touch/i)},ios:function(){return m(/OS [1-9][0-9]*(_[0-9]*)+ like Mac OS X/i)&&\n",
      "!m(/trident|Edge/i)},android:function(){return m(/android.([1-9]|[L-Z])/i)&&!m(/trident|Edge/i)},mobile:function(){return ra},tablet:function(){return sa},rtl:function(){return\"rtl\"===n.dir}};for(l in k)k.hasOwnProperty(l)&&(k[l]=ka(k[l]));for(var ba=\"textShadow textStroke boxShadow borderRadius borderImage opacity transform transition\".split(\" \"),P=0;P<ba.length;P++)k[ba[P]]=ka(function(){return aa.test(ba[P])});var K=!0,la=0,Y={w:0,h:0},L=4;J();x(f,\"resize\",function(){clearTimeout(la);L=4;J()});\n",
      "var ta={getItem:function(a){try{return f.localStorage.getItem(a)}catch(b){}},setItem:function(a,b){try{return f.localStorage.setItem(a,b)}catch(c){}}};n.className=X(n,\"a-no-js\");C(n,\"a-js\");!m(/OS [1-8](_[0-9]*)+ like Mac OS X/i)||f.navigator.standalone||m(/safari/i)||C(n,\"a-ember\");p=[];for(l in k)k.hasOwnProperty(l)&&k[l]&&p.push(\"a-\"+l.replace(/([A-Z])/g,function(a){return\"-\"+a.toLowerCase()}));C(n,p.join(\" \"));n.setAttribute(\"data-aui-build-date\",\"3.21.8-2021-11-07\");r.register(\"p-detect\",function(){return{capabilities:k,\n",
      "localStorage:k.localStorage&&ta,toggleResponsiveGrid:za,responsiveGridEnabled:Aa}});m(/UCBrowser/i)||k.localStorage&&C(n,ta.getItem(\"a-font-class\"));r.declare(\"a-event-revised-handling\",!1);try{var y=navigator.serviceWorker}catch(a){F(\"sw:nav_err\")}y&&(x(y,\"message\",function(a){a&&a.data&&v(a.data.k,a.data.v)}),y.controller&&y.controller.postMessage(\"MSG-RDY\"));var D=[];(function(a){var b=a.reg,c=a.unreg;y&&y.getRegistrations?(O.when(\"A\").execute(function(a){na(a,c,\"unregister\")}),x(f,\"load\",function(){O.when(\"A\").execute(function(a){na(a,\n",
      "b,\"register\");ma()})})):(b&&b.browser&&D.push(\"sw:browser:register:unsupported\"),c&&c.browser&&D.push(\"sw:browser:unregister:unsupported\"),ma())})({reg:{},unreg:{}});r.declare(\"a-fix-event-off\",!1);v(\"pagejs:pkgExecTime\",w()-N)})(window,document,Date);\n",
      "  (window.AmazonUIPageJS ? AmazonUIPageJS : P).load.js('https://images-na.ssl-images-amazon.com/images/I/61XKxrBtDVL._RC|11Y+5x+kkTL.js,51106gSDnJL.js,11yKORv-GTL.js,11giXtZCwVL.js,01+z+uIeJ-L.js,01VRMV3FBdL.js,21SDJtBU-PL.js,012FVc3131L.js,11rRjDLdAVL.js,51H19hJRYrL.js,11kWu3cNjYL.js,11tMohjWmVL.js,11OREnu1epL.js,11wcWdhrnDL.js,21ssiLNIZvL.js,0190vxtlzcL.js,511VNbag2QL.js,01JYHc2oIlL.js,31ask0y-LBL.js,01ezj5Rkz1L.js,11+RxVdhNcL.js,31o2NGTXThL.js,01rpauTep4L.js,01KtgHDa97L.js_.js?AUIClients/AmazonUI');\n",
      "  (window.AmazonUIPageJS ? AmazonUIPageJS : P).load.js('https://images-na.ssl-images-amazon.com/images/I/51e5MYYGiWL.js?AUIClients/IMDbMojoSiteAssets');\n",
      "</script>\n",
      "</head><body class=\"mojo-page-id-tt a-m-us a-aui_72554-c a-aui_accordion_a11y_role_354025-c a-aui_killswitch_csa_logger_372963-c a-aui_pci_risk_banner_210084-c a-aui_preload_261698-c a-aui_rel_noreferrer_noopener_309527-c a-aui_template_weblab_cache_333406-c a-aui_tnr_v2_180836-c\" id=\"body\"><div id=\"a-page\"><script data-a-state='{\"key\":\"a-wlab-states\"}' type=\"a-state\">{}</script><!-- Use of this pixel is subject to the Amazon ad specs and policies at http://www.amazon.com/b/?&node=7253015011 --><img alt=\"\" border=\"0\" height=\"1\" src=\"https://s.amazon-adsystem.com/iui3?d=forester-did&amp;ex-fargs=%3Fid%3D5739f49d-12d9-2181-1dfd-446548cd0628%26type%3DUNKNOWN%26m%3D1&amp;ex-fch=416613&amp;ex-src=https://www.boxofficemojo.com/&amp;ex-hargs=v%3D1.0%3Bc%3D6983157497419%3Bp%3D5739F49D-12D9-2181-1DFD-446548CD0628\" width=\"1\"/>\n",
      "<div class=\"a-section a-spacing-none mojo-navigation mojo-header mojo-flex mojo-flex-h\"><div class=\"a-section mojo-logo\"><a class=\"a-link-normal\" href=\"/?ref_=bo_nb_tt_mojologo\"></a></div><div class=\"a-section a-spacing-none mojo-nav-elements mojo-flex mojo-flex-h mojo-flex-1\"><div class=\"a-section a-spacing-none mojo-search-bar mojo-flex mojo-flex-h\"><div class=\"a-section a-spacing-none mojo-search\"><form action=\"/search/\">\n",
      "<input id=\"mojo-search-text-input\" name=\"q\" placeholder=\"Search for Titles\" required=\"true\" type=\"search\" value=\"\"/>\n",
      "<input class=\"mojo-inline-button\" id=\"mojo-search-button\" type=\"submit\" value=\"\"/>\n",
      "</form>\n",
      "</div></div><div class=\"a-section a-spacing-none mojo-mobile-options\"><span class=\"a-declarative\" data-a-popover='{\"closeButton\":\"false\",\"inlineContent\":\"\\u003cspan class=\\\"a-size-medium\\\"&gt;\\u003ca href=\\\"https://pro.imdb.com/?ref_=mojo_nb_tt_pro&amp;amp;rf=mojo_nb_tt_pro\\\" class=\\\"a-touch-link a-box a-touch-link-noborder\\\"&gt;\\u003cdiv class=\\\"a-box-inner\\\"&gt;\\u003ci class=\\\"a-icon a-icon-touch-link\\\"&gt;\\u003c\\/i&gt;IMDbPro\\u003c\\/div&gt;\\u003c\\/a&gt;\\u003ca href=\\\"https://www.facebook.com/BoxOfficeMojo/\\\" class=\\\"a-touch-link a-box a-touch-link-noborder\\\"&gt;\\u003cdiv class=\\\"a-box-inner\\\"&gt;\\u003ci class=\\\"a-icon a-icon-touch-link\\\"&gt;\\u003c\\/i&gt;Facebook\\u003c\\/div&gt;\\u003c\\/a&gt;\\u003ca href=\\\"https://twitter.com/boxofficemojo\\\" class=\\\"a-touch-link a-box a-touch-link-noborder\\\"&gt;\\u003cdiv class=\\\"a-box-inner\\\"&gt;\\u003ci class=\\\"a-icon a-icon-touch-link\\\"&gt;\\u003c\\/i&gt;Twitter\\u003c\\/div&gt;\\u003c\\/a&gt;\\u003ca href=\\\"https://help.imdb.com/article/imdbpro/industry-research/box-office-mojo-by-imdbpro-faq/GCWTV4MQKGWRAUAP?ref_=mojo_ftr_help\\\" class=\\\"a-touch-link a-box a-touch-link-noborder\\\"&gt;\\u003cdiv class=\\\"a-box-inner\\\"&gt;\\u003ci class=\\\"a-icon a-icon-touch-link\\\"&gt;\\u003c\\/i&gt;Help\\u003c\\/div&gt;\\u003c\\/a&gt;\\u003c\\/span&gt;\"}' data-action=\"a-popover\" data-csa-c-func-deps=\"aui-da-a-popover\" data-csa-c-type=\"widget\"><a class=\"a-popover-trigger a-declarative\" href=\"javascript:void(0)\" role=\"button\"><span class=\"mobile-menu-popover-trigger\"></span>\n",
      "<i class=\"a-icon a-icon-popover\"></i></a></span></div><div class=\"a-section a-spacing-none mojo-options mojo-flex\"><div class=\"a-popover-preload\" id=\"a-popover-mojoRollover\"><a class=\"a-link-normal mojo-rollover-image\" href=\"https://pro.imdb.com/login/ap?u=%2Flogin%2Flwa&amp;imdbPageAction=signUp&amp;ref_=mojo_nb_tt_rollover&amp;rf=mojo_nb_tt_rollover\"><img alt=\"\" src=\"https://m.media-amazon.com/images/G/01/IMDbPro/images/dropbox/MI_NB_011321_NYNY2021_mojo.png\"/></a></div><span class=\"a-declarative\" data-a-popover='{\"padding\":\"none\",\"closeButton\":\"false\",\"dataStrategy\":\"preload\",\"name\":\"mojoRollover\",\"width\":\"500\",\"position\":\"triggerBottom\",\"height\":\"200\"}' data-action=\"a-popover\" data-csa-c-func-deps=\"aui-da-a-popover\" data-csa-c-type=\"widget\"><a class=\"a-popover-trigger a-declarative\" href=\"javascript:void(0)\" role=\"button\"><span class=\"imdb-pro-logo\"></span><i class=\"a-icon a-icon-popover\"></i></a></span><span class=\"mojo-logo-delimiter\"></span><a class=\"a-link-normal mojo-fb-logo\" href=\"https://www.facebook.com/BoxOfficeMojo/\" rel=\"noopener\" target=\"_blank\"></a><a class=\"a-link-normal mojo-tw-logo\" href=\"https://twitter.com/boxofficemojo\" rel=\"noopener\" target=\"_blank\"></a></div></div><div class=\"a-section a-spacing-none mojo-link-bar mojo-flex mojo-flex-h\"><div class=\"a-section a-spacing-none mojo-tab-container\"><a class=\"a-size-medium a-link-normal mojo-navigation-tab\" href=\"/date/?ref_=bo_nb_tt_tab\">Domestic</a><a class=\"a-size-medium a-link-normal mojo-navigation-tab\" href=\"/intl/?ref_=bo_nb_tt_tab\">International</a><a class=\"a-size-medium a-link-normal mojo-navigation-tab\" href=\"/year/world/?ref_=bo_nb_tt_tab\">Worldwide</a><a class=\"a-size-medium a-link-normal mojo-navigation-tab\" href=\"/calendar/?ref_=bo_nb_tt_tab\">Calendar</a><a class=\"a-size-medium a-link-normal mojo-navigation-tab\" href=\"/charts/overall/?ref_=bo_nb_tt_tab\">All Time</a><a class=\"a-size-medium a-link-normal mojo-navigation-tab\" href=\"/showdown/?ref_=bo_nb_tt_tab\">Showdowns</a><a class=\"a-size-medium a-link-normal mojo-navigation-tab\" href=\"/brand/?ref_=bo_nb_tt_tab\">Indices</a></div></div></div><main>\n",
      "<div class=\"a-section mojo-body aok-relative\"><div class=\"a-section a-spacing-none mojo-summary\"><div class=\"a-section mojo-heading-summary\"><div class=\"a-fixed-left-grid\"><div class=\"a-fixed-left-grid-inner\" style=\"padding-left:107px\"><div class=\"a-fixed-left-grid-col a-col-left\" style=\"width:107px;margin-left:-107px;float:left;\"><img alt=\"\" data-a-hires=\"https://m.media-amazon.com/images/M/MV5BMTQ0NjUzMDMyOF5BMl5BanBnXkFtZTgwODA1OTU0MDE@._V1_SY278_CR1,0,184,278_.jpg\" height=\"139\" src=\"https://m.media-amazon.com/images/M/MV5BMTQ0NjUzMDMyOF5BMl5BanBnXkFtZTgwODA1OTU0MDE@._V1_SY139_CR0,0,92,139_.jpg\" width=\"92\"/></div><div class=\"a-fixed-left-grid-col a-col-right\" style=\"padding-left:0%;float:left;\"><div class=\"a-section a-spacing-none\"><h1 class=\"a-size-extra-large\">The Big Lebowski<span class=\"a-size-large a-color-secondary\"> (1998)</span></h1><span class=\"a-size-medium\">Ultimate L.A. slacker Jeff \"The Dude\" Lebowski, mistaken for a millionaire of the same name, seeks restitution for a rug ruined by debt collectors, enlisting his bowling buddies for help while trying to find the millionaire's missing wife.</span></div></div></div></div></div><div class=\"a-section mojo-heading-pro-cta aok-float-right\">\n",
      "<div class=\"a-box\"><div class=\"a-box-inner\">\n",
      "<span class=\"imdb-pro-colored-logo\"></span>\n",
      "<br/>\n",
      "<a class=\"a-link-normal\" href=\"https://pro.imdb.com/title/tt0118715/cast?ref_=mojo_tt_cta_cast&amp;rf=mojo_tt_cta_cast\" rel=\"noopener\" target=\"_blank\">Cast information</a>\n",
      "<br/>\n",
      "<a class=\"a-link-normal\" href=\"https://pro.imdb.com/title/tt0118715/filmmakers?ref_=mojo_tt_cta_crew&amp;rf=mojo_tt_cta_crew\" rel=\"noopener\" target=\"_blank\">Crew information</a>\n",
      "<br/>\n",
      "<a class=\"a-link-normal\" href=\"https://pro.imdb.com/title/tt0118715/companycredits?ref_=mojo_tt_cta_co&amp;rf=mojo_tt_cta_co\" rel=\"noopener\" target=\"_blank\">Company information</a>\n",
      "<br/>\n",
      "<a class=\"a-link-normal\" href=\"https://pro.imdb.com/title/tt0118715/news?ref_=mojo_tt_cta_news&amp;rf=mojo_tt_cta_news\" rel=\"noopener\" target=\"_blank\">News</a>\n",
      "<br/>\n",
      "<a class=\"a-link-normal\" href=\"https://pro.imdb.com/title/tt0118715/boxoffice?ref_=mojo_tt_cta_bo&amp;rf=mojo_tt_cta_bo\" rel=\"noopener\" target=\"_blank\">Box office</a>\n",
      "<br/>\n",
      "<div class=\"a-popover-preload\" id=\"a-popover-genrePopover\">\n",
      "<a class=\"a-link-normal\" href=\"https://pro.imdb.com/boxoffice/genre/sg3739152641?ref_=mojo_tt_cta_genre&amp;rf=mojo_tt_cta_genre\" rel=\"noopener\" target=\"_blank\">Slacker</a>\n",
      "<br/>\n",
      "<a class=\"a-link-normal\" href=\"https://pro.imdb.com/boxoffice/genre/sg2178806017?ref_=mojo_tt_cta_genre&amp;rf=mojo_tt_cta_genre\" rel=\"noopener\" target=\"_blank\">Black Comedy</a>\n",
      "</div>\n",
      "<span class=\"a-declarative\" data-a-popover='{\"closeButton\":\"false\",\"dataStrategy\":\"preload\",\"name\":\"genrePopover\"}' data-action=\"a-popover\" data-csa-c-func-deps=\"aui-da-a-popover\" data-csa-c-type=\"widget\">\n",
      "<a class=\"a-popover-trigger a-declarative\" href=\"javascript:void(0)\" role=\"button\">\n",
      "<span>\n",
      "                            Genre keyword rankings\n",
      "                        </span>\n",
      "<i class=\"a-icon a-icon-popover\"></i></a>\n",
      "</span>\n",
      "</div></div>\n",
      "</div></div><div class=\"a-section mojo-title-release-refiner\"><div class=\"a-section a-spacing-none mojo-title-release-refiner-option\" id=\"title-summary-refiner\"><a class=\"a-link-normal mojo-title-link refiner-display-highlight\" href=\"/title/tt0118715/?ref_=bo_tt_ti\"><img height=\"18\" src=\"https://m.media-amazon.com/images/G/01/boxofficemojo/ic_summary_m._CB485936930_.png\" width=\"21\"/><span class=\"mojo-hidden-from-mobile\"> Title Summary</span></a></div><div class=\"a-section a-spacing-none mojo-title-release-refiner-option\" id=\"release-group-refiner\"><div class=\"a-section a-spacing-none mojo-dropdown-clear\"><form action=\"\" autocomplete=\"off\" class=\"a-spacing-none\" method=\"post\"><span class=\"a-dropdown-container\"><select autocomplete=\"off\" class=\"a-native-dropdown a-declarative\" data-action=\"a-dropdown-select\" id=\"releasegroup-picker-navSelector\" name=\"releasegroup-picker-navSelector\" tabindex=\"0\"><option value=\"/title/tt0118715/\">All Releases</option><option value=\"/releasegroup/gr3312079365/\">Original Release</option><option value=\"/releasegroup/gr3664400901/\">2018 Re-release</option><option value=\"/releasegroup/gr2561102341/\">2020 Re-release</option></select><span aria-hidden=\"true\" class=\"a-button a-button-dropdown refiner-display-highlight\" data-a-class=\"refiner-display-highlight\" tabindex=\"-1\"><span class=\"a-button-inner\"><span aria-hidden=\"true\" class=\"a-button-text a-declarative\" data-action=\"a-dropdown-button\" data-csa-c-func-deps=\"aui-da-a-dropdown-button\" data-csa-c-type=\"widget\" data-csa-interaction-events=\"click\"><span class=\"a-dropdown-prompt\"></span></span><i class=\"a-icon a-icon-dropdown\"></i></span></span></span></form></div></div></div><div class=\"a-section a-spacing-none mojo-gutter mojo-summary-table\"><div class=\"a-section a-spacing-none mojo-performance-summary\">\n",
      "<div class=\"a-section a-spacing-none mojo-performance-summary-table\">\n",
      "<h2 class=\"a-size-large a-text-bold\">\n",
      "                All Releases\n",
      "            </h2>\n",
      "<div class=\"a-section a-spacing-none\">\n",
      "<span class=\"a-size-small\">\n",
      "                        \n",
      "                            \n",
      "                                Domestic (<span class=\"percent\">38.6%</span>)\n",
      "                            \n",
      "                            \n",
      "                        \n",
      "                    </span>\n",
      "<br/>\n",
      "<span class=\"a-size-medium a-text-bold\">\n",
      "<span class=\"money\">$18,034,458</span>\n",
      "</span>\n",
      "</div>\n",
      "<div class=\"a-section a-spacing-none\">\n",
      "<span class=\"a-size-small\">\n",
      "                        \n",
      "                            \n",
      "                                International (<span class=\"percent\">61.4%</span>)\n",
      "                            \n",
      "                            \n",
      "                        \n",
      "                    </span>\n",
      "<br/>\n",
      "<span class=\"a-size-medium a-text-bold\">\n",
      "<span class=\"money\">$28,714,263</span>\n",
      "</span>\n",
      "</div>\n",
      "<div class=\"a-section a-spacing-none\">\n",
      "<span class=\"a-size-small\">\n",
      "                        \n",
      "                            \n",
      "                                Worldwide \n",
      "                            \n",
      "                            \n",
      "                        \n",
      "                    </span>\n",
      "<br/>\n",
      "<span class=\"a-size-medium a-text-bold\">\n",
      "<span class=\"money\">$46,748,721</span>\n",
      "</span>\n",
      "</div>\n",
      "</div>\n",
      "</div><div class=\"a-section a-spacing-top-base mojo-mobile-title-summary-pro-cta\">\n",
      "<div class=\"a-box\"><div class=\"a-box-inner\">\n",
      "<span class=\"imdb-pro-colored-logo\"></span>\n",
      "<br/>\n",
      "<a class=\"a-link-normal\" href=\"https://pro.imdb.com/title/tt0118715/cast?ref_=mojo_tt_cta_cast&amp;rf=mojo_tt_cta_cast\" rel=\"noopener\" target=\"_blank\">Cast information</a>\n",
      "<br/>\n",
      "<a class=\"a-link-normal\" href=\"https://pro.imdb.com/title/tt0118715/filmmakers?ref_=mojo_tt_cta_crew&amp;rf=mojo_tt_cta_crew\" rel=\"noopener\" target=\"_blank\">Crew information</a>\n",
      "<br/>\n",
      "<a class=\"a-link-normal\" href=\"https://pro.imdb.com/title/tt0118715/companycredits?ref_=mojo_tt_cta_co&amp;rf=mojo_tt_cta_co\" rel=\"noopener\" target=\"_blank\">Company information</a>\n",
      "<br/>\n",
      "<a class=\"a-link-normal\" href=\"https://pro.imdb.com/title/tt0118715/news?ref_=mojo_tt_cta_news&amp;rf=mojo_tt_cta_news\" rel=\"noopener\" target=\"_blank\">News</a>\n",
      "<br/>\n",
      "<a class=\"a-link-normal\" href=\"https://pro.imdb.com/title/tt0118715/boxoffice?ref_=mojo_tt_cta_bo&amp;rf=mojo_tt_cta_bo\" rel=\"noopener\" target=\"_blank\">Box office</a>\n",
      "<br/>\n",
      "<div class=\"a-popover-preload\" id=\"a-popover-genrePopover\">\n",
      "<a class=\"a-link-normal\" href=\"https://pro.imdb.com/boxoffice/genre/sg3739152641?ref_=mojo_tt_cta_genre&amp;rf=mojo_tt_cta_genre\" rel=\"noopener\" target=\"_blank\">Slacker</a>\n",
      "<br/>\n",
      "<a class=\"a-link-normal\" href=\"https://pro.imdb.com/boxoffice/genre/sg2178806017?ref_=mojo_tt_cta_genre&amp;rf=mojo_tt_cta_genre\" rel=\"noopener\" target=\"_blank\">Black Comedy</a>\n",
      "</div>\n",
      "<span class=\"a-declarative\" data-a-popover='{\"closeButton\":\"false\",\"dataStrategy\":\"preload\",\"name\":\"genrePopover\"}' data-action=\"a-popover\" data-csa-c-func-deps=\"aui-da-a-popover\" data-csa-c-type=\"widget\">\n",
      "<a class=\"a-popover-trigger a-declarative\" href=\"javascript:void(0)\" role=\"button\">\n",
      "<span>\n",
      "                            Genre keyword rankings\n",
      "                        </span>\n",
      "<i class=\"a-icon a-icon-popover\"></i></a>\n",
      "</span>\n",
      "</div></div>\n",
      "</div><div class=\"a-section a-spacing-none a-spacing-top-base mojo-discloser-button mojo-discloser with-icon mojo-hidden-from-widescreen\" data-target=\".mojo-summary-values\" id=\"mojo-summary-details-discloser\"><span>\n",
      "                Summary Details\n",
      "            </span></div><div class=\"a-section a-spacing-none mojo-summary-values mojo-hidden-from-mobile\"><div class=\"a-section a-spacing-none\"><span>Domestic Distributor</span><span>Gramercy Pictures (I)<br/><a class=\"a-size-small a-link-normal\" href=\"https://pro.imdb.com/company/co0018555/boxoffice/?ref_=mojo_tt_su&amp;rf=mojo_tt_su\" rel=\"noopener\" target=\"_blank\">See full company information<svg class=\"mojo-new-window-svg\" viewbox=\"0 0 32 32\" xmlns=\"http://www.w3.org/2000/svg\">\n",
      "<path d=\"M24,15.57251l3,3V23.5A3.50424,3.50424,0,0,1,23.5,27H8.5A3.50424,3.50424,0,0,1,5,23.5V8.5A3.50424,3.50424,0,0,1,8.5,5h4.92755l3,3H8.5a.50641.50641,0,0,0-.5.5v15a.50641.50641,0,0,0,.5.5h15a.50641.50641,0,0,0,.5-.5ZM19.81952,8.56372,12.8844,17.75a.49989.49989,0,0,0,.04547.65479l.66534.66528a.49983.49983,0,0,0,.65479.04553l9.18628-6.93518,2.12579,2.12585a.5.5,0,0,0,.84741-.27526l1.48273-9.35108a.50006.50006,0,0,0-.57214-.57214L17.969,5.59058a.5.5,0,0,0-.27526.84741Z\"></path>\n",
      "</svg></a></span></div><div class=\"a-section a-spacing-none\"><span>Domestic Opening</span><span><a class=\"a-link-normal\" href=\"/release/rl239568385/weekend?ref_=bo_tt_gr#table\"><span class=\"money\">$5,533,844</span></a></span></div><div class=\"a-section a-spacing-none\"><span>Earliest Release Date</span><span>March 6, 1998\n",
      "            (Domestic)</span></div><div class=\"a-section a-spacing-none\"><span>MPAA</span><span>R</span></div><div class=\"a-section a-spacing-none\"><span>Running Time</span><span>1 hr 57 min</span></div><div class=\"a-section a-spacing-none\"><span>Genres</span><span>Comedy\n",
      "    \n",
      "        Crime\n",
      "    \n",
      "        Sport</span></div><div class=\"a-section a-spacing-none\"><span>\n",
      "                        IMDbPro\n",
      "                    </span><span><a class=\"a-link-normal\" href=\"https://pro.imdb.com/title/tt0118715?ref_=mojo_tt_summary&amp;rf=mojo_tt_summary\" rel=\"noopener\" target=\"_blank\">See more details at IMDbPro<svg class=\"mojo-new-window-svg\" viewbox=\"0 0 32 32\" xmlns=\"http://www.w3.org/2000/svg\">\n",
      "<path d=\"M24,15.57251l3,3V23.5A3.50424,3.50424,0,0,1,23.5,27H8.5A3.50424,3.50424,0,0,1,5,23.5V8.5A3.50424,3.50424,0,0,1,8.5,5h4.92755l3,3H8.5a.50641.50641,0,0,0-.5.5v15a.50641.50641,0,0,0,.5.5h15a.50641.50641,0,0,0,.5-.5ZM19.81952,8.56372,12.8844,17.75a.49989.49989,0,0,0,.04547.65479l.66534.66528a.49983.49983,0,0,0,.65479.04553l9.18628-6.93518,2.12579,2.12585a.5.5,0,0,0,.84741-.27526l1.48273-9.35108a.50006.50006,0,0,0-.57214-.57214L17.969,5.59058a.5.5,0,0,0-.27526.84741Z\"></path>\n",
      "</svg></a></span></div></div></div><div class=\"mojo-link-bar-internal mojo-flex mojo-flex-h\" id=\"tabs\">\n",
      "<div class=\"mojo-tab-container\">\n",
      "<a class=\"a-size-base a-link-normal mojo-navigation-tab mojo-navigation-tab-active\" href=\"/title/tt0118715/?ref_=bo_tt_tab#tabs\">Performance</a><a class=\"a-size-base a-link-normal mojo-navigation-tab\" href=\"/title/tt0118715/credits/?ref_=bo_tt_tab#tabs\">Cast and Crew</a><div class=\"a-section mojo-disabled-tab\">All-Time Rankings</div><a class=\"a-size-base a-link-normal mojo-navigation-tab\" href=\"/title/tt0118715/news/?ref_=bo_tt_tab#tabs\">Related Stories</a><a class=\"a-size-base a-link-normal mojo-navigation-tab\" href=\"/title/tt0118715/similar/?ref_=bo_tt_tab#tabs\">Similar Movies</a></div>\n",
      "</div>\n",
      "<div class=\"a-section a-spacing-none a-spacing-top-base\"><div class=\"a-section mojo-gutter\"><div class=\"a-section mojo-h-scroll\"><h3 class=\"a-spacing-base\">By Release</h3><table class=\"a-bordered a-horizontal-stripes a-size-base-plus\"><tr><th>Release Group</th><th>Rollout</th><th>Markets</th><th class=\"a-text-right\">Domestic</th><th class=\"a-text-right\">International</th><th class=\"a-text-right\">Worldwide</th></tr><tr class=\"mojo-revenue-source-theatrical\"><td class=\"a-align-center\"><a class=\"a-link-normal\" href=\"/releasegroup/gr3312079365/?ref_=bo_tt_gr_1\">Original Release</a></td><td class=\"a-align-center\">March 6, 1998</td><td class=\"a-align-center\"><a class=\"a-link-normal\" href=\"/release/rl239568385/?ref_=bo_tt_gr_1\">Domestic</a></td><td class=\"a-text-right a-align-center\"><span class=\"money\">$17,451,873</span></td><td class=\"a-text-right a-align-center\"><span class=\"money\">$28,690,764</span></td><td class=\"a-text-right a-align-center\"><span class=\"money\">$46,142,637</span></td></tr><tr class=\"mojo-revenue-source-theatrical\"><td class=\"a-align-center\"><a class=\"a-link-normal\" href=\"/releasegroup/gr3664400901/?ref_=bo_tt_gr_2\">2018 Re-release</a></td><td class=\"a-align-center\">August 5-September 21, 2018</td><td class=\"a-align-center\"><a class=\"a-link-normal\" href=\"/releasegroup/gr3664400901/?ref_=bo_tt_gr_2\">Domestic, EMEA</a></td><td class=\"a-text-right a-align-center\"><span class=\"money\">$582,585</span></td><td class=\"a-text-right a-align-center\"><span class=\"money\">$10,247</span></td><td class=\"a-text-right a-align-center\"><span class=\"money\">$592,832</span></td></tr><tr class=\"mojo-revenue-source-theatrical\"><td class=\"a-align-center\"><a class=\"a-link-normal\" href=\"/releasegroup/gr2561102341/?ref_=bo_tt_gr_3\">2020 Re-release</a></td><td class=\"a-align-center\">August 27, 2020</td><td class=\"a-align-center\"><a class=\"a-link-normal\" href=\"/releasegroup/gr2561102341/?ref_=bo_tt_gr_3\">APAC</a></td><td class=\"a-text-right a-align-center\">\n",
      "        –\n",
      "    </td><td class=\"a-text-right a-align-center\"><span class=\"money\">$13,252</span></td><td class=\"a-text-right a-align-center\"><span class=\"money\">$13,252</span></td></tr></table><h3 class=\"a-spacing-base\">By Region</h3><table class=\"a-bordered a-horizontal-stripes a-size-base-plus\"><tr><th class=\"a-span5\">Domestic</th><th class=\"a-span2 a-text-right\"># Releases</th><th class=\"a-span3 a-text-right\">Lifetime Gross</th><th class=\"a-span2 a-text-right\">Rank</th></tr><tr><td>Domestic</td><td class=\"a-text-right\">2</td><td class=\"a-text-right\"><span class=\"money\">$18,034,458</span></td><td class=\"a-text-right\">3,775</td></tr></table><table class=\"a-bordered a-horizontal-stripes a-size-base-plus\"><tr><th class=\"a-span5\">APAC</th><th class=\"a-span2 a-text-right\"># Releases</th><th class=\"a-span3 a-text-right\">Lifetime Gross</th><th class=\"a-span2 a-text-right\">Rank</th></tr><tr><td>Australia</td><td class=\"a-text-right\">1</td><td class=\"a-text-right\"><span class=\"money\">$12,181</span></td><td class=\"a-text-right\">5,862</td></tr><tr><td>New Zealand</td><td class=\"a-text-right\">1</td><td class=\"a-text-right\"><span class=\"money\">$1,071</span></td><td class=\"a-text-right\">5,572</td></tr></table><table class=\"a-bordered a-horizontal-stripes a-size-base-plus\"><tr><th class=\"a-span5\">EMEA</th><th class=\"a-span2 a-text-right\"># Releases</th><th class=\"a-span3 a-text-right\">Lifetime Gross</th><th class=\"a-span2 a-text-right\">Rank</th></tr><tr><td>United Kingdom</td><td class=\"a-text-right\">1</td><td class=\"a-text-right\"><span class=\"money\">$10,247</span></td><td class=\"a-text-right\">7,096</td></tr></table></div></div></div></div></main>\n",
      "<div class=\"a-section a-spacing-none mojo-navigation-frame\"><div class=\"a-section a-spacing-none mojo-navigation mojo-footer\"><a class=\"a-link-normal imdb-pro-logo\" href=\"https://pro.imdb.com/?ref_=mojo_ft_tt_prologo&amp;rf=mojo_ft_tt_prologo\"></a><p>\n",
      "            Latest Updates:\n",
      "            <a class=\"a-link-normal\" href=\"/news/?ref_=bo_ft_tt_news\">News</a> |\n",
      "            <a class=\"a-link-normal\" href=\"/daily/?ref_=bo_ft_tt_daily\">Daily</a> |\n",
      "            <a class=\"a-link-normal\" href=\"/weekend/?ref_=bo_ft_tt_weekend\">Weekend</a> |\n",
      "            <a class=\"a-link-normal\" href=\"/charts/?ref_=bo_ft_tt_charts\">All Time</a> |\n",
      "            <a class=\"a-link-normal\" href=\"/intl/?ref_=bo_ft_tt_intl\">International</a> |\n",
      "            <a class=\"a-link-normal\" href=\"/showdown/?ref_=bo_ft_tt_showdown\">Showdowns</a></p><p class=\"mojo-help-row\"><a class=\"a-link-normal\" href=\"https://help.imdb.com/article/imdbpro/industry-research/box-office-by-imdbpro-glossary/GN8HA87MT4597FSW?ref_=mojo_ftr_glossary\" rel=\"noopener\" target=\"_blank\">Glossary</a>\n",
      "            |\n",
      "            <a class=\"a-link-normal\" href=\"https://help.imdb.com/article/imdbpro/industry-research/box-office-mojo-by-imdbpro-user-guide/GUHKUZRL7MQ5T5AZ?ref_=mojo_ftr_guide\" rel=\"noopener\" target=\"_blank\">User Guide</a>\n",
      "            |\n",
      "            <a class=\"a-link-normal\" href=\"https://help.imdb.com/article/imdbpro/industry-research/box-office-mojo-by-imdbpro-faq/GCWTV4MQKGWRAUAP?ref_=mojo_ftr_help\" rel=\"noopener\" target=\"_blank\">Help</a></p><p>\n",
      "            BoxOfficeMojo.com by IMDbPro - an\n",
      "            <a class=\"a-link-normal\" href=\"http://www.imdb.com/\" rel=\"noopener\" target=\"_blank\">IMDb</a>\n",
      "            company.\n",
      "        </p><p>\n",
      "            © IMDb.com, Inc. or its affiliates. All rights reserved.\n",
      "            Box Office Mojo and IMDb are trademarks or registered trademarks of IMDb.com, Inc. or its affiliates.\n",
      "            <a class=\"a-link-normal\" href=\"/conditions/?ref_=bo_ft_tt_conditions\">Conditions of Use</a>\n",
      "             and\n",
      "             <a class=\"a-link-normal\" href=\"/privacy/?ref_=bo_ft_tt_privacy\">Privacy Policy</a>\n",
      "            under which this service is provided to you.\n",
      "        </p></div></div></div></body></html>\n"
     ]
    }
   ],
   "source": [
    "print(soup)"
   ]
  },
  {
   "cell_type": "markdown",
   "metadata": {},
   "source": [
    "The `prettify` method turns the soup into a nicely formatted Unicode string with one tag on each line for readability."
   ]
  },
  {
   "cell_type": "code",
   "execution_count": 166,
   "metadata": {},
   "outputs": [
    {
     "name": "stdout",
     "output_type": "stream",
     "text": [
      "<!DOCTYPE html>\n",
      "<html class=\"a-no-js\" data-19ax5a9jf=\"dingo\">\n",
      " <head>\n",
      "  <script>\n",
      "   var aPageStart = (new Date()).getTime();\n",
      "  </script>\n",
      "  <meta charset=\"utf-8\"/>\n",
      "  <meta content=\"width=device-width, initial-scale=1.0\" name=\"viewport\"/>\n",
      "  <meta charset=\"utf-8\"/>\n",
      "  <title dir=\"ltr\">\n",
      "   The Big Lebowski - Box Office Mojo\n",
      "  </title>\n",
      "  <meta content=\"The Big Lebowski\" name=\"title\"/>\n",
      "  <meta content=\"Box Office Mojo\" property=\"og:site_name\"/>\n",
      "  <meta content=\"https://m.media-amazon.com/images/M/MV5BMTQ0NjUzMDMyOF5BMl5BanBnXkFtZTgwODA1OTU0MDE@._V1_SL1024_.jpg\" property=\"og:image\"/>\n",
      "  <meta content=\"telephone=no\" name=\"format-detection\"/>\n",
      "  <link href=\"https://m.media-amazon.com/images/G/01/boxofficemojo/v2/favicon._CB448965889_.ico\" rel=\"icon\" type=\"image/x-icon\"/>\n",
      "  <link href=\"https://www.boxofficemojo.com/title/tt0118715/\" rel=\"canonical\"/>\n",
      "  <link href=\"https://images-na.ssl-images-amazon.com/images/I/11EIQ5IGqaL._RC|01ZTHTZObnL.css,41JZEtDv4tL.css,31Y8m1dzTdL.css,013z33uKh2L.css,017DsKjNQJL.css,0131vqwP5UL.css,41EWOOlBJ9L.css,11TIuySqr6L.css,01ElnPiDxWL.css,11bGSgD5pDL.css,01Dm5eKVxwL.css,01IdKcBuAdL.css,01y-XAlI+2L.css,21N4kUH7pxL.css,01oDR3IULNL.css,41CYNGpGlrL.css,01XPHJk60-L.css,114y0SIP+yL.css,21aPhFy+riL.css,11gneA3MtJL.css,21fecG8pUzL.css,01ulGzBW88L.css,01CFUgsA-YL.css,31C80IiXalL.css,11qour3ND0L.css,11gKCCKQV+L.css,11061HxnEvL.css,11oHt2HYxnL.css,013RDhw9hoL.css,11JQtnL-6eL.css,116v6uYvN6L.css,11jtXRmppwL.css,01QrWuRrZ-L.css,21zuRztKjtL.css,11QyqG8yiqL.css,11K24eOJg4L.css,11F2+OBzLyL.css,11Y05DTEL6L.css,01cbS3UK11L.css,21F85am0yFL.css,01giMEP+djL.css_.css?AUIClients/AmazonUI#us.not-trident\" rel=\"stylesheet\"/>\n",
      "  <link href=\"https://images-na.ssl-images-amazon.com/images/I/51srj5W8PZL.css?AUIClients/IMDbMojoSiteAssets\" rel=\"stylesheet\"/>\n",
      "  <script>\n",
      "   (function(f,h,Q,E){function F(a){u&&u.tag&&u.tag(q(\":\",\"aui\",a))}function v(a,b){u&&u.count&&u.count(\"aui:\"+a,0===b?0:b||(u.count(\"aui:\"+a)||0)+1)}function m(a){try{return a.test(navigator.userAgent)}catch(b){return!1}}function x(a,b,c){a.addEventListener?a.addEventListener(b,c,!1):a.attachEvent&&a.attachEvent(\"on\"+b,c)}function q(a,b,c,e){b=b&&c?b+a+c:b||c;return e?q(a,b,e):b}function G(a,b,c){try{Object.defineProperty(a,b,{value:c,writable:!1})}catch(e){a[b]=c}return c}function ua(a,b,c){var e=\n",
      "c=a.length,g=function(){e--||(R.push(b),S||(setTimeout(ca,0),S=!0))};for(g();c--;)da[a[c]]?g():(z[a[c]]=z[a[c]]||[]).push(g)}function va(a,b,c,e,g){var d=h.createElement(a?\"script\":\"link\");x(d,\"error\",e);g&&x(d,\"load\",g);a?(d.type=\"text/javascript\",d.async=!0,c&&/AUIClients|images[/]I/.test(b)&&d.setAttribute(\"crossorigin\",\"anonymous\"),d.src=b):(d.rel=\"stylesheet\",d.href=b);h.getElementsByTagName(\"head\")[0].appendChild(d)}function ea(a,b){return function(c,e){function g(){va(b,c,d,function(b){T?v(\"resource_unload\"):\n",
      "d?(d=!1,v(\"resource_retry\"),g()):(v(\"resource_error\"),a.log(\"Asset failed to load: \"+c));b&&b.stopPropagation?b.stopPropagation():f.event&&(f.event.cancelBubble=!0)},e)}if(fa[c])return!1;fa[c]=!0;v(\"resource_count\");var d=!0;return!g()}}function wa(a,b,c){for(var e={name:a,guard:function(c){return b.guardFatal(a,c)},guardTime:function(a){return b.guardTime(a)},logError:function(c,d,e){b.logError(c,d,e,a)}},g=[],d=0;d<c.length;d++)H.hasOwnProperty(c[d])&&(g[d]=U.hasOwnProperty(c[d])?U[c[d]](H[c[d]],\n",
      "e):H[c[d]]);return g}function A(a,b,c,e,g){return function(d,h){function n(){var a=null;e?a=h:\"function\"===typeof h&&(p.start=w(),a=h.apply(f,wa(d,k,l)),p.end=w());if(b){H[d]=a;a=d;for(da[a]=!0;(z[a]||[]).length;)z[a].shift()();delete z[a]}p.done=!0}var k=g||this;\"function\"===typeof d&&(h=d,d=E);b&&(d=d?d.replace(ha,\"\"):\"__NONAME__\",V.hasOwnProperty(d)&&k.error(q(\", reregistered by \",q(\" by \",d+\" already registered\",V[d]),k.attribution),d),V[d]=k.attribution);for(var l=[],m=0;m<a.length;m++)l[m]=\n",
      "a[m].replace(ha,\"\");var p=B[d||\"anon\"+ ++xa]={depend:l,registered:w(),namespace:k.namespace};d&&ya.hasOwnProperty(d);c?n():ua(l,k.guardFatal(d,n),d);return{decorate:function(a){U[d]=k.guardFatal(d,a)}}}}function ia(a){return function(){var b=Array.prototype.slice.call(arguments);return{execute:A(b,!1,a,!1,this),register:A(b,!0,a,!1,this)}}}function W(a,b){return function(c,e){e||(e=c,c=E);var g=this.attribution;return function(){t.push(b||{attribution:g,name:c,logLevel:a});var d=e.apply(this,arguments);\n",
      "t.pop();return d}}}function I(a,b){this.load={js:ea(this,!0),css:ea(this)};G(this,\"namespace\",b);G(this,\"attribution\",a)}function ja(){h.body?r.trigger(\"a-bodyBegin\"):setTimeout(ja,20)}function C(a,b){a.className=X(a,b)+\" \"+b}function X(a,b){return(\" \"+a.className+\" \").split(\" \"+b+\" \").join(\" \").replace(/^ | $/g,\"\")}function ka(a){try{return a()}catch(b){return!1}}function J(){if(K){var a={w:f.innerWidth||n.clientWidth,h:f.innerHeight||n.clientHeight};5<Math.abs(a.w-Y.w)||50<a.h-Y.h?(Y=a,L=4,(a=k.mobile||\n",
      "k.tablet?450<a.w&&a.w>a.h:1250<=a.w)?C(n,\"a-ws\"):n.className=X(n,\"a-ws\")):0<L&&(L--,la=setTimeout(J,16))}}function za(a){(K=a===E?!K:!!a)&&J()}function Aa(){return K}function ma(){D.forEach(function(a){F(a)})}function na(a,b,c){if(b){a=m(/Chrome/i)&&!m(/Edge/i)&&!m(/OPR/i)&&!a.capabilities.isAmazonApp&&!m(new RegExp(Z+\"bwv\"+Z+\"b\"));var e=\"sw:browser:\"+c+\":\";b.browser&&a&&(D.push(e+\"supported\"),b.browser.action(e,c));!a&&b.browser&&D.push(e+\"unsupported\")}}\"use strict\";var M=Q.now=Q.now||function(){return+new Q},\n",
      "w=function(a){return a&&a.now?a.now.bind(a):M}(f.performance),N=w(),ya={},p=f.AmazonUIPageJS||f.P;if(p&&p.when&&p.register){N=[];for(var l=h.currentScript;l;l=l.parentElement)l.id&&N.push(l.id);return p.log(\"A copy of P has already been loaded on this page.\",\"FATAL\",N.join(\" \"))}var u=f.ue;F();F(\"aui_build_date:3.21.8-2021-11-07\");var R=[],Ba=[],S=!1;var ca=function(){for(var a=setTimeout(ca,0),b=M();Ba.length||R.length;)if(R.shift()(),50<M()-b)return;clearTimeout(a);S=!1};var da={},z={},fa={},T=\n",
      "!1;x(f,\"beforeunload\",function(){T=!0;setTimeout(function(){T=!1},1E4)});var ha=/^prv:/,V={},H={},U={},B={},xa=0,Z=String.fromCharCode(92),t=[],oa=!0,pa=f.onerror;f.onerror=function(a,b,c,e,g){g&&\"object\"===typeof g||(g=Error(a,b,c),g.columnNumber=e,g.stack=b||c||e?q(Z,g.message,\"at \"+q(\":\",b,c,e)):E);var d=t.pop()||{};g.attribution=q(\":\",g.attribution||d.attribution,d.name);g.logLevel=d.logLevel;g.attribution&&console&&console.log&&console.log([g.logLevel||\"ERROR\",a,\"thrown by\",g.attribution].join(\" \"));\n",
      "t=[];pa&&(d=[].slice.call(arguments),d[4]=g,pa.apply(f,d))};I.prototype={logError:function(a,b,c,e){b={message:b,logLevel:c||\"ERROR\",attribution:q(\":\",this.attribution,e)};if(f.ueLogError)return f.ueLogError(a||b,a?b:null),!0;console&&console.error&&(console.log(b),console.error(a));return!1},error:function(a,b,c,e){a=Error(q(\":\",e,a,c));a.attribution=q(\":\",this.attribution,b);throw a;},guardError:W(),guardFatal:W(\"FATAL\"),guardCurrent:function(a){var b=t[t.length-1];return b?W(b.logLevel,b).call(this,\n",
      "a):a},guardTime:function(a){var b=t[t.length-1],c=b&&b.name;return c&&c in B?function(){var b=w(),g=a.apply(this,arguments);B[c].async=(B[c].async||0)+w()-b;return g}:a},log:function(a,b,c){return this.logError(null,a,b,c)},declare:A([],!0,!0,!0),register:A([],!0),execute:A([]),AUI_BUILD_DATE:\"3.21.8-2021-11-07\",when:ia(),now:ia(!0),trigger:function(a,b,c){var e=M();this.declare(a,{data:b,pageElapsedTime:e-(f.aPageStart||NaN),triggerTime:e});c&&c.instrument&&O.when(\"prv:a-logTrigger\").execute(function(b){b(a)})},\n",
      "handleTriggers:function(){this.log(\"handleTriggers deprecated\")},attributeErrors:function(a){return new I(a)},_namespace:function(a,b){return new I(a,b)},setPriority:function(a){oa?oa=!1:this.log(\"setPriority only accept the first call.\")}};var r=G(f,\"AmazonUIPageJS\",new I);var O=r._namespace(\"PageJS\",\"AmazonUI\");O.declare(\"prv:p-debug\",B);r.declare(\"p-recorder-events\",[]);r.declare(\"p-recorder-stop\",function(){});G(f,\"P\",r);ja();if(h.addEventListener){var qa;h.addEventListener(\"DOMContentLoaded\",\n",
      "qa=function(){r.trigger(\"a-domready\");h.removeEventListener(\"DOMContentLoaded\",qa,!1)},!1)}var n=h.documentElement,aa=function(){var a=[\"O\",\"ms\",\"Moz\",\"Webkit\"],b=h.createElement(\"div\");return{testGradients:function(){return!0},test:function(c){var e=c.charAt(0).toUpperCase()+c.substr(1);c=(a.join(e+\" \")+e+\" \"+c).split(\" \");for(e=c.length;e--;)if(\"\"===b.style[c[e]])return!0;return!1},testTransform3d:function(){return!0}}}();p=n.className;var ra=/(^| )a-mobile( |$)/.test(p),sa=/(^| )a-tablet( |$)/.test(p),\n",
      "k={audio:function(){return!!h.createElement(\"audio\").canPlayType},video:function(){return!!h.createElement(\"video\").canPlayType},canvas:function(){return!!h.createElement(\"canvas\").getContext},svg:function(){return!!h.createElementNS&&!!h.createElementNS(\"http://www.w3.org/2000/svg\",\"svg\").createSVGRect},offline:function(){return navigator.hasOwnProperty&&navigator.hasOwnProperty(\"onLine\")&&navigator.onLine},dragDrop:function(){return\"draggable\"in h.createElement(\"span\")},geolocation:function(){return!!navigator.geolocation},\n",
      "history:function(){return!(!f.history||!f.history.pushState)},webworker:function(){return!!f.Worker},autofocus:function(){return\"autofocus\"in h.createElement(\"input\")},inputPlaceholder:function(){return\"placeholder\"in h.createElement(\"input\")},textareaPlaceholder:function(){return\"placeholder\"in h.createElement(\"textarea\")},localStorage:function(){return\"localStorage\"in f&&null!==f.localStorage},orientation:function(){return\"orientation\"in f},touch:function(){return\"ontouchend\"in h},gradients:function(){return aa.testGradients()},\n",
      "hires:function(){var a=f.devicePixelRatio&&1.5<=f.devicePixelRatio||f.matchMedia&&f.matchMedia(\"(min-resolution:144dpi)\").matches;v(\"hiRes\"+(ra?\"Mobile\":sa?\"Tablet\":\"Desktop\"),a?1:0);return a},transform3d:function(){return aa.testTransform3d()},touchScrolling:function(){return m(/Windowshop|android|OS ([5-9]|[1-9][0-9]+)(_[0-9]{1,2})+ like Mac OS X|SOFTWARE=([5-9]|[1-9][0-9]+)(.[0-9]{1,2})+.*DEVICE=iPhone|Chrome|Silk|Firefox|Trident.+?; Touch/i)},ios:function(){return m(/OS [1-9][0-9]*(_[0-9]*)+ like Mac OS X/i)&&\n",
      "!m(/trident|Edge/i)},android:function(){return m(/android.([1-9]|[L-Z])/i)&&!m(/trident|Edge/i)},mobile:function(){return ra},tablet:function(){return sa},rtl:function(){return\"rtl\"===n.dir}};for(l in k)k.hasOwnProperty(l)&&(k[l]=ka(k[l]));for(var ba=\"textShadow textStroke boxShadow borderRadius borderImage opacity transform transition\".split(\" \"),P=0;P<ba.length;P++)k[ba[P]]=ka(function(){return aa.test(ba[P])});var K=!0,la=0,Y={w:0,h:0},L=4;J();x(f,\"resize\",function(){clearTimeout(la);L=4;J()});\n",
      "var ta={getItem:function(a){try{return f.localStorage.getItem(a)}catch(b){}},setItem:function(a,b){try{return f.localStorage.setItem(a,b)}catch(c){}}};n.className=X(n,\"a-no-js\");C(n,\"a-js\");!m(/OS [1-8](_[0-9]*)+ like Mac OS X/i)||f.navigator.standalone||m(/safari/i)||C(n,\"a-ember\");p=[];for(l in k)k.hasOwnProperty(l)&&k[l]&&p.push(\"a-\"+l.replace(/([A-Z])/g,function(a){return\"-\"+a.toLowerCase()}));C(n,p.join(\" \"));n.setAttribute(\"data-aui-build-date\",\"3.21.8-2021-11-07\");r.register(\"p-detect\",function(){return{capabilities:k,\n",
      "localStorage:k.localStorage&&ta,toggleResponsiveGrid:za,responsiveGridEnabled:Aa}});m(/UCBrowser/i)||k.localStorage&&C(n,ta.getItem(\"a-font-class\"));r.declare(\"a-event-revised-handling\",!1);try{var y=navigator.serviceWorker}catch(a){F(\"sw:nav_err\")}y&&(x(y,\"message\",function(a){a&&a.data&&v(a.data.k,a.data.v)}),y.controller&&y.controller.postMessage(\"MSG-RDY\"));var D=[];(function(a){var b=a.reg,c=a.unreg;y&&y.getRegistrations?(O.when(\"A\").execute(function(a){na(a,c,\"unregister\")}),x(f,\"load\",function(){O.when(\"A\").execute(function(a){na(a,\n",
      "b,\"register\");ma()})})):(b&&b.browser&&D.push(\"sw:browser:register:unsupported\"),c&&c.browser&&D.push(\"sw:browser:unregister:unsupported\"),ma())})({reg:{},unreg:{}});r.declare(\"a-fix-event-off\",!1);v(\"pagejs:pkgExecTime\",w()-N)})(window,document,Date);\n",
      "  (window.AmazonUIPageJS ? AmazonUIPageJS : P).load.js('https://images-na.ssl-images-amazon.com/images/I/61XKxrBtDVL._RC|11Y+5x+kkTL.js,51106gSDnJL.js,11yKORv-GTL.js,11giXtZCwVL.js,01+z+uIeJ-L.js,01VRMV3FBdL.js,21SDJtBU-PL.js,012FVc3131L.js,11rRjDLdAVL.js,51H19hJRYrL.js,11kWu3cNjYL.js,11tMohjWmVL.js,11OREnu1epL.js,11wcWdhrnDL.js,21ssiLNIZvL.js,0190vxtlzcL.js,511VNbag2QL.js,01JYHc2oIlL.js,31ask0y-LBL.js,01ezj5Rkz1L.js,11+RxVdhNcL.js,31o2NGTXThL.js,01rpauTep4L.js,01KtgHDa97L.js_.js?AUIClients/AmazonUI');\n",
      "  (window.AmazonUIPageJS ? AmazonUIPageJS : P).load.js('https://images-na.ssl-images-amazon.com/images/I/51e5MYYGiWL.js?AUIClients/IMDbMojoSiteAssets');\n",
      "  </script>\n",
      " </head>\n",
      " <body class=\"mojo-page-id-tt a-m-us a-aui_72554-c a-aui_accordion_a11y_role_354025-c a-aui_killswitch_csa_logger_372963-c a-aui_pci_risk_banner_210084-c a-aui_preload_261698-c a-aui_rel_noreferrer_noopener_309527-c a-aui_template_weblab_cache_333406-c a-aui_tnr_v2_180836-c\" id=\"body\">\n",
      "  <div id=\"a-page\">\n",
      "   <script data-a-state='{\"key\":\"a-wlab-states\"}' type=\"a-state\">\n",
      "    {}\n",
      "   </script>\n",
      "   <!-- Use of this pixel is subject to the Amazon ad specs and policies at http://www.amazon.com/b/?&node=7253015011 -->\n",
      "   <img alt=\"\" border=\"0\" height=\"1\" src=\"https://s.amazon-adsystem.com/iui3?d=forester-did&amp;ex-fargs=%3Fid%3D5739f49d-12d9-2181-1dfd-446548cd0628%26type%3DUNKNOWN%26m%3D1&amp;ex-fch=416613&amp;ex-src=https://www.boxofficemojo.com/&amp;ex-hargs=v%3D1.0%3Bc%3D6983157497419%3Bp%3D5739F49D-12D9-2181-1DFD-446548CD0628\" width=\"1\"/>\n",
      "   <div class=\"a-section a-spacing-none mojo-navigation mojo-header mojo-flex mojo-flex-h\">\n",
      "    <div class=\"a-section mojo-logo\">\n",
      "     <a class=\"a-link-normal\" href=\"/?ref_=bo_nb_tt_mojologo\">\n",
      "     </a>\n",
      "    </div>\n",
      "    <div class=\"a-section a-spacing-none mojo-nav-elements mojo-flex mojo-flex-h mojo-flex-1\">\n",
      "     <div class=\"a-section a-spacing-none mojo-search-bar mojo-flex mojo-flex-h\">\n",
      "      <div class=\"a-section a-spacing-none mojo-search\">\n",
      "       <form action=\"/search/\">\n",
      "        <input id=\"mojo-search-text-input\" name=\"q\" placeholder=\"Search for Titles\" required=\"true\" type=\"search\" value=\"\"/>\n",
      "        <input class=\"mojo-inline-button\" id=\"mojo-search-button\" type=\"submit\" value=\"\"/>\n",
      "       </form>\n",
      "      </div>\n",
      "     </div>\n",
      "     <div class=\"a-section a-spacing-none mojo-mobile-options\">\n",
      "      <span class=\"a-declarative\" data-a-popover='{\"closeButton\":\"false\",\"inlineContent\":\"\\u003cspan class=\\\"a-size-medium\\\"&gt;\\u003ca href=\\\"https://pro.imdb.com/?ref_=mojo_nb_tt_pro&amp;amp;rf=mojo_nb_tt_pro\\\" class=\\\"a-touch-link a-box a-touch-link-noborder\\\"&gt;\\u003cdiv class=\\\"a-box-inner\\\"&gt;\\u003ci class=\\\"a-icon a-icon-touch-link\\\"&gt;\\u003c\\/i&gt;IMDbPro\\u003c\\/div&gt;\\u003c\\/a&gt;\\u003ca href=\\\"https://www.facebook.com/BoxOfficeMojo/\\\" class=\\\"a-touch-link a-box a-touch-link-noborder\\\"&gt;\\u003cdiv class=\\\"a-box-inner\\\"&gt;\\u003ci class=\\\"a-icon a-icon-touch-link\\\"&gt;\\u003c\\/i&gt;Facebook\\u003c\\/div&gt;\\u003c\\/a&gt;\\u003ca href=\\\"https://twitter.com/boxofficemojo\\\" class=\\\"a-touch-link a-box a-touch-link-noborder\\\"&gt;\\u003cdiv class=\\\"a-box-inner\\\"&gt;\\u003ci class=\\\"a-icon a-icon-touch-link\\\"&gt;\\u003c\\/i&gt;Twitter\\u003c\\/div&gt;\\u003c\\/a&gt;\\u003ca href=\\\"https://help.imdb.com/article/imdbpro/industry-research/box-office-mojo-by-imdbpro-faq/GCWTV4MQKGWRAUAP?ref_=mojo_ftr_help\\\" class=\\\"a-touch-link a-box a-touch-link-noborder\\\"&gt;\\u003cdiv class=\\\"a-box-inner\\\"&gt;\\u003ci class=\\\"a-icon a-icon-touch-link\\\"&gt;\\u003c\\/i&gt;Help\\u003c\\/div&gt;\\u003c\\/a&gt;\\u003c\\/span&gt;\"}' data-action=\"a-popover\" data-csa-c-func-deps=\"aui-da-a-popover\" data-csa-c-type=\"widget\">\n",
      "       <a class=\"a-popover-trigger a-declarative\" href=\"javascript:void(0)\" role=\"button\">\n",
      "        <span class=\"mobile-menu-popover-trigger\">\n",
      "        </span>\n",
      "        <i class=\"a-icon a-icon-popover\">\n",
      "        </i>\n",
      "       </a>\n",
      "      </span>\n",
      "     </div>\n",
      "     <div class=\"a-section a-spacing-none mojo-options mojo-flex\">\n",
      "      <div class=\"a-popover-preload\" id=\"a-popover-mojoRollover\">\n",
      "       <a class=\"a-link-normal mojo-rollover-image\" href=\"https://pro.imdb.com/login/ap?u=%2Flogin%2Flwa&amp;imdbPageAction=signUp&amp;ref_=mojo_nb_tt_rollover&amp;rf=mojo_nb_tt_rollover\">\n",
      "        <img alt=\"\" src=\"https://m.media-amazon.com/images/G/01/IMDbPro/images/dropbox/MI_NB_011321_NYNY2021_mojo.png\"/>\n",
      "       </a>\n",
      "      </div>\n",
      "      <span class=\"a-declarative\" data-a-popover='{\"padding\":\"none\",\"closeButton\":\"false\",\"dataStrategy\":\"preload\",\"name\":\"mojoRollover\",\"width\":\"500\",\"position\":\"triggerBottom\",\"height\":\"200\"}' data-action=\"a-popover\" data-csa-c-func-deps=\"aui-da-a-popover\" data-csa-c-type=\"widget\">\n",
      "       <a class=\"a-popover-trigger a-declarative\" href=\"javascript:void(0)\" role=\"button\">\n",
      "        <span class=\"imdb-pro-logo\">\n",
      "        </span>\n",
      "        <i class=\"a-icon a-icon-popover\">\n",
      "        </i>\n",
      "       </a>\n",
      "      </span>\n",
      "      <span class=\"mojo-logo-delimiter\">\n",
      "      </span>\n",
      "      <a class=\"a-link-normal mojo-fb-logo\" href=\"https://www.facebook.com/BoxOfficeMojo/\" rel=\"noopener\" target=\"_blank\">\n",
      "      </a>\n",
      "      <a class=\"a-link-normal mojo-tw-logo\" href=\"https://twitter.com/boxofficemojo\" rel=\"noopener\" target=\"_blank\">\n",
      "      </a>\n",
      "     </div>\n",
      "    </div>\n",
      "    <div class=\"a-section a-spacing-none mojo-link-bar mojo-flex mojo-flex-h\">\n",
      "     <div class=\"a-section a-spacing-none mojo-tab-container\">\n",
      "      <a class=\"a-size-medium a-link-normal mojo-navigation-tab\" href=\"/date/?ref_=bo_nb_tt_tab\">\n",
      "       Domestic\n",
      "      </a>\n",
      "      <a class=\"a-size-medium a-link-normal mojo-navigation-tab\" href=\"/intl/?ref_=bo_nb_tt_tab\">\n",
      "       International\n",
      "      </a>\n",
      "      <a class=\"a-size-medium a-link-normal mojo-navigation-tab\" href=\"/year/world/?ref_=bo_nb_tt_tab\">\n",
      "       Worldwide\n",
      "      </a>\n",
      "      <a class=\"a-size-medium a-link-normal mojo-navigation-tab\" href=\"/calendar/?ref_=bo_nb_tt_tab\">\n",
      "       Calendar\n",
      "      </a>\n",
      "      <a class=\"a-size-medium a-link-normal mojo-navigation-tab\" href=\"/charts/overall/?ref_=bo_nb_tt_tab\">\n",
      "       All Time\n",
      "      </a>\n",
      "      <a class=\"a-size-medium a-link-normal mojo-navigation-tab\" href=\"/showdown/?ref_=bo_nb_tt_tab\">\n",
      "       Showdowns\n",
      "      </a>\n",
      "      <a class=\"a-size-medium a-link-normal mojo-navigation-tab\" href=\"/brand/?ref_=bo_nb_tt_tab\">\n",
      "       Indices\n",
      "      </a>\n",
      "     </div>\n",
      "    </div>\n",
      "   </div>\n",
      "   <main>\n",
      "    <div class=\"a-section mojo-body aok-relative\">\n",
      "     <div class=\"a-section a-spacing-none mojo-summary\">\n",
      "      <div class=\"a-section mojo-heading-summary\">\n",
      "       <div class=\"a-fixed-left-grid\">\n",
      "        <div class=\"a-fixed-left-grid-inner\" style=\"padding-left:107px\">\n",
      "         <div class=\"a-fixed-left-grid-col a-col-left\" style=\"width:107px;margin-left:-107px;float:left;\">\n",
      "          <img alt=\"\" data-a-hires=\"https://m.media-amazon.com/images/M/MV5BMTQ0NjUzMDMyOF5BMl5BanBnXkFtZTgwODA1OTU0MDE@._V1_SY278_CR1,0,184,278_.jpg\" height=\"139\" src=\"https://m.media-amazon.com/images/M/MV5BMTQ0NjUzMDMyOF5BMl5BanBnXkFtZTgwODA1OTU0MDE@._V1_SY139_CR0,0,92,139_.jpg\" width=\"92\"/>\n",
      "         </div>\n",
      "         <div class=\"a-fixed-left-grid-col a-col-right\" style=\"padding-left:0%;float:left;\">\n",
      "          <div class=\"a-section a-spacing-none\">\n",
      "           <h1 class=\"a-size-extra-large\">\n",
      "            The Big Lebowski\n",
      "            <span class=\"a-size-large a-color-secondary\">\n",
      "             (1998)\n",
      "            </span>\n",
      "           </h1>\n",
      "           <span class=\"a-size-medium\">\n",
      "            Ultimate L.A. slacker Jeff \"The Dude\" Lebowski, mistaken for a millionaire of the same name, seeks restitution for a rug ruined by debt collectors, enlisting his bowling buddies for help while trying to find the millionaire's missing wife.\n",
      "           </span>\n",
      "          </div>\n",
      "         </div>\n",
      "        </div>\n",
      "       </div>\n",
      "      </div>\n",
      "      <div class=\"a-section mojo-heading-pro-cta aok-float-right\">\n",
      "       <div class=\"a-box\">\n",
      "        <div class=\"a-box-inner\">\n",
      "         <span class=\"imdb-pro-colored-logo\">\n",
      "         </span>\n",
      "         <br/>\n",
      "         <a class=\"a-link-normal\" href=\"https://pro.imdb.com/title/tt0118715/cast?ref_=mojo_tt_cta_cast&amp;rf=mojo_tt_cta_cast\" rel=\"noopener\" target=\"_blank\">\n",
      "          Cast information\n",
      "         </a>\n",
      "         <br/>\n",
      "         <a class=\"a-link-normal\" href=\"https://pro.imdb.com/title/tt0118715/filmmakers?ref_=mojo_tt_cta_crew&amp;rf=mojo_tt_cta_crew\" rel=\"noopener\" target=\"_blank\">\n",
      "          Crew information\n",
      "         </a>\n",
      "         <br/>\n",
      "         <a class=\"a-link-normal\" href=\"https://pro.imdb.com/title/tt0118715/companycredits?ref_=mojo_tt_cta_co&amp;rf=mojo_tt_cta_co\" rel=\"noopener\" target=\"_blank\">\n",
      "          Company information\n",
      "         </a>\n",
      "         <br/>\n",
      "         <a class=\"a-link-normal\" href=\"https://pro.imdb.com/title/tt0118715/news?ref_=mojo_tt_cta_news&amp;rf=mojo_tt_cta_news\" rel=\"noopener\" target=\"_blank\">\n",
      "          News\n",
      "         </a>\n",
      "         <br/>\n",
      "         <a class=\"a-link-normal\" href=\"https://pro.imdb.com/title/tt0118715/boxoffice?ref_=mojo_tt_cta_bo&amp;rf=mojo_tt_cta_bo\" rel=\"noopener\" target=\"_blank\">\n",
      "          Box office\n",
      "         </a>\n",
      "         <br/>\n",
      "         <div class=\"a-popover-preload\" id=\"a-popover-genrePopover\">\n",
      "          <a class=\"a-link-normal\" href=\"https://pro.imdb.com/boxoffice/genre/sg3739152641?ref_=mojo_tt_cta_genre&amp;rf=mojo_tt_cta_genre\" rel=\"noopener\" target=\"_blank\">\n",
      "           Slacker\n",
      "          </a>\n",
      "          <br/>\n",
      "          <a class=\"a-link-normal\" href=\"https://pro.imdb.com/boxoffice/genre/sg2178806017?ref_=mojo_tt_cta_genre&amp;rf=mojo_tt_cta_genre\" rel=\"noopener\" target=\"_blank\">\n",
      "           Black Comedy\n",
      "          </a>\n",
      "         </div>\n",
      "         <span class=\"a-declarative\" data-a-popover='{\"closeButton\":\"false\",\"dataStrategy\":\"preload\",\"name\":\"genrePopover\"}' data-action=\"a-popover\" data-csa-c-func-deps=\"aui-da-a-popover\" data-csa-c-type=\"widget\">\n",
      "          <a class=\"a-popover-trigger a-declarative\" href=\"javascript:void(0)\" role=\"button\">\n",
      "           <span>\n",
      "            Genre keyword rankings\n",
      "           </span>\n",
      "           <i class=\"a-icon a-icon-popover\">\n",
      "           </i>\n",
      "          </a>\n",
      "         </span>\n",
      "        </div>\n",
      "       </div>\n",
      "      </div>\n",
      "     </div>\n",
      "     <div class=\"a-section mojo-title-release-refiner\">\n",
      "      <div class=\"a-section a-spacing-none mojo-title-release-refiner-option\" id=\"title-summary-refiner\">\n",
      "       <a class=\"a-link-normal mojo-title-link refiner-display-highlight\" href=\"/title/tt0118715/?ref_=bo_tt_ti\">\n",
      "        <img height=\"18\" src=\"https://m.media-amazon.com/images/G/01/boxofficemojo/ic_summary_m._CB485936930_.png\" width=\"21\"/>\n",
      "        <span class=\"mojo-hidden-from-mobile\">\n",
      "         Title Summary\n",
      "        </span>\n",
      "       </a>\n",
      "      </div>\n",
      "      <div class=\"a-section a-spacing-none mojo-title-release-refiner-option\" id=\"release-group-refiner\">\n",
      "       <div class=\"a-section a-spacing-none mojo-dropdown-clear\">\n",
      "        <form action=\"\" autocomplete=\"off\" class=\"a-spacing-none\" method=\"post\">\n",
      "         <span class=\"a-dropdown-container\">\n",
      "          <select autocomplete=\"off\" class=\"a-native-dropdown a-declarative\" data-action=\"a-dropdown-select\" id=\"releasegroup-picker-navSelector\" name=\"releasegroup-picker-navSelector\" tabindex=\"0\">\n",
      "           <option value=\"/title/tt0118715/\">\n",
      "            All Releases\n",
      "           </option>\n",
      "           <option value=\"/releasegroup/gr3312079365/\">\n",
      "            Original Release\n",
      "           </option>\n",
      "           <option value=\"/releasegroup/gr3664400901/\">\n",
      "            2018 Re-release\n",
      "           </option>\n",
      "           <option value=\"/releasegroup/gr2561102341/\">\n",
      "            2020 Re-release\n",
      "           </option>\n",
      "          </select>\n",
      "          <span aria-hidden=\"true\" class=\"a-button a-button-dropdown refiner-display-highlight\" data-a-class=\"refiner-display-highlight\" tabindex=\"-1\">\n",
      "           <span class=\"a-button-inner\">\n",
      "            <span aria-hidden=\"true\" class=\"a-button-text a-declarative\" data-action=\"a-dropdown-button\" data-csa-c-func-deps=\"aui-da-a-dropdown-button\" data-csa-c-type=\"widget\" data-csa-interaction-events=\"click\">\n",
      "             <span class=\"a-dropdown-prompt\">\n",
      "             </span>\n",
      "            </span>\n",
      "            <i class=\"a-icon a-icon-dropdown\">\n",
      "            </i>\n",
      "           </span>\n",
      "          </span>\n",
      "         </span>\n",
      "        </form>\n",
      "       </div>\n",
      "      </div>\n",
      "     </div>\n",
      "     <div class=\"a-section a-spacing-none mojo-gutter mojo-summary-table\">\n",
      "      <div class=\"a-section a-spacing-none mojo-performance-summary\">\n",
      "       <div class=\"a-section a-spacing-none mojo-performance-summary-table\">\n",
      "        <h2 class=\"a-size-large a-text-bold\">\n",
      "         All Releases\n",
      "        </h2>\n",
      "        <div class=\"a-section a-spacing-none\">\n",
      "         <span class=\"a-size-small\">\n",
      "          Domestic (\n",
      "          <span class=\"percent\">\n",
      "           38.6%\n",
      "          </span>\n",
      "          )\n",
      "         </span>\n",
      "         <br/>\n",
      "         <span class=\"a-size-medium a-text-bold\">\n",
      "          <span class=\"money\">\n",
      "           $18,034,458\n",
      "          </span>\n",
      "         </span>\n",
      "        </div>\n",
      "        <div class=\"a-section a-spacing-none\">\n",
      "         <span class=\"a-size-small\">\n",
      "          International (\n",
      "          <span class=\"percent\">\n",
      "           61.4%\n",
      "          </span>\n",
      "          )\n",
      "         </span>\n",
      "         <br/>\n",
      "         <span class=\"a-size-medium a-text-bold\">\n",
      "          <span class=\"money\">\n",
      "           $28,714,263\n",
      "          </span>\n",
      "         </span>\n",
      "        </div>\n",
      "        <div class=\"a-section a-spacing-none\">\n",
      "         <span class=\"a-size-small\">\n",
      "          Worldwide\n",
      "         </span>\n",
      "         <br/>\n",
      "         <span class=\"a-size-medium a-text-bold\">\n",
      "          <span class=\"money\">\n",
      "           $46,748,721\n",
      "          </span>\n",
      "         </span>\n",
      "        </div>\n",
      "       </div>\n",
      "      </div>\n",
      "      <div class=\"a-section a-spacing-top-base mojo-mobile-title-summary-pro-cta\">\n",
      "       <div class=\"a-box\">\n",
      "        <div class=\"a-box-inner\">\n",
      "         <span class=\"imdb-pro-colored-logo\">\n",
      "         </span>\n",
      "         <br/>\n",
      "         <a class=\"a-link-normal\" href=\"https://pro.imdb.com/title/tt0118715/cast?ref_=mojo_tt_cta_cast&amp;rf=mojo_tt_cta_cast\" rel=\"noopener\" target=\"_blank\">\n",
      "          Cast information\n",
      "         </a>\n",
      "         <br/>\n",
      "         <a class=\"a-link-normal\" href=\"https://pro.imdb.com/title/tt0118715/filmmakers?ref_=mojo_tt_cta_crew&amp;rf=mojo_tt_cta_crew\" rel=\"noopener\" target=\"_blank\">\n",
      "          Crew information\n",
      "         </a>\n",
      "         <br/>\n",
      "         <a class=\"a-link-normal\" href=\"https://pro.imdb.com/title/tt0118715/companycredits?ref_=mojo_tt_cta_co&amp;rf=mojo_tt_cta_co\" rel=\"noopener\" target=\"_blank\">\n",
      "          Company information\n",
      "         </a>\n",
      "         <br/>\n",
      "         <a class=\"a-link-normal\" href=\"https://pro.imdb.com/title/tt0118715/news?ref_=mojo_tt_cta_news&amp;rf=mojo_tt_cta_news\" rel=\"noopener\" target=\"_blank\">\n",
      "          News\n",
      "         </a>\n",
      "         <br/>\n",
      "         <a class=\"a-link-normal\" href=\"https://pro.imdb.com/title/tt0118715/boxoffice?ref_=mojo_tt_cta_bo&amp;rf=mojo_tt_cta_bo\" rel=\"noopener\" target=\"_blank\">\n",
      "          Box office\n",
      "         </a>\n",
      "         <br/>\n",
      "         <div class=\"a-popover-preload\" id=\"a-popover-genrePopover\">\n",
      "          <a class=\"a-link-normal\" href=\"https://pro.imdb.com/boxoffice/genre/sg3739152641?ref_=mojo_tt_cta_genre&amp;rf=mojo_tt_cta_genre\" rel=\"noopener\" target=\"_blank\">\n",
      "           Slacker\n",
      "          </a>\n",
      "          <br/>\n",
      "          <a class=\"a-link-normal\" href=\"https://pro.imdb.com/boxoffice/genre/sg2178806017?ref_=mojo_tt_cta_genre&amp;rf=mojo_tt_cta_genre\" rel=\"noopener\" target=\"_blank\">\n",
      "           Black Comedy\n",
      "          </a>\n",
      "         </div>\n",
      "         <span class=\"a-declarative\" data-a-popover='{\"closeButton\":\"false\",\"dataStrategy\":\"preload\",\"name\":\"genrePopover\"}' data-action=\"a-popover\" data-csa-c-func-deps=\"aui-da-a-popover\" data-csa-c-type=\"widget\">\n",
      "          <a class=\"a-popover-trigger a-declarative\" href=\"javascript:void(0)\" role=\"button\">\n",
      "           <span>\n",
      "            Genre keyword rankings\n",
      "           </span>\n",
      "           <i class=\"a-icon a-icon-popover\">\n",
      "           </i>\n",
      "          </a>\n",
      "         </span>\n",
      "        </div>\n",
      "       </div>\n",
      "      </div>\n",
      "      <div class=\"a-section a-spacing-none a-spacing-top-base mojo-discloser-button mojo-discloser with-icon mojo-hidden-from-widescreen\" data-target=\".mojo-summary-values\" id=\"mojo-summary-details-discloser\">\n",
      "       <span>\n",
      "        Summary Details\n",
      "       </span>\n",
      "      </div>\n",
      "      <div class=\"a-section a-spacing-none mojo-summary-values mojo-hidden-from-mobile\">\n",
      "       <div class=\"a-section a-spacing-none\">\n",
      "        <span>\n",
      "         Domestic Distributor\n",
      "        </span>\n",
      "        <span>\n",
      "         Gramercy Pictures (I)\n",
      "         <br/>\n",
      "         <a class=\"a-size-small a-link-normal\" href=\"https://pro.imdb.com/company/co0018555/boxoffice/?ref_=mojo_tt_su&amp;rf=mojo_tt_su\" rel=\"noopener\" target=\"_blank\">\n",
      "          See full company information\n",
      "          <svg class=\"mojo-new-window-svg\" viewbox=\"0 0 32 32\" xmlns=\"http://www.w3.org/2000/svg\">\n",
      "           <path d=\"M24,15.57251l3,3V23.5A3.50424,3.50424,0,0,1,23.5,27H8.5A3.50424,3.50424,0,0,1,5,23.5V8.5A3.50424,3.50424,0,0,1,8.5,5h4.92755l3,3H8.5a.50641.50641,0,0,0-.5.5v15a.50641.50641,0,0,0,.5.5h15a.50641.50641,0,0,0,.5-.5ZM19.81952,8.56372,12.8844,17.75a.49989.49989,0,0,0,.04547.65479l.66534.66528a.49983.49983,0,0,0,.65479.04553l9.18628-6.93518,2.12579,2.12585a.5.5,0,0,0,.84741-.27526l1.48273-9.35108a.50006.50006,0,0,0-.57214-.57214L17.969,5.59058a.5.5,0,0,0-.27526.84741Z\">\n",
      "           </path>\n",
      "          </svg>\n",
      "         </a>\n",
      "        </span>\n",
      "       </div>\n",
      "       <div class=\"a-section a-spacing-none\">\n",
      "        <span>\n",
      "         Domestic Opening\n",
      "        </span>\n",
      "        <span>\n",
      "         <a class=\"a-link-normal\" href=\"/release/rl239568385/weekend?ref_=bo_tt_gr#table\">\n",
      "          <span class=\"money\">\n",
      "           $5,533,844\n",
      "          </span>\n",
      "         </a>\n",
      "        </span>\n",
      "       </div>\n",
      "       <div class=\"a-section a-spacing-none\">\n",
      "        <span>\n",
      "         Earliest Release Date\n",
      "        </span>\n",
      "        <span>\n",
      "         March 6, 1998\n",
      "            (Domestic)\n",
      "        </span>\n",
      "       </div>\n",
      "       <div class=\"a-section a-spacing-none\">\n",
      "        <span>\n",
      "         MPAA\n",
      "        </span>\n",
      "        <span>\n",
      "         R\n",
      "        </span>\n",
      "       </div>\n",
      "       <div class=\"a-section a-spacing-none\">\n",
      "        <span>\n",
      "         Running Time\n",
      "        </span>\n",
      "        <span>\n",
      "         1 hr 57 min\n",
      "        </span>\n",
      "       </div>\n",
      "       <div class=\"a-section a-spacing-none\">\n",
      "        <span>\n",
      "         Genres\n",
      "        </span>\n",
      "        <span>\n",
      "         Comedy\n",
      "    \n",
      "        Crime\n",
      "    \n",
      "        Sport\n",
      "        </span>\n",
      "       </div>\n",
      "       <div class=\"a-section a-spacing-none\">\n",
      "        <span>\n",
      "         IMDbPro\n",
      "        </span>\n",
      "        <span>\n",
      "         <a class=\"a-link-normal\" href=\"https://pro.imdb.com/title/tt0118715?ref_=mojo_tt_summary&amp;rf=mojo_tt_summary\" rel=\"noopener\" target=\"_blank\">\n",
      "          See more details at IMDbPro\n",
      "          <svg class=\"mojo-new-window-svg\" viewbox=\"0 0 32 32\" xmlns=\"http://www.w3.org/2000/svg\">\n",
      "           <path d=\"M24,15.57251l3,3V23.5A3.50424,3.50424,0,0,1,23.5,27H8.5A3.50424,3.50424,0,0,1,5,23.5V8.5A3.50424,3.50424,0,0,1,8.5,5h4.92755l3,3H8.5a.50641.50641,0,0,0-.5.5v15a.50641.50641,0,0,0,.5.5h15a.50641.50641,0,0,0,.5-.5ZM19.81952,8.56372,12.8844,17.75a.49989.49989,0,0,0,.04547.65479l.66534.66528a.49983.49983,0,0,0,.65479.04553l9.18628-6.93518,2.12579,2.12585a.5.5,0,0,0,.84741-.27526l1.48273-9.35108a.50006.50006,0,0,0-.57214-.57214L17.969,5.59058a.5.5,0,0,0-.27526.84741Z\">\n",
      "           </path>\n",
      "          </svg>\n",
      "         </a>\n",
      "        </span>\n",
      "       </div>\n",
      "      </div>\n",
      "     </div>\n",
      "     <div class=\"mojo-link-bar-internal mojo-flex mojo-flex-h\" id=\"tabs\">\n",
      "      <div class=\"mojo-tab-container\">\n",
      "       <a class=\"a-size-base a-link-normal mojo-navigation-tab mojo-navigation-tab-active\" href=\"/title/tt0118715/?ref_=bo_tt_tab#tabs\">\n",
      "        Performance\n",
      "       </a>\n",
      "       <a class=\"a-size-base a-link-normal mojo-navigation-tab\" href=\"/title/tt0118715/credits/?ref_=bo_tt_tab#tabs\">\n",
      "        Cast and Crew\n",
      "       </a>\n",
      "       <div class=\"a-section mojo-disabled-tab\">\n",
      "        All-Time Rankings\n",
      "       </div>\n",
      "       <a class=\"a-size-base a-link-normal mojo-navigation-tab\" href=\"/title/tt0118715/news/?ref_=bo_tt_tab#tabs\">\n",
      "        Related Stories\n",
      "       </a>\n",
      "       <a class=\"a-size-base a-link-normal mojo-navigation-tab\" href=\"/title/tt0118715/similar/?ref_=bo_tt_tab#tabs\">\n",
      "        Similar Movies\n",
      "       </a>\n",
      "      </div>\n",
      "     </div>\n",
      "     <div class=\"a-section a-spacing-none a-spacing-top-base\">\n",
      "      <div class=\"a-section mojo-gutter\">\n",
      "       <div class=\"a-section mojo-h-scroll\">\n",
      "        <h3 class=\"a-spacing-base\">\n",
      "         By Release\n",
      "        </h3>\n",
      "        <table class=\"a-bordered a-horizontal-stripes a-size-base-plus\">\n",
      "         <tr>\n",
      "          <th>\n",
      "           Release Group\n",
      "          </th>\n",
      "          <th>\n",
      "           Rollout\n",
      "          </th>\n",
      "          <th>\n",
      "           Markets\n",
      "          </th>\n",
      "          <th class=\"a-text-right\">\n",
      "           Domestic\n",
      "          </th>\n",
      "          <th class=\"a-text-right\">\n",
      "           International\n",
      "          </th>\n",
      "          <th class=\"a-text-right\">\n",
      "           Worldwide\n",
      "          </th>\n",
      "         </tr>\n",
      "         <tr class=\"mojo-revenue-source-theatrical\">\n",
      "          <td class=\"a-align-center\">\n",
      "           <a class=\"a-link-normal\" href=\"/releasegroup/gr3312079365/?ref_=bo_tt_gr_1\">\n",
      "            Original Release\n",
      "           </a>\n",
      "          </td>\n",
      "          <td class=\"a-align-center\">\n",
      "           March 6, 1998\n",
      "          </td>\n",
      "          <td class=\"a-align-center\">\n",
      "           <a class=\"a-link-normal\" href=\"/release/rl239568385/?ref_=bo_tt_gr_1\">\n",
      "            Domestic\n",
      "           </a>\n",
      "          </td>\n",
      "          <td class=\"a-text-right a-align-center\">\n",
      "           <span class=\"money\">\n",
      "            $17,451,873\n",
      "           </span>\n",
      "          </td>\n",
      "          <td class=\"a-text-right a-align-center\">\n",
      "           <span class=\"money\">\n",
      "            $28,690,764\n",
      "           </span>\n",
      "          </td>\n",
      "          <td class=\"a-text-right a-align-center\">\n",
      "           <span class=\"money\">\n",
      "            $46,142,637\n",
      "           </span>\n",
      "          </td>\n",
      "         </tr>\n",
      "         <tr class=\"mojo-revenue-source-theatrical\">\n",
      "          <td class=\"a-align-center\">\n",
      "           <a class=\"a-link-normal\" href=\"/releasegroup/gr3664400901/?ref_=bo_tt_gr_2\">\n",
      "            2018 Re-release\n",
      "           </a>\n",
      "          </td>\n",
      "          <td class=\"a-align-center\">\n",
      "           August 5-September 21, 2018\n",
      "          </td>\n",
      "          <td class=\"a-align-center\">\n",
      "           <a class=\"a-link-normal\" href=\"/releasegroup/gr3664400901/?ref_=bo_tt_gr_2\">\n",
      "            EMEA, Domestic\n",
      "           </a>\n",
      "          </td>\n",
      "          <td class=\"a-text-right a-align-center\">\n",
      "           <span class=\"money\">\n",
      "            $582,585\n",
      "           </span>\n",
      "          </td>\n",
      "          <td class=\"a-text-right a-align-center\">\n",
      "           <span class=\"money\">\n",
      "            $10,247\n",
      "           </span>\n",
      "          </td>\n",
      "          <td class=\"a-text-right a-align-center\">\n",
      "           <span class=\"money\">\n",
      "            $592,832\n",
      "           </span>\n",
      "          </td>\n",
      "         </tr>\n",
      "         <tr class=\"mojo-revenue-source-theatrical\">\n",
      "          <td class=\"a-align-center\">\n",
      "           <a class=\"a-link-normal\" href=\"/releasegroup/gr2561102341/?ref_=bo_tt_gr_3\">\n",
      "            2020 Re-release\n",
      "           </a>\n",
      "          </td>\n",
      "          <td class=\"a-align-center\">\n",
      "           August 27, 2020\n",
      "          </td>\n",
      "          <td class=\"a-align-center\">\n",
      "           <a class=\"a-link-normal\" href=\"/releasegroup/gr2561102341/?ref_=bo_tt_gr_3\">\n",
      "            APAC\n",
      "           </a>\n",
      "          </td>\n",
      "          <td class=\"a-text-right a-align-center\">\n",
      "           –\n",
      "          </td>\n",
      "          <td class=\"a-text-right a-align-center\">\n",
      "           <span class=\"money\">\n",
      "            $13,252\n",
      "           </span>\n",
      "          </td>\n",
      "          <td class=\"a-text-right a-align-center\">\n",
      "           <span class=\"money\">\n",
      "            $13,252\n",
      "           </span>\n",
      "          </td>\n",
      "         </tr>\n",
      "        </table>\n",
      "        <h3 class=\"a-spacing-base\">\n",
      "         By Region\n",
      "        </h3>\n",
      "        <table class=\"a-bordered a-horizontal-stripes a-size-base-plus\">\n",
      "         <tr>\n",
      "          <th class=\"a-span5\">\n",
      "           Domestic\n",
      "          </th>\n",
      "          <th class=\"a-span2 a-text-right\">\n",
      "           # Releases\n",
      "          </th>\n",
      "          <th class=\"a-span3 a-text-right\">\n",
      "           Lifetime Gross\n",
      "          </th>\n",
      "          <th class=\"a-span2 a-text-right\">\n",
      "           Rank\n",
      "          </th>\n",
      "         </tr>\n",
      "         <tr>\n",
      "          <td>\n",
      "           Domestic\n",
      "          </td>\n",
      "          <td class=\"a-text-right\">\n",
      "           2\n",
      "          </td>\n",
      "          <td class=\"a-text-right\">\n",
      "           <span class=\"money\">\n",
      "            $18,034,458\n",
      "           </span>\n",
      "          </td>\n",
      "          <td class=\"a-text-right\">\n",
      "           3,775\n",
      "          </td>\n",
      "         </tr>\n",
      "        </table>\n",
      "        <table class=\"a-bordered a-horizontal-stripes a-size-base-plus\">\n",
      "         <tr>\n",
      "          <th class=\"a-span5\">\n",
      "           APAC\n",
      "          </th>\n",
      "          <th class=\"a-span2 a-text-right\">\n",
      "           # Releases\n",
      "          </th>\n",
      "          <th class=\"a-span3 a-text-right\">\n",
      "           Lifetime Gross\n",
      "          </th>\n",
      "          <th class=\"a-span2 a-text-right\">\n",
      "           Rank\n",
      "          </th>\n",
      "         </tr>\n",
      "         <tr>\n",
      "          <td>\n",
      "           Australia\n",
      "          </td>\n",
      "          <td class=\"a-text-right\">\n",
      "           1\n",
      "          </td>\n",
      "          <td class=\"a-text-right\">\n",
      "           <span class=\"money\">\n",
      "            $12,181\n",
      "           </span>\n",
      "          </td>\n",
      "          <td class=\"a-text-right\">\n",
      "           5,862\n",
      "          </td>\n",
      "         </tr>\n",
      "         <tr>\n",
      "          <td>\n",
      "           New Zealand\n",
      "          </td>\n",
      "          <td class=\"a-text-right\">\n",
      "           1\n",
      "          </td>\n",
      "          <td class=\"a-text-right\">\n",
      "           <span class=\"money\">\n",
      "            $1,071\n",
      "           </span>\n",
      "          </td>\n",
      "          <td class=\"a-text-right\">\n",
      "           5,572\n",
      "          </td>\n",
      "         </tr>\n",
      "        </table>\n",
      "        <table class=\"a-bordered a-horizontal-stripes a-size-base-plus\">\n",
      "         <tr>\n",
      "          <th class=\"a-span5\">\n",
      "           EMEA\n",
      "          </th>\n",
      "          <th class=\"a-span2 a-text-right\">\n",
      "           # Releases\n",
      "          </th>\n",
      "          <th class=\"a-span3 a-text-right\">\n",
      "           Lifetime Gross\n",
      "          </th>\n",
      "          <th class=\"a-span2 a-text-right\">\n",
      "           Rank\n",
      "          </th>\n",
      "         </tr>\n",
      "         <tr>\n",
      "          <td>\n",
      "           United Kingdom\n",
      "          </td>\n",
      "          <td class=\"a-text-right\">\n",
      "           1\n",
      "          </td>\n",
      "          <td class=\"a-text-right\">\n",
      "           <span class=\"money\">\n",
      "            $10,247\n",
      "           </span>\n",
      "          </td>\n",
      "          <td class=\"a-text-right\">\n",
      "           7,095\n",
      "          </td>\n",
      "         </tr>\n",
      "        </table>\n",
      "       </div>\n",
      "      </div>\n",
      "     </div>\n",
      "    </div>\n",
      "   </main>\n",
      "   <div class=\"a-section a-spacing-none mojo-navigation-frame\">\n",
      "    <div class=\"a-section a-spacing-none mojo-navigation mojo-footer\">\n",
      "     <a class=\"a-link-normal imdb-pro-logo\" href=\"https://pro.imdb.com/?ref_=mojo_ft_tt_prologo&amp;rf=mojo_ft_tt_prologo\">\n",
      "     </a>\n",
      "     <p>\n",
      "      Latest Updates:\n",
      "      <a class=\"a-link-normal\" href=\"/news/?ref_=bo_ft_tt_news\">\n",
      "       News\n",
      "      </a>\n",
      "      |\n",
      "      <a class=\"a-link-normal\" href=\"/daily/?ref_=bo_ft_tt_daily\">\n",
      "       Daily\n",
      "      </a>\n",
      "      |\n",
      "      <a class=\"a-link-normal\" href=\"/weekend/?ref_=bo_ft_tt_weekend\">\n",
      "       Weekend\n",
      "      </a>\n",
      "      |\n",
      "      <a class=\"a-link-normal\" href=\"/charts/?ref_=bo_ft_tt_charts\">\n",
      "       All Time\n",
      "      </a>\n",
      "      |\n",
      "      <a class=\"a-link-normal\" href=\"/intl/?ref_=bo_ft_tt_intl\">\n",
      "       International\n",
      "      </a>\n",
      "      |\n",
      "      <a class=\"a-link-normal\" href=\"/showdown/?ref_=bo_ft_tt_showdown\">\n",
      "       Showdowns\n",
      "      </a>\n",
      "     </p>\n",
      "     <p class=\"mojo-help-row\">\n",
      "      <a class=\"a-link-normal\" href=\"https://help.imdb.com/article/imdbpro/industry-research/box-office-by-imdbpro-glossary/GN8HA87MT4597FSW?ref_=mojo_ftr_glossary\" rel=\"noopener\" target=\"_blank\">\n",
      "       Glossary\n",
      "      </a>\n",
      "      |\n",
      "      <a class=\"a-link-normal\" href=\"https://help.imdb.com/article/imdbpro/industry-research/box-office-mojo-by-imdbpro-user-guide/GUHKUZRL7MQ5T5AZ?ref_=mojo_ftr_guide\" rel=\"noopener\" target=\"_blank\">\n",
      "       User Guide\n",
      "      </a>\n",
      "      |\n",
      "      <a class=\"a-link-normal\" href=\"https://help.imdb.com/article/imdbpro/industry-research/box-office-mojo-by-imdbpro-faq/GCWTV4MQKGWRAUAP?ref_=mojo_ftr_help\" rel=\"noopener\" target=\"_blank\">\n",
      "       Help\n",
      "      </a>\n",
      "     </p>\n",
      "     <p>\n",
      "      BoxOfficeMojo.com by IMDbPro - an\n",
      "      <a class=\"a-link-normal\" href=\"http://www.imdb.com/\" rel=\"noopener\" target=\"_blank\">\n",
      "       IMDb\n",
      "      </a>\n",
      "      company.\n",
      "     </p>\n",
      "     <p>\n",
      "      © IMDb.com, Inc. or its affiliates. All rights reserved.\n",
      "            Box Office Mojo and IMDb are trademarks or registered trademarks of IMDb.com, Inc. or its affiliates.\n",
      "      <a class=\"a-link-normal\" href=\"/conditions/?ref_=bo_ft_tt_conditions\">\n",
      "       Conditions of Use\n",
      "      </a>\n",
      "      and\n",
      "      <a class=\"a-link-normal\" href=\"/privacy/?ref_=bo_ft_tt_privacy\">\n",
      "       Privacy Policy\n",
      "      </a>\n",
      "      under which this service is provided to you.\n",
      "     </p>\n",
      "    </div>\n",
      "   </div>\n",
      "  </div>\n",
      " </body>\n",
      "</html>\n"
     ]
    }
   ],
   "source": [
    "print(soup.prettify())"
   ]
  },
  {
   "cell_type": "markdown",
   "metadata": {},
   "source": [
    "**QUESTIONS**\n",
    "\n",
    "> Select the first link on the page."
   ]
  },
  {
   "cell_type": "code",
   "execution_count": 37,
   "metadata": {},
   "outputs": [
    {
     "data": {
      "text/plain": [
       "<a class=\"a-link-normal\" href=\"/?ref_=bo_nb_tt_mojologo\"></a>"
      ]
     },
     "metadata": {},
     "output_type": "display_data"
    },
    {
     "data": {
      "text/plain": [
       "<bound method Tag.get of <a class=\"a-link-normal\" href=\"/?ref_=bo_nb_tt_mojologo\"></a>>"
      ]
     },
     "metadata": {},
     "output_type": "display_data"
    }
   ],
   "source": [
    "first_link= soup.find(\"a\")\n",
    "display(first_link, first_link.get)"
   ]
  },
  {
   "cell_type": "markdown",
   "metadata": {},
   "source": [
    "> Now select the LAST link on the page.  Can you get the text and the URL associated with this link?"
   ]
  },
  {
   "cell_type": "code",
   "execution_count": 189,
   "metadata": {},
   "outputs": [
    {
     "data": {
      "text/plain": [
       "<a class=\"a-link-normal\" href=\"/privacy/?ref_=bo_ft_tt_privacy\">Privacy Policy</a>"
      ]
     },
     "execution_count": 189,
     "metadata": {},
     "output_type": "execute_result"
    }
   ],
   "source": [
    "links= soup.find_all(\"a\")\n",
    "last_link= links[len(links)-1]\n",
    "last_link"
   ]
  },
  {
   "cell_type": "code",
   "execution_count": 191,
   "metadata": {},
   "outputs": [
    {
     "data": {
      "text/plain": [
       "<a class=\"a-link-normal\" href=\"/privacy/?ref_=bo_ft_tt_privacy\">Privacy Policy</a>"
      ]
     },
     "execution_count": 191,
     "metadata": {},
     "output_type": "execute_result"
    }
   ],
   "source": [
    "soup.find(\"a\")\n",
    "all_a= soup.find_all(\"a\")\n",
    "all_a[len(all_a)-1]"
   ]
  },
  {
   "cell_type": "code",
   "execution_count": 192,
   "metadata": {},
   "outputs": [
    {
     "name": "stdout",
     "output_type": "stream",
     "text": [
      "<a class=\"a-link-normal\" href=\"/privacy/?ref_=bo_ft_tt_privacy\">Privacy Policy</a>\n"
     ]
    }
   ],
   "source": [
    "soup.find('a')\n",
    "all_links = soup.find_all('a')\n",
    "all_links\n",
    "last = all_links[len(all_links)-1]\n",
    "print(last)"
   ]
  },
  {
   "cell_type": "markdown",
   "metadata": {},
   "source": [
    "Remember `find` gets only one match, but `find_all` retrieves all matches in a list."
   ]
  },
  {
   "cell_type": "code",
   "execution_count": 193,
   "metadata": {},
   "outputs": [
    {
     "name": "stdout",
     "output_type": "stream",
     "text": [
      "<a class=\"a-link-normal\" href=\"/?ref_=bo_nb_tt_mojologo\"></a> \n",
      "\n",
      "<a class=\"a-popover-trigger a-declarative\" href=\"javascript:void(0)\" role=\"button\"><span class=\"mobile-menu-popover-trigger\"></span>\n",
      "<i class=\"a-icon a-icon-popover\"></i></a> \n",
      "\n",
      "<a class=\"a-link-normal mojo-rollover-image\" href=\"https://pro.imdb.com/login/ap?u=%2Flogin%2Flwa&amp;imdbPageAction=signUp&amp;ref_=mojo_nb_tt_rollover&amp;rf=mojo_nb_tt_rollover\"><img alt=\"\" src=\"https://m.media-amazon.com/images/G/01/IMDbPro/images/dropbox/MI_NB_011321_NYNY2021_mojo.png\"/></a> \n",
      "\n",
      "<a class=\"a-popover-trigger a-declarative\" href=\"javascript:void(0)\" role=\"button\"><span class=\"imdb-pro-logo\"></span><i class=\"a-icon a-icon-popover\"></i></a> \n",
      "\n",
      "<a class=\"a-link-normal mojo-fb-logo\" href=\"https://www.facebook.com/BoxOfficeMojo/\" rel=\"noopener\" target=\"_blank\"></a> \n",
      "\n"
     ]
    }
   ],
   "source": [
    "for link in soup.find_all('a')[:5]:\n",
    "    print(link, '\\n')"
   ]
  },
  {
   "cell_type": "markdown",
   "metadata": {},
   "source": [
    "And you can match only those with a specific `id` or `class` if you'd like.  Here are all the elements labeled with the \"mojo-navigtaion-tab\" class."
   ]
  },
  {
   "cell_type": "code",
   "execution_count": 197,
   "metadata": {},
   "outputs": [
    {
     "data": {
      "text/plain": [
       "1"
      ]
     },
     "execution_count": 197,
     "metadata": {},
     "output_type": "execute_result"
    }
   ],
   "source": [
    "len(soup.find_all(class_='mojo-page-id-tt a-m-us a-aui_72554-c a-aui_accordion_a11y_role_354025-c a-aui_killswitch_csa_logger_372963-c a-aui_pci_risk_banner_210084-c a-aui_preload_261698-c a-aui_rel_noreferrer_noopener_309527-c a-aui_template_weblab_cache_333406-c a-aui_tnr_v2_180836-c'))"
   ]
  },
  {
   "cell_type": "code",
   "execution_count": 38,
   "metadata": {},
   "outputs": [
    {
     "name": "stdout",
     "output_type": "stream",
     "text": [
      "<a class=\"a-size-medium a-link-normal mojo-navigation-tab\" href=\"/date/?ref_=bo_nb_tt_tab\">\n",
      " Domestic\n",
      "</a>\n",
      "\n",
      "<a class=\"a-size-medium a-link-normal mojo-navigation-tab\" href=\"/intl/?ref_=bo_nb_tt_tab\">\n",
      " International\n",
      "</a>\n",
      "\n",
      "<a class=\"a-size-medium a-link-normal mojo-navigation-tab\" href=\"/year/world/?ref_=bo_nb_tt_tab\">\n",
      " Worldwide\n",
      "</a>\n",
      "\n",
      "<a class=\"a-size-medium a-link-normal mojo-navigation-tab\" href=\"/calendar/?ref_=bo_nb_tt_tab\">\n",
      " Calendar\n",
      "</a>\n",
      "\n",
      "<a class=\"a-size-medium a-link-normal mojo-navigation-tab\" href=\"/charts/overall/?ref_=bo_nb_tt_tab\">\n",
      " All Time\n",
      "</a>\n",
      "\n",
      "<a class=\"a-size-medium a-link-normal mojo-navigation-tab\" href=\"/showdown/?ref_=bo_nb_tt_tab\">\n",
      " Showdowns\n",
      "</a>\n",
      "\n",
      "<a class=\"a-size-medium a-link-normal mojo-navigation-tab\" href=\"/brand/?ref_=bo_nb_tt_tab\">\n",
      " Indices\n",
      "</a>\n",
      "<a class=\"a-size-base a-link-normal mojo-navigation-tab mojo-navigation-tab-active\" href=\"/title/tt0118715/?ref_=bo_tt_tab#tabs\">\n",
      " Performance\n",
      "</a>\n",
      "\n",
      "<a class=\"a-size-base a-link-normal mojo-navigation-tab\" href=\"/title/tt0118715/credits/?ref_=bo_tt_tab#tabs\">\n",
      " Cast and Crew\n",
      "</a>\n",
      "\n",
      "<a class=\"a-size-base a-link-normal mojo-navigation-tab\" href=\"/title/tt0118715/news/?ref_=bo_tt_tab#tabs\">\n",
      " Related Stories\n",
      "</a>\n",
      "\n",
      "<a class=\"a-size-base a-link-normal mojo-navigation-tab\" href=\"/title/tt0118715/similar/?ref_=bo_tt_tab#tabs\">\n",
      " Similar Movies\n",
      "</a>\n"
     ]
    }
   ],
   "source": [
    "for element in soup.find_all(class_='mojo-navigation-tab'):\n",
    "    print(element.prettify())"
   ]
  },
  {
   "cell_type": "markdown",
   "metadata": {},
   "source": [
    "It's important to remember `find` and `find_all` return BeautifulSoup elements. You can continue searching these elements, thus chaining commands together.\n",
    "\n",
    "Basic earnings information can be found in the `div` with the \"mojo-performance-summary-table\" class.  Let's extract the domestic gross from this element.\n",
    "\n",
    "<br>\n",
    "<img src=\"images/biglebow_table.png\" alt=\"Big Lebowski Table\" style=\"width: 500px;\"/>"
   ]
  },
  {
   "cell_type": "code",
   "execution_count": 39,
   "metadata": {},
   "outputs": [
    {
     "name": "stdout",
     "output_type": "stream",
     "text": [
      "<div class=\"a-section a-spacing-none mojo-performance-summary-table\">\n",
      " <h2 class=\"a-size-large a-text-bold\">\n",
      "  All Releases\n",
      " </h2>\n",
      " <div class=\"a-section a-spacing-none\">\n",
      "  <span class=\"a-size-small\">\n",
      "   Domestic (\n",
      "   <span class=\"percent\">\n",
      "    38.6%\n",
      "   </span>\n",
      "   )\n",
      "  </span>\n",
      "  <br/>\n",
      "  <span class=\"a-size-medium a-text-bold\">\n",
      "   <span class=\"money\">\n",
      "    $18,034,458\n",
      "   </span>\n",
      "  </span>\n",
      " </div>\n",
      " <div class=\"a-section a-spacing-none\">\n",
      "  <span class=\"a-size-small\">\n",
      "   International (\n",
      "   <span class=\"percent\">\n",
      "    61.4%\n",
      "   </span>\n",
      "   )\n",
      "  </span>\n",
      "  <br/>\n",
      "  <span class=\"a-size-medium a-text-bold\">\n",
      "   <span class=\"money\">\n",
      "    $28,714,263\n",
      "   </span>\n",
      "  </span>\n",
      " </div>\n",
      " <div class=\"a-section a-spacing-none\">\n",
      "  <span class=\"a-size-small\">\n",
      "   Worldwide\n",
      "  </span>\n",
      "  <br/>\n",
      "  <span class=\"a-size-medium a-text-bold\">\n",
      "   <span class=\"money\">\n",
      "    $46,748,721\n",
      "   </span>\n",
      "  </span>\n",
      " </div>\n",
      "</div>\n",
      "\n"
     ]
    }
   ],
   "source": [
    "print(soup.find(class_='mojo-performance-summary-table').prettify())"
   ]
  },
  {
   "cell_type": "code",
   "execution_count": 218,
   "metadata": {},
   "outputs": [
    {
     "data": {
      "text/plain": [
       "<span class=\"money\">$18,034,458</span>"
      ]
     },
     "execution_count": 218,
     "metadata": {},
     "output_type": "execute_result"
    }
   ],
   "source": [
    "soup.find(class_='mojo-performance-summary-table').find_all('span', class_='money')"
   ]
  },
  {
   "cell_type": "code",
   "execution_count": null,
   "metadata": {},
   "outputs": [],
   "source": [
    "# or do this, gives you same result\n",
    "soup.find(class_='mojo-performance-summary-table').find('span', class_='money')"
   ]
  },
  {
   "cell_type": "markdown",
   "metadata": {},
   "source": [
    "Text needs to be extracted from one element at a time.  To get the domestic gross:"
   ]
  },
  {
   "cell_type": "code",
   "execution_count": 203,
   "metadata": {},
   "outputs": [
    {
     "data": {
      "text/plain": [
       "'$18,034,458'"
      ]
     },
     "execution_count": 203,
     "metadata": {},
     "output_type": "execute_result"
    }
   ],
   "source": [
    "soup.find(class_='mojo-performance-summary-table').find_all('span', class_='money')[0].text"
   ]
  },
  {
   "cell_type": "markdown",
   "metadata": {},
   "source": [
    "You can also find using an `id`; remember id should be unique to just one element."
   ]
  },
  {
   "cell_type": "code",
   "execution_count": 206,
   "metadata": {
    "scrolled": true
   },
   "outputs": [
    {
     "name": "stdout",
     "output_type": "stream",
     "text": [
      "<div class=\"mojo-link-bar-internal mojo-flex mojo-flex-h\" id=\"tabs\">\n",
      " <div class=\"mojo-tab-container\">\n",
      "  <a class=\"a-size-base a-link-normal mojo-navigation-tab mojo-navigation-tab-active\" href=\"/title/tt0118715/?ref_=bo_tt_tab#tabs\">\n",
      "   Performance\n",
      "  </a>\n",
      "  <a class=\"a-size-base a-link-normal mojo-navigation-tab\" href=\"/title/tt0118715/credits/?ref_=bo_tt_tab#tabs\">\n",
      "   Cast and Crew\n",
      "  </a>\n",
      "  <div class=\"a-section mojo-disabled-tab\">\n",
      "   All-Time Rankings\n",
      "  </div>\n",
      "  <a class=\"a-size-base a-link-normal mojo-navigation-tab\" href=\"/title/tt0118715/news/?ref_=bo_tt_tab#tabs\">\n",
      "   Related Stories\n",
      "  </a>\n",
      "  <a class=\"a-size-base a-link-normal mojo-navigation-tab\" href=\"/title/tt0118715/similar/?ref_=bo_tt_tab#tabs\">\n",
      "   Similar Movies\n",
      "  </a>\n",
      " </div>\n",
      "</div>\n",
      "\n"
     ]
    }
   ],
   "source": [
    "print(soup.find(id='tabs').prettify())"
   ]
  },
  {
   "cell_type": "markdown",
   "metadata": {},
   "source": [
    "### Web Scraping Pipeline\n",
    "\n",
    "Now that we have the basics, let's practice web scraping.  **The main goal of web scraping is to extract data by taking advantage of a site's consistent format.**  That is, the code you write for one page on a website can hopefully be used on multiple pages to gather more information automatically.\n",
    "\n",
    "Let's create code to get the following information for the movies on Box Office Mojo:\n",
    "- Movie title\n",
    "- Domestic gross\n",
    "- Runtime\n",
    "- MPAA rating\n",
    "- Release date"
   ]
  },
  {
   "cell_type": "markdown",
   "metadata": {},
   "source": [
    "#### Movie Title"
   ]
  },
  {
   "cell_type": "code",
   "execution_count": 40,
   "metadata": {},
   "outputs": [
    {
     "data": {
      "text/plain": [
       "<title dir=\"ltr\">The Big Lebowski - Box Office Mojo</title>"
      ]
     },
     "execution_count": 40,
     "metadata": {},
     "output_type": "execute_result"
    }
   ],
   "source": [
    "soup.find('title')"
   ]
  },
  {
   "cell_type": "code",
   "execution_count": 41,
   "metadata": {},
   "outputs": [
    {
     "data": {
      "text/plain": [
       "'The Big Lebowski - Box Office Mojo'"
      ]
     },
     "execution_count": 41,
     "metadata": {},
     "output_type": "execute_result"
    }
   ],
   "source": [
    "title_string = soup.find('title').text\n",
    "\n",
    "title_string"
   ]
  },
  {
   "cell_type": "code",
   "execution_count": 42,
   "metadata": {},
   "outputs": [
    {
     "data": {
      "text/plain": [
       "['The Big Lebowski ', ' Box Office Mojo']"
      ]
     },
     "execution_count": 42,
     "metadata": {},
     "output_type": "execute_result"
    }
   ],
   "source": [
    "title_string.split('-')"
   ]
  },
  {
   "cell_type": "code",
   "execution_count": 43,
   "metadata": {},
   "outputs": [
    {
     "data": {
      "text/plain": [
       "'The Big Lebowski'"
      ]
     },
     "execution_count": 43,
     "metadata": {},
     "output_type": "execute_result"
    }
   ],
   "source": [
    "title = title_string.split('-')[0].strip()\n",
    "\n",
    "title"
   ]
  },
  {
   "cell_type": "markdown",
   "metadata": {},
   "source": [
    "#### Domestic Gross: \n",
    "\n",
    "As we saw previously, the domestic gross can be found in a `span` within the \"mojo-performance-summary-table\" `div`."
   ]
  },
  {
   "cell_type": "code",
   "execution_count": 48,
   "metadata": {},
   "outputs": [
    {
     "data": {
      "text/plain": [
       "'$18,034,458'"
      ]
     },
     "execution_count": 48,
     "metadata": {},
     "output_type": "execute_result"
    }
   ],
   "source": [
    "dtg = soup.find(class_='mojo-performance-summary-table').find_all('span', class_='money')[0].text\n",
    "dtg"
   ]
  },
  {
   "cell_type": "code",
   "execution_count": 45,
   "metadata": {},
   "outputs": [
    {
     "data": {
      "text/plain": [
       "'$18,034,458'"
      ]
     },
     "execution_count": 45,
     "metadata": {},
     "output_type": "execute_result"
    }
   ],
   "source": [
    "dtg = soup.find(class_='mojo-performance-summary-table').find('span', class_='money').text\n",
    "dtg"
   ]
  },
  {
   "cell_type": "markdown",
   "metadata": {},
   "source": [
    "The remainder of the information lives in this neighboring `div`."
   ]
  },
  {
   "cell_type": "markdown",
   "metadata": {},
   "source": [
    "<img src=\"images/biglebow_info.png\" alt=\"Big Lebowski Information\" style=\"width: 500px;\"/>"
   ]
  },
  {
   "cell_type": "markdown",
   "metadata": {},
   "source": [
    "#### Runtime: `.findNext()`\n",
    "\n",
    "Sometimes you can find the information you are looking for by using text matching.  But note this must be an exact match!"
   ]
  },
  {
   "cell_type": "code",
   "execution_count": 222,
   "metadata": {},
   "outputs": [],
   "source": [
    "soup.find(text='Run')  #does not match"
   ]
  },
  {
   "cell_type": "code",
   "execution_count": 223,
   "metadata": {},
   "outputs": [
    {
     "data": {
      "text/plain": [
       "'Running Time'"
      ]
     },
     "execution_count": 223,
     "metadata": {},
     "output_type": "execute_result"
    }
   ],
   "source": [
    "soup.find(text='Running Time')  "
   ]
  },
  {
   "cell_type": "markdown",
   "metadata": {},
   "source": [
    "Alternatively, we could use [regular expressions](https://docs.python.org/3/library/re.html)."
   ]
  },
  {
   "cell_type": "code",
   "execution_count": 50,
   "metadata": {},
   "outputs": [
    {
     "data": {
      "text/plain": [
       "'Running Time'"
      ]
     },
     "execution_count": 50,
     "metadata": {},
     "output_type": "execute_result"
    }
   ],
   "source": [
    "import re\n",
    "runtime_regex = re.compile('Running Time')\n",
    "soup.find(text=runtime_regex)"
   ]
  },
  {
   "cell_type": "code",
   "execution_count": 57,
   "metadata": {},
   "outputs": [
    {
     "data": {
      "text/plain": [
       "'Running Time'"
      ]
     },
     "metadata": {},
     "output_type": "display_data"
    },
    {
     "data": {
      "text/plain": [
       "bs4.element.NavigableString"
      ]
     },
     "metadata": {},
     "output_type": "display_data"
    }
   ],
   "source": [
    "rt_string = soup.find(text=re.compile('Run'))\n",
    "display(rt_string,type(rt_string))"
   ]
  },
  {
   "cell_type": "code",
   "execution_count": 61,
   "metadata": {},
   "outputs": [
    {
     "data": {
      "text/plain": [
       "bs4.element.NavigableString"
      ]
     },
     "execution_count": 61,
     "metadata": {},
     "output_type": "execute_result"
    }
   ],
   "source": [
    "type(rt_string)"
   ]
  },
  {
   "cell_type": "markdown",
   "metadata": {},
   "source": [
    "The string we found is still a Beautiful Soup element. This means we can use it to navigate to the next element in the HTML, which is a `span` containing the actual runtime."
   ]
  },
  {
   "cell_type": "code",
   "execution_count": 63,
   "metadata": {},
   "outputs": [
    {
     "data": {
      "text/plain": [
       "<div class=\"a-section a-spacing-none\"><span>Genres</span><span>Comedy\n",
       "    \n",
       "        Crime\n",
       "    \n",
       "        Sport</span></div>"
      ]
     },
     "metadata": {},
     "output_type": "display_data"
    },
    {
     "data": {
      "text/plain": [
       "'1 hr 57 min'"
      ]
     },
     "metadata": {},
     "output_type": "display_data"
    },
    {
     "data": {
      "text/plain": [
       "bs4.element.Tag"
      ]
     },
     "metadata": {},
     "output_type": "display_data"
    }
   ],
   "source": [
    "rt_string.findNext()\n",
    "display((rt_string.findNext()).findNext(),rt_string.findNext().text,type(rt_string.findNext()))"
   ]
  },
  {
   "cell_type": "markdown",
   "metadata": {},
   "source": [
    "The `.findNext()` method can be incredibly useful when the information you want to find doesn't have a obvious tag, class, id, etc.\n",
    "\n",
    "Let's clean this value up into usable data."
   ]
  },
  {
   "cell_type": "code",
   "execution_count": 64,
   "metadata": {},
   "outputs": [
    {
     "name": "stdout",
     "output_type": "stream",
     "text": [
      "117\n"
     ]
    }
   ],
   "source": [
    "rt = rt_string.findNext().text\n",
    "rt = rt.split()\n",
    "minutes = int(rt[0])*60 + int(rt[2])\n",
    "print(minutes)"
   ]
  },
  {
   "cell_type": "markdown",
   "metadata": {},
   "source": [
    "#### MPAA Rating, Release Date\n",
    "\n",
    "_**STEP 1:** Create function to grab values_ \n",
    "\n",
    "The text matching method can also help us get runtime, rating, and release date, so let's make a reuable function."
   ]
  },
  {
   "cell_type": "code",
   "execution_count": 65,
   "metadata": {},
   "outputs": [],
   "source": [
    "def get_movie_value(soup, field_name):\n",
    "    \n",
    "    '''Grab a value from Box Office Mojo HTML\n",
    "    \n",
    "    Takes a string attribute of a movie on the page and returns the string in\n",
    "    the next sibling object (the value for that attribute) or None if nothing is found.\n",
    "    '''\n",
    "    \n",
    "    obj = soup.find(text=re.compile(field_name))\n",
    "    \n",
    "    if not obj: \n",
    "        return None\n",
    "    \n",
    "    # this works for most of the values\n",
    "    next_element = obj.findNext()\n",
    "    \n",
    "    if next_element:\n",
    "        return next_element.text \n",
    "    else:\n",
    "        return None"
   ]
  },
  {
   "cell_type": "code",
   "execution_count": 66,
   "metadata": {},
   "outputs": [
    {
     "name": "stdout",
     "output_type": "stream",
     "text": [
      "1 hr 57 min\n"
     ]
    }
   ],
   "source": [
    "# runtime\n",
    "runtime = get_movie_value(soup,'Run')\n",
    "print(runtime)"
   ]
  },
  {
   "cell_type": "code",
   "execution_count": 67,
   "metadata": {},
   "outputs": [
    {
     "name": "stdout",
     "output_type": "stream",
     "text": [
      "R\n"
     ]
    }
   ],
   "source": [
    "# rating\n",
    "rating = get_movie_value(soup,'MPAA')\n",
    "print(rating)"
   ]
  },
  {
   "cell_type": "code",
   "execution_count": 68,
   "metadata": {},
   "outputs": [
    {
     "name": "stdout",
     "output_type": "stream",
     "text": [
      "March 6, 1998\n",
      "            (Domestic)\n"
     ]
    }
   ],
   "source": [
    "release_date = get_movie_value(soup,'Release Date')\n",
    "print(release_date)"
   ]
  },
  {
   "cell_type": "code",
   "execution_count": 69,
   "metadata": {},
   "outputs": [
    {
     "name": "stdout",
     "output_type": "stream",
     "text": [
      "March 6, 1998\n"
     ]
    }
   ],
   "source": [
    "release_date = release_date.split('\\n')[0]  #Select the only the date\n",
    "print(release_date)"
   ]
  },
  {
   "cell_type": "markdown",
   "metadata": {},
   "source": [
    "_**STEP 2:** Create helper functions to parse strings into appropriate data types_\n",
    "\n",
    "The returned values all need a bit of formatting before we can work with this data.  Here are a few helper functions."
   ]
  },
  {
   "cell_type": "code",
   "execution_count": 70,
   "metadata": {},
   "outputs": [],
   "source": [
    "import dateutil.parser\n",
    "\n",
    "def money_to_int(moneystring):\n",
    "    moneystring = moneystring.replace('$', '').replace(',', '')\n",
    "    return int(moneystring)\n",
    "\n",
    "def runtime_to_minutes(runtimestring):\n",
    "    runtime = runtimestring.split()\n",
    "    try:\n",
    "        minutes = int(runtime[0])*60 + int(runtime[2])\n",
    "        return minutes\n",
    "    except:\n",
    "        return None\n",
    "\n",
    "def to_date(datestring):\n",
    "    date = dateutil.parser.parse(datestring)\n",
    "    return date"
   ]
  },
  {
   "cell_type": "markdown",
   "metadata": {},
   "source": [
    "_**STEP 3:** Apply these conversions_\n",
    "\n",
    "Let's get these values again and format them all in one swoop. (Note: Rating is already correct as a string.)"
   ]
  },
  {
   "cell_type": "code",
   "execution_count": 71,
   "metadata": {},
   "outputs": [],
   "source": [
    "raw_domestic_total_gross = dtg\n",
    "domestic_total_gross = money_to_int(raw_domestic_total_gross)\n",
    "\n",
    "raw_runtime = get_movie_value(soup,'Running')\n",
    "runtime = runtime_to_minutes(raw_runtime)\n",
    "\n",
    "raw_release_date = get_movie_value(soup,'Release Date').split('\\n')[0]\n",
    "release_date = to_date(raw_release_date)"
   ]
  },
  {
   "cell_type": "markdown",
   "metadata": {},
   "source": [
    "#### Put Results in Dictionary\n",
    "\n",
    "Now that we have results for all five quantities, we can store them in a dictionary."
   ]
  },
  {
   "cell_type": "code",
   "execution_count": 72,
   "metadata": {},
   "outputs": [
    {
     "data": {
      "text/plain": [
       "[{'movie title': 'The Big Lebowski',\n",
       "  'domestic total gross': 18034458,\n",
       "  'runtime (mins)': 117,\n",
       "  'rating': 'R',\n",
       "  'release date': datetime.datetime(1998, 3, 6, 0, 0)}]"
      ]
     },
     "execution_count": 72,
     "metadata": {},
     "output_type": "execute_result"
    }
   ],
   "source": [
    "headers = ['movie title', 'domestic total gross',\n",
    "           'runtime (mins)', 'rating', 'release date']\n",
    "\n",
    "movie_data = []\n",
    "movie_dict = dict(zip(headers, [title,\n",
    "                                domestic_total_gross,\n",
    "                                runtime,\n",
    "                                rating, \n",
    "                                release_date]))\n",
    "\n",
    "movie_data.append(movie_dict)\n",
    "movie_data\n",
    "\n"
   ]
  },
  {
   "cell_type": "markdown",
   "metadata": {},
   "source": [
    "**QUESTION**\n",
    "\n",
    "> Why might we want to store these data in a dictionary?  Why did we put the dictionary in a list?"
   ]
  },
  {
   "cell_type": "markdown",
   "metadata": {},
   "source": [
    "### Scraping Tables\n",
    "\n",
    "Let's take a look at the [top G-rated movies](https://www.boxofficemojo.com/chart/mpaa_title_lifetime_gross/?by_mpaa=G) of Box Office Mojo.  How could we pull all the data from this main page?\n",
    "\n",
    "First request the HTML and parse it with Beautiful Soup."
   ]
  },
  {
   "cell_type": "code",
   "execution_count": 73,
   "metadata": {},
   "outputs": [],
   "source": [
    "url = 'https://www.boxofficemojo.com/chart/mpaa_title_lifetime_gross/?by_mpaa=G'\n",
    "\n",
    "response = requests.get(url)\n",
    "page = response.text\n",
    "\n",
    "soup = BeautifulSoup(page,\"lxml\")"
   ]
  },
  {
   "cell_type": "markdown",
   "metadata": {},
   "source": [
    "Now find the main table; its the only `table` on the page."
   ]
  },
  {
   "cell_type": "code",
   "execution_count": null,
   "metadata": {},
   "outputs": [],
   "source": [
    "table = soup.find(class_=\"a-bordered a-horizontal-stripes a-size-base a-span12 mojo-body-table mojo-table-annotated\")\n",
    "display(table)"
   ]
  },
  {
   "cell_type": "code",
   "execution_count": 96,
   "metadata": {},
   "outputs": [
    {
     "data": {
      "text/plain": [
       "list"
      ]
     },
     "metadata": {},
     "output_type": "display_data"
    },
    {
     "data": {
      "text/plain": [
       "bs4.element.Tag"
      ]
     },
     "metadata": {},
     "output_type": "display_data"
    },
    {
     "data": {
      "text/plain": [
       "<tr><td class=\"a-text-left mojo-header-column mojo-truncate mojo-field-type-title\"><a class=\"a-link-normal\" href=\"/title/tt1979376/?ref_=bo_cso_table_1\">Toy Story 4</a></td><td class=\"a-text-right mojo-field-type-rank\">1</td><td class=\"a-text-right mojo-field-type-money\">$434,038,008</td><td class=\"a-text-right mojo-field-type-rank\">24</td><td class=\"a-text-left mojo-field-type-year\"><a class=\"a-link-normal\" href=\"/year/2019/?ref_=bo_cso_table_1\">2019</a></td></tr>"
      ]
     },
     "metadata": {},
     "output_type": "display_data"
    }
   ],
   "source": [
    "rows = [row for row in table.find_all('tr')]  # tr tag is for rows\n",
    "display(type(rows),type(rows[1]),rows[1])"
   ]
  },
  {
   "cell_type": "markdown",
   "metadata": {},
   "source": [
    "Each row contains the information we want but requires more parsing."
   ]
  },
  {
   "cell_type": "code",
   "execution_count": 101,
   "metadata": {},
   "outputs": [
    {
     "data": {
      "text/plain": [
       "list"
      ]
     },
     "metadata": {},
     "output_type": "display_data"
    },
    {
     "data": {
      "text/plain": [
       "bs4.element.Tag"
      ]
     },
     "metadata": {},
     "output_type": "display_data"
    },
    {
     "data": {
      "text/plain": [
       "[<tr><th class=\"a-text-left mojo-field-type-title a-nowrap\"><span title=\"Title\">Title</span>\n",
       " </th><th class=\"a-text-right mojo-field-type-rank a-nowrap\"><span title=\"Rank\">Rank</span>\n",
       " </th><th class=\"a-text-right mojo-field-type-money a-nowrap\"><span title=\"Lifetime Gross\">Lifetime Gross</span>\n",
       " </th><th class=\"a-text-right mojo-field-type-rank a-nowrap\"><span title=\"Overall Rank\">Overall Rank</span>\n",
       " </th><th class=\"a-text-left mojo-field-type-year a-nowrap\"><span title=\"Year\">Year</span>\n",
       " </th></tr>,\n",
       " <tr><td class=\"a-text-left mojo-header-column mojo-truncate mojo-field-type-title\"><a class=\"a-link-normal\" href=\"/title/tt1979376/?ref_=bo_cso_table_1\">Toy Story 4</a></td><td class=\"a-text-right mojo-field-type-rank\">1</td><td class=\"a-text-right mojo-field-type-money\">$434,038,008</td><td class=\"a-text-right mojo-field-type-rank\">24</td><td class=\"a-text-left mojo-field-type-year\"><a class=\"a-link-normal\" href=\"/year/2019/?ref_=bo_cso_table_1\">2019</a></td></tr>,\n",
       " <tr><td class=\"a-text-left mojo-header-column mojo-truncate mojo-field-type-title\"><a class=\"a-link-normal\" href=\"/title/tt0110357/?ref_=bo_cso_table_2\">The Lion King</a></td><td class=\"a-text-right mojo-field-type-rank\">2</td><td class=\"a-text-right mojo-field-type-money\">$422,783,777</td><td class=\"a-text-right mojo-field-type-rank\">28</td><td class=\"a-text-left mojo-field-type-year\"><a class=\"a-link-normal\" href=\"/year/1994/?ref_=bo_cso_table_2\">1994</a></td></tr>,\n",
       " <tr><td class=\"a-text-left mojo-header-column mojo-truncate mojo-field-type-title\"><a class=\"a-link-normal\" href=\"/title/tt0435761/?ref_=bo_cso_table_3\">Toy Story 3</a></td><td class=\"a-text-right mojo-field-type-rank\">3</td><td class=\"a-text-right mojo-field-type-money\">$415,004,880</td><td class=\"a-text-right mojo-field-type-rank\">30</td><td class=\"a-text-left mojo-field-type-year\"><a class=\"a-link-normal\" href=\"/year/2010/?ref_=bo_cso_table_3\">2010</a></td></tr>,\n",
       " <tr><td class=\"a-text-left mojo-header-column mojo-truncate mojo-field-type-title\"><a class=\"a-link-normal\" href=\"/title/tt0266543/?ref_=bo_cso_table_4\">Finding Nemo</a></td><td class=\"a-text-right mojo-field-type-rank\">4</td><td class=\"a-text-right mojo-field-type-money\">$380,843,261</td><td class=\"a-text-right mojo-field-type-rank\">43</td><td class=\"a-text-left mojo-field-type-year\"><a class=\"a-link-normal\" href=\"/year/2003/?ref_=bo_cso_table_4\">2003</a></td></tr>,\n",
       " <tr><td class=\"a-text-left mojo-header-column mojo-truncate mojo-field-type-title\"><a class=\"a-link-normal\" href=\"/title/tt0198781/?ref_=bo_cso_table_5\">Monsters, Inc.</a></td><td class=\"a-text-right mojo-field-type-rank\">5</td><td class=\"a-text-right mojo-field-type-money\">$290,642,256</td><td class=\"a-text-right mojo-field-type-rank\">100</td><td class=\"a-text-left mojo-field-type-year\"><a class=\"a-link-normal\" href=\"/year/2001/?ref_=bo_cso_table_5\">2001</a></td></tr>,\n",
       " <tr><td class=\"a-text-left mojo-header-column mojo-truncate mojo-field-type-title\"><a class=\"a-link-normal\" href=\"/title/tt1453405/?ref_=bo_cso_table_6\">Monsters University</a></td><td class=\"a-text-right mojo-field-type-rank\">6</td><td class=\"a-text-right mojo-field-type-money\">$268,492,764</td><td class=\"a-text-right mojo-field-type-rank\">111</td><td class=\"a-text-left mojo-field-type-year\"><a class=\"a-link-normal\" href=\"/year/2013/?ref_=bo_cso_table_6\">2013</a></td></tr>,\n",
       " <tr><td class=\"a-text-left mojo-header-column mojo-truncate mojo-field-type-title\"><a class=\"a-link-normal\" href=\"/title/tt0120363/?ref_=bo_cso_table_7\">Toy Story 2</a></td><td class=\"a-text-right mojo-field-type-rank\">7</td><td class=\"a-text-right mojo-field-type-money\">$245,852,179</td><td class=\"a-text-right mojo-field-type-rank\">134</td><td class=\"a-text-left mojo-field-type-year\"><a class=\"a-link-normal\" href=\"/year/1999/?ref_=bo_cso_table_7\">1999</a></td></tr>,\n",
       " <tr><td class=\"a-text-left mojo-header-column mojo-truncate mojo-field-type-title\"><a class=\"a-link-normal\" href=\"/title/tt0317219/?ref_=bo_cso_table_8\">Cars</a></td><td class=\"a-text-right mojo-field-type-rank\">8</td><td class=\"a-text-right mojo-field-type-money\">$244,082,982</td><td class=\"a-text-right mojo-field-type-rank\">136</td><td class=\"a-text-left mojo-field-type-year\"><a class=\"a-link-normal\" href=\"/year/2006/?ref_=bo_cso_table_8\">2006</a></td></tr>,\n",
       " <tr><td class=\"a-text-left mojo-header-column mojo-truncate mojo-field-type-title\"><a class=\"a-link-normal\" href=\"/title/tt0910970/?ref_=bo_cso_table_9\">WALL·E</a></td><td class=\"a-text-right mojo-field-type-rank\">9</td><td class=\"a-text-right mojo-field-type-money\">$223,808,164</td><td class=\"a-text-right mojo-field-type-rank\">166</td><td class=\"a-text-left mojo-field-type-year\"><a class=\"a-link-normal\" href=\"/year/2008/?ref_=bo_cso_table_9\">2008</a></td></tr>,\n",
       " <tr><td class=\"a-text-left mojo-header-column mojo-truncate mojo-field-type-title\"><a class=\"a-link-normal\" href=\"/title/tt0114709/?ref_=bo_cso_table_10\">Toy Story</a></td><td class=\"a-text-right mojo-field-type-rank\">10</td><td class=\"a-text-right mojo-field-type-money\">$223,225,679</td><td class=\"a-text-right mojo-field-type-rank\">167</td><td class=\"a-text-left mojo-field-type-year\"><a class=\"a-link-normal\" href=\"/year/1995/?ref_=bo_cso_table_10\">1995</a></td></tr>,\n",
       " <tr><td class=\"a-text-left mojo-header-column mojo-truncate mojo-field-type-title\"><a class=\"a-link-normal\" href=\"/title/tt0101414/?ref_=bo_cso_table_11\">Beauty and the Beast</a></td><td class=\"a-text-right mojo-field-type-rank\">11</td><td class=\"a-text-right mojo-field-type-money\">$218,967,620</td><td class=\"a-text-right mojo-field-type-rank\">173</td><td class=\"a-text-left mojo-field-type-year\"><a class=\"a-link-normal\" href=\"/year/1991/?ref_=bo_cso_table_11\">1991</a></td></tr>,\n",
       " <tr><td class=\"a-text-left mojo-header-column mojo-truncate mojo-field-type-title\"><a class=\"a-link-normal\" href=\"/title/tt0103639/?ref_=bo_cso_table_12\">Aladdin</a></td><td class=\"a-text-right mojo-field-type-rank\">12</td><td class=\"a-text-right mojo-field-type-money\">$217,350,219</td><td class=\"a-text-right mojo-field-type-rank\">179</td><td class=\"a-text-left mojo-field-type-year\"><a class=\"a-link-normal\" href=\"/year/1992/?ref_=bo_cso_table_12\">1992</a></td></tr>,\n",
       " <tr><td class=\"a-text-left mojo-header-column mojo-truncate mojo-field-type-title\"><a class=\"a-link-normal\" href=\"/title/tt0382932/?ref_=bo_cso_table_13\">Ratatouille</a></td><td class=\"a-text-right mojo-field-type-rank\">13</td><td class=\"a-text-right mojo-field-type-money\">$206,445,654</td><td class=\"a-text-right mojo-field-type-rank\">205</td><td class=\"a-text-left mojo-field-type-year\"><a class=\"a-link-normal\" href=\"/year/2007/?ref_=bo_cso_table_13\">2007</a></td></tr>,\n",
       " <tr><td class=\"a-text-left mojo-header-column mojo-truncate mojo-field-type-title\"><a class=\"a-link-normal\" href=\"/title/tt0031381/?ref_=bo_cso_table_14\">Gone with the Wind</a></td><td class=\"a-text-right mojo-field-type-rank\">14</td><td class=\"a-text-right mojo-field-type-money\">$200,852,579</td><td class=\"a-text-right mojo-field-type-rank\">216</td><td class=\"a-text-left mojo-field-type-year\">1939</td></tr>,\n",
       " <tr><td class=\"a-text-left mojo-header-column mojo-truncate mojo-field-type-title\"><a class=\"a-link-normal\" href=\"/title/tt1216475/?ref_=bo_cso_table_15\">Cars 2</a></td><td class=\"a-text-right mojo-field-type-rank\">15</td><td class=\"a-text-right mojo-field-type-money\">$191,452,396</td><td class=\"a-text-right mojo-field-type-rank\">232</td><td class=\"a-text-left mojo-field-type-year\"><a class=\"a-link-normal\" href=\"/year/2011/?ref_=bo_cso_table_15\">2011</a></td></tr>,\n",
       " <tr><td class=\"a-text-left mojo-header-column mojo-truncate mojo-field-type-title\"><a class=\"a-link-normal\" href=\"/title/tt0338348/?ref_=bo_cso_table_16\">The Polar Express</a></td><td class=\"a-text-right mojo-field-type-rank\">16</td><td class=\"a-text-right mojo-field-type-money\">$187,935,490</td><td class=\"a-text-right mojo-field-type-rank\">240</td><td class=\"a-text-left mojo-field-type-year\"><a class=\"a-link-normal\" href=\"/year/2004/?ref_=bo_cso_table_16\">2004</a></td></tr>,\n",
       " <tr><td class=\"a-text-left mojo-header-column mojo-truncate mojo-field-type-title\"><a class=\"a-link-normal\" href=\"/title/tt0029583/?ref_=bo_cso_table_17\">Snow White and the Seven Dwarfs</a></td><td class=\"a-text-right mojo-field-type-rank\">17</td><td class=\"a-text-right mojo-field-type-money\">$184,925,486</td><td class=\"a-text-right mojo-field-type-rank\">246</td><td class=\"a-text-left mojo-field-type-year\">1937</td></tr>,\n",
       " <tr><td class=\"a-text-left mojo-header-column mojo-truncate mojo-field-type-title\"><a class=\"a-link-normal\" href=\"/title/tt0120855/?ref_=bo_cso_table_18\">Tarzan</a></td><td class=\"a-text-right mojo-field-type-rank\">18</td><td class=\"a-text-right mojo-field-type-money\">$171,091,819</td><td class=\"a-text-right mojo-field-type-rank\">301</td><td class=\"a-text-left mojo-field-type-year\"><a class=\"a-link-normal\" href=\"/year/1999/?ref_=bo_cso_table_18\">1999</a></td></tr>,\n",
       " <tr><td class=\"a-text-left mojo-header-column mojo-truncate mojo-field-type-title\"><a class=\"a-link-normal\" href=\"/title/tt0120623/?ref_=bo_cso_table_19\">A Bug's Life</a></td><td class=\"a-text-right mojo-field-type-rank\">19</td><td class=\"a-text-right mojo-field-type-money\">$162,798,565</td><td class=\"a-text-right mojo-field-type-rank\">331</td><td class=\"a-text-left mojo-field-type-year\"><a class=\"a-link-normal\" href=\"/year/1998/?ref_=bo_cso_table_19\">1998</a></td></tr>,\n",
       " <tr><td class=\"a-text-left mojo-header-column mojo-truncate mojo-field-type-title\"><a class=\"a-link-normal\" href=\"/title/tt0059742/?ref_=bo_cso_table_20\">The Sound of Music</a></td><td class=\"a-text-right mojo-field-type-rank\">20</td><td class=\"a-text-right mojo-field-type-money\">$159,287,539</td><td class=\"a-text-right mojo-field-type-rank\">344</td><td class=\"a-text-left mojo-field-type-year\">1965</td></tr>,\n",
       " <tr><td class=\"a-text-left mojo-header-column mojo-truncate mojo-field-type-title\"><a class=\"a-link-normal\" href=\"/title/tt0451079/?ref_=bo_cso_table_21\">Horton Hears a Who!</a></td><td class=\"a-text-right mojo-field-type-rank\">21</td><td class=\"a-text-right mojo-field-type-money\">$154,529,439</td><td class=\"a-text-right mojo-field-type-rank\">364</td><td class=\"a-text-left mojo-field-type-year\"><a class=\"a-link-normal\" href=\"/year/2008/?ref_=bo_cso_table_21\">2008</a></td></tr>,\n",
       " <tr><td class=\"a-text-left mojo-header-column mojo-truncate mojo-field-type-title\"><a class=\"a-link-normal\" href=\"/title/tt3606752/?ref_=bo_cso_table_22\">Cars 3</a></td><td class=\"a-text-right mojo-field-type-rank\">22</td><td class=\"a-text-right mojo-field-type-money\">$152,901,115</td><td class=\"a-text-right mojo-field-type-rank\">371</td><td class=\"a-text-left mojo-field-type-year\"><a class=\"a-link-normal\" href=\"/year/2017/?ref_=bo_cso_table_22\">2017</a></td></tr>,\n",
       " <tr><td class=\"a-text-left mojo-header-column mojo-truncate mojo-field-type-title\"><a class=\"a-link-normal\" href=\"/title/tt0055254/?ref_=bo_cso_table_23\">One Hundred and One Dalmatians</a></td><td class=\"a-text-right mojo-field-type-rank\">23</td><td class=\"a-text-right mojo-field-type-money\">$144,880,014</td><td class=\"a-text-right mojo-field-type-rank\">403</td><td class=\"a-text-left mojo-field-type-year\">1961</td></tr>,\n",
       " <tr><td class=\"a-text-left mojo-header-column mojo-truncate mojo-field-type-title\"><a class=\"a-link-normal\" href=\"/title/tt0061852/?ref_=bo_cso_table_24\">The Jungle Book</a></td><td class=\"a-text-right mojo-field-type-rank\">24</td><td class=\"a-text-right mojo-field-type-money\">$141,843,612</td><td class=\"a-text-right mojo-field-type-rank\">418</td><td class=\"a-text-left mojo-field-type-year\">1967</td></tr>,\n",
       " <tr><td class=\"a-text-left mojo-header-column mojo-truncate mojo-field-type-title\"><a class=\"a-link-normal\" href=\"/title/tt0114148/?ref_=bo_cso_table_25\">Pocahontas</a></td><td class=\"a-text-right mojo-field-type-rank\">25</td><td class=\"a-text-right mojo-field-type-money\">$141,579,773</td><td class=\"a-text-right mojo-field-type-rank\">421</td><td class=\"a-text-left mojo-field-type-year\"><a class=\"a-link-normal\" href=\"/year/1995/?ref_=bo_cso_table_25\">1995</a></td></tr>,\n",
       " <tr><td class=\"a-text-left mojo-header-column mojo-truncate mojo-field-type-title\"><a class=\"a-link-normal\" href=\"/title/tt0304669/?ref_=bo_cso_table_26\">The Santa Clause 2</a></td><td class=\"a-text-right mojo-field-type-rank\">26</td><td class=\"a-text-right mojo-field-type-money\">$139,236,327</td><td class=\"a-text-right mojo-field-type-rank\">435</td><td class=\"a-text-left mojo-field-type-year\"><a class=\"a-link-normal\" href=\"/year/2002/?ref_=bo_cso_table_26\">2002</a></td></tr>,\n",
       " <tr><td class=\"a-text-left mojo-header-column mojo-truncate mojo-field-type-title\"><a class=\"a-link-normal\" href=\"/title/tt0115433/?ref_=bo_cso_table_27\">101 Dalmatians</a></td><td class=\"a-text-right mojo-field-type-rank\">27</td><td class=\"a-text-right mojo-field-type-money\">$136,189,294</td><td class=\"a-text-right mojo-field-type-rank\">452</td><td class=\"a-text-left mojo-field-type-year\"><a class=\"a-link-normal\" href=\"/year/1996/?ref_=bo_cso_table_27\">1996</a></td></tr>,\n",
       " <tr><td class=\"a-text-left mojo-header-column mojo-truncate mojo-field-type-title\"><a class=\"a-link-normal\" href=\"/title/tt0371606/?ref_=bo_cso_table_28\">Chicken Little</a></td><td class=\"a-text-right mojo-field-type-rank\">28</td><td class=\"a-text-right mojo-field-type-money\">$135,386,665</td><td class=\"a-text-right mojo-field-type-rank\">455</td><td class=\"a-text-left mojo-field-type-year\"><a class=\"a-link-normal\" href=\"/year/2005/?ref_=bo_cso_table_28\">2005</a></td></tr>,\n",
       " <tr><td class=\"a-text-left mojo-header-column mojo-truncate mojo-field-type-title\"><a class=\"a-link-normal\" href=\"/title/tt1615918/?ref_=bo_cso_table_29\">Alvin and the Chipmunks: Chipwrecked</a></td><td class=\"a-text-right mojo-field-type-rank\">29</td><td class=\"a-text-right mojo-field-type-money\">$133,110,742</td><td class=\"a-text-right mojo-field-type-rank\">471</td><td class=\"a-text-left mojo-field-type-year\"><a class=\"a-link-normal\" href=\"/year/2011/?ref_=bo_cso_table_29\">2011</a></td></tr>,\n",
       " <tr><td class=\"a-text-left mojo-header-column mojo-truncate mojo-field-type-title\"><a class=\"a-link-normal\" href=\"/title/tt2357291/?ref_=bo_cso_table_30\">Rio 2</a></td><td class=\"a-text-right mojo-field-type-rank\">30</td><td class=\"a-text-right mojo-field-type-money\">$131,538,435</td><td class=\"a-text-right mojo-field-type-rank\">481</td><td class=\"a-text-left mojo-field-type-year\"><a class=\"a-link-normal\" href=\"/year/2014/?ref_=bo_cso_table_30\">2014</a></td></tr>,\n",
       " <tr><td class=\"a-text-left mojo-header-column mojo-truncate mojo-field-type-title\"><a class=\"a-link-normal\" href=\"/title/tt2452042/?ref_=bo_cso_table_31\">The Peanuts Movie</a></td><td class=\"a-text-right mojo-field-type-rank\">31</td><td class=\"a-text-right mojo-field-type-money\">$130,178,411</td><td class=\"a-text-right mojo-field-type-rank\">489</td><td class=\"a-text-left mojo-field-type-year\"><a class=\"a-link-normal\" href=\"/year/2015/?ref_=bo_cso_table_31\">2015</a></td></tr>,\n",
       " <tr><td class=\"a-text-left mojo-header-column mojo-truncate mojo-field-type-title\"><a class=\"a-link-normal\" href=\"/title/tt0120762/?ref_=bo_cso_table_32\">Mulan</a></td><td class=\"a-text-right mojo-field-type-rank\">32</td><td class=\"a-text-right mojo-field-type-money\">$120,620,254</td><td class=\"a-text-right mojo-field-type-rank\">557</td><td class=\"a-text-left mojo-field-type-year\"><a class=\"a-link-normal\" href=\"/year/1998/?ref_=bo_cso_table_32\">1998</a></td></tr>,\n",
       " <tr><td class=\"a-text-left mojo-header-column mojo-truncate mojo-field-type-title\"><a class=\"a-link-normal\" href=\"/title/tt0097757/?ref_=bo_cso_table_33\">The Little Mermaid</a></td><td class=\"a-text-right mojo-field-type-rank\">33</td><td class=\"a-text-right mojo-field-type-money\">$111,543,479</td><td class=\"a-text-right mojo-field-type-rank\">635</td><td class=\"a-text-left mojo-field-type-year\"><a class=\"a-link-normal\" href=\"/year/1989/?ref_=bo_cso_table_33\">1989</a></td></tr>,\n",
       " <tr><td class=\"a-text-left mojo-header-column mojo-truncate mojo-field-type-title\"><a class=\"a-link-normal\" href=\"/title/tt0247638/?ref_=bo_cso_table_34\">The Princess Diaries</a></td><td class=\"a-text-right mojo-field-type-rank\">34</td><td class=\"a-text-right mojo-field-type-money\">$108,248,956</td><td class=\"a-text-right mojo-field-type-rank\">661</td><td class=\"a-text-left mojo-field-type-year\"><a class=\"a-link-normal\" href=\"/year/2001/?ref_=bo_cso_table_34\">2001</a></td></tr>,\n",
       " <tr><td class=\"a-text-left mojo-header-column mojo-truncate mojo-field-type-title\"><a class=\"a-link-normal\" href=\"/title/tt0120630/?ref_=bo_cso_table_35\">Chicken Run</a></td><td class=\"a-text-right mojo-field-type-rank\">35</td><td class=\"a-text-right mojo-field-type-money\">$106,834,564</td><td class=\"a-text-right mojo-field-type-rank\">676</td><td class=\"a-text-left mojo-field-type-year\"><a class=\"a-link-normal\" href=\"/year/2000/?ref_=bo_cso_table_35\">2000</a></td></tr>,\n",
       " <tr><td class=\"a-text-left mojo-header-column mojo-truncate mojo-field-type-title\"><a class=\"a-link-normal\" href=\"/title/tt0780521/?ref_=bo_cso_table_36\">The Princess and the Frog</a></td><td class=\"a-text-right mojo-field-type-rank\">36</td><td class=\"a-text-right mojo-field-type-money\">$104,400,899</td><td class=\"a-text-right mojo-field-type-rank\">697</td><td class=\"a-text-left mojo-field-type-year\"><a class=\"a-link-normal\" href=\"/year/2009/?ref_=bo_cso_table_36\">2009</a></td></tr>,\n",
       " <tr><td class=\"a-text-left mojo-header-column mojo-truncate mojo-field-type-title\"><a class=\"a-link-normal\" href=\"/title/tt0058331/?ref_=bo_cso_table_37\">Mary Poppins</a></td><td class=\"a-text-right mojo-field-type-rank\">37</td><td class=\"a-text-right mojo-field-type-money\">$102,272,727</td><td class=\"a-text-right mojo-field-type-rank\">723</td><td class=\"a-text-left mojo-field-type-year\">1964</td></tr>,\n",
       " <tr><td class=\"a-text-left mojo-header-column mojo-truncate mojo-field-type-title\"><a class=\"a-link-normal\" href=\"/title/tt0034492/?ref_=bo_cso_table_38\">Bambi</a></td><td class=\"a-text-right mojo-field-type-rank\">38</td><td class=\"a-text-right mojo-field-type-money\">$102,247,150</td><td class=\"a-text-right mojo-field-type-rank\">724</td><td class=\"a-text-left mojo-field-type-year\">1942</td></tr>,\n",
       " <tr><td class=\"a-text-left mojo-header-column mojo-truncate mojo-field-type-title\"><a class=\"a-link-normal\" href=\"/title/tt0134067/?ref_=bo_cso_table_39\">The Rugrats Movie</a></td><td class=\"a-text-right mojo-field-type-rank\">39</td><td class=\"a-text-right mojo-field-type-money\">$100,494,675</td><td class=\"a-text-right mojo-field-type-rank\">756</td><td class=\"a-text-left mojo-field-type-year\"><a class=\"a-link-normal\" href=\"/year/1998/?ref_=bo_cso_table_39\">1998</a></td></tr>,\n",
       " <tr><td class=\"a-text-left mojo-header-column mojo-truncate mojo-field-type-title\"><a class=\"a-link-normal\" href=\"/title/tt0065377/?ref_=bo_cso_table_40\">Airport</a></td><td class=\"a-text-right mojo-field-type-rank\">40</td><td class=\"a-text-right mojo-field-type-money\">$100,489,151</td><td class=\"a-text-right mojo-field-type-rank\">758</td><td class=\"a-text-left mojo-field-type-year\">1970</td></tr>,\n",
       " <tr><td class=\"a-text-left mojo-header-column mojo-truncate mojo-field-type-title\"><a class=\"a-link-normal\" href=\"/title/tt0116583/?ref_=bo_cso_table_41\">The Hunchback of Notre Dame</a></td><td class=\"a-text-right mojo-field-type-rank\">41</td><td class=\"a-text-right mojo-field-type-money\">$100,138,851</td><td class=\"a-text-right mojo-field-type-rank\">770</td><td class=\"a-text-left mojo-field-type-year\"><a class=\"a-link-normal\" href=\"/year/1996/?ref_=bo_cso_table_41\">1996</a></td></tr>,\n",
       " <tr><td class=\"a-text-left mojo-header-column mojo-truncate mojo-field-type-title\"><a class=\"a-link-normal\" href=\"/title/tt0377981/?ref_=bo_cso_table_42\">Gnomeo &amp; Juliet</a></td><td class=\"a-text-right mojo-field-type-rank\">42</td><td class=\"a-text-right mojo-field-type-money\">$99,967,670</td><td class=\"a-text-right mojo-field-type-rank\">776</td><td class=\"a-text-left mojo-field-type-year\"><a class=\"a-link-normal\" href=\"/year/2011/?ref_=bo_cso_table_42\">2011</a></td></tr>,\n",
       " <tr><td class=\"a-text-left mojo-header-column mojo-truncate mojo-field-type-title\"><a class=\"a-link-normal\" href=\"/title/tt0119282/?ref_=bo_cso_table_43\">Hercules</a></td><td class=\"a-text-right mojo-field-type-rank\">43</td><td class=\"a-text-right mojo-field-type-money\">$99,112,101</td><td class=\"a-text-right mojo-field-type-rank\">778</td><td class=\"a-text-left mojo-field-type-year\"><a class=\"a-link-normal\" href=\"/year/1997/?ref_=bo_cso_table_43\">1997</a></td></tr>,\n",
       " <tr><td class=\"a-text-left mojo-header-column mojo-truncate mojo-field-type-title\"><a class=\"a-link-normal\" href=\"/title/tt0396555/?ref_=bo_cso_table_44\">Meet the Robinsons</a></td><td class=\"a-text-right mojo-field-type-rank\">44</td><td class=\"a-text-right mojo-field-type-money\">$97,822,171</td><td class=\"a-text-right mojo-field-type-rank\">784</td><td class=\"a-text-left mojo-field-type-year\"><a class=\"a-link-normal\" href=\"/year/2007/?ref_=bo_cso_table_44\">2007</a></td></tr>,\n",
       " <tr><td class=\"a-text-left mojo-header-column mojo-truncate mojo-field-type-title\"><a class=\"a-link-normal\" href=\"/title/tt0368933/?ref_=bo_cso_table_45\">The Princess Diaries 2: Royal Engagement</a></td><td class=\"a-text-right mojo-field-type-rank\">45</td><td class=\"a-text-right mojo-field-type-money\">$95,170,481</td><td class=\"a-text-right mojo-field-type-rank\">803</td><td class=\"a-text-left mojo-field-type-year\"><a class=\"a-link-normal\" href=\"/year/2004/?ref_=bo_cso_table_45\">2004</a></td></tr>,\n",
       " <tr><td class=\"a-text-left mojo-header-column mojo-truncate mojo-field-type-title\"><a class=\"a-link-normal\" href=\"/title/tt0048280/?ref_=bo_cso_table_46\">Lady and the Tramp</a></td><td class=\"a-text-right mojo-field-type-rank\">46</td><td class=\"a-text-right mojo-field-type-money\">$93,602,326</td><td class=\"a-text-right mojo-field-type-rank\">818</td><td class=\"a-text-left mojo-field-type-year\">1955</td></tr>,\n",
       " <tr><td class=\"a-text-left mojo-header-column mojo-truncate mojo-field-type-title\"><a class=\"a-link-normal\" href=\"/title/tt0042332/?ref_=bo_cso_table_47\">Cinderella</a></td><td class=\"a-text-right mojo-field-type-rank\">47</td><td class=\"a-text-right mojo-field-type-money\">$93,141,149</td><td class=\"a-text-right mojo-field-type-rank\">826</td><td class=\"a-text-left mojo-field-type-year\">1950</td></tr>,\n",
       " <tr><td class=\"a-text-left mojo-header-column mojo-truncate mojo-field-type-title\"><a class=\"a-link-normal\" href=\"/title/tt0962726/?ref_=bo_cso_table_48\">High School Musical 3: Senior Year</a></td><td class=\"a-text-right mojo-field-type-rank\">48</td><td class=\"a-text-right mojo-field-type-money\">$90,559,416</td><td class=\"a-text-right mojo-field-type-rank\">855</td><td class=\"a-text-left mojo-field-type-year\"><a class=\"a-link-normal\" href=\"/year/2008/?ref_=bo_cso_table_48\">2008</a></td></tr>,\n",
       " <tr><td class=\"a-text-left mojo-header-column mojo-truncate mojo-field-type-title\"><a class=\"a-link-normal\" href=\"/title/tt0120917/?ref_=bo_cso_table_49\">The Emperor's New Groove</a></td><td class=\"a-text-right mojo-field-type-rank\">49</td><td class=\"a-text-right mojo-field-type-money\">$89,636,687</td><td class=\"a-text-right mojo-field-type-rank\">867</td><td class=\"a-text-left mojo-field-type-year\"><a class=\"a-link-normal\" href=\"/year/2000/?ref_=bo_cso_table_49\">2000</a></td></tr>,\n",
       " <tr><td class=\"a-text-left mojo-header-column mojo-truncate mojo-field-type-title\"><a class=\"a-link-normal\" href=\"/title/tt0046183/?ref_=bo_cso_table_50\">Peter Pan</a></td><td class=\"a-text-right mojo-field-type-rank\">50</td><td class=\"a-text-right mojo-field-type-money\">$87,404,651</td><td class=\"a-text-right mojo-field-type-rank\">885</td><td class=\"a-text-left mojo-field-type-year\">1953</td></tr>,\n",
       " <tr><td class=\"a-text-left mojo-header-column mojo-truncate mojo-field-type-title\"><a class=\"a-link-normal\" href=\"/title/tt0190641/?ref_=bo_cso_table_51\">Pokémon: The First Movie - Mewtwo Strikes Back</a></td><td class=\"a-text-right mojo-field-type-rank\">51</td><td class=\"a-text-right mojo-field-type-money\">$85,744,662</td><td class=\"a-text-right mojo-field-type-rank\">908</td><td class=\"a-text-left mojo-field-type-year\"><a class=\"a-link-normal\" href=\"/year/1999/?ref_=bo_cso_table_51\">1999</a></td></tr>,\n",
       " <tr><td class=\"a-text-left mojo-header-column mojo-truncate mojo-field-type-title\"><a class=\"a-link-normal\" href=\"/title/tt0328880/?ref_=bo_cso_table_52\">Brother Bear</a></td><td class=\"a-text-right mojo-field-type-rank\">52</td><td class=\"a-text-right mojo-field-type-money\">$85,336,277</td><td class=\"a-text-right mojo-field-type-rank\">912</td><td class=\"a-text-left mojo-field-type-year\"><a class=\"a-link-normal\" href=\"/year/2003/?ref_=bo_cso_table_52\">2003</a></td></tr>,\n",
       " <tr><td class=\"a-text-left mojo-header-column mojo-truncate mojo-field-type-title\"><a class=\"a-link-normal\" href=\"/title/tt0452681/?ref_=bo_cso_table_53\">The Santa Clause 3: The Escape Clause</a></td><td class=\"a-text-right mojo-field-type-rank\">53</td><td class=\"a-text-right mojo-field-type-money\">$84,500,122</td><td class=\"a-text-right mojo-field-type-rank\">926</td><td class=\"a-text-left mojo-field-type-year\"><a class=\"a-link-normal\" href=\"/year/2006/?ref_=bo_cso_table_53\">2006</a></td></tr>,\n",
       " <tr><td class=\"a-text-left mojo-header-column mojo-truncate mojo-field-type-title\"><a class=\"a-link-normal\" href=\"/title/tt0032910/?ref_=bo_cso_table_54\">Pinocchio</a></td><td class=\"a-text-right mojo-field-type-rank\">54</td><td class=\"a-text-right mojo-field-type-money\">$84,254,167</td><td class=\"a-text-right mojo-field-type-rank\">930</td><td class=\"a-text-left mojo-field-type-year\">1940</td></tr>,\n",
       " <tr><td class=\"a-text-left mojo-header-column mojo-truncate mojo-field-type-title\"><a class=\"a-link-normal\" href=\"/title/tt0413895/?ref_=bo_cso_table_55\">Charlotte's Web</a></td><td class=\"a-text-right mojo-field-type-rank\">55</td><td class=\"a-text-right mojo-field-type-money\">$82,985,708</td><td class=\"a-text-right mojo-field-type-rank\">956</td><td class=\"a-text-left mojo-field-type-year\"><a class=\"a-link-normal\" href=\"/year/2006/?ref_=bo_cso_table_55\">2006</a></td></tr>,\n",
       " <tr><td class=\"a-text-left mojo-header-column mojo-truncate mojo-field-type-title\"><a class=\"a-link-normal\" href=\"/title/tt0079945/?ref_=bo_cso_table_56\">Star Trek: The Motion Picture</a></td><td class=\"a-text-right mojo-field-type-rank\">56</td><td class=\"a-text-right mojo-field-type-money\">$82,604,699</td><td class=\"a-text-right mojo-field-type-rank\">961</td><td class=\"a-text-left mojo-field-type-year\"><a class=\"a-link-normal\" href=\"/year/1979/?ref_=bo_cso_table_56\">1979</a></td></tr>,\n",
       " <tr><td class=\"a-text-left mojo-header-column mojo-truncate mojo-field-type-title\"><a class=\"a-link-normal\" href=\"/title/tt0268397/?ref_=bo_cso_table_57\">Jimmy Neutron: Boy Genius</a></td><td class=\"a-text-right mojo-field-type-rank\">57</td><td class=\"a-text-right mojo-field-type-money\">$80,936,232</td><td class=\"a-text-right mojo-field-type-rank\">991</td><td class=\"a-text-left mojo-field-type-year\"><a class=\"a-link-normal\" href=\"/year/2001/?ref_=bo_cso_table_57\">2001</a></td></tr>,\n",
       " <tr><td class=\"a-text-left mojo-header-column mojo-truncate mojo-field-type-title\"><a class=\"a-link-normal\" href=\"/title/tt1114677/?ref_=bo_cso_table_58\">Hannah Montana: The Movie</a></td><td class=\"a-text-right mojo-field-type-rank\">58</td><td class=\"a-text-right mojo-field-type-money\">$79,576,189</td><td class=\"a-text-right mojo-field-type-rank\">1,018</td><td class=\"a-text-left mojo-field-type-year\"><a class=\"a-link-normal\" href=\"/year/2009/?ref_=bo_cso_table_58\">2009</a></td></tr>,\n",
       " <tr><td class=\"a-text-left mojo-header-column mojo-truncate mojo-field-type-title\"><a class=\"a-link-normal\" href=\"/title/tt0428803/?ref_=bo_cso_table_59\">March of the Penguins</a></td><td class=\"a-text-right mojo-field-type-rank\">59</td><td class=\"a-text-right mojo-field-type-money\">$77,437,223</td><td class=\"a-text-right mojo-field-type-rank\">1,044</td><td class=\"a-text-left mojo-field-type-year\"><a class=\"a-link-normal\" href=\"/year/2005/?ref_=bo_cso_table_59\">2005</a></td></tr>,\n",
       " <tr><td class=\"a-text-left mojo-header-column mojo-truncate mojo-field-type-title\"><a class=\"a-link-normal\" href=\"/title/tt0213203/?ref_=bo_cso_table_60\">Rugrats in Paris</a></td><td class=\"a-text-right mojo-field-type-rank\">60</td><td class=\"a-text-right mojo-field-type-money\">$76,507,756</td><td class=\"a-text-right mojo-field-type-rank\">1,058</td><td class=\"a-text-left mojo-field-type-year\"><a class=\"a-link-normal\" href=\"/year/2000/?ref_=bo_cso_table_60\">2000</a></td></tr>,\n",
       " <tr><td class=\"a-text-left mojo-header-column mojo-truncate mojo-field-type-title\"><a class=\"a-link-normal\" href=\"/title/tt0032455/?ref_=bo_cso_table_61\">Fantasia</a></td><td class=\"a-text-right mojo-field-type-rank\">61</td><td class=\"a-text-right mojo-field-type-money\">$76,408,097</td><td class=\"a-text-right mojo-field-type-rank\">1,061</td><td class=\"a-text-left mojo-field-type-year\">1941</td></tr>,\n",
       " <tr><td class=\"a-text-left mojo-header-column mojo-truncate mojo-field-type-title\"><a class=\"a-link-normal\" href=\"/title/tt0265662/?ref_=bo_cso_table_62\">The Rookie</a></td><td class=\"a-text-right mojo-field-type-rank\">62</td><td class=\"a-text-right mojo-field-type-money\">$75,600,072</td><td class=\"a-text-right mojo-field-type-rank\">1,083</td><td class=\"a-text-left mojo-field-type-year\"><a class=\"a-link-normal\" href=\"/year/2002/?ref_=bo_cso_table_62\">2002</a></td></tr>,\n",
       " <tr><td class=\"a-text-left mojo-header-column mojo-truncate mojo-field-type-title\"><a class=\"a-link-normal\" href=\"/title/tt0052618/?ref_=bo_cso_table_63\">Ben-Hur</a></td><td class=\"a-text-right mojo-field-type-rank\">63</td><td class=\"a-text-right mojo-field-type-money\">$74,422,622</td><td class=\"a-text-right mojo-field-type-rank\">1,101</td><td class=\"a-text-left mojo-field-type-year\">1959</td></tr>,\n",
       " <tr><td class=\"a-text-left mojo-header-column mojo-truncate mojo-field-type-title\"><a class=\"a-link-normal\" href=\"/title/tt0095776/?ref_=bo_cso_table_64\">Oliver &amp; Company</a></td><td class=\"a-text-right mojo-field-type-rank\">64</td><td class=\"a-text-right mojo-field-type-money\">$74,151,346</td><td class=\"a-text-right mojo-field-type-rank\">1,108</td><td class=\"a-text-left mojo-field-type-year\"><a class=\"a-link-normal\" href=\"/year/1988/?ref_=bo_cso_table_64\">1988</a></td></tr>,\n",
       " <tr><td class=\"a-text-left mojo-header-column mojo-truncate mojo-field-type-title\"><a class=\"a-link-normal\" href=\"/title/tt0166813/?ref_=bo_cso_table_65\">Spirit: Stallion of the Cimarron</a></td><td class=\"a-text-right mojo-field-type-rank\">65</td><td class=\"a-text-right mojo-field-type-money\">$73,280,117</td><td class=\"a-text-right mojo-field-type-rank\">1,120</td><td class=\"a-text-left mojo-field-type-year\"><a class=\"a-link-normal\" href=\"/year/2002/?ref_=bo_cso_table_65\">2002</a></td></tr>,\n",
       " <tr><td class=\"a-text-left mojo-header-column mojo-truncate mojo-field-type-title\"><a class=\"a-link-normal\" href=\"/title/tt1702443/?ref_=bo_cso_table_66\">Justin Bieber: Never Say Never</a></td><td class=\"a-text-right mojo-field-type-rank\">66</td><td class=\"a-text-right mojo-field-type-money\">$73,013,910</td><td class=\"a-text-right mojo-field-type-rank\">1,129</td><td class=\"a-text-left mojo-field-type-year\"><a class=\"a-link-normal\" href=\"/year/2011/?ref_=bo_cso_table_66\">2011</a></td></tr>,\n",
       " <tr><td class=\"a-text-left mojo-header-column mojo-truncate mojo-field-type-title\"><a class=\"a-link-normal\" href=\"/title/tt0058385/?ref_=bo_cso_table_67\">My Fair Lady</a></td><td class=\"a-text-right mojo-field-type-rank\">67</td><td class=\"a-text-right mojo-field-type-money\">$72,560,711</td><td class=\"a-text-right mojo-field-type-rank\">1,136</td><td class=\"a-text-left mojo-field-type-year\">1964</td></tr>,\n",
       " <tr><td class=\"a-text-left mojo-header-column mojo-truncate mojo-field-type-title\"><a class=\"a-link-normal\" href=\"/title/tt0076618/?ref_=bo_cso_table_68\">The Rescuers</a></td><td class=\"a-text-right mojo-field-type-rank\">68</td><td class=\"a-text-right mojo-field-type-money\">$71,215,869</td><td class=\"a-text-right mojo-field-type-rank\">1,164</td><td class=\"a-text-left mojo-field-type-year\"><a class=\"a-link-normal\" href=\"/year/1977/?ref_=bo_cso_table_68\">1977</a></td></tr>,\n",
       " <tr><td class=\"a-text-left mojo-header-column mojo-truncate mojo-field-type-title\"><a class=\"a-link-normal\" href=\"/title/tt0211181/?ref_=bo_cso_table_69\">102 Dalmatians</a></td><td class=\"a-text-right mojo-field-type-rank\">69</td><td class=\"a-text-right mojo-field-type-money\">$66,957,026</td><td class=\"a-text-right mojo-field-type-rank\">1,255</td><td class=\"a-text-left mojo-field-type-year\"><a class=\"a-link-normal\" href=\"/year/2000/?ref_=bo_cso_table_69\">2000</a></td></tr>,\n",
       " <tr><td class=\"a-text-left mojo-header-column mojo-truncate mojo-field-type-title\"><a class=\"a-link-normal\" href=\"/title/tt0400497/?ref_=bo_cso_table_70\">Herbie Fully Loaded</a></td><td class=\"a-text-right mojo-field-type-rank\">70</td><td class=\"a-text-right mojo-field-type-money\">$66,023,816</td><td class=\"a-text-right mojo-field-type-rank\">1,278</td><td class=\"a-text-left mojo-field-type-year\"><a class=\"a-link-normal\" href=\"/year/2005/?ref_=bo_cso_table_70\">2005</a></td></tr>,\n",
       " <tr><td class=\"a-text-left mojo-header-column mojo-truncate mojo-field-type-title\"><a class=\"a-link-normal\" href=\"/title/tt0069495/?ref_=bo_cso_table_71\">What's Up, Doc?</a></td><td class=\"a-text-right mojo-field-type-rank\">71</td><td class=\"a-text-right mojo-field-type-money\">$66,000,000</td><td class=\"a-text-right mojo-field-type-rank\">1,280</td><td class=\"a-text-left mojo-field-type-year\">1972</td></tr>,\n",
       " <tr><td class=\"a-text-left mojo-header-column mojo-truncate mojo-field-type-title\"><a class=\"a-link-normal\" href=\"/title/tt0079588/?ref_=bo_cso_table_72\">The Muppet Movie</a></td><td class=\"a-text-right mojo-field-type-rank\">72</td><td class=\"a-text-right mojo-field-type-money\">$65,810,475</td><td class=\"a-text-right mojo-field-type-rank\">1,284</td><td class=\"a-text-left mojo-field-type-year\"><a class=\"a-link-normal\" href=\"/year/1979/?ref_=bo_cso_table_72\">1979</a></td></tr>,\n",
       " <tr><td class=\"a-text-left mojo-header-column mojo-truncate mojo-field-type-title\"><a class=\"a-link-normal\" href=\"/title/tt0049833/?ref_=bo_cso_table_73\">The Ten Commandments</a></td><td class=\"a-text-right mojo-field-type-rank\">73</td><td class=\"a-text-right mojo-field-type-money\">$65,500,000</td><td class=\"a-text-right mojo-field-type-rank\">1,292</td><td class=\"a-text-left mojo-field-type-year\">1956</td></tr>,\n",
       " <tr><td class=\"a-text-left mojo-header-column mojo-truncate mojo-field-type-title\"><a class=\"a-link-normal\" href=\"/title/tt1127884/?ref_=bo_cso_table_74\">Hannah Montana and Miley Cyrus: Best of Both Worlds Concert</a></td><td class=\"a-text-right mojo-field-type-rank\">74</td><td class=\"a-text-right mojo-field-type-money\">$65,281,781</td><td class=\"a-text-right mojo-field-type-rank\">1,296</td><td class=\"a-text-left mojo-field-type-year\"><a class=\"a-link-normal\" href=\"/year/2008/?ref_=bo_cso_table_74\">2008</a></td></tr>,\n",
       " <tr><td class=\"a-text-left mojo-header-column mojo-truncate mojo-field-type-title\"><a class=\"a-link-normal\" href=\"/title/tt0112431/?ref_=bo_cso_table_75\">Babe</a></td><td class=\"a-text-right mojo-field-type-rank\">75</td><td class=\"a-text-right mojo-field-type-money\">$63,658,910</td><td class=\"a-text-right mojo-field-type-rank\">1,342</td><td class=\"a-text-left mojo-field-type-year\"><a class=\"a-link-normal\" href=\"/year/1995/?ref_=bo_cso_table_75\">1995</a></td></tr>,\n",
       " <tr><td class=\"a-text-left mojo-header-column mojo-truncate mojo-field-type-title\"><a class=\"a-link-normal\" href=\"/title/tt0082406/?ref_=bo_cso_table_76\">The Fox and the Hound</a></td><td class=\"a-text-right mojo-field-type-rank\">76</td><td class=\"a-text-right mojo-field-type-money\">$63,456,988</td><td class=\"a-text-right mojo-field-type-rank\">1,346</td><td class=\"a-text-left mojo-field-type-year\"><a class=\"a-link-normal\" href=\"/year/1981/?ref_=bo_cso_table_76\">1981</a></td></tr>,\n",
       " <tr><td class=\"a-text-left mojo-header-column mojo-truncate mojo-field-type-title\"><a class=\"a-link-normal\" href=\"/title/tt0120910/?ref_=bo_cso_table_77\">Fantasia 2000</a></td><td class=\"a-text-right mojo-field-type-rank\">77</td><td class=\"a-text-right mojo-field-type-money\">$60,655,420</td><td class=\"a-text-right mojo-field-type-rank\">1,408</td><td class=\"a-text-left mojo-field-type-year\"><a class=\"a-link-normal\" href=\"/year/2000/?ref_=bo_cso_table_77\">2000</a></td></tr>,\n",
       " <tr><td class=\"a-text-left mojo-header-column mojo-truncate mojo-field-type-title\"><a class=\"a-link-normal\" href=\"/title/tt0062622/?ref_=bo_cso_table_78\">2001: A Space Odyssey</a></td><td class=\"a-text-right mojo-field-type-rank\">78</td><td class=\"a-text-right mojo-field-type-money\">$60,405,931</td><td class=\"a-text-right mojo-field-type-rank\">1,417</td><td class=\"a-text-left mojo-field-type-year\">1968</td></tr>,\n",
       " <tr><td class=\"a-text-left mojo-header-column mojo-truncate mojo-field-type-title\"><a class=\"a-link-normal\" href=\"/title/tt0118617/?ref_=bo_cso_table_79\">Anastasia</a></td><td class=\"a-text-right mojo-field-type-rank\">79</td><td class=\"a-text-right mojo-field-type-money\">$58,406,347</td><td class=\"a-text-right mojo-field-type-rank\">1,476</td><td class=\"a-text-left mojo-field-type-year\"><a class=\"a-link-normal\" href=\"/year/1997/?ref_=bo_cso_table_79\">1997</a></td></tr>,\n",
       " <tr><td class=\"a-text-left mojo-header-column mojo-truncate mojo-field-type-title\"><a class=\"a-link-normal\" href=\"/title/tt0381971/?ref_=bo_cso_table_80\">Curious George</a></td><td class=\"a-text-right mojo-field-type-rank\">80</td><td class=\"a-text-right mojo-field-type-money\">$58,360,760</td><td class=\"a-text-right mojo-field-type-rank\">1,478</td><td class=\"a-text-left mojo-field-type-year\"><a class=\"a-link-normal\" href=\"/year/2006/?ref_=bo_cso_table_80\">2006</a></td></tr>,\n",
       " <tr><td class=\"a-text-left mojo-header-column mojo-truncate mojo-field-type-title\"><a class=\"a-link-normal\" href=\"/title/tt0056937/?ref_=bo_cso_table_81\">Cleopatra</a></td><td class=\"a-text-right mojo-field-type-rank\">81</td><td class=\"a-text-right mojo-field-type-money\">$57,777,778</td><td class=\"a-text-right mojo-field-type-rank\">1,496</td><td class=\"a-text-left mojo-field-type-year\">1963</td></tr>,\n",
       " <tr><td class=\"a-text-left mojo-header-column mojo-truncate mojo-field-type-title\"><a class=\"a-link-normal\" href=\"/title/tt0312004/?ref_=bo_cso_table_82\">Wallace &amp; Gromit: The Curse of the Were-Rabbit</a></td><td class=\"a-text-right mojo-field-type-rank\">82</td><td class=\"a-text-right mojo-field-type-money\">$56,110,897</td><td class=\"a-text-right mojo-field-type-rank\">1,556</td><td class=\"a-text-left mojo-field-type-year\"><a class=\"a-link-normal\" href=\"/year/2005/?ref_=bo_cso_table_82\">2005</a></td></tr>,\n",
       " <tr><td class=\"a-text-left mojo-header-column mojo-truncate mojo-field-type-title\"><a class=\"a-link-normal\" href=\"/title/tt1433813/?ref_=bo_cso_table_83\">Hubble 3D</a></td><td class=\"a-text-right mojo-field-type-rank\">83</td><td class=\"a-text-right mojo-field-type-money\">$52,522,904</td><td class=\"a-text-right mojo-field-type-rank\">1,669</td><td class=\"a-text-left mojo-field-type-year\"><a class=\"a-link-normal\" href=\"/year/2010/?ref_=bo_cso_table_83\">2010</a></td></tr>,\n",
       " <tr><td class=\"a-text-left mojo-header-column mojo-truncate mojo-field-type-title\"><a class=\"a-link-normal\" href=\"/title/tt0062994/?ref_=bo_cso_table_84\">Funny Girl</a></td><td class=\"a-text-right mojo-field-type-rank\">84</td><td class=\"a-text-right mojo-field-type-money\">$52,223,306</td><td class=\"a-text-right mojo-field-type-rank\">1,678</td><td class=\"a-text-left mojo-field-type-year\">1968</td></tr>,\n",
       " <tr><td class=\"a-text-left mojo-header-column mojo-truncate mojo-field-type-title\"><a class=\"a-link-normal\" href=\"/title/tt0053285/?ref_=bo_cso_table_85\">Sleeping Beauty</a></td><td class=\"a-text-right mojo-field-type-rank\">85</td><td class=\"a-text-right mojo-field-type-money\">$51,600,000</td><td class=\"a-text-right mojo-field-type-rank\">1,705</td><td class=\"a-text-left mojo-field-type-year\">1959</td></tr>,\n",
       " <tr><td class=\"a-text-left mojo-header-column mojo-truncate mojo-field-type-title\"><a class=\"a-link-normal\" href=\"/title/tt0064603/?ref_=bo_cso_table_86\">The Love Bug</a></td><td class=\"a-text-right mojo-field-type-rank\">86</td><td class=\"a-text-right mojo-field-type-money\">$51,264,000</td><td class=\"a-text-right mojo-field-type-rank\">1,717</td><td class=\"a-text-left mojo-field-type-year\">1969</td></tr>,\n",
       " <tr><td class=\"a-text-left mojo-header-column mojo-truncate mojo-field-type-title\"><a class=\"a-link-normal\" href=\"/title/tt0420238/?ref_=bo_cso_table_87\">The Tale of Despereaux</a></td><td class=\"a-text-right mojo-field-type-rank\">87</td><td class=\"a-text-right mojo-field-type-money\">$50,877,145</td><td class=\"a-text-right mojo-field-type-rank\">1,731</td><td class=\"a-text-left mojo-field-type-year\"><a class=\"a-link-normal\" href=\"/year/2008/?ref_=bo_cso_table_87\">2008</a></td></tr>,\n",
       " <tr><td class=\"a-text-left mojo-header-column mojo-truncate mojo-field-type-title\"><a class=\"a-link-normal\" href=\"/title/tt0280030/?ref_=bo_cso_table_88\">Peter Pan 2: Return to Never Land</a></td><td class=\"a-text-right mojo-field-type-rank\">88</td><td class=\"a-text-right mojo-field-type-money\">$48,430,258</td><td class=\"a-text-right mojo-field-type-rank\">1,816</td><td class=\"a-text-left mojo-field-type-year\"><a class=\"a-link-normal\" href=\"/year/2002/?ref_=bo_cso_table_88\">2002</a></td></tr>,\n",
       " <tr><td class=\"a-text-left mojo-header-column mojo-truncate mojo-field-type-title\"><a class=\"a-link-normal\" href=\"/title/tt0095489/?ref_=bo_cso_table_89\">The Land Before Time</a></td><td class=\"a-text-right mojo-field-type-rank\">89</td><td class=\"a-text-right mojo-field-type-money\">$48,092,846</td><td class=\"a-text-right mojo-field-type-rank\">1,830</td><td class=\"a-text-left mojo-field-type-year\"><a class=\"a-link-normal\" href=\"/year/1988/?ref_=bo_cso_table_89\">1988</a></td></tr>,\n",
       " <tr><td class=\"a-text-left mojo-header-column mojo-truncate mojo-field-type-title\"><a class=\"a-link-normal\" href=\"/title/tt0283426/?ref_=bo_cso_table_90\">The Jungle Book 2</a></td><td class=\"a-text-right mojo-field-type-rank\">90</td><td class=\"a-text-right mojo-field-type-money\">$47,901,582</td><td class=\"a-text-right mojo-field-type-rank\">1,840</td><td class=\"a-text-left mojo-field-type-year\"><a class=\"a-link-normal\" href=\"/year/2003/?ref_=bo_cso_table_90\">2003</a></td></tr>,\n",
       " <tr><td class=\"a-text-left mojo-header-column mojo-truncate mojo-field-type-title\"><a class=\"a-link-normal\" href=\"/title/tt0090633/?ref_=bo_cso_table_91\">An American Tail</a></td><td class=\"a-text-right mojo-field-type-rank\">91</td><td class=\"a-text-right mojo-field-type-money\">$47,483,002</td><td class=\"a-text-right mojo-field-type-rank\">1,856</td><td class=\"a-text-left mojo-field-type-year\"><a class=\"a-link-normal\" href=\"/year/1986/?ref_=bo_cso_table_91\">1986</a></td></tr>,\n",
       " <tr><td class=\"a-text-left mojo-header-column mojo-truncate mojo-field-type-title\"><a class=\"a-link-normal\" href=\"/title/tt0424942/?ref_=bo_cso_table_92\">Deep Sea</a></td><td class=\"a-text-right mojo-field-type-rank\">92</td><td class=\"a-text-right mojo-field-type-money\">$46,412,757</td><td class=\"a-text-right mojo-field-type-rank\">1,901</td><td class=\"a-text-left mojo-field-type-year\"><a class=\"a-link-normal\" href=\"/year/2006/?ref_=bo_cso_table_92\">2006</a></td></tr>,\n",
       " <tr><td class=\"a-text-left mojo-header-column mojo-truncate mojo-field-type-title\"><a class=\"a-link-normal\" href=\"/title/tt0057193/?ref_=bo_cso_table_93\">It's a Mad Mad Mad Mad World</a></td><td class=\"a-text-right mojo-field-type-rank\">93</td><td class=\"a-text-right mojo-field-type-money\">$46,332,858</td><td class=\"a-text-right mojo-field-type-rank\">1,906</td><td class=\"a-text-left mojo-field-type-year\">1963</td></tr>,\n",
       " <tr><td class=\"a-text-left mojo-header-column mojo-truncate mojo-field-type-title\"><a class=\"a-link-normal\" href=\"/title/tt0997047/?ref_=bo_cso_table_94\">College Road Trip</a></td><td class=\"a-text-right mojo-field-type-rank\">94</td><td class=\"a-text-right mojo-field-type-money\">$45,610,425</td><td class=\"a-text-right mojo-field-type-rank\">1,929</td><td class=\"a-text-left mojo-field-type-year\"><a class=\"a-link-normal\" href=\"/year/2008/?ref_=bo_cso_table_94\">2008</a></td></tr>,\n",
       " <tr><td class=\"a-text-left mojo-header-column mojo-truncate mojo-field-type-title\"><a class=\"a-link-normal\" href=\"/title/tt0220099/?ref_=bo_cso_table_95\">The Tigger Movie</a></td><td class=\"a-text-right mojo-field-type-rank\">95</td><td class=\"a-text-right mojo-field-type-money\">$45,554,533</td><td class=\"a-text-right mojo-field-type-rank\">1,931</td><td class=\"a-text-left mojo-field-type-year\"><a class=\"a-link-normal\" href=\"/year/2000/?ref_=bo_cso_table_95\">2000</a></td></tr>,\n",
       " <tr><td class=\"a-text-left mojo-header-column mojo-truncate mojo-field-type-title\"><a class=\"a-link-normal\" href=\"/title/tt0063374/?ref_=bo_cso_table_96\">The Odd Couple</a></td><td class=\"a-text-right mojo-field-type-rank\">96</td><td class=\"a-text-right mojo-field-type-money\">$44,527,234</td><td class=\"a-text-right mojo-field-type-rank\">1,978</td><td class=\"a-text-left mojo-field-type-year\">1968</td></tr>,\n",
       " <tr><td class=\"a-text-left mojo-header-column mojo-truncate mojo-field-type-title\"><a class=\"a-link-normal\" href=\"/title/tt0210234/?ref_=bo_cso_table_97\">Pokémon the Movie 2000</a></td><td class=\"a-text-right mojo-field-type-rank\">97</td><td class=\"a-text-right mojo-field-type-money\">$43,758,684</td><td class=\"a-text-right mojo-field-type-rank\">2,012</td><td class=\"a-text-left mojo-field-type-year\"><a class=\"a-link-normal\" href=\"/year/2000/?ref_=bo_cso_table_97\">2000</a></td></tr>,\n",
       " <tr><td class=\"a-text-left mojo-header-column mojo-truncate mojo-field-type-title\"><a class=\"a-link-normal\" href=\"/title/tt0048960/?ref_=bo_cso_table_98\">Around the World in 80 Days</a></td><td class=\"a-text-right mojo-field-type-rank\">98</td><td class=\"a-text-right mojo-field-type-money\">$42,000,000</td><td class=\"a-text-right mojo-field-type-rank\">2,090</td><td class=\"a-text-left mojo-field-type-year\">1956</td></tr>,\n",
       " <tr><td class=\"a-text-left mojo-header-column mojo-truncate mojo-field-type-title\"><a class=\"a-link-normal\" href=\"/title/tt0072081/?ref_=bo_cso_table_99\">The Return of the Pink Panther</a></td><td class=\"a-text-right mojo-field-type-rank\">99</td><td class=\"a-text-right mojo-field-type-money\">$41,833,347</td><td class=\"a-text-right mojo-field-type-rank\">2,096</td><td class=\"a-text-left mojo-field-type-year\">1975</td></tr>,\n",
       " <tr><td class=\"a-text-left mojo-header-column mojo-truncate mojo-field-type-title\"><a class=\"a-link-normal\" href=\"/title/tt0107131/?ref_=bo_cso_table_100\">Homeward Bound: The Incredible Journey</a></td><td class=\"a-text-right mojo-field-type-rank\">100</td><td class=\"a-text-right mojo-field-type-money\">$41,833,324</td><td class=\"a-text-right mojo-field-type-rank\">2,097</td><td class=\"a-text-left mojo-field-type-year\"><a class=\"a-link-normal\" href=\"/year/1993/?ref_=bo_cso_table_100\">1993</a></td></tr>,\n",
       " <tr><td class=\"a-text-left mojo-header-column mojo-truncate mojo-field-type-title\"><a class=\"a-link-normal\" href=\"/title/tt0054357/?ref_=bo_cso_table_101\">Swiss Family Robinson</a></td><td class=\"a-text-right mojo-field-type-rank\">101</td><td class=\"a-text-right mojo-field-type-money\">$40,356,000</td><td class=\"a-text-right mojo-field-type-rank\">2,167</td><td class=\"a-text-left mojo-field-type-year\">1960</td></tr>,\n",
       " <tr><td class=\"a-text-left mojo-header-column mojo-truncate mojo-field-type-title\"><a class=\"a-link-normal\" href=\"/title/tt11832046/?ref_=bo_cso_table_102\">PAW Patrol: The Movie</a></td><td class=\"a-text-right mojo-field-type-rank\">102</td><td class=\"a-text-right mojo-field-type-money\">$40,127,371</td><td class=\"a-text-right mojo-field-type-rank\">2,182</td><td class=\"a-text-left mojo-field-type-year\"><a class=\"a-link-normal\" href=\"/year/2021/?ref_=bo_cso_table_102\">2021</a></td></tr>,\n",
       " <tr><td class=\"a-text-left mojo-header-column mojo-truncate mojo-field-type-title\"><a class=\"a-link-normal\" href=\"/title/tt0076538/?ref_=bo_cso_table_103\">Pete's Dragon</a></td><td class=\"a-text-right mojo-field-type-rank\">103</td><td class=\"a-text-right mojo-field-type-money\">$39,588,000</td><td class=\"a-text-right mojo-field-type-rank\">2,205</td><td class=\"a-text-left mojo-field-type-year\"><a class=\"a-link-normal\" href=\"/year/1977/?ref_=bo_cso_table_103\">1977</a></td></tr>,\n",
       " <tr><td class=\"a-text-left mojo-header-column mojo-truncate mojo-field-type-title\"><a class=\"a-link-normal\" href=\"/title/tt0071206/?ref_=bo_cso_table_104\">Benji</a></td><td class=\"a-text-right mojo-field-type-rank\">104</td><td class=\"a-text-right mojo-field-type-money\">$39,552,000</td><td class=\"a-text-right mojo-field-type-rank\">2,208</td><td class=\"a-text-left mojo-field-type-year\">1974</td></tr>,\n",
       " <tr><td class=\"a-text-left mojo-header-column mojo-truncate mojo-field-type-title\"><a class=\"a-link-normal\" href=\"/title/tt0091149/?ref_=bo_cso_table_105\">The Great Mouse Detective</a></td><td class=\"a-text-right mojo-field-type-rank\">105</td><td class=\"a-text-right mojo-field-type-money\">$38,625,550</td><td class=\"a-text-right mojo-field-type-rank\">2,250</td><td class=\"a-text-left mojo-field-type-year\"><a class=\"a-link-normal\" href=\"/year/1986/?ref_=bo_cso_table_105\">1986</a></td></tr>,\n",
       " <tr><td class=\"a-text-left mojo-header-column mojo-truncate mojo-field-type-title\"><a class=\"a-link-normal\" href=\"/title/tt0071607/?ref_=bo_cso_table_106\">Herbie Rides Again</a></td><td class=\"a-text-right mojo-field-type-rank\">106</td><td class=\"a-text-right mojo-field-type-money\">$38,229,000</td><td class=\"a-text-right mojo-field-type-rank\">2,274</td><td class=\"a-text-left mojo-field-type-year\">1974</td></tr>,\n",
       " <tr><td class=\"a-text-left mojo-header-column mojo-truncate mojo-field-type-title\"><a class=\"a-link-normal\" href=\"/title/tt0078872/?ref_=bo_cso_table_107\">The Black Stallion</a></td><td class=\"a-text-right mojo-field-type-rank\">107</td><td class=\"a-text-right mojo-field-type-money\">$37,799,643</td><td class=\"a-text-right mojo-field-type-rank\">2,305</td><td class=\"a-text-left mojo-field-type-year\"><a class=\"a-link-normal\" href=\"/year/1979/?ref_=bo_cso_table_107\">1979</a></td></tr>,\n",
       " <tr><td class=\"a-text-left mojo-header-column mojo-truncate mojo-field-type-title\"><a class=\"a-link-normal\" href=\"/title/tt0038969/?ref_=bo_cso_table_108\">Song of the South</a></td><td class=\"a-text-right mojo-field-type-rank\">108</td><td class=\"a-text-right mojo-field-type-money\">$37,459,346</td><td class=\"a-text-right mojo-field-type-rank\">2,326</td><td class=\"a-text-left mojo-field-type-year\"><a class=\"a-link-normal\" href=\"/year/1980/?ref_=bo_cso_table_108\">1980</a></td></tr>,\n",
       " <tr><td class=\"a-text-left mojo-header-column mojo-truncate mojo-field-type-title\"><a class=\"a-link-normal\" href=\"/title/tt0405469/?ref_=bo_cso_table_109\">The Wild</a></td><td class=\"a-text-right mojo-field-type-rank\">109</td><td class=\"a-text-right mojo-field-type-money\">$37,384,046</td><td class=\"a-text-right mojo-field-type-rank\">2,330</td><td class=\"a-text-left mojo-field-type-year\"><a class=\"a-link-normal\" href=\"/year/2006/?ref_=bo_cso_table_109\">2006</a></td></tr>,\n",
       " <tr><td class=\"a-text-left mojo-header-column mojo-truncate mojo-field-type-title\"><a class=\"a-link-normal\" href=\"/title/tt0072653/?ref_=bo_cso_table_110\">The Apple Dumpling Gang</a></td><td class=\"a-text-right mojo-field-type-rank\">110</td><td class=\"a-text-right mojo-field-type-money\">$36,853,000</td><td class=\"a-text-right mojo-field-type-rank\">2,357</td><td class=\"a-text-left mojo-field-type-year\">1975</td></tr>,\n",
       " <tr><td class=\"a-text-left mojo-header-column mojo-truncate mojo-field-type-title\"><a class=\"a-link-normal\" href=\"/title/tt0265632/?ref_=bo_cso_table_111\">Recess: School's Out</a></td><td class=\"a-text-right mojo-field-type-rank\">111</td><td class=\"a-text-right mojo-field-type-money\">$36,706,141</td><td class=\"a-text-right mojo-field-type-rank\">2,368</td><td class=\"a-text-left mojo-field-type-year\"><a class=\"a-link-normal\" href=\"/year/2001/?ref_=bo_cso_table_111\">2001</a></td></tr>,\n",
       " <tr><td class=\"a-text-left mojo-header-column mojo-truncate mojo-field-type-title\"><a class=\"a-link-normal\" href=\"/title/tt1020876/?ref_=bo_cso_table_112\">Under the Sea 3D</a></td><td class=\"a-text-right mojo-field-type-rank\">112</td><td class=\"a-text-right mojo-field-type-money\">$36,262,926</td><td class=\"a-text-right mojo-field-type-rank\">2,397</td><td class=\"a-text-left mojo-field-type-year\"><a class=\"a-link-normal\" href=\"/year/2009/?ref_=bo_cso_table_112\">2009</a></td></tr>,\n",
       " <tr><td class=\"a-text-left mojo-header-column mojo-truncate mojo-field-type-title\"><a class=\"a-link-normal\" href=\"/title/tt0065421/?ref_=bo_cso_table_113\">The Aristocats</a></td><td class=\"a-text-right mojo-field-type-rank\">113</td><td class=\"a-text-right mojo-field-type-money\">$35,452,658</td><td class=\"a-text-right mojo-field-type-rank\">2,438</td><td class=\"a-text-left mojo-field-type-year\"><a class=\"a-link-normal\" href=\"/year/1980/?ref_=bo_cso_table_113\">1980</a></td></tr>,\n",
       " <tr><td class=\"a-text-left mojo-header-column mojo-truncate mojo-field-type-title\"><a class=\"a-link-normal\" href=\"/title/tt0113198/?ref_=bo_cso_table_114\">A Goofy Movie</a></td><td class=\"a-text-right mojo-field-type-rank\">114</td><td class=\"a-text-right mojo-field-type-money\">$35,348,597</td><td class=\"a-text-right mojo-field-type-rank\">2,449</td><td class=\"a-text-left mojo-field-type-year\"><a class=\"a-link-normal\" href=\"/year/1995/?ref_=bo_cso_table_114\">1995</a></td></tr>,\n",
       " <tr><td class=\"a-text-left mojo-header-column mojo-truncate mojo-field-type-title\"><a class=\"a-link-normal\" href=\"/title/tt0117110/?ref_=bo_cso_table_115\">Muppet Treasure Island</a></td><td class=\"a-text-right mojo-field-type-rank\">115</td><td class=\"a-text-right mojo-field-type-money\">$34,327,391</td><td class=\"a-text-right mojo-field-type-rank\">2,514</td><td class=\"a-text-left mojo-field-type-year\"><a class=\"a-link-normal\" href=\"/year/1996/?ref_=bo_cso_table_115\">1996</a></td></tr>,\n",
       " <tr><td class=\"a-text-left mojo-header-column mojo-truncate mojo-field-type-title\"><a class=\"a-link-normal\" href=\"/title/tt0453451/?ref_=bo_cso_table_116\">Mr. Bean's Holiday</a></td><td class=\"a-text-right mojo-field-type-rank\">116</td><td class=\"a-text-right mojo-field-type-money\">$33,302,167</td><td class=\"a-text-right mojo-field-type-rank\">2,574</td><td class=\"a-text-left mojo-field-type-year\"><a class=\"a-link-normal\" href=\"/year/2007/?ref_=bo_cso_table_116\">2007</a></td></tr>,\n",
       " <tr><td class=\"a-text-left mojo-header-column mojo-truncate mojo-field-type-title\"><a class=\"a-link-normal\" href=\"/title/tt0049261/?ref_=bo_cso_table_117\">Giant</a></td><td class=\"a-text-right mojo-field-type-rank\">117</td><td class=\"a-text-right mojo-field-type-money\">$32,855,818</td><td class=\"a-text-right mojo-field-type-rank\">2,601</td><td class=\"a-text-left mojo-field-type-year\">1956</td></tr>,\n",
       " <tr><td class=\"a-text-left mojo-header-column mojo-truncate mojo-field-type-title\"><a class=\"a-link-normal\" href=\"/title/tt0116552/?ref_=bo_cso_table_118\">Homeward Bound II: Lost in San Francisco</a></td><td class=\"a-text-right mojo-field-type-rank\">118</td><td class=\"a-text-right mojo-field-type-money\">$32,772,492</td><td class=\"a-text-right mojo-field-type-rank\">2,604</td><td class=\"a-text-left mojo-field-type-year\"><a class=\"a-link-normal\" href=\"/year/1996/?ref_=bo_cso_table_118\">1996</a></td></tr>,\n",
       " <tr><td class=\"a-text-left mojo-header-column mojo-truncate mojo-field-type-title\"><a class=\"a-link-normal\" href=\"/title/tt0063442/?ref_=bo_cso_table_119\">Planet of the Apes</a></td><td class=\"a-text-right mojo-field-type-rank\">119</td><td class=\"a-text-right mojo-field-type-money\">$32,589,624</td><td class=\"a-text-right mojo-field-type-rank\">2,622</td><td class=\"a-text-left mojo-field-type-year\">1968</td></tr>,\n",
       " <tr><td class=\"a-text-left mojo-header-column mojo-truncate mojo-field-type-title\"><a class=\"a-link-normal\" href=\"/title/tt0457419/?ref_=bo_cso_table_120\">Mr. Magorium's Wonder Emporium</a></td><td class=\"a-text-right mojo-field-type-rank\">120</td><td class=\"a-text-right mojo-field-type-money\">$32,061,555</td><td class=\"a-text-right mojo-field-type-rank\">2,661</td><td class=\"a-text-left mojo-field-type-year\"><a class=\"a-link-normal\" href=\"/year/2007/?ref_=bo_cso_table_120\">2007</a></td></tr>,\n",
       " <tr><td class=\"a-text-left mojo-header-column mojo-truncate mojo-field-type-title\"><a class=\"a-link-normal\" href=\"/title/tt0393597/?ref_=bo_cso_table_121\">Earth</a></td><td class=\"a-text-right mojo-field-type-rank\">121</td><td class=\"a-text-right mojo-field-type-money\">$32,011,576</td><td class=\"a-text-right mojo-field-type-rank\">2,666</td><td class=\"a-text-left mojo-field-type-year\"><a class=\"a-link-normal\" href=\"/year/2009/?ref_=bo_cso_table_121\">2009</a></td></tr>,\n",
       " <tr><td class=\"a-text-left mojo-header-column mojo-truncate mojo-field-type-title\"><a class=\"a-link-normal\" href=\"/title/tt0082474/?ref_=bo_cso_table_122\">The Great Muppet Caper</a></td><td class=\"a-text-right mojo-field-type-rank\">122</td><td class=\"a-text-right mojo-field-type-money\">$31,206,251</td><td class=\"a-text-right mojo-field-type-rank\">2,719</td><td class=\"a-text-left mojo-field-type-year\"><a class=\"a-link-normal\" href=\"/year/1981/?ref_=bo_cso_table_122\">1981</a></td></tr>,\n",
       " <tr><td class=\"a-text-left mojo-header-column mojo-truncate mojo-field-type-title\"><a class=\"a-link-normal\" href=\"/title/tt0108071/?ref_=bo_cso_table_123\">The Secret Garden</a></td><td class=\"a-text-right mojo-field-type-rank\">123</td><td class=\"a-text-right mojo-field-type-money\">$31,181,347</td><td class=\"a-text-right mojo-field-type-rank\">2,723</td><td class=\"a-text-left mojo-field-type-year\"><a class=\"a-link-normal\" href=\"/year/1993/?ref_=bo_cso_table_123\">1993</a></td></tr>,\n",
       " <tr><td class=\"a-text-left mojo-header-column mojo-truncate mojo-field-type-title\"><a class=\"a-link-normal\" href=\"/title/tt0482603/?ref_=bo_cso_table_124\">Space Chimps</a></td><td class=\"a-text-right mojo-field-type-rank\">124</td><td class=\"a-text-right mojo-field-type-money\">$30,105,968</td><td class=\"a-text-right mojo-field-type-rank\">2,801</td><td class=\"a-text-left mojo-field-type-year\"><a class=\"a-link-normal\" href=\"/year/2008/?ref_=bo_cso_table_124\">2008</a></td></tr>,\n",
       " <tr><td class=\"a-text-left mojo-header-column mojo-truncate mojo-field-type-title\"><a class=\"a-link-normal\" href=\"/title/tt0076137/?ref_=bo_cso_table_125\">Herbie Goes to Monte Carlo</a></td><td class=\"a-text-right mojo-field-type-rank\">125</td><td class=\"a-text-right mojo-field-type-money\">$29,000,000</td><td class=\"a-text-right mojo-field-type-rank\">2,862</td><td class=\"a-text-left mojo-field-type-year\"><a class=\"a-link-normal\" href=\"/year/1977/?ref_=bo_cso_table_125\">1977</a></td></tr>,\n",
       " <tr><td class=\"a-text-left mojo-header-column mojo-truncate mojo-field-type-title\"><a class=\"a-link-normal\" href=\"/title/tt1222815/?ref_=bo_cso_table_126\">Chimpanzee</a></td><td class=\"a-text-right mojo-field-type-rank\">126</td><td class=\"a-text-right mojo-field-type-money\">$28,972,764</td><td class=\"a-text-right mojo-field-type-rank\">2,863</td><td class=\"a-text-left mojo-field-type-year\"><a class=\"a-link-normal\" href=\"/year/2012/?ref_=bo_cso_table_126\">2012</a></td></tr>,\n",
       " <tr><td class=\"a-text-left mojo-header-column mojo-truncate mojo-field-type-title\"><a class=\"a-link-normal\" href=\"/title/tt0100477/?ref_=bo_cso_table_127\">The Rescuers Down Under</a></td><td class=\"a-text-right mojo-field-type-rank\">127</td><td class=\"a-text-right mojo-field-type-money\">$27,931,461</td><td class=\"a-text-right mojo-field-type-rank\">2,923</td><td class=\"a-text-left mojo-field-type-year\"><a class=\"a-link-normal\" href=\"/year/1990/?ref_=bo_cso_table_127\">1990</a></td></tr>,\n",
       " <tr><td class=\"a-text-left mojo-header-column mojo-truncate mojo-field-type-title\"><a class=\"a-link-normal\" href=\"/title/tt0104940/?ref_=bo_cso_table_128\">The Muppet Christmas Carol</a></td><td class=\"a-text-right mojo-field-type-rank\">128</td><td class=\"a-text-right mojo-field-type-money\">$27,381,507</td><td class=\"a-text-right mojo-field-type-rank\">2,957</td><td class=\"a-text-left mojo-field-type-year\"><a class=\"a-link-normal\" href=\"/year/1992/?ref_=bo_cso_table_128\">1992</a></td></tr>,\n",
       " <tr><td class=\"a-text-left mojo-header-column mojo-truncate mojo-field-type-title\"><a class=\"a-link-normal\" href=\"/title/tt0096787/?ref_=bo_cso_table_129\">All Dogs Go to Heaven</a></td><td class=\"a-text-right mojo-field-type-rank\">129</td><td class=\"a-text-right mojo-field-type-money\">$27,100,027</td><td class=\"a-text-right mojo-field-type-rank\">2,977</td><td class=\"a-text-left mojo-field-type-year\"><a class=\"a-link-normal\" href=\"/year/1989/?ref_=bo_cso_table_129\">1989</a></td></tr>,\n",
       " <tr><td class=\"a-text-left mojo-header-column mojo-truncate mojo-field-type-title\"><a class=\"a-link-normal\" href=\"/title/tt0072272/?ref_=bo_cso_table_130\">That's Entertainment!</a></td><td class=\"a-text-right mojo-field-type-rank\">130</td><td class=\"a-text-right mojo-field-type-money\">$26,890,200</td><td class=\"a-text-right mojo-field-type-rank\">2,991</td><td class=\"a-text-left mojo-field-type-year\">1974</td></tr>,\n",
       " <tr><td class=\"a-text-left mojo-header-column mojo-truncate mojo-field-type-title\"><a class=\"a-link-normal\" href=\"/title/tt1449283/?ref_=bo_cso_table_131\">Winnie the Pooh</a></td><td class=\"a-text-right mojo-field-type-rank\">131</td><td class=\"a-text-right mojo-field-type-money\">$26,692,846</td><td class=\"a-text-right mojo-field-type-rank\">3,008</td><td class=\"a-text-left mojo-field-type-year\"><a class=\"a-link-normal\" href=\"/year/2011/?ref_=bo_cso_table_131\">2011</a></td></tr>,\n",
       " <tr><td class=\"a-text-left mojo-header-column mojo-truncate mojo-field-type-title\"><a class=\"a-link-normal\" href=\"/title/tt0493949/?ref_=bo_cso_table_132\">Ramona and Beezus</a></td><td class=\"a-text-right mojo-field-type-rank\">132</td><td class=\"a-text-right mojo-field-type-money\">$26,167,002</td><td class=\"a-text-right mojo-field-type-rank\">3,044</td><td class=\"a-text-left mojo-field-type-year\"><a class=\"a-link-normal\" href=\"/year/2010/?ref_=bo_cso_table_132\">2010</a></td></tr>,\n",
       " <tr><td class=\"a-text-left mojo-header-column mojo-truncate mojo-field-type-title\"><a class=\"a-link-normal\" href=\"/title/tt1680059/?ref_=bo_cso_table_133\">Born to Be Wild</a></td><td class=\"a-text-right mojo-field-type-rank\">133</td><td class=\"a-text-right mojo-field-type-money\">$25,978,556</td><td class=\"a-text-right mojo-field-type-rank\">3,057</td><td class=\"a-text-left mojo-field-type-year\"><a class=\"a-link-normal\" href=\"/year/2011/?ref_=bo_cso_table_133\">2011</a></td></tr>,\n",
       " <tr><td class=\"a-text-left mojo-header-column mojo-truncate mojo-field-type-title\"><a class=\"a-link-normal\" href=\"/title/tt0076054/?ref_=bo_cso_table_134\">Freaky Friday</a></td><td class=\"a-text-right mojo-field-type-rank\">134</td><td class=\"a-text-right mojo-field-type-money\">$25,942,000</td><td class=\"a-text-right mojo-field-type-rank\">3,058</td><td class=\"a-text-left mojo-field-type-year\"><a class=\"a-link-normal\" href=\"/year/1977/?ref_=bo_cso_table_134\">1977</a></td></tr>,\n",
       " <tr><td class=\"a-text-left mojo-header-column mojo-truncate mojo-field-type-title\"><a class=\"a-link-normal\" href=\"/title/tt0298388/?ref_=bo_cso_table_135\">Jonah: A VeggieTales Movie</a></td><td class=\"a-text-right mojo-field-type-rank\">135</td><td class=\"a-text-right mojo-field-type-money\">$25,581,229</td><td class=\"a-text-right mojo-field-type-rank\">3,094</td><td class=\"a-text-left mojo-field-type-year\"><a class=\"a-link-normal\" href=\"/year/2002/?ref_=bo_cso_table_135\">2002</a></td></tr>,\n",
       " <tr><td class=\"a-text-left mojo-header-column mojo-truncate mojo-field-type-title\"><a class=\"a-link-normal\" href=\"/title/tt0087755/?ref_=bo_cso_table_136\">The Muppets Take Manhattan</a></td><td class=\"a-text-right mojo-field-type-rank\">136</td><td class=\"a-text-right mojo-field-type-money\">$25,534,703</td><td class=\"a-text-right mojo-field-type-rank\">3,099</td><td class=\"a-text-left mojo-field-type-year\"><a class=\"a-link-normal\" href=\"/year/1984/?ref_=bo_cso_table_136\">1984</a></td></tr>,\n",
       " <tr><td class=\"a-text-left mojo-header-column mojo-truncate mojo-field-type-title\"><a class=\"a-link-normal\" href=\"/title/tt0104254/?ref_=bo_cso_table_137\">FernGully: The Last Rainforest</a></td><td class=\"a-text-right mojo-field-type-rank\">137</td><td class=\"a-text-right mojo-field-type-money\">$24,650,296</td><td class=\"a-text-right mojo-field-type-rank\">3,179</td><td class=\"a-text-left mojo-field-type-year\"><a class=\"a-link-normal\" href=\"/year/1992/?ref_=bo_cso_table_137\">1992</a></td></tr>,\n",
       " <tr><td class=\"a-text-left mojo-header-column mojo-truncate mojo-field-type-title\"><a class=\"a-link-normal\" href=\"/title/tt0032138/?ref_=bo_cso_table_138\">The Wizard of Oz</a></td><td class=\"a-text-right mojo-field-type-rank\">138</td><td class=\"a-text-right mojo-field-type-money\">$24,438,411</td><td class=\"a-text-right mojo-field-type-rank\">3,191</td><td class=\"a-text-left mojo-field-type-year\">1939</td></tr>,\n",
       " <tr><td class=\"a-text-left mojo-header-column mojo-truncate mojo-field-type-title\"><a class=\"a-link-normal\" href=\"/title/tt0396652/?ref_=bo_cso_table_139\">Ice Princess</a></td><td class=\"a-text-right mojo-field-type-rank\">139</td><td class=\"a-text-right mojo-field-type-money\">$24,402,491</td><td class=\"a-text-right mojo-field-type-rank\">3,194</td><td class=\"a-text-left mojo-field-type-year\"><a class=\"a-link-normal\" href=\"/year/2005/?ref_=bo_cso_table_139\">2005</a></td></tr>,\n",
       " <tr><td class=\"a-text-left mojo-header-column mojo-truncate mojo-field-type-title\"><a class=\"a-link-normal\" href=\"/title/tt0323642/?ref_=bo_cso_table_140\">Piglet's Big Movie</a></td><td class=\"a-text-right mojo-field-type-rank\">140</td><td class=\"a-text-right mojo-field-type-money\">$23,103,423</td><td class=\"a-text-right mojo-field-type-rank\">3,281</td><td class=\"a-text-left mojo-field-type-year\"><a class=\"a-link-normal\" href=\"/year/2003/?ref_=bo_cso_table_140\">2003</a></td></tr>,\n",
       " <tr><td class=\"a-text-left mojo-header-column mojo-truncate mojo-field-type-title\"><a class=\"a-link-normal\" href=\"/title/tt0088885/?ref_=bo_cso_table_141\">The Care Bears Movie</a></td><td class=\"a-text-right mojo-field-type-rank\">141</td><td class=\"a-text-right mojo-field-type-money\">$22,934,622</td><td class=\"a-text-right mojo-field-type-rank\">3,294</td><td class=\"a-text-left mojo-field-type-year\"><a class=\"a-link-normal\" href=\"/year/1985/?ref_=bo_cso_table_141\">1985</a></td></tr>,\n",
       " <tr><td class=\"a-text-left mojo-header-column mojo-truncate mojo-field-type-title\"><a class=\"a-link-normal\" href=\"/title/tt0120800/?ref_=bo_cso_table_142\">Quest for Camelot</a></td><td class=\"a-text-right mojo-field-type-rank\">142</td><td class=\"a-text-right mojo-field-type-money\">$22,510,798</td><td class=\"a-text-right mojo-field-type-rank\">3,330</td><td class=\"a-text-left mojo-field-type-year\"><a class=\"a-link-normal\" href=\"/year/1998/?ref_=bo_cso_table_142\">1998</a></td></tr>,\n",
       " <tr><td class=\"a-text-left mojo-header-column mojo-truncate mojo-field-type-title\"><a class=\"a-link-normal\" href=\"/title/tt0092638/?ref_=bo_cso_table_143\">Benji the Hunted</a></td><td class=\"a-text-right mojo-field-type-rank\">143</td><td class=\"a-text-right mojo-field-type-money\">$22,257,624</td><td class=\"a-text-right mojo-field-type-rank\">3,354</td><td class=\"a-text-left mojo-field-type-year\"><a class=\"a-link-normal\" href=\"/year/1987/?ref_=bo_cso_table_143\">1987</a></td></tr>,\n",
       " <tr><td class=\"a-text-left mojo-header-column mojo-truncate mojo-field-type-title\"><a class=\"a-link-normal\" href=\"/title/tt0101329/?ref_=bo_cso_table_144\">An American Tail: Fievel Goes West</a></td><td class=\"a-text-right mojo-field-type-rank\">144</td><td class=\"a-text-right mojo-field-type-money\">$22,166,041</td><td class=\"a-text-right mojo-field-type-rank\">3,366</td><td class=\"a-text-left mojo-field-type-year\"><a class=\"a-link-normal\" href=\"/year/1991/?ref_=bo_cso_table_144\">1991</a></td></tr>,\n",
       " <tr><td class=\"a-text-left mojo-header-column mojo-truncate mojo-field-type-title\"><a class=\"a-link-normal\" href=\"/title/tt0074599/?ref_=bo_cso_table_145\">Gus</a></td><td class=\"a-text-right mojo-field-type-rank\">145</td><td class=\"a-text-right mojo-field-type-money\">$21,873,000</td><td class=\"a-text-right mojo-field-type-rank\">3,383</td><td class=\"a-text-left mojo-field-type-year\">1976</td></tr>,\n",
       " <tr><td class=\"a-text-left mojo-header-column mojo-truncate mojo-field-type-title\"><a class=\"a-link-normal\" href=\"/title/tt0049408/?ref_=bo_cso_table_146\">The King and I</a></td><td class=\"a-text-right mojo-field-type-rank\">146</td><td class=\"a-text-right mojo-field-type-money\">$21,300,000</td><td class=\"a-text-right mojo-field-type-rank\">3,449</td><td class=\"a-text-left mojo-field-type-year\">1956</td></tr>,\n",
       " <tr><td class=\"a-text-left mojo-header-column mojo-truncate mojo-field-type-title\"><a class=\"a-link-normal\" href=\"/title/tt0078504/?ref_=bo_cso_table_147\">The Wiz</a></td><td class=\"a-text-right mojo-field-type-rank\">147</td><td class=\"a-text-right mojo-field-type-money\">$21,049,053</td><td class=\"a-text-right mojo-field-type-rank\">3,479</td><td class=\"a-text-left mojo-field-type-year\"><a class=\"a-link-normal\" href=\"/year/1978/?ref_=bo_cso_table_147\">1978</a></td></tr>,\n",
       " <tr><td class=\"a-text-left mojo-header-column mojo-truncate mojo-field-type-title\"><a class=\"a-link-normal\" href=\"/title/tt0078790/?ref_=bo_cso_table_148\">The Apple Dumpling Gang Rides Again</a></td><td class=\"a-text-right mojo-field-type-rank\">148</td><td class=\"a-text-right mojo-field-type-money\">$20,931,111</td><td class=\"a-text-right mojo-field-type-rank\">3,495</td><td class=\"a-text-left mojo-field-type-year\"><a class=\"a-link-normal\" href=\"/year/1979/?ref_=bo_cso_table_148\">1979</a></td></tr>,\n",
       " <tr><td class=\"a-text-left mojo-header-column mojo-truncate mojo-field-type-title\"><a class=\"a-link-normal\" href=\"/title/tt0099878/?ref_=bo_cso_table_149\">Jetsons: The Movie</a></td><td class=\"a-text-right mojo-field-type-rank\">149</td><td class=\"a-text-right mojo-field-type-money\">$20,305,841</td><td class=\"a-text-right mojo-field-type-rank\">3,555</td><td class=\"a-text-left mojo-field-type-year\"><a class=\"a-link-normal\" href=\"/year/1990/?ref_=bo_cso_table_149\">1990</a></td></tr>,\n",
       " <tr><td class=\"a-text-left mojo-header-column mojo-truncate mojo-field-type-title\"><a class=\"a-link-normal\" href=\"/title/tt0072951/?ref_=bo_cso_table_150\">Escape to Witch Mountain</a></td><td class=\"a-text-right mojo-field-type-rank\">150</td><td class=\"a-text-right mojo-field-type-money\">$20,000,000</td><td class=\"a-text-right mojo-field-type-rank\">3,597</td><td class=\"a-text-left mojo-field-type-year\">1975</td></tr>,\n",
       " <tr><td class=\"a-text-left mojo-header-column mojo-truncate mojo-field-type-title\"><a class=\"a-link-normal\" href=\"/title/tt1568921/?ref_=bo_cso_table_151\">The Secret World of Arrietty</a></td><td class=\"a-text-right mojo-field-type-rank\">151</td><td class=\"a-text-right mojo-field-type-money\">$19,587,032</td><td class=\"a-text-right mojo-field-type-rank\">3,631</td><td class=\"a-text-left mojo-field-type-year\"><a class=\"a-link-normal\" href=\"/year/2012/?ref_=bo_cso_table_151\">2012</a></td></tr>,\n",
       " <tr><td class=\"a-text-left mojo-header-column mojo-truncate mojo-field-type-title\"><a class=\"a-link-normal\" href=\"/title/tt0361089/?ref_=bo_cso_table_152\">Valiant</a></td><td class=\"a-text-right mojo-field-type-rank\">152</td><td class=\"a-text-right mojo-field-type-money\">$19,478,106</td><td class=\"a-text-right mojo-field-type-rank\">3,639</td><td class=\"a-text-left mojo-field-type-year\"><a class=\"a-link-normal\" href=\"/year/2005/?ref_=bo_cso_table_152\">2005</a></td></tr>,\n",
       " <tr><td class=\"a-text-left mojo-header-column mojo-truncate mojo-field-type-title\"><a class=\"a-link-normal\" href=\"/title/tt0187819/?ref_=bo_cso_table_153\">Doug's 1st Movie</a></td><td class=\"a-text-right mojo-field-type-rank\">153</td><td class=\"a-text-right mojo-field-type-money\">$19,440,089</td><td class=\"a-text-right mojo-field-type-rank\">3,644</td><td class=\"a-text-left mojo-field-type-year\"><a class=\"a-link-normal\" href=\"/year/1999/?ref_=bo_cso_table_153\">1999</a></td></tr>,\n",
       " <tr><td class=\"a-text-left mojo-header-column mojo-truncate mojo-field-type-title\"><a class=\"a-link-normal\" href=\"/title/tt0765128/?ref_=bo_cso_table_154\">Oceans</a></td><td class=\"a-text-right mojo-field-type-rank\">154</td><td class=\"a-text-right mojo-field-type-money\">$19,422,319</td><td class=\"a-text-right mojo-field-type-rank\">3,646</td><td class=\"a-text-left mojo-field-type-year\"><a class=\"a-link-normal\" href=\"/year/2010/?ref_=bo_cso_table_154\">2010</a></td></tr>,\n",
       " <tr><td class=\"a-text-left mojo-header-column mojo-truncate mojo-field-type-title\"><a class=\"a-link-normal\" href=\"/title/tt1229827/?ref_=bo_cso_table_155\">Jonas Brothers: The 3D Concert Experience</a></td><td class=\"a-text-right mojo-field-type-rank\">155</td><td class=\"a-text-right mojo-field-type-money\">$19,162,740</td><td class=\"a-text-right mojo-field-type-rank\">3,668</td><td class=\"a-text-left mojo-field-type-year\"><a class=\"a-link-normal\" href=\"/year/2009/?ref_=bo_cso_table_155\">2009</a></td></tr>,\n",
       " <tr><td class=\"a-text-left mojo-header-column mojo-truncate mojo-field-type-title\"><a class=\"a-link-normal\" href=\"/title/tt0065462/?ref_=bo_cso_table_156\">Beneath the Planet of the Apes</a></td><td class=\"a-text-right mojo-field-type-rank\">156</td><td class=\"a-text-right mojo-field-type-money\">$18,999,718</td><td class=\"a-text-right mojo-field-type-rank\">3,684</td><td class=\"a-text-left mojo-field-type-year\">1970</td></tr>,\n",
       " <tr><td class=\"a-text-left mojo-header-column mojo-truncate mojo-field-type-title\"><a class=\"a-link-normal\" href=\"/title/tt0120327/?ref_=bo_cso_table_157\">Thrill Ride: The Science of Fun</a></td><td class=\"a-text-right mojo-field-type-rank\">157</td><td class=\"a-text-right mojo-field-type-money\">$18,798,590</td><td class=\"a-text-right mojo-field-type-rank\">3,703</td><td class=\"a-text-left mojo-field-type-year\"><a class=\"a-link-normal\" href=\"/year/1997/?ref_=bo_cso_table_157\">1997</a></td></tr>,\n",
       " <tr><td class=\"a-text-left mojo-header-column mojo-truncate mojo-field-type-title\"><a class=\"a-link-normal\" href=\"/title/tt0098115/?ref_=bo_cso_table_158\">Prancer</a></td><td class=\"a-text-right mojo-field-type-rank\">158</td><td class=\"a-text-right mojo-field-type-money\">$18,587,135</td><td class=\"a-text-right mojo-field-type-rank\">3,731</td><td class=\"a-text-left mojo-field-type-year\"><a class=\"a-link-normal\" href=\"/year/1989/?ref_=bo_cso_table_158\">1989</a></td></tr>,\n",
       " <tr><td class=\"a-text-left mojo-header-column mojo-truncate mojo-field-type-title\"><a class=\"a-link-normal\" href=\"/title/tt0099472/?ref_=bo_cso_table_159\">DuckTales the Movie: Treasure of the Lost Lamp</a></td><td class=\"a-text-right mojo-field-type-rank\">159</td><td class=\"a-text-right mojo-field-type-money\">$18,115,724</td><td class=\"a-text-right mojo-field-type-rank\">3,771</td><td class=\"a-text-left mojo-field-type-year\"><a class=\"a-link-normal\" href=\"/year/1990/?ref_=bo_cso_table_159\">1990</a></td></tr>,\n",
       " <tr><td class=\"a-text-left mojo-header-column mojo-truncate mojo-field-type-title\"><a class=\"a-link-normal\" href=\"/title/tt0407121/?ref_=bo_cso_table_160\">Pooh's Heffalump Movie</a></td><td class=\"a-text-right mojo-field-type-rank\">160</td><td class=\"a-text-right mojo-field-type-money\">$18,098,433</td><td class=\"a-text-right mojo-field-type-rank\">3,772</td><td class=\"a-text-left mojo-field-type-year\"><a class=\"a-link-normal\" href=\"/year/2005/?ref_=bo_cso_table_160\">2005</a></td></tr>,\n",
       " <tr><td class=\"a-text-left mojo-header-column mojo-truncate mojo-field-type-title\"><a class=\"a-link-normal\" href=\"/title/tt0080861/?ref_=bo_cso_table_161\">Herbie Goes Bananas</a></td><td class=\"a-text-right mojo-field-type-rank\">161</td><td class=\"a-text-right mojo-field-type-money\">$18,000,000</td><td class=\"a-text-right mojo-field-type-rank\">3,779</td><td class=\"a-text-left mojo-field-type-year\"><a class=\"a-link-normal\" href=\"/year/1980/?ref_=bo_cso_table_161\">1980</a></td></tr>,\n",
       " <tr><td class=\"a-text-left mojo-header-column mojo-truncate mojo-field-type-title\"><a class=\"a-link-normal\" href=\"/title/tt2458776/?ref_=bo_cso_table_162\">Bears</a></td><td class=\"a-text-right mojo-field-type-rank\">162</td><td class=\"a-text-right mojo-field-type-money\">$17,780,194</td><td class=\"a-text-right mojo-field-type-rank\">3,801</td><td class=\"a-text-left mojo-field-type-year\"><a class=\"a-link-normal\" href=\"/year/2014/?ref_=bo_cso_table_162\">2014</a></td></tr>,\n",
       " <tr><td class=\"a-text-left mojo-header-column mojo-truncate mojo-field-type-title\"><a class=\"a-link-normal\" href=\"/title/tt0076044/?ref_=bo_cso_table_163\">For the Love of Benji</a></td><td class=\"a-text-right mojo-field-type-rank\">163</td><td class=\"a-text-right mojo-field-type-money\">$17,732,000</td><td class=\"a-text-right mojo-field-type-rank\">3,810</td><td class=\"a-text-left mojo-field-type-year\"><a class=\"a-link-normal\" href=\"/year/1977/?ref_=bo_cso_table_163\">1977</a></td></tr>,\n",
       " <tr><td class=\"a-text-left mojo-header-column mojo-truncate mojo-field-type-title\"><a class=\"a-link-normal\" href=\"/title/tt0846308/?ref_=bo_cso_table_164\">Kit Kittredge: An American Girl</a></td><td class=\"a-text-right mojo-field-type-rank\">164</td><td class=\"a-text-right mojo-field-type-money\">$17,657,973</td><td class=\"a-text-right mojo-field-type-rank\">3,816</td><td class=\"a-text-left mojo-field-type-year\"><a class=\"a-link-normal\" href=\"/year/2008/?ref_=bo_cso_table_164\">2008</a></td></tr>,\n",
       " <tr><td class=\"a-text-left mojo-header-column mojo-truncate mojo-field-type-title\"><a class=\"a-link-normal\" href=\"/title/tt0235679/?ref_=bo_cso_table_165\">Pokémon 3 the Movie: Spell of the Unown</a></td><td class=\"a-text-right mojo-field-type-rank\">165</td><td class=\"a-text-right mojo-field-type-money\">$17,052,128</td><td class=\"a-text-right mojo-field-type-rank\">3,906</td><td class=\"a-text-left mojo-field-type-year\"><a class=\"a-link-normal\" href=\"/year/2001/?ref_=bo_cso_table_165\">2001</a></td></tr>,\n",
       " <tr><td class=\"a-text-left mojo-header-column mojo-truncate mojo-field-type-title\"><a class=\"a-link-normal\" href=\"/title/tt0297144/?ref_=bo_cso_table_166\">Ghosts of the Abyss</a></td><td class=\"a-text-right mojo-field-type-rank\">166</td><td class=\"a-text-right mojo-field-type-money\">$17,040,871</td><td class=\"a-text-right mojo-field-type-rank\">3,908</td><td class=\"a-text-left mojo-field-type-year\"><a class=\"a-link-normal\" href=\"/year/2003/?ref_=bo_cso_table_166\">2003</a></td></tr>,\n",
       " <tr><td class=\"a-text-left mojo-header-column mojo-truncate mojo-field-type-title\"><a class=\"a-link-normal\" href=\"/title/tt0276033/?ref_=bo_cso_table_167\">The Country Bears</a></td><td class=\"a-text-right mojo-field-type-rank\">167</td><td class=\"a-text-right mojo-field-type-money\">$16,990,825</td><td class=\"a-text-right mojo-field-type-rank\">3,917</td><td class=\"a-text-left mojo-field-type-year\"><a class=\"a-link-normal\" href=\"/year/2002/?ref_=bo_cso_table_167\">2002</a></td></tr>,\n",
       " <tr><td class=\"a-text-left mojo-header-column mojo-truncate mojo-field-type-title\"><a class=\"a-link-normal\" href=\"/title/tt0158811/?ref_=bo_cso_table_168\">Muppets from Space</a></td><td class=\"a-text-right mojo-field-type-rank\">168</td><td class=\"a-text-right mojo-field-type-money\">$16,625,807</td><td class=\"a-text-right mojo-field-type-rank\">3,954</td><td class=\"a-text-left mojo-field-type-year\"><a class=\"a-link-normal\" href=\"/year/1999/?ref_=bo_cso_table_168\">1999</a></td></tr>,\n",
       " <tr><td class=\"a-text-left mojo-header-column mojo-truncate mojo-field-type-title\"><a class=\"a-link-normal\" href=\"/title/tt3660770/?ref_=bo_cso_table_169\">Monkey Kingdom</a></td><td class=\"a-text-right mojo-field-type-rank\">169</td><td class=\"a-text-right mojo-field-type-money\">$16,432,322</td><td class=\"a-text-right mojo-field-type-rank\">3,970</td><td class=\"a-text-left mojo-field-type-year\"><a class=\"a-link-normal\" href=\"/year/2015/?ref_=bo_cso_table_169\">2015</a></td></tr>,\n",
       " <tr><td class=\"a-text-left mojo-header-column mojo-truncate mojo-field-type-title\"><a class=\"a-link-normal\" href=\"/title/tt0078158/?ref_=bo_cso_table_170\">Return from Witch Mountain</a></td><td class=\"a-text-right mojo-field-type-rank\">170</td><td class=\"a-text-right mojo-field-type-money\">$16,393,000</td><td class=\"a-text-right mojo-field-type-rank\">3,973</td><td class=\"a-text-left mojo-field-type-year\"><a class=\"a-link-normal\" href=\"/year/1978/?ref_=bo_cso_table_170\">1978</a></td></tr>,\n",
       " <tr><td class=\"a-text-left mojo-header-column mojo-truncate mojo-field-type-title\"><a class=\"a-link-normal\" href=\"/title/tt0112286/?ref_=bo_cso_table_171\">Across the Sea of Time</a></td><td class=\"a-text-right mojo-field-type-rank\">171</td><td class=\"a-text-right mojo-field-type-money\">$16,015,639</td><td class=\"a-text-right mojo-field-type-rank\">4,025</td><td class=\"a-text-left mojo-field-type-year\"><a class=\"a-link-normal\" href=\"/year/1995/?ref_=bo_cso_table_171\">1995</a></td></tr>,\n",
       " <tr><td class=\"a-text-left mojo-header-column mojo-truncate mojo-field-type-title\"><a class=\"a-link-normal\" href=\"/title/tt0205461/?ref_=bo_cso_table_172\">Thomas and the Magic Railroad</a></td><td class=\"a-text-right mojo-field-type-rank\">172</td><td class=\"a-text-right mojo-field-type-money\">$15,933,506</td><td class=\"a-text-right mojo-field-type-rank\">4,038</td><td class=\"a-text-left mojo-field-type-year\"><a class=\"a-link-normal\" href=\"/year/2000/?ref_=bo_cso_table_172\">2000</a></td></tr>,\n",
       " <tr><td class=\"a-text-left mojo-header-column mojo-truncate mojo-field-type-title\"><a class=\"a-link-normal\" href=\"/title/tt0876563/?ref_=bo_cso_table_173\">Ponyo</a></td><td class=\"a-text-right mojo-field-type-rank\">173</td><td class=\"a-text-right mojo-field-type-money\">$15,743,471</td><td class=\"a-text-right mojo-field-type-rank\">4,053</td><td class=\"a-text-left mojo-field-type-year\"><a class=\"a-link-normal\" href=\"/year/2009/?ref_=bo_cso_table_173\">2009</a></td></tr>,\n",
       " <tr><td class=\"a-text-left mojo-header-column mojo-truncate mojo-field-type-title\"><a class=\"a-link-normal\" href=\"/title/tt2800050/?ref_=bo_cso_table_174\">A Beautiful Planet</a></td><td class=\"a-text-right mojo-field-type-rank\">174</td><td class=\"a-text-right mojo-field-type-money\">$15,650,615</td><td class=\"a-text-right mojo-field-type-rank\">4,066</td><td class=\"a-text-left mojo-field-type-year\"><a class=\"a-link-normal\" href=\"/year/2016/?ref_=bo_cso_table_174\">2016</a></td></tr>,\n",
       " <tr><td class=\"a-text-left mojo-header-column mojo-truncate mojo-field-type-title\"><a class=\"a-link-normal\" href=\"/title/tt0213749/?ref_=bo_cso_table_175\">Cirque du Soleil: Journey of Man</a></td><td class=\"a-text-right mojo-field-type-rank\">175</td><td class=\"a-text-right mojo-field-type-money\">$15,627,434</td><td class=\"a-text-right mojo-field-type-rank\">4,069</td><td class=\"a-text-left mojo-field-type-year\"><a class=\"a-link-normal\" href=\"/year/2000/?ref_=bo_cso_table_175\">2000</a></td></tr>,\n",
       " <tr><td class=\"a-text-left mojo-header-column mojo-truncate mojo-field-type-title\"><a class=\"a-link-normal\" href=\"/title/tt1223236/?ref_=bo_cso_table_176\">African Cats</a></td><td class=\"a-text-right mojo-field-type-rank\">176</td><td class=\"a-text-right mojo-field-type-money\">$15,428,747</td><td class=\"a-text-right mojo-field-type-rank\">4,100</td><td class=\"a-text-left mojo-field-type-year\"><a class=\"a-link-normal\" href=\"/year/2011/?ref_=bo_cso_table_176\">2011</a></td></tr>,\n",
       " <tr><td class=\"a-text-left mojo-header-column mojo-truncate mojo-field-type-title\"><a class=\"a-link-normal\" href=\"/title/tt0115472/?ref_=bo_cso_table_177\">The Adventures of Pinocchio</a></td><td class=\"a-text-right mojo-field-type-rank\">177</td><td class=\"a-text-right mojo-field-type-money\">$15,094,530</td><td class=\"a-text-right mojo-field-type-rank\">4,137</td><td class=\"a-text-left mojo-field-type-year\"><a class=\"a-link-normal\" href=\"/year/1996/?ref_=bo_cso_table_177\">1996</a></td></tr>,\n",
       " <tr><td class=\"a-text-left mojo-header-column mojo-truncate mojo-field-type-title\"><a class=\"a-link-normal\" href=\"/title/tt0114952/?ref_=bo_cso_table_178\">Wings of Courage</a></td><td class=\"a-text-right mojo-field-type-rank\">178</td><td class=\"a-text-right mojo-field-type-money\">$15,054,636</td><td class=\"a-text-right mojo-field-type-rank\">4,144</td><td class=\"a-text-left mojo-field-type-year\"><a class=\"a-link-normal\" href=\"/year/1995/?ref_=bo_cso_table_178\">1995</a></td></tr>,\n",
       " <tr><td class=\"a-text-left mojo-header-column mojo-truncate mojo-field-type-title\"><a class=\"a-link-normal\" href=\"/title/tt0101301/?ref_=bo_cso_table_179\">All I Want for Christmas</a></td><td class=\"a-text-right mojo-field-type-rank\">179</td><td class=\"a-text-right mojo-field-type-money\">$14,812,144</td><td class=\"a-text-right mojo-field-type-rank\">4,183</td><td class=\"a-text-left mojo-field-type-year\"><a class=\"a-link-normal\" href=\"/year/1991/?ref_=bo_cso_table_179\">1991</a></td></tr>,\n",
       " <tr><td class=\"a-text-left mojo-header-column mojo-truncate mojo-field-type-title\"><a class=\"a-link-normal\" href=\"/title/tt0084649/?ref_=bo_cso_table_180\">The Secret of NIMH</a></td><td class=\"a-text-right mojo-field-type-rank\">180</td><td class=\"a-text-right mojo-field-type-money\">$14,665,733</td><td class=\"a-text-right mojo-field-type-rank\">4,206</td><td class=\"a-text-left mojo-field-type-year\"><a class=\"a-link-normal\" href=\"/year/1982/?ref_=bo_cso_table_180\">1982</a></td></tr>,\n",
       " <tr><td class=\"a-text-left mojo-header-column mojo-truncate mojo-field-type-title\"><a class=\"a-link-normal\" href=\"/title/tt2073128/?ref_=bo_cso_table_181\">To the Arctic 3D</a></td><td class=\"a-text-right mojo-field-type-rank\">181</td><td class=\"a-text-right mojo-field-type-money\">$14,560,838</td><td class=\"a-text-right mojo-field-type-rank\">4,217</td><td class=\"a-text-left mojo-field-type-year\"><a class=\"a-link-normal\" href=\"/year/2012/?ref_=bo_cso_table_181\">2012</a></td></tr>,\n",
       " <tr><td class=\"a-text-left mojo-header-column mojo-truncate mojo-field-type-title\"><a class=\"a-link-normal\" href=\"/title/tt0430779/?ref_=bo_cso_table_182\">Everyone's Hero</a></td><td class=\"a-text-right mojo-field-type-rank\">182</td><td class=\"a-text-right mojo-field-type-money\">$14,523,101</td><td class=\"a-text-right mojo-field-type-rank\">4,223</td><td class=\"a-text-left mojo-field-type-year\"><a class=\"a-link-normal\" href=\"/year/2006/?ref_=bo_cso_table_182\">2006</a></td></tr>,\n",
       " <tr><td class=\"a-text-left mojo-header-column mojo-truncate mojo-field-type-title\"><a class=\"a-link-normal\" href=\"/title/tt0066181/?ref_=bo_cso_table_183\">On a Clear Day You Can See Forever</a></td><td class=\"a-text-right mojo-field-type-rank\">183</td><td class=\"a-text-right mojo-field-type-money\">$14,000,000</td><td class=\"a-text-right mojo-field-type-rank\">4,307</td><td class=\"a-text-left mojo-field-type-year\">1970</td></tr>,\n",
       " <tr><td class=\"a-text-left mojo-header-column mojo-truncate mojo-field-type-title\"><a class=\"a-link-normal\" href=\"/title/tt0089994/?ref_=bo_cso_table_184\">Follow That Bird</a></td><td class=\"a-text-right mojo-field-type-rank\">184</td><td class=\"a-text-right mojo-field-type-money\">$13,961,370</td><td class=\"a-text-right mojo-field-type-rank\">4,314</td><td class=\"a-text-left mojo-field-type-year\"><a class=\"a-link-normal\" href=\"/year/1985/?ref_=bo_cso_table_184\">1985</a></td></tr>,\n",
       " <tr><td class=\"a-text-left mojo-header-column mojo-truncate mojo-field-type-title\"><a class=\"a-link-normal\" href=\"/title/tt4629266/?ref_=bo_cso_table_185\">Born in China</a></td><td class=\"a-text-right mojo-field-type-rank\">185</td><td class=\"a-text-right mojo-field-type-money\">$13,873,211</td><td class=\"a-text-right mojo-field-type-rank\">4,323</td><td class=\"a-text-left mojo-field-type-year\"><a class=\"a-link-normal\" href=\"/year/2017/?ref_=bo_cso_table_185\">2017</a></td></tr>,\n",
       " <tr><td class=\"a-text-left mojo-header-column mojo-truncate mojo-field-type-title\"><a class=\"a-link-normal\" href=\"/title/tt0486321/?ref_=bo_cso_table_186\">Fly Me to the Moon 3D</a></td><td class=\"a-text-right mojo-field-type-rank\">186</td><td class=\"a-text-right mojo-field-type-money\">$13,816,982</td><td class=\"a-text-right mojo-field-type-rank\">4,331</td><td class=\"a-text-left mojo-field-type-year\"><a class=\"a-link-normal\" href=\"/year/2008/?ref_=bo_cso_table_186\">2008</a></td></tr>,\n",
       " <tr><td class=\"a-text-left mojo-header-column mojo-truncate mojo-field-type-title\"><a class=\"a-link-normal\" href=\"/title/tt0089731/?ref_=bo_cso_table_187\">One Magic Christmas</a></td><td class=\"a-text-right mojo-field-type-rank\">187</td><td class=\"a-text-right mojo-field-type-money\">$13,677,222</td><td class=\"a-text-right mojo-field-type-rank\">4,348</td><td class=\"a-text-left mojo-field-type-year\"><a class=\"a-link-normal\" href=\"/year/1985/?ref_=bo_cso_table_187\">1985</a></td></tr>,\n",
       " <tr><td class=\"a-text-left mojo-header-column mojo-truncate mojo-field-type-title\"><a class=\"a-link-normal\" href=\"/title/tt0110763/?ref_=bo_cso_table_188\">The Pagemaster</a></td><td class=\"a-text-right mojo-field-type-rank\">188</td><td class=\"a-text-right mojo-field-type-money\">$13,670,688</td><td class=\"a-text-right mojo-field-type-rank\">4,350</td><td class=\"a-text-left mojo-field-type-year\"><a class=\"a-link-normal\" href=\"/year/1994/?ref_=bo_cso_table_188\">1994</a></td></tr>,\n",
       " <tr><td class=\"a-text-left mojo-header-column mojo-truncate mojo-field-type-title\"><a class=\"a-link-normal\" href=\"/title/tt0097050/?ref_=bo_cso_table_189\">The Adventures of Milo and Otis</a></td><td class=\"a-text-right mojo-field-type-rank\">189</td><td class=\"a-text-right mojo-field-type-money\">$13,299,749</td><td class=\"a-text-right mojo-field-type-rank\">4,398</td><td class=\"a-text-left mojo-field-type-year\"><a class=\"a-link-normal\" href=\"/year/1989/?ref_=bo_cso_table_189\">1989</a></td></tr>,\n",
       " <tr><td class=\"a-text-left mojo-header-column mojo-truncate mojo-field-type-title\"><a class=\"a-link-normal\" href=\"/title/tt0475998/?ref_=bo_cso_table_190\">The Pirates Who Don't Do Anything: A VeggieTales Movie</a></td><td class=\"a-text-right mojo-field-type-rank\">190</td><td class=\"a-text-right mojo-field-type-money\">$12,981,269</td><td class=\"a-text-right mojo-field-type-rank\">4,452</td><td class=\"a-text-left mojo-field-type-year\"><a class=\"a-link-normal\" href=\"/year/2008/?ref_=bo_cso_table_190\">2008</a></td></tr>,\n",
       " <tr><td class=\"a-text-left mojo-header-column mojo-truncate mojo-field-type-title\"><a class=\"a-link-normal\" href=\"/title/tt0067065/?ref_=bo_cso_table_191\">Escape from the Planet of the Apes</a></td><td class=\"a-text-right mojo-field-type-rank\">191</td><td class=\"a-text-right mojo-field-type-money\">$12,348,905</td><td class=\"a-text-right mojo-field-type-rank\">4,540</td><td class=\"a-text-left mojo-field-type-year\">1971</td></tr>,\n",
       " <tr><td class=\"a-text-left mojo-header-column mojo-truncate mojo-field-type-title\"><a class=\"a-link-normal\" href=\"/title/tt0120598/?ref_=bo_cso_table_192\">Barney's Great Adventure</a></td><td class=\"a-text-right mojo-field-type-rank\">192</td><td class=\"a-text-right mojo-field-type-money\">$12,218,638</td><td class=\"a-text-right mojo-field-type-rank\">4,561</td><td class=\"a-text-left mojo-field-type-year\"><a class=\"a-link-normal\" href=\"/year/1998/?ref_=bo_cso_table_192\">1998</a></td></tr>,\n",
       " <tr><td class=\"a-text-left mojo-header-column mojo-truncate mojo-field-type-title\"><a class=\"a-link-normal\" href=\"/title/tt0057546/?ref_=bo_cso_table_193\">The Sword in the Stone</a></td><td class=\"a-text-right mojo-field-type-rank\">193</td><td class=\"a-text-right mojo-field-type-money\">$12,000,000</td><td class=\"a-text-right mojo-field-type-rank\">4,589</td><td class=\"a-text-left mojo-field-type-year\"><a class=\"a-link-normal\" href=\"/year/1983/?ref_=bo_cso_table_193\">1983</a></td></tr>,\n",
       " <tr><td class=\"a-text-left mojo-header-column mojo-truncate mojo-field-type-title\"><a class=\"a-link-normal\" href=\"/title/tt0160429/?ref_=bo_cso_table_194\">The King and I</a></td><td class=\"a-text-right mojo-field-type-rank\">194</td><td class=\"a-text-right mojo-field-type-money\">$11,993,021</td><td class=\"a-text-right mojo-field-type-rank\">4,592</td><td class=\"a-text-left mojo-field-type-year\"><a class=\"a-link-normal\" href=\"/year/1999/?ref_=bo_cso_table_194\">1999</a></td></tr>,\n",
       " <tr><td class=\"a-text-left mojo-header-column mojo-truncate mojo-field-type-title\"><a class=\"a-link-normal\" href=\"/title/tt0301727/?ref_=bo_cso_table_195\">Winged Migration</a></td><td class=\"a-text-right mojo-field-type-rank\">195</td><td class=\"a-text-right mojo-field-type-money\">$11,689,053</td><td class=\"a-text-right mojo-field-type-rank\">4,625</td><td class=\"a-text-left mojo-field-type-year\"><a class=\"a-link-normal\" href=\"/year/2002/?ref_=bo_cso_table_195\">2002</a></td></tr>,\n",
       " <tr><td class=\"a-text-left mojo-header-column mojo-truncate mojo-field-type-title\"><a class=\"a-link-normal\" href=\"/title/tt0159421/?ref_=bo_cso_table_196\">The Adventures of Elmo in Grouchland</a></td><td class=\"a-text-right mojo-field-type-rank\">196</td><td class=\"a-text-right mojo-field-type-money\">$11,683,047</td><td class=\"a-text-right mojo-field-type-rank\">4,627</td><td class=\"a-text-left mojo-field-type-year\"><a class=\"a-link-normal\" href=\"/year/1999/?ref_=bo_cso_table_196\">1999</a></td></tr>,\n",
       " <tr><td class=\"a-text-left mojo-header-column mojo-truncate mojo-field-type-title\"><a class=\"a-link-normal\" href=\"/title/tt0102802/?ref_=bo_cso_table_197\">Rock-A-Doodle</a></td><td class=\"a-text-right mojo-field-type-rank\">197</td><td class=\"a-text-right mojo-field-type-money\">$11,657,385</td><td class=\"a-text-right mojo-field-type-rank\">4,631</td><td class=\"a-text-left mojo-field-type-year\"><a class=\"a-link-normal\" href=\"/year/1992/?ref_=bo_cso_table_197\">1992</a></td></tr>,\n",
       " <tr><td class=\"a-text-left mojo-header-column mojo-truncate mojo-field-type-title\"><a class=\"a-link-normal\" href=\"/title/tt0111419/?ref_=bo_cso_table_198\">Thumbelina</a></td><td class=\"a-text-right mojo-field-type-rank\">198</td><td class=\"a-text-right mojo-field-type-money\">$11,373,501</td><td class=\"a-text-right mojo-field-type-rank\">4,675</td><td class=\"a-text-left mojo-field-type-year\"><a class=\"a-link-normal\" href=\"/year/1994/?ref_=bo_cso_table_198\">1994</a></td></tr>,\n",
       " <tr><td class=\"a-text-left mojo-header-column mojo-truncate mojo-field-type-title\"><a class=\"a-link-normal\" href=\"/title/tt0112453/?ref_=bo_cso_table_199\">Balto</a></td><td class=\"a-text-right mojo-field-type-rank\">199</td><td class=\"a-text-right mojo-field-type-money\">$11,348,324</td><td class=\"a-text-right mojo-field-type-rank\">4,679</td><td class=\"a-text-left mojo-field-type-year\"><a class=\"a-link-normal\" href=\"/year/1995/?ref_=bo_cso_table_199\">1995</a></td></tr>,\n",
       " <tr><td class=\"a-text-left mojo-header-column mojo-truncate mojo-field-type-title\"><a class=\"a-link-normal\" href=\"/title/tt3231010/?ref_=bo_cso_table_200\">Island of Lemurs: Madagascar</a></td><td class=\"a-text-right mojo-field-type-rank\">200</td><td class=\"a-text-right mojo-field-type-money\">$11,272,213</td><td class=\"a-text-right mojo-field-type-rank\">4,693</td><td class=\"a-text-left mojo-field-type-year\"><a class=\"a-link-normal\" href=\"/year/2014/?ref_=bo_cso_table_200\">2014</a></td></tr>]"
      ]
     },
     "metadata": {},
     "output_type": "display_data"
    }
   ],
   "source": [
    "rows = [row for row in table.find_all('tr')] \n",
    "display(type(rows),type(rows[1]),rows)"
   ]
  },
  {
   "cell_type": "code",
   "execution_count": 95,
   "metadata": {},
   "outputs": [
    {
     "data": {
      "text/plain": [
       "list"
      ]
     },
     "metadata": {},
     "output_type": "display_data"
    },
    {
     "data": {
      "text/plain": [
       "bs4.element.Tag"
      ]
     },
     "metadata": {},
     "output_type": "display_data"
    },
    {
     "data": {
      "text/plain": [
       "<tr><td class=\"a-text-left mojo-header-column mojo-truncate mojo-field-type-title\"><a class=\"a-link-normal\" href=\"/title/tt1979376/?ref_=bo_cso_table_1\">Toy Story 4</a></td><td class=\"a-text-right mojo-field-type-rank\">1</td><td class=\"a-text-right mojo-field-type-money\">$434,038,008</td><td class=\"a-text-right mojo-field-type-rank\">24</td><td class=\"a-text-left mojo-field-type-year\"><a class=\"a-link-normal\" href=\"/year/2019/?ref_=bo_cso_table_1\">2019</a></td></tr>"
      ]
     },
     "metadata": {},
     "output_type": "display_data"
    }
   ],
   "source": [
    "rows= list(table.findAll(\"tr\"))\n",
    "display(type(rows),type(rows[1]),rows[1])"
   ]
  },
  {
   "cell_type": "code",
   "execution_count": 97,
   "metadata": {},
   "outputs": [
    {
     "data": {
      "text/plain": [
       "list"
      ]
     },
     "metadata": {},
     "output_type": "display_data"
    },
    {
     "data": {
      "text/plain": [
       "bs4.element.Tag"
      ]
     },
     "metadata": {},
     "output_type": "display_data"
    },
    {
     "data": {
      "text/plain": [
       "<tr><td class=\"a-text-left mojo-header-column mojo-truncate mojo-field-type-title\"><a class=\"a-link-normal\" href=\"/title/tt1979376/?ref_=bo_cso_table_1\">Toy Story 4</a></td><td class=\"a-text-right mojo-field-type-rank\">1</td><td class=\"a-text-right mojo-field-type-money\">$434,038,008</td><td class=\"a-text-right mojo-field-type-rank\">24</td><td class=\"a-text-left mojo-field-type-year\"><a class=\"a-link-normal\" href=\"/year/2019/?ref_=bo_cso_table_1\">2019</a></td></tr>"
      ]
     },
     "metadata": {},
     "output_type": "display_data"
    }
   ],
   "source": [
    "rows = [row for row in table.find_all('tr')]  \n",
    "display(type(rows),type(rows[1]),rows[1])"
   ]
  },
  {
   "cell_type": "markdown",
   "metadata": {},
   "source": [
    "Remember: you can chain methods together to look for information!"
   ]
  },
  {
   "cell_type": "code",
   "execution_count": 98,
   "metadata": {},
   "outputs": [
    {
     "data": {
      "text/plain": [
       "'/title/tt1979376/?ref_=bo_cso_table_1'"
      ]
     },
     "execution_count": 98,
     "metadata": {},
     "output_type": "execute_result"
    }
   ],
   "source": [
    "rows[1].find_all('td')[0].find('a')['href']"
   ]
  },
  {
   "cell_type": "markdown",
   "metadata": {},
   "source": [
    "Now grab data for the first 5 movies with a loop."
   ]
  },
  {
   "cell_type": "code",
   "execution_count": 99,
   "metadata": {},
   "outputs": [
    {
     "data": {
      "text/plain": [
       "{'Toy Story 4': ['/title/tt1979376/?ref_=bo_cso_table_1',\n",
       "  'Toy Story 4',\n",
       "  '1',\n",
       "  '$434,038,008',\n",
       "  '24',\n",
       "  '2019'],\n",
       " 'The Lion King': ['/title/tt0110357/?ref_=bo_cso_table_2',\n",
       "  'The Lion King',\n",
       "  '2',\n",
       "  '$422,783,777',\n",
       "  '28',\n",
       "  '1994'],\n",
       " 'Toy Story 3': ['/title/tt0435761/?ref_=bo_cso_table_3',\n",
       "  'Toy Story 3',\n",
       "  '3',\n",
       "  '$415,004,880',\n",
       "  '30',\n",
       "  '2010'],\n",
       " 'Finding Nemo': ['/title/tt0266543/?ref_=bo_cso_table_4',\n",
       "  'Finding Nemo',\n",
       "  '4',\n",
       "  '$380,843,261',\n",
       "  '43',\n",
       "  '2003'],\n",
       " 'Monsters, Inc.': ['/title/tt0198781/?ref_=bo_cso_table_5',\n",
       "  'Monsters, Inc.',\n",
       "  '5',\n",
       "  '$290,642,256',\n",
       "  '100',\n",
       "  '2001']}"
      ]
     },
     "execution_count": 99,
     "metadata": {},
     "output_type": "execute_result"
    }
   ],
   "source": [
    "movies = {}\n",
    "\n",
    "for row in rows[1:6]:\n",
    "    items = row.find_all('td')\n",
    "    link = items[0].find('a')\n",
    "    title, url = link.text, link['href']\n",
    "    movies[title] = [url] + [i.text for i in items]\n",
    "    \n",
    "movies"
   ]
  },
  {
   "cell_type": "markdown",
   "metadata": {},
   "source": [
    "### Scraping Multiple Pages\n",
    "\n",
    "Now that we have the links for several G-rated movies we can visit each link to extract even more information about each movie.  Let's use `pandas` to help."
   ]
  },
  {
   "cell_type": "code",
   "execution_count": 102,
   "metadata": {},
   "outputs": [],
   "source": [
    "import pandas as pd"
   ]
  },
  {
   "cell_type": "code",
   "execution_count": 104,
   "metadata": {},
   "outputs": [
    {
     "data": {
      "text/html": [
       "<div>\n",
       "<style scoped>\n",
       "    .dataframe tbody tr th:only-of-type {\n",
       "        vertical-align: middle;\n",
       "    }\n",
       "\n",
       "    .dataframe tbody tr th {\n",
       "        vertical-align: top;\n",
       "    }\n",
       "\n",
       "    .dataframe thead th {\n",
       "        text-align: right;\n",
       "    }\n",
       "</style>\n",
       "<table border=\"1\" class=\"dataframe\">\n",
       "  <thead>\n",
       "    <tr style=\"text-align: right;\">\n",
       "      <th></th>\n",
       "      <th>link_stub</th>\n",
       "      <th>title</th>\n",
       "      <th>rank_g_movies</th>\n",
       "      <th>lifetime_gross</th>\n",
       "      <th>rank_overall</th>\n",
       "      <th>year</th>\n",
       "    </tr>\n",
       "  </thead>\n",
       "  <tbody>\n",
       "    <tr>\n",
       "      <th>Toy Story 4</th>\n",
       "      <td>/title/tt1979376/?ref_=bo_cso_table_1</td>\n",
       "      <td>Toy Story 4</td>\n",
       "      <td>1</td>\n",
       "      <td>$434,038,008</td>\n",
       "      <td>24</td>\n",
       "      <td>2019</td>\n",
       "    </tr>\n",
       "    <tr>\n",
       "      <th>The Lion King</th>\n",
       "      <td>/title/tt0110357/?ref_=bo_cso_table_2</td>\n",
       "      <td>The Lion King</td>\n",
       "      <td>2</td>\n",
       "      <td>$422,783,777</td>\n",
       "      <td>28</td>\n",
       "      <td>1994</td>\n",
       "    </tr>\n",
       "    <tr>\n",
       "      <th>Toy Story 3</th>\n",
       "      <td>/title/tt0435761/?ref_=bo_cso_table_3</td>\n",
       "      <td>Toy Story 3</td>\n",
       "      <td>3</td>\n",
       "      <td>$415,004,880</td>\n",
       "      <td>30</td>\n",
       "      <td>2010</td>\n",
       "    </tr>\n",
       "    <tr>\n",
       "      <th>Finding Nemo</th>\n",
       "      <td>/title/tt0266543/?ref_=bo_cso_table_4</td>\n",
       "      <td>Finding Nemo</td>\n",
       "      <td>4</td>\n",
       "      <td>$380,843,261</td>\n",
       "      <td>43</td>\n",
       "      <td>2003</td>\n",
       "    </tr>\n",
       "    <tr>\n",
       "      <th>Monsters, Inc.</th>\n",
       "      <td>/title/tt0198781/?ref_=bo_cso_table_5</td>\n",
       "      <td>Monsters, Inc.</td>\n",
       "      <td>5</td>\n",
       "      <td>$290,642,256</td>\n",
       "      <td>100</td>\n",
       "      <td>2001</td>\n",
       "    </tr>\n",
       "  </tbody>\n",
       "</table>\n",
       "</div>"
      ],
      "text/plain": [
       "                                            link_stub           title  \\\n",
       "Toy Story 4     /title/tt1979376/?ref_=bo_cso_table_1     Toy Story 4   \n",
       "The Lion King   /title/tt0110357/?ref_=bo_cso_table_2   The Lion King   \n",
       "Toy Story 3     /title/tt0435761/?ref_=bo_cso_table_3     Toy Story 3   \n",
       "Finding Nemo    /title/tt0266543/?ref_=bo_cso_table_4    Finding Nemo   \n",
       "Monsters, Inc.  /title/tt0198781/?ref_=bo_cso_table_5  Monsters, Inc.   \n",
       "\n",
       "               rank_g_movies lifetime_gross rank_overall  year  \n",
       "Toy Story 4                1   $434,038,008           24  2019  \n",
       "The Lion King              2   $422,783,777           28  1994  \n",
       "Toy Story 3                3   $415,004,880           30  2010  \n",
       "Finding Nemo               4   $380,843,261           43  2003  \n",
       "Monsters, Inc.             5   $290,642,256          100  2001  "
      ]
     },
     "execution_count": 104,
     "metadata": {},
     "output_type": "execute_result"
    }
   ],
   "source": [
    "g_movies = pd.DataFrame(movies).T  #transpose\n",
    "g_movies.columns = ['link_stub', 'title', 'rank_g_movies', \n",
    "                    'lifetime_gross', 'rank_overall', 'year']\n",
    "\n",
    "g_movies"
   ]
  },
  {
   "cell_type": "markdown",
   "metadata": {},
   "source": [
    "We'll also combine all previous steps into one helper function."
   ]
  },
  {
   "cell_type": "code",
   "execution_count": 105,
   "metadata": {},
   "outputs": [],
   "source": [
    "def get_movie_dict(link):\n",
    "    '''\n",
    "    From BoxOfficeMojo link stub, request movie html, parse with BeautifulSoup, and\n",
    "    collect \n",
    "        - title \n",
    "        - domestic gross\n",
    "        - runtime \n",
    "        - MPAA rating\n",
    "        - full release date\n",
    "    Return information as a dictionary.\n",
    "    '''\n",
    "    \n",
    "    base_url = 'https://www.boxofficemojo.com'\n",
    "    \n",
    "    #Create full url to scrape\n",
    "    url = base_url + link\n",
    "    \n",
    "    #Request HTML and parse\n",
    "    response = requests.get(url)\n",
    "    page = response.text\n",
    "    soup = BeautifulSoup(page,\"lxml\")\n",
    "\n",
    "    \n",
    "    headers = ['movie_title', 'domestic_total_gross',\n",
    "               'runtime_minutes', 'rating', 'release_date']\n",
    "    \n",
    "    #Get title\n",
    "    title_string = soup.find('title').text\n",
    "    title = title_string.split('-')[0].strip()\n",
    "\n",
    "    #Get domestic gross\n",
    "    raw_domestic_total_gross = (soup.find(class_='mojo-performance-summary-table')\n",
    "                                    .find_all('span', class_='money')[0]\n",
    "                                    .text\n",
    "                               )\n",
    "    domestic_total_gross = money_to_int(raw_domestic_total_gross)\n",
    "\n",
    "    #Get runtime\n",
    "    raw_runtime = get_movie_value(soup,'Running')\n",
    "    runtime = runtime_to_minutes(raw_runtime)\n",
    "    \n",
    "    #Get rating\n",
    "    rating = get_movie_value(soup,'MPAA')\n",
    "\n",
    "    #Get release date\n",
    "    raw_release_date = get_movie_value(soup,'Release Date').split('\\n')[0]\n",
    "    release_date = to_date(raw_release_date)\n",
    "    \n",
    "    #Create movie dictionary and return\n",
    "    movie_dict = dict(zip(headers, [title,\n",
    "                                domestic_total_gross,\n",
    "                                runtime,\n",
    "                                rating, \n",
    "                                release_date]))\n",
    "\n",
    "    return movie_dict"
   ]
  },
  {
   "cell_type": "markdown",
   "metadata": {},
   "source": [
    "Now we just need to pass each link stub to this function."
   ]
  },
  {
   "cell_type": "code",
   "execution_count": 106,
   "metadata": {},
   "outputs": [],
   "source": [
    "g_movies_page_info_list = []\n",
    "\n",
    "for link in g_movies.link_stub:\n",
    "    g_movies_page_info_list.append(get_movie_dict(link))"
   ]
  },
  {
   "cell_type": "code",
   "execution_count": 107,
   "metadata": {},
   "outputs": [
    {
     "data": {
      "text/plain": [
       "[{'movie_title': 'Toy Story 4',\n",
       "  'domestic_total_gross': 434038008,\n",
       "  'runtime_minutes': 100,\n",
       "  'rating': 'G',\n",
       "  'release_date': datetime.datetime(2019, 6, 20, 0, 0)},\n",
       " {'movie_title': 'The Lion King',\n",
       "  'domestic_total_gross': 422783777,\n",
       "  'runtime_minutes': 88,\n",
       "  'rating': 'G',\n",
       "  'release_date': datetime.datetime(1994, 6, 15, 0, 0)},\n",
       " {'movie_title': 'Toy Story 3',\n",
       "  'domestic_total_gross': 415004880,\n",
       "  'runtime_minutes': 103,\n",
       "  'rating': None,\n",
       "  'release_date': datetime.datetime(2010, 6, 16, 0, 0)},\n",
       " {'movie_title': 'Finding Nemo',\n",
       "  'domestic_total_gross': 380843261,\n",
       "  'runtime_minutes': 100,\n",
       "  'rating': None,\n",
       "  'release_date': datetime.datetime(2003, 5, 30, 0, 0)},\n",
       " {'movie_title': 'Monsters, Inc.',\n",
       "  'domestic_total_gross': 290642256,\n",
       "  'runtime_minutes': 92,\n",
       "  'rating': 'G',\n",
       "  'release_date': datetime.datetime(2001, 11, 2, 0, 0)}]"
      ]
     },
     "execution_count": 107,
     "metadata": {},
     "output_type": "execute_result"
    }
   ],
   "source": [
    "g_movies_page_info_list"
   ]
  },
  {
   "cell_type": "code",
   "execution_count": 110,
   "metadata": {},
   "outputs": [
    {
     "data": {
      "text/html": [
       "<div>\n",
       "<style scoped>\n",
       "    .dataframe tbody tr th:only-of-type {\n",
       "        vertical-align: middle;\n",
       "    }\n",
       "\n",
       "    .dataframe tbody tr th {\n",
       "        vertical-align: top;\n",
       "    }\n",
       "\n",
       "    .dataframe thead th {\n",
       "        text-align: right;\n",
       "    }\n",
       "</style>\n",
       "<table border=\"1\" class=\"dataframe\">\n",
       "  <thead>\n",
       "    <tr style=\"text-align: right;\">\n",
       "      <th></th>\n",
       "      <th>domestic_total_gross</th>\n",
       "      <th>runtime_minutes</th>\n",
       "      <th>rating</th>\n",
       "      <th>release_date</th>\n",
       "    </tr>\n",
       "    <tr>\n",
       "      <th>movie_title</th>\n",
       "      <th></th>\n",
       "      <th></th>\n",
       "      <th></th>\n",
       "      <th></th>\n",
       "    </tr>\n",
       "  </thead>\n",
       "  <tbody>\n",
       "    <tr>\n",
       "      <th>Toy Story 4</th>\n",
       "      <td>434038008</td>\n",
       "      <td>100</td>\n",
       "      <td>G</td>\n",
       "      <td>2019-06-20</td>\n",
       "    </tr>\n",
       "    <tr>\n",
       "      <th>The Lion King</th>\n",
       "      <td>422783777</td>\n",
       "      <td>88</td>\n",
       "      <td>G</td>\n",
       "      <td>1994-06-15</td>\n",
       "    </tr>\n",
       "    <tr>\n",
       "      <th>Toy Story 3</th>\n",
       "      <td>415004880</td>\n",
       "      <td>103</td>\n",
       "      <td>None</td>\n",
       "      <td>2010-06-16</td>\n",
       "    </tr>\n",
       "    <tr>\n",
       "      <th>Finding Nemo</th>\n",
       "      <td>380843261</td>\n",
       "      <td>100</td>\n",
       "      <td>None</td>\n",
       "      <td>2003-05-30</td>\n",
       "    </tr>\n",
       "    <tr>\n",
       "      <th>Monsters, Inc.</th>\n",
       "      <td>290642256</td>\n",
       "      <td>92</td>\n",
       "      <td>G</td>\n",
       "      <td>2001-11-02</td>\n",
       "    </tr>\n",
       "  </tbody>\n",
       "</table>\n",
       "</div>"
      ],
      "text/plain": [
       "                domestic_total_gross  runtime_minutes rating release_date\n",
       "movie_title                                                              \n",
       "Toy Story 4                434038008              100      G   2019-06-20\n",
       "The Lion King              422783777               88      G   1994-06-15\n",
       "Toy Story 3                415004880              103   None   2010-06-16\n",
       "Finding Nemo               380843261              100   None   2003-05-30\n",
       "Monsters, Inc.             290642256               92      G   2001-11-02"
      ]
     },
     "execution_count": 110,
     "metadata": {},
     "output_type": "execute_result"
    }
   ],
   "source": [
    "g_movies_page_info = pd.DataFrame(g_movies_page_info_list)  #convert list of dict to df\n",
    "g_movies_page_info.set_index('movie_title', inplace=True)\n",
    "\n",
    "g_movies_page_info"
   ]
  },
  {
   "cell_type": "markdown",
   "metadata": {},
   "source": [
    "(Note: the rating is indeed missing from a few of these pages!  How could you fix that?)\n",
    "\n",
    "We can now match this back up with the movie information collected from the table by merging these dataframes."
   ]
  },
  {
   "cell_type": "code",
   "execution_count": 111,
   "metadata": {},
   "outputs": [
    {
     "data": {
      "text/html": [
       "<div>\n",
       "<style scoped>\n",
       "    .dataframe tbody tr th:only-of-type {\n",
       "        vertical-align: middle;\n",
       "    }\n",
       "\n",
       "    .dataframe tbody tr th {\n",
       "        vertical-align: top;\n",
       "    }\n",
       "\n",
       "    .dataframe thead th {\n",
       "        text-align: right;\n",
       "    }\n",
       "</style>\n",
       "<table border=\"1\" class=\"dataframe\">\n",
       "  <thead>\n",
       "    <tr style=\"text-align: right;\">\n",
       "      <th></th>\n",
       "      <th>link_stub</th>\n",
       "      <th>title</th>\n",
       "      <th>rank_g_movies</th>\n",
       "      <th>lifetime_gross</th>\n",
       "      <th>rank_overall</th>\n",
       "      <th>year</th>\n",
       "      <th>domestic_total_gross</th>\n",
       "      <th>runtime_minutes</th>\n",
       "      <th>rating</th>\n",
       "      <th>release_date</th>\n",
       "    </tr>\n",
       "  </thead>\n",
       "  <tbody>\n",
       "    <tr>\n",
       "      <th>Toy Story 4</th>\n",
       "      <td>/title/tt1979376/?ref_=bo_cso_table_1</td>\n",
       "      <td>Toy Story 4</td>\n",
       "      <td>1</td>\n",
       "      <td>$434,038,008</td>\n",
       "      <td>24</td>\n",
       "      <td>2019</td>\n",
       "      <td>434038008</td>\n",
       "      <td>100</td>\n",
       "      <td>G</td>\n",
       "      <td>2019-06-20</td>\n",
       "    </tr>\n",
       "    <tr>\n",
       "      <th>The Lion King</th>\n",
       "      <td>/title/tt0110357/?ref_=bo_cso_table_2</td>\n",
       "      <td>The Lion King</td>\n",
       "      <td>2</td>\n",
       "      <td>$422,783,777</td>\n",
       "      <td>28</td>\n",
       "      <td>1994</td>\n",
       "      <td>422783777</td>\n",
       "      <td>88</td>\n",
       "      <td>G</td>\n",
       "      <td>1994-06-15</td>\n",
       "    </tr>\n",
       "    <tr>\n",
       "      <th>Toy Story 3</th>\n",
       "      <td>/title/tt0435761/?ref_=bo_cso_table_3</td>\n",
       "      <td>Toy Story 3</td>\n",
       "      <td>3</td>\n",
       "      <td>$415,004,880</td>\n",
       "      <td>30</td>\n",
       "      <td>2010</td>\n",
       "      <td>415004880</td>\n",
       "      <td>103</td>\n",
       "      <td>None</td>\n",
       "      <td>2010-06-16</td>\n",
       "    </tr>\n",
       "    <tr>\n",
       "      <th>Finding Nemo</th>\n",
       "      <td>/title/tt0266543/?ref_=bo_cso_table_4</td>\n",
       "      <td>Finding Nemo</td>\n",
       "      <td>4</td>\n",
       "      <td>$380,843,261</td>\n",
       "      <td>43</td>\n",
       "      <td>2003</td>\n",
       "      <td>380843261</td>\n",
       "      <td>100</td>\n",
       "      <td>None</td>\n",
       "      <td>2003-05-30</td>\n",
       "    </tr>\n",
       "    <tr>\n",
       "      <th>Monsters, Inc.</th>\n",
       "      <td>/title/tt0198781/?ref_=bo_cso_table_5</td>\n",
       "      <td>Monsters, Inc.</td>\n",
       "      <td>5</td>\n",
       "      <td>$290,642,256</td>\n",
       "      <td>100</td>\n",
       "      <td>2001</td>\n",
       "      <td>290642256</td>\n",
       "      <td>92</td>\n",
       "      <td>G</td>\n",
       "      <td>2001-11-02</td>\n",
       "    </tr>\n",
       "  </tbody>\n",
       "</table>\n",
       "</div>"
      ],
      "text/plain": [
       "                                            link_stub           title  \\\n",
       "Toy Story 4     /title/tt1979376/?ref_=bo_cso_table_1     Toy Story 4   \n",
       "The Lion King   /title/tt0110357/?ref_=bo_cso_table_2   The Lion King   \n",
       "Toy Story 3     /title/tt0435761/?ref_=bo_cso_table_3     Toy Story 3   \n",
       "Finding Nemo    /title/tt0266543/?ref_=bo_cso_table_4    Finding Nemo   \n",
       "Monsters, Inc.  /title/tt0198781/?ref_=bo_cso_table_5  Monsters, Inc.   \n",
       "\n",
       "               rank_g_movies lifetime_gross rank_overall  year  \\\n",
       "Toy Story 4                1   $434,038,008           24  2019   \n",
       "The Lion King              2   $422,783,777           28  1994   \n",
       "Toy Story 3                3   $415,004,880           30  2010   \n",
       "Finding Nemo               4   $380,843,261           43  2003   \n",
       "Monsters, Inc.             5   $290,642,256          100  2001   \n",
       "\n",
       "                domestic_total_gross  runtime_minutes rating release_date  \n",
       "Toy Story 4                434038008              100      G   2019-06-20  \n",
       "The Lion King              422783777               88      G   1994-06-15  \n",
       "Toy Story 3                415004880              103   None   2010-06-16  \n",
       "Finding Nemo               380843261              100   None   2003-05-30  \n",
       "Monsters, Inc.             290642256               92      G   2001-11-02  "
      ]
     },
     "execution_count": 111,
     "metadata": {},
     "output_type": "execute_result"
    }
   ],
   "source": [
    "g_movies = g_movies.merge(g_movies_page_info, left_index=True, right_index=True)\n",
    "\n",
    "g_movies"
   ]
  },
  {
   "cell_type": "markdown",
   "metadata": {},
   "source": [
    "## Recap\n",
    "\n",
    "- Beautiful Soup is a powerful HTML parser\n",
    "- You can locate one element with `.find()` or all matching elements with `.find_all()`\n",
    "- To select specific elements, you can filter by tags like `class` or `id` \n",
    "- You can also find items using text matching and `.findNext()`, `.findNextSibling()`, `.findChild()`, etc.\n",
    "- Once you know how to scrape one page, you can scale up by systematically visiting other similar pages.\n",
    "\n",
    "### Limitations\n",
    "Beautiful Soup has its limitations though.  For example, we can't use Beautiful Soup if a page:\n",
    "- Requires us to input a password\n",
    "- Reveals information we want only when we interact with it\n",
    "- Generates dynamically (with JavaScript) rather than statically serving HTML\n",
    "\n",
    "For these situations we need a different tool, like **Selenium** -- coming soon!"
   ]
  },
  {
   "cell_type": "markdown",
   "metadata": {},
   "source": []
  }
 ],
 "metadata": {
  "interpreter": {
   "hash": "5b628da557a8d3b4ac305cf809c20388c4fe00276222ee09a6b1b2d90eb2bc19"
  },
  "kernelspec": {
   "display_name": "Python [conda env:metis_2] *",
   "language": "python",
   "name": "python3"
  },
  "language_info": {
   "codemirror_mode": {
    "name": "ipython",
    "version": 3
   },
   "file_extension": ".py",
   "mimetype": "text/x-python",
   "name": "python",
   "nbconvert_exporter": "python",
   "pygments_lexer": "ipython3",
   "version": "3.9.7"
  }
 },
 "nbformat": 4,
 "nbformat_minor": 2
}
