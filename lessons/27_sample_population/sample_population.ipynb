{
 "cells": [
  {
   "cell_type": "markdown",
   "metadata": {},
   "source": [
    "# Sample and Population"
   ]
  },
  {
   "cell_type": "markdown",
   "metadata": {},
   "source": [
    "__Purpose:__ The purpose of this lecture is to compare sample vs. populations. \n",
    "\n",
    "__At the end of this lecture you will be able to:__\n",
    "> 1. Understand the differences between working with samples and populations "
   ]
  },
  {
   "cell_type": "code",
   "execution_count": null,
   "metadata": {},
   "outputs": [],
   "source": [
    "import numpy as np\n",
    "import pandas as pd\n",
    "from scipy import stats\n",
    "import seaborn as sns\n",
    "import math \n",
    "import random\n",
    "import matplotlib.pyplot as plt\n",
    "%matplotlib inline"
   ]
  },
  {
   "cell_type": "markdown",
   "metadata": {},
   "source": [
    "## 1.1 Sample vs. Population"
   ]
  },
  {
   "cell_type": "markdown",
   "metadata": {},
   "source": [
    "### 1.1.1 What is a Sample and Population? "
   ]
  },
  {
   "cell_type": "markdown",
   "metadata": {},
   "source": [
    "__Overview:__ \n",
    "- It is important to differentiate between a Sample and Population in Statistical Analysis and also understand which of the two you are working with \n",
    "- __[Population](https://en.wikipedia.org/wiki/Statistical_population):__ Population refers to the complete set of observations/items/events that are of interest in an experiment\n",
    "> - A researcher may be interested in a statistic regarding the population (for example, the mean of the population)\n",
    "> - The population is defined by the researcher of the experiment ahead of time and is defined in a convenient fashion for their purposes \n",
    "> - Typically, the population is too large to study, thus warranting a smaller study that will allow the researcher to make inferences about the population \n",
    "> - The statistic of interest in the population is called a __Population Parameter__ (i.e. the Population Mean is represented as $\\mu$ and is usually Greek letters)\n",
    "- __[Sample](https://en.wikipedia.org/wiki/Sample_(statistics)):__ Sample refers to a subset of data that is collected from a population \n",
    "> - The purpose of the sample is to make inferences about the population, thus a sample must be chosen in a way that is representative of the population \n",
    "> - The statistic of interest in the population is called a __Sample Statistic__ (i.e. the Sample Mean is represented as $\\bar x$)\n",
    "\n",
    "__Helpful Points:__\n",
    "1. There is an entire field of Statistical Analysis that deals with methods of creating a representative sample, but this is beyond the scope of this course \n",
    "2. A key part of Inferential Statistics is estimating how far Sample Statistics may vary from Population Parameters \n",
    "\n",
    "__Practice:__ Examples of Samples and Populations"
   ]
  },
  {
   "cell_type": "markdown",
   "metadata": {},
   "source": [
    "### Problem 1:\n",
    "\n",
    "The Executive Director at Metis is interested in learning how likely the students of this course from this cohort are to recommend the course to a friend. To measure this, the Executive Director provides a survey to the students and asks them how likely they are to recommend the course. 15 of 30 students answer the survey. Based on the answers of the 15 students who completed the survey, the Executive Director will make his conclusion. What is the Sample and what is the Population?"
   ]
  },
  {
   "cell_type": "markdown",
   "metadata": {},
   "source": [
    "__Option A:__ Population = all students who have taken this course at Metis from all cohorts. Sample = all students from this course and cohort."
   ]
  },
  {
   "cell_type": "markdown",
   "metadata": {},
   "source": [
    "__Option B:__ Population = all students who have taken any course from Metis from all cohorts. Sample = all students of this course from all cohorts."
   ]
  },
  {
   "cell_type": "markdown",
   "metadata": {},
   "source": [
    "__Option C:__ Population = all students from this course and cohort. Sample = 15 students from this course and cohort who answered the survey"
   ]
  },
  {
   "cell_type": "code",
   "execution_count": null,
   "metadata": {},
   "outputs": [],
   "source": [
    "# write your answer here \n",
    "\n",
    "\n",
    "\n"
   ]
  },
  {
   "cell_type": "markdown",
   "metadata": {},
   "source": [
    "### 1.1.2 Sampling Distributions:"
   ]
  },
  {
   "cell_type": "markdown",
   "metadata": {},
   "source": [
    "__Overview:__ \n",
    "- __[Sampling Distribution](https://en.wikipedia.org/wiki/Sampling_distribution):__ Sampling Distribution is the Probability Distribution of a given statistic that is developed from repeatedly sampling from a population and recording the statistic of interest \n",
    "> - It is possible to have a Sampling Distribution for any statistic that we are interested in \n",
    "> - Sampling Distribution is developed in the following way: \n",
    ">> __Step 1:__ Decide on a statistic of the population you are interested in (for example, the population mean) <br> \n",
    ">> __Step 2:__ Sample n observations from the population and calculate the sample statistic (sample mean, in this case) of this sample of size n. Record this sample statistic <br>\n",
    ">> __Step 3:__ Continue executing step 2 for a large number of iterations (i.e. 10,000), which means we have 10,000 samples of size n which corresponds to 10,000 sample means <br>\n",
    ">> __Step 4:__ Plot the Probability Distribution of the 10,000 sample means and this becomes the Sampling Distribution of the Sample Mean \n",
    "\n",
    "__Helpful Points:__\n",
    "1. The example above was for the Sampling Distribution of the Sample Mean, but any statistic can be calculated for each sample. For example, the Sampling Distribution of the Sample Range, Median, etc. \n",
    "2. It is helpful to specify some terminology: \n",
    "> __Estimand:__ The Estimand is the statistic we are interested in (i.e. the mean) <br> \n",
    "> __Estimate:__ The Estimate is the sample statistic we calculate for every given sample (this is a number) <br> \n",
    "> __Estimator:__ The Estimator is the Random Variable that is described by the Probability Distribution known as the Sampling Distribution. Therefore, each Estimate (sample statistic calculated for 10,000 samples) are realizations of this Random Variable \n",
    "3. The Probability Distribution called the Sampling Distribution also has parameters that define its distribution. The two parameters are the mean and standard deviation (known as the __Standard Error__). When the statistic is the sample mean, we call it the __Standard Error of the Mean__ and the formula is $\\sigma_{\\bar x} = \\frac{\\sigma}{\\sqrt{n}}$\n",
    "\n",
    "__Practice:__ Examples of Sampling Distributions in Python "
   ]
  },
  {
   "cell_type": "markdown",
   "metadata": {},
   "source": [
    "### Example 1 (Sampling Distribution - from Uniform Distribution with sample size 5 and 5 iterations):"
   ]
  },
  {
   "cell_type": "code",
   "execution_count": null,
   "metadata": {},
   "outputs": [],
   "source": [
    "# simulate uniform distribution \n",
    "a = 2\n",
    "b = 10\n",
    "num_samples = 100000\n",
    "uniform_data = np.random.uniform(a, b, num_samples)"
   ]
  },
  {
   "cell_type": "code",
   "execution_count": null,
   "metadata": {},
   "outputs": [],
   "source": [
    "uniform_data.mean() # (a + b)/2 = (2 + 10)/2"
   ]
  },
  {
   "cell_type": "code",
   "execution_count": null,
   "metadata": {},
   "outputs": [],
   "source": [
    "uniform_data.var() # (b - a)^2/12 = (10 - 2)^2/12"
   ]
  },
  {
   "cell_type": "code",
   "execution_count": null,
   "metadata": {},
   "outputs": [],
   "source": [
    "np.median(uniform_data)"
   ]
  },
  {
   "cell_type": "code",
   "execution_count": null,
   "metadata": {
    "scrolled": false
   },
   "outputs": [],
   "source": [
    "# plot the probability distribution \n",
    "sns.distplot(uniform_data)"
   ]
  },
  {
   "cell_type": "markdown",
   "metadata": {},
   "source": [
    "We will consider the Population to be a series of numbers ranging from 1 to 10 that follow a Uniform Distribution. We will now develop a Sampling Distribution for the Sample Mean based on this Population. "
   ]
  },
  {
   "cell_type": "markdown",
   "metadata": {},
   "source": [
    "__Step 1:__ We will choose the statistic to be the Mean (estimand). "
   ]
  },
  {
   "cell_type": "markdown",
   "metadata": {},
   "source": [
    "__Step 2:__ Sample 5 observations from the Population and calculate the Sample Mean every time. "
   ]
  },
  {
   "cell_type": "code",
   "execution_count": null,
   "metadata": {},
   "outputs": [],
   "source": [
    "# make the data into a dataframe to use Pandas sample function \n",
    "uniform_data_df = pd.DataFrame(uniform_data)\n",
    "uniform_data_df.columns = [\"Population Values\"]\n",
    "uniform_data_df.head(10)"
   ]
  },
  {
   "cell_type": "code",
   "execution_count": null,
   "metadata": {},
   "outputs": [],
   "source": [
    "n = 5\n",
    "# sample 5 random values with replacement (each value has equal weight of getting chosen)\n",
    "sample_1 = uniform_data_df[\"Population Values\"].sample(n, replace = True)\n",
    "sample_1"
   ]
  },
  {
   "cell_type": "code",
   "execution_count": null,
   "metadata": {},
   "outputs": [],
   "source": [
    "# calculate sample mean \n",
    "sample_1.mean()"
   ]
  },
  {
   "cell_type": "markdown",
   "metadata": {},
   "source": [
    "__Step 3:__ Repeat Step 2 for 5 iterations and save the sample mean every time "
   ]
  },
  {
   "cell_type": "markdown",
   "metadata": {},
   "source": [
    "First, let us write a simple function to generate a Sample Distribution for any size sample, any number of iterations and for mean, range, and median sample statistics."
   ]
  },
  {
   "cell_type": "code",
   "execution_count": null,
   "metadata": {},
   "outputs": [],
   "source": [
    "def sample_distr(n, num_iter, typ):\n",
    "    sample_stats = []\n",
    "    for i in range(num_iter):\n",
    "        sample_i = uniform_data_df[\"Population Values\"].sample(n, replace = True)\n",
    "        print(\"Current Sample:\")\n",
    "        print(sample_i.values)\n",
    "        if typ == \"mean\":\n",
    "            sample_i_stat = sample_i.mean()\n",
    "        elif typ == \"range\":\n",
    "            sample_i_stat = sample_i.max() - sample_i.min()\n",
    "        elif typ == \"median\":\n",
    "            sample_i_stat = sample_i.median()\n",
    "        print(\"Current Sample Statistic for the \" + typ)\n",
    "        print(sample_i_stat)\n",
    "        print(\"\\n\")\n",
    "        sample_stats.append(sample_i_stat)\n",
    "    return sample_stats"
   ]
  },
  {
   "cell_type": "markdown",
   "metadata": {},
   "source": [
    "### Example 1.1 (Sampling Distribution of the Sample Mean):"
   ]
  },
  {
   "cell_type": "markdown",
   "metadata": {},
   "source": [
    "Execute the function for for a sample size of 5, 5 iterations and calculate the sample mean for each sample"
   ]
  },
  {
   "cell_type": "code",
   "execution_count": null,
   "metadata": {
    "scrolled": true
   },
   "outputs": [],
   "source": [
    "distr_mean = sample_distr(5, 5, \"mean\")"
   ]
  },
  {
   "cell_type": "code",
   "execution_count": null,
   "metadata": {},
   "outputs": [],
   "source": [
    "distr_mean"
   ]
  },
  {
   "cell_type": "markdown",
   "metadata": {},
   "source": [
    "### Example 1.2 (Sampling Distribution of the Sample Range):"
   ]
  },
  {
   "cell_type": "markdown",
   "metadata": {},
   "source": [
    "Execute the function for a sample size of 5, 5 iterations and calculate the sample range for each sample"
   ]
  },
  {
   "cell_type": "code",
   "execution_count": null,
   "metadata": {
    "scrolled": true
   },
   "outputs": [],
   "source": [
    "distr_range = sample_distr(5, 5, \"range\")"
   ]
  },
  {
   "cell_type": "code",
   "execution_count": null,
   "metadata": {},
   "outputs": [],
   "source": [
    "distr_range"
   ]
  },
  {
   "cell_type": "markdown",
   "metadata": {},
   "source": [
    "### Example 1.3 (Sampling Distribution of the Sample Median):"
   ]
  },
  {
   "cell_type": "markdown",
   "metadata": {},
   "source": [
    "Execute the function for for a sample size of 5, 5 iterations and calculate the sample median for each sample"
   ]
  },
  {
   "cell_type": "code",
   "execution_count": null,
   "metadata": {
    "scrolled": true
   },
   "outputs": [],
   "source": [
    "distr_median = sample_distr(5, 5, \"median\")"
   ]
  },
  {
   "cell_type": "code",
   "execution_count": null,
   "metadata": {},
   "outputs": [],
   "source": [
    "distr_median"
   ]
  },
  {
   "cell_type": "markdown",
   "metadata": {},
   "source": [
    "__Step 4:__ Plot the Probability Distribution of the Sample Statistics"
   ]
  },
  {
   "cell_type": "code",
   "execution_count": null,
   "metadata": {},
   "outputs": [],
   "source": [
    "sns.distplot(distr_mean)"
   ]
  },
  {
   "cell_type": "code",
   "execution_count": null,
   "metadata": {},
   "outputs": [],
   "source": [
    "sns.distplot(distr_range)"
   ]
  },
  {
   "cell_type": "code",
   "execution_count": null,
   "metadata": {},
   "outputs": [],
   "source": [
    "sns.distplot(distr_median)"
   ]
  },
  {
   "cell_type": "markdown",
   "metadata": {},
   "source": [
    "### Example 2 (Sampling Distribution - from Uniform Distribution with sample size 5 and 10000 iterations):"
   ]
  },
  {
   "cell_type": "code",
   "execution_count": null,
   "metadata": {},
   "outputs": [],
   "source": [
    "# re-initialize the function, but remove the print statements\n",
    "def sample_distr(n, num_iter, typ):\n",
    "    sample_stats = []\n",
    "    for i in range(num_iter):\n",
    "        sample_i = uniform_data_df[\"Population Values\"].sample(n, replace = True)\n",
    "        if typ == \"mean\":\n",
    "            sample_i_stat = sample_i.mean()\n",
    "        elif typ == \"range\":\n",
    "            sample_i_stat = sample_i.max() - sample_i.min()\n",
    "        elif typ == \"median\":\n",
    "            sample_i_stat = sample_i.median()\n",
    "        sample_stats.append(sample_i_stat)\n",
    "    return sample_stats"
   ]
  },
  {
   "cell_type": "markdown",
   "metadata": {},
   "source": [
    "### Example 2.1 (Sampling Distribution of the Sample Mean):"
   ]
  },
  {
   "cell_type": "code",
   "execution_count": null,
   "metadata": {},
   "outputs": [],
   "source": [
    "distr_mean = sample_distr(5, 10000, \"mean\") # for mean"
   ]
  },
  {
   "cell_type": "code",
   "execution_count": null,
   "metadata": {
    "scrolled": false
   },
   "outputs": [],
   "source": [
    "sns.distplot(distr_mean) # sampling distribution of the sample mean "
   ]
  },
  {
   "cell_type": "code",
   "execution_count": null,
   "metadata": {
    "scrolled": true
   },
   "outputs": [],
   "source": [
    "np.mean(distr_mean) # mean of the sampling distribution of the sample mean"
   ]
  },
  {
   "cell_type": "code",
   "execution_count": null,
   "metadata": {
    "scrolled": true
   },
   "outputs": [],
   "source": [
    "np.var(distr_mean) # variance of the sampling distribution of the sample mean"
   ]
  },
  {
   "cell_type": "markdown",
   "metadata": {},
   "source": [
    "### Example 2.2 (Sampling Distribution of the Sample Range):"
   ]
  },
  {
   "cell_type": "code",
   "execution_count": null,
   "metadata": {},
   "outputs": [],
   "source": [
    "distr_range = sample_distr(5, 10000, \"range\") # for range"
   ]
  },
  {
   "cell_type": "code",
   "execution_count": null,
   "metadata": {
    "scrolled": true
   },
   "outputs": [],
   "source": [
    "sns.distplot(distr_range) # sampling distribution of the sample range"
   ]
  },
  {
   "cell_type": "code",
   "execution_count": null,
   "metadata": {
    "scrolled": true
   },
   "outputs": [],
   "source": [
    "np.mean(distr_range) # mean of the sampling distribution of the sample range"
   ]
  },
  {
   "cell_type": "code",
   "execution_count": null,
   "metadata": {},
   "outputs": [],
   "source": [
    "np.var(distr_range) # variance of the sampling distribution of the sample range"
   ]
  },
  {
   "cell_type": "markdown",
   "metadata": {},
   "source": [
    "### Example 2.3 (Sampling Distribution of the Sample Median):"
   ]
  },
  {
   "cell_type": "code",
   "execution_count": null,
   "metadata": {},
   "outputs": [],
   "source": [
    "distr_median= sample_distr(5, 10000, \"median\") # for median "
   ]
  },
  {
   "cell_type": "code",
   "execution_count": null,
   "metadata": {},
   "outputs": [],
   "source": [
    "sns.distplot(distr_median) # sampling distribution of the sample median"
   ]
  },
  {
   "cell_type": "code",
   "execution_count": null,
   "metadata": {
    "scrolled": true
   },
   "outputs": [],
   "source": [
    "np.mean(distr_median) # mean of the sampling distribution of the sample median"
   ]
  },
  {
   "cell_type": "code",
   "execution_count": null,
   "metadata": {},
   "outputs": [],
   "source": [
    "np.var(distr_median) # variance of the sampling distribution of the sample median"
   ]
  },
  {
   "cell_type": "markdown",
   "metadata": {},
   "source": [
    "### Example 3 (Sampling Distribution - from Uniform Distribution with sample size 25 and 10000 iterations):"
   ]
  },
  {
   "cell_type": "code",
   "execution_count": null,
   "metadata": {},
   "outputs": [],
   "source": [
    "distr_mean = sample_distr(25, 10000, \"mean\") # for mean"
   ]
  },
  {
   "cell_type": "code",
   "execution_count": null,
   "metadata": {
    "scrolled": false
   },
   "outputs": [],
   "source": [
    "sns.distplot(distr_mean) # sampling distribution of the sample mean "
   ]
  },
  {
   "cell_type": "code",
   "execution_count": null,
   "metadata": {
    "scrolled": true
   },
   "outputs": [],
   "source": [
    "np.mean(distr_mean) # mean of the sampling distribution of the sample mean"
   ]
  },
  {
   "cell_type": "code",
   "execution_count": null,
   "metadata": {
    "scrolled": true
   },
   "outputs": [],
   "source": [
    "np.var(distr_mean) # variance of the sampling distribution of the sample mean"
   ]
  },
  {
   "cell_type": "markdown",
   "metadata": {},
   "source": [
    "Notice how when we increase the size of our sample size, the distribution becomes closer to normal, the mean of the Sampling Distribution approaches the population mean and the variance of the Sampling Distribution significantly decreses. This is because if our sample size that we take from the population is larger, it is more likely that the sample contains the true population mean. "
   ]
  },
  {
   "cell_type": "markdown",
   "metadata": {},
   "source": [
    "### Example 4 (Calculating Standard Error of the Sample Mean):"
   ]
  },
  {
   "cell_type": "markdown",
   "metadata": {},
   "source": [
    "If we know the standard deviation of the original distribution and the sample size, we can determine the standard deviation of the sampling distribution. This standard deviation in the case of the sampling distribution of the sample mean is called the Standard Error. \n",
    "\n",
    "<center> $\\sigma_{\\bar x} = \\frac {\\sigma}{\\sqrt{n}}$ </center>"
   ]
  },
  {
   "cell_type": "code",
   "execution_count": null,
   "metadata": {},
   "outputs": [],
   "source": [
    "# calculate standard error of the sampling distribution above in example 3\n",
    "std_error_form = uniform_data.std() / math.sqrt(25)\n",
    "std_error_form"
   ]
  },
  {
   "cell_type": "code",
   "execution_count": null,
   "metadata": {},
   "outputs": [],
   "source": [
    "np.std(distr_mean) # same as above "
   ]
  },
  {
   "cell_type": "markdown",
   "metadata": {},
   "source": [
    "Clearly, there is a relationship between the sample size and the standard deviation of the sampling distribution. "
   ]
  },
  {
   "cell_type": "markdown",
   "metadata": {},
   "source": [
    "### Solutions"
   ]
  },
  {
   "cell_type": "markdown",
   "metadata": {},
   "source": [
    "### Problem 1:\n",
    "\n",
    "The Executive Director at Metis is interested in learning how likely the students of this course from this cohort are to recommend the course to a friend. To measure this, the Executive Director provides a survey to the students and asks them how likely they are to recommend the course. 15 of 30 students answer the survey. Based on the answers of the 15 students who completed the survey, the Executive Director will make his conclusion. What is the Sample and what is the Population?"
   ]
  },
  {
   "cell_type": "markdown",
   "metadata": {},
   "source": [
    "__Option A:__ Population = all students who have taken this course at Metis from all cohorts. Sample = all students from this course and cohort."
   ]
  },
  {
   "cell_type": "markdown",
   "metadata": {},
   "source": [
    "__Option B:__ Population = all students who have taken any course from Metis from all cohorts. Sample = all students of this course from all cohorts."
   ]
  },
  {
   "cell_type": "markdown",
   "metadata": {},
   "source": [
    "__Option C:__ Population = all students from this course and cohort. Sample = 15 students from this course and cohort who answered the survey"
   ]
  },
  {
   "cell_type": "markdown",
   "metadata": {},
   "source": [
    "The answer is \"Option C\""
   ]
  },
  {
   "cell_type": "code",
   "execution_count": null,
   "metadata": {},
   "outputs": [],
   "source": []
  }
 ],
 "metadata": {
  "kernelspec": {
   "display_name": "Python 3",
   "language": "python",
   "name": "python3"
  },
  "language_info": {
   "codemirror_mode": {
    "name": "ipython",
    "version": 3
   },
   "file_extension": ".py",
   "mimetype": "text/x-python",
   "name": "python",
   "nbconvert_exporter": "python",
   "pygments_lexer": "ipython3",
   "version": "3.8.6"
  },
  "toc": {
   "base_numbering": 1,
   "nav_menu": {},
   "number_sections": false,
   "sideBar": true,
   "skip_h1_title": false,
   "title_cell": "Table of Contents",
   "title_sidebar": "Contents",
   "toc_cell": false,
   "toc_position": {},
   "toc_section_display": true,
   "toc_window_display": true
  }
 },
 "nbformat": 4,
 "nbformat_minor": 2
}
