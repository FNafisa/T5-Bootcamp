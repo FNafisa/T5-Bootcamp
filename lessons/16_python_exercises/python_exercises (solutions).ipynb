{
 "cells": [
  {
   "cell_type": "markdown",
   "metadata": {},
   "source": [
    "# Python \n",
    "## Part 12\n",
    "\n",
    "In this notebook we will: \n",
    "- Solve problems that will reinforce your Python skills.  We will cover some of these problems in class, and it is encouraged that you work through the remaining problems on your own time."
   ]
  },
  {
   "cell_type": "markdown",
   "metadata": {},
   "source": [
    "### Fruit Count\n",
    "\n",
    "Create a dictionary that contains the following items: bananas: 3, apples: 2, pears: 5, oranges: 0\n",
    "\n",
    "Using `if statements` complete the following:\n",
    "\n",
    "A) If there are 3 or more bananas, print __Three or more bananas__; otherwise, print __Less than three bananas__.\n",
    "\n",
    "B) If there are more than five fruits in total, print __More than five fruits__; otherwise, print __No more than five fruits__\n",
    "\n",
    "C) If there are more than 3 apples, check if there are 2 or more pears and print __True__; otherwise, print __False__"
   ]
  },
  {
   "cell_type": "code",
   "execution_count": null,
   "metadata": {},
   "outputs": [],
   "source": [
    "### ANSWERS\n",
    "my_dict = {'bananas':3,'apples':2, 'pears':5, 'oranges':0}\n",
    "\n",
    "# A\n",
    "if my_dict['bananas'] >= 3:\n",
    "    print('Three or more bananas')\n",
    "else:\n",
    "    print('Less than three bananas')"
   ]
  },
  {
   "cell_type": "code",
   "execution_count": null,
   "metadata": {},
   "outputs": [],
   "source": [
    "# B\n",
    "if sum(my_dict.values()) > 5:\n",
    "    print('More than five fruits')\n",
    "else:\n",
    "    print('No more than five fuits')"
   ]
  },
  {
   "cell_type": "code",
   "execution_count": null,
   "metadata": {},
   "outputs": [],
   "source": [
    "# C\n",
    "if my_dict['apples'] > 3:\n",
    "    if my_dict['pears'] >= 2:\n",
    "        print(True)\n",
    "    else:\n",
    "        print(False)\n",
    "else:\n",
    "    print(False)"
   ]
  },
  {
   "cell_type": "markdown",
   "metadata": {},
   "source": [
    "### Fruit Count 2\n",
    "You are given a dictionary that has the count of the number of fruits in a basket. Write a function that takes in the dictionary and outputs the total number of fruits in the basket.\n",
    "\n",
    "Sample input: fruits = {\"oranges\": 5, \"apples\": 2, \"blueberries\": 12}\n",
    "Expected output: 19"
   ]
  },
  {
   "cell_type": "code",
   "execution_count": null,
   "metadata": {},
   "outputs": [],
   "source": [
    "### ANSWER\n",
    "def count_fruits(fruits):\n",
    "    \"\"\"\n",
    "    Using a loop through keys\n",
    "    \"\"\"\n",
    "    total = 0\n",
    "    for key in fruits:\n",
    "        total += fruits[key]\n",
    "    return total"
   ]
  },
  {
   "cell_type": "code",
   "execution_count": null,
   "metadata": {},
   "outputs": [],
   "source": [
    "# Testcases\n",
    "fruits = {\"oranges\": 5, \"apples\": 2, \"blueberries\": 12}\n",
    "count_fruits(fruits)"
   ]
  },
  {
   "cell_type": "code",
   "execution_count": null,
   "metadata": {},
   "outputs": [],
   "source": [
    "### ANOTHER ANSWER\n",
    "def count_fruits2(fruits):\n",
    "    \"\"\"\n",
    "    Using the dictionary method .values()\n",
    "    \"\"\"\n",
    "    return sum(fruits.values())"
   ]
  },
  {
   "cell_type": "code",
   "execution_count": null,
   "metadata": {},
   "outputs": [],
   "source": [
    "# Testcases\n",
    "fruits = {\"oranges\": 5, \"apples\": 2, \"blueberries\": 12}\n",
    "count_fruits2(fruits)"
   ]
  },
  {
   "cell_type": "markdown",
   "metadata": {},
   "source": [
    "### Colors\n",
    "Write a function that returns a `set` containing all the colors from color_list_1 which are not present in color_list_2.\n",
    "\n",
    "Test Data :  \n",
    "`color_list_1 = set([\"White\", \"Black\", \"Red\"])`   \n",
    "`color_list_2 = set([\"Red\", \"Green\"])`  \n",
    "Expected Output :  \n",
    "`{'Black', 'White'}`"
   ]
  },
  {
   "cell_type": "code",
   "execution_count": null,
   "metadata": {},
   "outputs": [],
   "source": [
    "### ANSWER\n",
    "def my_function(set1, set2):\n",
    "    return set1 - set2 # or set1.difference(set2) would also work"
   ]
  },
  {
   "cell_type": "code",
   "execution_count": null,
   "metadata": {},
   "outputs": [],
   "source": [
    "# Testcases\n",
    "color_list_1 = set([\"White\", \"Black\", \"Red\"])\n",
    "color_list_2 = set([\"Red\", \"Green\"])\n",
    "my_function(color_list_1, color_list_2)"
   ]
  },
  {
   "cell_type": "markdown",
   "metadata": {},
   "source": [
    "### Digit and Letter Count\n",
    "Write a function that accepts a string and returns a dictionary with the number of digits and letters. \n",
    "\n",
    "Input String : `\"Python 3.2\"`  \n",
    "\n",
    "Expected Output :  \n",
    "`{'Letters': 6,  'Digits': 2}`  \n",
    "\n",
    "__Hint:__ you can use Python string's inherent `isdigit()` and `isalpha()` method. For example, \"a\".isdigit() returns `False`, while \"a\".isalpha() returns `True`."
   ]
  },
  {
   "cell_type": "code",
   "execution_count": null,
   "metadata": {},
   "outputs": [],
   "source": [
    "### ANSWER\n",
    "def letters_digits(s):\n",
    "    res = {\"Letters\":0,\"Digits\":0}\n",
    "\n",
    "    for c in s:\n",
    "        if c.isdigit():\n",
    "            res[\"Digits\"]+=1\n",
    "        elif c.isalpha():\n",
    "            res[\"Letters\"]+=1\n",
    "\n",
    "    return res"
   ]
  },
  {
   "cell_type": "code",
   "execution_count": null,
   "metadata": {},
   "outputs": [],
   "source": [
    "# Testcases\n",
    "letters_digits(\"Python 3.2\")"
   ]
  },
  {
   "cell_type": "markdown",
   "metadata": {},
   "source": [
    "### Reverse Digits\n",
    "\n",
    "Write a function that reverses the digits of a number.  For example the integer `1234` should return the integer `4321`.  Assume, that the input integer does not end with a `0`!"
   ]
  },
  {
   "cell_type": "code",
   "execution_count": null,
   "metadata": {},
   "outputs": [],
   "source": [
    "### ANSWER\n",
    "def reverse_int(num):\n",
    "    text = str(num)\n",
    "    text = text[::-1]\n",
    "    return(int(text))\n",
    "#     return int(str(num)[::-1]) # you can also do it all in one line"
   ]
  },
  {
   "cell_type": "code",
   "execution_count": null,
   "metadata": {},
   "outputs": [],
   "source": [
    "reverse_int(1234)"
   ]
  },
  {
   "cell_type": "markdown",
   "metadata": {},
   "source": [
    "### Factorial\n",
    "\n",
    "Write a function called `factorial` that receives an integer and returns it's factorial.  For example\n",
    "`factorial(5)`  should return `120` (5x4x3x2).\n"
   ]
  },
  {
   "cell_type": "code",
   "execution_count": null,
   "metadata": {},
   "outputs": [],
   "source": [
    "### ANSWER\n",
    "def factorial(number):\n",
    "    total = 1\n",
    "    for num in range(2,number+1):\n",
    "        total*=num\n",
    "    return total"
   ]
  },
  {
   "cell_type": "code",
   "execution_count": null,
   "metadata": {},
   "outputs": [],
   "source": [
    "factorial(5)"
   ]
  },
  {
   "cell_type": "markdown",
   "metadata": {},
   "source": [
    "### Upper and Lower Case Count\n",
    "\n",
    "Write a function `upper_lower` that receives a string and returns a dictionary with the keys `upper` and `lower` and the values are the counts of the number of upper and lower characters.  For example, `The quick Brown Fox` would return `{'upper': 3, 'lower': 13}`"
   ]
  },
  {
   "cell_type": "code",
   "execution_count": null,
   "metadata": {},
   "outputs": [],
   "source": [
    "### ANSWER\n",
    "def upper_lower(text):\n",
    "    text = text.replace(' ','') # removes the empty spaces\n",
    "    \n",
    "    res = {'upper':0,'lower':0}\n",
    "    for c in text:\n",
    "        if c.isupper():\n",
    "            res['upper'] += 1\n",
    "        else:\n",
    "            res['lower'] += 1\n",
    "    return res"
   ]
  },
  {
   "cell_type": "code",
   "execution_count": null,
   "metadata": {},
   "outputs": [],
   "source": [
    "text = 'The quick Brown Fox'\n",
    "upper_lower(text)"
   ]
  },
  {
   "cell_type": "markdown",
   "metadata": {},
   "source": [
    "### Multiples of 11\n",
    "\n",
    "Write a function that receives a list and returns a new list with the numbers that are multiples of 11 sorted from high to low. For example, `[11, 3, 66, 38, 44, 69]` returns `[66, 44, 11]`."
   ]
  },
  {
   "cell_type": "code",
   "execution_count": null,
   "metadata": {},
   "outputs": [],
   "source": [
    "### ANSWER\n",
    "def multiples(numbers):\n",
    "    res = []\n",
    "    for i in numbers:\n",
    "        if i%11 == 0:\n",
    "            res.append(i)\n",
    "    return sorted(res, reverse = True)"
   ]
  },
  {
   "cell_type": "code",
   "execution_count": null,
   "metadata": {},
   "outputs": [],
   "source": [
    "numbers = [11, 3, 66, 38, 44, 69]\n",
    "multiples(numbers)"
   ]
  },
  {
   "cell_type": "markdown",
   "metadata": {},
   "source": [
    "### Palindrome\n",
    "\n",
    "Write a function that receives a string and returns `True` or `False` depending if the word is a palindrome.  A palindrome is a word, phrase or sequence that reads the same backward as forward.  Examples of palindromes are `racecar` and `Nurses Run`. \n",
    "\n",
    "__NOTE__: it should be case sensitive and should ignore spaces."
   ]
  },
  {
   "cell_type": "code",
   "execution_count": null,
   "metadata": {},
   "outputs": [],
   "source": [
    "### ANSWER\n",
    "def palindrome(text):\n",
    "    text = text.lower().replace(' ','')\n",
    "    return text == text[::-1]"
   ]
  },
  {
   "cell_type": "code",
   "execution_count": null,
   "metadata": {},
   "outputs": [],
   "source": [
    "text = 'racecar'\n",
    "palindrome(text)"
   ]
  },
  {
   "cell_type": "code",
   "execution_count": null,
   "metadata": {},
   "outputs": [],
   "source": [
    "text = 'Nurses Run'\n",
    "palindrome(text)"
   ]
  },
  {
   "cell_type": "markdown",
   "metadata": {},
   "source": [
    "### Sorted-Hyphen\n",
    "\n",
    "Write a function that accepts a hyphen-separated sequence of words as input and returns the words in a hyphen-separated sequence after sorting them alphabetically. For example: `green-red-yellow-black-white` returns\n",
    "`black-green-red-white-yellow`."
   ]
  },
  {
   "cell_type": "code",
   "execution_count": null,
   "metadata": {},
   "outputs": [],
   "source": [
    "### ANSWER\n",
    "def sorted_hyphen(text):\n",
    "    text = '-'.join(sorted(text.split('-'))) # this can be separated into many lines\n",
    "    return(text)"
   ]
  },
  {
   "cell_type": "code",
   "execution_count": null,
   "metadata": {},
   "outputs": [],
   "source": [
    "text = 'green-red-yellow-black-white'\n",
    "sorted_hyphen(text)"
   ]
  },
  {
   "cell_type": "markdown",
   "metadata": {},
   "source": [
    "### Pangram\n",
    "\n",
    "Write a function that returns `True` or `False` if a string is a pangram. \n",
    "\n",
    "__Note:__ Pangrams are words or sentences containing every letter of the alphabet at least once.\n",
    "For example : \"The quick brown fox jumps over the lazy dog!\" should return `True`"
   ]
  },
  {
   "cell_type": "code",
   "execution_count": null,
   "metadata": {},
   "outputs": [],
   "source": [
    "### ANSWER\n",
    "def pangram(text):\n",
    "    text = text.lower() \n",
    "    new_text = ''\n",
    "    \n",
    "    # remove non alpha characters\n",
    "    for c in text:\n",
    "        if c.isalpha():\n",
    "            new_text +=c\n",
    "            \n",
    "    return len(set(new_text)) == 26 # there are 26 characters in the alphabet"
   ]
  },
  {
   "cell_type": "code",
   "execution_count": null,
   "metadata": {},
   "outputs": [],
   "source": [
    "text = 'The quick brown fox jumps over the lazy dog!'\n",
    "pangram(text)"
   ]
  },
  {
   "cell_type": "markdown",
   "metadata": {},
   "source": [
    "### Scrabble"
   ]
  },
  {
   "cell_type": "markdown",
   "metadata": {},
   "source": [
    "``` python\n",
    "TILE_SCORES = {\n",
    "    'A': 1, 'B': 3, 'C': 3, 'D': 2, 'E': 1,\n",
    "    'F': 4, 'G': 2, 'H': 4, 'I': 1, 'J': 8,\n",
    "    'K': 5, 'L': 1, 'M': 3, 'N': 1, 'O': 1,\n",
    "    'P': 3, 'Q':10, 'R': 1, 'S': 1, 'T': 1,\n",
    "    'U': 1, 'V': 4, 'W': 4, 'X': 8, 'Y': 4,\n",
    "    'Z': 10\n",
    "}\n",
    "```"
   ]
  },
  {
   "cell_type": "markdown",
   "metadata": {},
   "source": [
    "Write a function `score_word(word)` that takes a `word` (e.g. \"DOCTOR\") and returns the score, where each letter's score is the value in `TILE_SCORES` (in this case 2+1+3+1+1+1 = 9 is the score for DOCTOR).  Use the dictionary above.\n",
    "\n",
    "Bonus: you should make it case-insensitive, e.g. both `score_word(\"DOCTOR\")` and `score_word(\"doctor\")` return 9"
   ]
  },
  {
   "cell_type": "code",
   "execution_count": null,
   "metadata": {},
   "outputs": [],
   "source": [
    "TILE_SCORES = {\n",
    "    'A': 1, 'B': 3, 'C': 3, 'D': 2, 'E': 1,\n",
    "    'F': 4, 'G': 2, 'H': 4, 'I': 1, 'J': 8,\n",
    "    'K': 5, 'L': 1, 'M': 3, 'N': 1, 'O': 1,\n",
    "    'P': 3, 'Q':10, 'R': 1, 'S': 1, 'T': 1,\n",
    "    'U': 1, 'V': 4, 'W': 4, 'X': 8, 'Y': 4,\n",
    "    'Z': 10\n",
    "}"
   ]
  },
  {
   "cell_type": "code",
   "execution_count": null,
   "metadata": {},
   "outputs": [],
   "source": [
    "### ANSWER\n",
    "def score_word(word):\n",
    "    word = word.upper() # make every letter uppercase\n",
    "    score = 0\n",
    "    for c in word:\n",
    "        score += TILE_SCORES[c]\n",
    "    return score"
   ]
  },
  {
   "cell_type": "code",
   "execution_count": null,
   "metadata": {},
   "outputs": [],
   "source": [
    "### ANSWER using List Comprehension\n",
    "def score_word(word):\n",
    "    word = word.upper() # make every letter uppercase\n",
    "    return sum([TILE_SCORES[c] for c in word])"
   ]
  },
  {
   "cell_type": "code",
   "execution_count": null,
   "metadata": {},
   "outputs": [],
   "source": [
    "score_word(\"DOCTOR\")"
   ]
  },
  {
   "cell_type": "code",
   "execution_count": null,
   "metadata": {},
   "outputs": [],
   "source": [
    "score_word(\"doctor\")"
   ]
  },
  {
   "cell_type": "markdown",
   "metadata": {},
   "source": [
    "### Scrabble Extension\n"
   ]
  },
  {
   "cell_type": "markdown",
   "metadata": {},
   "source": [
    "Using the following code, load a list of words.\n",
    "``` python\n",
    "with open('words.txt') as f:\n",
    "    WORDS = [w.strip() for w in f.readlines()]\n",
    "print(WORDS[:10])\n",
    "```\n",
    "\n",
    "Write a function that uses the `score_word` function above and calculates the score of each word.  It should return a dictionary where the keys are the score and the values is a list of the words that got a certain score. What is the highest score and what is/are the word(s) that achieved that score? "
   ]
  },
  {
   "cell_type": "code",
   "execution_count": null,
   "metadata": {},
   "outputs": [],
   "source": [
    "### ANSWER\n",
    "with open('words.txt') as f:\n",
    "    WORDS = [w.strip() for w in f.readlines()]\n",
    "print(WORDS[:10])"
   ]
  },
  {
   "cell_type": "code",
   "execution_count": null,
   "metadata": {},
   "outputs": [],
   "source": [
    "def scrabble(WORDS):\n",
    "    scrabble_dict = {}\n",
    "    for word in WORDS:\n",
    "        score = score_word(word)\n",
    "        if score not in scrabble_dict:\n",
    "            scrabble_dict[score] = []\n",
    "        scrabble_dict[score].append(word)\n",
    "    return scrabble_dict"
   ]
  },
  {
   "cell_type": "code",
   "execution_count": null,
   "metadata": {},
   "outputs": [],
   "source": [
    "scrabble_dict = scrabble(WORDS)"
   ]
  },
  {
   "cell_type": "code",
   "execution_count": null,
   "metadata": {},
   "outputs": [],
   "source": [
    "scrabble_dict[max(scrabble_dict.keys())]"
   ]
  },
  {
   "cell_type": "markdown",
   "metadata": {},
   "source": [
    "### Telephone Words\n",
    "\n",
    "Write a function `word_to_num` that receives a phone number (with text), and converts in into numbers using the telephone keypad:\n",
    "\n",
    "![Telephone keypad](keypad.png)\n",
    "\n",
    "For example, `1-888-WAIT-WAI` (the number for NPRs \"Wait, Wait, Don't tell me\") should return the string `1-888-924-8924`."
   ]
  },
  {
   "cell_type": "markdown",
   "metadata": {},
   "source": [
    "Use the following dictionary:\n",
    "\n",
    "```python\n",
    "NUM_TO_LETTERS = {\n",
    "    2: 'ABC',\n",
    "    3: 'DEF',\n",
    "    4: 'GHI',\n",
    "    5: 'JKL',\n",
    "    6: 'MNO',\n",
    "    7: 'PQRS',\n",
    "    8: 'TUV',\n",
    "    9: 'WXYZ'\n",
    "}```"
   ]
  },
  {
   "cell_type": "code",
   "execution_count": null,
   "metadata": {},
   "outputs": [],
   "source": [
    "### ANSWER\n",
    "NUM_TO_LETTERS = {\n",
    "    2: 'ABC',\n",
    "    3: 'DEF',\n",
    "    4: 'GHI',\n",
    "    5: 'JKL',\n",
    "    6: 'MNO',\n",
    "    7: 'PQRS',\n",
    "    8: 'TUV',\n",
    "    9: 'WXYZ'\n",
    "}\n",
    "\n",
    "def word_to_num(phone):\n",
    "    number = ''\n",
    "    \n",
    "    for char in phone: # loops for every character in the phone number\n",
    "        \n",
    "        if char.isalpha(): # for letters\n",
    "            # loops for every key: value pair\n",
    "            for key, value in NUM_TO_LETTERS.items():\n",
    "                # once it finds the correct value that contains the character it adds to the string\n",
    "                if char in value:\n",
    "                    number += str(key)\n",
    "                    break\n",
    "        else: # for non-letters (numbers, '-')\n",
    "            number += str(char)\n",
    "    return number"
   ]
  },
  {
   "cell_type": "code",
   "execution_count": null,
   "metadata": {},
   "outputs": [],
   "source": [
    "word_to_num('1-888-WAIT-WAI')"
   ]
  },
  {
   "cell_type": "markdown",
   "metadata": {},
   "source": [
    "### Telephone Words 2\n",
    "\n",
    "Make a new dictionary called `LETTERS_TO_NUM`, using `NUM_TO_LETTERS`, that looks like the following:\n",
    "\n",
    "`{'A': 2, 'B': 2, 'C': 2, 'D': 3,...'Y': 9,'Z': 9}` and use this to create a new function that solves the previous question."
   ]
  },
  {
   "cell_type": "code",
   "execution_count": null,
   "metadata": {},
   "outputs": [],
   "source": [
    "### ANSWER\n",
    "LETTERS_TO_NUM = {c:key for key, value in NUM_TO_LETTERS.items() for c in value}\n",
    "print(LETTERS_TO_NUM)\n",
    "\n",
    "#### This code does the same thing as the dict comprehension above\n",
    "# LETTERS_TO_NUM = {}\n",
    "# for key, val in NUM_TO_LETTERS.items():\n",
    "#     for c in val:\n",
    "#         LETTERS_TO_NUM[c] = key\n",
    "# print(LETTERS_TO_NUM)"
   ]
  },
  {
   "cell_type": "code",
   "execution_count": null,
   "metadata": {},
   "outputs": [],
   "source": [
    "def word_to_num(phone):\n",
    "    number = ''\n",
    "\n",
    "    for char in phone: # loops for every character in the phone number\n",
    "        if char.isalpha():\n",
    "            number += str(LETTERS_TO_NUM[char])\n",
    "        else:\n",
    "            number+=char\n",
    "    return number"
   ]
  },
  {
   "cell_type": "code",
   "execution_count": null,
   "metadata": {},
   "outputs": [],
   "source": [
    "word_to_num('1-888-WAIT-WAI')"
   ]
  },
  {
   "cell_type": "markdown",
   "metadata": {},
   "source": [
    "### Anagrams\n",
    "\n",
    "Write a function `are_anagrams(word1, word2)`, that checks if two words are anagrams or not (__anagram:__ a word, phrase, or name formed by rearranging the letters of another, such as `cinema`, formed from `iceman`.). If they are anagrams, return `True`, otherwise return `False`. Let's assume we are case-sensitive (i.e. `b` and `B` are not the same letter).\n",
    "\n",
    "Examples:\n",
    "```python\n",
    "are_anagrams('debit card','bad credit')\n",
    "True\n",
    "are_anagrams('The eyes', 'They see')\n",
    "True\n",
    "are_anagrams('adam', 'dama')\n",
    "True\n",
    "are_anagrams('adam', 'mad')\n",
    "False\n",
    "are_anagrams('debit card','Bad credit')\n",
    "False\n",
    "```"
   ]
  },
  {
   "cell_type": "code",
   "execution_count": null,
   "metadata": {},
   "outputs": [],
   "source": [
    "def are_anagrams(word1, word2):\n",
    "    if len(word1) != len(word2):\n",
    "        return False\n",
    "    return (sorted(word1) == sorted(word2))"
   ]
  },
  {
   "cell_type": "code",
   "execution_count": null,
   "metadata": {},
   "outputs": [],
   "source": [
    "are_anagrams('debit card','bad credit')"
   ]
  },
  {
   "cell_type": "markdown",
   "metadata": {},
   "source": [
    "### Millionaire\n",
    "\n",
    "Let's look at the world of compound interest.\n",
    "\n",
    "Let's say we have a 10%  annual interest rate (**sign me up!**), and start with 100.00 in my bank account. How much do I have after one year? The answer if the interest isn't compounded is\n",
    "$$\\text{interest after 1 year} = \\$100.00 * (1 + 0.10) = \\$110.00 $$\n",
    "\n",
    "If we compound the interest every 6 months, then \"10% per year\" is actually \"5% per 6 months\". Then we get\n",
    "$$\\text{interest after 6 months} = $100.00 * (1 + 0.05) = \\$105.00 $$\n",
    "and\n",
    "$$\\text{interest after 1 year} = \\$105.00 * (1 + 0.05) = \\$110.25 $$\n",
    "Note we could rewrite this as\n",
    "$$\\text{interest after 1 year} = \\$100.00 * \\left(1 + \\frac{0.10}{2}\\right)^2 = \\$110.25 $$\n",
    "\n",
    "If we compound interest every month, then \"10% per year\" is \"(10/12)% per month\", and we apply it 12 times. The formula is\n",
    "$$\\text{interest after 1 year} = \\$100.00 * \\left(1 + \\frac{0.10}{12}\\right)^{12} = \\$110.47$$\n",
    "\n",
    "If we compound interest every _day_ , then \"10% per year\" is \"(10/365)% per day\", and we apply it 365 times for a year. The formula is then \n",
    "$$\\text{interest after 1 year} = \\$100.00 * \\left(1 + \\frac{0.10}{365}\\right)^{365} = \\$110.52$$\n",
    "\n"
   ]
  },
  {
   "cell_type": "markdown",
   "metadata": {},
   "source": [
    "Write a function\n",
    "```python\n",
    "get_balance(initial_balance, num_days, annual_interest_rate)\n",
    "```\n",
    "\n",
    "Gets the balance if we started with `initial_balance` after `num_days`, if there is an interest rate of `annual_interest_rate`, compounded daily\n",
    "\n",
    "Examples:\n",
    "```python\n",
    "# put $1k in a 0% account for a year\n",
    "get_balance(1000.00, 365, 0.0) \n",
    "1000.00\n",
    "\n",
    "# put $1k in a 4% APR account for a year. Note that because of compound interest\n",
    "# the number is bigger than $1040 ($40 is 4% of $1k) \n",
    "get_balance(1000.00, 365, 0.04)  # put $1k in a 4% APR accoun\n",
    "$1040.8085\n",
    "```"
   ]
  },
  {
   "cell_type": "code",
   "execution_count": null,
   "metadata": {},
   "outputs": [],
   "source": [
    "### ANSWER\n",
    "def get_balance(initial_balance, num_days, apr):\n",
    "  \n",
    "    return round(initial_balance*(1 + (apr/365))**num_days,4)"
   ]
  },
  {
   "cell_type": "code",
   "execution_count": null,
   "metadata": {},
   "outputs": [],
   "source": [
    "get_balance(1000, 365, 0.0)"
   ]
  },
  {
   "cell_type": "code",
   "execution_count": null,
   "metadata": {},
   "outputs": [],
   "source": [
    "get_balance(1000.00, 365, 0.04)"
   ]
  },
  {
   "cell_type": "markdown",
   "metadata": {},
   "source": [
    "### Millionaire 2\n",
    "\n",
    "Write a function that given an interest rate and an initial balance, it returns how many days it would take for the balance to reach one million dollars. That is, what is the _smallest_ number of days we would have to wait before we reach one million dollars or more. You can use the `get_balance()` function from the previous problem.\n",
    "\n",
    "Example:\n",
    "```python\n",
    "# Start with $1000 initial balance, with a 5% APR (compounded daily)\n",
    "# How many days until we hit more than one million dollars?\n",
    "days_to_one_million(1000, 0.05)\n",
    "50431\n",
    "# i.e. 50431 days, or 138 years\n",
    "```"
   ]
  },
  {
   "cell_type": "code",
   "execution_count": null,
   "metadata": {},
   "outputs": [],
   "source": [
    "### ANSWER\n",
    "MAX_DAYS_TO_WAIT = 365*100 # assuming we live to 100 years\n",
    "\n",
    "def days_to_one_million(initial_balance, apr):\n",
    "    balance = initial_balance\n",
    "    day = -1\n",
    "    while (balance < 1_000_000):\n",
    "        day = day + 1\n",
    "        balance = get_balance(initial_balance, day, apr)\n",
    "        if day > MAX_DAYS_TO_WAIT:\n",
    "            print(\"You'll be dead before you get $1M\")\n",
    "            return None\n",
    "    return day"
   ]
  },
  {
   "cell_type": "code",
   "execution_count": null,
   "metadata": {},
   "outputs": [],
   "source": [
    "days = days_to_one_million(1000, 0.10)\n",
    "\n",
    "if days:\n",
    "    print(f\"You need to wait {days} days which is about {round(days/365)} years\")"
   ]
  },
  {
   "cell_type": "markdown",
   "metadata": {},
   "source": [
    "### Email Validation\n",
    "\n",
    "Write a function that receives a list of strings and determines if they are valid emails.  A valid email is defined as:\n",
    "- Has at least 8 characters\n",
    "- Ends with `.com`\n",
    "- Has an `@` in the string between the second character (index 1) and before the `.com`\n",
    "\n",
    "The function returns a dictionary with the string as keys and the `True` or `False` as the values.\n",
    "\n",
    "As an example, the following list\n",
    "```python\n",
    "emails = ['clark_kent@gmail.com','@clark_kentgmail.com','c@g.com',\n",
    "          'clark_kent@gmail.org','clark_kent@gmailorg']\n",
    "email(emails)\n",
    "```\n",
    "would return\n",
    "```python\n",
    "{'clark_kent@gmail.com': True,\n",
    " '@clark_kentgmail.com': False,\n",
    " 'c@g.com': False,\n",
    " 'clark_kent@gmail.org': False,\n",
    " 'clark_kent@gmailorg': False}\n",
    "```"
   ]
  },
  {
   "cell_type": "code",
   "execution_count": null,
   "metadata": {},
   "outputs": [],
   "source": [
    "### ANSWER\n",
    "def email(emails):\n",
    "    res = {}\n",
    "    for i in emails:\n",
    "        if (len(i)>=8) and (i[-4:] == '.com') and ('@' in i[1:-4]):\n",
    "            res[i] = True\n",
    "        else:\n",
    "            res[i] = False\n",
    "    return res"
   ]
  },
  {
   "cell_type": "code",
   "execution_count": null,
   "metadata": {},
   "outputs": [],
   "source": [
    "emails = ['clark_kent@gmail.com','@clark_kentgmail.com','c@g.com',\n",
    "          'clark_kent@gmail.org','clark_kent@gmailorg']\n",
    "email(emails)"
   ]
  },
  {
   "cell_type": "markdown",
   "metadata": {},
   "source": [
    "### Minutes:\n",
    "\n",
    "Write a function `minutes` that receives three arguments: `day`, `hours` and `minutes`, and returns the total number of minutes.\n",
    "\n",
    "For example, `minutes(day = 15,hrs = 12,mins = 23)`  should return `22343`."
   ]
  },
  {
   "cell_type": "code",
   "execution_count": null,
   "metadata": {},
   "outputs": [],
   "source": [
    "### ANSWER\n",
    "def minutes(day, hrs, mins):\n",
    "    return day*24*60 + hrs*60 + mins"
   ]
  },
  {
   "cell_type": "code",
   "execution_count": null,
   "metadata": {},
   "outputs": [],
   "source": [
    "minutes(15,12,23)"
   ]
  },
  {
   "cell_type": "code",
   "execution_count": null,
   "metadata": {},
   "outputs": [],
   "source": []
  }
 ],
 "metadata": {
  "kernelspec": {
   "display_name": "Python 3",
   "language": "python",
   "name": "python3"
  },
  "language_info": {
   "codemirror_mode": {
    "name": "ipython",
    "version": 3
   },
   "file_extension": ".py",
   "mimetype": "text/x-python",
   "name": "python",
   "nbconvert_exporter": "python",
   "pygments_lexer": "ipython3",
   "version": "3.8.5"
  },
  "toc": {
   "base_numbering": 1,
   "nav_menu": {},
   "number_sections": false,
   "sideBar": true,
   "skip_h1_title": false,
   "title_cell": "Table of Contents",
   "title_sidebar": "Contents",
   "toc_cell": false,
   "toc_position": {},
   "toc_section_display": true,
   "toc_window_display": true
  }
 },
 "nbformat": 4,
 "nbformat_minor": 4
}
