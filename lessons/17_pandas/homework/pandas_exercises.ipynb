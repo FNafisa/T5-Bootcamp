{
 "cells": [
  {
   "cell_type": "markdown",
   "metadata": {},
   "source": [
    "# Exercises: pandas Series and DataFrames"
   ]
  },
  {
   "cell_type": "code",
   "execution_count": null,
   "metadata": {},
   "outputs": [],
   "source": [
    "import pandas as pd"
   ]
  },
  {
   "cell_type": "markdown",
   "metadata": {},
   "source": [
    "## Problem 1:\n",
    "\n",
    "Create a Pandas series called `prob1_ser` using a dictionary, that has the country name as index and population as the values.  Here is the data set (from 2017):\n",
    "\n",
    "    * China     1,409,517,397\n",
    "    * India     1,339,180,127\n",
    "    * USA         324,459,463\n",
    "    * Indonesia   263,991,379\n",
    "    * Brazil      209,288,278\n",
    "\n",
    "Give the data a name equal to $Population$."
   ]
  },
  {
   "cell_type": "code",
   "execution_count": null,
   "metadata": {},
   "outputs": [],
   "source": []
  },
  {
   "cell_type": "markdown",
   "metadata": {},
   "source": [
    "## Problem 2:\n",
    "\n",
    "Create a Pandas DataFrame called `prob2_df` using a list of dictionaries that has 3 columns and 5 rows.  The column names are `Country Name`, `Population` and `Size` (which is in $km^2$).\n",
    "\n",
    "      Country Name   Population          Size\n",
    "    \n",
    "    * China\t   1,409,517,397     9,572,900\n",
    "    * India       1,339,180,127     3,287,263\n",
    "    * USA           324,459,463     9,629,091\n",
    "    * Indonesia     263,991,379     1,904,556\n",
    "    * Brazil        209,288,278     8,511,965"
   ]
  },
  {
   "cell_type": "code",
   "execution_count": null,
   "metadata": {},
   "outputs": [],
   "source": []
  },
  {
   "cell_type": "markdown",
   "metadata": {},
   "source": [
    "## Problem 3:\n",
    "\n",
    "Using the Pandas DataFrame previously created (`prob2_df`), print the:\n",
    "    \n",
    "- Number of rows and columns\n",
    "- Column Names\n",
    "- A sample of 2 rows\n",
    "- A summary of the values"
   ]
  },
  {
   "cell_type": "code",
   "execution_count": null,
   "metadata": {},
   "outputs": [],
   "source": []
  },
  {
   "cell_type": "markdown",
   "metadata": {},
   "source": [
    "## Problem 4:\n",
    "\n",
    "Using the Pandas DataFrame previously created (`prob2_df`), print the:\n",
    "    \n",
    "- Data in the column `Population`\n",
    "- The second row\n",
    "- The size of the country in the last row"
   ]
  },
  {
   "cell_type": "code",
   "execution_count": null,
   "metadata": {},
   "outputs": [],
   "source": []
  },
  {
   "cell_type": "markdown",
   "metadata": {},
   "source": [
    "## Problem 5:\n",
    "\n",
    "Using the Pandas DataFrame previously created (`prob2_df`), print:\n",
    "    \n",
    "- A series that shows True or False for countries with Sizes greater than 3,500,000\n",
    "- A series that shows True or False for countries with Sizes greater than 3,500,000 and Populations smaller than 350,000,000\n",
    "- A data frame that only shows the rows for countries with Sizes greater than 3,500,000 and Populations smaller than 350,000,000"
   ]
  },
  {
   "cell_type": "code",
   "execution_count": null,
   "metadata": {},
   "outputs": [],
   "source": []
  },
  {
   "cell_type": "markdown",
   "metadata": {},
   "source": [
    "## Problem 6:\n",
    "\n",
    "Using the Pandas DataFrame previously created (`prob2_df`):\n",
    "    \n",
    "- Change Brazil's population to 250,000,000\n",
    "- Change China's size to 9,580,000"
   ]
  },
  {
   "cell_type": "code",
   "execution_count": null,
   "metadata": {},
   "outputs": [],
   "source": []
  },
  {
   "cell_type": "markdown",
   "metadata": {},
   "source": [
    "## Problem 7:\n",
    "\n",
    "Using the Pandas DataFrame previously created (`prob2_df`):\n",
    "    \n",
    "- Rename the indices to the first three letters of each country (e.g. 'Chi', 'Ind', 'USA', etc.) and assign the output to a new data frame called prob7_df"
   ]
  },
  {
   "cell_type": "code",
   "execution_count": null,
   "metadata": {},
   "outputs": [],
   "source": []
  },
  {
   "cell_type": "markdown",
   "metadata": {},
   "source": [
    "## Problem 8:\n",
    "\n",
    "Using the Pandas DataFrame previously created (`prob7_df`):\n",
    "    \n",
    "- Drop China from the data frame\n",
    "- Add a new country at the bottom (Russia, Population = 143,989,754, Size = 17,098,246\n",
    "- Save the answer on prob8_df"
   ]
  },
  {
   "cell_type": "code",
   "execution_count": null,
   "metadata": {},
   "outputs": [],
   "source": []
  },
  {
   "cell_type": "markdown",
   "metadata": {},
   "source": [
    "## Problem 9:\n",
    "\n",
    "Using the Pandas DataFrame previously created (`prob8_df`):\n",
    "    \n",
    "    * Sort by Population ascending and in place"
   ]
  },
  {
   "cell_type": "code",
   "execution_count": null,
   "metadata": {},
   "outputs": [],
   "source": []
  },
  {
   "cell_type": "markdown",
   "metadata": {},
   "source": [
    "## Problem 10:\n",
    "\n",
    "Using the Pandas DataFrame previously created (`prob8_df`):\n",
    "    \n",
    "    * Rename the columns as \"Count\", \"Pop\" and \"Area\"\"\n",
    "    * Add a new column called \"Pop/Area\" and has as values the ratio of the Population over the Area"
   ]
  },
  {
   "cell_type": "code",
   "execution_count": null,
   "metadata": {},
   "outputs": [],
   "source": []
  }
 ],
 "metadata": {
  "kernelspec": {
   "display_name": "Python 3",
   "language": "python",
   "name": "python3"
  },
  "language_info": {
   "codemirror_mode": {
    "name": "ipython",
    "version": 3
   },
   "file_extension": ".py",
   "mimetype": "text/x-python",
   "name": "python",
   "nbconvert_exporter": "python",
   "pygments_lexer": "ipython3",
   "version": "3.6.8"
  },
  "toc": {
   "base_numbering": 1,
   "nav_menu": {},
   "number_sections": true,
   "sideBar": true,
   "skip_h1_title": false,
   "title_cell": "Table of Contents",
   "title_sidebar": "Contents",
   "toc_cell": false,
   "toc_position": {},
   "toc_section_display": true,
   "toc_window_display": false
  }
 },
 "nbformat": 4,
 "nbformat_minor": 2
}
