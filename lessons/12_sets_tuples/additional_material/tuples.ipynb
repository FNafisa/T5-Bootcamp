{
 "cells": [
  {
   "cell_type": "markdown",
   "metadata": {},
   "source": [
    "# Tuples"
   ]
  },
  {
   "cell_type": "markdown",
   "metadata": {},
   "source": [
    "__Purpose:__\n",
    "The purpose of this lecture is to understand how to work with tuples.\n",
    "\n",
    "__At the end of this lecture you will be able to:__\n",
    "1. Understand how to create, access and work with various tuple operations\n",
    "2. Packing and unpacking\n",
    "3. Understand placeholder variable names and arbitrary arguments"
   ]
  },
  {
   "cell_type": "markdown",
   "metadata": {},
   "source": [
    "## 1.1 Overview of Sequence Type 3 - Tuples"
   ]
  },
  {
   "cell_type": "markdown",
   "metadata": {},
   "source": [
    "__Overview:__\n",
    "- __[Tuples](https://docs.python.org/3/library/stdtypes.html#tuple):__ Tuples are immutable sequences typically used to store collections of hetereogeneous (dissimilar) data (compare with lists which are mutable and typically used to store collections of homogeneous data) \n",
    "\n",
    "__Helpful Points:__\n",
    "1. Tuples are defined by elements separated by commas and enclosed with parentheses (although parentheses are optional)\n",
    "2. Tuples are necessary when an immutable sequence of homogenous data is needed (i.e. in dictionaries and sets)\n",
    "3. Tuples appear almost everywhere in Python (i.e. in function arguments)\n",
    "4. Tuples provide a safeguard against accidental tampering of data "
   ]
  },
  {
   "cell_type": "markdown",
   "metadata": {},
   "source": [
    "### 1.1.1 Creating Tuples"
   ]
  },
  {
   "cell_type": "markdown",
   "metadata": {},
   "source": [
    "__Overview:__\n",
    "- There are multiple ways of creating tuples in Python:\n",
    "> 1. Method 1: Using a pair of parantheses to denote an empty tuple \n",
    "> 2. Method 2: Using parantheses, separating items with commas (or just separating items with commas - this is actually an example of __Packing__ which is a very useful characteristic of tuples and will be explained below)\n",
    "> 3. Method 3: Using the __Type Constructor__\n",
    "\n",
    "__Helpful Points:__\n",
    "1. Similar to lists, it is also possible to create a tuple within a tuple also known as __Nested Tuple__ \n",
    "2. Each type of tuple creation will be explored below\n",
    "\n",
    "__Practice:__ Examples of creating tuples in Python "
   ]
  },
  {
   "cell_type": "markdown",
   "metadata": {},
   "source": [
    "### Example 1 (Create Tuple with Method 1)"
   ]
  },
  {
   "cell_type": "code",
   "execution_count": null,
   "metadata": {},
   "outputs": [],
   "source": [
    "# create empty tuple \n",
    "empty_tuple = ()\n",
    "print(empty_tuple)"
   ]
  },
  {
   "cell_type": "code",
   "execution_count": null,
   "metadata": {},
   "outputs": [],
   "source": [
    "type(empty_tuple)"
   ]
  },
  {
   "cell_type": "markdown",
   "metadata": {},
   "source": [
    "### Example 2 (Create Tuple with Method 2)"
   ]
  },
  {
   "cell_type": "code",
   "execution_count": null,
   "metadata": {},
   "outputs": [],
   "source": [
    "# create tuple with parantheses \n",
    "singleton_tuple = (10,) # [10] -> list with 1 element \n",
    "print(singleton_tuple)\n",
    "print(type(singleton_tuple))"
   ]
  },
  {
   "cell_type": "code",
   "execution_count": null,
   "metadata": {},
   "outputs": [],
   "source": [
    "# create tuple without parantheses \n",
    "singleton_tuple_1 = 10, \n",
    "print(singleton_tuple_1)"
   ]
  },
  {
   "cell_type": "code",
   "execution_count": null,
   "metadata": {},
   "outputs": [],
   "source": [
    "# create tuple with parantheses \n",
    "new_tuple = (True, 1.0, \"Clark\")\n",
    "print(new_tuple)"
   ]
  },
  {
   "cell_type": "code",
   "execution_count": null,
   "metadata": {},
   "outputs": [],
   "source": [
    "# create tuple without parantheses (this is actually packing - explained below)\n",
    "new_tuple_1 = True, 1.0, \"Clark\"\n",
    "print(new_tuple_1)"
   ]
  },
  {
   "cell_type": "markdown",
   "metadata": {},
   "source": [
    "Note we can create the same tuple by removing the parantheses since these are optional. However, if there is only one item in the tuple (singleton), then we need the comma, otherwise the interpreter will interpret this as a number. "
   ]
  },
  {
   "cell_type": "markdown",
   "metadata": {},
   "source": [
    "### Example 3 (Create Tuple with Method 3)"
   ]
  },
  {
   "cell_type": "code",
   "execution_count": null,
   "metadata": {},
   "outputs": [],
   "source": [
    "# create empty tuple \n",
    "empty_tuple_1 = tuple()\n",
    "print(empty_tuple_1)"
   ]
  },
  {
   "cell_type": "markdown",
   "metadata": {},
   "source": [
    "### 1.1.2 Accessing Elements within Tuples"
   ]
  },
  {
   "cell_type": "markdown",
   "metadata": {},
   "source": [
    "__Overview:__\n",
    "- Each item within a tuple are referred to as __elements__ and they can easily be accessed (for example, if you want to extract the second element of a tuple\n",
    "- Similar to lists and strings, each element is assigned a number beginning with 0 \n",
    "- Both methods of indexing (single-indexing and multi-indexing by slicing) are also applicable for tuples\n",
    "\n",
    "__Helpful Points:__\n",
    "1. Similar to lists and strings, tuples can only be indexed by `int` and not any other type (i.e. `bool`)\n",
    "2. The peculiar but helpful features of indexing-out-of-range are also present with tuples \n",
    "\n",
    "__Practice:__ Examples of accessing elements within tuples "
   ]
  },
  {
   "cell_type": "markdown",
   "metadata": {},
   "source": [
    "### Example 1 (Index Method 1):"
   ]
  },
  {
   "cell_type": "code",
   "execution_count": null,
   "metadata": {},
   "outputs": [],
   "source": [
    "my_tuple = \"Clark\", 1.0, True\n",
    "# my_tuple_fwd_index = (0, 1, 2)"
   ]
  },
  {
   "cell_type": "code",
   "execution_count": null,
   "metadata": {},
   "outputs": [],
   "source": [
    "# oth element from the left (with and without saving tuple as a variable)\n",
    "print(my_tuple[0])\n",
    "print((\"Clark\", 1.0, True)[0])\n",
    "type((\"Clark\", 1.0, True)[0])"
   ]
  },
  {
   "cell_type": "markdown",
   "metadata": {},
   "source": [
    "### Example 2 (Index Method 2):"
   ]
  },
  {
   "cell_type": "code",
   "execution_count": null,
   "metadata": {},
   "outputs": [],
   "source": [
    "# slice from 0th element to 2nd element (3rd element minus one) by step 1 \n",
    "print(my_tuple[0:3])\n",
    "type(my_tuple[0:3])"
   ]
  },
  {
   "cell_type": "markdown",
   "metadata": {},
   "source": [
    "Note: not all types of examples are shown here with tuples since the process is identical to that of accessing elements within lists. "
   ]
  },
  {
   "cell_type": "markdown",
   "metadata": {},
   "source": [
    "### 1.1.3 More Tuple Operations"
   ]
  },
  {
   "cell_type": "markdown",
   "metadata": {},
   "source": [
    "__Overview:__\n",
    "- Recall previously the types of operations available for Sequence Types \n",
    "- Since the `tuple` type is immutable, we can only perform the Common Sequence Operations and NOT the Mutable Sequence Type Operations (like we did for lists)"
   ]
  },
  {
   "cell_type": "markdown",
   "metadata": {},
   "source": [
    "Note_1: Tuple operations using the Common Sequence Operations are not shown here since the process is identical to that of operating with lists. \n",
    "\n",
    "Note_2: The only operation different for Tuples than Lists is the sorting capabilities. Recall that lists can be sorted using the `list.sort()` function (performed __in-place__ by modifying the original object) AND using the `sorted()` function (not performed in-place and creates a copy of the object). Since Tuples are immutable, they are subject ONLY to the `sorted()` function. "
   ]
  },
  {
   "cell_type": "markdown",
   "metadata": {},
   "source": [
    "### 1.1.4 Packing and Unpacking with Tuples"
   ]
  },
  {
   "cell_type": "markdown",
   "metadata": {},
   "source": [
    "__Overview:__\n",
    "- One of the most important differences between tuple and lists (other than mutability) is the ability of tuples to participate in __packing__ and __unpacking__ which is very useful and \"Pythonic\" \n",
    "> 1. __Packing:__ Packing is a simple syntax which allows you to create a tuple without parentheses and elements just separated by commas (recall we did this in method 2 of creating tuples above)\n",
    "> 2. __Unpacking:__ Unpacking allows you to split apart the values within a tuple into separate variables \n",
    "\n",
    "__Helpful Points:__\n",
    "1. Packing and Unpacking feature makes operations concise and efficient in Python \n",
    "2. You can use the `*` (asterix) notation in tuples for arbitrary arguments (see examples below)\n",
    "3. You can use the `_` (underscore) notation in tuples as placeholders \n",
    "4. Recall simultaneous assignments. This was actually a case of packing and unpacking at work!\n",
    "\n",
    "__Practice:__ Examples of Packing and Unpacking with Tuples in Python "
   ]
  },
  {
   "cell_type": "markdown",
   "metadata": {},
   "source": [
    "### Example 1 (Packing): "
   ]
  },
  {
   "cell_type": "code",
   "execution_count": null,
   "metadata": {},
   "outputs": [],
   "source": [
    "a = \"C\", \"l\", \"a\" # all 3 items are \"packed\" into the one variable a \n",
    "print(a)"
   ]
  },
  {
   "cell_type": "markdown",
   "metadata": {},
   "source": [
    "When packing, the output is a tuple."
   ]
  },
  {
   "cell_type": "markdown",
   "metadata": {},
   "source": [
    "### Example 2 (Unpacking):"
   ]
  },
  {
   "cell_type": "code",
   "execution_count": null,
   "metadata": {},
   "outputs": [],
   "source": [
    "first, second, third = a # the 3 items in the one variable a are \"unpacked\" and each assigned their own variable \n",
    "print(first)\n",
    "print(second)\n",
    "print(third)"
   ]
  },
  {
   "cell_type": "code",
   "execution_count": null,
   "metadata": {},
   "outputs": [],
   "source": [
    "# compare the above with a longer and uglier way\n",
    "first = a[0]\n",
    "second = a[1]\n",
    "third = a[2]\n",
    "print(first)\n",
    "print(second)\n",
    "print(third)"
   ]
  },
  {
   "cell_type": "markdown",
   "metadata": {},
   "source": [
    "### Example 3 (Packing and Unpacking - 1 step):"
   ]
  },
  {
   "cell_type": "code",
   "execution_count": null,
   "metadata": {},
   "outputs": [],
   "source": [
    "first, second, third = \"C\", \"l\", \"a\" # packing and unpacking in 1 step without the variable a"
   ]
  },
  {
   "cell_type": "markdown",
   "metadata": {},
   "source": [
    "The following sequence is happening here: First, the values \"C\", \"l\", \"a\" are packed into a tuple (\"C\", \"l\", \"a\"). These values are then assigned to the left hand side of the `=` sign. Lastly, the tuple is unpacked into the three variables `first`, `second`, and `third`. "
   ]
  },
  {
   "cell_type": "markdown",
   "metadata": {},
   "source": [
    "### Example 4 (Trading Values using Packing and Unpacking): "
   ]
  },
  {
   "cell_type": "code",
   "execution_count": null,
   "metadata": {},
   "outputs": [],
   "source": [
    "# we saw how to trade values in lecture 1 - this was actually packing and unpacking \n",
    "clark_money = 10\n",
    "bruce_money = 100\n",
    "bruce_money, clark_money = clark_money, bruce_money\n",
    "print(clark_money)\n",
    "print(bruce_money)"
   ]
  },
  {
   "cell_type": "markdown",
   "metadata": {},
   "source": [
    "The following sequence is happening here: First, the variables `clark_money` and `bruce_money` are packed into a tuple (clark_money, bruce_money). These values are then assigned to the left hand side of the `=` sign. Lastly, the tuple is unpacked into 2 variables `bruce_money` and `clark_money`. "
   ]
  },
  {
   "cell_type": "markdown",
   "metadata": {},
   "source": [
    "### Example 5 (Placeholder Variable Name):"
   ]
  },
  {
   "cell_type": "code",
   "execution_count": null,
   "metadata": {},
   "outputs": [],
   "source": [
    "first, _, third = a\n",
    "print(first)\n",
    "print(_)\n",
    "print(third)"
   ]
  },
  {
   "cell_type": "markdown",
   "metadata": {},
   "source": [
    "### Example 6 (Arbitrary Arguments):"
   ]
  },
  {
   "cell_type": "code",
   "execution_count": null,
   "metadata": {},
   "outputs": [],
   "source": [
    "first, second, *last = \"C\", \"l\", \"a\", \"r\", \"k\"\n",
    "print(first)\n",
    "print(second)\n",
    "print(last)"
   ]
  },
  {
   "cell_type": "code",
   "execution_count": null,
   "metadata": {},
   "outputs": [],
   "source": [
    "*first, second, last = \"C\", \"l\", \"a\", \"r\", \"k\"\n",
    "print(first)\n",
    "print(second)\n",
    "print(last)"
   ]
  },
  {
   "cell_type": "code",
   "execution_count": null,
   "metadata": {},
   "outputs": [],
   "source": [
    "first, *second, last = \"C\", \"l\", \"a\", \"r\", \"k\"\n",
    "print(first)\n",
    "print(second)\n",
    "print(last)"
   ]
  },
  {
   "cell_type": "markdown",
   "metadata": {},
   "source": [
    "When we see how to create functions, arbitrary argumens will be very important so keep this style in mind."
   ]
  },
  {
   "cell_type": "markdown",
   "metadata": {},
   "source": [
    "### Problem 1:\n",
    "\n",
    "The end result is to have 2 variables (`latitude` and `longitude`) which will store your current latitude and longitude. To create these variables, use packing and unpacking as shown above. If you don't know your current latitude and longitude, type in your address or nearest landmark or city in the searchbar of [this link](https://mynasadata.larc.nasa.gov/latitudelongitude-finder/)\n",
    "\n",
    "Notes\n",
    "- Use string formatting to output your result \n",
    "- Do not just create 2 separate variables \n",
    "- It is inefficient (i.e. not \"Pythonic\") to just index a list to arrive at your result"
   ]
  },
  {
   "cell_type": "code",
   "execution_count": null,
   "metadata": {},
   "outputs": [],
   "source": [
    "# Write your code here\n",
    "\n",
    "\n",
    "\n"
   ]
  },
  {
   "cell_type": "markdown",
   "metadata": {},
   "source": [
    "# ANSWERS"
   ]
  },
  {
   "cell_type": "markdown",
   "metadata": {},
   "source": [
    "### Problem 1:\n",
    "\n",
    "The end result is to have 2 variables (`latitude` and `longitude`) which will store your current latitude and longitude. To create these variables, use packing and unpacking as shown above. If you don't know your current latitude and longitude, type in your address or nearest landmark or city in the searchbar of [this link](https://mynasadata.larc.nasa.gov/latitudelongitude-finder/)\n",
    "\n",
    "Notes\n",
    "- Use string formatting to output your result \n",
    "- Do not just create 2 separate variables \n",
    "- It is inefficient (i.e. not \"Pythonic\") to just index a list to arrive at your result"
   ]
  },
  {
   "cell_type": "code",
   "execution_count": null,
   "metadata": {},
   "outputs": [],
   "source": [
    "my_coordinates = [41.889649, -87.622225]"
   ]
  },
  {
   "cell_type": "code",
   "execution_count": null,
   "metadata": {},
   "outputs": [],
   "source": [
    "# method 1 (inefficient and not Pythonic)\n",
    "latitude = my_coordinates[0]\n",
    "longitude = my_coordinates[1]"
   ]
  },
  {
   "cell_type": "code",
   "execution_count": null,
   "metadata": {},
   "outputs": [],
   "source": [
    "# method 1 (efficient and Pythonic)\n",
    "latitude, longitude = my_coordinates"
   ]
  },
  {
   "cell_type": "code",
   "execution_count": null,
   "metadata": {},
   "outputs": [],
   "source": [
    "print(\"My latitude is {} and my longitude is {}\".format(latitude, longitude))"
   ]
  },
  {
   "cell_type": "code",
   "execution_count": null,
   "metadata": {},
   "outputs": [],
   "source": []
  }
 ],
 "metadata": {
  "kernelspec": {
   "display_name": "Python 3",
   "language": "python",
   "name": "python3"
  },
  "language_info": {
   "codemirror_mode": {
    "name": "ipython",
    "version": 3
   },
   "file_extension": ".py",
   "mimetype": "text/x-python",
   "name": "python",
   "nbconvert_exporter": "python",
   "pygments_lexer": "ipython3",
   "version": "3.7.3"
  },
  "toc": {
   "base_numbering": 1,
   "nav_menu": {},
   "number_sections": false,
   "sideBar": true,
   "skip_h1_title": false,
   "title_cell": "Table of Contents",
   "title_sidebar": "Contents",
   "toc_cell": false,
   "toc_position": {},
   "toc_section_display": true,
   "toc_window_display": true
  }
 },
 "nbformat": 4,
 "nbformat_minor": 2
}
