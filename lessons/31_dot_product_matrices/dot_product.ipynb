{
 "cells": [
  {
   "cell_type": "markdown",
   "metadata": {},
   "source": [
    "# Vector Multiplication (Dot Product)"
   ]
  },
  {
   "cell_type": "markdown",
   "metadata": {},
   "source": [
    "__Purpose:__ We will learn advanced vector operations.\n",
    "\n",
    "__At the end of this lecture you will be able to:__\n",
    "> 1. Understand dot product \n",
    "> 2. Understand angles between vectors"
   ]
  },
  {
   "cell_type": "markdown",
   "metadata": {},
   "source": [
    "### 1.1.1 Operations with Vectors (Vector Multiplication - Dot Product):"
   ]
  },
  {
   "cell_type": "markdown",
   "metadata": {},
   "source": [
    "__Overview:__ \n",
    "- __[Dot Product](https://en.wikipedia.org/wiki/Dot_product):__ The dot product is one of two ways to multiply vectors and it takes two equal-length sequences of numbers and returns a single number \n",
    "- The Dot Product can be represented both algebraically and geomtrically:\n",
    "> 1. __Algebraically:__ Algebraically, the dot product is expressed as a linear combination of the elements of the two vectors:\n",
    "\n",
    "\n",
    "<center> If $\\pmb a = [a_1, a_2, a_3]$ and $\\pmb b = [b_1, b_2, b_3]$, then $\\pmb a \\cdot \\pmb b = a_1b_1 + a_2b_2 + a_3b_3$ </center>\n",
    "\n",
    "> 2. __Geometrically:__ Geometrically, the dot product is expressed as the product of the two vectors length (recall the definition of length or norm) and the cosine of the angle between the two vectors:\n",
    "\n",
    "\n",
    "<center> $\\pmb a \\cdot \\pmb b = \\| \\pmb a \\| \\| \\pmb b \\| cos(\\theta)$, where $\\theta$ is the angle between the vectors </center>\n",
    "\n",
    "- The Dot Product obeys the following laws:\n",
    "> 1. $\\pmb a \\cdot \\pmb b = \\pmb b \\cdot \\pmb a$\n",
    "> 2. $\\pmb a \\cdot (\\pmb b + \\pmb c) = \\pmb a \\cdot \\pmb b + \\pmb a \\cdot \\pmb c$\n",
    "> 3. $(c\\pmb a) \\cdot \\pmb b = c(\\pmb a \\cdot \\pmb b)$\n",
    "> 4. $\\pmb 0 \\cdot \\pmb a = 0$\n",
    "\n",
    "__Helpful Points:__\n",
    "1. Knowing the definition of the Dot Product, we can re-write the Euclidean Norm or Length of a vector in terms of the dot product:\n",
    "<center> $\\| \\pmb a \\| = \\sqrt{\\pmb a \\cdot \\pmb a}$ since $\\pmb a \\cdot \\pmb a = a_1a_1 + a_2a_2 + ... + a_na_n = a_1^2 + a_2^2 + ... a_n^2$ </center>\n",
    "2. Since each term of a dot product will equal a number, the sum will also just be a number. Therefore, the dot product returns a scalar value \n",
    "3. The dot product can be calculated using functions within both the `numpy.linalg` and `scipy.linalg` modules\n",
    "\n",
    "__Practice:__ Examples of Dot Product in Python "
   ]
  },
  {
   "cell_type": "code",
   "execution_count": null,
   "metadata": {},
   "outputs": [],
   "source": [
    "import numpy as np \n",
    "from scipy import linalg \n",
    "import math \n",
    "import matplotlib.pyplot as plt\n",
    "\n",
    "%matplotlib inline"
   ]
  },
  {
   "cell_type": "markdown",
   "metadata": {},
   "source": [
    "### Example 1 (Dot Product - Manually):"
   ]
  },
  {
   "cell_type": "code",
   "execution_count": null,
   "metadata": {},
   "outputs": [],
   "source": [
    "a = np.array([4,3])\n",
    "b = np.array([1,2])"
   ]
  },
  {
   "cell_type": "markdown",
   "metadata": {},
   "source": [
    "### Example 1.1 (Algebraically):"
   ]
  },
  {
   "cell_type": "code",
   "execution_count": null,
   "metadata": {
    "scrolled": true
   },
   "outputs": [],
   "source": [
    "# dot product of a and b \n",
    "a_dot_b = a[0]*b[0] + a[1]*b[1]\n",
    "a_dot_b"
   ]
  },
  {
   "cell_type": "markdown",
   "metadata": {},
   "source": [
    "### Example 1.2 (Geometrically):"
   ]
  },
  {
   "cell_type": "code",
   "execution_count": null,
   "metadata": {
    "scrolled": true
   },
   "outputs": [],
   "source": [
    "# plot a, b, b-a \n",
    "soa = np.array([[0, 0, 4, 3], [0, 0, 1, 2], [4, 3, -3, -1]])\n",
    "X, Y, U, V = zip(*soa)\n",
    "plt.figure()\n",
    "ax = plt.gca()\n",
    "ax.quiver(X, Y, U, V, angles='xy', scale_units='xy', scale=1, color = [\"blue\", \"red\", \"green\"])\n",
    "ax.set_xlim([0, 5])\n",
    "ax.set_ylim([0, 5])\n",
    "plt.title('Dot Product (a = blue, b = red, b-a = green)')\n",
    "plt.xlabel('$x_1$', fontsize = 20)\n",
    "plt.ylabel('$x_2$', fontsize = 20)\n",
    "plt.grid()"
   ]
  },
  {
   "cell_type": "markdown",
   "metadata": {},
   "source": [
    "How can we understand the geometric interpretation of the dot product in terms of the angles between $\\pmb a$ and $\\pmb b$ according to the formula: \n",
    "<center>$\\pmb a \\cdot \\pmb b = \\| \\pmb a \\| \\| \\pmb b \\| cos(\\theta)$ </center>\n",
    "\n",
    "- Recall __[The Law of Cosines](https://en.wikipedia.org/wiki/Law_of_cosines)__ which states for a triangle like the one we have above, we can express the magnitude of the \"third\" vector in terms of the other two vectors length and the angle between them:\n",
    "<center> $\\| \\pmb b - \\pmb a \\|^2 = \\| \\pmb a \\|^2 + \\| \\pmb b\\|^2 - 2\\| \\pmb a \\|\\| \\pmb b\\|cos(\\theta)$ </center><br>\n",
    "- Using our new representation of the length of a vector, we can express the lengths as dot products:\n",
    "> $\\| \\pmb b - \\pmb a \\|^2 = (\\pmb b - \\pmb a) \\cdot (\\pmb b - \\pmb a)$<br>\n",
    "> $\\| \\pmb b \\|^2 = \\pmb b \\cdot \\pmb b$<br>\n",
    "> $\\| \\pmb a \\|^2 = \\pmb a \\cdot \\pmb a$<br>\n",
    "\n",
    "<center> $(\\pmb b - \\pmb a) \\cdot (\\pmb b - \\pmb a) = \\pmb b \\cdot \\pmb b + \\pmb a \\cdot \\pmb a - 2\\| \\pmb a \\| \\| \\pmb b \\|cos(\\theta)$</center>\n",
    "<br>\n",
    "- Using the dot product properties above and some simple algebra, we can reduce this equation to the following (which is exactly what we had above):<br>\n",
    "<center> $(\\pmb a \\cdot \\pmb b) = \\| \\pmb a \\| \\| \\pmb b \\|cos(\\theta)$</center>\n",
    "\n",
    "Note: This equation is typically used to calculate the angle between vectors, not to calculate the dot product of two vectors "
   ]
  },
  {
   "cell_type": "code",
   "execution_count": null,
   "metadata": {},
   "outputs": [],
   "source": [
    "# angle between vectors a and b \n",
    "length_a = math.sqrt(a[0]**2 + a[1]**2)\n",
    "length_b = math.sqrt(b[0]**2 + b[1]**2)\n",
    "math.degrees(math.acos(a_dot_b / (length_a * length_b))) # inverse cos and convert from radians to degrees"
   ]
  },
  {
   "cell_type": "markdown",
   "metadata": {},
   "source": [
    "### Example 2 (Dot Product - Programmatically):"
   ]
  },
  {
   "cell_type": "code",
   "execution_count": null,
   "metadata": {},
   "outputs": [],
   "source": [
    "a = np.array([4,3])\n",
    "b = np.array([1,2])"
   ]
  },
  {
   "cell_type": "code",
   "execution_count": null,
   "metadata": {
    "scrolled": true
   },
   "outputs": [],
   "source": [
    "# dot product of vectors a and b \n",
    "np.dot(a, b)"
   ]
  },
  {
   "cell_type": "code",
   "execution_count": null,
   "metadata": {
    "scrolled": true
   },
   "outputs": [],
   "source": [
    "# angle between vectors a and b \n",
    "math.degrees(math.acos(np.dot(a, b) / (math.sqrt(np.dot(a,a)) * math.sqrt(np.dot(b,b)))))"
   ]
  },
  {
   "cell_type": "markdown",
   "metadata": {},
   "source": [
    "### 1.1.2 Angles Between Vectors - Part 1:"
   ]
  },
  {
   "cell_type": "markdown",
   "metadata": {},
   "source": [
    "__Overview:__ \n",
    "- Using the formula of dot product expressed in terms of the angle between the two vectors $(\\pmb a \\cdot \\pmb b) = \\| \\pmb a \\| \\| \\pmb b \\|cos(\\theta)$, we can glean some important properties of vectors \n",
    "> 1. __Property 1:__ If $\\pmb a$ and $\\pmb b$ are two vectors where $\\pmb b = c \\pmb a$ and $c \\geq 0, c \\in \\mathbb R$, then we have two vectors that are scalar multiples of each other where the scalar is greater than zero and the angle between the vectors is $0^\\circ$ degrees. Since the cosine of 0 is equal to 1, then $\\pmb a \\cdot \\pmb b$ is equal to $\\| \\pmb a \\| \\| \\pmb b \\|$\n",
    "> 2. __Property 2:__ If $\\pmb a$ and $\\pmb b$ are two vectors where $\\pmb b = c \\pmb a$ and $c \\leq 0, c \\in \\mathbb R$, then we have two vectors that are scalar multiples of each other where the scalar is less than zero and the angle between the vectors is $180^\\circ$ degrees. Since the cosine of 180 is equal to -1, then $\\pmb a \\cdot \\pmb b$ is equal to $-\\| \\pmb a \\| \\| \\pmb b \\|$\n",
    "> 3. __Property 3:__ If $\\pmb a$ and $\\pmb b$ are two non-zero vectors and $\\pmb a \\perp \\pmb b$, then we have two vectors that are perpendicular to each other and the angle between the vectors is $90^\\circ$ degrees. Since the cosine of 90 is equal to 0, then $\\pmb a \\cdot \\pmb b$ is equal to 0\n",
    "\n",
    "__Helpful Notes:__ \n",
    "1. If $\\pmb a$ and $\\pmb b$ are any two vectors (including $\\pmb 0$):\n",
    "> - It is always true to say that if $\\pmb a \\perp \\pmb b$, then $\\pmb a \\cdot \\pmb b$ is equal to 0\n",
    "> - It is not always true to say that if $\\pmb a \\cdot \\pmb b$ is equal to 0, then $\\pmb a \\perp \\pmb b$. This is because $\\pmb 0 \\cdot \\pmb a$ is equal to 0, but $\\pmb 0 \\not\\perp \\pmb a$\n",
    "2. If $\\pmb a$ and $\\pmb b$ are any two non-zero vectors (excluding $\\pmb 0$):\n",
    "> - It is always true to say that if $\\pmb a \\perp \\pmb b$, then $\\pmb a \\cdot \\pmb b$ is equal to 0\n",
    "> - It is always true to say that if $\\pmb a \\cdot \\pmb b$ is equal to 0, then $\\pmb a \\perp \\pmb b$\n",
    "3. __[Perpendicularity](https://en.wikipedia.org/wiki/Perpendicular):__ Perpendicularity refers to any two vectors that are at 90 degrees to each other ($\\pmb a \\cdot \\pmb b = 0$ and $\\pmb a, \\pmb b \\neq \\pmb 0$) \n",
    "4. __[Orthogonality](https://en.wikipedia.org/wiki/Orthogonality):__ Orthogonality generalizes the idea of perpendicular vectors and says that two vectors are orthogonal if their dot product is equal to 0 or one of the two vectors is equal to the 0 vector (since the zero vector dot any vector is equal to 0)\n",
    "\n",
    "__Practice:__ Examples of working with angles between vectors in Python "
   ]
  },
  {
   "cell_type": "markdown",
   "metadata": {},
   "source": [
    "### Example 1 (Cosine Cuve):\n",
    "\n",
    "To understand the possible scenarios that arise as a result of the cosine of different angles, we should make sure we are comfortable with what the cosine curve looks like."
   ]
  },
  {
   "cell_type": "code",
   "execution_count": null,
   "metadata": {
    "scrolled": true
   },
   "outputs": [],
   "source": [
    "x = np.arange(360)\n",
    "y = np.cos(np.deg2rad(x))\n",
    "plt.plot(x, y)\n",
    "plt.show()"
   ]
  },
  {
   "cell_type": "markdown",
   "metadata": {},
   "source": [
    "### Example 2 (Property 1 - Dot Product of Scalar Multiples with c > 0):"
   ]
  },
  {
   "cell_type": "code",
   "execution_count": null,
   "metadata": {},
   "outputs": [],
   "source": [
    "a = np.array([1,1])\n",
    "b = np.array([2,2]) # c = 2 and b = ca"
   ]
  },
  {
   "cell_type": "code",
   "execution_count": null,
   "metadata": {
    "scrolled": false
   },
   "outputs": [],
   "source": [
    "# plot a, b\n",
    "soa = np.array([[0, 0, 1, 1], [0, 0, 2, 2]])\n",
    "X, Y, U, V = zip(*soa)\n",
    "plt.figure()\n",
    "ax = plt.gca()\n",
    "ax.quiver(X, Y, U, V, angles='xy', scale_units='xy', scale=1, color = [\"blue\", \"red\"])\n",
    "ax.set_xlim([0, 5])\n",
    "ax.set_ylim([0, 5])\n",
    "plt.title('Vector Angles (a = blue, b = red)')\n",
    "plt.xlabel('$x_1$', fontsize = 20)\n",
    "plt.ylabel('$x_2$', fontsize = 20)\n",
    "plt.grid()"
   ]
  },
  {
   "cell_type": "code",
   "execution_count": null,
   "metadata": {
    "scrolled": true
   },
   "outputs": [],
   "source": [
    "# compare lhs to rhs \n",
    "a_dot_b = np.dot(a, b)\n",
    "a_length = math.sqrt(np.dot(a,a))\n",
    "b_length = math.sqrt(np.dot(b,b))\n",
    "cos_theta = np.cos(np.deg2rad(0))\n",
    "print(\"a dot b is {} and the product of a and b length and cos(theta) is {}\".format(a_dot_b, round(a_length*b_length*cos_theta,1)))"
   ]
  },
  {
   "cell_type": "markdown",
   "metadata": {},
   "source": [
    "### Example 2 (Property 2 - Dot Product of Scalar Multiples with c < 0):"
   ]
  },
  {
   "cell_type": "code",
   "execution_count": null,
   "metadata": {},
   "outputs": [],
   "source": [
    "a = np.array([1,1])\n",
    "b = np.array([-2,-2]) # c = -2 and b = ca"
   ]
  },
  {
   "cell_type": "code",
   "execution_count": null,
   "metadata": {
    "scrolled": false
   },
   "outputs": [],
   "source": [
    "# plot a, b\n",
    "soa = np.array([[0, 0, 1, 1], [0, 0, -2, -2]])\n",
    "X, Y, U, V = zip(*soa)\n",
    "plt.figure()\n",
    "ax = plt.gca()\n",
    "ax.quiver(X, Y, U, V, angles='xy', scale_units='xy', scale=1, color = [\"blue\", \"red\"])\n",
    "ax.set_xlim([-5, 5])\n",
    "ax.set_ylim([-5, 5])\n",
    "plt.title('Vector Angles (a = blue, b = red)')\n",
    "plt.xlabel('$x_1$', fontsize = 20)\n",
    "plt.ylabel('$x_2$', fontsize = 20)\n",
    "plt.grid()"
   ]
  },
  {
   "cell_type": "code",
   "execution_count": null,
   "metadata": {
    "scrolled": false
   },
   "outputs": [],
   "source": [
    "# compare lhs to rhs \n",
    "a_dot_b = np.dot(a, b)\n",
    "a_length = math.sqrt(np.dot(a,a))\n",
    "b_length = math.sqrt(np.dot(b,b))\n",
    "cos_theta = np.cos(np.deg2rad(180))\n",
    "print(\"a dot b is {} and the product of a and b length and cos(theta) is {}\".format(a_dot_b, round(a_length*b_length*cos_theta,1)))"
   ]
  },
  {
   "cell_type": "markdown",
   "metadata": {},
   "source": [
    "### Example 3 (Property 3 - Dot Product of Perpendicular Vectors):"
   ]
  },
  {
   "cell_type": "code",
   "execution_count": null,
   "metadata": {},
   "outputs": [],
   "source": [
    "a = np.array([3,0])\n",
    "b = np.array([0,4]) "
   ]
  },
  {
   "cell_type": "code",
   "execution_count": null,
   "metadata": {
    "scrolled": false
   },
   "outputs": [],
   "source": [
    "# plot a, b\n",
    "soa = np.array([[0, 0, 3, 0], [0, 0, 0, 4]])\n",
    "X, Y, U, V = zip(*soa)\n",
    "plt.figure()\n",
    "ax = plt.gca()\n",
    "ax.quiver(X, Y, U, V, angles='xy', scale_units='xy', scale=1, color = [\"blue\", \"red\"])\n",
    "ax.set_xlim([-1, 5])\n",
    "ax.set_ylim([-1, 5])\n",
    "plt.title('Vector Angles (a = blue, b = red)')\n",
    "plt.xlabel('$x_1$', fontsize = 20)\n",
    "plt.ylabel('$x_2$', fontsize = 20)\n",
    "plt.grid()"
   ]
  },
  {
   "cell_type": "code",
   "execution_count": null,
   "metadata": {
    "scrolled": false
   },
   "outputs": [],
   "source": [
    "# compare lhs to rhs \n",
    "a_dot_b = np.dot(a, b)\n",
    "a_length = math.sqrt(np.dot(a,a))\n",
    "b_length = math.sqrt(np.dot(b,b))\n",
    "cos_theta = np.cos(np.deg2rad(90))\n",
    "print(\"a dot b is {} and the product of a and b length and cos(theta) is {}\".format(a_dot_b, round(a_length*b_length*cos_theta,1)))"
   ]
  },
  {
   "cell_type": "markdown",
   "metadata": {},
   "source": [
    "### Problem 1:\n",
    "\n",
    "Compute the dot product of the following set of vectors: \n",
    "\n",
    "Set 1: \n",
    "$\\pmb a = [1,3]$\n",
    "$\\pmb b = [2,6]$\n",
    "\n",
    "Set 2:\n",
    "$\\pmb c = [2,1]$\n",
    "$\\pmb d = [-8,-4]$\n",
    "\n",
    "Set 3:\n",
    "$\\pmb e = [4,0]$\n",
    "$\\pmb f = [0,6]$\n",
    "\n",
    "Comment on the angle between each set of vectors. "
   ]
  },
  {
   "cell_type": "code",
   "execution_count": null,
   "metadata": {},
   "outputs": [],
   "source": [
    "# write your code here \n",
    "\n",
    "\n",
    "\n"
   ]
  },
  {
   "cell_type": "markdown",
   "metadata": {},
   "source": [
    "### SOLUTIONS"
   ]
  },
  {
   "cell_type": "markdown",
   "metadata": {},
   "source": [
    "### Problem 1:\n",
    "\n",
    "Compute the dot product of the following set of vectors: \n",
    "\n",
    "Set 1: \n",
    "$\\pmb a = [1,3]$\n",
    "$\\pmb b = [2,6]$\n",
    "\n",
    "Set 2:\n",
    "$\\pmb c = [2,1]$\n",
    "$\\pmb d = [-8,-4]$\n",
    "\n",
    "Set 3:\n",
    "$\\pmb e = [4,0]$\n",
    "$\\pmb f = [0,6]$\n",
    "\n",
    "Comment on the angle between each set of vectors. "
   ]
  },
  {
   "cell_type": "code",
   "execution_count": null,
   "metadata": {},
   "outputs": [],
   "source": [
    "a = np.array([1,3])\n",
    "b = np.array([2,6])\n",
    "c = np.array([2,1])\n",
    "d = np.array([-8,-4])\n",
    "e = np.array([4,0])\n",
    "f = np.array([0,6])"
   ]
  },
  {
   "cell_type": "code",
   "execution_count": null,
   "metadata": {},
   "outputs": [],
   "source": [
    "np.dot(a,b)"
   ]
  },
  {
   "cell_type": "markdown",
   "metadata": {},
   "source": [
    "c > 0 so angle between a and b will be 0 degrees since the vectors lie on top of each other. "
   ]
  },
  {
   "cell_type": "code",
   "execution_count": null,
   "metadata": {},
   "outputs": [],
   "source": [
    "np.dot(c,d)"
   ]
  },
  {
   "cell_type": "markdown",
   "metadata": {},
   "source": [
    "c < 0 so angle between a and b will be 180 degrees since the vectors lie tip to tip. "
   ]
  },
  {
   "cell_type": "code",
   "execution_count": null,
   "metadata": {},
   "outputs": [],
   "source": [
    "np.dot(e,f)"
   ]
  },
  {
   "cell_type": "markdown",
   "metadata": {},
   "source": [
    "Angle between a and b will be 180 degrees since the vectors lie tip to tip. "
   ]
  },
  {
   "cell_type": "code",
   "execution_count": null,
   "metadata": {},
   "outputs": [],
   "source": []
  }
 ],
 "metadata": {
  "kernelspec": {
   "display_name": "Python 3",
   "language": "python",
   "name": "python3"
  },
  "language_info": {
   "codemirror_mode": {
    "name": "ipython",
    "version": 3
   },
   "file_extension": ".py",
   "mimetype": "text/x-python",
   "name": "python",
   "nbconvert_exporter": "python",
   "pygments_lexer": "ipython3",
   "version": "3.7.3"
  },
  "toc": {
   "base_numbering": 1,
   "nav_menu": {},
   "number_sections": false,
   "sideBar": true,
   "skip_h1_title": false,
   "title_cell": "Table of Contents",
   "title_sidebar": "Contents",
   "toc_cell": false,
   "toc_position": {},
   "toc_section_display": true,
   "toc_window_display": true
  }
 },
 "nbformat": 4,
 "nbformat_minor": 2
}
