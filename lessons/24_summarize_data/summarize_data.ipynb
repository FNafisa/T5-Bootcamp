{
 "cells": [
  {
   "cell_type": "markdown",
   "source": [
    "# Summarize Data "
   ],
   "metadata": {}
  },
  {
   "cell_type": "markdown",
   "source": [
    "__Purpose:__ The purpose of this lecture is to learn how to summarize data\n",
    "\n",
    "__At the end of this lecture you will be able to:__\n",
    "> 1. Summarize data using measures of Central Tendency and Variation "
   ],
   "metadata": {}
  },
  {
   "cell_type": "code",
   "execution_count": null,
   "source": [
    "import numpy as np\r\n",
    "import pandas as pd\r\n",
    "from scipy import stats\r\n",
    "import seaborn as sns\r\n",
    "import math \r\n",
    "import random\r\n",
    "import matplotlib.pyplot as plt\r\n",
    "%matplotlib inline"
   ],
   "outputs": [],
   "metadata": {}
  },
  {
   "cell_type": "markdown",
   "source": [
    "### 1.1. Summarizing Data and Distributions:"
   ],
   "metadata": {}
  },
  {
   "cell_type": "markdown",
   "source": [
    "__Overview:__\n",
    "- It is possible to summarize data directly, but we typically create a Probability Distribution for the univariate (single variable) data that we are interested in exploring \n",
    "- Recall the definition of a Probability Distribution (Probability Distributions describes the probabilities of occurrences of possible outcomes) \n",
    "- We can use one of two types of summaries to characterize the data and distributions: \n",
    "> 1. __[Central Tendency](https://en.wikipedia.org/wiki/Central_tendency):__ Central Tendency is the central value of a Probability Distribution and can be measured in many different ways. The most common measures of Central Tendency include the following:\n",
    ">> a. __Arithmetic Mean:__  The Arithmetic Mean refers to the arithmetic average of a group values which is equal to dividing the total sum of all the values by the number of values <br> \n",
    ">> b. __Median:__ The Median refers to the middle value and is found by ordering the data and choosing the value in the middle (or the average of the two middle values if the data has an even number of values) <br>\n",
    ">> c. __Mode:__ The mode refers to the value that occurs most often in the data and is found first by calculating the frequency of each value in the data abd then finding the value that has the highest frequency \n",
    "> 2. __[Variability/Dispersion](https://en.wikipedia.org/wiki/Statistical_dispersion):__ Dispersion refers to the variability or spread of the distribution for each data point to the center of the distribution. The most common measures of Dispersion include the following: \n",
    ">> a. __Variance:__ The Variance is the average of the squared differences of each value and the mean of the data/distribution <br>\n",
    ">> b. __Standard Deviation:__ Standard Deviation is the square root of the Variance \n",
    "\n",
    "__Helpful Points:__ \n",
    "1. Based on the type of data, different measures of Central Tendency are used:\n",
    ">> a. __Nominal Data:__ The Central Tendency in Nominal Data is the Mode <br>\n",
    ">> b. __Ordinal Data:__ The Central Tendency in Ordinal Data is the Median <br>\n",
    ">> c. __Interval Data:__ The Central Tendency in Interval Data is the Mean<br>\n",
    ">> d. __Ratio Data:__ The Central Tendency in Ratio Data is the Geometric Mean \n",
    "\n",
    "__Practice:__ Examples of Summarizing Data in Python "
   ],
   "metadata": {}
  },
  {
   "cell_type": "code",
   "execution_count": null,
   "source": [
    "# read in data to analyze \r\n",
    "nba_df = pd.read_csv(\"NBA_GameLog_2010_2017.csv\")\r\n",
    "tor_2016_2017 = nba_df.loc[(nba_df.loc[:, \"Season\"] == 2017) & (nba_df.loc[:, \"Team\"] == \"TOR\"), ]"
   ],
   "outputs": [],
   "metadata": {}
  },
  {
   "cell_type": "markdown",
   "source": [
    "### Part 1 (Central Tendency):"
   ],
   "metadata": {}
  },
  {
   "cell_type": "markdown",
   "source": [
    "### Example 1.1 (Mean of Data):"
   ],
   "metadata": {}
  },
  {
   "cell_type": "code",
   "execution_count": null,
   "source": [
    "tor_2016_2017.loc[:, [\"Tm.Pts\", \"Opp.Pts\", 'Tm.FGM', 'Tm.FGA', 'Tm.FG_Perc', 'Tm.3PM', 'Tm.3PA',\r\n",
    "       'Tm.3P_Perc', 'Tm.FTM', 'Tm.FTA', 'Tm.FT_Perc', 'Tm.ORB', 'Tm.TRB',\r\n",
    "       'Tm.AST', 'Tm.STL', 'Tm.BLK', 'Tm.TOV', 'Tm.PF', 'Home.Attendance']].mean(axis=0)"
   ],
   "outputs": [],
   "metadata": {
    "scrolled": true
   }
  },
  {
   "cell_type": "markdown",
   "source": [
    "### Example 1.2 (Median of Data):"
   ],
   "metadata": {}
  },
  {
   "cell_type": "code",
   "execution_count": null,
   "source": [
    "# remove scientific notation \r\n",
    "np.set_printoptions(suppress=True)"
   ],
   "outputs": [],
   "metadata": {}
  },
  {
   "cell_type": "code",
   "execution_count": null,
   "source": [
    "np.median(tor_2016_2017.loc[:, [\"Tm.Pts\", \"Opp.Pts\", 'Tm.FGM', 'Tm.FGA', 'Tm.FG_Perc', 'Tm.3PM', 'Tm.3PA',\r\n",
    "       'Tm.3P_Perc', 'Tm.FTM', 'Tm.FTA', 'Tm.FT_Perc', 'Tm.ORB', 'Tm.TRB',\r\n",
    "       'Tm.AST', 'Tm.STL', 'Tm.BLK', 'Tm.TOV', 'Tm.PF', 'Home.Attendance']], axis=0)"
   ],
   "outputs": [],
   "metadata": {}
  },
  {
   "cell_type": "markdown",
   "source": [
    "### Example 1.3 (Mode of Data):"
   ],
   "metadata": {}
  },
  {
   "cell_type": "code",
   "execution_count": null,
   "source": [
    "stats.mode(tor_2016_2017.loc[:, [\"Tm.Pts\", \"Opp.Pts\", 'Tm.FGM', 'Tm.FGA', 'Tm.FG_Perc', 'Tm.3PM', 'Tm.3PA',\r\n",
    "       'Tm.3P_Perc', 'Tm.FTM', 'Tm.FTA', 'Tm.FT_Perc', 'Tm.ORB', 'Tm.TRB',\r\n",
    "       'Tm.AST', 'Tm.STL', 'Tm.BLK', 'Tm.TOV', 'Tm.PF', 'Home.Attendance']])"
   ],
   "outputs": [],
   "metadata": {
    "scrolled": true
   }
  },
  {
   "cell_type": "markdown",
   "source": [
    "### Example 1.4 (Mean of Distribution)"
   ],
   "metadata": {}
  },
  {
   "cell_type": "markdown",
   "source": [
    "First, we need to create a Probability Distribution for the variable \"Team Points\". This can be done manually by finding the relative frequency of each unique value in the variable \"Team Points\". It can also be done programmatically using the `seaborn` Package. "
   ],
   "metadata": {}
  },
  {
   "cell_type": "code",
   "execution_count": null,
   "source": [
    "team_points = tor_2016_2017.loc[:, \"Tm.Pts\"].value_counts().index\r\n",
    "team_points"
   ],
   "outputs": [],
   "metadata": {
    "scrolled": true
   }
  },
  {
   "cell_type": "code",
   "execution_count": null,
   "source": [
    "team_points_prob = tor_2016_2017.loc[:, \"Tm.Pts\"].value_counts() / tor_2016_2017.loc[:, \"Tm.Pts\"].value_counts().sum()\r\n",
    "team_points_prob.head(5)"
   ],
   "outputs": [],
   "metadata": {}
  },
  {
   "cell_type": "code",
   "execution_count": null,
   "source": [
    "# manual probability distribution (prob. mass function)\r\n",
    "plt.bar(team_points, team_points_prob)"
   ],
   "outputs": [],
   "metadata": {
    "scrolled": true
   }
  },
  {
   "cell_type": "markdown",
   "source": [
    "The bar chart depicts a probablity mass function (PMF). PMF is the probability distribution of a discrete random variable, and provides the possible values and their associated probabilities. \r\n",
    "\r\n",
    "So the PMF plotted above is a probability measure that gives us probabilities of the possible values for a discrete random variable, which in our case is team_points.\r\n",
    "\r\n",
    "\r\n",
    "**Formal definition**:\r\n",
    "Let X be a discrete random variable with range Rx={x1,x2,x3,...} (finite or countably infinite). The function\r\n",
    "\r\n",
    "<center>\r\n",
    "\r\n",
    "Px(xk)=P(X=xk), for k=1,2,3,...,\r\n",
    "\r\n",
    "</center>\r\n",
    "\r\n",
    "is called the probability mass function (PMF) of X."
   ],
   "metadata": {}
  },
  {
   "cell_type": "code",
   "execution_count": null,
   "source": [
    "team_points_prob.sum()"
   ],
   "outputs": [],
   "metadata": {}
  },
  {
   "cell_type": "markdown",
   "source": [
    "Note that the sum of the probabilities equals to 1!"
   ],
   "metadata": {}
  },
  {
   "cell_type": "markdown",
   "source": [
    "Density plots are another useful method to study data distributions of one or more numeric variables. \r\n",
    "\r\n",
    "Kernel density estimatation plot is a non-parametric method of estimating the probability density function (PDF) of a continuous random variable. It is non-parametric because it does not assume any underlying distribution for the variable. At every data point, a kernel function is created with the data point at its centre – this ensures that the kernel is symmetric about that specific data point.\r\n",
    "\r\n",
    "Intuitively, density plots can be thought of a smoothed version of the histogram."
   ],
   "metadata": {}
  },
  {
   "cell_type": "code",
   "execution_count": null,
   "source": [
    "# kernel density plot \r\n",
    "sns.set_style('whitegrid')\r\n",
    "sns.kdeplot(tor_2016_2017.loc[:, \"Tm.Pts\"], bw=0.5)"
   ],
   "outputs": [],
   "metadata": {
    "scrolled": true
   }
  },
  {
   "cell_type": "code",
   "execution_count": null,
   "source": [
    "sns.distplot(tor_2016_2017.loc[:, \"Tm.Pts\"],kde=True,bins=15)"
   ],
   "outputs": [],
   "metadata": {
    "scrolled": true
   }
  },
  {
   "cell_type": "markdown",
   "source": [
    "Recall the formula for the Expected Value for a Discrete Random Variable: The sum of the product of the possible values of the Random Variable and the probability of each value occurring. We can use the dot product function for this calculation. See below:"
   ],
   "metadata": {}
  },
  {
   "cell_type": "code",
   "execution_count": null,
   "source": [
    "distr_mean = np.dot(team_points, team_points_prob)\r\n",
    "distr_mean"
   ],
   "outputs": [],
   "metadata": {}
  },
  {
   "cell_type": "markdown",
   "source": [
    "### Part 2 (Dispersion):"
   ],
   "metadata": {}
  },
  {
   "cell_type": "markdown",
   "source": [
    "### Example 2.1 (Variance of Data):"
   ],
   "metadata": {}
  },
  {
   "cell_type": "markdown",
   "source": [
    "$\\sigma$ = $\\sqrt{\\sigma^2}$"
   ],
   "metadata": {}
  },
  {
   "cell_type": "code",
   "execution_count": null,
   "source": [
    "tor_2016_2017.loc[:, [\"Tm.Pts\", \"Opp.Pts\", 'Tm.FGM', 'Tm.FGA', 'Tm.FG_Perc', 'Tm.3PM', 'Tm.3PA',\r\n",
    "       'Tm.3P_Perc', 'Tm.FTM', 'Tm.FTA', 'Tm.FT_Perc', 'Tm.ORB', 'Tm.TRB',\r\n",
    "       'Tm.AST', 'Tm.STL', 'Tm.BLK', 'Tm.TOV', 'Tm.PF', 'Home.Attendance']].var(axis=0)"
   ],
   "outputs": [],
   "metadata": {}
  },
  {
   "cell_type": "markdown",
   "source": [
    "### Example 2.2 (Standard Deviation of Data):"
   ],
   "metadata": {}
  },
  {
   "cell_type": "code",
   "execution_count": null,
   "source": [
    "tor_2016_2017.loc[:, [\"Tm.Pts\", \"Opp.Pts\", 'Tm.FGM', 'Tm.FGA', 'Tm.FG_Perc', 'Tm.3PM', 'Tm.3PA',\r\n",
    "       'Tm.3P_Perc', 'Tm.FTM', 'Tm.FTA', 'Tm.FT_Perc', 'Tm.ORB', 'Tm.TRB',\r\n",
    "       'Tm.AST', 'Tm.STL', 'Tm.BLK', 'Tm.TOV', 'Tm.PF', 'Home.Attendance']].std(axis=0)"
   ],
   "outputs": [],
   "metadata": {}
  },
  {
   "cell_type": "markdown",
   "source": [
    "### Example 2.3 (Variance of Distribution):"
   ],
   "metadata": {}
  },
  {
   "cell_type": "code",
   "execution_count": null,
   "source": [
    "distr_var = np.dot((team_points - distr_mean)**2, team_points_prob)\r\n",
    "distr_var"
   ],
   "outputs": [],
   "metadata": {}
  },
  {
   "cell_type": "markdown",
   "source": [
    "### 1.2. The Standard Score or z-score\r\n",
    "\r\n",
    "Is a variable that measures the deviation from the mean in units of the standard deviation.  It is a dimensionless quantity, and is given by:\r\n",
    "\r\n",
    "<center>\r\n",
    "$z=\\frac{X-\\bar{X}}{\\sigma}$\r\n",
    "</center>\r\n",
    "\r\n",
    "where:\r\n",
    "\r\n",
    "X is a single raw data value\r\n",
    "\r\n",
    "$\\bar X$ is the population mean\r\n",
    "\r\n",
    "σ is the population standard deviation"
   ],
   "metadata": {}
  },
  {
   "cell_type": "code",
   "execution_count": null,
   "source": [
    "# Create an array of values\r\n",
    "data = np.array([6, 7, 7, 12, 13, 13, 15, 16, 19, 22])"
   ],
   "outputs": [],
   "metadata": {}
  },
  {
   "cell_type": "code",
   "execution_count": null,
   "source": [
    "#Use the zscore function on the data\r\n",
    "stats.zscore(data)"
   ],
   "outputs": [],
   "metadata": {}
  },
  {
   "cell_type": "markdown",
   "source": [
    "Each z-score tells us how many standard deviations away an individual value is from the mean. For example:\r\n",
    "\r\n",
    "The first value of “6” in the array is 1.394 standard deviations **below** the mean.\r\n",
    "\r\n",
    "The fifth value of “13” in the array is 0 standard deviations away from the mean, i.e. it is **equal** to the mean.\r\n",
    "\r\n",
    "The last value of “22” in the array is 1.793 standard deviations **above** the mean."
   ],
   "metadata": {}
  },
  {
   "cell_type": "code",
   "execution_count": null,
   "source": [
    "# Create a dataframe \r\n",
    "data_frame = pd.DataFrame(np.random.randint(0, 10, size=(5, 3)), columns=['A', 'B', 'C'])\r\n",
    "data_frame"
   ],
   "outputs": [],
   "metadata": {}
  },
  {
   "cell_type": "code",
   "execution_count": null,
   "source": [
    "#Use the apply function to calculate z-scores for columns, 'A','B' and 'C'\r\n",
    "data_frame.apply(stats.zscore)"
   ],
   "outputs": [],
   "metadata": {}
  },
  {
   "cell_type": "markdown",
   "source": [
    "Try to observe and note how the z-scores for each individual value are shown relative to the column they’re in."
   ],
   "metadata": {}
  }
 ],
 "metadata": {
  "kernelspec": {
   "display_name": "Python [conda env:metis] *",
   "language": "python",
   "name": "conda-env-metis-py"
  },
  "language_info": {
   "codemirror_mode": {
    "name": "ipython",
    "version": 3
   },
   "file_extension": ".py",
   "mimetype": "text/x-python",
   "name": "python",
   "nbconvert_exporter": "python",
   "pygments_lexer": "ipython3",
   "version": "3.8.6"
  },
  "toc": {
   "base_numbering": 1,
   "nav_menu": {},
   "number_sections": false,
   "sideBar": true,
   "skip_h1_title": false,
   "title_cell": "Table of Contents",
   "title_sidebar": "Contents",
   "toc_cell": false,
   "toc_position": {},
   "toc_section_display": true,
   "toc_window_display": true
  }
 },
 "nbformat": 4,
 "nbformat_minor": 2
}