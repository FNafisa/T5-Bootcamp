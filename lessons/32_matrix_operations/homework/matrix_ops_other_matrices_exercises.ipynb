{
 "cells": [
  {
   "cell_type": "markdown",
   "metadata": {},
   "source": [
    "### Problem 1\n",
    "\n",
    "Given the following matrices:\n",
    "\n",
    "$\n",
    "\\pmb A = \n",
    "\\begin{bmatrix}\n",
    "    -1 & 3 & 2\\\\\n",
    "    0 & -2 & 3\\\\\n",
    "\\end{bmatrix}\n",
    "$\n",
    "\n",
    "$\n",
    "\\pmb B = \n",
    "\\begin{bmatrix}\n",
    "    1 & 3 & -1\\\\\n",
    "    3 & -2 & 0\\\\\n",
    "\\end{bmatrix}\n",
    "$\n",
    "\n",
    "$\n",
    "\\pmb C = \n",
    "\\begin{bmatrix}\n",
    "    1 & 2 \\\\\n",
    "    4 & 3\\\\\n",
    "\\end{bmatrix}\n",
    "$\n",
    "\n",
    "$\n",
    "\\pmb D = \n",
    "\\begin{bmatrix}\n",
    "    3 & 1 \\\\\n",
    "    -1 & 2\\\\\n",
    "\\end{bmatrix}\n",
    "$\n",
    "\n",
    "Perform the following manual calculations:\n",
    "\n",
    "a) $\\pmb A + \\pmb B$\n",
    "\n",
    "b) $\\pmb C + \\pmb D$\n",
    "\n",
    "c) $\\pmb A \\pmb B^T$\n",
    "\n",
    "d) $\\pmb C \\pmb D$\n",
    "\n",
    "e) $\\pmb C \\pmb A$"
   ]
  },
  {
   "cell_type": "code",
   "execution_count": null,
   "metadata": {},
   "outputs": [],
   "source": []
  }
 ],
 "metadata": {
  "kernelspec": {
   "display_name": "Python 3",
   "language": "python",
   "name": "python3"
  },
  "language_info": {
   "codemirror_mode": {
    "name": "ipython",
    "version": 3
   },
   "file_extension": ".py",
   "mimetype": "text/x-python",
   "name": "python",
   "nbconvert_exporter": "python",
   "pygments_lexer": "ipython3",
   "version": "3.7.3"
  }
 },
 "nbformat": 4,
 "nbformat_minor": 2
}
