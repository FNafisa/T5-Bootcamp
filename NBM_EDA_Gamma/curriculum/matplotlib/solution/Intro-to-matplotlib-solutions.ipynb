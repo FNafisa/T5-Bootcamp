{
 "cells": [
  {
   "cell_type": "markdown",
   "metadata": {},
   "source": [
    "# Introduction to Matplotlib"
   ]
  },
  {
   "cell_type": "markdown",
   "metadata": {},
   "source": [
    "__Purpose:__\n",
    "The purpose of this lecture is to learn how to visualiza data in Python using a library called **MATPLOTLIB**. We will learn how to create charts that can be displayed within the Jupyter notebook, as well as customize the fonts, colors, etc.   \n",
    "\n",
    "__At the end of this lecture you will be able to:__\n",
    "> 1. Understand how to create basic charts such as line charts, scatter plots, pie charts, histograms, etc.\n",
    "> 2. Customize the charts by manipulating the size, color, fonts, etc.\n",
    "> 3. Create multiple charts within one graph.\n",
    "> 4. Save the charts as an image."
   ]
  },
  {
   "cell_type": "markdown",
   "metadata": {},
   "source": [
    "## 1 Matplotlib Introduction"
   ]
  },
  {
   "cell_type": "markdown",
   "metadata": {},
   "source": [
    "### 1.1 What is Matplotlib?"
   ]
  },
  {
   "cell_type": "markdown",
   "metadata": {},
   "source": [
    "__Overview__\n",
    "\n",
    "Matplotlib is a library that allows visualization within Python.  You can generate line plots, scatter plots, histograms, bar charts, etc., with just a few lines of code. \n",
    "\n",
    "For simple plotting the pyplot module provides a MATLAB-like interface, particularly when combined with Jupyter Notebook. For the power user, you have full control of line styles, font properties, axes properties, etc, via an object oriented interface or via a set of functions familiar to MATLAB users.\n",
    "\n",
    "The [matplotlib.pyplot](https://matplotlib.org/api/pyplot_summary.html) module contains functions that allow you to generate many kinds of plots quickly. \n",
    "\n",
    "Matplotlib was originally written by John D. Hunter, has an active development community, and is distributed under a BSD-style license. Michael Droettboom was nominated as matplotlib's lead developer shortly before John Hunter's death in 2012, and further joined by Thomas Caswell."
   ]
  },
  {
   "cell_type": "code",
   "execution_count": null,
   "metadata": {},
   "outputs": [],
   "source": [
    "import matplotlib.pyplot as plt\n",
    "import numpy as np\n",
    "import pandas as pd\n",
    "\n",
    "# You can configure the format of the images: ‘png’, ‘retina’, ‘jpeg’, ‘svg’, ‘pdf’.\n",
    "%config InlineBackend.figure_format = 'svg'\n",
    "# this statement allows the visuals to render within your Jupyter Notebook\n",
    "%matplotlib inline "
   ]
  },
  {
   "cell_type": "markdown",
   "metadata": {},
   "source": [
    "### 1.2 Matplotlib Basics"
   ]
  },
  {
   "cell_type": "markdown",
   "metadata": {},
   "source": [
    "### 1.2.1 Creating charts"
   ]
  },
  {
   "cell_type": "markdown",
   "metadata": {},
   "source": [
    "### Data Types\n",
    "Matplotlib accepts several types of data such as lists, Numpy Arrays and Pandas Series and Dataframes."
   ]
  },
  {
   "cell_type": "markdown",
   "metadata": {},
   "source": [
    "### Part 1 (Data Types for Creating Charts in Matplotlib)"
   ]
  },
  {
   "cell_type": "markdown",
   "metadata": {},
   "source": [
    "### Example 1.1 (Creating a line chart from a list)"
   ]
  },
  {
   "cell_type": "markdown",
   "metadata": {},
   "source": [
    "As a starting point let's use a simple example by drawing a line chart from a list with the values 1, 2, 1, 3. "
   ]
  },
  {
   "cell_type": "code",
   "execution_count": null,
   "metadata": {},
   "outputs": [],
   "source": [
    "data_list = [1,2,1,3]\n",
    "print(data_list, type(data_list))\n",
    "plt.plot(data_list);"
   ]
  },
  {
   "cell_type": "markdown",
   "metadata": {},
   "source": [
    "Note that the x-axis contains the index of the datapoint.  Remember that Python is 0 indexed.\n",
    "\n",
    "You can also specify the values in the x-axis."
   ]
  },
  {
   "cell_type": "code",
   "execution_count": null,
   "metadata": {},
   "outputs": [],
   "source": [
    "x = [10,20, 21, 30]\n",
    "plt.plot(x,data_list);"
   ]
  },
  {
   "cell_type": "markdown",
   "metadata": {},
   "source": [
    "### Example 1.2 (Creating a line chart from a Numpy array)"
   ]
  },
  {
   "cell_type": "markdown",
   "metadata": {},
   "source": [
    "Now we will create the same chart using a Numpy Array and a Pandas Series and DataFrame."
   ]
  },
  {
   "cell_type": "code",
   "execution_count": null,
   "metadata": {},
   "outputs": [],
   "source": [
    "data_numpy = np.array(data_list)\n",
    "print(data_numpy, type(data_numpy))\n",
    "plt.plot(data_numpy);"
   ]
  },
  {
   "cell_type": "markdown",
   "metadata": {},
   "source": [
    "### Example 1.3 (Creating a line chart from a Pandas Series)"
   ]
  },
  {
   "cell_type": "code",
   "execution_count": null,
   "metadata": {},
   "outputs": [],
   "source": [
    "data_pandas_series = pd.Series(data_list)\n",
    "print(data_pandas_series, type(data_pandas_series))\n",
    "plt.plot(data_pandas_series);"
   ]
  },
  {
   "cell_type": "markdown",
   "metadata": {},
   "source": [
    "### Example 1.4 (Creating a line chart from a Pandas DataFrame)"
   ]
  },
  {
   "cell_type": "code",
   "execution_count": null,
   "metadata": {},
   "outputs": [],
   "source": [
    "data_pandas = pd.DataFrame(data_list)\n",
    "print(data_pandas, type(data_pandas))\n",
    "plt.plot(data_pandas);"
   ]
  },
  {
   "cell_type": "markdown",
   "metadata": {},
   "source": [
    "### 1.2.2 Fomatting charts"
   ]
  },
  {
   "cell_type": "markdown",
   "metadata": {},
   "source": [
    "### Part 1 (Adding Titles)"
   ]
  },
  {
   "cell_type": "markdown",
   "metadata": {},
   "source": [
    "We can also add a title to our figure using plt.title(), and we can modify the text properties.\n",
    "A full list of properties can be found here: https://matplotlib.org/users/text_props.html "
   ]
  },
  {
   "cell_type": "markdown",
   "metadata": {},
   "source": [
    "### Example 1.1"
   ]
  },
  {
   "cell_type": "code",
   "execution_count": null,
   "metadata": {},
   "outputs": [],
   "source": [
    "plt.plot(data_list)\n",
    "plt.title('First Plot');"
   ]
  },
  {
   "cell_type": "code",
   "execution_count": null,
   "metadata": {},
   "outputs": [],
   "source": [
    "plt.plot(data_list)\n",
    "plt.title('Serif Title',family='serif',fontsize = 30,loc='left',color='r');"
   ]
  },
  {
   "cell_type": "code",
   "execution_count": null,
   "metadata": {},
   "outputs": [],
   "source": [
    "plt.plot(data_list)\n",
    "plt.title('Bold Italic Title',fontsize = 40,style='italic',weight='bold',rotation=10,color='purple');"
   ]
  },
  {
   "cell_type": "markdown",
   "metadata": {},
   "source": [
    "### Part 2 (Adding X-Y Labels)"
   ]
  },
  {
   "cell_type": "markdown",
   "metadata": {},
   "source": [
    "Similar to the title, we can also add labels in the $x$ and $y$ axis using plt.xlabel() and plt.ylabel()."
   ]
  },
  {
   "cell_type": "markdown",
   "metadata": {},
   "source": [
    "### Example 2.1"
   ]
  },
  {
   "cell_type": "code",
   "execution_count": null,
   "metadata": {},
   "outputs": [],
   "source": [
    "plt.plot(data_list)\n",
    "plt.xlabel('Label on the X axis')\n",
    "plt.ylabel('Label on the Y axis',fontsize = 20, weight = 'bold',color='green');"
   ]
  },
  {
   "cell_type": "markdown",
   "metadata": {},
   "source": [
    "### Problem 1\n",
    "\n",
    "Create a dataset that contains the values from 0 to 10 in increments of 0.01 for the $x$ value, and $sin(2*pi*x)$ for the $y$ value.\n",
    "\n",
    "**Hint:** Look at numpy for the function sin()"
   ]
  },
  {
   "cell_type": "code",
   "execution_count": null,
   "metadata": {},
   "outputs": [],
   "source": [
    "### Write the code here\n",
    "\n",
    "\n"
   ]
  },
  {
   "cell_type": "markdown",
   "metadata": {},
   "source": [
    "### Problem 2\n",
    "Using the same dataset from the previous problem, create a line chart displaying $y$ versus $x$.  Include a title and labels for the $x$ and $y$ axis.  Play with the format of the text."
   ]
  },
  {
   "cell_type": "code",
   "execution_count": null,
   "metadata": {},
   "outputs": [],
   "source": [
    "### Write the code here\n",
    "\n",
    "\n"
   ]
  },
  {
   "cell_type": "markdown",
   "metadata": {},
   "source": [
    "### Part 3 (Gridlines)"
   ]
  },
  {
   "cell_type": "markdown",
   "metadata": {},
   "source": [
    "We can include gridlines with plt.grid()"
   ]
  },
  {
   "cell_type": "markdown",
   "metadata": {},
   "source": [
    "### Example 3.1"
   ]
  },
  {
   "cell_type": "code",
   "execution_count": null,
   "metadata": {},
   "outputs": [],
   "source": [
    "plt.plot(data_list)\n",
    "plt.grid()"
   ]
  },
  {
   "cell_type": "markdown",
   "metadata": {},
   "source": [
    "### Example 3.2"
   ]
  },
  {
   "cell_type": "markdown",
   "metadata": {},
   "source": [
    "We can also control the location of the ticks using plt.xticks() and plt.yticks()"
   ]
  },
  {
   "cell_type": "code",
   "execution_count": null,
   "metadata": {},
   "outputs": [],
   "source": [
    "plt.plot(data_list)\n",
    "plt.grid()\n",
    "ticks_x = np.linspace(0, 3, 10)\n",
    "ticks_y = np.linspace(1, 3, 3)\n",
    "plt.xticks(ticks_x)\n",
    "plt.yticks(ticks_y);"
   ]
  },
  {
   "cell_type": "markdown",
   "metadata": {},
   "source": [
    "### Example 3.3"
   ]
  },
  {
   "cell_type": "markdown",
   "metadata": {},
   "source": [
    "Also, we can replace the text of the ticks.  Note that we can also modify the font!"
   ]
  },
  {
   "cell_type": "code",
   "execution_count": null,
   "metadata": {},
   "outputs": [],
   "source": [
    "plt.plot(data_list)\n",
    "plt.grid()\n",
    "ticks_x = np.linspace(0, 3, 4)\n",
    "months = ['Jan','Feb','Mar','Apr']\n",
    "plt.xticks(ticks_x, months, fontsize = '20', family = 'fantasy',color='orange');"
   ]
  },
  {
   "cell_type": "markdown",
   "metadata": {},
   "source": [
    "### Problem 3\n",
    "Using the sine wave data set from the previous problem, create a line chart that contains grids.  In the $x$-axis we want 6 ticks at intervals of 2, i.e. 0, 2, 4 ..., 10.  On the $y$-axis we want two ticks, one at +1 and the other at -1 with the labels \"Peak\" and \"Valley\", respectively."
   ]
  },
  {
   "cell_type": "code",
   "execution_count": null,
   "metadata": {},
   "outputs": [],
   "source": [
    "### Write the code here\n",
    "\n",
    "\n"
   ]
  },
  {
   "cell_type": "markdown",
   "metadata": {},
   "source": [
    "### Part 4 (Multiple Lines Per Plot)\n",
    "You can have more than one line in a plot, by using the plt.plot() multiple times within the same cell."
   ]
  },
  {
   "cell_type": "markdown",
   "metadata": {},
   "source": [
    "### Example 4.1"
   ]
  },
  {
   "cell_type": "code",
   "execution_count": null,
   "metadata": {},
   "outputs": [],
   "source": [
    "data_list = [1,2,1,3]\n",
    "data_list_2 = [3, 2.3, 2, 0]\n",
    "plt.plot(data_list)\n",
    "plt.plot(data_list_2);"
   ]
  },
  {
   "cell_type": "markdown",
   "metadata": {},
   "source": [
    "### Part 5 (Legends)"
   ]
  },
  {
   "cell_type": "markdown",
   "metadata": {},
   "source": [
    "Legends can be added to label each line with plt.legend()."
   ]
  },
  {
   "cell_type": "markdown",
   "metadata": {},
   "source": [
    "### Example 5.1"
   ]
  },
  {
   "cell_type": "code",
   "execution_count": null,
   "metadata": {},
   "outputs": [],
   "source": [
    "plt.plot(data_list)\n",
    "plt.plot(data_list_2)\n",
    "plt.legend(['First Line','Second Line'],shadow = True, loc = 0);"
   ]
  },
  {
   "cell_type": "markdown",
   "metadata": {},
   "source": [
    "### Part 6 (Color)"
   ]
  },
  {
   "cell_type": "markdown",
   "metadata": {},
   "source": [
    "The same way we have modified the color of the font, we can modify the color of the line. \n",
    "> **Alias:** For alias colors check here: https://matplotlib.org/api/_as_gen/matplotlib.pyplot.colors.html\n",
    "\n",
    "> **Name:** For name color information check here: https://www.w3schools.com/cssref/css_colors.asp\n",
    "\n",
    "> **Hexadecimal:** The color can be represented in hexadecimal (https://en.wikipedia.org/wiki/Hexadecimal).  Every color has three components: Red, Green and Blue, aka RGB.  Each components can have a value between 0 and 255 (00 to FF in hexadecimal).  So if you want the color #3FEF0A (note that the # indicates hexadecimal), you are assigning a value of 3F to Red, EF to Green and 0A to Blue."
   ]
  },
  {
   "cell_type": "markdown",
   "metadata": {},
   "source": [
    "### Example 6.1: Color with alias\n",
    "The following lines of code do the same thing!"
   ]
  },
  {
   "cell_type": "code",
   "execution_count": null,
   "metadata": {},
   "outputs": [],
   "source": [
    "plt.plot(data_list, 'g'); "
   ]
  },
  {
   "cell_type": "code",
   "execution_count": null,
   "metadata": {},
   "outputs": [],
   "source": [
    "plt.plot(data_list, c='g'); "
   ]
  },
  {
   "cell_type": "code",
   "execution_count": null,
   "metadata": {},
   "outputs": [],
   "source": [
    "plt.plot(data_list, color = 'g'); "
   ]
  },
  {
   "cell_type": "markdown",
   "metadata": {},
   "source": [
    "### Example 6.2: Color with Name\n",
    "https://www.w3schools.com/cssref/css_colors.asp"
   ]
  },
  {
   "cell_type": "code",
   "execution_count": null,
   "metadata": {},
   "outputs": [],
   "source": [
    "plt.plot(data_list, c = 'Aqua');"
   ]
  },
  {
   "cell_type": "markdown",
   "metadata": {},
   "source": [
    "### Example 6.3: Color with RGB Hexadecimal\n",
    "The color needs three values for the Red, Green and Blue channel.  Each channel can have a value between 0 and 255.  You can use the function $hex()$ to convert a decimal to hexadecimal."
   ]
  },
  {
   "cell_type": "code",
   "execution_count": null,
   "metadata": {},
   "outputs": [],
   "source": [
    "print('The decimal {} is {} in hexadecimal'.format(0,hex(0)))\n",
    "print('The decimal {} is {} in hexadecimal'.format(128,hex(128)))\n",
    "print('The decimal {} is {} in hexadecimal'.format(36,hex(36)))\n",
    "print('The decimal {} is {} in hexadecimal'.format(198,hex(198)))\n",
    "print('The decimal {} is {} in hexadecimal'.format(255,hex(255)))"
   ]
  },
  {
   "cell_type": "code",
   "execution_count": null,
   "metadata": {},
   "outputs": [],
   "source": [
    "plt.plot(data_list, c = '#00FFFF'); "
   ]
  },
  {
   "cell_type": "markdown",
   "metadata": {},
   "source": [
    "### Part 7 (Line Width)"
   ]
  },
  {
   "cell_type": "markdown",
   "metadata": {},
   "source": [
    "The linewidth of the chart can also be modified, with the linewidth parameter."
   ]
  },
  {
   "cell_type": "markdown",
   "metadata": {},
   "source": [
    "### Example 7.1"
   ]
  },
  {
   "cell_type": "code",
   "execution_count": null,
   "metadata": {},
   "outputs": [],
   "source": [
    "plt.plot(data_list, linewidth = 10)\n",
    "plt.plot(data_list_2, linewidth = 1); "
   ]
  },
  {
   "cell_type": "markdown",
   "metadata": {},
   "source": [
    "### Part 8 (Line Style)"
   ]
  },
  {
   "cell_type": "markdown",
   "metadata": {},
   "source": [
    "Lines come in several types, such as solid, dashed, and so on.  They can be modified with the linestyle parameter.  You can find the styles here: https://matplotlib.org/gallery/lines_bars_and_markers/line_styles_reference.html"
   ]
  },
  {
   "cell_type": "markdown",
   "metadata": {},
   "source": [
    "### Example 8.1"
   ]
  },
  {
   "cell_type": "code",
   "execution_count": null,
   "metadata": {},
   "outputs": [],
   "source": [
    "plt.plot(data_list, linestyle = '--',linewidth = 3, c = 'b')\n",
    "plt.plot(data_list_2, linestyle = '-.',linewidth = 5, c = 'r') \n",
    "plt.plot(np.array(data_list_2)+1, linestyle = ':',linewidth = 2, c = 'k')\n",
    "plt.plot(np.array(data_list)-1, linestyle = '-',linewidth = 4, c ='g'); "
   ]
  },
  {
   "cell_type": "markdown",
   "metadata": {},
   "source": [
    "### Problem 4\n",
    "Create a dataset that contains $2*cos(pi*x)$ for the $y2$ value.  Plot $y$ and $y2$ values versus $x$ on the same chart.  Assign unique linewidth, color, and style to each line.  Make sure to include a legend."
   ]
  },
  {
   "cell_type": "code",
   "execution_count": null,
   "metadata": {},
   "outputs": [],
   "source": [
    "### Write the code here\n",
    "\n",
    "\n"
   ]
  },
  {
   "cell_type": "markdown",
   "metadata": {},
   "source": [
    "### 1.2.3 Types of Charts"
   ]
  },
  {
   "cell_type": "markdown",
   "metadata": {},
   "source": [
    "There are a wide range of visuals we can create.  In this section we will cover the basics."
   ]
  },
  {
   "cell_type": "markdown",
   "metadata": {},
   "source": [
    "### Part 1 (Line Charts)"
   ]
  },
  {
   "cell_type": "markdown",
   "metadata": {},
   "source": [
    "### Example 1.1"
   ]
  },
  {
   "cell_type": "code",
   "execution_count": null,
   "metadata": {},
   "outputs": [],
   "source": [
    "new_x = np.arange(100)\n",
    "new_y = np.random.randint(0,10,100) # random integer number between 0 and 9 (10 is excluded)\n",
    "\n",
    "plt.plot(new_x,new_y);"
   ]
  },
  {
   "cell_type": "markdown",
   "metadata": {},
   "source": [
    "### Part 2 (Bar Chart)"
   ]
  },
  {
   "cell_type": "markdown",
   "metadata": {},
   "source": [
    "### Example 2.1"
   ]
  },
  {
   "cell_type": "code",
   "execution_count": null,
   "metadata": {},
   "outputs": [],
   "source": [
    "new_x = np.arange(20)\n",
    "new_y = np.random.randint(5,10,20)\n",
    "\n",
    "plt.bar(new_x,new_y);"
   ]
  },
  {
   "cell_type": "markdown",
   "metadata": {},
   "source": [
    "### Example 2.2"
   ]
  },
  {
   "cell_type": "code",
   "execution_count": null,
   "metadata": {},
   "outputs": [],
   "source": [
    "new_x = np.arange(20)\n",
    "new_y = np.random.randint(5,10,20)\n",
    "\n",
    "plt.barh(new_x,new_y);"
   ]
  },
  {
   "cell_type": "markdown",
   "metadata": {},
   "source": [
    "### Part 3 (Scatter Plot)"
   ]
  },
  {
   "cell_type": "markdown",
   "metadata": {},
   "source": [
    "### Example 3.1"
   ]
  },
  {
   "cell_type": "code",
   "execution_count": null,
   "metadata": {},
   "outputs": [],
   "source": [
    "new_x = np.random.randn(1000)\n",
    "new_y = np.random.randn(1000)\n",
    "\n",
    "plt.scatter(new_x,new_y);"
   ]
  },
  {
   "cell_type": "markdown",
   "metadata": {},
   "source": [
    "### Example 3.2"
   ]
  },
  {
   "cell_type": "markdown",
   "metadata": {},
   "source": [
    "Note that a lot of dots overlap in the middle.  We can play with the transparency of the color to see how the dots overlap by modifying a parameter called alpha between 0 and 1."
   ]
  },
  {
   "cell_type": "code",
   "execution_count": null,
   "metadata": {},
   "outputs": [],
   "source": [
    "plt.scatter(new_x,new_y,alpha = 0.2);"
   ]
  },
  {
   "cell_type": "markdown",
   "metadata": {},
   "source": [
    "### Example 3.3"
   ]
  },
  {
   "cell_type": "markdown",
   "metadata": {},
   "source": [
    "Similarly we can modify the type of the marker (https://matplotlib.org/api/markers_api.html) and its size."
   ]
  },
  {
   "cell_type": "code",
   "execution_count": null,
   "metadata": {},
   "outputs": [],
   "source": [
    "plt.scatter(new_x,new_y,marker = '+',s = 100, alpha = 0.5);"
   ]
  },
  {
   "cell_type": "markdown",
   "metadata": {},
   "source": [
    "### Part 4 (Histogram)"
   ]
  },
  {
   "cell_type": "markdown",
   "metadata": {},
   "source": [
    "### Example 4.1"
   ]
  },
  {
   "cell_type": "code",
   "execution_count": null,
   "metadata": {},
   "outputs": [],
   "source": [
    "new_x = np.random.randn(100000)\n",
    "plt.hist(new_x,50);"
   ]
  },
  {
   "cell_type": "markdown",
   "metadata": {},
   "source": [
    "### Part 5 (Pie Chart)"
   ]
  },
  {
   "cell_type": "markdown",
   "metadata": {},
   "source": [
    "### Example 5.1"
   ]
  },
  {
   "cell_type": "code",
   "execution_count": null,
   "metadata": {},
   "outputs": [],
   "source": [
    "new_x = np.arange(1,4)\n",
    "plt.pie(new_x,labels=['a','b','c']);"
   ]
  },
  {
   "cell_type": "markdown",
   "metadata": {},
   "source": [
    "### Example 5.2"
   ]
  },
  {
   "cell_type": "code",
   "execution_count": null,
   "metadata": {},
   "outputs": [],
   "source": [
    "plt.pie(new_x,labels=['a','b','c'],explode = [.1,.2,0]);"
   ]
  },
  {
   "cell_type": "markdown",
   "metadata": {},
   "source": [
    "### Part 6 (Figure Size)\n",
    "\n",
    "We can modify the figure size using the \"figure\" parameter \"figsize\"."
   ]
  },
  {
   "cell_type": "code",
   "execution_count": null,
   "metadata": {},
   "outputs": [],
   "source": [
    "plt.figure(figsize = [10,2]) # [width, height]\n",
    "new_x = np.random.randn(100000)\n",
    "plt.hist(new_x,50);"
   ]
  },
  {
   "cell_type": "markdown",
   "metadata": {},
   "source": [
    "### Problem 5\n",
    "Using the same dataset from the previous problem, create a histogram of variable $y$, and use 15 bins."
   ]
  },
  {
   "cell_type": "code",
   "execution_count": null,
   "metadata": {},
   "outputs": [],
   "source": [
    "### Write the code here\n",
    "\n",
    "\n"
   ]
  },
  {
   "cell_type": "markdown",
   "metadata": {},
   "source": [
    "### Problem 6\n",
    "Create a scatter plot of $y$ versus $y2$.  Modify the figure size, the marker type and size, and the transparency."
   ]
  },
  {
   "cell_type": "code",
   "execution_count": null,
   "metadata": {},
   "outputs": [],
   "source": [
    "### Write the code here\n",
    "\n",
    "\n"
   ]
  },
  {
   "cell_type": "markdown",
   "metadata": {},
   "source": [
    "### 1.2.4 Advanced Formatting"
   ]
  },
  {
   "cell_type": "markdown",
   "metadata": {},
   "source": [
    "### Part 1 (Axis Range)"
   ]
  },
  {
   "cell_type": "markdown",
   "metadata": {},
   "source": [
    "We can also modify the range of the axis by using plt.axis([x_min, x_max, y_min, y_max])."
   ]
  },
  {
   "cell_type": "markdown",
   "metadata": {},
   "source": [
    "### Example 1.1"
   ]
  },
  {
   "cell_type": "code",
   "execution_count": null,
   "metadata": {},
   "outputs": [],
   "source": [
    "new_x = np.arange(100)\n",
    "new_y = np.random.randint(0,10,100)\n",
    "plt.plot(new_x,new_y)\n",
    "plt.axis([-10, 110, -10, 20]); # [x_min, x_max, y_min, y_max]"
   ]
  },
  {
   "cell_type": "markdown",
   "metadata": {},
   "source": [
    "### Part 2 (Log Scale)"
   ]
  },
  {
   "cell_type": "markdown",
   "metadata": {},
   "source": [
    "### Log Scale\n",
    "Let's look at an example where the data set covers several orders of magnitude ($e^{x}$).  When we plot the data in a linear scale, we lose some details."
   ]
  },
  {
   "cell_type": "markdown",
   "metadata": {},
   "source": [
    "### Example 2.1"
   ]
  },
  {
   "cell_type": "code",
   "execution_count": null,
   "metadata": {},
   "outputs": [],
   "source": [
    "new_x = np.arange(8)\n",
    "new_y = np.e**new_x\n",
    "plt.plot(new_x,new_y)\n",
    "plt.scatter(new_x,new_y);"
   ]
  },
  {
   "cell_type": "markdown",
   "metadata": {},
   "source": [
    "A solution is to plot the log transform of the data."
   ]
  },
  {
   "cell_type": "code",
   "execution_count": null,
   "metadata": {},
   "outputs": [],
   "source": [
    "plt.plot(new_x,np.log10(new_y));\n",
    "plt.scatter(new_x,np.log10(new_y));"
   ]
  },
  {
   "cell_type": "markdown",
   "metadata": {},
   "source": [
    "An alternative is to ask the plotting function to display in a log scale."
   ]
  },
  {
   "cell_type": "code",
   "execution_count": null,
   "metadata": {},
   "outputs": [],
   "source": [
    "plt.semilogy(new_x,new_y,c='r')\n",
    "plt.semilogy(new_x,new_y,'.',ms=15,c='r'); #it is in log10"
   ]
  },
  {
   "cell_type": "markdown",
   "metadata": {},
   "source": [
    "Observe that the y-axis displays the log values when you use semilogy().  Similarly we can plot the x-axis as a log scale (semilogx), and both axis as a log scale (loglog)."
   ]
  },
  {
   "cell_type": "markdown",
   "metadata": {},
   "source": [
    "### Example 2.2"
   ]
  },
  {
   "cell_type": "code",
   "execution_count": null,
   "metadata": {},
   "outputs": [],
   "source": [
    "plt.semilogx(new_x,new_y,c='r')\n",
    "plt.semilogx(new_x,new_y,'.',ms=15,c='r'); #it is in log10"
   ]
  },
  {
   "cell_type": "markdown",
   "metadata": {},
   "source": [
    "### Example 2.3"
   ]
  },
  {
   "cell_type": "code",
   "execution_count": null,
   "metadata": {},
   "outputs": [],
   "source": [
    "plt.loglog(new_x,new_y,c='r')\n",
    "plt.loglog(new_x,new_y,'.',ms=15,c='r'); #it is in log10"
   ]
  },
  {
   "cell_type": "markdown",
   "metadata": {},
   "source": [
    "### Part 3 (Subplots)"
   ]
  },
  {
   "cell_type": "markdown",
   "metadata": {},
   "source": [
    "Sometimes we want to create multiple plots together.  We can use plt.subplots(number of rows, number of columns, number of the plot which is 1-indexed)."
   ]
  },
  {
   "cell_type": "markdown",
   "metadata": {},
   "source": [
    "### Example 3.1"
   ]
  },
  {
   "cell_type": "code",
   "execution_count": null,
   "metadata": {},
   "outputs": [],
   "source": [
    "new_x = np.arange(20)\n",
    "new_y = np.random.randint(5,10,20)\n",
    "\n",
    "plt.figure(figsize=[10,3])\n",
    "\n",
    "plt.suptitle('Main Title',fontsize = 16)\n",
    "\n",
    "plt.subplot(1,2,1) # (number of rows, number of columns, number of plot)\n",
    "plt.plot(new_x,new_y)\n",
    "plt.title('Line Chart')\n",
    "\n",
    "plt.subplot(1,2,2)\n",
    "plt.bar(new_x,new_y)\n",
    "plt.title('Bar Chart');"
   ]
  },
  {
   "cell_type": "markdown",
   "metadata": {},
   "source": [
    "### Example 3.2"
   ]
  },
  {
   "cell_type": "code",
   "execution_count": null,
   "metadata": {},
   "outputs": [],
   "source": [
    "new_x = np.arange(20)\n",
    "new_y = np.random.randint(5,10,20)\n",
    "\n",
    "plt.figure(figsize=[10,6])\n",
    "\n",
    "plt.suptitle('Main Title',fontsize = 16)\n",
    "\n",
    "plt.subplot(2,1,1) # (number of rows, number of columns, number of plot)\n",
    "plt.plot(new_x,new_y)\n",
    "plt.title('Line Chart')\n",
    "\n",
    "plt.subplot(2,1,2)\n",
    "plt.bar(new_x,new_y)\n",
    "plt.title('Bar Chart');"
   ]
  },
  {
   "cell_type": "markdown",
   "metadata": {},
   "source": [
    "It is also possible to use the axis object to obtain the same results as above!"
   ]
  },
  {
   "cell_type": "code",
   "execution_count": null,
   "metadata": {},
   "outputs": [],
   "source": [
    "fig, ax = plt.subplots(2, 1, figsize=(10, 4))\n",
    "\n",
    "fig.set_figwidth(10)\n",
    "fig.set_figheight(6)\n",
    "\n",
    "fig.suptitle('Main Title',fontsize = 16)\n",
    "\n",
    "ax[0].plot(new_x,new_y)\n",
    "ax[0].set_title('Line Chart')\n",
    "\n",
    "ax[1].bar(new_x,new_y)\n",
    "ax[1].set_title('Bar Chart');"
   ]
  },
  {
   "cell_type": "markdown",
   "metadata": {},
   "source": [
    "### Problem 7\n",
    "Create a set of 4 plots in 2 rows and 2 columns.  The plots should contain:\n",
    "\n",
    "1) Top Left: Line Plot of $y$ versus $x$. Make the axis range from -3 to 13 in the x-axis, and -3 to 3 in the y-axis.\n",
    "\n",
    "2) Top Right: Plot of $y2$ using a dashed line.\n",
    "\n",
    "3) Bottom Left: Scatter Plot of $yˆ2$ versus $y$. With a title of 'y-squared'.\n",
    "\n",
    "4) Bottom Right: Scatter Plot of $yˆ2$ versus $y$ using log scale on the y-axis."
   ]
  },
  {
   "cell_type": "code",
   "execution_count": null,
   "metadata": {},
   "outputs": [],
   "source": [
    "### Write the code here\n",
    "\n",
    "\n"
   ]
  },
  {
   "cell_type": "markdown",
   "metadata": {},
   "source": [
    "### Part 4 (Removing the Axis)"
   ]
  },
  {
   "cell_type": "markdown",
   "metadata": {},
   "source": [
    "In some cases we may prefer to hide the axis with plt.axis()."
   ]
  },
  {
   "cell_type": "markdown",
   "metadata": {},
   "source": [
    "### Example 4.1"
   ]
  },
  {
   "cell_type": "code",
   "execution_count": null,
   "metadata": {},
   "outputs": [],
   "source": [
    "new_x = np.arange(100)\n",
    "new_y = np.random.randint(0,10,100)\n",
    "\n",
    "plt.figure(figsize=[10,3])\n",
    "\n",
    "plt.subplot(1,2,1)\n",
    "plt.plot(new_x,new_y)\n",
    "\n",
    "plt.subplot(1,2,2)\n",
    "plt.plot(new_x,new_y)\n",
    "plt.axis('off');"
   ]
  },
  {
   "cell_type": "markdown",
   "metadata": {},
   "source": [
    "### Part 5 (Modifying Defaults)"
   ]
  },
  {
   "cell_type": "markdown",
   "metadata": {},
   "source": [
    "### Example 5.1 (Axis Font Size)"
   ]
  },
  {
   "cell_type": "code",
   "execution_count": null,
   "metadata": {},
   "outputs": [],
   "source": [
    "new_x = np.arange(100)\n",
    "new_y = np.random.randint(0,10,100)\n",
    "\n",
    "# modify the default label size for the x and y ticks\n",
    "plt.rc('xtick', labelsize=20) \n",
    "plt.rc('ytick', labelsize=10) \n",
    "\n",
    "plt.plot(new_x,new_y);"
   ]
  },
  {
   "cell_type": "markdown",
   "metadata": {},
   "source": [
    "### Part 6 (Saving Images)"
   ]
  },
  {
   "cell_type": "markdown",
   "metadata": {},
   "source": [
    "Images can be exported into other formats so they can later be included into reports or slideshows.\n",
    "https://matplotlib.org/api/_as_gen/matplotlib.pyplot.savefig.html"
   ]
  },
  {
   "cell_type": "markdown",
   "metadata": {},
   "source": [
    "### Example 6.1"
   ]
  },
  {
   "cell_type": "code",
   "execution_count": null,
   "metadata": {},
   "outputs": [],
   "source": [
    "new_x = np.arange(100)\n",
    "new_y = np.random.randint(0,10,100)\n",
    "plt.plot(new_x,new_y)\n",
    "\n",
    "plt.savefig('testplot.png')"
   ]
  },
  {
   "cell_type": "markdown",
   "metadata": {},
   "source": [
    "### Part 7 (Including Text)"
   ]
  },
  {
   "cell_type": "markdown",
   "metadata": {},
   "source": [
    "### Example 7.1"
   ]
  },
  {
   "cell_type": "code",
   "execution_count": null,
   "metadata": {},
   "outputs": [],
   "source": [
    "new_x = np.arange(100)\n",
    "new_y = np.random.randint(0,10,100)+(0.05*new_x)**2\n",
    "plt.plot(new_x,new_y)\n",
    "plt.text(60,5,'Sample Text',fontsize = 20,backgroundcolor = 'k',color = 'white'); # x and y position of start of text"
   ]
  },
  {
   "cell_type": "markdown",
   "metadata": {},
   "source": [
    "## Matplotlib documentation\n",
    "\n",
    "- [Matplotlib](http://matplotlib.org)\n",
    "- [Gallery](http://matplotlib.org/gallery.html)\n",
    "- [Examples](http://matplotlib.org/examples)"
   ]
  },
  {
   "cell_type": "code",
   "execution_count": null,
   "metadata": {},
   "outputs": [],
   "source": []
  },
  {
   "cell_type": "markdown",
   "metadata": {},
   "source": [
    "### SOLUTIONS"
   ]
  },
  {
   "cell_type": "markdown",
   "metadata": {},
   "source": [
    "### Problem 1\n",
    "\n",
    "Create a dataset that contains the values from 0 to 10 in increments of 0.01 for the $x$ value, and $sin(2*pi*x)$ for the $y$ value.\n",
    "\n",
    "**Hint:** Look at numpy for the function sin()"
   ]
  },
  {
   "cell_type": "code",
   "execution_count": null,
   "metadata": {},
   "outputs": [],
   "source": [
    "step = 0.01\n",
    "x = np.arange(0,10+step,step)\n",
    "y = np.sin(2*np.pi*x)"
   ]
  },
  {
   "cell_type": "markdown",
   "metadata": {},
   "source": [
    "### Problem 2\n",
    "Using the same dataset from the previous problem, create a line chart displaying $y$ versus $x$.  Include a title and labels for the $x$ and $y$ axis.  Play with the format of the text."
   ]
  },
  {
   "cell_type": "code",
   "execution_count": null,
   "metadata": {},
   "outputs": [],
   "source": [
    "plt.plot(x,y)\n",
    "plt.title('Sine Wave Line Chart', fontsize= 20,family='serif')\n",
    "plt.xlabel('X-Axis', fontsize= 15,family='sans-serif')\n",
    "plt.ylabel('Y-Axis', fontsize= 15,family='sans-serif');"
   ]
  },
  {
   "cell_type": "markdown",
   "metadata": {},
   "source": [
    "### Problem 3\n",
    "Using the sine wave data set from the previous problem, create a line chart that contains grids.  In the $x$-axis we want 6 ticks at intervals of 2, i.e. 0, 2, 4 ..., 10.  On the $y$-axis we want two ticks, one at +1 and the other at -1 with the labels \"Peak\" and \"Valley\", respectively."
   ]
  },
  {
   "cell_type": "code",
   "execution_count": null,
   "metadata": {},
   "outputs": [],
   "source": [
    "plt.plot(x,y)\n",
    "plt.grid()\n",
    "ticks_x = np.linspace(0, 10, 6)\n",
    "ticks_y = [-1,1]\n",
    "vals_y = ['Valley','Peak']\n",
    "plt.xticks(ticks_x)\n",
    "plt.yticks(ticks_y, vals_y);"
   ]
  },
  {
   "cell_type": "markdown",
   "metadata": {},
   "source": [
    "### Problem 4\n",
    "Create a dataset that contains $2*cos(pi*x)$ for the $y2$ value.  Plot $y$ and $y2$ values versus $x$ on the same chart.  Assign unique linewidth, color, and style to each line.  Make sure to include a legend."
   ]
  },
  {
   "cell_type": "code",
   "execution_count": null,
   "metadata": {},
   "outputs": [],
   "source": [
    "y2 = 2*np.cos(np.pi*x)\n",
    "plt.plot(x,y,'g--',linewidth = 3)\n",
    "plt.plot(x,y2,color='r',linestyle=':',linewidth = 2)\n",
    "plt.legend(['Sine','Cosine']);"
   ]
  },
  {
   "cell_type": "markdown",
   "metadata": {},
   "source": [
    "### Problem 5\n",
    "Using the same dataset from the previous problem, create a histogram of variable $y$, and use 15 bins."
   ]
  },
  {
   "cell_type": "code",
   "execution_count": null,
   "metadata": {},
   "outputs": [],
   "source": [
    "plt.hist(y,15);"
   ]
  },
  {
   "cell_type": "markdown",
   "metadata": {},
   "source": [
    "### Problem 6\n",
    "Create a scatter plot of $y$ versus $y2$.  Modify the figure size, the marker type and size, and the transparency."
   ]
  },
  {
   "cell_type": "code",
   "execution_count": null,
   "metadata": {},
   "outputs": [],
   "source": [
    "plt.figure(figsize=[8,5])\n",
    "plt.scatter(y2,y,alpha = 0.1,marker = 'v',s=50);"
   ]
  },
  {
   "cell_type": "markdown",
   "metadata": {},
   "source": [
    "### Problem 7\n",
    "Create a set of 4 plots in 2 rows and 2 columns.  The plots should contain:\n",
    "\n",
    "1) Top Left: Line Plot of $y$ versus $x$. Make the axis range from -3 to 13 in the x-axis, and -3 to 3 in the y-axis.\n",
    "\n",
    "2) Top Right: Plot of $y2$ using a dashed line.\n",
    "\n",
    "3) Bottom Left: Scatter Plot of $yˆ2$ versus $y$. With a title of 'y-squared'.\n",
    "\n",
    "4) Bottom Right: Scatter Plot of $yˆ2$ versus $y$ using log scale on the y-axis."
   ]
  },
  {
   "cell_type": "code",
   "execution_count": null,
   "metadata": {},
   "outputs": [],
   "source": [
    "plt.figure(figsize = [10, 6])\n",
    "\n",
    "plt.subplot(2,2,1)\n",
    "plt.plot(x,y)\n",
    "plt.axis([-3,13,-3,3])\n",
    "\n",
    "plt.subplot(2,2,2)\n",
    "plt.plot(x,y2,'--')\n",
    "\n",
    "plt.subplot(2,2,3)\n",
    "plt.scatter(y,y**2)\n",
    "plt.title('y-squared')\n",
    "\n",
    "plt.subplot(2,2,4)\n",
    "plt.semilogy(y,y**2);"
   ]
  },
  {
   "cell_type": "code",
   "execution_count": null,
   "metadata": {},
   "outputs": [],
   "source": []
  }
 ],
 "metadata": {
  "kernelspec": {
   "display_name": "metis",
   "language": "python",
   "name": "metis"
  },
  "language_info": {
   "codemirror_mode": {
    "name": "ipython",
    "version": 3
   },
   "file_extension": ".py",
   "mimetype": "text/x-python",
   "name": "python",
   "nbconvert_exporter": "python",
   "pygments_lexer": "ipython3",
   "version": "3.6.8"
  }
 },
 "nbformat": 4,
 "nbformat_minor": 2
}
