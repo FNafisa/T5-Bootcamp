{
 "cells": [
  {
   "cell_type": "markdown",
   "metadata": {},
   "source": [
    "### Problem 1:\n",
    "\n",
    "If $\\pmb a = [1, 3]$ and $\\pmb b = [5, 2]$ and $c\\pmb = 3$, calculate:\n",
    "\n",
    "a) $\\pmb a + \\pmb b$ \n",
    "\n",
    "b) $c\\pmb a$ \n",
    "\n",
    "c) $c\\pmb b$\n",
    "\n",
    "d) $c (\\pmb a+ \\pmb b)$\n",
    "\n",
    "e) $c (\\pmb b- \\pmb a)$\n"
   ]
  },
  {
   "cell_type": "markdown",
   "metadata": {},
   "source": [
    "### Problem 2:\n",
    "\n",
    "What are the norm and unit vectors for:\n",
    "\n",
    "a) $[1, 3]$ \n",
    "\n",
    "b) $[2, 6]$ \n",
    "\n",
    "c) $[-1, -3]$ \n",
    "\n",
    "d) $[1, -3]$ \n",
    "\n",
    "e) $[1, 2, 3]$ \n",
    "\n",
    "f) $[1, 2, 3, 4]$ "
   ]
  },
  {
   "cell_type": "code",
   "execution_count": null,
   "metadata": {},
   "outputs": [],
   "source": []
  }
 ],
 "metadata": {
  "kernelspec": {
   "display_name": "Python 3",
   "language": "python",
   "name": "python3"
  },
  "language_info": {
   "codemirror_mode": {
    "name": "ipython",
    "version": 3
   },
   "file_extension": ".py",
   "mimetype": "text/x-python",
   "name": "python",
   "nbconvert_exporter": "python",
   "pygments_lexer": "ipython3",
   "version": "3.7.3"
  }
 },
 "nbformat": 4,
 "nbformat_minor": 2
}
