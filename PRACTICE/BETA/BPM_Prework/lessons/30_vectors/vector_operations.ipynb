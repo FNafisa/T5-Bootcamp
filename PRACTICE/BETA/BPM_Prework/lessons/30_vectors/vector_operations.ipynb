{
 "cells": [
  {
   "cell_type": "markdown",
   "metadata": {},
   "source": [
    "# Vector Operations"
   ]
  },
  {
   "cell_type": "markdown",
   "metadata": {},
   "source": [
    "__Purpose:__ We will learn vector operations.\n",
    "\n",
    "__At the end of this lecture you will be able to:__\n",
    "> 1. Work with vector addition and scalar multiplication\n",
    "> 2. Work with vector linear combinations\n",
    "> 3. Learn about vector norms"
   ]
  },
  {
   "cell_type": "markdown",
   "metadata": {},
   "source": [
    "### 1.1.1 Operations with Vectors (Vector Addition and Scalar Multiplication):"
   ]
  },
  {
   "cell_type": "markdown",
   "metadata": {},
   "source": [
    "__Overview:__ \n",
    "- Vectors are very versatile as they allow operations on other vectors as well as scalars\n",
    "- The main vector operations are described below:\n",
    "> a. Addition of Vectors: $\\pmb a + \\pmb b = (a_1 + b_1, a_2 + b_2, a_3 + b_3)$<br>\n",
    "> b. Subtraction of Vectors: $\\pmb a - \\pmb b = (a_1 - b_1, a_2 - b_2, a_3 - b_3)$<br>\n",
    "> c. Multiplication of Vectors: (covered later in Dot Product and Cross Product)<br>\n",
    "> d. Multiplication of Vector by a Scalar: $u\\pmb a = (ua_1, ua_2, ua_3)$ \n",
    "\n",
    "- Here we will primarily focus on a. and d. which are governed by the following properties (first four deal with vector addition and second four deal with scalar multiplication of a vector): \n",
    "> 1. $\\pmb a + \\pmb b = \\pmb b + \\pmb a$ (Commutativity of addition)\n",
    "> 2. $\\pmb a + (\\pmb b + \\pmb c) = (\\pmb a + \\pmb b) + \\pmb c$ (Associativity of addition)\n",
    "> 3. $\\pmb a + \\pmb 0 = \\pmb a$ (Identity element of addition)\n",
    "> 4. $\\pmb a + (-\\pmb a) = \\pmb 0$ (Inverse elements of addition) \n",
    "> 5. $c(\\pmb a + \\pmb b) = c\\pmb a + c\\pmb b$ (Distributivity of scalar multiplication with respect to vector addition)\n",
    "> 6. $(c + d)\\pmb a = c\\pmb a + d\\pmb a$ (Distributivity of scalar multiplication with respect to scalar addition)\n",
    "> 7. $(cd)\\pmb a = c(d\\pmb a)$ (Compatibility of scalar multiplication with scalar multiplication) \n",
    "> 8. $1\\pmb a = \\pmb a$ (Identity element of scalar multiplication) \n",
    "\n",
    "__Helpful Points:__ \n",
    "1. We can understand addition of vectors and multiplication of vectors by scalars (our two main vector operations) both algebraically and geometrically\n",
    "\n",
    "__Practice:__ Examples of Operations with Vectors in Python "
   ]
  },
  {
   "cell_type": "code",
   "execution_count": null,
   "metadata": {},
   "outputs": [],
   "source": [
    "import numpy as np \n",
    "from scipy import linalg \n",
    "import math \n",
    "import matplotlib.pylab as plt\n",
    "\n",
    "%matplotlib inline"
   ]
  },
  {
   "cell_type": "markdown",
   "metadata": {},
   "source": [
    "### Example 1 (Addition of Vectors - Algebraically):"
   ]
  },
  {
   "cell_type": "markdown",
   "metadata": {},
   "source": [
    "If $\\pmb a, \\pmb b \\in \\mathbb R^2$, and $\\pmb a = [a_1, a_2]$ and $\\pmb b = [b_1, b_2]$, then $\\pmb a + \\pmb b = [(a_1+b_1), (a_2+b_2)]$ "
   ]
  },
  {
   "cell_type": "code",
   "execution_count": null,
   "metadata": {},
   "outputs": [],
   "source": [
    "a = np.array([1,4])\n",
    "b = np.array([2,1])\n",
    "c = np.array([3,5])\n",
    "zero = np.zeros(2)"
   ]
  },
  {
   "cell_type": "code",
   "execution_count": null,
   "metadata": {},
   "outputs": [],
   "source": [
    "a + b # (1+2, 4+1)"
   ]
  },
  {
   "cell_type": "code",
   "execution_count": null,
   "metadata": {},
   "outputs": [],
   "source": [
    "c + a # (1+3, 4+5)"
   ]
  },
  {
   "cell_type": "code",
   "execution_count": null,
   "metadata": {
    "scrolled": true
   },
   "outputs": [],
   "source": [
    "b + c # (2+3, 1+5)"
   ]
  },
  {
   "cell_type": "markdown",
   "metadata": {},
   "source": [
    "### Example 2 (Explore Vector Addition Properties):"
   ]
  },
  {
   "cell_type": "code",
   "execution_count": null,
   "metadata": {},
   "outputs": [],
   "source": [
    "print(\"a + b is {} and b + a is {}\".format(a + b, b + a)) # property 1"
   ]
  },
  {
   "cell_type": "code",
   "execution_count": null,
   "metadata": {
    "scrolled": true
   },
   "outputs": [],
   "source": [
    "print(\"a + (b+c) is {} and (a + b) + c is {}\".format(a + (b+c), (a + b) + c)) # property 2"
   ]
  },
  {
   "cell_type": "code",
   "execution_count": null,
   "metadata": {
    "scrolled": true
   },
   "outputs": [],
   "source": [
    "print(\"a + 0 is {} and a is {}\".format(a + zero, a)) # property 3"
   ]
  },
  {
   "cell_type": "code",
   "execution_count": null,
   "metadata": {
    "scrolled": false
   },
   "outputs": [],
   "source": [
    "print(\"a + -a is {} and 0 is {}\".format(a + -a, zero)) # property 4"
   ]
  },
  {
   "cell_type": "markdown",
   "metadata": {},
   "source": [
    "### Example 3 (Addition of Vectors - Geometrically):"
   ]
  },
  {
   "cell_type": "markdown",
   "metadata": {},
   "source": [
    "Vector addition can be visualized in geometric form quite easily in two dimensions. To add two vectors, we have to move the tail of vector a to the tip of vector b. Then we can draw a line from the tail of vector b to the tip of vector a which becomes the resultant (or additive) vector. See below for examples"
   ]
  },
  {
   "cell_type": "code",
   "execution_count": null,
   "metadata": {
    "scrolled": true
   },
   "outputs": [],
   "source": [
    "# plot a (1, 4), b (2, 1) and a + b (3, 5)\n",
    "soa = np.array([[0, 0, 1, 4], [0, 0, 2, 1], [0, 0, 3, 5]])\n",
    "X, Y, U, V = zip(*soa)\n",
    "plt.figure()\n",
    "ax = plt.gca()\n",
    "ax.quiver(X, Y, U, V, angles='xy', scale_units='xy', scale=1, color = [\"red\", \"blue\", \"black\"])\n",
    "ax.set_xlim([0, 6])\n",
    "ax.set_ylim([0, 6])\n",
    "plt.title('Vector Addition (a = red, b = blue, a + b = black)')\n",
    "plt.xlabel('$x_1$', fontsize = 20)\n",
    "plt.ylabel('$x_2$', fontsize = 20)\n",
    "plt.grid()"
   ]
  },
  {
   "cell_type": "markdown",
   "metadata": {},
   "source": [
    "We created this plot in such a way that the black vector is the added vector of the red and blue vector. How does this make sense? Recall our instructions: we need to shift either the red or blue vector so that they are \"tip-to-tail\" and then look at the resultant vector. Remember that the vectors can shift anywhere in the 2-d space:"
   ]
  },
  {
   "cell_type": "code",
   "execution_count": null,
   "metadata": {
    "scrolled": true
   },
   "outputs": [],
   "source": [
    "# shift a so that it begins at the tip of b (2,1)\n",
    "soa = np.array([[2, 1, 1, 4], [0, 0, 2, 1], [0, 0, 3, 5]])\n",
    "X, Y, U, V = zip(*soa)\n",
    "plt.figure()\n",
    "ax = plt.gca()\n",
    "ax.quiver(X, Y, U, V, angles='xy', scale_units='xy', scale=1, color = [\"red\", \"blue\", \"black\"])\n",
    "ax.set_xlim([0, 6])\n",
    "ax.set_ylim([0, 6])\n",
    "plt.title('Vector Addition (a = red, b = blue, a + b = black)')\n",
    "plt.xlabel('$x_1$', fontsize = 20)\n",
    "plt.ylabel('$x_2$', fontsize = 20)\n",
    "plt.grid()"
   ]
  },
  {
   "cell_type": "markdown",
   "metadata": {},
   "source": [
    "Now, if we observe the resultant vector which starts from the tail of blue to the tip of red, it clearly makes sense how this vector is the addition of the blue and red vector. What if we were to shift the blue vector instead of the red vector? "
   ]
  },
  {
   "cell_type": "code",
   "execution_count": null,
   "metadata": {
    "scrolled": true
   },
   "outputs": [],
   "source": [
    "# shift b so that it begins at the tip of a (1,4)\n",
    "soa = np.array([[0, 0, 1, 4], [1, 4, 2, 1], [0, 0, 3, 5]])\n",
    "X, Y, U, V = zip(*soa)\n",
    "plt.figure()\n",
    "ax = plt.gca()\n",
    "ax.quiver(X, Y, U, V, angles='xy', scale_units='xy', scale=1, color = [\"red\", \"blue\", \"black\"])\n",
    "ax.set_xlim([0, 6])\n",
    "ax.set_ylim([0, 6])\n",
    "plt.title('Vector Addition (a = red, b = blue, a + b = black)')\n",
    "plt.xlabel('$x_1$', fontsize = 20)\n",
    "plt.ylabel('$x_2$', fontsize = 20)\n",
    "plt.grid()"
   ]
  },
  {
   "cell_type": "markdown",
   "metadata": {},
   "source": [
    "Again, it is clear how the black vector is the addition of the other two vectors. We also observe that it doesn't matter which vector we shift, the result will be the same (recall property 1 above). "
   ]
  },
  {
   "cell_type": "markdown",
   "metadata": {},
   "source": [
    "Notes:\n",
    "\n",
    "- It is perfectly okay to \"shift\" vectors to different points in the real coordinate space, as long as you maintain their direction and length\n",
    "- If the direction and/or length is changed, it is no longer the same vector\n",
    "- We saw earlier in our discussion of the geometric interpreation of vectors that vectors do NOT have to be drawn with their tip at the origin and now we see why this is useful "
   ]
  },
  {
   "cell_type": "markdown",
   "metadata": {},
   "source": [
    "### Example 4 (Multiplication of a Vector by a Scalar - Algebraically):"
   ]
  },
  {
   "cell_type": "markdown",
   "metadata": {},
   "source": [
    "If $\\pmb a \\in \\mathbb R^2$, $\\pmb c \\in \\mathbb R$, and $\\pmb a = [a_1, a_2]$, then $u\\pmb a = [(u*a_1), (u*a_2)]$"
   ]
  },
  {
   "cell_type": "code",
   "execution_count": null,
   "metadata": {},
   "outputs": [],
   "source": [
    "a = np.array([2,3])\n",
    "b = np.array([3,1])\n",
    "c = 2\n",
    "d = -3"
   ]
  },
  {
   "cell_type": "code",
   "execution_count": null,
   "metadata": {},
   "outputs": [],
   "source": [
    "c*a # (2*2, 2*3)"
   ]
  },
  {
   "cell_type": "markdown",
   "metadata": {},
   "source": [
    "### Example 5 (Explore Scalar Multiplication Properties):"
   ]
  },
  {
   "cell_type": "code",
   "execution_count": null,
   "metadata": {},
   "outputs": [],
   "source": [
    "print(\"c(a + b) is {} and ca + cb is {}\".format(c*(a + b), c*a + c*b)) # property 5"
   ]
  },
  {
   "cell_type": "code",
   "execution_count": null,
   "metadata": {
    "scrolled": true
   },
   "outputs": [],
   "source": [
    "print(\"(c + d)a is {} and ca + da is {}\".format((c+d)*a, c*a + d*a)) # property 6"
   ]
  },
  {
   "cell_type": "code",
   "execution_count": null,
   "metadata": {
    "scrolled": true
   },
   "outputs": [],
   "source": [
    "print(\"(cd)a is {} and c(da) is {}\".format((c*d)*a, c*(d*a))) # property 7"
   ]
  },
  {
   "cell_type": "code",
   "execution_count": null,
   "metadata": {
    "scrolled": false
   },
   "outputs": [],
   "source": [
    "print(\"1*a is {} and a is {}\".format(1*a, a)) # property 8"
   ]
  },
  {
   "cell_type": "markdown",
   "metadata": {},
   "source": [
    "### Example 6 (Scalar Multiplication - Geometrically):"
   ]
  },
  {
   "cell_type": "markdown",
   "metadata": {},
   "source": [
    "Vector multiplication with a scalar can be visualized in geometric form quite easily in two dimensions. To multiply a vector by a scalar, you can think of this as \"shrinking\" or \"expanding\" the vector, based on the magnitude of the scalar. For example, if a vector is multiplied by the scalar 2, the vector doubles in size. If it is multipled by the scalar 0.25, it shrinks to a quarter of its original size. "
   ]
  },
  {
   "cell_type": "code",
   "execution_count": null,
   "metadata": {},
   "outputs": [],
   "source": [
    "a * c"
   ]
  },
  {
   "cell_type": "code",
   "execution_count": null,
   "metadata": {
    "scrolled": false
   },
   "outputs": [],
   "source": [
    "# multiply the vector a by the scalar c to get the result of ac\n",
    "soa = np.array([[0, 0, 2, 3], [0, 0, 4, 6]])\n",
    "X, Y, U, V = zip(*soa)\n",
    "plt.figure()\n",
    "ax = plt.gca()\n",
    "ax.quiver(X, Y, U, V, angles='xy', scale_units='xy', scale=1, color = [\"red\", \"black\"])\n",
    "ax.set_xlim([0, 6])\n",
    "ax.set_ylim([0, 6])\n",
    "plt.title('Scalar Multiplication (a = red, c * a = black)')\n",
    "plt.xlabel('$x_1$', fontsize = 20)\n",
    "plt.ylabel('$x_2$', fontsize = 20)\n",
    "plt.grid()"
   ]
  },
  {
   "cell_type": "markdown",
   "metadata": {},
   "source": [
    "We can see that the black vector is in the same direction as the red vector and exactly double the size of the red line since we multipled the red vector by 2. "
   ]
  },
  {
   "cell_type": "code",
   "execution_count": null,
   "metadata": {},
   "outputs": [],
   "source": [
    "a * d"
   ]
  },
  {
   "cell_type": "code",
   "execution_count": null,
   "metadata": {
    "scrolled": true
   },
   "outputs": [],
   "source": [
    "# multiply the vector a by the scalar d to get the result of ad\n",
    "soa = np.array([[0, 0, 2, 3], [0, 0, -6, -9]])\n",
    "X, Y, U, V = zip(*soa)\n",
    "plt.figure()\n",
    "ax = plt.gca()\n",
    "ax.quiver(X, Y, U, V, angles='xy', scale_units='xy', scale=1, color = [\"red\", \"black\"])\n",
    "ax.set_xlim([-10, 10])\n",
    "ax.set_ylim([-10, 10])\n",
    "plt.title('Scalar Multiplication (a = red, d * a = black)')\n",
    "plt.xlabel('$x_1$', fontsize = 20)\n",
    "plt.ylabel('$x_2$', fontsize = 20)\n",
    "plt.grid()"
   ]
  },
  {
   "cell_type": "markdown",
   "metadata": {},
   "source": [
    "We can see that the black vector is in the opposite direction as the red vector and exactly triple the size of the red line since we multipled the red vector by -3. "
   ]
  },
  {
   "cell_type": "markdown",
   "metadata": {},
   "source": [
    "### Problem 1 \n",
    "Create 3 vectors and 1 scalar and call them $\\pmb a$, $\\pmb b$, $\\pmb d$, and $c$, respectively. Show that the 8 properties of vector addition and scalar multiplication with a vector hold.\n",
    "\n",
    "Initialize the vectors and scalar as the following:\n",
    "- $\\pmb a = [1,2,1]$\n",
    "- $\\pmb b = [3,4,5]$\n",
    "- $\\pmb d = [2,3,5]$\n",
    "- $c = 3$"
   ]
  },
  {
   "cell_type": "code",
   "execution_count": null,
   "metadata": {},
   "outputs": [],
   "source": [
    "# write your code here \n",
    "\n",
    "\n",
    "\n"
   ]
  },
  {
   "cell_type": "markdown",
   "metadata": {},
   "source": [
    "### 1.1.2 Operations with Vectors (Linear Combinations):"
   ]
  },
  {
   "cell_type": "markdown",
   "metadata": {},
   "source": [
    "__Overview:__ \n",
    "- __[Linear Combination](https://en.wikipedia.org/wiki/Linear_combination):__ Linear Combination is the combination of addition of vectors and scalar multiplication. It involves summing vectors, where each vector is multiplied by a set of scalar constants\n",
    "- It is called a __linear__ combination for a reason - the only operations involved are simple arithmetic (addition, subtraction, multiplication, and dvision). We are not, for example, applying an exponent to a vector which would make it a __non-linear__ combination \n",
    "- In general, if we have a set of 3 vectors: ${\\pmb a, \\pmb b, \\pmb c}$, where $\\pmb a, \\pmb b, \\pmb c \\in \\mathbb R^n$, we can add the vectors and multiply each vector by a set of coefficients:  ${c_1\\pmb a + c_2\\pmb b + c_2\\pmb c}$, where $c_1, c_2, c_3 \\in \\mathbb R$, which is known as a linear combination of those vectors \n",
    "- To apply the scalar term as a multiplier and the addition terms as a sum, we can follow the process outlined above with vector addition and scalar multiplication \n",
    "\n",
    "__Helpful Points:__\n",
    "1. Linear Combinations are at the root of many other operations such as solving linear equations, dot product, and many others \n",
    "2. Linear Combinations can be understood both algebraically and geometrically which will be explored below\n",
    "\n",
    "__Practice:__ Examples of Linear Combinations in Python "
   ]
  },
  {
   "cell_type": "markdown",
   "metadata": {},
   "source": [
    "### Example 1 (Linear Combinations - Algebraically):"
   ]
  },
  {
   "cell_type": "markdown",
   "metadata": {},
   "source": [
    "If $\\pmb a, \\pmb b \\in \\mathbb R^2$, and $\\pmb a = [a_1, a_2]$ and $\\pmb b = [b_1, b_2]$, and $c_1, c_2 \\in \\mathbb R^2$, then $c_1\\pmb a + c_2\\pmb b = [(c_1*a_1+c_2*b_1), (c_1*a_2+c_2*b_2)]$ "
   ]
  },
  {
   "cell_type": "code",
   "execution_count": null,
   "metadata": {},
   "outputs": [],
   "source": [
    "a = np.array([2,3])\n",
    "b = np.array([3,1])\n",
    "c_1 = 2\n",
    "c_2 = -3"
   ]
  },
  {
   "cell_type": "code",
   "execution_count": null,
   "metadata": {},
   "outputs": [],
   "source": [
    "c_1*a + c_2*b # (2*2 - 3*3, 2*3 - 3*1)"
   ]
  },
  {
   "cell_type": "code",
   "execution_count": null,
   "metadata": {},
   "outputs": [],
   "source": [
    "c_2*a + c_1*b # (-3*2 + 2*3, -3*3 + 2*1)"
   ]
  },
  {
   "cell_type": "markdown",
   "metadata": {},
   "source": [
    "### Example 2 (Linear Combinations - Geometrically):"
   ]
  },
  {
   "cell_type": "code",
   "execution_count": null,
   "metadata": {
    "scrolled": true
   },
   "outputs": [],
   "source": [
    "# plot a, b, c_1a, c_2b\n",
    "soa = np.array([[0, 0, 2, 3], [0, 0, 3, 1], [0, 0, 4, 6], [0, 0, -9, -3]])\n",
    "X, Y, U, V = zip(*soa)\n",
    "plt.figure()\n",
    "ax = plt.gca()\n",
    "ax.quiver(X, Y, U, V, angles='xy', scale_units='xy', scale=1, color = [\"red\", \"black\", \"blue\", \"green\"])\n",
    "ax.set_xlim([-10, 10])\n",
    "ax.set_ylim([-10, 10])\n",
    "plt.title('Linear Combination (a = red, b = black, c_1a = blue, c_2b = green)')\n",
    "plt.xlabel('$x_1$', fontsize = 20)\n",
    "plt.ylabel('$x_2$', fontsize = 20)\n",
    "plt.grid()"
   ]
  },
  {
   "cell_type": "markdown",
   "metadata": {},
   "source": [
    "Here, we can observe the two original vectors (red and black) as well as the vectors that are a result of scalar multiplication (blue and green)"
   ]
  },
  {
   "cell_type": "code",
   "execution_count": null,
   "metadata": {
    "scrolled": true
   },
   "outputs": [],
   "source": [
    "# plot c_1a, c_2b, and c_1a + c_2b\n",
    "soa = np.array([[0, 0, 4, 6], [0, 0, -9, -3], [0, 0, -5, 3]])\n",
    "X, Y, U, V = zip(*soa)\n",
    "plt.figure()\n",
    "ax = plt.gca()\n",
    "ax.quiver(X, Y, U, V, angles='xy', scale_units='xy', scale=1, color = [\"blue\", \"green\", \"pink\"])\n",
    "ax.set_xlim([-10, 10])\n",
    "ax.set_ylim([-10, 10])\n",
    "plt.title('Linear Combination (c_1a = blue c_2b = green, c_1a + c_2b = pink)')\n",
    "plt.xlabel('$x_1$', fontsize = 20)\n",
    "plt.ylabel('$x_2$', fontsize = 20)\n",
    "plt.grid()"
   ]
  },
  {
   "cell_type": "markdown",
   "metadata": {},
   "source": [
    "Here, we can be observe the result of the linear combination which is the pink vector. However, similar to our discussion above in vector addition, it is not immediately clear how the pink vector is the sum of the blue and green vector. To make this more ovious, we need to shift either the blue or green vector (see below):"
   ]
  },
  {
   "cell_type": "code",
   "execution_count": null,
   "metadata": {
    "scrolled": true
   },
   "outputs": [],
   "source": [
    "# plot c_1a, c_2b, and c_1a + c_2b (but shift c_2b vector)\n",
    "soa = np.array([[0, 0, 4, 6], [4, 6, -9, -3], [0, 0, -5, 3]])\n",
    "X, Y, U, V = zip(*soa)\n",
    "plt.figure()\n",
    "ax = plt.gca()\n",
    "ax.quiver(X, Y, U, V, angles='xy', scale_units='xy', scale=1, color = [\"blue\", \"green\", \"pink\"])\n",
    "ax.set_xlim([-10, 10])\n",
    "ax.set_ylim([-10, 10])\n",
    "plt.title('Linear Combination (c_1a = blue c_2b = green, c_1a + c_2b = pink)')\n",
    "plt.xlabel('$x_1$', fontsize = 20)\n",
    "plt.ylabel('$x_2$', fontsize = 20)\n",
    "plt.grid()"
   ]
  },
  {
   "cell_type": "markdown",
   "metadata": {},
   "source": [
    "It is much clearer now that the pink vector is the addition of the green and blue vector. This is all a linear combination is (the combination of multiplication by a scalar and vector addition)."
   ]
  },
  {
   "cell_type": "markdown",
   "metadata": {},
   "source": [
    "### 1.1.3 Operations with Vectors (Vector Norm):"
   ]
  },
  {
   "cell_type": "markdown",
   "metadata": {},
   "source": [
    "__Overview:__ \n",
    "- __[Norm](https://en.wikipedia.org/wiki/Norm_(mathematics)):__ The norm is simply a function that assigns a positive length to each vector. There are many norms, but we will focus only on the Euclidean Norm\n",
    "- The Euclidean norm assigns each vector a length equal to the distance from the origin to the tip of the vector (which is why Euclidean norm is referred to as the __magnitude__ of the vector)\n",
    "- In an $n$-dimensional space ($\\mathbb R^n$), the Euclidean norm of an arbitrary vector $\\pmb x = (x_1, x_2, x_3, ..., x_n)$ is given by the following formula:<br>\n",
    "\n",
    "<center> $\\| \\pmb x \\| = \\sqrt{x_1^2 + x_2^2 + ... + x_n^2}$ </center>\n",
    "\n",
    "- This formula follows from the __[Pythagorean Theorem](https://en.wikipedia.org/wiki/Pythagorean_theorem)__\n",
    "\n",
    "\n",
    "__Helpful Points:__\n",
    "1. Euclidean norm is also called the __Euclidean Length__ or $\\pmb L^2$ __distance__ (the power refers to the fact that each element is squared)\n",
    "2. The norm is a scalar quantity, so it will return one number \n",
    "3. The `numpy.linalg` and `scipy.linalg` modules will help us calculate vector norms\n",
    "\n",
    "__Practice:__ Examples of Vector Norm in Python "
   ]
  },
  {
   "cell_type": "markdown",
   "metadata": {},
   "source": [
    "### Example 1 (Understanding Euclidean Norm Formula):"
   ]
  },
  {
   "cell_type": "code",
   "execution_count": null,
   "metadata": {},
   "outputs": [],
   "source": [
    "c = np.array([3,4])\n",
    "a = np.array([3,0])\n",
    "b = np.array([0,4])"
   ]
  },
  {
   "cell_type": "code",
   "execution_count": null,
   "metadata": {
    "scrolled": false
   },
   "outputs": [],
   "source": [
    "# plot c, a, and b (shifted)\n",
    "soa = np.array([[0, 0, 3, 4], [0, 0, 3, 0], [3, 0, 0, 4]])\n",
    "X, Y, U, V = zip(*soa)\n",
    "plt.figure()\n",
    "ax = plt.gca()\n",
    "ax.quiver(X, Y, U, V, angles='xy', scale_units='xy', scale=1, color = [\"blue\", \"red\", \"green\"])\n",
    "ax.set_xlim([-1, 5])\n",
    "ax.set_ylim([-1, 5])\n",
    "plt.title('Vector Norm (c = blue, a = red, b = green)')\n",
    "plt.xlabel('$x_1$', fontsize = 20)\n",
    "plt.ylabel('$x_2$', fontsize = 20)\n",
    "plt.grid()"
   ]
  },
  {
   "cell_type": "markdown",
   "metadata": {},
   "source": [
    "The blue vector can be broken down into two \"component\" vectors (the red vector is the x component and the green vector is the y component). The point (3,4) defines the blue vector and is also called the coordinates or elements of the vector. Therefore, if we wanted to calculate the length of the blue vector, how would we do it using pythagorean theorem? \n",
    "\n",
    "- Recall, the theorem: $c^2 = a^2 + b^2$, therefore to get the length of the resultant, we simply take the square root of the sum of the squared lengths of the two components:\n",
    "<center> $\\| \\pmb c \\| = \\sqrt{\\| \\pmb a \\|^2 + \\| \\pmb b \\|^2}$ </center>\n",
    "- We can expand this formula for the squared lengths of $\\pmb a$ and $\\pmb b$:\n",
    "<center> $\\| \\pmb a \\|^2 = (\\sqrt{a_1^2 + a_2^2})^2$ </center>\n",
    "<center> $\\| \\pmb b \\|^2 = (\\sqrt{b_1^2 + b_2^2})^2$ </center>\n",
    "- Plugging this back in the formula of the Pythagorean formula:\n",
    "<center> $\\| \\pmb c \\| = \\sqrt{(\\sqrt{a_1^2 + a_2^2})^2 + (\\sqrt{b_1^2 + b_2^2})^2}$ </center>\n",
    "- We can remove the square root since the square cancels out the square roots:\n",
    "<center> $\\| \\pmb c \\| = \\sqrt{a_1^2 + a_2^2 + b_1^2 + b_2^2}$ </center>\n",
    "- We can plug in values and we will get the following:\n",
    "<center> $\\| \\pmb c \\| = \\sqrt{3^2 + 0^2 + 0^2 + 4^2}$ </center>\n",
    "- Notice this is the same as the original formula:\n",
    "<center> $\\| \\pmb x \\| = \\sqrt{3^2 + 4^2}$ </center>"
   ]
  },
  {
   "cell_type": "markdown",
   "metadata": {},
   "source": [
    "### Example 2 (Calculating Vector Norms - Manually):"
   ]
  },
  {
   "cell_type": "code",
   "execution_count": null,
   "metadata": {
    "scrolled": false
   },
   "outputs": [],
   "source": [
    "# plot a, b, and c\n",
    "soa = np.array([[0, 0, 1, 2], [0, 0, 3, 4], [0, 0, 1, 0]])\n",
    "X, Y, U, V = zip(*soa)\n",
    "plt.figure()\n",
    "ax = plt.gca()\n",
    "ax.quiver(X, Y, U, V, angles='xy', scale_units='xy', scale=1, color = [\"blue\", \"green\", \"red\"])\n",
    "ax.set_xlim([-1, 5])\n",
    "ax.set_ylim([-1, 5])\n",
    "plt.title('Vector Norm (a = blue, b = green, c = red)')\n",
    "plt.xlabel('$x_1$', fontsize = 20)\n",
    "plt.ylabel('$x_2$', fontsize = 20)\n",
    "plt.grid()"
   ]
  },
  {
   "cell_type": "markdown",
   "metadata": {},
   "source": [
    "The Euclidean Vector Norms of the blue, green, and red vector is simply the length of the vectors. We can calculate the vector lengths manually using the formula written above: \n",
    "\n",
    "> 1. Vector a: $\\| \\pmb a \\| = \\sqrt{1^2 + 2^2} = \\sqrt{5} \\approx 2.24 $\n",
    "> 2. Vector b: $\\| \\pmb b \\| = \\sqrt{3^2 + 4^2} = \\sqrt{25} = 5$\n",
    "> 3. Vector c: $\\| \\pmb c \\| = \\sqrt{1^2 + 0^2} = \\sqrt{1} = 1$"
   ]
  },
  {
   "cell_type": "markdown",
   "metadata": {},
   "source": [
    "The fact that vector $\\pmb c$ had Euclidean norm (or length) equal to 1 is important. This means that the vector had unit length, therefore we would consider this vector a __Unit Vector__. We can also make any vector a unit vector by dividing the vector by its length. For example, we can make both vectors $\\pmb a$ and $\\pmb b$ unit vectors, by dividing by their lengths:\n",
    "\n",
    "- $\\pmb a = \\frac{\\pmb a}{\\| \\pmb a \\|} = [\\frac{1}{2.25}, \\frac{2}{2.25}]$ and now if you take the length of this normalized vector, the value will be 1\n",
    "- $\\pmb b = \\frac{\\pmb b}{\\| \\pmb b \\|} = [\\frac{3}{5}, \\frac{4}{5}]$ and now if you take the length of this normalized vector, the value will be 1"
   ]
  },
  {
   "cell_type": "markdown",
   "metadata": {},
   "source": [
    "### Example 3 (Calculating Vector Norms - Programmatically):"
   ]
  },
  {
   "cell_type": "code",
   "execution_count": null,
   "metadata": {},
   "outputs": [],
   "source": [
    "a = np.array([1,2])\n",
    "b = np.array([3,4])\n",
    "c = np.array([1,0])"
   ]
  },
  {
   "cell_type": "markdown",
   "metadata": {},
   "source": [
    "### Example 3.1 (Using `numpy.linalg`):"
   ]
  },
  {
   "cell_type": "code",
   "execution_count": null,
   "metadata": {},
   "outputs": [],
   "source": [
    "np.linalg.norm(a)"
   ]
  },
  {
   "cell_type": "code",
   "execution_count": null,
   "metadata": {},
   "outputs": [],
   "source": [
    "np.linalg.norm(b)"
   ]
  },
  {
   "cell_type": "code",
   "execution_count": null,
   "metadata": {},
   "outputs": [],
   "source": [
    "np.linalg.norm(c)"
   ]
  },
  {
   "cell_type": "markdown",
   "metadata": {},
   "source": [
    "### Example 3.2 (Using `scipy.linalg`):"
   ]
  },
  {
   "cell_type": "code",
   "execution_count": null,
   "metadata": {},
   "outputs": [],
   "source": [
    "linalg.norm(a)"
   ]
  },
  {
   "cell_type": "code",
   "execution_count": null,
   "metadata": {},
   "outputs": [],
   "source": [
    "linalg.norm(b)"
   ]
  },
  {
   "cell_type": "code",
   "execution_count": null,
   "metadata": {},
   "outputs": [],
   "source": [
    "linalg.norm(c)"
   ]
  },
  {
   "cell_type": "markdown",
   "metadata": {},
   "source": [
    "### Problem 2:\n",
    "\n",
    "Which of the following points $\\pmb a = [5,3]$ and $\\pmb b = [-3,1]$ is closer to $\\pmb c =[1,-3]$?"
   ]
  },
  {
   "cell_type": "code",
   "execution_count": null,
   "metadata": {},
   "outputs": [],
   "source": []
  },
  {
   "cell_type": "markdown",
   "metadata": {},
   "source": [
    "### SOLUTIONS"
   ]
  },
  {
   "cell_type": "markdown",
   "metadata": {},
   "source": [
    "### Problem 1:\n",
    "Create 3 vectors and 1 scalar and call them $\\pmb a$, $\\pmb b$, $\\pmb d$, and $c$, respectively. Show that the 8 properties of vector addition and scalar multiplication with a vector hold.\n",
    "\n",
    "Initialize the vectors and scalar as the following:\n",
    "- $\\pmb a = [1,2,1]$\n",
    "- $\\pmb b = [3,4,5]$\n",
    "- $\\pmb d = [2,3,5]$\n",
    "- $c = 3$"
   ]
  },
  {
   "cell_type": "code",
   "execution_count": null,
   "metadata": {},
   "outputs": [],
   "source": [
    "a = np.array([1,2,1])\n",
    "b = np.array([3,4,5])\n",
    "d = np.array([2,3,5])\n",
    "c = 3\n",
    "zero = np.array([0,0,0])"
   ]
  },
  {
   "cell_type": "code",
   "execution_count": null,
   "metadata": {},
   "outputs": [],
   "source": [
    "print(\"Property 1\")\n",
    "print(a + b)\n",
    "print(b + a)\n",
    "print(\"Property 2\")\n",
    "print(a + (b+c))\n",
    "print((a+b) + c)\n",
    "print(\"Property 3\")\n",
    "print(a)\n",
    "print(a + zero)\n",
    "print(\"Property 4\")\n",
    "print(a + -a)\n",
    "print(zero)"
   ]
  },
  {
   "cell_type": "code",
   "execution_count": null,
   "metadata": {
    "scrolled": true
   },
   "outputs": [],
   "source": [
    "print(\"Property 5\")\n",
    "print(c*(a + b))\n",
    "print(c*a + c*b)\n",
    "print(\"Property 6\")\n",
    "print((c+d)*a)\n",
    "print(c*a + d*a)\n",
    "print(\"Property 7\")\n",
    "print((c*d)*a)\n",
    "print(c*(d*a))\n",
    "print(\"Property 8\")\n",
    "print(1*a)\n",
    "print(a)"
   ]
  },
  {
   "cell_type": "markdown",
   "metadata": {},
   "source": [
    "### Problem 2:\n",
    "\n",
    "Which of the following points $\\pmb a = [5,3]$ and $\\pmb b = [-3,1]$ is closer to $\\pmb c =[1,-3]$?"
   ]
  },
  {
   "cell_type": "markdown",
   "metadata": {},
   "source": [
    "Let's start by plotting the points"
   ]
  },
  {
   "cell_type": "code",
   "execution_count": null,
   "metadata": {
    "scrolled": true
   },
   "outputs": [],
   "source": [
    "soa = np.array([[0, 0, 5, 3], [0, 0, -3, 1], [0, 0, 1, -3]])\n",
    "X, Y, U, V = zip(*soa)\n",
    "plt.figure()\n",
    "ax = plt.gca()\n",
    "ax.quiver(X, Y, U, V, angles='xy', scale_units='xy', scale=1, color = [\"blue\", \"green\", \"red\"])\n",
    "ax.set_xlim([-5, 5])\n",
    "ax.set_ylim([-5, 5])\n",
    "plt.title('Vector Norm (a = blue, b = green, c = red)')\n",
    "plt.xlabel('$x_1$', fontsize = 20)\n",
    "plt.ylabel('$x_2$', fontsize = 20)\n",
    "plt.grid()"
   ]
  },
  {
   "cell_type": "markdown",
   "metadata": {},
   "source": [
    "To solve this problem we calculate the norm of the difference between $\\| \\pmb a - \\pmb c \\|$ and $\\| \\pmb b - \\pmb c \\|$, and get the smaller value."
   ]
  },
  {
   "cell_type": "code",
   "execution_count": null,
   "metadata": {},
   "outputs": [],
   "source": [
    "a = np.array([5,3])\n",
    "b = np.array([-3,1])\n",
    "c = np.array([1,-3])\n",
    "\n",
    "print('The distance between a and c is:', np.round(np.linalg.norm(a-c),2))\n",
    "print('The distance between b and c is:', np.round(np.linalg.norm(b-c),2))"
   ]
  },
  {
   "cell_type": "markdown",
   "metadata": {},
   "source": [
    "As a result $\\pmb c$ is closer to $\\pmb b$ than $\\pmb a$."
   ]
  },
  {
   "cell_type": "code",
   "execution_count": null,
   "metadata": {},
   "outputs": [],
   "source": []
  }
 ],
 "metadata": {
  "kernelspec": {
   "display_name": "Python 3",
   "language": "python",
   "name": "python3"
  },
  "language_info": {
   "codemirror_mode": {
    "name": "ipython",
    "version": 3
   },
   "file_extension": ".py",
   "mimetype": "text/x-python",
   "name": "python",
   "nbconvert_exporter": "python",
   "pygments_lexer": "ipython3",
   "version": "3.7.3"
  },
  "toc": {
   "base_numbering": 1,
   "nav_menu": {},
   "number_sections": false,
   "sideBar": true,
   "skip_h1_title": false,
   "title_cell": "Table of Contents",
   "title_sidebar": "Contents",
   "toc_cell": false,
   "toc_position": {},
   "toc_section_display": true,
   "toc_window_display": true
  }
 },
 "nbformat": 4,
 "nbformat_minor": 2
}
