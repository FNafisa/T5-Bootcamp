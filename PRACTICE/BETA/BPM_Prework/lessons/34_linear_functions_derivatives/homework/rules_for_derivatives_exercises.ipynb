{
 "cells": [
  {
   "cell_type": "markdown",
   "metadata": {},
   "source": [
    "### Problem 1:\n",
    "\n",
    "Calculate the following derivatives:\n",
    "\n",
    "a) $x^3 + x^2$\n",
    "\n",
    "b) $x^2 - \\frac{1}{x}$\n",
    "\n",
    "c) $3x^3+5x^2+2x+4$\n",
    "\n",
    "d) $3x^7+\\sqrt{2}x^5-\\frac{4}{3}x^2+9x - \\pi$\n",
    "\n",
    "e) $e^xx^3$\n",
    "\n",
    "f) $sin(x)ln(x)$"
   ]
  },
  {
   "cell_type": "code",
   "execution_count": null,
   "metadata": {},
   "outputs": [],
   "source": []
  }
 ],
 "metadata": {
  "kernelspec": {
   "display_name": "Python 3",
   "language": "python",
   "name": "python3"
  },
  "language_info": {
   "codemirror_mode": {
    "name": "ipython",
    "version": 3
   },
   "file_extension": ".py",
   "mimetype": "text/x-python",
   "name": "python",
   "nbconvert_exporter": "python",
   "pygments_lexer": "ipython3",
   "version": "3.7.3"
  }
 },
 "nbformat": 4,
 "nbformat_minor": 2
}
