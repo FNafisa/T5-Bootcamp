{
 "cells": [
  {
   "cell_type": "markdown",
   "metadata": {},
   "source": [
    "# Introduction"
   ]
  },
  {
   "cell_type": "markdown",
   "metadata": {},
   "source": [
    "__Purpose:__ The purpose of this lecture is to explore what the field of Linear Algebra is, why Linear Algebra is so useful (and necessary) and how Linear Algebra is actually used in Data Science. \n",
    "\n",
    "__At the end of this lecture you will be able to:__\n",
    "> 1. Understand what Linear Algebra is and how it can be used in Data Science "
   ]
  },
  {
   "cell_type": "markdown",
   "metadata": {},
   "source": [
    "## 1.1 Introduction to Linear Algebra"
   ]
  },
  {
   "cell_type": "markdown",
   "metadata": {},
   "source": [
    "### 1.1.1 What is Linear Algebra?"
   ]
  },
  {
   "cell_type": "markdown",
   "metadata": {},
   "source": [
    "__Overview:__ \n",
    "- __[Linear Algebra](https://en.wikipedia.org/wiki/Linear_algebra):__ Linear Algebra is a branch of Mathematics that studies linear sets of equations and their transformational properties \n",
    "- The essence of Linear Algebra is working with __vectors__ and __matrices__ \n",
    "- We can operate on vectors and matrices both in their geometric form (only in 2 or 3-dimensions) and their algebraic form in higher dimensions since (most of us) can't visualize anything higher than 3 dimensions \n",
    "\n",
    "- There are three main definitions to understand before we begin exploring Linear Algebra:\n",
    "> 1. __Linear:__ The \"linear\" component in Linear Algebra says that the objects we will deal with will be \"straight\" or \"flat\", versus a \"curved\" or \"sloped\" objects which are out of the scope of this course and covered in \"non-linear\" system analysis\n",
    "> 2. __[Linear Equations](https://en.wikipedia.org/wiki/Linear_equation):__ Linear Equations take simple forms and primarily deal with addition, subtraction, multiplication, and division (although addition and multiplication are by far, more common)\n",
    "> 3. __[Algebra](https://en.wikipedia.org/wiki/Algebra):__ You are likely familiar with the term \"algebra\" from high school and it is used to refer the manipulation and use of mathemtical symbols\n",
    "- If you combine the above three definitions, you are well on your way to understanding what Linear Algebra actually is! "
   ]
  },
  {
   "cell_type": "markdown",
   "metadata": {},
   "source": [
    "### 1.1.2 History of Linear Algebra"
   ]
  },
  {
   "cell_type": "markdown",
   "metadata": {},
   "source": [
    "- The field of Linear Algebra was contributed to by famous mathematicians over the last 3 centuries such as:\n",
    "> 1. __[Leibniz](https://en.wikipedia.org/wiki/Gottfried_Wilhelm_Leibniz_)__ (Determinants in 1693)\n",
    "> 2. __[Cramer](https://en.wikipedia.org/wiki/Gabriel_Cramer)__ (Cramer's rule for solving linear systems in 1750)\n",
    "> 3. __[Gauss](https://en.wikipedia.org/wiki/Carl_Friedrich_Gauss)__ (Gaussian elimination for solving linear systems in 1810)\n",
    "> 4. __[Grassmann](https://en.wikipedia.org/wiki/Hermann_Grassmann)__ (Foundations of Linear Algebra in 1844) \n",
    "> 5. __[Sylvester](https://en.wikipedia.org/wiki/James_Joseph_Sylvester)__ (Matrix definition in 1848)\n",
    "> 6. __[Pasha](https://translate.google.com/translate?&u=https%3A%2F%2Ftr.wikipedia.org%2Fwiki%2FH%C3%BCseyin+Tevfik+Pa%C5%9Fa&sl=tr&tl=en&prev=_t&hl=en)__ (\"Inventor\" of Linear Algebra in 1882)\n",
    "> 7. __[Peano](https://en.wikipedia.org/wiki/Giuseppe_Peano)__ (Vector Space in 1888)"
   ]
  },
  {
   "cell_type": "markdown",
   "metadata": {},
   "source": [
    "### 1.1.3 Why Study Linear Algebra?"
   ]
  },
  {
   "cell_type": "markdown",
   "metadata": {},
   "source": [
    "__Overview:__\n",
    "- Linear Algebra is a fundamental tool in mathematics, science, and engineering for many reasons:\n",
    "> 1. Linear Algebra allows us to break large, complicated problems into simple matrix equations ($Ax = b$)\n",
    "> 2. Linear Algebra provides a first approximation to non-linear systems \n",
    "> 3. Linear Algebra allows us to explore and understand multi-dimensional spaces \n",
    "> 4. Linear Algebra provides a visual, geometric tool to understand abstract objects, situations, and spaces "
   ]
  },
  {
   "cell_type": "markdown",
   "metadata": {},
   "source": [
    "### 1.1.4 How is Linear Algebra used in Data Science? "
   ]
  },
  {
   "cell_type": "markdown",
   "metadata": {},
   "source": [
    "__Overview:__\n",
    "- Linear Algebra pervades the field of Data Science because it gives us tools for representing an observation in a large data set as nothing more than a vector in multi-dimensional space. Once in this form, we can operate on this vector using Linear Algebra's vast toolset \n",
    "- It should be of no surprise that Linear Algebra is at the core of many popular Data Science [algorithms](https://en.wikipedia.org/wiki/Algorithm) including: \n",
    "> 1. __[Support Vector Machines (SVM)](https://en.wikipedia.org/wiki/Support_vector_machine)__\n",
    "> 2. __[Image Compression](https://en.wikipedia.org/wiki/Image_compression)__\n",
    "> 3. __[Page Rank](https://en.wikipedia.org/wiki/PageRank)__\n",
    "> 4. __[Markov Chain](https://en.wikipedia.org/wiki/Markov_chain)__\n",
    "> 5. __[K-Means Clustering](https://en.wikipedia.org/wiki/K-means_clustering)__"
   ]
  },
  {
   "cell_type": "markdown",
   "metadata": {},
   "source": [
    "### 1.1.5 Linear Algebra in Python:"
   ]
  },
  {
   "cell_type": "markdown",
   "metadata": {},
   "source": [
    "__Overview:__\n",
    "- Python has a wide range of useful functions to perform Linear Algebra routines. These functions are found in the following two Modules:\n",
    "> 1. __[`scipy.linalg`](https://docs.scipy.org/doc/scipy-0.18.1/reference/linalg.html):__ The `linalg` module in the SciPy Package offers many Linear Algebra functions such as matrix operations, eigenvalue problems, decompositions, matrix functions, and matrix equation solvers\n",
    "> 2. __[`numpy.linalg`](https://docs.scipy.org/doc/numpy-1.14.0/reference/routines.linalg.html):__ The `linalg` module in the NumPy Package offers many Linear Algebra functions such as matrix/vector products, decompositions, matrix eigenvalues, matrix/vector norms and solving equations \n",
    "\n",
    "__Helpful Points:__\n",
    "1. You may be wondering what the difference is between `scipy.linalg` and `numpy.linalg`. [Here](https://www.scipy.org/scipylib/faq.html#why-both-numpy-linalg-and-scipy-linalg-what-s-the-difference) is the complete explanation of the differences between the two, but in summary:\n",
    "> 1. Both `linalg` modules within NumPy and SciPy have similar functions, but with different docstrings\n",
    "> 2. `scipy.linalg` contains some functions not found in `numpy.linalg`\n",
    "> 3. Some functions that exist in both `scipy.linalg` and `numpy.linalg` have additional functionality in `scipy.linalg` that are not found in `numpy.linalg`\n",
    "2. You might also be wondering what the difference is between SciPy and NumPy, for this, you can refer to [this](https://www.scipy.org/scipylib/faq.html#what-is-the-difference-between-numpy-and-scipy) explanation\n",
    "\n",
    "__Practice:__ Import the Linear Algebra modules in Python "
   ]
  },
  {
   "cell_type": "markdown",
   "metadata": {},
   "source": [
    "### Example 1 (Importing Linear Algebra Packages):"
   ]
  },
  {
   "cell_type": "code",
   "execution_count": null,
   "metadata": {},
   "outputs": [],
   "source": [
    "import numpy as np \n",
    "from scipy import linalg \n",
    "import math "
   ]
  },
  {
   "cell_type": "code",
   "execution_count": null,
   "metadata": {
    "scrolled": true
   },
   "outputs": [],
   "source": [
    "%whos"
   ]
  },
  {
   "cell_type": "markdown",
   "metadata": {},
   "source": [
    "Notes:\n",
    "\n",
    "> 1. We import the entire NumPy Package since we don't just want the Linear Algebra capabilities, but also all the other capabilities such as the multi-dimensional array \n",
    "> 2. We import ONLY the `linalg` module from the SciPy Package since we only want these capabilities (and because SciPy is a massive Package with many sub-modules and functions that may cause conflict with other function names)"
   ]
  },
  {
   "cell_type": "code",
   "execution_count": null,
   "metadata": {},
   "outputs": [],
   "source": []
  }
 ],
 "metadata": {
  "kernelspec": {
   "display_name": "Python 3",
   "language": "python",
   "name": "python3"
  },
  "language_info": {
   "codemirror_mode": {
    "name": "ipython",
    "version": 3
   },
   "file_extension": ".py",
   "mimetype": "text/x-python",
   "name": "python",
   "nbconvert_exporter": "python",
   "pygments_lexer": "ipython3",
   "version": "3.7.3"
  },
  "toc": {
   "base_numbering": 1,
   "nav_menu": {},
   "number_sections": false,
   "sideBar": true,
   "skip_h1_title": false,
   "title_cell": "Table of Contents",
   "title_sidebar": "Contents",
   "toc_cell": false,
   "toc_position": {},
   "toc_section_display": true,
   "toc_window_display": true
  }
 },
 "nbformat": 4,
 "nbformat_minor": 2
}
