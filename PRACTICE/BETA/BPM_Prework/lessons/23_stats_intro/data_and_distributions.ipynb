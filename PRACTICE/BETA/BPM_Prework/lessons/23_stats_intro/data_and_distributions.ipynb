{
 "cells": [
  {
   "cell_type": "markdown",
   "metadata": {},
   "source": [
    "# Data and Distributions"
   ]
  },
  {
   "cell_type": "markdown",
   "metadata": {},
   "source": [
    "__Purpose:__ The purpose of this lecture is to cover topics of Statistics such as data types, distributions and graphing. \n",
    "\n",
    "__At the end of this lecture you will be able to:__\n",
    "> 1. Understand data types and distributions \n",
    "> 2. Graph data"
   ]
  },
  {
   "cell_type": "code",
   "execution_count": null,
   "metadata": {},
   "outputs": [],
   "source": [
    "import numpy as np\n",
    "import pandas as pd\n",
    "from scipy import stats\n",
    "import seaborn as sns\n",
    "import math \n",
    "import random\n",
    "import matplotlib.pyplot as plt\n",
    "%matplotlib inline"
   ]
  },
  {
   "cell_type": "markdown",
   "metadata": {},
   "source": [
    "## 1.1 Data and Distributions:"
   ]
  },
  {
   "cell_type": "markdown",
   "metadata": {},
   "source": [
    "### 1.1.1 Types of Data:"
   ]
  },
  {
   "cell_type": "markdown",
   "metadata": {},
   "source": [
    "__Overview:__ \n",
    "- In general, we can distinguish between two types of data:\n",
    "> 1. __[Qualitative Data](https://en.wikipedia.org/wiki/Qualitative_property):__ Qualitative Data contains discrete categories known as levels or categories. Qualitative Data can be further classified into four levels as described below\n",
    "> 2. __[Quantitative Data](https://en.wikipedia.org/wiki/Quantitative_research):__ Quantitative Data is also known as Numerical Data because it contains numbers as counts or measurements "
   ]
  },
  {
   "cell_type": "markdown",
   "metadata": {},
   "source": [
    "### 1.1.1.1 Qualitative Data:"
   ]
  },
  {
   "cell_type": "markdown",
   "metadata": {},
   "source": [
    "__Overview:__\n",
    "- Qualitative Data can be further broken down into four categories: \n",
    "> 1. __[Nominal](https://en.wikipedia.org/wiki/Level_of_measurement#Nominal_level):__ Nominal (Categorical) data includes levels that can be differentiated only based on the names of the categories and not on an implicit ordering\n",
    ">> - Nominal data can be operated using $=$ and $\\neq$ and can be grouped into categories \n",
    ">> - For example, Nominal Data includes Gender, States of the United States of America, Eye Color, Marital Status, etc.\n",
    ">> - We CAN'T say one level is less than or greater than another \n",
    "> 2. __[Ordinal](https://en.wikipedia.org/wiki/Level_of_measurement#Ordinal_scale):__ Ordinal data includes levels that can be differentiated based on an implicit ordering, but the distances between the levels is unknown\n",
    ">> - Ordinal data can be operated using $>$ and $<$ and can be sorted \n",
    ">> - For example, Likert Scale (Like, Like Somewhat, Neutral, Dislike Somewhat, Dislike)\n",
    ">> - We CAN'T say level 1 is less than level 2 by a difference of 1 \n",
    "> 3. __[Interval](https://en.wikipedia.org/wiki/Level_of_measurement#Interval_scale):__ Interval data includes levels that can be differentiated based on an implicit ordering AND the distances between the levels is known, but the ratio between levels is unknown \n",
    ">> - Interval data can be operated using $+$ and $-$ and can be measured using a yardstick method \n",
    ">> - For example, Interval data includes temperature on the Celsius Scale, Date when measured from a specific start point, and location in Cartesian coordinates \n",
    ">> - We CAN'T say level 1 is twice as large as level 2 \n",
    "> 4. __[Ratio](https://en.wikipedia.org/wiki/Level_of_measurement#Ratio_scale):__ Ratio data includes levels that can be differentiated based on an implicit ordering AND the distances between the level is known AND the ratio between the levels is known because there is a unique and non-arbitrary zero value \n",
    ">> - Ratio data can be operated using $*$ and $/$ and can be measured using a ratio operation \n",
    ">> - For example, Ratio data includes temperature on the Kelvin Scale and most measurements in Physics (mass, energy, etc.) "
   ]
  },
  {
   "cell_type": "markdown",
   "metadata": {},
   "source": [
    "### Problem 1:\n",
    "\n",
    "Give an example of each type of qualitative data above (other than the examples that are mentioned in the definition)"
   ]
  },
  {
   "cell_type": "code",
   "execution_count": null,
   "metadata": {},
   "outputs": [],
   "source": [
    "# write your answer here \n",
    "\n",
    "\n",
    "\n"
   ]
  },
  {
   "cell_type": "markdown",
   "metadata": {},
   "source": [
    "### 1.1.1.2 Quantitative Data:"
   ]
  },
  {
   "cell_type": "markdown",
   "metadata": {},
   "source": [
    "__Overview:__\n",
    "- Quantitative Data can be further broken into two categories: \n",
    "> 1. __[Discrete Data](https://en.wikipedia.org/wiki/Continuous_or_discrete_variable#Discrete_variable):__ Discrete data can only take particular values over a range\n",
    ">> - For example, number of three point shots attempted, made, and missed\n",
    "> 2. __[Continuous Data](https://en.wikipedia.org/wiki/Continuous_or_discrete_variable#Continuous_variable):__ Continuous data are not restricted to defined values over a range, but instead can take on any value over a range \n",
    ">> - For example, height and weight \n",
    "\n",
    "__Helpful Points:__\n",
    "1. Technically, Categorical Data mentioned above is also an example of Discrete Data \n",
    "2. It is possible to group Continuous Data into distinct, discrete categories known as bins (i.e. 100 - 120 cm, 121 - 130 cm, 131 - 150 cm, > 150 cm, etc.) "
   ]
  },
  {
   "cell_type": "markdown",
   "metadata": {},
   "source": [
    "### 1.2.2 Graphing Data:"
   ]
  },
  {
   "cell_type": "markdown",
   "metadata": {},
   "source": [
    "__Overview:__ \n",
    "- Depending on the type of data there exists different types of graphs that we can use to explore the properties of the data \n",
    "> 1. __Qualitative Data:__ Qualitative Data can be summarized using the following methods:\n",
    ">> a. Pie Charts <br>\n",
    ">> b. Bar Charts \n",
    "> 2. __Quantitative Data:__ Quantitative Data can be summarized using the following methods: \n",
    ">> a. Histograms <br>\n",
    ">> b. Scatter Plots <br>\n",
    ">> c. Line Graph \n",
    "\n",
    "__Helpful Points:__\n",
    "1. There is lots of debate and best practices shared regarding the type of graph that should be chosen. Feel free to read about this online, but [here](https://blog.hubspot.com/marketing/types-of-graphs-for-data-visualization) is one such resource\n",
    "\n",
    "__Practice:__ Examples of Graphing Data in Python "
   ]
  },
  {
   "cell_type": "markdown",
   "metadata": {},
   "source": [
    "The NBA data willl be used here to perform Statistical Analysis. "
   ]
  },
  {
   "cell_type": "code",
   "execution_count": null,
   "metadata": {},
   "outputs": [],
   "source": [
    "# read in data to analyze \n",
    "nba_df = pd.read_csv(\"NBA_GameLog_2010_2017.csv\")"
   ]
  },
  {
   "cell_type": "code",
   "execution_count": null,
   "metadata": {
    "scrolled": true
   },
   "outputs": [],
   "source": [
    "# view the data \n",
    "nba_df.head(10)"
   ]
  },
  {
   "cell_type": "code",
   "execution_count": null,
   "metadata": {},
   "outputs": [],
   "source": [
    "# convert to datetime\n",
    "nba_df['Date'] = pd.to_datetime(nba_df['Date'])"
   ]
  },
  {
   "cell_type": "code",
   "execution_count": null,
   "metadata": {},
   "outputs": [],
   "source": [
    "# make index the datetime column for easier indexing\n",
    "nba_df.set_index(\"Date\", inplace = True)"
   ]
  },
  {
   "cell_type": "code",
   "execution_count": null,
   "metadata": {},
   "outputs": [],
   "source": [
    "nba_df.head(5)"
   ]
  },
  {
   "cell_type": "markdown",
   "metadata": {},
   "source": [
    "### Example 1 (Graphing Qualitative Data):"
   ]
  },
  {
   "cell_type": "markdown",
   "metadata": {},
   "source": [
    "First, we have to determine which columns in the NBA data set are qualitative variables:"
   ]
  },
  {
   "cell_type": "code",
   "execution_count": null,
   "metadata": {
    "scrolled": true
   },
   "outputs": [],
   "source": [
    "nba_df.dtypes"
   ]
  },
  {
   "cell_type": "markdown",
   "metadata": {},
   "source": [
    "We can see that the GameType, Team, Opp, W.L and Referee columns refer to qualitative data "
   ]
  },
  {
   "cell_type": "markdown",
   "metadata": {},
   "source": [
    "### Example 1.1 (Frequency Table):"
   ]
  },
  {
   "cell_type": "code",
   "execution_count": null,
   "metadata": {
    "scrolled": true
   },
   "outputs": [],
   "source": [
    "tor_2016_2017 = nba_df.loc[(nba_df.loc[:, \"Season\"] == 2017) & (nba_df.loc[:, \"Team\"] == \"TOR\"), ]\n",
    "tor_2016_2017"
   ]
  },
  {
   "cell_type": "code",
   "execution_count": null,
   "metadata": {},
   "outputs": [],
   "source": [
    "tor_2016_2017.columns"
   ]
  },
  {
   "cell_type": "code",
   "execution_count": null,
   "metadata": {},
   "outputs": [],
   "source": [
    "freq_table = pd.DataFrame(tor_2016_2017.loc[:, \"W.L\"].value_counts())\n",
    "freq_table.columns = [\"Frequency\"]\n",
    "freq_table"
   ]
  },
  {
   "cell_type": "code",
   "execution_count": null,
   "metadata": {},
   "outputs": [],
   "source": [
    "freq_table[\"RelativeFrequency\"] = freq_table[\"Frequency\"] / freq_table.Frequency.sum()\n",
    "freq_table"
   ]
  },
  {
   "cell_type": "markdown",
   "metadata": {},
   "source": [
    "### Example 1.2 (Pie Charts):"
   ]
  },
  {
   "cell_type": "code",
   "execution_count": null,
   "metadata": {},
   "outputs": [],
   "source": [
    "plt.figure(figsize = [5,5])\n",
    "plt.pie(freq_table.RelativeFrequency, labels=[\"W\", \"L\"]);"
   ]
  },
  {
   "cell_type": "markdown",
   "metadata": {},
   "source": [
    "### Example 1.3 (Bar Charts):"
   ]
  },
  {
   "cell_type": "code",
   "execution_count": null,
   "metadata": {},
   "outputs": [],
   "source": [
    "plt.bar(freq_table.index,freq_table.RelativeFrequency);"
   ]
  },
  {
   "cell_type": "markdown",
   "metadata": {},
   "source": [
    "### Example 2 (Graphing Quantitative Data):"
   ]
  },
  {
   "cell_type": "markdown",
   "metadata": {},
   "source": [
    "### Example 2.1 (Histogram):"
   ]
  },
  {
   "cell_type": "code",
   "execution_count": null,
   "metadata": {},
   "outputs": [],
   "source": [
    "# histogram of the team's points\n",
    "plt.hist(tor_2016_2017.loc[:, \"Tm.Pts\"])"
   ]
  },
  {
   "cell_type": "code",
   "execution_count": null,
   "metadata": {
    "scrolled": true
   },
   "outputs": [],
   "source": [
    "# histogram of the team's FG Percentage\n",
    "plt.hist(tor_2016_2017.loc[:, \"Tm.FG_Perc\"])"
   ]
  },
  {
   "cell_type": "code",
   "execution_count": null,
   "metadata": {
    "scrolled": true
   },
   "outputs": [],
   "source": [
    "sns.distplot(tor_2016_2017.loc[:, \"Tm.FG_Perc\"],kde=False) # same as above but using seaborn "
   ]
  },
  {
   "cell_type": "markdown",
   "metadata": {},
   "source": [
    "The two histograms above may not look the same because the \"binning\" process which allocates the data into a pre-defined number of bins may be different, affecting the final visual of the histogram. "
   ]
  },
  {
   "cell_type": "markdown",
   "metadata": {},
   "source": [
    "In the histograms shown above, \n",
    "\n",
    "> 1. __X-Axis__: The X-Axis represnts the range of values that the Team Field Goal Percentage takes on\n",
    "> 2. __Y-Axis__: The Y-Axis represents the frequency count of the number of observations (games) that fall into each bin"
   ]
  },
  {
   "cell_type": "code",
   "execution_count": null,
   "metadata": {
    "scrolled": true
   },
   "outputs": [],
   "source": [
    "# cumulative frequency histogram \n",
    "sns.distplot(tor_2016_2017.loc[:, \"Tm.FG_Perc\"], hist_kws={\"cumulative\":True},kde_kws={\"cumulative\":True})"
   ]
  },
  {
   "cell_type": "markdown",
   "metadata": {},
   "source": [
    "In the cumulative frequency histogram shown above, \n",
    "\n",
    "> 1. __X-Axis__: The X-Axis represents the range of values that the Team Field Goal Percentage takes on\n",
    "> 2. __Y-Axis__: The Y-Axis represents the cumulative frequency count of the number of observations (games) that fall into each bin. We can interpret this in the following way: \n",
    ">> - In 20% of the games, the team had a Field Goal Percentage of 0.40 or less\n",
    ">> - In about 50% of the games, the team had a Field Goal Percentage of 0.45 or less\n",
    ">> - In about 80% of the games, the team had a Field Goal Percentage of 0.50 or less "
   ]
  },
  {
   "cell_type": "markdown",
   "metadata": {},
   "source": [
    "### Example 2.2 (Scatter Plots):"
   ]
  },
  {
   "cell_type": "code",
   "execution_count": null,
   "metadata": {},
   "outputs": [],
   "source": [
    "tor_2016_2017_home = tor_2016_2017.loc[(tor_2016_2017.loc[:, \"Home\"] == 1), ]\n",
    "tor_2016_2017_home"
   ]
  },
  {
   "cell_type": "code",
   "execution_count": null,
   "metadata": {},
   "outputs": [],
   "source": [
    "# scatter plot of the home attendance \n",
    "plt.scatter(tor_2016_2017_home.index, tor_2016_2017_home.loc[:, \"Home.Attendance\"]);"
   ]
  },
  {
   "cell_type": "code",
   "execution_count": null,
   "metadata": {
    "scrolled": true
   },
   "outputs": [],
   "source": [
    "# scatter plot of the turnovers \n",
    "plt.scatter(tor_2016_2017.index, tor_2016_2017.loc[:, \"Tm.TOV\"])"
   ]
  },
  {
   "cell_type": "code",
   "execution_count": null,
   "metadata": {},
   "outputs": [],
   "source": [
    "# combine scatter plot and histogram of the turnovers \n",
    "sns.jointplot(tor_2016_2017.loc[:, \"G\"], tor_2016_2017.loc[:, \"Tm.TOV\"])"
   ]
  },
  {
   "cell_type": "markdown",
   "metadata": {},
   "source": [
    "### Example 2.3 (Line Graphs):"
   ]
  },
  {
   "cell_type": "code",
   "execution_count": null,
   "metadata": {
    "scrolled": true
   },
   "outputs": [],
   "source": [
    "# plot 2 series - team and opponent points\n",
    "plt.plot(tor_2016_2017.loc[:, \"Tm.Pts\"], linestyle = '--',linewidth = 3, c = 'b')\n",
    "plt.plot(tor_2016_2017.loc[:, \"Opp.Pts\"],linewidth = 5, c = 'r') \n",
    "plt.legend(['Tm.Pts','Opp.Pts'],shadow = True, loc = 0);"
   ]
  },
  {
   "cell_type": "markdown",
   "metadata": {},
   "source": [
    "### Problem 2 \n",
    "\n",
    "Load in the Seattle Home Price Data then choose 2-3 qualitative variables and 2-3 quantitative variables to summarize using the techniques explained above."
   ]
  },
  {
   "cell_type": "code",
   "execution_count": null,
   "metadata": {},
   "outputs": [],
   "source": [
    "# Write your code here \n",
    "\n",
    "\n",
    "\n"
   ]
  },
  {
   "cell_type": "markdown",
   "metadata": {},
   "source": [
    "### ANSWERS "
   ]
  },
  {
   "cell_type": "markdown",
   "metadata": {},
   "source": [
    "### Problem 1:\n",
    "\n",
    "Give an example of each type of categorical data above (other than the examples that are mentioned in the definition)"
   ]
  },
  {
   "cell_type": "markdown",
   "metadata": {},
   "source": [
    "__Nominal Variable:__ Political party (i.e. Democratic Party, Republican Party, etc.) <br>\n",
    "__Ordinal Variable:__ Socio-economic class (i.e. working class, middle class, upper-middle class, upper class) <br>\n",
    "__Interval Variable:__ Standardized Test Score (i.e. GRE, GMAT, SAT, etc.) <br>\n",
    "__Ratio Variable:__ Height, Weight, etc. (a height of zero means something significant, a weight of zero means something significant)"
   ]
  },
  {
   "cell_type": "markdown",
   "metadata": {},
   "source": [
    "### Problem 2 \n",
    "\n",
    "Load in the Seattle Home Price Data choose 2-3 qualitative variables and 2-3 quantitative variables to summarize using the techniques explained above."
   ]
  },
  {
   "cell_type": "code",
   "execution_count": null,
   "metadata": {},
   "outputs": [],
   "source": [
    "home_df = pd.read_csv(\"SeattleHomePrices.csv\")"
   ]
  },
  {
   "cell_type": "code",
   "execution_count": null,
   "metadata": {
    "scrolled": true
   },
   "outputs": [],
   "source": [
    "home_df.head(5)"
   ]
  },
  {
   "cell_type": "code",
   "execution_count": null,
   "metadata": {
    "scrolled": false
   },
   "outputs": [],
   "source": [
    "home_df.dtypes"
   ]
  },
  {
   "cell_type": "markdown",
   "metadata": {},
   "source": [
    "- Choose the qualitative variable \"PROPERTY TYPE\"\n",
    "- Choose the quantitative variable \"PRICE\""
   ]
  },
  {
   "cell_type": "markdown",
   "metadata": {},
   "source": [
    "### Part 1 - Qualitative Variables:"
   ]
  },
  {
   "cell_type": "code",
   "execution_count": null,
   "metadata": {},
   "outputs": [],
   "source": [
    "freq_table = pd.DataFrame(home_df.loc[:, \"PROPERTY TYPE\"].value_counts())\n",
    "freq_table.columns = [\"Frequency\"]\n",
    "freq_table"
   ]
  },
  {
   "cell_type": "code",
   "execution_count": null,
   "metadata": {
    "scrolled": true
   },
   "outputs": [],
   "source": [
    "freq_table[\"RelativeFrequency\"] = freq_table[\"Frequency\"] / freq_table.Frequency.sum()\n",
    "freq_table"
   ]
  },
  {
   "cell_type": "code",
   "execution_count": null,
   "metadata": {
    "scrolled": true
   },
   "outputs": [],
   "source": [
    "plt.figure(figsize = [5,5])\n",
    "plt.pie(freq_table.RelativeFrequency, labels=freq_table.index);"
   ]
  },
  {
   "cell_type": "code",
   "execution_count": null,
   "metadata": {
    "scrolled": true
   },
   "outputs": [],
   "source": [
    "plt.bar(freq_table.index,freq_table.RelativeFrequency)\n",
    "plt.xticks(rotation=90);"
   ]
  },
  {
   "cell_type": "markdown",
   "metadata": {},
   "source": [
    "### Part 2 - Quantitative Variables:"
   ]
  },
  {
   "cell_type": "code",
   "execution_count": null,
   "metadata": {
    "scrolled": true
   },
   "outputs": [],
   "source": [
    "plt.hist(home_df.loc[:, \"PRICE\"])"
   ]
  },
  {
   "cell_type": "code",
   "execution_count": null,
   "metadata": {
    "scrolled": true
   },
   "outputs": [],
   "source": [
    "plt.scatter(home_df.index, home_df.loc[:, \"PRICE\"])"
   ]
  },
  {
   "cell_type": "code",
   "execution_count": null,
   "metadata": {},
   "outputs": [],
   "source": [
    "x = home_df.index\n",
    "y1 = home_df.loc[:, \"PRICE\"]\n",
    "y2 = home_df.loc[:, \"SQUARE FEET\"]\n",
    "\n",
    "fig, ax1 = plt.subplots()\n",
    "\n",
    "ax2 = ax1.twinx()\n",
    "ax1.plot(x, y1, 'g-')\n",
    "ax2.plot(x, y2, 'b-')\n",
    "\n",
    "ax1.set_xlabel('House Index')\n",
    "ax1.set_ylabel('Price', color='g')\n",
    "ax2.set_ylabel('Square Feet', color='b')"
   ]
  },
  {
   "cell_type": "code",
   "execution_count": null,
   "metadata": {},
   "outputs": [],
   "source": []
  }
 ],
 "metadata": {
  "kernelspec": {
   "display_name": "Python 3",
   "language": "python",
   "name": "python3"
  },
  "language_info": {
   "codemirror_mode": {
    "name": "ipython",
    "version": 3
   },
   "file_extension": ".py",
   "mimetype": "text/x-python",
   "name": "python",
   "nbconvert_exporter": "python",
   "pygments_lexer": "ipython3",
   "version": "3.8.6"
  },
  "toc": {
   "base_numbering": 1,
   "nav_menu": {},
   "number_sections": false,
   "sideBar": true,
   "skip_h1_title": false,
   "title_cell": "Table of Contents",
   "title_sidebar": "Contents",
   "toc_cell": false,
   "toc_position": {},
   "toc_section_display": true,
   "toc_window_display": true
  }
 },
 "nbformat": 4,
 "nbformat_minor": 2
}
