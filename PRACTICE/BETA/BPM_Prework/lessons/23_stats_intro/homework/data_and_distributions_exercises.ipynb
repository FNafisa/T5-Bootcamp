{
 "cells": [
  {
   "cell_type": "markdown",
   "metadata": {},
   "source": [
    "### Problem 1:\n",
    "\n",
    "State which of the following represent discrete data and continuous data:\n",
    "\n",
    "a) Number of shares sold each day in the stock market\n",
    "\n",
    "b) Temperature recorded every hour\n",
    "\n",
    "c) Number of cars produced by a car manufacturer\n",
    "\n",
    "d) Yearly salary of CEO's from various companies\n",
    "\n",
    "e) Distance between various cities"
   ]
  },
  {
   "cell_type": "markdown",
   "metadata": {},
   "source": [
    "### Problem 2:\n",
    "\n",
    "The following table shows the number of people who earn different salaries at a company:\n",
    "\n",
    "| Salary Range ($)  | Number of Employees  |\n",
    "|---|---|\n",
    "|0-20,000   | 20  |\n",
    "|20,001-40,000   |25 |\n",
    "|40,001-60,000   | 71  |\n",
    "|60,001-80,000   | 33  |\n",
    "|80,001-100,000   | 15  |\n",
    "\n",
    "a) What percentage of people earn 20,001-40,000 per year?\n",
    "\n",
    "b) What percentage of people earn at most 80,000 per year?"
   ]
  },
  {
   "cell_type": "markdown",
   "metadata": {},
   "source": [
    "### Problem 3\n",
    "\n",
    "The following table shows the number of buildings by their total number of floors:\n",
    "\n",
    "| Total Floors  | Number of Buildings  |\n",
    "|---|---|\n",
    "|0-30   | 79  |\n",
    "|31-60   | 32  |\n",
    "|61-90   | 52  |\n",
    "|91-120   | 18  |\n",
    "|121-150   | 7  |\n",
    "\n",
    "a) What percentage of building have 31-60 floors?\n",
    "\n",
    "b) What percentage of building have 91 floors or more?\n",
    "\n",
    "c) What percentage of building have 31-120 floors?\n"
   ]
  },
  {
   "cell_type": "code",
   "execution_count": null,
   "metadata": {},
   "outputs": [],
   "source": []
  }
 ],
 "metadata": {
  "kernelspec": {
   "display_name": "Python 3",
   "language": "python",
   "name": "python3"
  },
  "language_info": {
   "codemirror_mode": {
    "name": "ipython",
    "version": 3
   },
   "file_extension": ".py",
   "mimetype": "text/x-python",
   "name": "python",
   "nbconvert_exporter": "python",
   "pygments_lexer": "ipython3",
   "version": "3.7.3"
  }
 },
 "nbformat": 4,
 "nbformat_minor": 2
}
