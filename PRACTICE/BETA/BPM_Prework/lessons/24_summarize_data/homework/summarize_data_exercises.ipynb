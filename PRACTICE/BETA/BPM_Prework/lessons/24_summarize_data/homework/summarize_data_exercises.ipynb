{
 "cells": [
  {
   "cell_type": "markdown",
   "metadata": {},
   "source": [
    "### Problem 1:\n",
    "\n",
    "For the following array: \n",
    "\n",
    "[1, 1, 9, 5, 9, 8, 8, 9, 2, 5, 8, 5, 1, 9, 8, 5, 2, 1, 8, 4]\n",
    "\n",
    "Calculate the:\n",
    "\n",
    "a) Mean\n",
    "\n",
    "b) Median\n",
    "\n",
    "c) Mode\n",
    "\n",
    "d) Variance \n",
    "\n",
    "e) Standard Deviation"
   ]
  },
  {
   "cell_type": "markdown",
   "metadata": {},
   "source": [
    "### Problem 2:\n",
    "\n",
    "In a company that has 80 employees, 60 earn \\\\$10/hr and 20 earn \\\\$13/hr.\n",
    "\n",
    "a) Determine the mean earning per hour.\n",
    "\n",
    "b) If the 60 employees now earn \\\\$14/hr, how much should the hourly rate be for the remaining 20 employees to maintain the same mean earning per hour as part (a)?"
   ]
  },
  {
   "cell_type": "markdown",
   "metadata": {},
   "source": [
    "### Problem 3:\n",
    "\n",
    "A car travel 10mph for 3 hrs, 15mph for 2 hrs and 20 mph for 1 hr.  What was the average speed of the car?"
   ]
  },
  {
   "cell_type": "markdown",
   "metadata": {},
   "source": [
    "### Problem 4:\n",
    "\n",
    "The mean annual salary paid to all employees in a company is \\\\$36,000.  The mean annual salaries paid to the engineers and scientists of the company is \\\\$34,000 and $40,000 respectively.  Determine the percentage of engineers and scientists employed by the company."
   ]
  },
  {
   "cell_type": "markdown",
   "metadata": {},
   "source": [
    "### Problem 5:\n",
    "\n",
    "$ X = [4, 4, -4, -4]$\n",
    "\n",
    "$ Y = [7, 1, -6, -2]$\n",
    "\n",
    "a) Calculate the mean of X and of Y.\n",
    "\n",
    "b) Calculate the mean absolute deviation of X and of Y.\n",
    "\n",
    "c) Calculate the standard deviation of X and of Y.\n"
   ]
  },
  {
   "cell_type": "markdown",
   "metadata": {},
   "source": [
    "### Problem 6:\n",
    "\n",
    "A manufacturer of a smartphone has two type of models $A$ and $B$.  The smartphones have a lifetime of $\\bar{X_a} = 1495$ days and $\\bar{X_b} = 1875$ days, and a standard deviation of $\\sigma_a$ = 280 days and $\\sigma_b$ = 310 days. Which model has the greater absolute deviation and relative deviation?"
   ]
  },
  {
   "cell_type": "markdown",
   "metadata": {},
   "source": [
    "### Problem 7:\n",
    "\n",
    "A student received a grade of 84 in a math test for which the mean grade and standard deviation of the class was 76 and 10, respectively.  The student also received a grade of 90 in a physics test for which the mean grade and standard deviation of the class was 82 and 16.  In which class was the student relatively standing higher? "
   ]
  },
  {
   "cell_type": "markdown",
   "metadata": {},
   "source": [
    "### Problem 8:\n",
    "\n",
    "For the following dataset [5, 7, 3, 2, 1, 8].\n",
    "\n",
    "a) Calculate the standard deviation.\n",
    "\n",
    "b) Calculate the standard deviation of the dataset after adding 5 to each number (i.e. [10, 12, 8, 7, 6, 13].\n",
    "\n",
    "c) Calculate the standard deviation of the dataset after multiplying each number by 2 (i.e. [10, 14, 6, 4, 2, 16]."
   ]
  },
  {
   "cell_type": "code",
   "execution_count": null,
   "metadata": {},
   "outputs": [],
   "source": []
  }
 ],
 "metadata": {
  "kernelspec": {
   "display_name": "Python 3",
   "language": "python",
   "name": "python3"
  },
  "language_info": {
   "codemirror_mode": {
    "name": "ipython",
    "version": 3
   },
   "file_extension": ".py",
   "mimetype": "text/x-python",
   "name": "python",
   "nbconvert_exporter": "python",
   "pygments_lexer": "ipython3",
   "version": "3.7.3"
  }
 },
 "nbformat": 4,
 "nbformat_minor": 2
}
