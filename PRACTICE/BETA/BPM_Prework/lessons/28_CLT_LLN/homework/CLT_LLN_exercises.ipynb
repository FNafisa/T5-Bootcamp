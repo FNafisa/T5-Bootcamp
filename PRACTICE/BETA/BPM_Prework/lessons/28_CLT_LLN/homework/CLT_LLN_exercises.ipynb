{
 "cells": [
  {
   "cell_type": "markdown",
   "metadata": {},
   "source": [
    "### Problem 1:\n",
    "\n",
    "If I flip a fair coin 999 times and get all Heads, what is the probability that I get Tails on my next flip?\n",
    "\n",
    "a) 50%\n",
    "\n",
    "b) More than 50%\n",
    "\n",
    "c) Less than 50%"
   ]
  },
  {
   "cell_type": "code",
   "execution_count": null,
   "metadata": {},
   "outputs": [],
   "source": []
  }
 ],
 "metadata": {
  "kernelspec": {
   "display_name": "Python 3",
   "language": "python",
   "name": "python3"
  },
  "language_info": {
   "codemirror_mode": {
    "name": "ipython",
    "version": 3
   },
   "file_extension": ".py",
   "mimetype": "text/x-python",
   "name": "python",
   "nbconvert_exporter": "python",
   "pygments_lexer": "ipython3",
   "version": "3.7.3"
  }
 },
 "nbformat": 4,
 "nbformat_minor": 2
}
