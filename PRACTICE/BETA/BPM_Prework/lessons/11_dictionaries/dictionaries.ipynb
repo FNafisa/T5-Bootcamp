{
 "cells": [
  {
   "cell_type": "markdown",
   "metadata": {},
   "source": [
    "# Dictionaries\n",
    "\n",
    "In this notebook we will: \n",
    "- Learn how to work with `Dictionaries`"
   ]
  },
  {
   "cell_type": "markdown",
   "metadata": {},
   "source": [
    "## Dictionaries"
   ]
  },
  {
   "cell_type": "markdown",
   "metadata": {},
   "source": [
    "### Motivating example: Short-comings of lists"
   ]
  },
  {
   "cell_type": "markdown",
   "metadata": {},
   "source": [
    "We have already seen `list` objects as a way of storing data. For a `list`, we use the _index_ to look up the value. Consider a list of countries and capitals:"
   ]
  },
  {
   "cell_type": "code",
   "execution_count": 2,
   "metadata": {},
   "outputs": [],
   "source": [
    "countries_and_capitals = [\n",
    "    ['United States of America', 'Washington D.C.'],\n",
    "    ['Argentina', 'Buenos Aires'],\n",
    "    ['France', 'Paris'],\n",
    "    ['India', 'New Delhi'],\n",
    "]"
   ]
  },
  {
   "cell_type": "code",
   "execution_count": 3,
   "metadata": {},
   "outputs": [
    {
     "data": {
      "text/plain": [
       "['France', 'Paris']"
      ]
     },
     "execution_count": 3,
     "metadata": {},
     "output_type": "execute_result"
    }
   ],
   "source": [
    "countries_and_capitals[2]"
   ]
  },
  {
   "cell_type": "code",
   "execution_count": 4,
   "metadata": {},
   "outputs": [
    {
     "data": {
      "text/plain": [
       "'Paris'"
      ]
     },
     "execution_count": 4,
     "metadata": {},
     "output_type": "execute_result"
    }
   ],
   "source": [
    "countries_and_capitals[2][1]"
   ]
  },
  {
   "cell_type": "markdown",
   "metadata": {},
   "source": [
    "Suppose we wanted to look up the capital of Argentina. First we need to iterate through the list. Each element is itself a list. Once we find 'Argentina', we can determine its capital:"
   ]
  },
  {
   "cell_type": "code",
   "execution_count": 6,
   "metadata": {},
   "outputs": [
    {
     "name": "stdout",
     "output_type": "stream",
     "text": [
      "Buenos Aires\n"
     ]
    }
   ],
   "source": [
    "country_to_find = 'Argentina'\n",
    "\n",
    "for country_and_capital in countries_and_capitals:\n",
    "    country = country_and_capital[0]\n",
    "    if country == country_to_find:\n",
    "        capital = country_and_capital[1]\n",
    "\n",
    "print(capital)"
   ]
  },
  {
   "cell_type": "markdown",
   "metadata": {},
   "source": [
    "Lists are not convenient for looking up things without an index. We _can_ do it by making \"lists of lists\", but it isn't efficient AND it makes us write a lot of code that obscures what we are doing.\n",
    "\n",
    "### How a dictionary solves this problem\n",
    "\n",
    "A dictionary allows us to have a `key` to lookup a `value`. Instead of looking a value up by _index_, we look it up by _key_. The idea is similar to a dictionary, where you use the word (the `key`) to look up the meaning (the `value`). \n",
    "\n",
    "Let's try to make this clearer with the countries/capitals example. __Note__ that dictionaries use curly brackets `{...}`."
   ]
  },
  {
   "cell_type": "code",
   "execution_count": 7,
   "metadata": {},
   "outputs": [],
   "source": [
    "# syntax is \n",
    "# { key1: value1, key2: value2, ...... }\n",
    "\n",
    "countries_and_capitals = {\n",
    "    'United States of America': 'Washington D.C.',  \n",
    "    'Argentina': 'Buenos Aires',           \n",
    "    'France': 'Paris', # France is the key, and Paris is the value\n",
    "    'India': 'New Delhi',\n",
    "}"
   ]
  },
  {
   "cell_type": "markdown",
   "metadata": {},
   "source": [
    "We can use the `keys` to look things up with the square brackets `[...]`"
   ]
  },
  {
   "cell_type": "code",
   "execution_count": 8,
   "metadata": {},
   "outputs": [
    {
     "data": {
      "text/plain": [
       "'New Delhi'"
      ]
     },
     "execution_count": 8,
     "metadata": {},
     "output_type": "execute_result"
    }
   ],
   "source": [
    "countries_and_capitals['India']"
   ]
  },
  {
   "cell_type": "markdown",
   "metadata": {},
   "source": [
    "We **cannot** use the values (this will have an error)"
   ]
  },
  {
   "cell_type": "code",
   "execution_count": 9,
   "metadata": {},
   "outputs": [
    {
     "ename": "KeyError",
     "evalue": "'New Delhi'",
     "output_type": "error",
     "traceback": [
      "\u001b[1;31m---------------------------------------------------------------------------\u001b[0m",
      "\u001b[1;31mKeyError\u001b[0m                                  Traceback (most recent call last)",
      "\u001b[1;32m<ipython-input-9-20a0b313582e>\u001b[0m in \u001b[0;36m<module>\u001b[1;34m\u001b[0m\n\u001b[1;32m----> 1\u001b[1;33m \u001b[0mcountries_and_capitals\u001b[0m\u001b[1;33m[\u001b[0m\u001b[1;34m'New Delhi'\u001b[0m\u001b[1;33m]\u001b[0m\u001b[1;33m\u001b[0m\u001b[1;33m\u001b[0m\u001b[0m\n\u001b[0m",
      "\u001b[1;31mKeyError\u001b[0m: 'New Delhi'"
     ]
    }
   ],
   "source": [
    "countries_and_capitals['New Delhi']"
   ]
  },
  {
   "cell_type": "markdown",
   "metadata": {},
   "source": [
    "We can add new `keys` easily:"
   ]
  },
  {
   "cell_type": "code",
   "execution_count": 16,
   "metadata": {},
   "outputs": [
    {
     "data": {
      "text/plain": [
       "{'United States of America': 'Washington D.C.',\n",
       " 'Argentina': 'Buenos Aires',\n",
       " 'France': 'Paris',\n",
       " 'India': 'New Delhi',\n",
       " 1: 'Gaborone',\n",
       " ('a', 1): 'Gaborone'}"
      ]
     },
     "execution_count": 16,
     "metadata": {},
     "output_type": "execute_result"
    }
   ],
   "source": [
    "countries_and_capitals[(\"a\",1)] = 'Gaborone'\n",
    "countries_and_capitals"
   ]
  },
  {
   "cell_type": "code",
   "execution_count": 18,
   "metadata": {},
   "outputs": [
    {
     "data": {
      "text/plain": [
       "{'United States of America': 'Washington D.C.',\n",
       " 'Argentina': 'Buenos Aires',\n",
       " 'France': 'Paris',\n",
       " 'India': 'New Delhi'}"
      ]
     },
     "execution_count": 18,
     "metadata": {},
     "output_type": "execute_result"
    }
   ],
   "source": [
    "del countries_and_capitals[(\"a\",1)], countries_and_capitals[1] \n",
    "countries_and_capitals"
   ]
  },
  {
   "cell_type": "code",
   "execution_count": 19,
   "metadata": {},
   "outputs": [
    {
     "data": {
      "text/plain": [
       "{'United States of America': 'Washington D.C.',\n",
       " 'Argentina': 'Buenos Aires',\n",
       " 'France': 'Paris',\n",
       " 'India': 'New Delhi',\n",
       " 'Botswana': 'Gaborone'}"
      ]
     },
     "execution_count": 19,
     "metadata": {},
     "output_type": "execute_result"
    }
   ],
   "source": [
    "countries_and_capitals[\"Botswana\"] = 'Gaborone'\n",
    "countries_and_capitals"
   ]
  },
  {
   "cell_type": "markdown",
   "metadata": {},
   "source": [
    "However, `keys` have to be unique. If we overwrite a key, we lose the previous value"
   ]
  },
  {
   "cell_type": "code",
   "execution_count": 20,
   "metadata": {},
   "outputs": [
    {
     "name": "stdout",
     "output_type": "stream",
     "text": [
      "Buenos Aires\n"
     ]
    }
   ],
   "source": [
    "print(countries_and_capitals['Argentina'])"
   ]
  },
  {
   "cell_type": "code",
   "execution_count": 21,
   "metadata": {},
   "outputs": [
    {
     "name": "stdout",
     "output_type": "stream",
     "text": [
      "Paris\n"
     ]
    }
   ],
   "source": [
    "countries_and_capitals['Argentina'] = 'Paris' # keys need to be unique, but values can repeat\n",
    "print(countries_and_capitals['Argentina'])"
   ]
  },
  {
   "cell_type": "markdown",
   "metadata": {},
   "source": [
    "The `values` do not need to be unique. Now, we have two `values` with 'Paris'."
   ]
  },
  {
   "cell_type": "code",
   "execution_count": 22,
   "metadata": {},
   "outputs": [
    {
     "data": {
      "text/plain": [
       "{'United States of America': 'Washington D.C.',\n",
       " 'Argentina': 'Paris',\n",
       " 'France': 'Paris',\n",
       " 'India': 'New Delhi',\n",
       " 'Botswana': 'Gaborone'}"
      ]
     },
     "execution_count": 22,
     "metadata": {},
     "output_type": "execute_result"
    }
   ],
   "source": [
    "countries_and_capitals"
   ]
  },
  {
   "cell_type": "markdown",
   "metadata": {},
   "source": [
    "We can use the `in` operator to check if a key is in a dictionary. __Note__ it only works on keys!"
   ]
  },
  {
   "cell_type": "code",
   "execution_count": 23,
   "metadata": {},
   "outputs": [
    {
     "data": {
      "text/plain": [
       "True"
      ]
     },
     "execution_count": 23,
     "metadata": {},
     "output_type": "execute_result"
    }
   ],
   "source": [
    "# Note that Botswana is a key\n",
    "'Botswana' in countries_and_capitals"
   ]
  },
  {
   "cell_type": "code",
   "execution_count": 24,
   "metadata": {},
   "outputs": [
    {
     "data": {
      "text/plain": [
       "False"
      ]
     },
     "execution_count": 24,
     "metadata": {},
     "output_type": "execute_result"
    }
   ],
   "source": [
    "# Paris isn't a key, so it is not found\n",
    "'Paris' in countries_and_capitals"
   ]
  },
  {
   "cell_type": "code",
   "execution_count": 25,
   "metadata": {},
   "outputs": [
    {
     "data": {
      "text/plain": [
       "False"
      ]
     },
     "execution_count": 25,
     "metadata": {},
     "output_type": "execute_result"
    }
   ],
   "source": [
    "'Fiji' in countries_and_capitals"
   ]
  },
  {
   "cell_type": "markdown",
   "metadata": {},
   "source": [
    "We cannot access dictionaries by index, only by `keys`:"
   ]
  },
  {
   "cell_type": "code",
   "execution_count": 26,
   "metadata": {},
   "outputs": [
    {
     "ename": "KeyError",
     "evalue": "0",
     "output_type": "error",
     "traceback": [
      "\u001b[1;31m---------------------------------------------------------------------------\u001b[0m",
      "\u001b[1;31mKeyError\u001b[0m                                  Traceback (most recent call last)",
      "\u001b[1;32m<ipython-input-26-15e30bb24557>\u001b[0m in \u001b[0;36m<module>\u001b[1;34m\u001b[0m\n\u001b[0;32m      1\u001b[0m \u001b[1;31m# This will give an error, unless there is a key assigne to 0\u001b[0m\u001b[1;33m\u001b[0m\u001b[1;33m\u001b[0m\u001b[0m\n\u001b[1;32m----> 2\u001b[1;33m \u001b[0mcountries_and_capitals\u001b[0m\u001b[1;33m[\u001b[0m\u001b[1;36m0\u001b[0m\u001b[1;33m]\u001b[0m\u001b[1;33m\u001b[0m\u001b[1;33m\u001b[0m\u001b[0m\n\u001b[0m",
      "\u001b[1;31mKeyError\u001b[0m: 0"
     ]
    }
   ],
   "source": [
    "# This will give an error, unless there is a key assigne to 0\n",
    "countries_and_capitals[0]"
   ]
  },
  {
   "cell_type": "markdown",
   "metadata": {},
   "source": [
    "You shouldn't rely on the order of items in a dictionary either. They are not designed to be accessed by position. We can iterate over a dictionary in a `for loop`, but should not rely on the order"
   ]
  },
  {
   "cell_type": "code",
   "execution_count": 36,
   "metadata": {},
   "outputs": [
    {
     "name": "stdout",
     "output_type": "stream",
     "text": [
      "United States of America\n",
      "Argentina\n",
      "France\n",
      "India\n",
      "Botswana\n"
     ]
    },
    {
     "data": {
      "text/plain": [
       "{'United States of America': 'Washington D.C.',\n",
       " 'Argentina': 'Paris',\n",
       " 'France': 'Paris',\n",
       " 'India': 'New Delhi',\n",
       " 'Botswana': 'Gaborone'}"
      ]
     },
     "execution_count": 36,
     "metadata": {},
     "output_type": "execute_result"
    }
   ],
   "source": [
    "for country in countries_and_capitals:\n",
    "    print(country)\n",
    "countries_and_capitals"
   ]
  },
  {
   "cell_type": "markdown",
   "metadata": {},
   "source": [
    "### Dictionary methods\n",
    "\n",
    "Dictionaries have a few methods that can be observed by writing the name of the dictionary, followe by a `.` and press the `TAB` key.  Here are a few examples:"
   ]
  },
  {
   "cell_type": "code",
   "execution_count": 37,
   "metadata": {},
   "outputs": [
    {
     "data": {
      "text/plain": [
       "['__class__',\n",
       " '__class_getitem__',\n",
       " '__contains__',\n",
       " '__delattr__',\n",
       " '__delitem__',\n",
       " '__dir__',\n",
       " '__doc__',\n",
       " '__eq__',\n",
       " '__format__',\n",
       " '__ge__',\n",
       " '__getattribute__',\n",
       " '__getitem__',\n",
       " '__gt__',\n",
       " '__hash__',\n",
       " '__init__',\n",
       " '__init_subclass__',\n",
       " '__ior__',\n",
       " '__iter__',\n",
       " '__le__',\n",
       " '__len__',\n",
       " '__lt__',\n",
       " '__ne__',\n",
       " '__new__',\n",
       " '__or__',\n",
       " '__reduce__',\n",
       " '__reduce_ex__',\n",
       " '__repr__',\n",
       " '__reversed__',\n",
       " '__ror__',\n",
       " '__setattr__',\n",
       " '__setitem__',\n",
       " '__sizeof__',\n",
       " '__str__',\n",
       " '__subclasshook__',\n",
       " 'clear',\n",
       " 'copy',\n",
       " 'fromkeys',\n",
       " 'get',\n",
       " 'items',\n",
       " 'keys',\n",
       " 'pop',\n",
       " 'popitem',\n",
       " 'setdefault',\n",
       " 'update',\n",
       " 'values']"
      ]
     },
     "execution_count": 37,
     "metadata": {},
     "output_type": "execute_result"
    }
   ],
   "source": [
    "dir(countries_and_capitals)"
   ]
  },
  {
   "cell_type": "code",
   "execution_count": 38,
   "metadata": {},
   "outputs": [
    {
     "data": {
      "text/plain": [
       "dict_keys(['United States of America', 'Argentina', 'France', 'India', 'Botswana'])"
      ]
     },
     "execution_count": 38,
     "metadata": {},
     "output_type": "execute_result"
    }
   ],
   "source": [
    "countries_and_capitals.keys() # displays all the keys"
   ]
  },
  {
   "cell_type": "code",
   "execution_count": 42,
   "metadata": {},
   "outputs": [
    {
     "data": {
      "text/plain": [
       "dict_values(['Washington D.C.', 'Paris', 'Paris', 'New Delhi', 'Gaborone'])"
      ]
     },
     "execution_count": 42,
     "metadata": {},
     "output_type": "execute_result"
    }
   ],
   "source": [
    "countries_and_capitals.values() # displays all the values"
   ]
  },
  {
   "cell_type": "code",
   "execution_count": 43,
   "metadata": {},
   "outputs": [
    {
     "data": {
      "text/plain": [
       "'unknown'"
      ]
     },
     "execution_count": 43,
     "metadata": {},
     "output_type": "execute_result"
    }
   ],
   "source": [
    "countries_and_capitals.get('Fiji', 'unknown') # does not error if the key is not found"
   ]
  },
  {
   "cell_type": "code",
   "execution_count": 44,
   "metadata": {},
   "outputs": [
    {
     "data": {
      "text/plain": [
       "dict_items([('United States of America', 'Washington D.C.'), ('Argentina', 'Paris'), ('France', 'Paris'), ('India', 'New Delhi'), ('Botswana', 'Gaborone')])"
      ]
     },
     "execution_count": 44,
     "metadata": {},
     "output_type": "execute_result"
    }
   ],
   "source": [
    "countries_and_capitals.items() # returns the key/value pairs"
   ]
  },
  {
   "cell_type": "markdown",
   "metadata": {},
   "source": [
    "### Brief summary of dictionaries\n",
    "\n",
    "- Created with `{key1: value1, key2: value2, .... }`\n",
    "- Keys must be immutable. Basically use strings, numbers, or tuples as your keys.\n",
    "- Keys cannot repeat, assigning to the same key will overwrite the existing value\n",
    "- Values can repeat\n",
    "- The `in` keyword tests whether a key is in the dictionary or not.\n",
    "- We can mutate a dictionary. \n",
    "  - To add `new_key` to a dictionary `d`, we can write `d[new_key] = .....`\n",
    "  - To remove `old_key` from a dictionary `d`, we can write `del d[old_key]`"
   ]
  },
  {
   "cell_type": "markdown",
   "metadata": {},
   "source": [
    "### Test:\n",
    "\n",
    "We have a menu with the following items on it:\n",
    "\n",
    "| Name | Price |\n",
    "| --- | --- |\n",
    "| Small fries | 1.00 |\n",
    "| Hamburger | 1.00 |\n",
    "| Small drink | 1.00|\n",
    "| Medium drink | 1.00 |\n",
    "| Large drink | 1.00 |\n",
    "| Medium fries | 1.45 |\n",
    "| Large fries | 2.00 |\n",
    "| Cheeseburger | 2.50 |\n",
    "\n",
    "1. Would we be able to make a dictionary `name_to_price` where the keys are names and the values are the price?\n",
    "2. Would we be able to make a dictionary `price_to_name` where the keys are prices and the values are the name?"
   ]
  },
  {
   "cell_type": "code",
   "execution_count": 45,
   "metadata": {},
   "outputs": [
    {
     "data": {
      "text/plain": [
       "{1.0: ['Small fries', 'Hamburger', 'Small drink'],\n",
       " 1.45: ['Medium fries'],\n",
       " 2.0: ['Large fries'],\n",
       " 2.5: ['Cheeseburger']}"
      ]
     },
     "execution_count": 45,
     "metadata": {},
     "output_type": "execute_result"
    }
   ],
   "source": [
    "price_to_name = {\n",
    "    1.00: ['Small fries', 'Hamburger', 'Small drink'],\n",
    "    1.45: ['Medium fries'],\n",
    "    2.00: ['Large fries'],\n",
    "    2.50: ['Cheeseburger'] \n",
    "}\n",
    "\n",
    "price_to_name"
   ]
  },
  {
   "cell_type": "markdown",
   "metadata": {},
   "source": [
    "## Examples of using a dictionary:\n",
    "\n",
    "Dictionaries are quick to add keys, and quick to find keys (they use a trick called _hashing_). Here are a few examples where `dictionaries` are useful. \n",
    "\n",
    "1. **Phone book:** e.g. Key: name, value: phone number\n",
    "2. **Counters:** e.g. key: thing to be counted, value: number of occurances of thing to be counted\n",
    "3. **More readable datastructures**: We can get away with storing information in lists such as `[name, age, salary]`, but then we have to remember the order. A dictionaries keys can make it easier for the next person to read.\n"
   ]
  },
  {
   "cell_type": "markdown",
   "metadata": {},
   "source": [
    "## Exercise:\n",
    "\n",
    "Write a function that given a string of digits, returns a dictionary that counts how many times each digit appears in the text. The `keys` are the digits and the `values` are the counts of how many times the digit occurs."
   ]
  },
  {
   "cell_type": "code",
   "execution_count": 46,
   "metadata": {},
   "outputs": [
    {
     "data": {
      "text/plain": [
       "['__add__',\n",
       " '__class__',\n",
       " '__contains__',\n",
       " '__delattr__',\n",
       " '__dir__',\n",
       " '__doc__',\n",
       " '__eq__',\n",
       " '__format__',\n",
       " '__ge__',\n",
       " '__getattribute__',\n",
       " '__getitem__',\n",
       " '__getnewargs__',\n",
       " '__gt__',\n",
       " '__hash__',\n",
       " '__init__',\n",
       " '__init_subclass__',\n",
       " '__iter__',\n",
       " '__le__',\n",
       " '__len__',\n",
       " '__lt__',\n",
       " '__mod__',\n",
       " '__mul__',\n",
       " '__ne__',\n",
       " '__new__',\n",
       " '__reduce__',\n",
       " '__reduce_ex__',\n",
       " '__repr__',\n",
       " '__rmod__',\n",
       " '__rmul__',\n",
       " '__setattr__',\n",
       " '__sizeof__',\n",
       " '__str__',\n",
       " '__subclasshook__',\n",
       " 'capitalize',\n",
       " 'casefold',\n",
       " 'center',\n",
       " 'count',\n",
       " 'encode',\n",
       " 'endswith',\n",
       " 'expandtabs',\n",
       " 'find',\n",
       " 'format',\n",
       " 'format_map',\n",
       " 'index',\n",
       " 'isalnum',\n",
       " 'isalpha',\n",
       " 'isascii',\n",
       " 'isdecimal',\n",
       " 'isdigit',\n",
       " 'isidentifier',\n",
       " 'islower',\n",
       " 'isnumeric',\n",
       " 'isprintable',\n",
       " 'isspace',\n",
       " 'istitle',\n",
       " 'isupper',\n",
       " 'join',\n",
       " 'ljust',\n",
       " 'lower',\n",
       " 'lstrip',\n",
       " 'maketrans',\n",
       " 'partition',\n",
       " 'removeprefix',\n",
       " 'removesuffix',\n",
       " 'replace',\n",
       " 'rfind',\n",
       " 'rindex',\n",
       " 'rjust',\n",
       " 'rpartition',\n",
       " 'rsplit',\n",
       " 'rstrip',\n",
       " 'split',\n",
       " 'splitlines',\n",
       " 'startswith',\n",
       " 'strip',\n",
       " 'swapcase',\n",
       " 'title',\n",
       " 'translate',\n",
       " 'upper',\n",
       " 'zfill']"
      ]
     },
     "execution_count": 46,
     "metadata": {},
     "output_type": "execute_result"
    }
   ],
   "source": [
    "dir(\" \")"
   ]
  },
  {
   "cell_type": "code",
   "execution_count": 53,
   "metadata": {},
   "outputs": [
    {
     "name": "stdout",
     "output_type": "stream",
     "text": [
      "{'3': 3, '1': 2, '4': 1, '5': 3, '9': 3, '2': 1, '6': 1, '8': 1, '7': 1}\n"
     ]
    }
   ],
   "source": [
    "pi_string = '3.141592653589793'\n",
    "\n",
    "### Write code here\n",
    "\n",
    "def count_occurences(a_string):\n",
    "    dict_result= {}\n",
    "    for c in a_string:\n",
    "        if c != \".\":\n",
    "            dict_result[c]= a_string.count(c)\n",
    "    return dict_result\n",
    "print(count_occurences(pi_string))\n"
   ]
  },
  {
   "cell_type": "code",
   "execution_count": 48,
   "metadata": {},
   "outputs": [],
   "source": [
    "### ANSWER\n",
    "\n",
    "pi_string = '3.141592653589793'\n",
    "\n",
    "def count_digits(text):\n",
    "    digit_counter = {}\n",
    "    for digit in text:\n",
    "        if digit.isnumeric():\n",
    "            if digit not in digit_counter:\n",
    "                digit_counter[digit] = 0\n",
    "            digit_counter[digit] +=1\n",
    "    return digit_counter"
   ]
  },
  {
   "cell_type": "code",
   "execution_count": 49,
   "metadata": {},
   "outputs": [
    {
     "data": {
      "text/plain": [
       "{'3': 3, '1': 2, '4': 1, '5': 3, '9': 3, '2': 1, '6': 1, '8': 1, '7': 1}"
      ]
     },
     "execution_count": 49,
     "metadata": {},
     "output_type": "execute_result"
    }
   ],
   "source": [
    "digit_counter = count_digits(pi_string)\n",
    "digit_counter"
   ]
  },
  {
   "cell_type": "code",
   "execution_count": null,
   "metadata": {},
   "outputs": [],
   "source": [
    "### ANOTHER ANSWER\n",
    "\n",
    "pi_string = '3.141592653589793'\n",
    "\n",
    "def count_digits2(text):\n",
    "    digit_counter = {}\n",
    "    for digit in text:\n",
    "        if digit.isnumeric() and digit not in digit_counter: # in one line\n",
    "            digit_counter[digit] = pi_string.count(digit) # use the count method\n",
    "    return digit_counter"
   ]
  },
  {
   "cell_type": "code",
   "execution_count": null,
   "metadata": {},
   "outputs": [],
   "source": [
    "digit_counter = count_digits2(pi_string)\n",
    "digit_counter"
   ]
  },
  {
   "cell_type": "code",
   "execution_count": 54,
   "metadata": {},
   "outputs": [],
   "source": [
    "### ANOTHER ANSWER\n",
    "\n",
    "pi_string = '3.141592653589793'\n",
    "\n",
    "def count_digits3(text):\n",
    "    digit_counter = {}\n",
    "    for digit in text:\n",
    "        if digit.isnumeric():\n",
    "            digit_counter[digit] = digit_counter.get(digit,0)+1 # use the .get\n",
    "    return digit_counter"
   ]
  },
  {
   "cell_type": "code",
   "execution_count": 56,
   "metadata": {},
   "outputs": [
    {
     "data": {
      "text/plain": [
       "['__class__',\n",
       " '__class_getitem__',\n",
       " '__contains__',\n",
       " '__delattr__',\n",
       " '__delitem__',\n",
       " '__dir__',\n",
       " '__doc__',\n",
       " '__eq__',\n",
       " '__format__',\n",
       " '__ge__',\n",
       " '__getattribute__',\n",
       " '__getitem__',\n",
       " '__gt__',\n",
       " '__hash__',\n",
       " '__init__',\n",
       " '__init_subclass__',\n",
       " '__ior__',\n",
       " '__iter__',\n",
       " '__le__',\n",
       " '__len__',\n",
       " '__lt__',\n",
       " '__ne__',\n",
       " '__new__',\n",
       " '__or__',\n",
       " '__reduce__',\n",
       " '__reduce_ex__',\n",
       " '__repr__',\n",
       " '__reversed__',\n",
       " '__ror__',\n",
       " '__setattr__',\n",
       " '__setitem__',\n",
       " '__sizeof__',\n",
       " '__str__',\n",
       " '__subclasshook__',\n",
       " 'clear',\n",
       " 'copy',\n",
       " 'fromkeys',\n",
       " 'get',\n",
       " 'items',\n",
       " 'keys',\n",
       " 'pop',\n",
       " 'popitem',\n",
       " 'setdefault',\n",
       " 'update',\n",
       " 'values']"
      ]
     },
     "execution_count": 56,
     "metadata": {},
     "output_type": "execute_result"
    }
   ],
   "source": [
    "digit_counter = count_digits3(pi_string)\n",
    "dir(digit_counter)\n"
   ]
  },
  {
   "cell_type": "code",
   "execution_count": 59,
   "metadata": {},
   "outputs": [
    {
     "name": "stdout",
     "output_type": "stream",
     "text": [
      "dict_values([3, 2, 1, 3, 3, 1, 1, 1, 1])\n"
     ]
    }
   ],
   "source": [
    "print(digit_counter.values())"
   ]
  },
  {
   "cell_type": "markdown",
   "metadata": {},
   "source": [
    "If we want to figure out which number has the highest counts we could create a list of lists with the first element being the `value`, and the second element being the `key`. Finally we would sort this list as shown below. "
   ]
  },
  {
   "cell_type": "code",
   "execution_count": 60,
   "metadata": {},
   "outputs": [
    {
     "data": {
      "text/plain": [
       "[[3, '3'],\n",
       " [2, '1'],\n",
       " [1, '4'],\n",
       " [3, '5'],\n",
       " [3, '9'],\n",
       " [1, '2'],\n",
       " [1, '6'],\n",
       " [1, '8'],\n",
       " [1, '7']]"
      ]
     },
     "execution_count": 60,
     "metadata": {},
     "output_type": "execute_result"
    }
   ],
   "source": [
    "# we create a list of lists\n",
    "new_list = []\n",
    "for key, value in digit_counter.items():\n",
    "    new_list.append([value,key])\n",
    "new_list"
   ]
  },
  {
   "cell_type": "code",
   "execution_count": 61,
   "metadata": {},
   "outputs": [
    {
     "data": {
      "text/plain": [
       "[[3, '9'],\n",
       " [3, '5'],\n",
       " [3, '3'],\n",
       " [2, '1'],\n",
       " [1, '8'],\n",
       " [1, '7'],\n",
       " [1, '6'],\n",
       " [1, '4'],\n",
       " [1, '2']]"
      ]
     },
     "execution_count": 61,
     "metadata": {},
     "output_type": "execute_result"
    }
   ],
   "source": [
    "# we sort from high to low\n",
    "sorted(new_list,reverse = True)"
   ]
  },
  {
   "cell_type": "markdown",
   "metadata": {},
   "source": [
    "### Nested Dictionaries\n",
    "\n",
    "We can also have `dictionaries` within `dictionaries`."
   ]
  },
  {
   "cell_type": "code",
   "execution_count": 62,
   "metadata": {},
   "outputs": [
    {
     "data": {
      "text/plain": [
       "{'Clark': {'age': 20, 'weight': 170}, 'Bruce': {'age': 25, 'height': 6}}"
      ]
     },
     "execution_count": 62,
     "metadata": {},
     "output_type": "execute_result"
    }
   ],
   "source": [
    "my_dict = {'Clark': {'age': 20, 'weight': 170},\n",
    "          'Bruce': {'age': 25, 'height': 6}}\n",
    "\n",
    "my_dict"
   ]
  },
  {
   "cell_type": "code",
   "execution_count": 63,
   "metadata": {},
   "outputs": [
    {
     "data": {
      "text/plain": [
       "25"
      ]
     },
     "execution_count": 63,
     "metadata": {},
     "output_type": "execute_result"
    }
   ],
   "source": [
    "my_dict['Bruce']['age']"
   ]
  },
  {
   "cell_type": "markdown",
   "metadata": {},
   "source": [
    "### Revisiting Keyword and Positional Arguments in Functions"
   ]
  },
  {
   "cell_type": "code",
   "execution_count": 64,
   "metadata": {},
   "outputs": [],
   "source": [
    "def power_plus(number, exponent, plus):\n",
    "    return number**exponent+plus"
   ]
  },
  {
   "cell_type": "markdown",
   "metadata": {},
   "source": [
    "The function above can be called by `position`, as shown below:"
   ]
  },
  {
   "cell_type": "code",
   "execution_count": 65,
   "metadata": {},
   "outputs": [
    {
     "data": {
      "text/plain": [
       "10"
      ]
     },
     "execution_count": 65,
     "metadata": {},
     "output_type": "execute_result"
    }
   ],
   "source": [
    "power_plus(3,2,1) # 3**2+1 = 10"
   ]
  },
  {
   "cell_type": "markdown",
   "metadata": {},
   "source": [
    "We can also use `lists` and an `*`"
   ]
  },
  {
   "cell_type": "code",
   "execution_count": 69,
   "metadata": {},
   "outputs": [
    {
     "data": {
      "text/plain": [
       "10"
      ]
     },
     "execution_count": 69,
     "metadata": {},
     "output_type": "execute_result"
    }
   ],
   "source": [
    "my_list = [3,2,1]\n",
    "power_plus(*my_list)"
   ]
  },
  {
   "cell_type": "markdown",
   "metadata": {},
   "source": [
    "It can also be called by `keyword`"
   ]
  },
  {
   "cell_type": "code",
   "execution_count": 70,
   "metadata": {},
   "outputs": [
    {
     "data": {
      "text/plain": [
       "10"
      ]
     },
     "execution_count": 70,
     "metadata": {},
     "output_type": "execute_result"
    }
   ],
   "source": [
    "power_plus(plus = 1, number = 3, exponent = 2) # Note that the order does not matter"
   ]
  },
  {
   "cell_type": "markdown",
   "metadata": {},
   "source": [
    "We can also use `dictionaries` and `**`"
   ]
  },
  {
   "cell_type": "code",
   "execution_count": 75,
   "metadata": {},
   "outputs": [
    {
     "data": {
      "text/plain": [
       "10"
      ]
     },
     "execution_count": 75,
     "metadata": {},
     "output_type": "execute_result"
    }
   ],
   "source": [
    "my_dict = {'plus': 1, 'number': 3, 'exponent': 2}\n",
    "power_plus(**my_dict)"
   ]
  },
  {
   "cell_type": "code",
   "execution_count": null,
   "metadata": {},
   "outputs": [],
   "source": []
  }
 ],
 "metadata": {
  "interpreter": {
   "hash": "64460278cf54f2db23a20d0ab8fa39296004f6e4c7228992e856f19dd3744f6d"
  },
  "kernelspec": {
   "display_name": "Python 3.9.7 64-bit",
   "name": "python3"
  },
  "language_info": {
   "codemirror_mode": {
    "name": "ipython",
    "version": 3
   },
   "file_extension": ".py",
   "mimetype": "text/x-python",
   "name": "python",
   "nbconvert_exporter": "python",
   "pygments_lexer": "ipython3",
   "version": "3.9.7"
  },
  "toc": {
   "base_numbering": 1,
   "nav_menu": {},
   "number_sections": false,
   "sideBar": true,
   "skip_h1_title": false,
   "title_cell": "Table of Contents",
   "title_sidebar": "Contents",
   "toc_cell": false,
   "toc_position": {},
   "toc_section_display": true,
   "toc_window_display": true
  }
 },
 "nbformat": 4,
 "nbformat_minor": 2
}
