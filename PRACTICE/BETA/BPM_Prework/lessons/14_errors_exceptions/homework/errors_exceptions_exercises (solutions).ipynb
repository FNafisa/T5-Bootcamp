{
 "cells": [
  {
   "cell_type": "markdown",
   "metadata": {},
   "source": [
    "# Exercises: Errors and Exceptions\n",
    "\n",
    "There are a few ways that our mean, variance, and covariance functions from the last exercise set can break if we pass them the wrong values. Let's fix that now by including some error handling. Here are implementations of the functions, which we'll edit to make safer."
   ]
  },
  {
   "cell_type": "code",
   "execution_count": null,
   "metadata": {},
   "outputs": [],
   "source": [
    "def my_mean(numbers):\n",
    "    N = len(numbers)\n",
    "    total = 0\n",
    "    for num in numbers:\n",
    "        total += num\n",
    "    mean = total / N\n",
    "    return mean\n",
    "\n",
    "\n",
    "def my_cov(list_x, list_y):\n",
    "    assert len(list_x) == len(list_y)\n",
    "    N = len(list_x)\n",
    "    xbar = my_mean(list_x)\n",
    "    ybar = my_mean(list_y)\n",
    "    total = 0\n",
    "    for i in range(len(list_x)):\n",
    "        total += ((list_x[i] - xbar) * (list_y[i] - ybar))\n",
    "    cov = total / N\n",
    "    return cov\n",
    "\n",
    "\n",
    "def my_var(list_x):\n",
    "    var = my_cov(list_x, list_x)\n",
    "    return var"
   ]
  },
  {
   "cell_type": "markdown",
   "metadata": {},
   "source": [
    "## Breaking `my_mean`\n",
    "\n",
    "Run the following cells and note the lines of code where `my_mean` breaks down. \n",
    "\n",
    "How might we want to handle these errors?"
   ]
  },
  {
   "cell_type": "code",
   "execution_count": null,
   "metadata": {},
   "outputs": [],
   "source": [
    "my_mean([])"
   ]
  },
  {
   "cell_type": "code",
   "execution_count": null,
   "metadata": {},
   "outputs": [],
   "source": [
    "my_mean([\"a\", \"b\", \"c\"])"
   ]
  },
  {
   "cell_type": "code",
   "execution_count": null,
   "metadata": {},
   "outputs": [],
   "source": [
    "my_mean([1, 2, \"c\"])"
   ]
  },
  {
   "cell_type": "markdown",
   "metadata": {},
   "source": [
    "## Error Handling in `my_mean`\n",
    "\n",
    "Implement a function called `my_safe_mean` that prevents the above errors from interrupting our program. In case errors are caught, have the function print an error message and exit gracefully."
   ]
  },
  {
   "cell_type": "code",
   "execution_count": null,
   "metadata": {},
   "outputs": [],
   "source": [
    "def my_safe_mean(numbers):\n",
    "    N = len(numbers)\n",
    "    total = 0\n",
    "    for num in numbers:\n",
    "        try:\n",
    "            total += num\n",
    "        except TypeError:\n",
    "            print(\"Cannot calculate mean of non-numerical values.\")\n",
    "            return\n",
    "    try:\n",
    "        mean = total / N\n",
    "    except ZeroDivisionError:\n",
    "        print(\"Cannot calculate mean of an empty list.\")\n",
    "        return\n",
    "    return mean"
   ]
  },
  {
   "cell_type": "code",
   "execution_count": null,
   "metadata": {},
   "outputs": [],
   "source": [
    "my_safe_mean([])"
   ]
  },
  {
   "cell_type": "code",
   "execution_count": null,
   "metadata": {},
   "outputs": [],
   "source": [
    "my_safe_mean([\"a\", \"b\", \"c\"])"
   ]
  },
  {
   "cell_type": "code",
   "execution_count": null,
   "metadata": {},
   "outputs": [],
   "source": [
    "my_safe_mean([1, 2, \"c\"])"
   ]
  },
  {
   "cell_type": "markdown",
   "metadata": {},
   "source": [
    "## Safe Covariance and Variance\n",
    "\n",
    "Edit the code below to make the function exit gracefully, printing an error message, if it receives two lists of different lengths. \n",
    "\n",
    "Do we need to include error handling for `TypeError`s and `ZeroDivisionError`s? Why or why not?"
   ]
  },
  {
   "cell_type": "code",
   "execution_count": null,
   "metadata": {},
   "outputs": [],
   "source": [
    "def my_safe_cov(list_x, list_y):\n",
    "    try:\n",
    "        assert len(list_x) == len(list_y)\n",
    "    except AssertionError:\n",
    "        print(\"Lengths of lists must be equal to calculate covariance.\")\n",
    "        return\n",
    "    N = len(list_x)\n",
    "    xbar = my_safe_mean(list_x)\n",
    "    ybar = my_safe_mean(list_y)\n",
    "    total = 0\n",
    "    for i in range(len(list_x)):\n",
    "        try:\n",
    "            total += ((list_x[i] - xbar) * (list_y[i] - ybar))\n",
    "        except TypeError:\n",
    "            print(\"Cannot calculate covariance of non-numerical items.\")\n",
    "            return\n",
    "    try:\n",
    "        cov = total / N\n",
    "    except ZeroDivisionError:\n",
    "        print(\"Cannot calculate covariance of empty lists.\")\n",
    "        return\n",
    "    return cov"
   ]
  },
  {
   "cell_type": "code",
   "execution_count": null,
   "metadata": {},
   "outputs": [],
   "source": [
    "my_safe_cov([], [])"
   ]
  },
  {
   "cell_type": "code",
   "execution_count": null,
   "metadata": {},
   "outputs": [],
   "source": [
    "my_safe_cov([0, 1, 2], [3, 4])"
   ]
  },
  {
   "cell_type": "code",
   "execution_count": null,
   "metadata": {},
   "outputs": [],
   "source": [
    "my_safe_cov([0, 1, 2], [3, 4, 'monkey'])"
   ]
  }
 ],
 "metadata": {
  "kernelspec": {
   "display_name": "Python 3",
   "language": "python",
   "name": "python3"
  },
  "language_info": {
   "codemirror_mode": {
    "name": "ipython",
    "version": 3
   },
   "file_extension": ".py",
   "mimetype": "text/x-python",
   "name": "python",
   "nbconvert_exporter": "python",
   "pygments_lexer": "ipython3",
   "version": "3.7.3"
  },
  "toc": {
   "base_numbering": 1,
   "nav_menu": {},
   "number_sections": true,
   "sideBar": true,
   "skip_h1_title": false,
   "title_cell": "Table of Contents",
   "title_sidebar": "Contents",
   "toc_cell": false,
   "toc_position": {},
   "toc_section_display": true,
   "toc_window_display": false
  }
 },
 "nbformat": 4,
 "nbformat_minor": 2
}
