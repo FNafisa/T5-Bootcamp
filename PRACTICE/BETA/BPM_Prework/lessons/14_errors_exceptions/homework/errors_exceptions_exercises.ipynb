{
 "cells": [
  {
   "cell_type": "markdown",
   "metadata": {},
   "source": [
    "# Exercises: Errors and Exceptions\n",
    "\n",
    "There are a few ways that our mean, variance, and covariance functions from the last exercise set can break if we pass them the wrong values. Let's fix that now by including some error handling. Here are implementations of the functions, which we'll edit to make safer."
   ]
  },
  {
   "cell_type": "code",
   "execution_count": null,
   "metadata": {
    "ExecuteTime": {
     "end_time": "2019-11-08T07:26:41.081436Z",
     "start_time": "2019-11-08T07:26:41.072100Z"
    }
   },
   "outputs": [],
   "source": [
    "def my_mean(numbers):\n",
    "    N = len(numbers)\n",
    "    total = 0\n",
    "    for num in numbers:\n",
    "        total += num\n",
    "    mean = total / N\n",
    "    return mean\n",
    "\n",
    "\n",
    "def my_cov(list_x, list_y):\n",
    "    assert len(list_x) == len(list_y)\n",
    "    N = len(list_x)\n",
    "    xbar = my_mean(list_x)\n",
    "    ybar = my_mean(list_y)\n",
    "    total = 0\n",
    "    for i in range(len(list_x)):\n",
    "        total += ((list_x[i] - xbar) * (list_y[i] - ybar))\n",
    "    cov = total / N\n",
    "    return cov\n",
    "\n",
    "\n",
    "def my_var(list_x):\n",
    "    var = my_cov(list_x, list_x)\n",
    "    return var"
   ]
  },
  {
   "cell_type": "markdown",
   "metadata": {},
   "source": [
    "## Breaking `my_mean`\n",
    "\n",
    "Run the following cells and note the lines of code where `my_mean` breaks down. \n",
    "\n",
    "How might we want to handle these errors?"
   ]
  },
  {
   "cell_type": "code",
   "execution_count": null,
   "metadata": {
    "ExecuteTime": {
     "end_time": "2019-11-08T07:26:47.316478Z",
     "start_time": "2019-11-08T07:26:47.201952Z"
    }
   },
   "outputs": [],
   "source": [
    "my_mean([])"
   ]
  },
  {
   "cell_type": "code",
   "execution_count": null,
   "metadata": {
    "ExecuteTime": {
     "end_time": "2019-11-08T07:27:01.848013Z",
     "start_time": "2019-11-08T07:27:01.832754Z"
    }
   },
   "outputs": [],
   "source": [
    "my_mean([\"a\", \"b\", \"c\"])"
   ]
  },
  {
   "cell_type": "code",
   "execution_count": null,
   "metadata": {
    "ExecuteTime": {
     "end_time": "2019-11-08T07:31:01.493917Z",
     "start_time": "2019-11-08T07:31:01.479959Z"
    }
   },
   "outputs": [],
   "source": [
    "my_mean([1, 2, \"c\"])"
   ]
  },
  {
   "cell_type": "markdown",
   "metadata": {},
   "source": [
    "## Error Handling in `my_mean`\n",
    "\n",
    "Implement a function called `my_safe_mean` that prevents the above errors from interrupting our program. In case errors are caught, have the function print an error message and exit gracefully."
   ]
  },
  {
   "cell_type": "code",
   "execution_count": null,
   "metadata": {
    "ExecuteTime": {
     "end_time": "2019-12-20T06:51:52.616096Z",
     "start_time": "2019-12-20T06:51:52.602733Z"
    }
   },
   "outputs": [],
   "source": [
    "def my_safe_mean(numbers):\n",
    "    N = len(numbers)\n",
    "    total = 0\n",
    "    for num in numbers:\n",
    "        total += num\n",
    "    mean = total / N\n",
    "    return mean"
   ]
  },
  {
   "cell_type": "code",
   "execution_count": null,
   "metadata": {
    "ExecuteTime": {
     "end_time": "2019-12-20T06:51:54.498499Z",
     "start_time": "2019-12-20T06:51:54.272873Z"
    }
   },
   "outputs": [],
   "source": [
    "my_safe_mean([])"
   ]
  },
  {
   "cell_type": "code",
   "execution_count": null,
   "metadata": {
    "ExecuteTime": {
     "end_time": "2019-11-08T07:37:02.929799Z",
     "start_time": "2019-11-08T07:37:02.922907Z"
    }
   },
   "outputs": [],
   "source": [
    "my_safe_mean([\"a\", \"b\", \"c\"])"
   ]
  },
  {
   "cell_type": "code",
   "execution_count": null,
   "metadata": {
    "ExecuteTime": {
     "end_time": "2019-11-08T07:37:35.999900Z",
     "start_time": "2019-11-08T07:37:35.993027Z"
    }
   },
   "outputs": [],
   "source": [
    "my_safe_mean([1, 2, \"c\"])"
   ]
  },
  {
   "cell_type": "markdown",
   "metadata": {},
   "source": [
    "## Safe Covariance and Variance\n",
    "\n",
    "Edit the code below to make the function exit gracefully, printing an error message, \n",
    "- if it receives two lists of different lengths, \n",
    "- if it receives lists with non-numerical data,\n",
    "- if it receives empty lists.\n",
    "\n",
    "Do we need to include error handling for `TypeError`s and `ZeroDivisionError`s? Why or why not?"
   ]
  },
  {
   "cell_type": "code",
   "execution_count": null,
   "metadata": {
    "ExecuteTime": {
     "end_time": "2019-12-20T06:52:05.103423Z",
     "start_time": "2019-12-20T06:52:05.093175Z"
    }
   },
   "outputs": [],
   "source": [
    "def my_safe_cov(list_x, list_y):\n",
    "    assert len(list_x) == len(list_y)\n",
    "    N = len(list_x)\n",
    "    xbar = my_safe_mean(list_x)\n",
    "    ybar = my_safe_mean(list_y)\n",
    "    total = 0\n",
    "    for i in range(len(list_x)):\n",
    "        total += ((list_x[i] - xbar) * (list_y[i] - ybar))\n",
    "    cov = total / N\n",
    "    return cov"
   ]
  },
  {
   "cell_type": "code",
   "execution_count": null,
   "metadata": {
    "ExecuteTime": {
     "end_time": "2019-12-20T06:52:06.792163Z",
     "start_time": "2019-12-20T06:52:06.773867Z"
    }
   },
   "outputs": [],
   "source": [
    "my_safe_cov([], [])"
   ]
  },
  {
   "cell_type": "code",
   "execution_count": null,
   "metadata": {
    "ExecuteTime": {
     "end_time": "2019-11-08T07:50:17.365347Z",
     "start_time": "2019-11-08T07:50:17.355116Z"
    }
   },
   "outputs": [],
   "source": [
    "my_safe_cov([0, 1, 2], [3, 4])"
   ]
  },
  {
   "cell_type": "code",
   "execution_count": null,
   "metadata": {
    "ExecuteTime": {
     "end_time": "2019-11-08T07:50:38.801572Z",
     "start_time": "2019-11-08T07:50:38.794799Z"
    }
   },
   "outputs": [],
   "source": [
    "my_safe_cov([0, 1, 2], [3, 4, 'monkey'])"
   ]
  }
 ],
 "metadata": {
  "kernelspec": {
   "display_name": "Python 3",
   "language": "python",
   "name": "python3"
  },
  "language_info": {
   "codemirror_mode": {
    "name": "ipython",
    "version": 3
   },
   "file_extension": ".py",
   "mimetype": "text/x-python",
   "name": "python",
   "nbconvert_exporter": "python",
   "pygments_lexer": "ipython3",
   "version": "3.6.8"
  },
  "toc": {
   "base_numbering": 1,
   "nav_menu": {},
   "number_sections": true,
   "sideBar": true,
   "skip_h1_title": false,
   "title_cell": "Table of Contents",
   "title_sidebar": "Contents",
   "toc_cell": false,
   "toc_position": {},
   "toc_section_display": true,
   "toc_window_display": false
  }
 },
 "nbformat": 4,
 "nbformat_minor": 2
}
