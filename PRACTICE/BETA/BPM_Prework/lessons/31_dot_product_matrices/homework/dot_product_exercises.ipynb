{
 "cells": [
  {
   "cell_type": "markdown",
   "metadata": {},
   "source": [
    "### Problem 1: \n",
    "Given the following vectors:\n",
    "\n",
    "$ \\pmb a = [1,3]$\n",
    "$ \\pmb b = [2,-1]$\n",
    "$ \\pmb c = [-1,2]$\n",
    "$ \\pmb d = [1,2,3]$\n",
    "$ \\pmb e = [3,2,1]$\n",
    "\n",
    "\n",
    "What is the dot product of:\n",
    "\n",
    "a) $ \\pmb a \\pmb b$\n",
    "\n",
    "b) $ \\pmb b \\pmb a$\n",
    "\n",
    "c) $ \\pmb a \\pmb c$\n",
    "\n",
    "d) $ \\pmb b \\pmb c$\n",
    "\n",
    "e) $ \\pmb d \\pmb e$\n",
    "\n",
    "f) $ \\pmb e \\pmb e$"
   ]
  },
  {
   "cell_type": "markdown",
   "metadata": {},
   "source": [
    "### Problem 2: \n",
    "Given the following vectors:\n",
    "\n",
    "$ \\pmb a = [1,3]$\n",
    "$ \\pmb b = [2,-1]$\n",
    "$ \\pmb c = [-1,2]$\n",
    "$ \\pmb d = [1,2,3]$\n",
    "$ \\pmb e = [3,2,1]$\n",
    "\n",
    "\n",
    "What is the angle between:\n",
    "\n",
    "a) $a$ and $b$\n",
    "\n",
    "b) $b$ and $a$\n",
    "\n",
    "c) $a$ and $c$\n",
    "\n",
    "d) $b$ and $c$\n",
    "\n",
    "e) $d$ and $e$\n"
   ]
  }
 ],
 "metadata": {
  "kernelspec": {
   "display_name": "Python 3",
   "language": "python",
   "name": "python3"
  },
  "language_info": {
   "codemirror_mode": {
    "name": "ipython",
    "version": 3
   },
   "file_extension": ".py",
   "mimetype": "text/x-python",
   "name": "python",
   "nbconvert_exporter": "python",
   "pygments_lexer": "ipython3",
   "version": "3.7.3"
  }
 },
 "nbformat": 4,
 "nbformat_minor": 2
}
