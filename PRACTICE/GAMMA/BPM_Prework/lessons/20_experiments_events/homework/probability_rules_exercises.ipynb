{
 "cells": [
  {
   "cell_type": "markdown",
   "metadata": {},
   "source": [
    "### Problem 1:\n",
    "\n",
    "What is the set of all real numbers whose squares are equal to 25?"
   ]
  },
  {
   "cell_type": "markdown",
   "metadata": {},
   "source": [
    "### Problem 2:\n",
    "\n",
    "If the universe $U = ${$ \\frac{1}{2},0,\\pi,5,-\\sqrt{2},-4 $}, and the subsets of $U$ are given by:\n",
    "\n",
    "$A=${$-\\sqrt{2},\\pi,0$}\n",
    "\n",
    "$B=${$5,\\frac{1}{2},-\\sqrt{2},-4$}\n",
    "\n",
    "$C=${$\\frac{1}{2},-4$}\n",
    "\n",
    "find,\n",
    "\n",
    "a) $A$ intersection $B$\n",
    "\n",
    "b) $A$ union $B$\n",
    "\n",
    "c) ($A$ union $B$) intersection $C$"
   ]
  },
  {
   "cell_type": "markdown",
   "metadata": {},
   "source": [
    "### Problem 3:\n",
    "\n",
    "A card is drawn at random from an ordinary deck of 52 cards.  Find the following probabilities for drawing a card:\n",
    "\n",
    "a) An ace\n",
    "\n",
    "b) A jack of hearts\n",
    "\n",
    "c) A five of clubs or a six of hearts\n",
    "\n",
    "d) A club\n",
    "\n",
    "e) Any suit except clubs\n",
    "\n",
    "f) A ten or a club\n",
    "\n",
    "g) Neither a four nor a club"
   ]
  },
  {
   "cell_type": "markdown",
   "metadata": {},
   "source": [
    "### Problem 4:\n",
    "\n",
    "A ball is drawn at random from a box containing 6 red balls, 4 white balls, and 5 blue balls.  Determine the following probabilities:\n",
    "\n",
    "a) Red\n",
    "\n",
    "b) White\n",
    "\n",
    "c) Blue\n",
    "\n",
    "d) Not red\n",
    "\n",
    "e) Red or white"
   ]
  },
  {
   "cell_type": "code",
   "execution_count": null,
   "metadata": {},
   "outputs": [],
   "source": []
  }
 ],
 "metadata": {
  "kernelspec": {
   "display_name": "Python 3",
   "language": "python",
   "name": "python3"
  },
  "language_info": {
   "codemirror_mode": {
    "name": "ipython",
    "version": 3
   },
   "file_extension": ".py",
   "mimetype": "text/x-python",
   "name": "python",
   "nbconvert_exporter": "python",
   "pygments_lexer": "ipython3",
   "version": "3.7.3"
  }
 },
 "nbformat": 4,
 "nbformat_minor": 2
}
