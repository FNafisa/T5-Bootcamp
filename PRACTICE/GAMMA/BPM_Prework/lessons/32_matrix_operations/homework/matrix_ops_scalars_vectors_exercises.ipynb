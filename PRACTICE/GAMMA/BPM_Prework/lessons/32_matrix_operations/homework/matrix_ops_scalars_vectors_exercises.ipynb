{
 "cells": [
  {
   "cell_type": "markdown",
   "metadata": {},
   "source": [
    "### Problem 1:\n",
    "\n",
    "For each of the following vectors:\n",
    "\n",
    "$\\pmb a = [1,1,0]$  \n",
    "\n",
    "$\\pmb b = [2,-1,4,3]$  \n",
    "\n",
    "$\\pmb c = [3,7,-1,2,8]$\n",
    "\n",
    "a) Add the scalar $\\alpha$ = 5\n",
    "\n",
    "b) Multiply by the scalar $\\alpha$ = -3\n"
   ]
  },
  {
   "cell_type": "markdown",
   "metadata": {},
   "source": [
    "### Problem 2\n",
    "\n",
    "Solve manually: \n",
    "\n",
    "a)\n",
    "$ \n",
    "\\begin{bmatrix}\n",
    "    1 & 2 & 4\\\\\n",
    "    2 & 0 & 1\\\\\n",
    "\\end{bmatrix}\n",
    "+ [0,2,-1]$\n",
    "\n",
    "b)\n",
    "$ \n",
    "\\begin{bmatrix}\n",
    "    3 & -1 & 2 & 5\\\\\n",
    "    1 & 2 & -1 & -3\\\\\n",
    "\\end{bmatrix}\n",
    "- [2,-1,1,0]$\n",
    "\n",
    "c)\n",
    "$ \n",
    "\\begin{bmatrix}\n",
    "    -3 & -2 & 0 & 1 & 2\\\\\n",
    "    5 & 3 & 1 & -2 & 0\\\\\n",
    "\\end{bmatrix}\n",
    "+ [3,2,3,1,2]$"
   ]
  },
  {
   "cell_type": "markdown",
   "metadata": {},
   "source": [
    "### Problem 3\n",
    "\n",
    "Solve manually the following products: \n",
    "\n",
    "a)\n",
    "$ \n",
    "\\begin{bmatrix}\n",
    "    1 & 2 & 4\\\\\n",
    "    2 & 0 & 1\\\\\n",
    "\\end{bmatrix}\n",
    "\\begin{bmatrix}\n",
    "0\\\\\n",
    "2\\\\\n",
    "-1\n",
    "\\end{bmatrix}\n",
    "$\n",
    "\n",
    "b)\n",
    "$ \n",
    "\\begin{bmatrix}\n",
    "    3 & -1 & 2 & 5\\\\\n",
    "    1 & 2 & -1 & -3\\\\\n",
    "\\end{bmatrix}\n",
    "\\begin{bmatrix}\n",
    "2\\\\\n",
    "-1\\\\\n",
    "1\\\\\n",
    "0\n",
    "\\end{bmatrix}\n",
    "$\n",
    "\n",
    "c)\n",
    "$ \n",
    "\\begin{bmatrix}\n",
    "    -3 & -2 & 0 & 1 & 2\\\\\n",
    "    5 & 3 & 1 & -2 & 0\\\\\n",
    "    2 & 1& 2&3 &5\n",
    "\\end{bmatrix}\n",
    "\\begin{bmatrix}\n",
    "3\\\\\n",
    "2\\\\\n",
    "3\\\\\n",
    "1\\\\\n",
    "2\n",
    "\\end{bmatrix}\n",
    "$"
   ]
  },
  {
   "cell_type": "code",
   "execution_count": null,
   "metadata": {},
   "outputs": [],
   "source": []
  }
 ],
 "metadata": {
  "kernelspec": {
   "display_name": "Python 3",
   "language": "python",
   "name": "python3"
  },
  "language_info": {
   "codemirror_mode": {
    "name": "ipython",
    "version": 3
   },
   "file_extension": ".py",
   "mimetype": "text/x-python",
   "name": "python",
   "nbconvert_exporter": "python",
   "pygments_lexer": "ipython3",
   "version": "3.7.3"
  }
 },
 "nbformat": 4,
 "nbformat_minor": 2
}
