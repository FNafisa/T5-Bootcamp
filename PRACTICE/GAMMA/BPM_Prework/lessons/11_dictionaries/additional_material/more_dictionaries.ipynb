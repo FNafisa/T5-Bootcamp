{
 "cells": [
  {
   "cell_type": "markdown",
   "metadata": {},
   "source": [
    "# Dictionaries"
   ]
  },
  {
   "cell_type": "markdown",
   "metadata": {},
   "source": [
    "__Purpose:__\n",
    "The purpose of this lecture is to understand how to work with dictionaries.\n",
    "\n",
    "__At the end of this lecture you will be able to:__\n",
    "1. Understand how to create and access dictionaries\n",
    "2. Work with various operations such as membership and copy\n",
    "3. Change, add and remove elements to a dictionary\n",
    "4. Packing and unpacking"
   ]
  },
  {
   "cell_type": "markdown",
   "metadata": {},
   "source": [
    "### 1.1 Mapping Types in Python "
   ]
  },
  {
   "cell_type": "markdown",
   "metadata": {},
   "source": [
    "### 1.1.1 What is a Mapping Type?"
   ]
  },
  {
   "cell_type": "markdown",
   "metadata": {},
   "source": [
    "__Overview:__\n",
    "- __[Mapping Type](https://docs.python.org/3/library/stdtypes.html#mapping-types-dict):__ The only Mapping Type in Python is the dictionary (`dict` type)\n",
    "- Mapping Types map (connect) values to objects (this will become clear below) \n",
    "- Mapping Types in Python have the following characteristics:\n",
    "> - Mapping Types are unordered (each element from left to right is NOT assigned a number - this disables our ability to use integer indexing to index (find) elements within a mapping type)\n",
    "> - Mapping Types are mutable \n",
    "\n",
    "__Helpful Points:__ \n",
    "1. Mapping Type is used very commonly in Python so get used to the format and its characteristics\n",
    "2. Although Mapping Type is unordered, there are still ways of accessing/indexing elements (but these ways are different than the integer indexing that existed for the Sequence Type)"
   ]
  },
  {
   "cell_type": "markdown",
   "metadata": {},
   "source": [
    "### 1.1.2 Common Operations of the Mapping Type"
   ]
  },
  {
   "cell_type": "markdown",
   "metadata": {},
   "source": [
    "- Since Mapping Types are unordered (they are not sequences), they are NOT subject to the Common Sequence Operations (with some exceptions) that we have used for strings, lists, tuples and ranges\n",
    "- However, there exists an equivalent list of operations (__common mapping type operations__) that are possible for the mapping type (`dict`) which include some of the Common Sequence Operations\n",
    "- Since Mapping Type is mutable, it is also subject to a list of __mutable mapping type operations__"
   ]
  },
  {
   "cell_type": "markdown",
   "metadata": {},
   "source": [
    "- The __common mapping type operations__ can be grouped together into the following categories:\n",
    "> 1. Membership Test Operations\n",
    "> 2. Other operations (len, copy)"
   ]
  },
  {
   "cell_type": "markdown",
   "metadata": {},
   "source": [
    "- The __mutable mapping type operations__ can be grouped together into the following categories:\n",
    "> 1. Changing elements\n",
    "> 2. Adding elements\n",
    "> 3. Removing elements "
   ]
  },
  {
   "cell_type": "markdown",
   "metadata": {},
   "source": [
    "__Helpful Points:__ \n",
    "1. Since Mapping Types do not record element position or order of insertion, they do not suppoert sequence-like behavior"
   ]
  },
  {
   "cell_type": "markdown",
   "metadata": {},
   "source": [
    "### 1.1.3 Overview of Mapping Type 1 - `dict`"
   ]
  },
  {
   "cell_type": "markdown",
   "metadata": {},
   "source": [
    "__Overview:__\n",
    "- __`dict`__: Dictionaries are mutable objects that are used to store a collection of key-value pairs\n",
    "- key-value pairs will be discussed below, but you can think of this as the `key` being the descriptor and the `value` being what is being described. The `key` does not have to be an integer which will be very useful \n",
    "\n",
    "__Helpful Points:__\n",
    "1. Dictionaries are defined by curly brackets `{` and `}` (similar to sets) \n",
    "2. Each item (key-value pair) in a dictionary is separated by a comma \n",
    "3. Keys and values are separated by a colon (:) as such `key:value`\n",
    "4. Keys can be of different types, but they have to be __immutable__ (`int`, `float`, `str`, `tuple`)\n",
    "5. Dictionaries can be used to make programming in Python more efficient "
   ]
  },
  {
   "cell_type": "markdown",
   "metadata": {},
   "source": [
    "### 1.1.4 Creating Dictionaries "
   ]
  },
  {
   "cell_type": "markdown",
   "metadata": {},
   "source": [
    "__Overview:__\n",
    "- There are multiple ways to create a Dictionary in Python:\n",
    "> 1. Method 1: Using a pair of curly brackets to denote the empty dictionary (remember we couldn't use this in a set because it was reserved for dictionary use)\n",
    "> 2. Method 2: Using curly brackets, separating items (key-value pairs) with commas \n",
    "> 3. Method 3: Using the __Type Constructor__ with no contents to denote empty dictionary \n",
    "> 4. Method 4: Using the __Type Constructor__ with a list that contains tuples as items where each tuple is a key-value pair \n",
    "> 5. Method 5: Using the __Type Constructor__ with no enclosing and key-item pairs being assigned as variables \n",
    "> 6. Method 6: Using the __Type Constructor__ with curly brackets, separating items (key-value pairs) with commas \n",
    "\n",
    "__Helpful Points:__\n",
    "1. It is also possible to create a dictionary within a dictionary also known as a __Nested Dictionary__ \n",
    "\n",
    "__Practice:__ Examples of creating dictionaries in Python "
   ]
  },
  {
   "cell_type": "markdown",
   "metadata": {},
   "source": [
    "### Example 1 (Create Dictionary with Method 1)"
   ]
  },
  {
   "cell_type": "code",
   "execution_count": null,
   "metadata": {},
   "outputs": [],
   "source": [
    "empty_dict = {}\n",
    "print(empty_dict)\n",
    "type(empty_dict)"
   ]
  },
  {
   "cell_type": "markdown",
   "metadata": {},
   "source": [
    "### Example 2 (Create Dictionary with Method 2)"
   ]
  },
  {
   "cell_type": "code",
   "execution_count": null,
   "metadata": {},
   "outputs": [],
   "source": [
    "non_empty_dict = {\"name\":\"Clark\", \"superhero\":\"Superman\"}\n",
    "print(non_empty_dict)"
   ]
  },
  {
   "cell_type": "markdown",
   "metadata": {},
   "source": [
    "### Example 3 (Create Dictionary with Method 3)"
   ]
  },
  {
   "cell_type": "code",
   "execution_count": null,
   "metadata": {},
   "outputs": [],
   "source": [
    "empty_dict_1 = dict()\n",
    "print(empty_dict)\n",
    "type(empty_dict)"
   ]
  },
  {
   "cell_type": "markdown",
   "metadata": {},
   "source": [
    "### Example 4 (Create Dictionary with Method 4)"
   ]
  },
  {
   "cell_type": "code",
   "execution_count": null,
   "metadata": {},
   "outputs": [],
   "source": [
    "dict_4 = dict([(\"ten\",10), (\"nine\",9), (\"eight\",8)])\n",
    "print(dict_4)"
   ]
  },
  {
   "cell_type": "markdown",
   "metadata": {},
   "source": [
    "### Example 5 (Create Dictionary with Method 5)"
   ]
  },
  {
   "cell_type": "code",
   "execution_count": null,
   "metadata": {},
   "outputs": [],
   "source": [
    "dict_5 = dict(ten=10, nine=9, eight=8)\n",
    "print(dict_5)"
   ]
  },
  {
   "cell_type": "markdown",
   "metadata": {},
   "source": [
    "### Example 6 (Create Dictionary with Method 6)"
   ]
  },
  {
   "cell_type": "code",
   "execution_count": null,
   "metadata": {},
   "outputs": [],
   "source": [
    "dict_6 = dict({\"ten\":10, \"nine\":9, \"eight\":8})\n",
    "print(dict_6)"
   ]
  },
  {
   "cell_type": "markdown",
   "metadata": {},
   "source": [
    "The dictionaries created above all followed the same format: `key`:`value` and notice that `key` can be `str` type or `int` type (or any immutable type)."
   ]
  },
  {
   "cell_type": "markdown",
   "metadata": {},
   "source": [
    "### Example 7 (Create Dictionary with Lists)"
   ]
  },
  {
   "cell_type": "code",
   "execution_count": null,
   "metadata": {},
   "outputs": [],
   "source": [
    "dict_7 = {\"names\":[\"Clark\", \"Bruce\"], \"type\":\"superhero\"}\n",
    "print(dict_7)"
   ]
  },
  {
   "cell_type": "markdown",
   "metadata": {},
   "source": [
    "### Example 8 (Create Nested Dictionary)"
   ]
  },
  {
   "cell_type": "code",
   "execution_count": null,
   "metadata": {},
   "outputs": [],
   "source": [
    "dict_8 = {\"superhero\":[\"Superman\", \"Batman\"], \"info\":{\"planet\":\"Earth\", \"country\":\"USA\"}}\n",
    "print(dict_8)"
   ]
  },
  {
   "cell_type": "markdown",
   "metadata": {},
   "source": [
    "### 1.1.5 Accessing Elements within Dictionaries"
   ]
  },
  {
   "cell_type": "markdown",
   "metadata": {},
   "source": [
    "__Overview:__\n",
    "- Although Dictionaries are unordered and their elements can not be accessed using integer indexing, we are still able to retrieve keys, values and items using similar techniques\n",
    "\n",
    "__Helpful Points:__\n",
    "1. Key retrieval can be done both individually using indexing and in bulk using built-in functions\n",
    "2. Value retrieval can only be done in bulk using built-in functions\n",
    "3. Item retrieval can only be done in bulk using built-in functions \n",
    "\n",
    "__Practice:__ Examples of accessing elements within dictionaries"
   ]
  },
  {
   "cell_type": "markdown",
   "metadata": {},
   "source": [
    "### Example 1 (Accessing Keys - Individually)"
   ]
  },
  {
   "cell_type": "code",
   "execution_count": null,
   "metadata": {},
   "outputs": [],
   "source": [
    "my_dict = {\"superhero_1\":\"Clark\", \"superhero_2\":\"Bruce\", \"type\":'superhero'}\n",
    "print(my_dict)"
   ]
  },
  {
   "cell_type": "code",
   "execution_count": null,
   "metadata": {},
   "outputs": [],
   "source": [
    "my_dict[\"superhero_1\"] # returns the item of my_dict with key \"co_designer_1\""
   ]
  },
  {
   "cell_type": "code",
   "execution_count": null,
   "metadata": {},
   "outputs": [],
   "source": [
    "my_dict[\"superhero_3\"] # if the key is not the dictionary, raises an error "
   ]
  },
  {
   "cell_type": "code",
   "execution_count": null,
   "metadata": {},
   "outputs": [],
   "source": [
    "my_dict.get(\"superhero_3\", \"No such key\") # avoid the possibility of error with the get function "
   ]
  },
  {
   "cell_type": "code",
   "execution_count": null,
   "metadata": {},
   "outputs": [],
   "source": [
    "# accessing keys when values are lists \n",
    "dict_7 = {\"superhero\":[\"Clark\", \"Bruce\"], \"planet\":\"Earth\"}\n",
    "print(dict_7[\"superhero\"][0])"
   ]
  },
  {
   "cell_type": "code",
   "execution_count": null,
   "metadata": {},
   "outputs": [],
   "source": [
    "# accessing keys when values are dictionaries\n",
    "dict_8 = {\"superhero\":[\"Clark\", \"Bruce\"], \"info\":{\"planet\":\"Earth\", \"country\":\"USA\"}}\n",
    "print(dict_8[\"info\"][\"country\"])"
   ]
  },
  {
   "cell_type": "markdown",
   "metadata": {},
   "source": [
    "### Example 2 (Accessing Keys - Bulk)"
   ]
  },
  {
   "cell_type": "code",
   "execution_count": null,
   "metadata": {
    "scrolled": true
   },
   "outputs": [],
   "source": [
    "print(my_dict.keys()) # returns a new view of the dictionary's items (refer to example 2.4.1 for a refresher on views)\n",
    "print(list(my_dict.keys()))"
   ]
  },
  {
   "cell_type": "markdown",
   "metadata": {},
   "source": [
    "### Example 3 (Accessing Values - Bulk)"
   ]
  },
  {
   "cell_type": "code",
   "execution_count": null,
   "metadata": {},
   "outputs": [],
   "source": [
    "print(my_dict.values()) # returns a new view of the dictionary's values \n",
    "print(list(my_dict.values()))"
   ]
  },
  {
   "cell_type": "markdown",
   "metadata": {},
   "source": [
    "### Example 4 (Accessing Items - Bulk)"
   ]
  },
  {
   "cell_type": "code",
   "execution_count": null,
   "metadata": {},
   "outputs": [],
   "source": [
    "print(my_dict.items()) # returns a new view of the dictionary's items \n",
    "print(list(my_dict.items()))"
   ]
  },
  {
   "cell_type": "markdown",
   "metadata": {},
   "source": [
    "### 1.1.6 More Dictionary Operations "
   ]
  },
  {
   "cell_type": "markdown",
   "metadata": {},
   "source": [
    "__Overview:__\n",
    "- Since the `dict` type is mutable, we can perform both the common mapping operations and the mutable mapping type operations\n",
    "\n",
    "__Helpful Points:__\n",
    "1. Below, Part 1 will cover the common mapping operations (membership test operations and other operations)\n",
    "2. Below, Part 2 will cover the mutable mapping type operations (changing elements, adding elements, and removing elements)\n",
    "\n",
    "__Practice:__ Examples of Dictionary Operations in Python "
   ]
  },
  {
   "cell_type": "markdown",
   "metadata": {},
   "source": [
    "### Part 1: Common mapping operations "
   ]
  },
  {
   "cell_type": "markdown",
   "metadata": {},
   "source": [
    "### Example 1.1 (Membership Test Operations):"
   ]
  },
  {
   "cell_type": "code",
   "execution_count": null,
   "metadata": {},
   "outputs": [],
   "source": [
    "my_dict = {\"superhero_1\":\"Clark\", \"superhero_2\":\"Bruce\", \"planet\":\"Earth\"}"
   ]
  },
  {
   "cell_type": "code",
   "execution_count": null,
   "metadata": {},
   "outputs": [],
   "source": [
    "\"superhero_1\" in my_dict"
   ]
  },
  {
   "cell_type": "code",
   "execution_count": null,
   "metadata": {},
   "outputs": [],
   "source": [
    "\"superhero_3\" not in my_dict"
   ]
  },
  {
   "cell_type": "markdown",
   "metadata": {},
   "source": [
    "Note membership test operations can only be done on the keys since individual values and items can not be accessed (see above)"
   ]
  },
  {
   "cell_type": "markdown",
   "metadata": {},
   "source": [
    "### Example 1.2 (Copy):"
   ]
  },
  {
   "cell_type": "code",
   "execution_count": null,
   "metadata": {},
   "outputs": [],
   "source": [
    "my_dict_copy = my_dict.copy() # return a shallow copy of the dictionary \n",
    "print(my_dict_copy)"
   ]
  },
  {
   "cell_type": "markdown",
   "metadata": {},
   "source": [
    "### Part 2: Mutable mapping type operations"
   ]
  },
  {
   "cell_type": "markdown",
   "metadata": {},
   "source": [
    "### Example 2.1 (Changing Elements):"
   ]
  },
  {
   "cell_type": "code",
   "execution_count": null,
   "metadata": {},
   "outputs": [],
   "source": [
    "my_dict = {\"superhero_1\":\"Clark\", \"superhero_2\":\"Bruce\", \"planet\":\"Earth\"}"
   ]
  },
  {
   "cell_type": "code",
   "execution_count": null,
   "metadata": {},
   "outputs": [],
   "source": [
    "my_dict[\"superhero_1\"] = \"Diana\"\n",
    "print(my_dict)"
   ]
  },
  {
   "cell_type": "markdown",
   "metadata": {},
   "source": [
    "### Example 2.2 (Adding Elements):"
   ]
  },
  {
   "cell_type": "code",
   "execution_count": null,
   "metadata": {},
   "outputs": [],
   "source": [
    "my_dict[\"month\"] = \"May\" # adds new item if the key doesn't already exist \n",
    "print(my_dict)"
   ]
  },
  {
   "cell_type": "code",
   "execution_count": null,
   "metadata": {},
   "outputs": [],
   "source": [
    "my_dict = {\"superhero_1\":\"Clark\", \"superhero_2\":\"Bruce\", \"planet\":\"Earth\"}\n",
    "my_dict_new = {\"month\": \"May\", \"country\": \"USA\"}\n",
    "my_dict.update(my_dict_new) # update the dictionary with the key/value pairs from my_dict_new\n",
    "print(my_dict)"
   ]
  },
  {
   "cell_type": "markdown",
   "metadata": {},
   "source": [
    "### Example 2.3 (Removing Elements):"
   ]
  },
  {
   "cell_type": "code",
   "execution_count": null,
   "metadata": {},
   "outputs": [],
   "source": [
    "my_dict = {\"superhero_1\":\"Clark\", \"superhero_2\":\"Bruce\", \"planet\":\"Earth\"}"
   ]
  },
  {
   "cell_type": "code",
   "execution_count": null,
   "metadata": {},
   "outputs": [],
   "source": [
    "del my_dict[\"superhero_1\"]\n",
    "print(my_dict)"
   ]
  },
  {
   "cell_type": "code",
   "execution_count": null,
   "metadata": {},
   "outputs": [],
   "source": [
    "my_dict.clear()\n",
    "print(my_dict)"
   ]
  },
  {
   "cell_type": "markdown",
   "metadata": {},
   "source": [
    "### 1.1.7 Packing and Unpacking with Dictionaries (BONUS)"
   ]
  },
  {
   "cell_type": "markdown",
   "metadata": {},
   "source": [
    "__Overview:__\n",
    "- Recall that tuples had the convenient feature of packing and unpacking. Well, dictionaries also share in this convenient feature \n",
    "\n",
    "__Helpful Points:__\n",
    "1. When we discuss functions and keyword arguments in a future lecture, we will revisit this topic and you will appreciate the usefulness\n",
    "2. Unlike tuples where the `*` (asterix) notation was used to denote arbitrary arguments, dictionaries use the `**` (double asterix) notiation to denote arbitrary arguments\n",
    "\n",
    "__Practice:__ Examples of Packing and Unpacking with Dictionaries in Python "
   ]
  },
  {
   "cell_type": "markdown",
   "metadata": {},
   "source": [
    "### Example 1 (Packing and Unpacking - 1):"
   ]
  },
  {
   "cell_type": "code",
   "execution_count": null,
   "metadata": {
    "scrolled": true
   },
   "outputs": [],
   "source": [
    "my_dict = {'1':'one', '2':'two'}\n",
    "dict(**my_dict, six=6) # use the double asterix to unpack the my_dict variable  "
   ]
  },
  {
   "cell_type": "markdown",
   "metadata": {},
   "source": [
    "### Example 2 (Packing and Unpacking - 2):"
   ]
  },
  {
   "cell_type": "code",
   "execution_count": null,
   "metadata": {},
   "outputs": [],
   "source": [
    "my_dict = {'1':'one', '2':'two'}\n",
    "dict(**my_dict, three=3, **{'4':'four'}) # use the double asterix to unpack the my_dict variable and nested dict "
   ]
  },
  {
   "cell_type": "markdown",
   "metadata": {},
   "source": [
    "### Example 3 (Packing and Unpacking - 3):"
   ]
  },
  {
   "cell_type": "code",
   "execution_count": null,
   "metadata": {},
   "outputs": [],
   "source": [
    "{**{1: 'one', 2:'two'}, 3:'three'} # use the double asterix to unpack the nested dict "
   ]
  },
  {
   "cell_type": "markdown",
   "metadata": {},
   "source": [
    "### Problem 1\n",
    "\n",
    "Create a dictionary 3 different ways that contain key-value pairs corresponding to your city of birth, country of birth and current city. Add an element to any of the 3 dictionaries which contains your current country."
   ]
  },
  {
   "cell_type": "code",
   "execution_count": null,
   "metadata": {},
   "outputs": [],
   "source": [
    "# Write your code here\n",
    "\n",
    "\n",
    "\n"
   ]
  },
  {
   "cell_type": "markdown",
   "metadata": {},
   "source": [
    "# ANSWERS"
   ]
  },
  {
   "cell_type": "markdown",
   "metadata": {},
   "source": [
    "### Problem 1\n",
    "\n",
    "Create a dictionary 3 different ways that contain key-value pairs corresponding to your city of birth, country of birth and current city. Add an element to any of the 3 dictionaries which contains your current country."
   ]
  },
  {
   "cell_type": "code",
   "execution_count": null,
   "metadata": {},
   "outputs": [],
   "source": [
    "# method 1\n",
    "my_dict_1 = dict([(\"city_birth\", \"Toronto\"), (\"country_birth\", \"Canada\"), (\"current_city\", \"Chicago\")])\n",
    "print(my_dict_1)"
   ]
  },
  {
   "cell_type": "code",
   "execution_count": null,
   "metadata": {},
   "outputs": [],
   "source": [
    "# method 2\n",
    "my_dict_2 = {\"city_birth\":\"Toronto\", \"country_birth\":\"Canada\", \"current_city\":\"Chicago\"}\n",
    "print(my_dict_2)"
   ]
  },
  {
   "cell_type": "code",
   "execution_count": null,
   "metadata": {},
   "outputs": [],
   "source": [
    "# method 3\n",
    "my_dict_3 = dict(city_birth = \"Toronto\", country_birth = \"Canada\", current_city = \"Chicago\")\n",
    "print(my_dict_3)"
   ]
  },
  {
   "cell_type": "code",
   "execution_count": null,
   "metadata": {},
   "outputs": [],
   "source": [
    "# add an element to dictionary from method 1\n",
    "my_dict_1[\"current_country\"] = \"United States\"\n",
    "print(my_dict_1)"
   ]
  },
  {
   "cell_type": "code",
   "execution_count": null,
   "metadata": {},
   "outputs": [],
   "source": []
  }
 ],
 "metadata": {
  "kernelspec": {
   "display_name": "Python 3",
   "language": "python",
   "name": "python3"
  },
  "language_info": {
   "codemirror_mode": {
    "name": "ipython",
    "version": 3
   },
   "file_extension": ".py",
   "mimetype": "text/x-python",
   "name": "python",
   "nbconvert_exporter": "python",
   "pygments_lexer": "ipython3",
   "version": "3.7.3"
  },
  "toc": {
   "base_numbering": 1,
   "nav_menu": {},
   "number_sections": false,
   "sideBar": true,
   "skip_h1_title": false,
   "title_cell": "Table of Contents",
   "title_sidebar": "Contents",
   "toc_cell": false,
   "toc_position": {},
   "toc_section_display": true,
   "toc_window_display": true
  }
 },
 "nbformat": 4,
 "nbformat_minor": 2
}
