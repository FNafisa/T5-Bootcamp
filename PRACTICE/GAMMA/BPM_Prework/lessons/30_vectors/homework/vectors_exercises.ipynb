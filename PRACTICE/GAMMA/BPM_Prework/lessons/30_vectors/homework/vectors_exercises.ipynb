{
 "cells": [
  {
   "cell_type": "markdown",
   "metadata": {},
   "source": [
    "### 1. Draw the following vectors:\n",
    "\n",
    "\n",
    "A) [1, 2]\n",
    "\n",
    "B) [2, 2]\n",
    "\n",
    "C) [-1, 3]\n",
    "\n",
    "D) [3, -2]\n",
    "\n",
    "E) [1, 0]"
   ]
  },
  {
   "cell_type": "code",
   "execution_count": null,
   "metadata": {},
   "outputs": [],
   "source": []
  }
 ],
 "metadata": {
  "kernelspec": {
   "display_name": "Python 3",
   "language": "python",
   "name": "python3"
  },
  "language_info": {
   "codemirror_mode": {
    "name": "ipython",
    "version": 3
   },
   "file_extension": ".py",
   "mimetype": "text/x-python",
   "name": "python",
   "nbconvert_exporter": "python",
   "pygments_lexer": "ipython3",
   "version": "3.7.3"
  }
 },
 "nbformat": 4,
 "nbformat_minor": 2
}
