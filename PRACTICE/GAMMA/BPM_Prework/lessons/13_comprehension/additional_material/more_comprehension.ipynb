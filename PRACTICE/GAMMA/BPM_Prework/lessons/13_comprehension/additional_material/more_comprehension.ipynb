{
 "cells": [
  {
   "cell_type": "markdown",
   "metadata": {},
   "source": [
    "# Comprehension"
   ]
  },
  {
   "cell_type": "markdown",
   "metadata": {},
   "source": [
    "__Purpose:__ The purpose of this lecture is to introduce comprehension. \n",
    "\n",
    "__At the end of this lecture you will be able to:__\n",
    "> 1. Understand Comprehensions such as List Comprehension and compare them to map/reduce/filter approach "
   ]
  },
  {
   "cell_type": "markdown",
   "metadata": {},
   "source": [
    "## 1.1 Comprehension:"
   ]
  },
  {
   "cell_type": "markdown",
   "metadata": {},
   "source": [
    "### 1.1.1 What is Comprehension?"
   ]
  },
  {
   "cell_type": "markdown",
   "metadata": {},
   "source": [
    "__Overview:__ \n",
    "- __[Comprehension](https://docs.python.org/3/tutorial/datastructures.html#list-comprehensions):__ Comprehension provides a concise way in Python to create lists, dictionaries, and sets in a very concise and efficient way \n",
    "- Comprehension provides a complete substitute for the `lambda` function as well as the functions `map()`, `filter()`, and `reduce()` that we previously saw \n",
    "\n",
    "__Helpful Points:__\n",
    "1. Comprehension is Python's way of implementing a well-known notation in mathematics. For example, mathematicians would write {$x^2 | x \\in N$} which means \"x squared for all x in N\" (you will soon notice this verbiage translates almost exactly to how the associated comprehension in Python would be written) \n",
    "2. Python's creator (Guide van Rossum) prefers comprehension over `map`, `filter`, `reduce`, and `lambda` but this comes down to personal preference. Which do you find easier to interpret? "
   ]
  },
  {
   "cell_type": "markdown",
   "metadata": {},
   "source": [
    "### 1.1.2 Comprehension in Python:"
   ]
  },
  {
   "cell_type": "markdown",
   "metadata": {},
   "source": [
    "__Overview:__\n",
    "- Python can construct comprehensions in the following way:\n",
    "> 1. __List Comprehension:__ `[<expression> for var in vars]` which constructs a `list` from the outputs of a `for` loop\n",
    "> 2. __Dictionary Comprehension:__ `{key: value for var in vars}` which constructs a `dict` from the outputs of a `for` loop\n",
    "> 3. __Set Comprehension:__ `{value for var in vars}` which constructs a `set` from the outputs of a `for` loop\n",
    "\n",
    "__Helpful Points:__\n",
    "1. It is possible to have more than one expression for the outputs of the `for` loop (if this is the case, you have to enclose the expressions as a tuple `( )` (see Examples below)\n",
    "2. Comprehension can also be used in Nested For Loops (see Examples below) \n",
    "\n",
    "__Practice:__ Examples of Comprehensions in Python "
   ]
  },
  {
   "cell_type": "markdown",
   "metadata": {},
   "source": [
    "### Part 1 (Standard For Loop vs. List Comprehension vs. Map/Lambda):"
   ]
  },
  {
   "cell_type": "markdown",
   "metadata": {},
   "source": [
    "### Example 1.1 (Squares using Standard For Loop):"
   ]
  },
  {
   "cell_type": "code",
   "execution_count": null,
   "metadata": {},
   "outputs": [],
   "source": [
    "my_list = [1, 3, 7, 8, 9, 10]"
   ]
  },
  {
   "cell_type": "code",
   "execution_count": null,
   "metadata": {},
   "outputs": [],
   "source": [
    "my_list_squared_1 = []\n",
    "for num in my_list:\n",
    "    my_list_squared_1.append(num ** 2)\n",
    "\n",
    "print(my_list_squared_1)"
   ]
  },
  {
   "cell_type": "markdown",
   "metadata": {},
   "source": [
    "### Example 1.2 (Squares using List Comprehension):"
   ]
  },
  {
   "cell_type": "code",
   "execution_count": null,
   "metadata": {},
   "outputs": [],
   "source": [
    "my_list_squared_2 = [num ** 2 for num in my_list]\n",
    "print(my_list_squared_2)"
   ]
  },
  {
   "cell_type": "markdown",
   "metadata": {},
   "source": [
    "In general, List Comprehenseion consists of brackets containing an expression followed by a `for` clause, then zero or more `for` or `if` clauses. The result will be a new list resulting from evaluating the expression in the context of the `for` and `if` clauses."
   ]
  },
  {
   "cell_type": "markdown",
   "metadata": {},
   "source": [
    "### Example 1.3 (Squares using Map and Lambda):"
   ]
  },
  {
   "cell_type": "code",
   "execution_count": null,
   "metadata": {},
   "outputs": [],
   "source": [
    "my_list_squared_3 = list(map(lambda num: num ** 2, my_list))\n",
    "print(my_list_squared_3)"
   ]
  },
  {
   "cell_type": "markdown",
   "metadata": {},
   "source": [
    "Of the examples above, which do you find more readable and interpretable? "
   ]
  },
  {
   "cell_type": "markdown",
   "metadata": {},
   "source": [
    "### Example 1.4 (Even Numbers using Standard For Loop):"
   ]
  },
  {
   "cell_type": "code",
   "execution_count": null,
   "metadata": {},
   "outputs": [],
   "source": [
    "my_list = [1, 3, 7, 8, 9, 10]"
   ]
  },
  {
   "cell_type": "code",
   "execution_count": null,
   "metadata": {},
   "outputs": [],
   "source": [
    "my_list_even_1 = []\n",
    "for num in my_list:\n",
    "    if num % 2 == 0:\n",
    "        my_list_even_1.append(num)\n",
    "\n",
    "print(my_list_even_1)"
   ]
  },
  {
   "cell_type": "markdown",
   "metadata": {},
   "source": [
    "### Example 1.5 (Even Numbers using List Comprehension):"
   ]
  },
  {
   "cell_type": "code",
   "execution_count": null,
   "metadata": {},
   "outputs": [],
   "source": [
    "my_list_even_2 = [num for num in my_list if num % 2 == 0]\n",
    "print(my_list_even_2)"
   ]
  },
  {
   "cell_type": "markdown",
   "metadata": {},
   "source": [
    "### Example 1.6 (Even Numbers using Filter and Lambda):"
   ]
  },
  {
   "cell_type": "code",
   "execution_count": null,
   "metadata": {},
   "outputs": [],
   "source": [
    "my_list_even_3 = list(filter(lambda num: num % 2 == 0, my_list))\n",
    "print(my_list_even_3)"
   ]
  },
  {
   "cell_type": "markdown",
   "metadata": {},
   "source": [
    "### Part 2 (Multiple Expressions in List Comprehensions):"
   ]
  },
  {
   "cell_type": "markdown",
   "metadata": {},
   "source": [
    "### Example 2.1 (Multiple Expressions 1):"
   ]
  },
  {
   "cell_type": "code",
   "execution_count": null,
   "metadata": {},
   "outputs": [],
   "source": [
    "# create a list of 2-tuples in the form of (number, square)\n",
    "print([x, x**2 for x in range(10)])"
   ]
  },
  {
   "cell_type": "markdown",
   "metadata": {},
   "source": [
    "Note: if you are returning multiple expressions, you have to enclose them in parantheses `(` and `)`"
   ]
  },
  {
   "cell_type": "code",
   "execution_count": null,
   "metadata": {},
   "outputs": [],
   "source": [
    "# create a list of 2-tuples in the form of (number, square)\n",
    "print([(x, x**2)for x in range(10)])"
   ]
  },
  {
   "cell_type": "markdown",
   "metadata": {},
   "source": [
    "### Example 2.2 (Multiple Expressions 2):"
   ]
  },
  {
   "cell_type": "code",
   "execution_count": null,
   "metadata": {},
   "outputs": [],
   "source": [
    "# create a list of 2-tuples in the form of (upper-case, lower-case)\n",
    "my_list = [\"Clark\", \"Kent\", \"Bruce\", \"Wayne\"]\n",
    "print([(word.lower(), word.upper()) for word in my_list])"
   ]
  },
  {
   "cell_type": "markdown",
   "metadata": {},
   "source": [
    "### Part 3 (Nested List Comprehension):"
   ]
  },
  {
   "cell_type": "markdown",
   "metadata": {},
   "source": [
    "### Example 3.1 (Nested List Comprehension 1):"
   ]
  },
  {
   "cell_type": "code",
   "execution_count": null,
   "metadata": {},
   "outputs": [],
   "source": [
    "teams = [\"DET\", \"BKN\", \"TOR\"]\n",
    "years = [2010, 2011, 2012, 2013, 2014, 2015, 2016, 2017]"
   ]
  },
  {
   "cell_type": "code",
   "execution_count": null,
   "metadata": {},
   "outputs": [],
   "source": [
    "# number of unique combinations of team-year using for loop\n",
    "combo_list = []\n",
    "for team in teams:\n",
    "    for year in years:\n",
    "        combo_list.append(team + \"-\" + str(year))\n",
    "\n",
    "print(combo_list)"
   ]
  },
  {
   "cell_type": "code",
   "execution_count": null,
   "metadata": {
    "scrolled": true
   },
   "outputs": [],
   "source": [
    "# number of unique combintions of team-uear using list comprehension\n",
    "print([team + \"-\" + str(year) for team in teams for year in years])"
   ]
  },
  {
   "cell_type": "markdown",
   "metadata": {},
   "source": [
    "Notice that with nested list comprehension, you read the `for` loops from left to right which begin at the outer-most loop and continue to the inner-most loop"
   ]
  },
  {
   "cell_type": "markdown",
   "metadata": {},
   "source": [
    "### Example 3.2 (Nested List Comprehension 2):"
   ]
  },
  {
   "cell_type": "code",
   "execution_count": null,
   "metadata": {},
   "outputs": [],
   "source": [
    "my_list_1 = [3, 4, 5, 6]\n",
    "my_list_2 = [5, 4, 3, 6]"
   ]
  },
  {
   "cell_type": "code",
   "execution_count": null,
   "metadata": {},
   "outputs": [],
   "source": [
    "# combine elements of 2 lists if they are not equal using for loop\n",
    "new_list = []\n",
    "for num_1 in my_list_1:\n",
    "    for num_2 in my_list_2:\n",
    "        if num_1 != num_2:\n",
    "            new_list.append((num_1, num_2))\n",
    "\n",
    "print(new_list)"
   ]
  },
  {
   "cell_type": "code",
   "execution_count": null,
   "metadata": {},
   "outputs": [],
   "source": [
    "print([(num_1, num_2) for num_1 in my_list_1 for num_2 in my_list_2 if num_1 != num_2])"
   ]
  },
  {
   "cell_type": "markdown",
   "metadata": {},
   "source": [
    "### Part 4 (Dictionary and Set Comprehensions):"
   ]
  },
  {
   "cell_type": "markdown",
   "metadata": {},
   "source": [
    "### Example 4.1 (Dictionary Comprehension):"
   ]
  },
  {
   "cell_type": "code",
   "execution_count": null,
   "metadata": {},
   "outputs": [],
   "source": [
    "employee_list = [\"Clark\", \"Bruce\", \"Diana\", \"Lex\"]"
   ]
  },
  {
   "cell_type": "code",
   "execution_count": null,
   "metadata": {},
   "outputs": [],
   "source": [
    "# return a dictionary of employee name : number of letters in employee name using for loop\n",
    "employee_dict = {}\n",
    "for employee in employee_list:\n",
    "    employee_dict[employee] = len(employee)\n",
    "\n",
    "print(employee_dict)"
   ]
  },
  {
   "cell_type": "code",
   "execution_count": null,
   "metadata": {},
   "outputs": [],
   "source": [
    "# return a dictionary of employee name : number of letters in employee name using dictionary comprehension \n",
    "print({employee : len(employee) for employee in employee_list})"
   ]
  },
  {
   "cell_type": "markdown",
   "metadata": {},
   "source": [
    "### Example 4.2 (Set Comprehension):"
   ]
  },
  {
   "cell_type": "code",
   "execution_count": null,
   "metadata": {},
   "outputs": [],
   "source": [
    "my_list = [2, 3, 3, 4, 4, 5, 6, 6, 7, 10, 11, 11]"
   ]
  },
  {
   "cell_type": "code",
   "execution_count": null,
   "metadata": {},
   "outputs": [],
   "source": [
    "# return a set of numbers that are even using for loop \n",
    "even_list = []\n",
    "for num in my_list:\n",
    "    if num % 2 == 0:\n",
    "        even_list.append(num)\n",
    "\n",
    "print(even_list)\n",
    "print(set(even_list))"
   ]
  },
  {
   "cell_type": "code",
   "execution_count": null,
   "metadata": {},
   "outputs": [],
   "source": [
    "# return a set of numbers that are even using set comprehension \n",
    "print({num for num in my_list if num % 2 == 0})"
   ]
  },
  {
   "cell_type": "markdown",
   "metadata": {},
   "source": [
    "### Problem 1:\n",
    "\n",
    "Use list comprehension to \"flatten a list of lists\". This means that if you have a nested list (`[[1,2,3], [4,5,6], [7,8,9]]`), you want to achieve the following: `[1,2,3,4,5,6,7,8,9]` which is no longer nested. \n",
    "\n",
    "- Flatten the following list: `[[\"a\", \"b\",\"c\"], [1, 2, 3], [\"Clark\"]]` to achieve `['a', 'b', 'c', 1, 2, 3, 'Clark']`\n",
    "- Use List Comprehension and you will need a Nested For Loop equivalent \n",
    "- This is a very frequent \"problem\" to have so you should be familiar with how to handle this scenario"
   ]
  },
  {
   "cell_type": "code",
   "execution_count": null,
   "metadata": {},
   "outputs": [],
   "source": [
    "# Write your code here\n",
    "\n",
    "\n",
    "\n"
   ]
  },
  {
   "cell_type": "markdown",
   "metadata": {},
   "source": [
    "# ANSWERS"
   ]
  },
  {
   "cell_type": "markdown",
   "metadata": {},
   "source": [
    "### Problem 1:\n",
    "\n",
    "Use list comprehension to \"flatten a list of lists\". This means that if you have a nested list (`[[1,2,3], [4,5,6], [7,8,9]]`), you want to achieve the following: `[1,2,3,4,5,6,7,8,9]` which is no longer nested. \n",
    "\n",
    "- Flatten the following list: `[[\"a\", \"b\",\"c\"], [1, 2, 3], [\"Clark\"]]` to achieve `['a', 'b', 'c', 1, 2, 3, 'Clark']`\n",
    "- Use List Comprehension and you will need a Nested For Loop equivalent \n",
    "- This is a very frequent \"problem\" to have so you should be familiar with how to handle this scenario"
   ]
  },
  {
   "cell_type": "code",
   "execution_count": null,
   "metadata": {},
   "outputs": [],
   "source": [
    "# Write your code here\n",
    "nested_list = [[\"a\", \"b\",\"c\"], [1, 2, 3], [\"Clark\"]]\n",
    "[num for elem in nested_list for num in elem]"
   ]
  },
  {
   "cell_type": "code",
   "execution_count": null,
   "metadata": {},
   "outputs": [],
   "source": []
  }
 ],
 "metadata": {
  "kernelspec": {
   "display_name": "Python 3",
   "language": "python",
   "name": "python3"
  },
  "language_info": {
   "codemirror_mode": {
    "name": "ipython",
    "version": 3
   },
   "file_extension": ".py",
   "mimetype": "text/x-python",
   "name": "python",
   "nbconvert_exporter": "python",
   "pygments_lexer": "ipython3",
   "version": "3.7.3"
  },
  "toc": {
   "base_numbering": 1,
   "nav_menu": {},
   "number_sections": true,
   "sideBar": true,
   "skip_h1_title": false,
   "title_cell": "Table of Contents",
   "title_sidebar": "Contents",
   "toc_cell": false,
   "toc_position": {},
   "toc_section_display": true,
   "toc_window_display": false
  }
 },
 "nbformat": 4,
 "nbformat_minor": 2
}
