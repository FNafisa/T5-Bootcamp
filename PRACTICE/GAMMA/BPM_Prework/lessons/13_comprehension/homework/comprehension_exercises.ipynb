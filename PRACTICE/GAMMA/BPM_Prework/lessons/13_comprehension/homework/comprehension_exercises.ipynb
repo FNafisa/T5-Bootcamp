{
 "cells": [
  {
   "cell_type": "markdown",
   "metadata": {},
   "source": [
    "# Exercises: Comprehensions"
   ]
  },
  {
   "cell_type": "markdown",
   "metadata": {},
   "source": [
    "## Conditional Comprehensions\n",
    "\n",
    "Write a list comprehension that converts all of the vowels in a string to uppercase and all of the consonants to lowercase.\n"
   ]
  },
  {
   "cell_type": "code",
   "execution_count": null,
   "metadata": {
    "ExecuteTime": {
     "end_time": "2019-11-07T06:30:47.161387Z",
     "start_time": "2019-11-07T06:30:47.124801Z"
    }
   },
   "outputs": [],
   "source": [
    "string = \"the quick brown fox jumps over the lazy dog\"\n",
    "comp = [... for x in string]\n",
    "print(''.join(comp))"
   ]
  },
  {
   "cell_type": "markdown",
   "metadata": {},
   "source": [
    "## Pairwise Products\n",
    "\n",
    "Write a list comprehension that returns the product of corresponding integers in two lists with the same length."
   ]
  },
  {
   "cell_type": "code",
   "execution_count": null,
   "metadata": {
    "ExecuteTime": {
     "end_time": "2019-11-07T06:32:22.995545Z",
     "start_time": "2019-11-07T06:32:22.972608Z"
    }
   },
   "outputs": [],
   "source": [
    "list_1 = [1, 2, 3, 4, 5]\n",
    "list_2 = [4, 5, 6, 7, 8]\n",
    "list_3 = [x * y for ... ]\n",
    "print(list_3)"
   ]
  },
  {
   "cell_type": "markdown",
   "metadata": {
    "ExecuteTime": {
     "end_time": "2019-11-07T06:29:33.968847Z",
     "start_time": "2019-11-07T06:29:33.939876Z"
    }
   },
   "source": [
    "## Cached Functions\n",
    "\n",
    "Write a dictionary comprehension whose keys are integers from 1 to 100 that are divisible by 3, and whose values are their squares."
   ]
  },
  {
   "cell_type": "code",
   "execution_count": null,
   "metadata": {
    "ExecuteTime": {
     "end_time": "2019-11-07T06:44:21.899805Z",
     "start_time": "2019-11-07T06:44:21.878250Z"
    }
   },
   "outputs": [],
   "source": [
    "{... for x in range(1, 101) if ...}"
   ]
  },
  {
   "cell_type": "markdown",
   "metadata": {},
   "source": [
    "## Name Hash Dictionary\n",
    "\n",
    "Recall the name hashing function from the Lecture 22 exercises. It can be found in the file `hash.py`.\n",
    "\n",
    "Write a dictionary comprehension that creates a dictionary whose keys are the name hashes and values are the full names (in one string) of the actors in these lists:"
   ]
  },
  {
   "cell_type": "code",
   "execution_count": null,
   "metadata": {
    "ExecuteTime": {
     "end_time": "2019-11-07T06:54:21.569823Z",
     "start_time": "2019-11-07T06:54:21.531742Z"
    }
   },
   "outputs": [],
   "source": [
    "first =  ['Daniel', 'Billy', 'Jeffrey', 'Sarah', 'Sarah', 'Jennifer', 'Philip', 'Evan', 'Michael']\n",
    "middle = ['Day', 'Bob', 'Dean', 'Michelle', 'Jessica', 'Love', 'Seymour', 'Rachel', 'Clarke']\n",
    "last =   ['Lewis', 'Thornton', 'Morgan', 'Gellar', 'Parker', 'Hewitt', 'Hoffman', 'Wood', 'Duncan']"
   ]
  },
  {
   "cell_type": "code",
   "execution_count": null,
   "metadata": {
    "ExecuteTime": {
     "end_time": "2019-11-07T07:14:48.962822Z",
     "start_time": "2019-11-07T07:14:48.946368Z"
    }
   },
   "outputs": [],
   "source": [
    "from hash import get_name_hash\n",
    "\n",
    "name_hashes = {get_name_hash(...): ... for f, m, l in ...)}\n",
    "print(name_hashes)"
   ]
  },
  {
   "cell_type": "markdown",
   "metadata": {},
   "source": [
    "## Set Comprehension with Overlaps\n",
    "\n",
    "Write a comprehension to get the set of all primes less than 100."
   ]
  },
  {
   "cell_type": "code",
   "execution_count": null,
   "metadata": {
    "ExecuteTime": {
     "end_time": "2019-11-07T07:10:25.160347Z",
     "start_time": "2019-11-07T07:10:25.144950Z"
    }
   },
   "outputs": [],
   "source": [
    "{x for x in ... if ...}"
   ]
  },
  {
   "cell_type": "code",
   "execution_count": null,
   "metadata": {},
   "outputs": [],
   "source": []
  }
 ],
 "metadata": {
  "kernelspec": {
   "display_name": "Python 3",
   "language": "python",
   "name": "python3"
  },
  "language_info": {
   "codemirror_mode": {
    "name": "ipython",
    "version": 3
   },
   "file_extension": ".py",
   "mimetype": "text/x-python",
   "name": "python",
   "nbconvert_exporter": "python",
   "pygments_lexer": "ipython3",
   "version": "3.7.3"
  },
  "toc": {
   "base_numbering": 1,
   "nav_menu": {},
   "number_sections": true,
   "sideBar": true,
   "skip_h1_title": false,
   "title_cell": "Table of Contents",
   "title_sidebar": "Contents",
   "toc_cell": false,
   "toc_position": {},
   "toc_section_display": true,
   "toc_window_display": false
  }
 },
 "nbformat": 4,
 "nbformat_minor": 2
}
