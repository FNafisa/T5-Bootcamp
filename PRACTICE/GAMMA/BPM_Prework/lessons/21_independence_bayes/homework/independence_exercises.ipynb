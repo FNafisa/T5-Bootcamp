{
 "cells": [
  {
   "cell_type": "markdown",
   "metadata": {},
   "source": [
    "### Problem 1:\n",
    "\n",
    "A fair die is tossed twice. Find the probability of getting a 4, 5 or 6 on the first toss and a 1, 2, 3 or 4 on the second toss."
   ]
  },
  {
   "cell_type": "markdown",
   "metadata": {},
   "source": [
    "### Problem 2:\n",
    "\n",
    "Two cards are drawn from a deck of 52 cards.  Find the probability that they are both kings if the first card is (a) replaced, (b) not replaced."
   ]
  },
  {
   "cell_type": "markdown",
   "metadata": {},
   "source": [
    "### Problem 3:\n",
    "\n",
    "A ball is drawn at random from a box containing 6 red balls, 4 white balls and 5 blue balls.  Find the probability that they are drawn in the order red, white and blue if each ball is (a) replaced, and (b) not replaced."
   ]
  },
  {
   "cell_type": "markdown",
   "metadata": {},
   "source": [
    "### Problem 4:\n",
    "\n",
    "Find the probability of a four turning at least once in two tosses of a fair die. "
   ]
  },
  {
   "cell_type": "markdown",
   "metadata": {},
   "source": [
    "### Problem 5:\n",
    "\n",
    "One bag contains 4 red balls and 2 blue balls. Another bag contains 3 red balls and 5 blue balls.  If one ball is drawn from each bag, find the probability that (a) both are red, (b) both are blue, (c) one is red and one is blue."
   ]
  }
 ],
 "metadata": {
  "kernelspec": {
   "display_name": "Python 3",
   "language": "python",
   "name": "python3"
  },
  "language_info": {
   "codemirror_mode": {
    "name": "ipython",
    "version": 3
   },
   "file_extension": ".py",
   "mimetype": "text/x-python",
   "name": "python",
   "nbconvert_exporter": "python",
   "pygments_lexer": "ipython3",
   "version": "3.7.3"
  }
 },
 "nbformat": 4,
 "nbformat_minor": 2
}
