{
 "cells": [
  {
   "cell_type": "markdown",
   "metadata": {},
   "source": [
    "### Problem 1:\n",
    "\n",
    "a) What is the probability of getting exactly 2 heads in 6 tosses of a fair coin?\n",
    "\n",
    "b) What is the probability of getting at least 4 heads in 6 tosses of a fair coin?"
   ]
  },
  {
   "cell_type": "markdown",
   "metadata": {},
   "source": [
    "### Problem 2:\n",
    "\n",
    "If 20% of the smartphones produced by a machine are defective: \n",
    "\n",
    "a) Determine the probability that out of 4 smartphones chosen at random, exactly 3 are defective.\n",
    "\n",
    "b) Determine the mean and the standard deviation."
   ]
  },
  {
   "cell_type": "markdown",
   "metadata": {},
   "source": [
    "### Problem 3:\n",
    "\n",
    "On a math test, the mean and standard deviation grades for the students were 72 and 15, respectively.  Assuming a normal distribution, calculate the z-score of students receiving a grade of:\n",
    "\n",
    "a) 60\n",
    "\n",
    "b) 93\n",
    "\n",
    "c) 72\n",
    "\n",
    "Find the grade corresponding to a z-score of:\n",
    "\n",
    "d) -1\n",
    "\n",
    "e) 1.6"
   ]
  },
  {
   "cell_type": "markdown",
   "metadata": {},
   "source": [
    "### Problem 4:\n",
    "\n",
    "Calculate the expected value and variance of the following:\n",
    "\n",
    "a) A Gaussian distribution with a $\\mu = 5$ and a $\\sigma^2 = 3$.\n",
    "\n",
    "b) An unfair coin with a $P(H) = 0.6$ and 100 trials (Binomial distribution)\n",
    "\n",
    "c) A uniform distribution between 20 and 30 inclusive\n",
    "\n",
    "d) An exponential distribution with a $\\lambda = 3$"
   ]
  },
  {
   "cell_type": "code",
   "execution_count": null,
   "metadata": {},
   "outputs": [],
   "source": []
  }
 ],
 "metadata": {
  "kernelspec": {
   "display_name": "Python 3",
   "language": "python",
   "name": "python3"
  },
  "language_info": {
   "codemirror_mode": {
    "name": "ipython",
    "version": 3
   },
   "file_extension": ".py",
   "mimetype": "text/x-python",
   "name": "python",
   "nbconvert_exporter": "python",
   "pygments_lexer": "ipython3",
   "version": "3.7.3"
  }
 },
 "nbformat": 4,
 "nbformat_minor": 2
}
