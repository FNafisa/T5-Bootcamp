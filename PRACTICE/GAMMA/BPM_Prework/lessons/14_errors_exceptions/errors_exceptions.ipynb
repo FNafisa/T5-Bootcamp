{
 "cells": [
  {
   "cell_type": "markdown",
   "metadata": {},
   "source": [
    "# Errors and Exceptions"
   ]
  },
  {
   "cell_type": "markdown",
   "metadata": {},
   "source": [
    "__Purpose:__\n",
    "The purpose of this lecture is to understand how errors and exceptions work in Python. \n",
    "\n",
    "__At the end of this lecture you will be able to:__\n",
    "1. Understand how error messages work in Python\n",
    "2. Learn how to handle exceptions"
   ]
  },
  {
   "cell_type": "markdown",
   "metadata": {},
   "source": [
    "## 1.1 Errors in Python:"
   ]
  },
  {
   "cell_type": "markdown",
   "metadata": {},
   "source": [
    "### 1.1.1 Types of Errors in Python:"
   ]
  },
  {
   "cell_type": "markdown",
   "metadata": {},
   "source": [
    "__Overview:__ \n",
    "- Over the past few lectures, we have encountered many errors and this is likely to continue for the rest of your programming careers\n",
    "- However, it is important to understand what type of error occurred so that you can make the appropriate changes in your program to mititage the error \n",
    "- In Python, there are 2 main kinds of errors: \n",
    "> 1. __[Syntax Errors](https://docs.python.org/3/tutorial/errors.html#tut-syntaxerrors):__ Syntax Errors are also known as \"parsing errors\" and it indicates that there was an error in the syntax that was used (i.e. you forgot to include a `:` or perhaps, you forgot to close your parentheses with `)`\n",
    ">> - In Syntax Errors, the error message will tell you the following information:\n",
    ">> >1. The file name in which the error occurred (this is helpful if you are running files other than your current Jupyter Notebook document\n",
    ">> >2. The line the error occurred \n",
    ">> >3. A small error that indicates the earliest point in the line where the error was detected. The error is caused by the token preceding the arrow\n",
    "> 2. __[Exceptions](https://docs.python.org/3/tutorial/errors.html#tut-exceptions):__ Exceptions indicate there was an error when an attempt was made to execute the program. It is possible for some programs to \"handle\" exceptions and not cause them to be fatal (i.e. crash the program) - this will be covered in Error Handling below\n",
    ">> - In Exceptions, the error message will tell you the following information:\n",
    ">> >1. The file name in which the error occurred\n",
    ">> >2. The line the error occurred\n",
    ">> >3. The type of the built-in exception that occurred (shown in red font)\n",
    ">> >4. Information about what caused the exception \n",
    "\n",
    "__Helpful Points:__\n",
    "1. You will know what type of error is produced based on the error message that is shown when the error occurs. The type of error will be shown in red font (for example, <font color='red'>SyntaxError:</font>)\n",
    "2. There is a long list of __[Built-in Exceptions](https://docs.python.org/3/library/exceptions.html#bltin-exceptions)__ that you will encounter throughout your programming career. It is a good idea to become familiar with some of the common exceptions including `IndexError`, `NameError`, `RuntimeError`, `TypeError`, `KeyError`, `ValueError`)\n",
    "\n",
    "__Practice:__ Examples of Errors in Python"
   ]
  },
  {
   "cell_type": "markdown",
   "metadata": {},
   "source": [
    "### Part 1 (Syntax Errors):"
   ]
  },
  {
   "cell_type": "markdown",
   "metadata": {},
   "source": [
    "### Example 1.1 (Missing Parantheses):"
   ]
  },
  {
   "cell_type": "code",
   "execution_count": null,
   "metadata": {},
   "outputs": [],
   "source": [
    "# forget to close parenthesis\n",
    "print(\"Hello World\""
   ]
  },
  {
   "cell_type": "code",
   "execution_count": null,
   "metadata": {},
   "outputs": [],
   "source": [
    "list(1,2,3"
   ]
  },
  {
   "cell_type": "code",
   "execution_count": null,
   "metadata": {},
   "outputs": [],
   "source": [
    "print(\"First name is {} and last name is {}\".format(\"Clark\", \"Kent\")"
   ]
  },
  {
   "cell_type": "markdown",
   "metadata": {},
   "source": [
    "### Example 1.2 (Missing Colon):"
   ]
  },
  {
   "cell_type": "code",
   "execution_count": null,
   "metadata": {},
   "outputs": [],
   "source": [
    "# forgot a colon in if statement\n",
    "i = 5\n",
    "if i > 5\n",
    "    print(\"i is greater than 5\")"
   ]
  },
  {
   "cell_type": "code",
   "execution_count": null,
   "metadata": {},
   "outputs": [],
   "source": [
    "my_list = [1,2,3]\n",
    "i = 1\n",
    "while my_list\n",
    "    my_list.remove(i)\n",
    "    print(my_list)\n",
    "    i += 1"
   ]
  },
  {
   "cell_type": "code",
   "execution_count": null,
   "metadata": {
    "scrolled": true
   },
   "outputs": [],
   "source": [
    "my_list = [1,2,3]\n",
    "for element in my_list\n",
    "    print(element())"
   ]
  },
  {
   "cell_type": "markdown",
   "metadata": {},
   "source": [
    "### Part 2 (Exceptions):"
   ]
  },
  {
   "cell_type": "markdown",
   "metadata": {},
   "source": [
    "### Example 2.1 (NameError):\n",
    "\n",
    "__[NameError](https://docs.python.org/3/library/exceptions.html#NameError):__ NameError is raised when a local or global name is not found. The associated value is an error message that includes the name that could not be found. "
   ]
  },
  {
   "cell_type": "code",
   "execution_count": null,
   "metadata": {},
   "outputs": [],
   "source": [
    "# calling a variable before the variable is defined \n",
    "print(new_list)"
   ]
  },
  {
   "cell_type": "markdown",
   "metadata": {},
   "source": [
    "### Example 2.2 (TypeError):\n",
    "\n",
    "__[TypeError](https://docs.python.org/3/library/exceptions.html#TypeError):__ TypeError is raised when an operation or function is applied to an object of inappropritate type. The associated value is a string giving details about the type mismatch"
   ]
  },
  {
   "cell_type": "code",
   "execution_count": null,
   "metadata": {},
   "outputs": [],
   "source": [
    "# adding a str to an int\n",
    "int_var = 2\n",
    "str_var = \"1\"\n",
    "\n",
    "int_var + str_var"
   ]
  },
  {
   "cell_type": "markdown",
   "metadata": {},
   "source": [
    "### Example 2.3 (KeyError):\n",
    "\n",
    "__[KeyError](https://docs.python.org/3/library/exceptions.html#KeyError):__ KeyError is raised when a dictionary key is not found in the set of existing keys "
   ]
  },
  {
   "cell_type": "code",
   "execution_count": null,
   "metadata": {
    "scrolled": true
   },
   "outputs": [],
   "source": [
    "my_dict = {\"Clark\":\"Kent\", \"Bruce\":\"Wayne\"}\n",
    "# indexing by a key that is not present \n",
    "my_dict[\"Lex\"]"
   ]
  },
  {
   "cell_type": "markdown",
   "metadata": {},
   "source": [
    "### Example 2.4 (IndexError):\n",
    "\n",
    "__[IndexError](https://docs.python.org/3/library/exceptions.html#IndexError):__ IndexError is raised when a sequence subscript is out of range. "
   ]
  },
  {
   "cell_type": "code",
   "execution_count": null,
   "metadata": {},
   "outputs": [],
   "source": [
    "my_list = [1,2,3,4,5]\n",
    "# loop iterates from 0 to 5 (6 times), but the length of the list is only 5\n",
    "for i in range(6):\n",
    "    print(my_list[i])"
   ]
  },
  {
   "cell_type": "markdown",
   "metadata": {},
   "source": [
    "### Example 2.5 (ValueError):\n",
    "\n",
    "__[ValueError](https://docs.python.org/3/library/exceptions.html#ValueError):__ ValueError is raised when a built-in operation or function receives an argument that has the right type but an inappropritate value."
   ]
  },
  {
   "cell_type": "code",
   "execution_count": null,
   "metadata": {},
   "outputs": [],
   "source": [
    "import math \n",
    "\n",
    "my_list = [1,2,3,-1,0]\n",
    "for element in my_list:\n",
    "    print(math.sqrt(element))"
   ]
  },
  {
   "cell_type": "markdown",
   "metadata": {},
   "source": [
    "### 1.1.2 Exception Handling in Python: "
   ]
  },
  {
   "cell_type": "markdown",
   "metadata": {},
   "source": [
    "__Overview:__\n",
    "__[Exception Handling](https://en.wikipedia.org/wiki/Exception_handling):__ Exception Handling is the process of finding an exception and then responding to the exception explicitly in your program to avoid experiencing fatality of your program (i.e. program crashes and prints an error message)\n",
    "- __[Exception Handling in Python](https://docs.python.org/3/tutorial/errors.html#tut-handling)__ is accomplished by the __[`try`](https://docs.python.org/3/reference/compound_stmts.html#try)__ and associated `except` statement which tries to \"catch\" the exception without it \"killing\" the program \n",
    "- The purpose of the `try` statement is to execute a line of code to see if an error occurs. If an error occurs, the `except` statement will be reached and the statement in the except clause is executed (provided the `except` type matches the type of exception that occurred). If an error does not occur, the statement in the try clause is executed \n",
    "- `try` and `except` clause can occur in the following formats:\n",
    "> 1. __Format 1:__ Catch any exception (not recommended)\n",
    "> 2. __Format 2:__ Catch a specific exception (i.e. `except NameError`)\n",
    "> 3. __Format 3:__ Catch multiple exceptions (i.e. `except (NameError, ValueError)`)\n",
    "> 4. __Format 4:__ Using an `else` clause (optional) for code that must be executed if the `try` clause does not encounter an error \n",
    "\n",
    "__Helpful Points:__\n",
    "1. It is possible for users to display an error message anywhere in their program and dictate the message that is raised (see example 3)\n",
    "2. It is also possible for users to create their own exceptions, however this is out of the scope of this course. See [here](https://docs.python.org/3/tutorial/errors.html#tut-errors) if you are interested\n",
    "\n",
    "__Practice:__ Examples of Exception Handling in Python "
   ]
  },
  {
   "cell_type": "markdown",
   "metadata": {},
   "source": [
    "### Example 1 (Handling IndexError):"
   ]
  },
  {
   "cell_type": "code",
   "execution_count": null,
   "metadata": {
    "scrolled": true
   },
   "outputs": [],
   "source": [
    "my_list = [1,2,3,4,5]\n",
    "# loop iterates from 0 to 5 (6 times), but the length of the list is only 5\n",
    "for i in range(6):\n",
    "    try:\n",
    "        print(my_list[i])\n",
    "    except IndexError:\n",
    "        print(\"You are trying to iterate but you have reached the end of the list\")"
   ]
  },
  {
   "cell_type": "markdown",
   "metadata": {},
   "source": [
    "Interpretation:\n",
    "- For iterations 0,1,2,3,4:\n",
    "> 1. The try clause (the statement between the `try` and `except` keywords) is executed \n",
    "> 2. No exception occurs so the except clause is skipped)\n",
    "- For iteration 5:\n",
    "> 1. An exception occurs during the execution of the try clause so the rest of the clause is skipped (nothing is printed out)\n",
    "> 2. The type of the exception is compared to the exception named after the `except` keyword\n",
    "> 3. The two exception match so the except clause is executed \n",
    "> 4. The program then continues"
   ]
  },
  {
   "cell_type": "markdown",
   "metadata": {},
   "source": [
    "### Example 2 (Handling ZeroDivisionError):"
   ]
  },
  {
   "cell_type": "code",
   "execution_count": null,
   "metadata": {
    "scrolled": false
   },
   "outputs": [],
   "source": [
    "zero_list = [1,3,4,0,2]\n",
    "for i in range(len(zero_list)):\n",
    "    try:\n",
    "        print(5/zero_list[i])\n",
    "    except ZeroDivisionError:\n",
    "        print(\"You are trying to divide by zero at iteration {}\".format(i))"
   ]
  },
  {
   "cell_type": "markdown",
   "metadata": {},
   "source": [
    "### Example 3 (Raising Exceptions):"
   ]
  },
  {
   "cell_type": "code",
   "execution_count": null,
   "metadata": {
    "scrolled": true
   },
   "outputs": [],
   "source": [
    "for i in range(1000):\n",
    "    if i == 100:\n",
    "        raise TimeoutError(\"This number of iterations is good enough for me \")"
   ]
  },
  {
   "cell_type": "code",
   "execution_count": null,
   "metadata": {},
   "outputs": [],
   "source": []
  }
 ],
 "metadata": {
  "kernelspec": {
   "display_name": "Python 3",
   "language": "python",
   "name": "python3"
  },
  "language_info": {
   "codemirror_mode": {
    "name": "ipython",
    "version": 3
   },
   "file_extension": ".py",
   "mimetype": "text/x-python",
   "name": "python",
   "nbconvert_exporter": "python",
   "pygments_lexer": "ipython3",
   "version": "3.7.3"
  },
  "toc": {
   "base_numbering": 1,
   "nav_menu": {},
   "number_sections": true,
   "sideBar": true,
   "skip_h1_title": false,
   "title_cell": "Table of Contents",
   "title_sidebar": "Contents",
   "toc_cell": false,
   "toc_position": {},
   "toc_section_display": true,
   "toc_window_display": false
  }
 },
 "nbformat": 4,
 "nbformat_minor": 2
}
