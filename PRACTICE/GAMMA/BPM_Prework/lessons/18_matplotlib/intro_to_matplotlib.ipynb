{
 "cells": [
  {
   "cell_type": "markdown",
   "metadata": {},
   "source": [
    "# Matplotlib Introduction"
   ]
  },
  {
   "cell_type": "markdown",
   "metadata": {},
   "source": [
    "__Purpose:__\n",
    "The purpose of this lecture is to learn how to visualiza data in Python using a library called matplotlib. We will learn how to create charts that can be displayed within the Jupyter notebook, as well as customize the fonts, colors, etc.   \n",
    "\n",
    "__At the end of this lecture you will be able to:__\n",
    "> 1. Understand how to create basic charts such as line charts, scatter plots, pie charts, histograms, etc.\n",
    "> 2. Customize the charts by manipulating the size, color, fonts, etc.\n",
    "> 3. Create multiple charts within one graph.\n",
    "> 4. Save the charts as an image."
   ]
  },
  {
   "cell_type": "markdown",
   "metadata": {},
   "source": [
    "__Overview__\n",
    "\n",
    "Matplotlib is a library that allows visualization within Python.  You can generate line plots, scatter plots, histograms, bar charts, etc., with just a few lines of code. \n",
    "\n",
    "Matplotlib is a Python 2D plotting library which produces publication quality figures in a variety of hardcopy formats and interactive environments across platforms. Matplotlib can be used in Python scripts, the Python and IPython shells, the Jupyter notebook, web application servers, and four graphical user interface toolkits.\n",
    "\n",
    "For simple plotting the pyplot module provides a MATLAB-like interface, particularly when combined with IPython. For the power user, you have full control of line styles, font properties, axes properties, etc, via an object oriented interface or via a set of functions familiar to MATLAB users.\n",
    "\n",
    "The [matplotlib.pyplot](https://matplotlib.org/api/pyplot_summary.html) module contains functions that allow you to generate many kinds of plots quickly. \n",
    "\n",
    "Matplotlib was originally written by John D. Hunter, has an active development community, and is distributed under a BSD-style license. Michael Droettboom was nominated as matplotlib's lead developer shortly before John Hunter's death in 2012, and further joined by Thomas Caswell."
   ]
  },
  {
   "cell_type": "code",
   "execution_count": null,
   "metadata": {},
   "outputs": [],
   "source": [
    "import matplotlib.pyplot as plt\n",
    "import numpy as np\n",
    "import pandas as pd\n",
    "\n",
    "# this statement allows the visuals to render within your Jupyter Notebook\n",
    "%matplotlib inline "
   ]
  },
  {
   "cell_type": "markdown",
   "metadata": {},
   "source": [
    "# Creating charts"
   ]
  },
  {
   "cell_type": "markdown",
   "metadata": {},
   "source": [
    "Matplotlib accepts several types of data such as lists (as we previously showed), Numpy Arrays and Pandas Dataframes."
   ]
  },
  {
   "cell_type": "markdown",
   "metadata": {},
   "source": [
    "## Creating a line chart from a list"
   ]
  },
  {
   "cell_type": "markdown",
   "metadata": {},
   "source": [
    "As a starting point let's use a simple example by drawing a line chart from a list with the values 1, 2, 1, 3. "
   ]
  },
  {
   "cell_type": "code",
   "execution_count": null,
   "metadata": {},
   "outputs": [],
   "source": [
    "data_list = [1,2,1,3]\n",
    "print(data_list, type(data_list))\n",
    "plt.plot(data_list);"
   ]
  },
  {
   "cell_type": "markdown",
   "metadata": {},
   "source": [
    "Note that the x-axis contains the index of the datapoint.  Remember that Python is 0 indexed."
   ]
  },
  {
   "cell_type": "code",
   "execution_count": null,
   "metadata": {},
   "outputs": [],
   "source": [
    "x = [10,20, 21, 30]\n",
    "plt.plot(x,data_list);"
   ]
  },
  {
   "cell_type": "markdown",
   "metadata": {},
   "source": [
    "## Creating a line chart from a Numpy array"
   ]
  },
  {
   "cell_type": "markdown",
   "metadata": {},
   "source": [
    "Now we will create the same chart using a Numpy Array and a Pandas DataFrame."
   ]
  },
  {
   "cell_type": "code",
   "execution_count": null,
   "metadata": {},
   "outputs": [],
   "source": [
    "data_numpy = np.array(data_list)\n",
    "print(data_numpy, type(data_numpy))\n",
    "plt.plot(data_numpy);"
   ]
  },
  {
   "cell_type": "markdown",
   "metadata": {},
   "source": [
    "## Creating a line chart from a Pandas Series"
   ]
  },
  {
   "cell_type": "code",
   "execution_count": null,
   "metadata": {},
   "outputs": [],
   "source": [
    "data_pandas_series = pd.Series(data_list)\n",
    "print(data_pandas_series, type(data_pandas_series))\n",
    "plt.plot(data_pandas_series);"
   ]
  },
  {
   "cell_type": "markdown",
   "metadata": {},
   "source": [
    "## Creating a line chart from a Pandas DataFrame"
   ]
  },
  {
   "cell_type": "code",
   "execution_count": null,
   "metadata": {},
   "outputs": [],
   "source": [
    "data_pandas = pd.DataFrame(data_list)\n",
    "print(data_pandas, type(data_pandas))\n",
    "plt.plot(data_pandas);"
   ]
  },
  {
   "cell_type": "markdown",
   "metadata": {},
   "source": [
    "# Formatting charts"
   ]
  },
  {
   "cell_type": "markdown",
   "metadata": {},
   "source": [
    "## Adding Titles"
   ]
  },
  {
   "cell_type": "markdown",
   "metadata": {},
   "source": [
    "We can also add a title to our figure using plt.title(), and we can modify the text properties.\n",
    "A full list of properties can be found here: https://matplotlib.org/users/text_props.html "
   ]
  },
  {
   "cell_type": "code",
   "execution_count": null,
   "metadata": {},
   "outputs": [],
   "source": [
    "plt.plot(data_list)\n",
    "plt.title('First Plot');"
   ]
  },
  {
   "cell_type": "code",
   "execution_count": null,
   "metadata": {},
   "outputs": [],
   "source": [
    "plt.plot(data_list)\n",
    "plt.title('Cursive Title',family='cursive',fontsize = 30,loc='left',color='r');"
   ]
  },
  {
   "cell_type": "code",
   "execution_count": null,
   "metadata": {},
   "outputs": [],
   "source": [
    "plt.plot(data_list)\n",
    "plt.title('Bold Italic Title',fontsize = 40,style='italic',weight='bold',rotation=10,color='purple');"
   ]
  },
  {
   "cell_type": "markdown",
   "metadata": {},
   "source": [
    "## Adding X-Y Labels"
   ]
  },
  {
   "cell_type": "markdown",
   "metadata": {},
   "source": [
    "Similar to the title, we can also add labels in the $x$ and $y$ axis using plt.xlabel() and plt.ylabel()."
   ]
  },
  {
   "cell_type": "code",
   "execution_count": null,
   "metadata": {},
   "outputs": [],
   "source": [
    "plt.plot(data_list)\n",
    "plt.xlabel('Label on the X axis')\n",
    "plt.ylabel('Label on the Y axis',fontsize = 20, weight = 'bold',color='green');"
   ]
  },
  {
   "cell_type": "markdown",
   "metadata": {},
   "source": [
    "## Gridlines"
   ]
  },
  {
   "cell_type": "markdown",
   "metadata": {},
   "source": [
    "We can include gridlines with plt.grid()"
   ]
  },
  {
   "cell_type": "code",
   "execution_count": null,
   "metadata": {},
   "outputs": [],
   "source": [
    "plt.plot(data_list)\n",
    "plt.grid()"
   ]
  },
  {
   "cell_type": "markdown",
   "metadata": {},
   "source": [
    "## Axis Ticks - Location"
   ]
  },
  {
   "cell_type": "markdown",
   "metadata": {},
   "source": [
    "We can also control the location of the ticks using plt.xticks() and plt.yticks()"
   ]
  },
  {
   "cell_type": "code",
   "execution_count": null,
   "metadata": {},
   "outputs": [],
   "source": [
    "plt.plot(data_list)\n",
    "plt.grid()\n",
    "ticks_x = np.linspace(0, 3, 10)\n",
    "ticks_y = np.linspace(1, 3, 3)\n",
    "plt.xticks(ticks_x)\n",
    "plt.yticks(ticks_y);"
   ]
  },
  {
   "cell_type": "markdown",
   "metadata": {},
   "source": [
    "## Axis Ticks - Text"
   ]
  },
  {
   "cell_type": "markdown",
   "metadata": {},
   "source": [
    "Also, we can replace the text of the ticks.  Note that we can also modify the font!"
   ]
  },
  {
   "cell_type": "code",
   "execution_count": null,
   "metadata": {},
   "outputs": [],
   "source": [
    "plt.plot(data_list)\n",
    "plt.grid()\n",
    "ticks_x = np.linspace(0, 3, 4)\n",
    "months = ['Jan','Feb','Mar','Apr']\n",
    "plt.xticks(ticks_x, months, fontsize = '20', family = 'fantasy',color='orange');"
   ]
  },
  {
   "cell_type": "markdown",
   "metadata": {},
   "source": [
    "## Multiple Lines\n",
    "You can have more than one line in a plot, by using the plt.plot() multiple times within the same cell."
   ]
  },
  {
   "cell_type": "code",
   "execution_count": null,
   "metadata": {},
   "outputs": [],
   "source": [
    "data_list = [1,2,1,3]\n",
    "data_list_2 = [3, 2.3, 2, 0]\n",
    "plt.plot(data_list)\n",
    "plt.plot(data_list_2);"
   ]
  },
  {
   "cell_type": "markdown",
   "metadata": {},
   "source": [
    "## Legends"
   ]
  },
  {
   "cell_type": "markdown",
   "metadata": {},
   "source": [
    "Legends can be added to label each line with plt.legend()."
   ]
  },
  {
   "cell_type": "code",
   "execution_count": null,
   "metadata": {},
   "outputs": [],
   "source": [
    "plt.plot(data_list)\n",
    "plt.plot(data_list_2)\n",
    "plt.legend(['First Line','Second Line'],shadow = True, loc = 0);"
   ]
  },
  {
   "cell_type": "markdown",
   "metadata": {},
   "source": [
    "## Color"
   ]
  },
  {
   "cell_type": "markdown",
   "metadata": {},
   "source": [
    "The same way we have modified the color of the font, we can modify the color of the line. \n",
    "> **Alias:** For alias colors check here: https://matplotlib.org/api/_as_gen/matplotlib.pyplot.colors.html\n",
    "\n",
    "> **Name:** For name color information check here: https://www.w3schools.com/cssref/css_colors.asp\n",
    "\n",
    "> **Hexadecimal:** The color can be represented in hexadecimal (https://en.wikipedia.org/wiki/Hexadecimal).  Every color has three components: Red, Green and Blue, aka RGB.  Each components can have a value between 0 and 255 (00 to FF in hexadecimal).  So if you want the color #3FEF0A (note that the # indicates hexadecimal), you are assigning a value of 3F to Red, EF to Green and 0A to Blue."
   ]
  },
  {
   "cell_type": "markdown",
   "metadata": {},
   "source": [
    "### Color with alias"
   ]
  },
  {
   "cell_type": "code",
   "execution_count": null,
   "metadata": {},
   "outputs": [],
   "source": [
    "plt.plot(data_list, 'g'); "
   ]
  },
  {
   "cell_type": "code",
   "execution_count": null,
   "metadata": {},
   "outputs": [],
   "source": [
    "plt.plot(data_list, c='g'); "
   ]
  },
  {
   "cell_type": "code",
   "execution_count": null,
   "metadata": {},
   "outputs": [],
   "source": [
    "plt.plot(data_list, color = 'g'); "
   ]
  },
  {
   "cell_type": "markdown",
   "metadata": {},
   "source": [
    "### Color with Name\n",
    "https://www.w3schools.com/cssref/css_colors.asp"
   ]
  },
  {
   "cell_type": "code",
   "execution_count": null,
   "metadata": {},
   "outputs": [],
   "source": [
    "plt.plot(data_list, c = 'Aqua');"
   ]
  },
  {
   "cell_type": "markdown",
   "metadata": {},
   "source": [
    "### Color with RGB Hexadecimal\n",
    "The color needs three values for the Red, Green and Blue channel.  Each channel can have a value between 0 and 255.  You can use the function $hex()$ to convert a decimal to hexadecimal."
   ]
  },
  {
   "cell_type": "code",
   "execution_count": null,
   "metadata": {},
   "outputs": [],
   "source": [
    "print('The decimal {} is {} in hexadecimal'.format(0,hex(0)))\n",
    "print('The decimal {} is {} in hexadecimal'.format(128,hex(128)))\n",
    "print('The decimal {} is {} in hexadecimal'.format(36,hex(36)))\n",
    "print('The decimal {} is {} in hexadecimal'.format(198,hex(198)))\n",
    "print('The decimal {} is {} in hexadecimal'.format(255,hex(255)))"
   ]
  },
  {
   "cell_type": "code",
   "execution_count": null,
   "metadata": {},
   "outputs": [],
   "source": [
    "plt.plot(data_list, c = '#00FFFF'); "
   ]
  },
  {
   "cell_type": "markdown",
   "metadata": {},
   "source": [
    "## Line Width"
   ]
  },
  {
   "cell_type": "markdown",
   "metadata": {},
   "source": [
    "The linewidth of the chart can also be modified, with the linewidth parameter."
   ]
  },
  {
   "cell_type": "code",
   "execution_count": null,
   "metadata": {},
   "outputs": [],
   "source": [
    "plt.plot(data_list, linewidth = 10)\n",
    "plt.plot(data_list_2, linewidth = 1); "
   ]
  },
  {
   "cell_type": "markdown",
   "metadata": {},
   "source": [
    "## Line Style"
   ]
  },
  {
   "cell_type": "markdown",
   "metadata": {},
   "source": [
    "Lines come in several types, such as solid, dashed, and so on.  They can be modified with the linestyle parameter.  You can find the styles here: https://matplotlib.org/gallery/lines_bars_and_markers/line_styles_reference.html"
   ]
  },
  {
   "cell_type": "code",
   "execution_count": null,
   "metadata": {},
   "outputs": [],
   "source": [
    "plt.plot(data_list, linestyle = '--',linewidth = 3, c = 'b')\n",
    "plt.plot(data_list_2, linestyle = '-.',linewidth = 5, c = 'r') \n",
    "plt.plot(np.array(data_list_2)+1, linestyle = ':',linewidth = 2, c = 'k')\n",
    "plt.plot(np.array(data_list)-1, linestyle = '-',linewidth = 4, c ='g'); "
   ]
  },
  {
   "cell_type": "markdown",
   "metadata": {},
   "source": [
    "# Types of Charts"
   ]
  },
  {
   "cell_type": "markdown",
   "metadata": {},
   "source": [
    "There are a wide range of visuals we can create.  In this section we will cover the basics."
   ]
  },
  {
   "cell_type": "markdown",
   "metadata": {},
   "source": [
    "## Line Charts"
   ]
  },
  {
   "cell_type": "code",
   "execution_count": null,
   "metadata": {},
   "outputs": [],
   "source": [
    "new_x = np.arange(100)\n",
    "new_y = np.random.randint(0,10,100) # random integer number between 0 and 9 (10 is excluded)\n",
    "plt.plot(new_x,new_y);"
   ]
  },
  {
   "cell_type": "markdown",
   "metadata": {},
   "source": [
    "## Bar Charts"
   ]
  },
  {
   "cell_type": "code",
   "execution_count": null,
   "metadata": {},
   "outputs": [],
   "source": [
    "new_x = np.arange(20)\n",
    "new_y = np.random.randint(5,10,20)\n",
    "plt.bar(new_x,new_y);"
   ]
  },
  {
   "cell_type": "markdown",
   "metadata": {},
   "source": [
    "## Error Bars"
   ]
  },
  {
   "cell_type": "markdown",
   "metadata": {},
   "source": [
    "These plots are commonly used to plot distribution of errors."
   ]
  },
  {
   "cell_type": "code",
   "execution_count": null,
   "metadata": {},
   "outputs": [],
   "source": [
    "new_x = np.arange(1, 5, 1)\n",
    "new_y = new_x**1.5\n",
    "\n",
    "# example variable error bar values\n",
    "yerr = np.sqrt(new_x)\n",
    "\n",
    "plt.bar(new_x,new_y)\n",
    "plt.errorbar(new_x, new_y,fmt='r.', yerr=yerr);"
   ]
  },
  {
   "cell_type": "markdown",
   "metadata": {},
   "source": [
    "## Scatter Plot"
   ]
  },
  {
   "cell_type": "code",
   "execution_count": null,
   "metadata": {},
   "outputs": [],
   "source": [
    "new_x = np.random.randn(1000)\n",
    "new_y = np.random.randn(1000)\n",
    "plt.scatter(new_x,new_y);"
   ]
  },
  {
   "cell_type": "markdown",
   "metadata": {},
   "source": [
    "Note that a lot of dots overlap in the middle.  We can play with the transparency of the color to see how the dots overlap by modifying a parameter called alpha between 0 and 1."
   ]
  },
  {
   "cell_type": "code",
   "execution_count": null,
   "metadata": {},
   "outputs": [],
   "source": [
    "plt.scatter(new_x,new_y,alpha = 0.2);"
   ]
  },
  {
   "cell_type": "markdown",
   "metadata": {},
   "source": [
    "Similarly we can modify the type of the marker (https://matplotlib.org/api/markers_api.html) and its size."
   ]
  },
  {
   "cell_type": "code",
   "execution_count": null,
   "metadata": {},
   "outputs": [],
   "source": [
    "plt.scatter(new_x,new_y,marker = '+',s = 100);"
   ]
  },
  {
   "cell_type": "markdown",
   "metadata": {},
   "source": [
    "## Histograms"
   ]
  },
  {
   "cell_type": "code",
   "execution_count": null,
   "metadata": {
    "scrolled": true
   },
   "outputs": [],
   "source": [
    "new_x = np.random.randn(100000)\n",
    "plt.hist(new_x,100);"
   ]
  },
  {
   "cell_type": "markdown",
   "metadata": {},
   "source": [
    "## Pie Charts"
   ]
  },
  {
   "cell_type": "code",
   "execution_count": null,
   "metadata": {},
   "outputs": [],
   "source": [
    "new_x = np.arange(1,4)\n",
    "plt.pie(new_x,labels=['a','b','c']);"
   ]
  },
  {
   "cell_type": "code",
   "execution_count": null,
   "metadata": {},
   "outputs": [],
   "source": [
    "plt.pie(new_x,labels=['a','b','c'],explode = [.1,.2,0]);"
   ]
  },
  {
   "cell_type": "markdown",
   "metadata": {},
   "source": [
    "# Advanced Formatting"
   ]
  },
  {
   "cell_type": "markdown",
   "metadata": {},
   "source": [
    "## Figure Size\n",
    "\n",
    "The Pie Chart above does not look like a circle.  This is because the default size of a figure is 8 (width) x 6 (height).  We can modify this using the \"figure\" parameter \"figsize\"."
   ]
  },
  {
   "cell_type": "code",
   "execution_count": null,
   "metadata": {},
   "outputs": [],
   "source": [
    "plt.figure(figsize = [5,5]) # [width, height]\n",
    "plt.pie(new_x,labels=new_x);"
   ]
  },
  {
   "cell_type": "markdown",
   "metadata": {},
   "source": [
    "## Axis Range"
   ]
  },
  {
   "cell_type": "markdown",
   "metadata": {},
   "source": [
    "We can also modify the range of the axis by using plt.axis([x_min, x_max, y_min, y_max])."
   ]
  },
  {
   "cell_type": "code",
   "execution_count": null,
   "metadata": {},
   "outputs": [],
   "source": [
    "new_x = np.arange(100)\n",
    "new_y = np.random.randint(0,10,100)\n",
    "plt.plot(new_x,new_y)\n",
    "plt.axis([-10, 110, -10, 20]); # [x_min, x_max, y_min, y_max]"
   ]
  },
  {
   "cell_type": "markdown",
   "metadata": {},
   "source": [
    "## Log Scale"
   ]
  },
  {
   "cell_type": "markdown",
   "metadata": {},
   "source": [
    "Let's look at an example where the data set covers several orders of magnitude ($e^{x}$).  When we plot the data in a linear scale, we lose some details."
   ]
  },
  {
   "cell_type": "code",
   "execution_count": null,
   "metadata": {},
   "outputs": [],
   "source": [
    "new_x = np.arange(8)\n",
    "new_y = np.e**new_x\n",
    "plt.plot(new_x,new_y)\n",
    "plt.scatter(new_x,new_y);"
   ]
  },
  {
   "cell_type": "markdown",
   "metadata": {},
   "source": [
    "A solution is to plot the log transform of the data."
   ]
  },
  {
   "cell_type": "code",
   "execution_count": null,
   "metadata": {},
   "outputs": [],
   "source": [
    "plt.plot(new_x,np.log10(new_y));\n",
    "plt.scatter(new_x,np.log10(new_y));"
   ]
  },
  {
   "cell_type": "markdown",
   "metadata": {},
   "source": [
    "An alternative is to ask the plotting function to display in a log scale."
   ]
  },
  {
   "cell_type": "code",
   "execution_count": null,
   "metadata": {},
   "outputs": [],
   "source": [
    "plt.semilogy(new_x,new_y,c='r')\n",
    "plt.semilogy(new_x,new_y,'.',ms=15,c='r'); #it is in log10"
   ]
  },
  {
   "cell_type": "markdown",
   "metadata": {},
   "source": [
    "Observe that the y-axis displays the log values when you use semilogy().  Similarly we can plot the x-axis as a log scale (semilogx), and both axis as a log scale (loglog)."
   ]
  },
  {
   "cell_type": "code",
   "execution_count": null,
   "metadata": {},
   "outputs": [],
   "source": [
    "plt.semilogx(new_x,new_y,c='r')\n",
    "plt.semilogx(new_x,new_y,'.',ms=15,c='r'); #it is in log10"
   ]
  },
  {
   "cell_type": "code",
   "execution_count": null,
   "metadata": {},
   "outputs": [],
   "source": [
    "plt.loglog(new_x,new_y,c='r')\n",
    "plt.loglog(new_x,new_y,'.',ms=15,c='r'); #it is in log10"
   ]
  },
  {
   "cell_type": "markdown",
   "metadata": {},
   "source": [
    "## Subplots"
   ]
  },
  {
   "cell_type": "markdown",
   "metadata": {
    "collapsed": true
   },
   "source": [
    "Sometimes we want to create multiple plots together.  We can use plt.subplots(number of rows, number of columns, number of the plot)."
   ]
  },
  {
   "cell_type": "code",
   "execution_count": null,
   "metadata": {},
   "outputs": [],
   "source": [
    "new_x = np.arange(20)\n",
    "new_y = np.random.randint(5,10,20)\n",
    "\n",
    "plt.figure(figsize=[15,5])\n",
    "\n",
    "plt.suptitle('Main Title',fontsize = 16)\n",
    "\n",
    "plt.subplot(1,2,1) # (number of rows, number of columns, number of plot)\n",
    "plt.plot(new_x,new_y)\n",
    "plt.title('Line Chart')\n",
    "\n",
    "plt.subplot(1,2,2)\n",
    "plt.bar(new_x,new_y)\n",
    "plt.title('Bar Chart');"
   ]
  },
  {
   "cell_type": "code",
   "execution_count": null,
   "metadata": {},
   "outputs": [],
   "source": [
    "new_x = np.arange(20)\n",
    "new_y = np.random.randint(5,10,20)\n",
    "\n",
    "plt.figure(figsize=[15,7])\n",
    "\n",
    "plt.suptitle('Main Title',fontsize = 16)\n",
    "\n",
    "plt.subplot(2,1,1) # (number of rows, number of columns, number of plot)\n",
    "plt.plot(new_x,new_y)\n",
    "plt.title('Line Chart')\n",
    "\n",
    "plt.subplot(2,1,2)\n",
    "plt.bar(new_x,new_y)\n",
    "plt.title('Bar Chart');"
   ]
  },
  {
   "cell_type": "markdown",
   "metadata": {},
   "source": [
    "## Removing the Axis"
   ]
  },
  {
   "cell_type": "markdown",
   "metadata": {},
   "source": [
    "In some cases we may prefer to hide the axis with plt.axis()."
   ]
  },
  {
   "cell_type": "code",
   "execution_count": null,
   "metadata": {},
   "outputs": [],
   "source": [
    "new_x = np.arange(100)\n",
    "new_y = np.random.randint(0,10,100)\n",
    "\n",
    "plt.figure(figsize=[15,5])\n",
    "\n",
    "plt.subplot(1,2,1)\n",
    "plt.plot(new_x,new_y)\n",
    "\n",
    "plt.subplot(1,2,2)\n",
    "plt.plot(new_x,new_y)\n",
    "plt.axis('off');"
   ]
  },
  {
   "cell_type": "markdown",
   "metadata": {},
   "source": [
    "## Modifying Defaults"
   ]
  },
  {
   "cell_type": "markdown",
   "metadata": {},
   "source": [
    "### Axis Font Size"
   ]
  },
  {
   "cell_type": "code",
   "execution_count": null,
   "metadata": {},
   "outputs": [],
   "source": [
    "new_x = np.arange(100)\n",
    "new_y = np.random.randint(0,10,100)\n",
    "\n",
    "plt.rc('xtick', labelsize=20) \n",
    "plt.rc('ytick', labelsize=10) \n",
    "\n",
    "plt.plot(new_x,new_y);"
   ]
  },
  {
   "cell_type": "markdown",
   "metadata": {},
   "source": [
    "## Saving Images"
   ]
  },
  {
   "cell_type": "markdown",
   "metadata": {},
   "source": [
    "Images can be exported into other formats so they can later be included into reports or slideshows.\n",
    "https://matplotlib.org/api/_as_gen/matplotlib.pyplot.savefig.html"
   ]
  },
  {
   "cell_type": "code",
   "execution_count": null,
   "metadata": {},
   "outputs": [],
   "source": [
    "new_x = np.arange(100)\n",
    "new_y = np.random.randint(0,10,100)\n",
    "plt.plot(new_x,new_y)\n",
    "\n",
    "plt.savefig('testplot.png')"
   ]
  },
  {
   "cell_type": "markdown",
   "metadata": {},
   "source": [
    "## Including Text"
   ]
  },
  {
   "cell_type": "code",
   "execution_count": null,
   "metadata": {},
   "outputs": [],
   "source": [
    "new_x = np.arange(100)\n",
    "new_y = np.random.randint(0,10,100)+(0.05*new_x)**2\n",
    "plt.plot(new_x,new_y)\n",
    "plt.text(60,5,'Sample Text',fontsize = 20,backgroundcolor = 'k',color = 'white'); # x and y position of start of text"
   ]
  },
  {
   "cell_type": "markdown",
   "metadata": {},
   "source": [
    "## Including Arrows"
   ]
  },
  {
   "cell_type": "code",
   "execution_count": null,
   "metadata": {},
   "outputs": [],
   "source": [
    "plt.plot(new_x,new_y)\n",
    "plt.arrow(18,25,15,-10,width=0.5,head_width=3,color='orange'); # x and y of starting, delta_x and delta_y"
   ]
  },
  {
   "cell_type": "markdown",
   "metadata": {},
   "source": [
    "## Annotations\n",
    "https://matplotlib.org/users/annotations_intro.html"
   ]
  },
  {
   "cell_type": "code",
   "execution_count": null,
   "metadata": {},
   "outputs": [],
   "source": [
    "plt.plot(new_x,new_y)\n",
    "plt.annotate('Main Point', xy=(40, 12), xytext=(5, 25),\n",
    "             arrowprops=dict(facecolor='red',shrink = 0.1),fontsize = 15);\n",
    "\n",
    "# xy is x and y location of the arrow head\n",
    "# xytext is x and y location of the start of the text"
   ]
  },
  {
   "cell_type": "markdown",
   "metadata": {},
   "source": [
    "## Templates\n",
    "There are many design templates.  Here we presents the xkcd (https://www.xkcd.com/373/) template."
   ]
  },
  {
   "cell_type": "code",
   "execution_count": null,
   "metadata": {},
   "outputs": [],
   "source": [
    "with plt.xkcd():\n",
    "    plt.plot(new_x,new_y)\n",
    "    plt.xlabel('X Axis')"
   ]
  },
  {
   "cell_type": "code",
   "execution_count": null,
   "metadata": {},
   "outputs": [],
   "source": []
  }
 ],
 "metadata": {
  "kernelspec": {
   "display_name": "Python 3",
   "language": "python",
   "name": "python3"
  },
  "language_info": {
   "codemirror_mode": {
    "name": "ipython",
    "version": 3
   },
   "file_extension": ".py",
   "mimetype": "text/x-python",
   "name": "python",
   "nbconvert_exporter": "python",
   "pygments_lexer": "ipython3",
   "version": "3.7.3"
  },
  "toc": {
   "base_numbering": 1,
   "nav_menu": {},
   "number_sections": true,
   "sideBar": true,
   "skip_h1_title": false,
   "title_cell": "Table of Contents",
   "title_sidebar": "Contents",
   "toc_cell": false,
   "toc_position": {
    "height": "calc(100% - 180px)",
    "left": "10px",
    "top": "150px",
    "width": "165px"
   },
   "toc_section_display": true,
   "toc_window_display": true
  }
 },
 "nbformat": 4,
 "nbformat_minor": 2
}
