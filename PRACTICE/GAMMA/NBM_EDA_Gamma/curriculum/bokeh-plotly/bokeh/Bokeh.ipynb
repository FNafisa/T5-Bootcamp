{
 "cells": [
  {
   "cell_type": "markdown",
   "metadata": {},
   "source": [
    "## Intro to Bokeh\n",
    "\n",
    "Bokeh is another plotting library for Python. Unlike `matplotlib` or `seaborn`, which serve up images, `bokeh` generates javascript that you can display in a notebook or serve with Flask. Because it isn't just a static image, the end user will still be able to interact with it.\n",
    "\n",
    "### Pros of Bokeh over D3:\n",
    "- Allows us to quickly make standard charts in Python, without having to write Javascript.\n",
    "- Has sensible 'defaults', so we don't have to manually specify everything when making a chart.\n",
    "\n",
    "### Pros of D3 over Bokeh:\n",
    "- Much more customizable. Can also be used for interactive graphics and \"scrollytelling\". See examples of D3 in [this visualization of decision trees](http://www.r2d3.us/visual-intro-to-machine-learning-part-1/), [this article about p-hacking](https://fivethirtyeight.com/features/science-isnt-broken/#part1), the [\"paths to victory\"](https://www.nytimes.com/elections/2012/results/president/scenarios.html), or even the smiley face in the movie sentiment application.\n",
    "\n",
    "**Pick standard visualizations over custom ones, unless the custom ones truly add value**\n",
    "\n",
    "For each custom visualization, the user will have to spend time deciphering what you are communicating. You should make sure that custom visualizations communicate enough that they warrent the extra 'processing power' of the user. For example, I am not a fan of the [NYT graphs on how the recession changed the economy](https://www.nytimes.com/interactive/2014/06/05/upshot/how-the-recession-reshaped-the-economy-in-255-charts.html)."
   ]
  },
  {
   "cell_type": "code",
   "execution_count": null,
   "metadata": {},
   "outputs": [],
   "source": [
    "# imports\n",
    "from bokeh.plotting import figure, show\n",
    "from bokeh.embed import components\n",
    "from bokeh.models import CategoricalColorMapper, HoverTool\n",
    "\n",
    "import numpy as np\n",
    "import pandas as pd\n",
    "from sklearn.datasets import load_iris"
   ]
  },
  {
   "cell_type": "code",
   "execution_count": null,
   "metadata": {},
   "outputs": [],
   "source": [
    "from bokeh.io import output_notebook\n",
    "output_notebook()"
   ]
  },
  {
   "cell_type": "markdown",
   "metadata": {},
   "source": [
    "## 1. Making a simple plot\n",
    "\n",
    "Before we start using dataframes, let's create a very simple scatter plot using Bokeh to understand the basic syntax. The steps are\n",
    "\n",
    "1. Create a plot object `simpleScatterPlot` using `figure`\n",
    "2. Add glyphs to that plot object (e.g. `simpleScatterPlot.<glyph>`, where `<glyph>` is `circle`, `square`, `line`, etc)\n",
    "3. Edit the axis labels\n",
    "4. Show the plot with `show(simpleScatterPlot)`\n",
    "\n",
    "The show command opens a new browser window with the plot in it. Note that you can zoom the graph, as well as pan the viewport."
   ]
  },
  {
   "cell_type": "code",
   "execution_count": null,
   "metadata": {},
   "outputs": [],
   "source": [
    "# simple plot\n",
    "simpleScatterPlot = figure(plot_width=600, plot_height=600)\n",
    "\n",
    "x = [1,2,3,4,5,6]\n",
    "y = [5,4,3,2,1,0]\n",
    "\n",
    "simpleScatterPlot.circle(x, y, size=10, color='firebrick', alpha=0.7)\n",
    "\n",
    "simpleScatterPlot.xaxis.axis_label='x'\n",
    "simpleScatterPlot.yaxis.axis_label='y'\n",
    "\n",
    "# generate above in an html file, make sure pop-up blockers aren't hindering the render\n",
    "show(simpleScatterPlot)"
   ]
  },
  {
   "cell_type": "markdown",
   "metadata": {},
   "source": [
    "We can also see that glyphs are additive: we can add multiple glyphs to the same graph"
   ]
  },
  {
   "cell_type": "code",
   "execution_count": null,
   "metadata": {},
   "outputs": [],
   "source": [
    "# new simple plot\n",
    "simpleScatterPlot = figure(plot_width=600, plot_height=600)\n",
    "\n",
    "simpleScatterPlot.circle(x, y, size=10, color='firebrick', alpha=0.7)\n",
    "simpleScatterPlot.square(x, y, size=6, color='yellow', alpha=0.7)\n",
    "simpleScatterPlot.circle(x, y, size=3, color='black', alpha=0.7)\n",
    "simpleScatterPlot.line(x, y, color='purple', alpha=0.7)\n",
    "\n",
    "\n",
    "simpleScatterPlot.xaxis.axis_label='x'\n",
    "simpleScatterPlot.yaxis.axis_label='y'\n",
    "\n",
    "# generate above in an html file, make sure pop-up blockers aren't hindering the render\n",
    "show(simpleScatterPlot)"
   ]
  },
  {
   "cell_type": "markdown",
   "metadata": {},
   "source": [
    "## 2. Making a scatter plot from the iris set\n",
    "\n",
    "The iris dataset needs some unpacking (i.e. we have to extract the columns from the numpy array before we plot). The work can be done on the dataframe itself, or within Bokeh with raw data. Of course, if we used our local `iris.csv` file, we would have clean headers and labels, but using Bokeh solely serves to show how we can tailor our graphs.\n",
    "\n",
    "The basic plotting syntax is:\n",
    "\n",
    "```python\n",
    "plotName.markerGlyph( X, Y, ... formatting options)\n",
    "```\n",
    "\n",
    "We will make a simple scatter plot before jumping into the iris dataset to show the syntax."
   ]
  },
  {
   "cell_type": "markdown",
   "metadata": {},
   "source": [
    "### First do our standard loading and converting into a dataframe"
   ]
  },
  {
   "cell_type": "code",
   "execution_count": null,
   "metadata": {},
   "outputs": [],
   "source": [
    "iris_data = load_iris()"
   ]
  },
  {
   "cell_type": "code",
   "execution_count": null,
   "metadata": {},
   "outputs": [],
   "source": [
    "iris_df = pd.DataFrame(iris_data['data'], columns=iris_data['feature_names'])\n",
    "iris_df['target'] = iris_data['target']\n",
    "iris_df['target_names'] = iris_df['target'].apply(lambda x: iris_data['target_names'][x] )\n",
    "iris_df.head()"
   ]
  },
  {
   "cell_type": "markdown",
   "metadata": {},
   "source": [
    "### 2.1 Make a basic scatter plot"
   ]
  },
  {
   "cell_type": "code",
   "execution_count": null,
   "metadata": {},
   "outputs": [],
   "source": [
    "# now in the iris dataset:\n",
    "scatterPlot = figure(plot_width=600, plot_height=600)\n",
    "\n",
    "color_mapper = CategoricalColorMapper(factors = iris_data['target_names'], \n",
    "                                     palette=['#449D66', '#D46666', '#6688EC']) # pick our colors with hex, rgba, etc.\n",
    "\n",
    "scatterPlot.circle('petal length (cm)', 'petal width (cm)', \n",
    "                   source=iris_df, legend_label='target_names', size=10,\n",
    "                   color={\n",
    "                       'field': 'target_names',\n",
    "                       'transform': color_mapper\n",
    "                   })\n",
    "\n",
    "scatterPlot.xaxis.axis_label = iris_data['feature_names'][2]\n",
    "scatterPlot.yaxis.axis_label = iris_data['feature_names'][3]\n",
    "\n",
    "scatterPlot.legend.location = 'bottom_right'\n",
    "scatterPlot.legend.background_fill_color = '#f9e9b6'\n",
    "\n",
    "show(scatterPlot)"
   ]
  },
  {
   "cell_type": "markdown",
   "metadata": {},
   "source": [
    "**Basic idea with Bokeh:**\n",
    "1. Make a plot by calling `figure`. You can set some overall parameters here (e.g. plot size, and x and y axes)\n",
    "2. On your figure, add glyphs (i.e., circles, squares, triangles, etc) that represent your data. You can do this either in \"matplotlib style\":\n",
    "```python\n",
    "# first series\n",
    "figure.circle(X1, Y1, .......formatting options for series 1 .....)\n",
    "# seconds series\n",
    "figure.circle(X2, Y2, .......formatting options for series 1 .....)\n",
    "```\n",
    "or \"seaborn style\":\n",
    "```python\n",
    "figure.circle('col1', 'col2', source=df, ......)\n",
    "```\n",
    "3. Add interactive elements (not seen yet)\n",
    "4. Add final touches to overall plot (e.g. legend location, setting axis titles)\n",
    "5. Display to screen (seen), or make javascript and HTML divs (shown when we use Flask)\n",
    "\n",
    "Some of the formatting options are a little complicated. In the example above, the color of the circle was a dictionary:\n",
    "```python\n",
    "scatterPlot.circle('petal length (cm)', 'petal width (cm)', \n",
    "                   source=iris_df, legend='target_names', size=10,\n",
    "                   color={\n",
    "                       'field': 'target_names',\n",
    "                       'transform': color_mapper\n",
    "                   })\n",
    "```\n",
    "The value of `'field'` is the name of the column that we are going to use to determine the color (in this case, the `target_names` column of `iris_df`). The `color_mapper` takes in color names, and returns strings representing the hex color code."
   ]
  },
  {
   "cell_type": "markdown",
   "metadata": {},
   "source": [
    "### 2.2 Let's make a tooltip!\n",
    "\n",
    "Tooltips show up when you hover over a data point. We can make them pretty easily; our tooltips are a list of tuples of the form `( string for title of tooltip, string for accessing information )`. The title string can be whatever we want. The accessory information takes one of two formats\n",
    "- Getting information from the graph, usually `$x` (get the x coordinate) or `$y` (get the y coordinate)\n",
    "- Getting information from the dataframe used in `source` when creating the figure. To get the data from column `'colname'`, use `@colname`.\n",
    "\n",
    "For example, on the car dataset, hovering over a datapoint would display a box showing mpg, weight, and length:\n",
    "\n",
    "```python\n",
    "tooltips = [\n",
    "    ('Miles per gallon (mpg)', '@mpg'),\n",
    "    ('Weight (lbs)', '@weight'),\n",
    "    ('Length', '@length')\n",
    "]\n",
    "```"
   ]
  },
  {
   "cell_type": "code",
   "execution_count": null,
   "metadata": {},
   "outputs": [],
   "source": [
    "# Note that we could add sepal information as well, if the column\n",
    "# names didn't have spaces in them. For example, we would have\n",
    "# ('Sepal length', '@sepal_length')\n",
    "\n",
    "tooltips = [\n",
    "    (\"Petal width\", \"$y\"),\n",
    "    (\"Petal length\", \"$x\"),\n",
    "    (\"Flower type\", \"@target_names\")\n",
    "]\n",
    "\n",
    "hover = HoverTool(tooltips=tooltips)\n",
    "scatterPlot.add_tools(hover)\n",
    "\n",
    "show(scatterPlot)"
   ]
  },
  {
   "cell_type": "markdown",
   "metadata": {},
   "source": [
    "## 3. Making a line chart (using a different data set)\n",
    "\n",
    "The iris dataset isn't great for line graphs, as the irises don't have any particular order. Time data, such as the rainfall in Chicago, is a much better example of where we would use a line chart. Let's plot the Chicago rainfall per day"
   ]
  },
  {
   "cell_type": "code",
   "execution_count": null,
   "metadata": {},
   "outputs": [],
   "source": [
    "chicago_df = pd.read_csv('chicago-weather.csv', parse_dates=['DATE'])\n",
    "chicago_df.head()"
   ]
  },
  {
   "cell_type": "code",
   "execution_count": null,
   "metadata": {},
   "outputs": [],
   "source": [
    "rain_plot = figure(plot_width = 600, plot_height=600, \n",
    "                   x_axis_label=\"Date\", y_axis_label=\"mm of rain\",\n",
    "                   x_axis_type=\"datetime\")\n",
    "\n",
    "rain_plot.line('DATE', 'RAIN_mm', source=chicago_df)\n",
    "\n",
    "rain_plot.title.text = \"Chicago Rainfall (2017)\"\n",
    "rain_plot.title.align = \"center\"\n",
    "rain_plot.title.text_color = \"#4343FD\"\n",
    "rain_plot.title.text_font_size = \"25px\"\n",
    "rain_plot.title.background_fill_color = \"#ADADAD\"\n",
    "\n",
    "show(rain_plot)"
   ]
  },
  {
   "cell_type": "markdown",
   "metadata": {},
   "source": [
    "## 4. Graphs on Maps\n",
    "\n",
    "This is a fun example taken verbatim from the Bokeh documentation. Just as sklearn has built in datasets, `bokeh` does as well (including a map of the US, US counties, and US airports). Let's start by downloading the sample data (not included with a default install)."
   ]
  },
  {
   "cell_type": "code",
   "execution_count": null,
   "metadata": {},
   "outputs": [],
   "source": [
    "from bokeh import sampledata\n",
    "\n",
    "sampledata.download() # this may take up to a minute"
   ]
  },
  {
   "cell_type": "code",
   "execution_count": null,
   "metadata": {},
   "outputs": [],
   "source": [
    "# create US employment map\n",
    "\n",
    "from bokeh.sampledata import us_states, us_counties, unemployment\n",
    "\n",
    "us_states = us_states.data.copy()\n",
    "us_counties = us_counties.data.copy()\n",
    "unemployment = unemployment.data\n",
    "\n",
    "del us_states[\"HI\"]\n",
    "del us_states[\"AK\"]\n",
    "\n",
    "state_xs = [us_states[code][\"lons\"] for code in us_states]\n",
    "state_ys = [us_states[code][\"lats\"] for code in us_states]\n",
    "\n",
    "county_xs=[us_counties[code][\"lons\"] for code in us_counties if us_counties[code][\"state\"] not in [\"ak\", \"hi\", \"pr\", \"gu\", \"vi\", \"mp\", \"as\"]]\n",
    "county_ys=[us_counties[code][\"lats\"] for code in us_counties if us_counties[code][\"state\"] not in [\"ak\", \"hi\", \"pr\", \"gu\", \"vi\", \"mp\", \"as\"]]\n",
    "\n",
    "colors = [\"#F1EEF6\", \"#D4B9DA\", \"#C994C7\", \"#DF65B0\", \"#DD1C77\", \"#980043\"]\n",
    "\n",
    "county_colors = []\n",
    "for county_id in us_counties:\n",
    "    if us_counties[county_id][\"state\"] in [\"ak\", \"hi\", \"pr\", \"gu\", \"vi\", \"mp\", \"as\"]:\n",
    "        continue\n",
    "    try:\n",
    "        rate = unemployment[county_id]\n",
    "        idx = min(int(rate/2), 5)\n",
    "        county_colors.append(colors[idx])\n",
    "    except KeyError:\n",
    "        county_colors.append(\"black\")\n",
    "\n",
    "p = figure(title=\"US Unemployment 2009\", toolbar_location=\"left\",\n",
    "    plot_width=1100, plot_height=700)\n",
    "\n",
    "p.patches(county_xs, county_ys, fill_color=county_colors, fill_alpha=0.7,\n",
    "    line_color=\"white\", line_width=0.5)\n",
    "p.patches(state_xs, state_ys, fill_alpha=0.0,\n",
    "    line_color=\"#884444\", line_width=2)\n",
    "\n",
    "show(p)"
   ]
  },
  {
   "cell_type": "markdown",
   "metadata": {},
   "source": [
    "## 4. Make a histogram from the iris dataset"
   ]
  },
  {
   "cell_type": "markdown",
   "metadata": {},
   "source": [
    "Making a histogram with Bokeh is more complicated than the other graphs. Bokeh doesn't have binning logic built into it to make sensible divisions, but it can draw rectangles given arrays for the values of the `top`, `bottom`, `left` and `right` sides of the rectangles. \n",
    "\n",
    "We will use numpy's `np.histogram` command to generate the locations of the rectangle sides, and then build the rectangles (a `quad` for quadralateral) glyph."
   ]
  },
  {
   "cell_type": "code",
   "execution_count": null,
   "metadata": {},
   "outputs": [],
   "source": [
    "# Create the figure with only the save tool showing\n",
    "fig = figure(title='Plot of iris data', \n",
    "             tools=\"save\", background_fill_color=\"#E8DDCB\")\n",
    "\n",
    "# Process the iris data by species, and assign colors\n",
    "fill_color = ['#036564', '#650364', '#656503']\n",
    "line_color = ['#033649', '#033649', '#033649']\n",
    "\n",
    "for index, species in enumerate(iris_data['target_names']):\n",
    "    # select the petal length column for all petals of this species\n",
    "    petal_length = iris_data['data'][iris_data['target'] == index, 2]\n",
    "    my_hist, my_edges = np.histogram(petal_length, bins = 20)\n",
    "    fig.quad(top=my_hist, bottom=0, left=my_edges[:-1], right=my_edges[1:],\n",
    "             fill_color=fill_color[index], line_color=line_color[index],\n",
    "             legend_label=iris_data['target_names'][index])"
   ]
  },
  {
   "cell_type": "code",
   "execution_count": null,
   "metadata": {},
   "outputs": [],
   "source": [
    "fig.xaxis.axis_label = 'Petal length (mm)'\n",
    "fig.yaxis.axis_label = 'Count'"
   ]
  },
  {
   "cell_type": "code",
   "execution_count": null,
   "metadata": {},
   "outputs": [],
   "source": [
    "show(fig)"
   ]
  },
  {
   "cell_type": "markdown",
   "metadata": {},
   "source": [
    "## 5. Make a histogram from generated data"
   ]
  },
  {
   "cell_type": "markdown",
   "metadata": {},
   "source": [
    "The histogram is certainly a lot harder to create than the pandas `df['col_name'].hist()`!\n",
    "\n",
    "So far, we have seen that Bokeh has the following benfits:\n",
    "- the generated graph is interactive (which can be a plus for exploration, but a negative for static reporting)\n",
    "- for non-histograms, it has generally been pretty intuitive to \"add\" different glyph types\n",
    "The big use case is being able to generate the HTML needed to display the graph, so that when new data comes in, we are able to update the graph live in a webapp.\n",
    "\n",
    "We will first show how to generate a histogram from randomly generated data (simulating new data we collected); in the next section we will show the piece we have to add to get the HTML we can use in Flask.\n"
   ]
  },
  {
   "cell_type": "code",
   "execution_count": null,
   "metadata": {},
   "outputs": [],
   "source": [
    "import numpy as np\n",
    "\n",
    "measured = np.random.normal(0, 1, 1000)\n",
    "\n",
    "hist, edges = np.histogram(measured, density=True, bins=50)\n",
    "\n",
    "fig_random = figure(title='Plot of random data', \n",
    "                    tools=\"save\",\n",
    "                    background_fill_color=\"#E8DDCB\")\n",
    "\n",
    "fig_random.quad(top=hist, bottom=0, left=edges[:-1], right=edges[1:],\n",
    "                fill_color=\"#036564\", line_color=\"#033649\")"
   ]
  },
  {
   "cell_type": "code",
   "execution_count": null,
   "metadata": {},
   "outputs": [],
   "source": [
    "show(fig_random)"
   ]
  },
  {
   "cell_type": "markdown",
   "metadata": {},
   "source": [
    "## Optional: Using with Flask"
   ]
  },
  {
   "cell_type": "markdown",
   "metadata": {},
   "source": [
    "Ok, so we have seen how to generate histograms, bar charts, line charts, and scatter plots from Bokeh.\n",
    "\n",
    "We will use the `components` function from `bokeh.embed` to actually generate the javascript and div that we need to put on a webpage inside `app.py`. The general syntax is\n",
    "```python\n",
    "javascript, div = component(figure_object)\n",
    "```\n",
    "where the returned `javascript` and `div` are both strings that should get copied into the HTML (we will do this using templates).\n",
    "\n",
    "If you look inside `app.py`, you will see the index function has the code for generated a random histogram in a function called index, as well as the `javascript, div = components(fig)` line."
   ]
  },
  {
   "cell_type": "code",
   "execution_count": null,
   "metadata": {},
   "outputs": [],
   "source": [
    "# Look at app.py!\n",
    "!cat app.py"
   ]
  },
  {
   "cell_type": "markdown",
   "metadata": {},
   "source": [
    "We can look inside the `templates/index.html` file to see how `javascript` and `div` are being used:"
   ]
  },
  {
   "cell_type": "code",
   "execution_count": null,
   "metadata": {},
   "outputs": [],
   "source": [
    "!cat templates/index.html"
   ]
  },
  {
   "cell_type": "markdown",
   "metadata": {},
   "source": [
    "This will make a little more sense after the Flask lecture =). The basic idea is that the `{{div | safe}}` code says \"take what is in the variable `div`, and paste its value here\". This is similar to the f-string in Python when we use one curly brace, i.e.\n",
    "\n",
    "Python `f\"{div}` is similar to Flask's `{{div | safe}}`. The `safe` is to let Flask know that we are running code, and that we trust that code (it is \"safe\" to run).\n",
    "\n",
    "To see it in action, run `python app.py` from the command line in this directory."
   ]
  },
  {
   "cell_type": "code",
   "execution_count": null,
   "metadata": {},
   "outputs": [],
   "source": []
  }
 ],
 "metadata": {
  "kernelspec": {
   "display_name": "Python [conda env:metis] *",
   "language": "python",
   "name": "conda-env-metis-py"
  },
  "language_info": {
   "codemirror_mode": {
    "name": "ipython",
    "version": 3
   },
   "file_extension": ".py",
   "mimetype": "text/x-python",
   "name": "python",
   "nbconvert_exporter": "python",
   "pygments_lexer": "ipython3",
   "version": "3.8.6"
  },
  "toc": {
   "base_numbering": 1,
   "nav_menu": {},
   "number_sections": false,
   "sideBar": true,
   "skip_h1_title": false,
   "title_cell": "Table of Contents",
   "title_sidebar": "Contents",
   "toc_cell": false,
   "toc_position": {},
   "toc_section_display": true,
   "toc_window_display": true
  }
 },
 "nbformat": 4,
 "nbformat_minor": 2
}
