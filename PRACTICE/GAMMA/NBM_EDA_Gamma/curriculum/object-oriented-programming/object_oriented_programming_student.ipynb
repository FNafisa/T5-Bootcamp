{
 "cells": [
  {
   "cell_type": "markdown",
   "metadata": {},
   "source": [
    "# Learning Objectives\n",
    "By the end of the lecture, the students should:  \n",
    "- Have some intuition about what object oriented programming is\n",
    "- Understand why OOP is important\n",
    "- Know that they've already made use of OOP by using pandas\n",
    "- Know how to define their own simple classes\n",
    "- Vaguely understand the concept of inheritance\n"
   ]
  },
  {
   "cell_type": "markdown",
   "metadata": {},
   "source": [
    "# Version Checking"
   ]
  },
  {
   "cell_type": "code",
   "execution_count": null,
   "metadata": {},
   "outputs": [],
   "source": [
    "import sys\n",
    "print(\"Python Version:\", sys.version, '\\n')"
   ]
  },
  {
   "cell_type": "markdown",
   "metadata": {},
   "source": [
    "# Object Oriented Programming (OOP)\n",
    "\n",
    "There's a common problem that comes up with programming. Let's examine it by thinking about how we might design a game, starting by examining this screen shot from Super Mario Brothers, the Nintendo game.\n",
    "\n",
    "<img src=\"images/smb_screenshot.jpg\" style=\"max-width:50%; float:left; margin-right:20px;\">\n",
    "\n",
    "So there's a lot to unpack here, but let's focus on a few things. First, notice the characters on the right side of the screen. These are known as \"goombas\" and they are one of the main enemies that Mario must overcome. That's all well and good, but when you start thinking about how you might program those, it raises an interesting question: **do I have write code for every individual goomba?**\n",
    "\n",
    "Spoiler alert: no, you don't. \n",
    "\n",
    "Instead we're going to try to write the code for \"what makes a goomba and how does that goomba behave\" one time, then ask the code to reuse it over and over. So what do we need from that type of code:\n",
    "\n",
    "* Each goomba can be tracked individually. If one moves, it doesn't change the location of the other one.\n",
    "* Each goomba follows the same set of rules. If we define that a goomba always walks left until it hits something, then all goombas must follow those rules.\n",
    "* We want to be able to have the goomba do things, and remember things about itself (like how healthy it feels). \n",
    "* We want to be able to control where the goomba's start their journey's so we can tweak each one to be slightly unique, while still following the main rules.\n",
    "\n",
    "So in pseudo-code we want something that looks like this:\n",
    "\n",
    "```python\n",
    "\n",
    "goomba_type(starting_x, starting_y):\n",
    "    goomba.health = 1\n",
    "    gommba.speed = 1\n",
    "    goomba.x_location = starting_x\n",
    "    goomba.y_location = starting_y\n",
    "    \n",
    "    def goomba_walk_left():\n",
    "        goomba.x_location -= goomba.speed\n",
    "        \n",
    "goomba1 = goomba_type(10,0)\n",
    "goomba2 = goomba_type(7,0)\n",
    "```\n",
    "\n",
    "which defines what makes a goomba, has the ability to make the goomba walk, and allows us to make multiple goombas that are independent of one another. Let's go build something like this, but in real python."
   ]
  },
  {
   "cell_type": "markdown",
   "metadata": {},
   "source": [
    "# OOP in practice\n",
    "\n",
    "The whole idea of OOP is that when we standardize our code, we can make use of it over and over. Just like functions, classes allow us a method to do this, but classes allow us to have multiple instances of everything. It's a bit hard to explain without an example. Let's start with the classic example of building out a basic character interaction system for a video game. "
   ]
  },
  {
   "cell_type": "code",
   "execution_count": null,
   "metadata": {},
   "outputs": [],
   "source": [
    "class Character: # we define the behavior of something by making it a class\n",
    "    \n",
    "    def __init__(self, name=None): # These are commands that happen when a new member of the class is created\n",
    "        self.health=10\n",
    "        self.speed = 2 # This is known as an attribute. It's a property of the object\n",
    "        self.strength = 1\n",
    "        self.alive = True\n",
    "        self.name = name\n",
    "        \n",
    "    def heal(self, HP): # This is known as a method (it's a function inside of a class)\n",
    "        self.health += HP\n",
    "        \n",
    "    def damage(self, HP):\n",
    "        self.health -= HP\n",
    "        self.check_death()\n",
    "        \n",
    "    def check_death(self):\n",
    "        if self.health <= 0:\n",
    "            print(\"The target has perished!\")\n",
    "            self.alive = False"
   ]
  },
  {
   "cell_type": "markdown",
   "metadata": {},
   "source": [
    "**Note:** The first line `class Character:` is shorthand for `class Character(object):` referencing the default Python object `object`. Any time we use `self`, we are referencing the defined `Character` object (class) it**self**!\n",
    "\n",
    "We've defined how we want our class to behave, now let's make some instances of the class (aka \"objects\")."
   ]
  },
  {
   "cell_type": "code",
   "execution_count": null,
   "metadata": {},
   "outputs": [],
   "source": [
    "bob = Character(name='bob')\n",
    "charlie = Character()"
   ]
  },
  {
   "cell_type": "markdown",
   "metadata": {},
   "source": [
    "Now let's check out some of the attributes. We can get to the attributes by asking each instance of the class to tell us one of the keywords we set above using the `variable_name.attribute_name` notation."
   ]
  },
  {
   "cell_type": "code",
   "execution_count": null,
   "metadata": {},
   "outputs": [],
   "source": [
    "print(bob.name, charlie.name) # think of second object as a nameless one that's stored in a bucked labeled Charlie"
   ]
  },
  {
   "cell_type": "code",
   "execution_count": null,
   "metadata": {},
   "outputs": [],
   "source": [
    "print(\"Bob health: \", bob.health)\n",
    "print(\"Charlie Health: \", charlie.health)"
   ]
  },
  {
   "cell_type": "markdown",
   "metadata": {},
   "source": [
    "To use a method, we also use `variable_name.method_name()` notation, but note the `()` are required. Also note that when `bob` changes, `charlie` does not!"
   ]
  },
  {
   "cell_type": "code",
   "execution_count": null,
   "metadata": {},
   "outputs": [],
   "source": [
    "charlie.damage(1)\n",
    "print(\"Bob health: \", bob.health)\n",
    "print(\"Charlie Health: \", charlie.health)"
   ]
  },
  {
   "cell_type": "code",
   "execution_count": null,
   "metadata": {},
   "outputs": [],
   "source": [
    "charlie.speed = 25\n",
    "print(\"Bob speed: \", bob.speed)\n",
    "print(\"Charlie speed: \", charlie.speed)"
   ]
  },
  {
   "cell_type": "markdown",
   "metadata": {},
   "source": [
    "#### Aside: A slightly more practical application of simple classes"
   ]
  },
  {
   "cell_type": "markdown",
   "metadata": {},
   "source": [
    "More generally, if we were reading some information and needed to store it somehow, we could uses classes to do that. For instance imagine we're reading a sales table. Let's start by defining how we want each record to \"behave\" then we'll actually allow that class to organize how we think about things."
   ]
  },
  {
   "cell_type": "code",
   "execution_count": null,
   "metadata": {},
   "outputs": [],
   "source": [
    "class SalesRecord:\n",
    "    \n",
    "    def __init__(self):\n",
    "        self.purchase_id = 0\n",
    "        self.customer_id = 0\n",
    "        self.item_id = 0\n",
    "        self.sale = 0\n",
    "    \n",
    "    def parse_row(self, row_as_string):    # example of a descriptive argument\n",
    "        record = row_as_string.split(',')  # but it's not colored so there's no magic happinging\n",
    "        self.purchase_id = int(record[0])\n",
    "        self.customer_id = int(record[1])\n",
    "        self.item_id = int(record[2])\n",
    "        self.sale = float(record[3])\n",
    "    \n",
    "    def __repr__(self):\n",
    "        return f\"<SalesRecord purchase_id={self.purchase_id}, customer_id={self.customer_id}>\""
   ]
  },
  {
   "cell_type": "markdown",
   "metadata": {},
   "source": [
    "Now let's read a CSV with some test sales information in it, and each new line will be put into the class format."
   ]
  },
  {
   "cell_type": "code",
   "execution_count": null,
   "metadata": {},
   "outputs": [],
   "source": [
    "records = []\n",
    "with open('data/test_sales.csv') as f:\n",
    "    for line in f.readlines():\n",
    "        sr = SalesRecord()\n",
    "        sr.parse_row(line)\n",
    "        records.append(sr)"
   ]
  },
  {
   "cell_type": "code",
   "execution_count": null,
   "metadata": {
    "scrolled": true
   },
   "outputs": [],
   "source": [
    "print(records)  # memory addresses\n",
    "                # to get better prints we could make a __repr__ method and format our output"
   ]
  },
  {
   "cell_type": "markdown",
   "metadata": {},
   "source": [
    "Neat! We created a list of records. What did that actually do for us? Now instead of having to remember a bunch of column numbers, we can just ask for the sales information directly."
   ]
  },
  {
   "cell_type": "code",
   "execution_count": null,
   "metadata": {},
   "outputs": [],
   "source": [
    "for rec in records:\n",
    "    print(rec.sale)"
   ]
  },
  {
   "cell_type": "markdown",
   "metadata": {},
   "source": [
    "This means we don't have to store a list of lists, or a list of lists of dictionaries of lists... or anything like that. If we create a class, we can just store class objects that we can iterate through and act upon. Let's go back to our game example. "
   ]
  },
  {
   "cell_type": "code",
   "execution_count": null,
   "metadata": {},
   "outputs": [],
   "source": [
    "our_heroes = [Character(),Character(),Character()]\n",
    "\n",
    "def check_if_team_alive(team):\n",
    "    for hero in team:\n",
    "        if hero.alive:\n",
    "            return True\n",
    "    return False\n",
    "\n",
    "check_if_team_alive(our_heroes)"
   ]
  },
  {
   "cell_type": "code",
   "execution_count": null,
   "metadata": {},
   "outputs": [],
   "source": [
    "import numpy as np\n",
    "\n",
    "our_heroes = [Character(),Character(),Character()]\n",
    "\n",
    "while check_if_team_alive(our_heroes):\n",
    "    who_gets_hit = np.random.choice(our_heroes)\n",
    "    while not who_gets_hit.alive:\n",
    "        who_gets_hit = np.random.choice(our_heroes) # note we can't ensure a live selection, so we use a while loop\n",
    "    who_gets_hit.damage(np.random.randint(1,2))\n",
    "    print(who_gets_hit.health,)"
   ]
  },
  {
   "cell_type": "markdown",
   "metadata": {},
   "source": [
    "### Exercise 1\n",
    "\n",
    "Create a class called \"pet\" and have some class variables (minimum: pet name, species, and number of lives [e.g. cats have 9]). Make sure the user can specify all those things. Write a function that can remove 1 life at a time. We'll be using this class in exercise 2, so write it well!"
   ]
  },
  {
   "cell_type": "code",
   "execution_count": null,
   "metadata": {},
   "outputs": [],
   "source": [
    "# Your code here!"
   ]
  },
  {
   "cell_type": "code",
   "execution_count": null,
   "metadata": {},
   "outputs": [],
   "source": []
  },
  {
   "cell_type": "code",
   "execution_count": null,
   "metadata": {},
   "outputs": [],
   "source": []
  },
  {
   "cell_type": "markdown",
   "metadata": {},
   "source": [
    "## Okay. All neat and stuff, but why does this matter?\n",
    "\n",
    "The reason this matters is, you've been using all of this stuff already. Let's think about some classes that you might not even know you were using. "
   ]
  },
  {
   "cell_type": "code",
   "execution_count": null,
   "metadata": {},
   "outputs": [],
   "source": [
    "import numpy as np\n",
    "\n",
    "a = np.array([1,2,3,4,5,6])\n",
    "b = np.array([4,5,6,7,8,10])\n",
    "\n",
    "a.shape"
   ]
  },
  {
   "cell_type": "markdown",
   "metadata": {},
   "source": [
    "Based on our previous discussion, why are we able to just ask the numpy array for some information by using `a.thing` notation? \n",
    "\n",
    "It's because numpy array's are a class that has attributes. The class is called `array` and the attribute in this case is called `shape`. If that's true, then what is `a.reshape()`?"
   ]
  },
  {
   "cell_type": "code",
   "execution_count": null,
   "metadata": {},
   "outputs": [],
   "source": [
    "a.reshape(2,3)"
   ]
  },
  {
   "cell_type": "markdown",
   "metadata": {},
   "source": [
    "That's a method that acts on arrays. Okay... well that's just one example. "
   ]
  },
  {
   "cell_type": "code",
   "execution_count": null,
   "metadata": {},
   "outputs": [],
   "source": [
    "import pandas as pd\n",
    "\n",
    "df = pd.DataFrame(a.reshape(2,3))\n",
    "df2 = pd.DataFrame(b.reshape(3,2))\n",
    "df.head()"
   ]
  },
  {
   "cell_type": "code",
   "execution_count": null,
   "metadata": {},
   "outputs": [],
   "source": [
    "df2.head()"
   ]
  },
  {
   "cell_type": "markdown",
   "metadata": {},
   "source": [
    "DataFrames are also classes. Every dataframe has the same expected behavior and we're allowed to have many of them that all remember things about themselves. Even more meta, DataFrames are made up of Series. What is a Series?"
   ]
  },
  {
   "cell_type": "code",
   "execution_count": null,
   "metadata": {},
   "outputs": [],
   "source": [
    "df[0].value_counts()"
   ]
  },
  {
   "cell_type": "markdown",
   "metadata": {},
   "source": [
    "Series are also classes. They have methods (like `value_counts`) and attributes (like `dtype`)"
   ]
  },
  {
   "cell_type": "markdown",
   "metadata": {},
   "source": [
    "## The Importance of Inheritance\n",
    "\n",
    "<img src=\"images/smb_screenshot2.jpg\" style=\"max-width:50%; float:right; margin-left:20px;\">\n",
    "\n",
    "Let's go back to thinking about Mario again. In Mario, there are many different types of enemies. We've already seen the goomba, but now let's introduce the Koopa (bird turtle thing on the right of the image). If we want to include this next enemy type, we have two options:\n",
    "\n",
    "* Write the entire class from scratch, duplicating a lot of the work we already did with the Goomba.\n",
    "* Steal the parts of the goomba that we want to keep, then edit the rest to make it special to the Koopa.\n",
    "\n",
    "Idea 2 is the whole point of inheritance. It allows us to \"inherit\" bits and pieces of another class which we can then specialize into our new class. Inheritance also allows us to make some generic over-arching classes that 'feed' into more specific classes. To demonstrate: let's use 'character' as our baseline and then make some more specific classes."
   ]
  },
  {
   "cell_type": "code",
   "execution_count": null,
   "metadata": {},
   "outputs": [],
   "source": [
    "class Goblin(Character): # here we're creating the Goblin class, but telling it \n",
    "                         # to use \"Character class\" as its base\n",
    "    def __init__(self):\n",
    "        self.health = 5 # This will over write the health setting from Character\n",
    "        self.speed = 1 # This will over write the speed setting from Character\n",
    "        \n",
    "        self.stench = 10000 # this is a property specific to Goblin class\n",
    "        \n",
    "    # We don't need to re-do the damage/heal functions since we've \n",
    "    # INHERITED those from our parent \"Character\" class"
   ]
  },
  {
   "cell_type": "code",
   "execution_count": null,
   "metadata": {},
   "outputs": [],
   "source": [
    "gb = Goblin()\n",
    "gb.health"
   ]
  },
  {
   "cell_type": "markdown",
   "metadata": {},
   "source": [
    "What about `.strength`, `.name`, and `.alive`from the `__init__` of the inherited `Character` class? *(See a couple of cells below for a recapitulation of that class.)*"
   ]
  },
  {
   "cell_type": "code",
   "execution_count": null,
   "metadata": {},
   "outputs": [],
   "source": [
    "# Try to run any of these, and you'll find you get an error\n",
    "# gb.strength\n",
    "# gb.name\n",
    "gb.alive"
   ]
  },
  {
   "cell_type": "markdown",
   "metadata": {},
   "source": [
    "`.strength`, `.alive`, and `.name` will not be passed along to `Goblin(Character)`, since the new `__init__` completely supercedes the old one! Now, let's try using the `.damage` method, even though we didn't write it explicitly in the `Goblin` class. Recall:\n",
    "\n",
    "```python\n",
    "class Character:\n",
    "    \n",
    "    def __init__(self, name=None):\n",
    "        self.health = 10  # If this is set to 5 ...\n",
    "        self.speed = 2\n",
    "        self.strength = 1\n",
    "        self.alive = True\n",
    "        self.name = name\n",
    "        \n",
    "    def heal(self, HP):\n",
    "        self.health += HP\n",
    "        \n",
    "    def damage(self, HP):\n",
    "        self.health -= HP  # And this is also set to 5 ...\n",
    "        self.check_death()\n",
    "        \n",
    "    def check_death(self):\n",
    "        if self.health <= 0:  # Then this must be true ...\n",
    "            print(\"The target has perished!\")\n",
    "            self.alive = False\n",
    "```\n",
    "\n",
    "Notice this `.damage` method calls `.check_death`, and then `.alive` is assigned a value based on `.health`."
   ]
  },
  {
   "cell_type": "code",
   "execution_count": null,
   "metadata": {},
   "outputs": [],
   "source": [
    "gb.damage(5)"
   ]
  },
  {
   "cell_type": "code",
   "execution_count": null,
   "metadata": {},
   "outputs": [],
   "source": [
    "gb.alive"
   ]
  },
  {
   "cell_type": "markdown",
   "metadata": {},
   "source": [
    "#### Initializing a Parent Class\n",
    "\n",
    "Now, let's make another class that requies a name and also has a spiffy new death message using the name. To do this, we need to initalize the parent class within the child class, otherwise we have the issue discussed above."
   ]
  },
  {
   "cell_type": "code",
   "execution_count": null,
   "metadata": {},
   "outputs": [],
   "source": [
    "class Hero(Character):\n",
    "    \n",
    "    def __init__(self,name):\n",
    "        Character.__init__(self,name=name) # Here we're using the Character init function, \n",
    "                                           # but feeding it a value from this init!\n",
    "        \n",
    "    # We don't need to re-do the damage/heal functions since we've \n",
    "    # INHERITED those from our parent \"Character\" class    \n",
    "        \n",
    "    def check_death(self): # This has the same name as the parent and will supercede it!\n",
    "        if self.health <= 0:\n",
    "            print(str(self.name) + \" has perished!\")\n",
    "            self.alive = False"
   ]
  },
  {
   "cell_type": "code",
   "execution_count": null,
   "metadata": {},
   "outputs": [],
   "source": [
    "steve = Hero('steve-o')\n",
    "steve.name"
   ]
  },
  {
   "cell_type": "code",
   "execution_count": null,
   "metadata": {},
   "outputs": [],
   "source": [
    "steve.damage(20)"
   ]
  },
  {
   "cell_type": "markdown",
   "metadata": {},
   "source": [
    "## We can also pass classes into other classes\n",
    "\n",
    "Sometimes we want to layer our classes. Let's make a team of heroes and also incorporate our \"is team alive\" function from above."
   ]
  },
  {
   "cell_type": "code",
   "execution_count": null,
   "metadata": {},
   "outputs": [],
   "source": [
    "class Team:\n",
    "    def __init__(self, h1, h2, h3):\n",
    "        self.hero1 = h1\n",
    "        self.hero2 = h2\n",
    "        self.hero3 = h3\n",
    "        self.team_list = [self.hero1,self.hero2,self.hero3]\n",
    "        \n",
    "    def check_if_team_alive(self):\n",
    "        for hero in self.team_list:\n",
    "            if hero.alive:\n",
    "                return True\n",
    "        return False\n",
    "    \n",
    "good_guys = Team(Hero('steve'),Hero('bob'),Hero('Lord Van Smoot III'))\n",
    "print(good_guys.check_if_team_alive())\n",
    "good_guys.team_list[0].damage(20)\n",
    "print(good_guys.check_if_team_alive())"
   ]
  },
  {
   "cell_type": "code",
   "execution_count": null,
   "metadata": {},
   "outputs": [],
   "source": [
    "good_guys = Team(Hero('steve'),Hero('bob'),Hero('Lord Van Smoot III'))\n",
    "while good_guys.check_if_team_alive():\n",
    "    who_gets_hit = np.random.choice(good_guys.team_list,replace=True)\n",
    "    \n",
    "    while not who_gets_hit.alive:\n",
    "        who_gets_hit = np.random.choice(good_guys.team_list,replace=True)\n",
    "        \n",
    "    who_gets_hit.damage(5)\n",
    "    print(who_gets_hit.health,)"
   ]
  },
  {
   "cell_type": "markdown",
   "metadata": {},
   "source": [
    "### Exercise 2\n",
    "\n",
    "Write two special case classes of the 'pet' class. We want a class called 'cat' and a class called 'dog.' For the cat class make sure lives=9, and add an attribute specific to that class called, \"loves_boxes\" that is a boolean. For the dog class, set lives to 1, add a boolean for \"chases_squirrels\" and add a function called \"current_thoughts\" that returns a random thought the dog might be having."
   ]
  },
  {
   "cell_type": "code",
   "execution_count": null,
   "metadata": {},
   "outputs": [],
   "source": [
    "# Your code here!"
   ]
  },
  {
   "cell_type": "code",
   "execution_count": null,
   "metadata": {},
   "outputs": [],
   "source": []
  },
  {
   "cell_type": "code",
   "execution_count": null,
   "metadata": {},
   "outputs": [],
   "source": []
  }
 ],
 "metadata": {
  "kernelspec": {
   "display_name": "metis",
   "language": "python",
   "name": "metis"
  },
  "language_info": {
   "codemirror_mode": {
    "name": "ipython",
    "version": 3
   },
   "file_extension": ".py",
   "mimetype": "text/x-python",
   "name": "python",
   "nbconvert_exporter": "python",
   "pygments_lexer": "ipython3",
   "version": "3.8.8"
  },
  "toc": {
   "base_numbering": 1,
   "nav_menu": {},
   "number_sections": true,
   "sideBar": true,
   "skip_h1_title": false,
   "title_cell": "Table of Contents",
   "title_sidebar": "Contents",
   "toc_cell": false,
   "toc_position": {},
   "toc_section_display": true,
   "toc_window_display": true
  }
 },
 "nbformat": 4,
 "nbformat_minor": 4
}
