{
 "cells": [
  {
   "cell_type": "markdown",
   "metadata": {
    "id": "eLgXG6MUENUJ"
   },
   "source": [
    "# SQL in Python\n",
    "\n",
    "In this notebook, you'll practice writing SQL code within a Python notebook using `sqlalchemy` and `pandas`.\n"
   ]
  },
  {
   "cell_type": "code",
   "execution_count": 2,
   "metadata": {
    "ExecuteTime": {
     "end_time": "2020-10-27T21:32:22.013654Z",
     "start_time": "2020-10-27T21:32:21.160023Z"
    },
    "id": "ldbZ9mhmFcYu"
   },
   "outputs": [],
   "source": [
    "from sqlalchemy import create_engine\n",
    "import pandas as pd"
   ]
  },
  {
   "cell_type": "markdown",
   "metadata": {
    "id": "-qFF3TVigkNJ"
   },
   "source": [
    "## 1. Connect Python to a Database"
   ]
  },
  {
   "cell_type": "markdown",
   "metadata": {
    "id": "QnziWmfjgS4B"
   },
   "source": [
    "Connect this notebook to the `doctors.db` database using `create_engine` "
   ]
  },
  {
   "cell_type": "code",
   "execution_count": 6,
   "metadata": {
    "ExecuteTime": {
     "end_time": "2020-10-27T21:33:13.013582Z",
     "start_time": "2020-10-27T21:33:13.005757Z"
    },
    "colab": {
     "base_uri": "https://localhost:8080/",
     "height": 34
    },
    "id": "Uq-HjwqjaW22",
    "outputId": "b4e8e41e-6108-4f32-bd76-6f58dfbb55d5"
   },
   "outputs": [
    {
     "data": {
      "text/plain": [
       "Engine(sqlite:///data/doctors.db)"
      ]
     },
     "execution_count": 6,
     "metadata": {},
     "output_type": "execute_result"
    }
   ],
   "source": [
    "engine = create_engine(\"sqlite:///data/doctors.db\")"
   ]
  },
  {
   "cell_type": "markdown",
   "metadata": {
    "id": "UbAMmYE3CCNm"
   },
   "source": [
    "List the *table names* in the database"
   ]
  },
  {
   "cell_type": "code",
   "execution_count": 7,
   "metadata": {
    "ExecuteTime": {
     "end_time": "2020-10-27T21:33:14.862400Z",
     "start_time": "2020-10-27T21:33:14.854442Z"
    },
    "colab": {
     "base_uri": "https://localhost:8080/",
     "height": 34
    },
    "id": "Y-hCnPjWB_T_",
    "outputId": "b759b46a-dcd4-42e7-c2ed-e98290923916"
   },
   "outputs": [
    {
     "data": {
      "text/plain": [
       "['doctors', 'rates']"
      ]
     },
     "execution_count": 7,
     "metadata": {},
     "output_type": "execute_result"
    }
   ],
   "source": [
    "all_tables = engine.table_names()\n",
    "all_tables"
   ]
  },
  {
   "cell_type": "markdown",
   "metadata": {
    "id": "E5yVCEj1gq-T"
   },
   "source": [
    "## 2. Explore the Database"
   ]
  },
  {
   "cell_type": "markdown",
   "metadata": {
    "id": "qaAkofG0DDaj"
   },
   "source": [
    "Write a SQL query using `pd.read_sql()` to show all of the data in the `doctors` table"
   ]
  },
  {
   "cell_type": "code",
   "execution_count": 8,
   "metadata": {
    "ExecuteTime": {
     "end_time": "2020-10-27T21:36:07.517081Z",
     "start_time": "2020-10-27T21:36:07.476093Z"
    },
    "colab": {
     "base_uri": "https://localhost:8080/",
     "height": 204
    },
    "id": "rSUR5KgXBfJF",
    "outputId": "61af4e00-fc07-46ce-f286-2ffd74eece23"
   },
   "outputs": [
    {
     "data": {
      "text/html": [
       "<div>\n",
       "<style scoped>\n",
       "    .dataframe tbody tr th:only-of-type {\n",
       "        vertical-align: middle;\n",
       "    }\n",
       "\n",
       "    .dataframe tbody tr th {\n",
       "        vertical-align: top;\n",
       "    }\n",
       "\n",
       "    .dataframe thead th {\n",
       "        text-align: right;\n",
       "    }\n",
       "</style>\n",
       "<table border=\"1\" class=\"dataframe\">\n",
       "  <thead>\n",
       "    <tr style=\"text-align: right;\">\n",
       "      <th></th>\n",
       "      <th>Name</th>\n",
       "      <th>Day</th>\n",
       "      <th>Location</th>\n",
       "      <th>Details</th>\n",
       "    </tr>\n",
       "  </thead>\n",
       "  <tbody>\n",
       "    <tr>\n",
       "      <th>0</th>\n",
       "      <td>Arthur</td>\n",
       "      <td>Monday</td>\n",
       "      <td>Chicago</td>\n",
       "      <td>Check ups</td>\n",
       "    </tr>\n",
       "    <tr>\n",
       "      <th>1</th>\n",
       "      <td>Arthur</td>\n",
       "      <td>Sunday</td>\n",
       "      <td>Chicago</td>\n",
       "      <td>On call</td>\n",
       "    </tr>\n",
       "    <tr>\n",
       "      <th>2</th>\n",
       "      <td>Dora</td>\n",
       "      <td>Monday</td>\n",
       "      <td>Evanston</td>\n",
       "      <td>Surgery</td>\n",
       "    </tr>\n",
       "    <tr>\n",
       "      <th>3</th>\n",
       "      <td>Dora</td>\n",
       "      <td>Wednesday</td>\n",
       "      <td>Evanston</td>\n",
       "      <td>Surgery</td>\n",
       "    </tr>\n",
       "    <tr>\n",
       "      <th>4</th>\n",
       "      <td>Dora</td>\n",
       "      <td>Sunday</td>\n",
       "      <td>Chicago</td>\n",
       "      <td>On call</td>\n",
       "    </tr>\n",
       "  </tbody>\n",
       "</table>\n",
       "</div>"
      ],
      "text/plain": [
       "     Name        Day  Location    Details\n",
       "0  Arthur     Monday   Chicago  Check ups\n",
       "1  Arthur     Sunday   Chicago    On call\n",
       "2    Dora     Monday  Evanston    Surgery\n",
       "3    Dora  Wednesday  Evanston    Surgery\n",
       "4    Dora     Sunday   Chicago    On call"
      ]
     },
     "execution_count": 8,
     "metadata": {},
     "output_type": "execute_result"
    }
   ],
   "source": [
    "doctors_data = pd.read_sql('SELECT * FROM doctors;', engine)\n",
    "doctors_data"
   ]
  },
  {
   "cell_type": "markdown",
   "metadata": {
    "id": "IMDFvmvlga7s"
   },
   "source": [
    "Check the data type of `doctors_data`."
   ]
  },
  {
   "cell_type": "markdown",
   "metadata": {
    "id": "pMfZvjdohOpz"
   },
   "source": [
    "## 3. Recap\n",
    "\n",
    "Let's pause for a moment and appreciate the magic of `sqlalchemy`.\n",
    "* We were able to connect to a database from a Python notebook\n",
    "* The connection was saved as a Python object and we could run Python methods (`.table_names()`) on a SQL database.\n",
    "* We wrote SQL code within a Python environment.\n",
    "* The output of the SQL code was a `pandas` dataframe"
   ]
  },
  {
   "cell_type": "markdown",
   "metadata": {
    "id": "hT6Gm2fMiWCT"
   },
   "source": [
    "## 4. SQL Practice"
   ]
  },
  {
   "cell_type": "markdown",
   "metadata": {
    "id": "UIga4MUupg57"
   },
   "source": [
    "Write a SQL query using `pd.read_sql()` to show all of the data in the `rates` table"
   ]
  },
  {
   "cell_type": "code",
   "execution_count": 1,
   "metadata": {
    "ExecuteTime": {
     "end_time": "2020-10-27T21:38:53.345022Z",
     "start_time": "2020-10-27T21:38:53.341402Z"
    },
    "colab": {
     "base_uri": "https://localhost:8080/",
     "height": 173
    },
    "id": "bswlVHdbSj3T",
    "outputId": "49f9bb2e-45e3-4905-8d3d-b8cbbfb45dd2"
   },
   "outputs": [],
   "source": [
    "# YOUR CODE HERE"
   ]
  },
  {
   "cell_type": "markdown",
   "metadata": {
    "id": "vaC0Pnu0rGrx"
   },
   "source": [
    "Write a SQL query using `pd.read_sql()` to join the `doctors` and `rates` tables"
   ]
  },
  {
   "cell_type": "code",
   "execution_count": 11,
   "metadata": {
    "ExecuteTime": {
     "end_time": "2020-10-27T21:37:31.803314Z",
     "start_time": "2020-10-27T21:37:31.776237Z"
    },
    "colab": {
     "base_uri": "https://localhost:8080/",
     "height": 204
    },
    "id": "e3d3By5ppDCY",
    "outputId": "11e9b2e3-9455-4850-f897-d3fc2cdab713"
   },
   "outputs": [
    {
     "data": {
      "text/html": [
       "<div>\n",
       "<style scoped>\n",
       "    .dataframe tbody tr th:only-of-type {\n",
       "        vertical-align: middle;\n",
       "    }\n",
       "\n",
       "    .dataframe tbody tr th {\n",
       "        vertical-align: top;\n",
       "    }\n",
       "\n",
       "    .dataframe thead th {\n",
       "        text-align: right;\n",
       "    }\n",
       "</style>\n",
       "<table border=\"1\" class=\"dataframe\">\n",
       "  <thead>\n",
       "    <tr style=\"text-align: right;\">\n",
       "      <th></th>\n",
       "      <th>Name</th>\n",
       "      <th>Day</th>\n",
       "      <th>Location</th>\n",
       "      <th>Details</th>\n",
       "      <th>Day</th>\n",
       "      <th>Location</th>\n",
       "      <th>Rate</th>\n",
       "    </tr>\n",
       "  </thead>\n",
       "  <tbody>\n",
       "    <tr>\n",
       "      <th>0</th>\n",
       "      <td>Arthur</td>\n",
       "      <td>Monday</td>\n",
       "      <td>Chicago</td>\n",
       "      <td>Check ups</td>\n",
       "      <td>Monday</td>\n",
       "      <td>Chicago</td>\n",
       "      <td>90</td>\n",
       "    </tr>\n",
       "    <tr>\n",
       "      <th>1</th>\n",
       "      <td>Arthur</td>\n",
       "      <td>Sunday</td>\n",
       "      <td>Chicago</td>\n",
       "      <td>On call</td>\n",
       "      <td>Sunday</td>\n",
       "      <td>Chicago</td>\n",
       "      <td>20</td>\n",
       "    </tr>\n",
       "    <tr>\n",
       "      <th>2</th>\n",
       "      <td>Dora</td>\n",
       "      <td>Monday</td>\n",
       "      <td>Evanston</td>\n",
       "      <td>Surgery</td>\n",
       "      <td>Monday</td>\n",
       "      <td>Evanston</td>\n",
       "      <td>210</td>\n",
       "    </tr>\n",
       "    <tr>\n",
       "      <th>3</th>\n",
       "      <td>Dora</td>\n",
       "      <td>Wednesday</td>\n",
       "      <td>Evanston</td>\n",
       "      <td>Surgery</td>\n",
       "      <td>Wednesday</td>\n",
       "      <td>Evanston</td>\n",
       "      <td>210</td>\n",
       "    </tr>\n",
       "    <tr>\n",
       "      <th>4</th>\n",
       "      <td>Dora</td>\n",
       "      <td>Sunday</td>\n",
       "      <td>Chicago</td>\n",
       "      <td>On call</td>\n",
       "      <td>Sunday</td>\n",
       "      <td>Chicago</td>\n",
       "      <td>20</td>\n",
       "    </tr>\n",
       "  </tbody>\n",
       "</table>\n",
       "</div>"
      ],
      "text/plain": [
       "     Name        Day  Location    Details        Day  Location Rate\n",
       "0  Arthur     Monday   Chicago  Check ups     Monday   Chicago   90\n",
       "1  Arthur     Sunday   Chicago    On call     Sunday   Chicago   20\n",
       "2    Dora     Monday  Evanston    Surgery     Monday  Evanston  210\n",
       "3    Dora  Wednesday  Evanston    Surgery  Wednesday  Evanston  210\n",
       "4    Dora     Sunday   Chicago    On call     Sunday   Chicago   20"
      ]
     },
     "execution_count": 11,
     "metadata": {},
     "output_type": "execute_result"
    }
   ],
   "source": [
    "# YOUR CODE HERE"
   ]
  }
 ],
 "metadata": {
  "colab": {
   "collapsed_sections": [],
   "name": "eda-sql3-exercises5.ipynb",
   "provenance": []
  },
  "kernelspec": {
   "display_name": "Python 3",
   "language": "python",
   "name": "python3"
  },
  "language_info": {
   "codemirror_mode": {
    "name": "ipython",
    "version": 3
   },
   "file_extension": ".py",
   "mimetype": "text/x-python",
   "name": "python",
   "nbconvert_exporter": "python",
   "pygments_lexer": "ipython3",
   "version": "3.7.3"
  },
  "toc": {
   "base_numbering": 1,
   "nav_menu": {},
   "number_sections": false,
   "sideBar": true,
   "skip_h1_title": false,
   "title_cell": "Table of Contents",
   "title_sidebar": "Contents",
   "toc_cell": false,
   "toc_position": {},
   "toc_section_display": true,
   "toc_window_display": true
  }
 },
 "nbformat": 4,
 "nbformat_minor": 1
}
